{
 "cells": [
  {
   "cell_type": "markdown",
   "id": "54d5576b-1be2-4ba1-9d63-0ec6d890729b",
   "metadata": {},
   "source": [
    "### 1. Print I pattern"
   ]
  },
  {
   "cell_type": "code",
   "execution_count": 2,
   "id": "a8bf9dc1-212b-49d3-9dfa-7b12e7580dae",
   "metadata": {},
   "outputs": [
    {
     "name": "stdout",
     "output_type": "stream",
     "text": [
      "*****\n",
      "  *  \n",
      "  *  \n",
      "  *  \n",
      "  *  \n",
      "  *  \n",
      "*****\n"
     ]
    }
   ],
   "source": [
    "for row in range(7):\n",
    "    for col in range(5):\n",
    "        if (row==0 or row==6) or (col==2 and (row>0 and row<6)):\n",
    "            print('*',end='')\n",
    "        else:\n",
    "            print(end=' ')\n",
    "    print()        "
   ]
  },
  {
   "cell_type": "markdown",
   "id": "fcb916ba-eda8-4592-93d4-d1a7060c2bff",
   "metadata": {},
   "source": [
    "### 2. Print J pattern."
   ]
  },
  {
   "cell_type": "code",
   "execution_count": 9,
   "id": "375bce48-b6dc-4ac2-8b64-9e0dad0013bb",
   "metadata": {},
   "outputs": [
    {
     "name": "stdout",
     "output_type": "stream",
     "text": [
      "*****\n",
      "  *  \n",
      "  *  \n",
      "  *  \n",
      "  *  \n",
      "  *  \n",
      "***  \n"
     ]
    }
   ],
   "source": [
    "for row in range(7):\n",
    "    for col in range(5):\n",
    "        if (row==0 or (row==6 and (col<=2))) or (col==2 and (row>0 and row<6)):\n",
    "            print('*',end='')\n",
    "        else:\n",
    "            print(end=' ')\n",
    "    print()        "
   ]
  },
  {
   "cell_type": "code",
   "execution_count": null,
   "id": "f0a9bb79-0b64-41b3-b75f-6e802180dbc3",
   "metadata": {},
   "outputs": [],
   "source": []
  }
 ],
 "metadata": {
  "kernelspec": {
   "display_name": "Python 3 (ipykernel)",
   "language": "python",
   "name": "python3"
  },
  "language_info": {
   "codemirror_mode": {
    "name": "ipython",
    "version": 3
   },
   "file_extension": ".py",
   "mimetype": "text/x-python",
   "name": "python",
   "nbconvert_exporter": "python",
   "pygments_lexer": "ipython3",
   "version": "3.12.4"
  }
 },
 "nbformat": 4,
 "nbformat_minor": 5
}
