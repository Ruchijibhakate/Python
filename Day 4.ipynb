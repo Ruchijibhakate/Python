{
 "cells": [
  {
   "cell_type": "markdown",
   "id": "287a661f-7567-4c41-86d4-02d019b65d25",
   "metadata": {},
   "source": [
    "#### 1.WAP to check whether a person is eligble for voting or not"
   ]
  },
  {
   "cell_type": "code",
   "execution_count": 1,
   "id": "51b2a088-ff77-48f7-884d-a2d313e40198",
   "metadata": {},
   "outputs": [
    {
     "name": "stdin",
     "output_type": "stream",
     "text": [
      "Enter your age 20\n"
     ]
    },
    {
     "name": "stdout",
     "output_type": "stream",
     "text": [
      "You are eligible for voting\n"
     ]
    }
   ],
   "source": [
    "age=int(input(\"Enter your age\"))\n",
    "if(age>=18):\n",
    "    print(\"You are eligible for voting\")\n",
    "else:\n",
    "    print(\"You are not eligible for voting\")"
   ]
  },
  {
   "cell_type": "markdown",
   "id": "def12a45-e241-490b-834d-4df54cca2006",
   "metadata": {},
   "source": [
    "### 2.WAP to check whether number entered by user is even or odd"
   ]
  },
  {
   "cell_type": "code",
   "execution_count": 5,
   "id": "8ca1c6bb-7385-48b9-9423-13d5a499414d",
   "metadata": {},
   "outputs": [
    {
     "name": "stdin",
     "output_type": "stream",
     "text": [
      "Enter a number 67\n"
     ]
    },
    {
     "name": "stdout",
     "output_type": "stream",
     "text": [
      "Number is odd\n"
     ]
    }
   ],
   "source": [
    "num=int(input(\"Enter a number\"))\n",
    "if(num%2==0):\n",
    "    print(\"Number is even\")\n",
    "else:\n",
    "    print(\"Number is odd\")"
   ]
  },
  {
   "cell_type": "markdown",
   "id": "ab17c54d-aa73-40be-b742-fd9f5afd2013",
   "metadata": {},
   "source": [
    "### 3.WAP to check whether number is divisible or not"
   ]
  },
  {
   "cell_type": "code",
   "execution_count": 15,
   "id": "70d4d44d-5215-47c2-ab8c-e7097934d72f",
   "metadata": {},
   "outputs": [
    {
     "name": "stdin",
     "output_type": "stream",
     "text": [
      "Enter a num 49\n"
     ]
    },
    {
     "name": "stdout",
     "output_type": "stream",
     "text": [
      "Number is divisible by 7\n"
     ]
    }
   ],
   "source": [
    "num=int(input(\"Enter a num\"))\n",
    "if(num%7==0):\n",
    "    print(\"Number is divisible by 7\")\n",
    "else:\n",
    "    print(\"Number is not divisible by 7\")"
   ]
  },
  {
   "cell_type": "markdown",
   "id": "766604bb-c69c-4760-86df-cfb99d4b10b2",
   "metadata": {},
   "source": [
    "### 4.WAP if entered number is multiple of 5 then print hello otherwise print bye"
   ]
  },
  {
   "cell_type": "code",
   "execution_count": 19,
   "id": "be5bb0ad-5910-4b23-b08b-863ab21a5c03",
   "metadata": {},
   "outputs": [
    {
     "name": "stdin",
     "output_type": "stream",
     "text": [
      "Enter a number 6\n"
     ]
    },
    {
     "name": "stdout",
     "output_type": "stream",
     "text": [
      "Bye\n"
     ]
    }
   ],
   "source": [
    "num=int(input(\"Enter a number\"))\n",
    "if(num%5==0):\n",
    "    print(\"Hello\")\n",
    "else:\n",
    "    print(\"Bye\")"
   ]
  },
  {
   "cell_type": "markdown",
   "id": "6a29631a-677b-4c7e-91da-753f417d11a5",
   "metadata": {},
   "source": [
    "### 5.WAP to calculate electricity bill"
   ]
  },
  {
   "cell_type": "code",
   "execution_count": 29,
   "id": "798788b6-c6d9-496a-ab98-52f013e69387",
   "metadata": {},
   "outputs": [
    {
     "name": "stdin",
     "output_type": "stream",
     "text": [
      "Enter a units 300\n"
     ]
    },
    {
     "name": "stdout",
     "output_type": "stream",
     "text": [
      "Electricity bill is 1500\n"
     ]
    }
   ],
   "source": [
    "units=int(input(\"Enter a units\"))\n",
    "if(units<100):                       #units<100, no charge\n",
    "    price=0\n",
    "    print(\"No Charge\")\n",
    "elif(100<units<200):                  #units>100 , 5Rs per unit\n",
    "    price=(units-100)*5\n",
    "    print(\"Electricity bill is\",price)\n",
    "else:\n",
    "    price=(100*5)+(units-200)*10                #units>200 , 10Rs per unit\n",
    "    print(\"Electricity bill is\",price)          # 100*5  for 100 units before 200 units  and then (unit-200) after 200 units\n",
    "    "
   ]
  },
  {
   "cell_type": "markdown",
   "id": "00bb4954-ccf9-49be-92df-682c58fdc207",
   "metadata": {},
   "source": [
    "### 6. WAP to display the last digit of number"
   ]
  },
  {
   "cell_type": "code",
   "execution_count": 33,
   "id": "7b9dbf20-82d3-469d-a2ad-7ca58dccc62f",
   "metadata": {},
   "outputs": [
    {
     "name": "stdin",
     "output_type": "stream",
     "text": [
      "Enter a number 6782\n"
     ]
    },
    {
     "name": "stdout",
     "output_type": "stream",
     "text": [
      "Last digit of number is 2\n"
     ]
    }
   ],
   "source": [
    "num=int(input(\"Enter a number\"))\n",
    "l_digit=num%10\n",
    "print(\"Last digit of number is\",l_digit)"
   ]
  },
  {
   "cell_type": "markdown",
   "id": "59a17d4a-b51d-4d88-aef7-8c8f3694be2d",
   "metadata": {},
   "source": [
    "### 7.WAP to check whether last digit of number is divisible by 3 or not"
   ]
  },
  {
   "cell_type": "code",
   "execution_count": 37,
   "id": "90b35fbe-b2ee-406d-bcc0-723ff6a06e3d",
   "metadata": {},
   "outputs": [
    {
     "name": "stdin",
     "output_type": "stream",
     "text": [
      "Enter a number 219\n"
     ]
    },
    {
     "name": "stdout",
     "output_type": "stream",
     "text": [
      "Last digit is divisible by 3\n"
     ]
    }
   ],
   "source": [
    "num=int(input(\"Enter a number\"))\n",
    "l_digit=num%10\n",
    "if(l_digit%3==0):\n",
    "    print(\"Last digit is divisible by 3\")\n",
    "else:\n",
    "    print(\"Last digit is not divisible by 3\")\n",
    "    "
   ]
  },
  {
   "cell_type": "markdown",
   "id": "b3e0495f-3d40-4cad-97c5-374b6d532e36",
   "metadata": {},
   "source": [
    "### 8.WAP to to accept percentage from user and display the grade "
   ]
  },
  {
   "cell_type": "code",
   "execution_count": 47,
   "id": "4a94e49d-6e38-49ba-be80-8873a8da31a0",
   "metadata": {},
   "outputs": [
    {
     "name": "stdin",
     "output_type": "stream",
     "text": [
      "Enter a marks 87\n"
     ]
    },
    {
     "name": "stdout",
     "output_type": "stream",
     "text": [
      "Grade B\n"
     ]
    }
   ],
   "source": [
    "marks=int(input(\"Enter a marks\"))\n",
    "if(marks>90):\n",
    "    print(\"Grade A\")\n",
    "elif(marks>80 and marks<=90):\n",
    "    print(\"Grade B\")\n",
    "elif(marks>=60 and marks<=80):\n",
    "    print(\"Grade C\")\n",
    "else:\n",
    "    print(\"Grade D\")"
   ]
  },
  {
   "cell_type": "markdown",
   "id": "73ae72df-9f47-4a89-b55f-ae111ce45fad",
   "metadata": {},
   "source": [
    "### 9.WAP to accept the cost price of bike and display the road tax to be paid according to following criteria"
   ]
  },
  {
   "cell_type": "code",
   "execution_count": 67,
   "id": "4d3e42bb-03d8-44db-b054-eed5d1c7ba5a",
   "metadata": {},
   "outputs": [
    {
     "name": "stdin",
     "output_type": "stream",
     "text": [
      "Enter a cost price of a bike 67520\n"
     ]
    },
    {
     "name": "stdout",
     "output_type": "stream",
     "text": [
      "road tax to be paid is Rs 6752.0\n"
     ]
    }
   ],
   "source": [
    "cost_price=int(input(\"Enter a cost price of a bike\"))      #in Rs\n",
    "if(cost_price>100000):\n",
    "    tax=(15/100)*cost_price                               # cost price >100000 then tax is 15%\n",
    "    print(\"road tax to be paid is Rs\",tax)\n",
    "elif(cost_price>50000 and cost_price<=100000):\n",
    "    tax=(10/100)*cost_price                             # 50000 < cost price <=100000 then tax is 10%\n",
    "    print(\"road tax to be paid is Rs\",tax)\n",
    "else:\n",
    "    tax=(5/100)*cost_price                               # cost price < 50000 then tax is 5%\n",
    "    print(\"road tax to be paid is Rs\",tax)\n",
    "    \n",
    "\n"
   ]
  },
  {
   "cell_type": "markdown",
   "id": "60e71c12-ddac-44df-863a-00b9ea230808",
   "metadata": {},
   "source": [
    "### 10.WAP to accept number from 1 t0 7 and display name of the day like 1 for monday , 2 for Tuesday and so on"
   ]
  },
  {
   "cell_type": "code",
   "execution_count": 79,
   "id": "f0f6ddbc-da4d-4397-98cf-2039dee84fbd",
   "metadata": {},
   "outputs": [
    {
     "name": "stdin",
     "output_type": "stream",
     "text": [
      "Enter a number between 1 to 7 : 3\n"
     ]
    },
    {
     "name": "stdout",
     "output_type": "stream",
     "text": [
      " Wednesday\n"
     ]
    }
   ],
   "source": [
    "num=int(input(\"Enter a number between 1 to 7 :\"))\n",
    "if(num==1):\n",
    "    print(\"Monday\")\n",
    "elif(num==2):\n",
    "    print(\"Tuesday\")\n",
    "elif(num==3):\n",
    "    print(\" Wednesday\")\n",
    "elif(num==4):\n",
    "    print(\"Thursday\")\n",
    "elif(num==5):\n",
    "    print(\"Friday\")\n",
    "elif(num==6):\n",
    "    print(\"Saturday\")  \n",
    "elif(num==7):\n",
    "    print(\"Sunday\")  \n",
    "else:\n",
    "    print(\"Incorrect Day Number\")\n"
   ]
  },
  {
   "cell_type": "code",
   "execution_count": null,
   "id": "79d27703-3e3d-4001-8383-2da876b3849b",
   "metadata": {},
   "outputs": [],
   "source": []
  }
 ],
 "metadata": {
  "kernelspec": {
   "display_name": "Python 3 (ipykernel)",
   "language": "python",
   "name": "python3"
  },
  "language_info": {
   "codemirror_mode": {
    "name": "ipython",
    "version": 3
   },
   "file_extension": ".py",
   "mimetype": "text/x-python",
   "name": "python",
   "nbconvert_exporter": "python",
   "pygments_lexer": "ipython3",
   "version": "3.12.4"
  }
 },
 "nbformat": 4,
 "nbformat_minor": 5
}
