{
 "cells": [
  {
   "cell_type": "markdown",
   "id": "6310284d-4b1c-44b4-9738-34e3f76f8d02",
   "metadata": {},
   "source": [
    "### Write a Python program that computes the greatest common divisor (GCD) of two positive integers."
   ]
  },
  {
   "cell_type": "code",
   "execution_count": 2,
   "id": "fafec488-226b-46a0-b9bc-cb38b968e5d6",
   "metadata": {},
   "outputs": [
    {
     "name": "stdout",
     "output_type": "stream",
     "text": [
      "GCD of 12 & 17 = 1\n",
      "GCD of 4 & 6 = 2\n",
      "GCD of 336 & 360 = 24\n"
     ]
    }
   ],
   "source": [
    "def gcd(x, y):\n",
    "    # Initialize gcd to 1.\n",
    "    gcd = 1\n",
    "    \n",
    "    # Check if y is a divisor of x (x is divisible by y).\n",
    "    if x % y == 0:\n",
    "        return y\n",
    "    \n",
    "    # Iterate from half of y down to 1.\n",
    "    for k in range(int(y / 2), 0, -1):\n",
    "        # Check if both x and y are divisible by k.\n",
    "        if x % k == 0 and y % k == 0:\n",
    "            # Update the GCD to the current value of k and exit the loop.\n",
    "            gcd = k\n",
    "            break\n",
    "    \n",
    "    # Return the calculated GCD.\n",
    "    return gcd\n",
    "\n",
    "# Print the GCD of specific pairs of numbers.\n",
    "print(\"GCD of 12 & 17 =\", gcd(12, 17))\n",
    "print(\"GCD of 4 & 6 =\", gcd(4, 6))\n",
    "print(\"GCD of 336 & 360 =\", gcd(336, 360))"
   ]
  },
  {
   "cell_type": "code",
   "execution_count": null,
   "id": "452a0678-1ecb-4db1-b9ec-f2a6d7154403",
   "metadata": {},
   "outputs": [],
   "source": []
  }
 ],
 "metadata": {
  "kernelspec": {
   "display_name": "Python 3 (ipykernel)",
   "language": "python",
   "name": "python3"
  },
  "language_info": {
   "codemirror_mode": {
    "name": "ipython",
    "version": 3
   },
   "file_extension": ".py",
   "mimetype": "text/x-python",
   "name": "python",
   "nbconvert_exporter": "python",
   "pygments_lexer": "ipython3",
   "version": "3.12.4"
  }
 },
 "nbformat": 4,
 "nbformat_minor": 5
}
