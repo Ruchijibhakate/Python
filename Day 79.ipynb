{
 "cells": [
  {
   "cell_type": "markdown",
   "id": "1b254665-9af9-42b2-8259-beafb89591b0",
   "metadata": {},
   "source": [
    "### 1. Find those numbers which are divisibe by 7 and multiples of 5 between 1500 and 2700"
   ]
  },
  {
   "cell_type": "code",
   "execution_count": 8,
   "id": "13048d02-0db1-4a46-820c-651c1531ac74",
   "metadata": {},
   "outputs": [
    {
     "name": "stdout",
     "output_type": "stream",
     "text": [
      "[1505, 1540, 1575, 1610, 1645, 1680, 1715, 1750, 1785, 1820, 1855, 1890, 1925, 1960, 1995, 2030, 2065, 2100, 2135, 2170, 2205, 2240, 2275, 2310, 2345, 2380, 2415, 2450, 2485, 2520, 2555, 2590, 2625, 2660, 2695]\n"
     ]
    }
   ],
   "source": [
    "i=1500\n",
    "num=[]\n",
    "while (i<=2700):\n",
    "    if i%7==0 and i%5==0:\n",
    "        num.append(i)\n",
    "    i=i+1\n",
    "print(num)"
   ]
  },
  {
   "cell_type": "markdown",
   "id": "37a9bc09-5b40-4db1-adc5-5d019ee066ae",
   "metadata": {},
   "source": [
    "### 2. Guess a number between 1 and 9"
   ]
  },
  {
   "cell_type": "code",
   "execution_count": 15,
   "id": "85fb6bfa-01b0-4b1a-a44b-05b3807272a2",
   "metadata": {},
   "outputs": [
    {
     "name": "stdin",
     "output_type": "stream",
     "text": [
      "Guess Number between 1 and 9 until you get it right : 9\n",
      "Guess Number between 1 and 9 until you get it right : 2\n",
      "Guess Number between 1 and 9 until you get it right : 8\n",
      "Guess Number between 1 and 9 until you get it right : 5\n",
      "Guess Number between 1 and 9 until you get it right : 1\n",
      "Guess Number between 1 and 9 until you get it right : 6\n",
      "Guess Number between 1 and 9 until you get it right : 3\n"
     ]
    },
    {
     "name": "stdout",
     "output_type": "stream",
     "text": [
      "Well guessed !\n"
     ]
    }
   ],
   "source": [
    "import random\n",
    "target_num , guess_num = random.randint(1,9), 0\n",
    "\n",
    "while target_num!=guess_num:\n",
    "    guess_num = int(input('Guess Number between 1 and 9 until you get it right :'))\n",
    "\n",
    "print('Well guessed !')"
   ]
  },
  {
   "cell_type": "markdown",
   "id": "8abaa0d2-b2c7-4d0c-9c38-5803ce62f602",
   "metadata": {},
   "source": [
    "### 3. Wap to cnstruct the following pattern, using a nested for loop."
   ]
  },
  {
   "cell_type": "code",
   "execution_count": 20,
   "id": "a79c8495-6de7-415b-9c99-8e8dc648560d",
   "metadata": {},
   "outputs": [
    {
     "name": "stdout",
     "output_type": "stream",
     "text": [
      "* \n",
      "* * \n",
      "* * * \n",
      "* * * * \n",
      "* * * * * \n",
      "* * * * \n",
      "* * * \n",
      "* * \n",
      "* \n"
     ]
    }
   ],
   "source": [
    "n=5\n",
    "for i in range(1,n+1):\n",
    "    for j in range(1,i+1):\n",
    "        print('*',end=' ')\n",
    "    print()  \n",
    "for i in range(2,n+1):\n",
    "    for j in range(i,n+1):\n",
    "        print('*',end=' ')\n",
    "    print()    "
   ]
  },
  {
   "cell_type": "markdown",
   "id": "46134e51-21d8-4226-9c41-01f3c3705fbd",
   "metadata": {},
   "source": [
    "### 4. Accept a word from the user and revrses it."
   ]
  },
  {
   "cell_type": "code",
   "execution_count": 23,
   "id": "d360b01e-a520-4b0c-8436-5a5fa758b47c",
   "metadata": {},
   "outputs": [
    {
     "name": "stdin",
     "output_type": "stream",
     "text": [
      "Enter a Word : ballon\n"
     ]
    },
    {
     "name": "stdout",
     "output_type": "stream",
     "text": [
      "nollab\n"
     ]
    }
   ],
   "source": [
    "word=input('Enter a Word :')\n",
    "rev_word=word[::-1]\n",
    "print(rev_word)"
   ]
  },
  {
   "cell_type": "markdown",
   "id": "f98e84bb-fdbe-4903-b40b-e28e42123195",
   "metadata": {},
   "source": [
    "### 5. Count even and odd numbers in series of numbers "
   ]
  },
  {
   "cell_type": "code",
   "execution_count": 26,
   "id": "e3c731c8-3b68-4cf0-8653-8eb8d59f325f",
   "metadata": {},
   "outputs": [
    {
     "name": "stdout",
     "output_type": "stream",
     "text": [
      "Total Even Numbers: 4\n",
      "Total Odd Numbers: 5\n"
     ]
    }
   ],
   "source": [
    "numbers=(1,2,3,4,5,6,7,8,9)\n",
    "ev=0\n",
    "od=0\n",
    "for i in numbers:\n",
    "    if i%2==0:\n",
    "        ev=ev+1\n",
    "    else:\n",
    "        od=od+1\n",
    "print(\"Total Even Numbers:\",ev)  \n",
    "print(\"Total Odd Numbers:\",od)        "
   ]
  },
  {
   "cell_type": "code",
   "execution_count": null,
   "id": "5e8a408d-c573-4f28-a770-974b236d9a7d",
   "metadata": {},
   "outputs": [],
   "source": []
  }
 ],
 "metadata": {
  "kernelspec": {
   "display_name": "Python 3 (ipykernel)",
   "language": "python",
   "name": "python3"
  },
  "language_info": {
   "codemirror_mode": {
    "name": "ipython",
    "version": 3
   },
   "file_extension": ".py",
   "mimetype": "text/x-python",
   "name": "python",
   "nbconvert_exporter": "python",
   "pygments_lexer": "ipython3",
   "version": "3.12.4"
  }
 },
 "nbformat": 4,
 "nbformat_minor": 5
}
