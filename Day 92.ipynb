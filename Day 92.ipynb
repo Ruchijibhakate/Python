{
 "cells": [
  {
   "cell_type": "markdown",
   "id": "8063a048-238f-4781-a0e4-984942f6d3dd",
   "metadata": {},
   "source": [
    "### 1. Find the len of list"
   ]
  },
  {
   "cell_type": "code",
   "execution_count": 6,
   "id": "b3ae5aeb-746e-4917-8f80-99be3a4d2e68",
   "metadata": {},
   "outputs": [
    {
     "name": "stdout",
     "output_type": "stream",
     "text": [
      "6\n"
     ]
    }
   ],
   "source": [
    "list1 = [1, 2, 3, None, (1, 2, 3, 4, 5), ['Geeks', 'for', 'Geeks']]\n",
    "print(len(list1))"
   ]
  },
  {
   "cell_type": "markdown",
   "id": "04b445a3-c9db-48f5-89b7-8acdcb84f557",
   "metadata": {},
   "source": [
    "### 2. Find the following"
   ]
  },
  {
   "cell_type": "code",
   "execution_count": 11,
   "id": "56d93747-50fa-46dc-80d5-c3184e85ca76",
   "metadata": {},
   "outputs": [
    {
     "name": "stdout",
     "output_type": "stream",
     "text": [
      "['python', 'learning', '@', 'Geeks', 'for', 'Geeks']\n",
      "['python', '@', 'for']\n",
      "['python', 'learning', '@', 'Geeks', 'for', 'Geeks']\n",
      "['python', '@', 'for']\n",
      "['python', 'Geeks']\n",
      "['Geeks', 'Geeks', 'learning']\n"
     ]
    }
   ],
   "source": [
    "\n",
    "list = ['python', 'learning', '@', 'Geeks', 'for', 'Geeks']\n",
    "\n",
    "print(list[::])          \n",
    "print(list[0:6:2])       \n",
    "print(list[ :6: ])       \n",
    "print(list[ :6:2])      \n",
    "print(list[ ::3])       \n",
    "print(list[ ::-2])"
   ]
  },
  {
   "cell_type": "markdown",
   "id": "baeb3299-f410-4718-8006-e5fbf6c676bb",
   "metadata": {},
   "source": [
    "### 3. Find the following"
   ]
  },
  {
   "cell_type": "code",
   "execution_count": 19,
   "id": "d5bbc0ad-ebff-416b-ae32-22c1f73af48a",
   "metadata": {},
   "outputs": [
    {
     "name": "stdout",
     "output_type": "stream",
     "text": [
      "[]\n",
      "['a', 'b', 'c', 'd', 'e']\n"
     ]
    }
   ],
   "source": [
    "list = ['a', 'b', 'c', 'd', 'e']\n",
    "print(list[10:])\n",
    "print(list[:10])"
   ]
  },
  {
   "cell_type": "markdown",
   "id": "9378db00-4ce1-4981-8e90-77ddb822da55",
   "metadata": {},
   "source": [
    "### 4. Find the following"
   ]
  },
  {
   "cell_type": "code",
   "execution_count": 22,
   "id": "fc205fb6-f63a-483e-b28c-04a4dfb16e62",
   "metadata": {},
   "outputs": [
    {
     "name": "stdout",
     "output_type": "stream",
     "text": [
      "[]\n"
     ]
    }
   ],
   "source": [
    "list = ['a', 'b', 'c']*-3\n",
    "print(list)"
   ]
  },
  {
   "cell_type": "code",
   "execution_count": null,
   "id": "3f2f6760-cc6d-44d1-bec5-7b9dbd3161d9",
   "metadata": {},
   "outputs": [],
   "source": []
  }
 ],
 "metadata": {
  "kernelspec": {
   "display_name": "Python 3 (ipykernel)",
   "language": "python",
   "name": "python3"
  },
  "language_info": {
   "codemirror_mode": {
    "name": "ipython",
    "version": 3
   },
   "file_extension": ".py",
   "mimetype": "text/x-python",
   "name": "python",
   "nbconvert_exporter": "python",
   "pygments_lexer": "ipython3",
   "version": "3.12.4"
  }
 },
 "nbformat": 4,
 "nbformat_minor": 5
}
