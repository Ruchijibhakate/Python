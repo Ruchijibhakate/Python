{
 "cells": [
  {
   "cell_type": "markdown",
   "id": "75cbb095-d48c-48c3-a179-6ffe493b2c02",
   "metadata": {},
   "source": [
    "### 1. Additon of two numbers using function"
   ]
  },
  {
   "cell_type": "code",
   "execution_count": 2,
   "id": "31eca6bc-7fc4-4f87-a246-255dfaed9cd4",
   "metadata": {},
   "outputs": [
    {
     "data": {
      "text/plain": [
       "7"
      ]
     },
     "execution_count": 2,
     "metadata": {},
     "output_type": "execute_result"
    }
   ],
   "source": [
    "def addition(a,b):\n",
    "    c=a+b\n",
    "    return c\n",
    "\n",
    "addition(2,5)"
   ]
  },
  {
   "cell_type": "markdown",
   "id": "ddd2e606-d662-4215-a8e0-78f30aca0189",
   "metadata": {},
   "source": [
    "### 2. Substraction of two numbers"
   ]
  },
  {
   "cell_type": "code",
   "execution_count": 7,
   "id": "44841a56-ff40-4f72-a6aa-969e88640711",
   "metadata": {},
   "outputs": [
    {
     "data": {
      "text/plain": [
       "3"
      ]
     },
     "execution_count": 7,
     "metadata": {},
     "output_type": "execute_result"
    }
   ],
   "source": [
    "def sub(a,b):\n",
    "    c=a-b\n",
    "    return c\n",
    "\n",
    "sub(6,3)"
   ]
  },
  {
   "cell_type": "markdown",
   "id": "86b4e5bd-c5e7-451c-ac8c-d61875128dcc",
   "metadata": {},
   "source": [
    "### 3. Product of two numbers"
   ]
  },
  {
   "cell_type": "code",
   "execution_count": 9,
   "id": "1104cd34-3386-49f4-b9c5-31614cfc2278",
   "metadata": {},
   "outputs": [
    {
     "data": {
      "text/plain": [
       "5292"
      ]
     },
     "execution_count": 9,
     "metadata": {},
     "output_type": "execute_result"
    }
   ],
   "source": [
    "def prod(x,y):\n",
    "    c=x*y\n",
    "    return c\n",
    "\n",
    "prod(54,98)"
   ]
  },
  {
   "cell_type": "markdown",
   "id": "8666b878-d0a3-44fe-a204-483375fd381a",
   "metadata": {},
   "source": [
    "### 4. Power of the two numbers"
   ]
  },
  {
   "cell_type": "code",
   "execution_count": 15,
   "id": "d848ed57-53f0-4f86-a35e-bd0529ebc46e",
   "metadata": {},
   "outputs": [
    {
     "data": {
      "text/plain": [
       "256"
      ]
     },
     "execution_count": 15,
     "metadata": {},
     "output_type": "execute_result"
    }
   ],
   "source": [
    "def power(a,b):\n",
    "    c=a**b\n",
    "    return c\n",
    "\n",
    "power(2,8)"
   ]
  },
  {
   "cell_type": "markdown",
   "id": "9a5bf76e-c12f-4f39-8c65-086ea9c40c75",
   "metadata": {},
   "source": [
    "### 5. print the alphabet patterns"
   ]
  },
  {
   "cell_type": "code",
   "execution_count": 38,
   "id": "71b33c29-fd6f-4203-b43e-071602da65fb",
   "metadata": {},
   "outputs": [
    {
     "name": "stdin",
     "output_type": "stream",
     "text": [
      "Enter a number 5\n"
     ]
    },
    {
     "name": "stdout",
     "output_type": "stream",
     "text": [
      "A \n",
      "B B \n",
      "C C C \n",
      "D D D D \n",
      "E E E E E \n"
     ]
    }
   ],
   "source": [
    "n=int(input(\"Enter a number\"))\n",
    "k=ord(\"A\")\n",
    "for i in range(1,n+1):\n",
    "    for j in range(1,i+1):\n",
    "        print(chr(k),end=\" \")\n",
    "    k=k+1\n",
    "    print()    "
   ]
  },
  {
   "cell_type": "markdown",
   "id": "0c1b8ad4-35b3-4c7b-b8df-4cc3b933bbbb",
   "metadata": {},
   "source": [
    "### 6. print the alphabet patterns"
   ]
  },
  {
   "cell_type": "code",
   "execution_count": 43,
   "id": "82505095-efc6-439c-aac3-5822ca7880ab",
   "metadata": {},
   "outputs": [
    {
     "name": "stdin",
     "output_type": "stream",
     "text": [
      "Enter a number : 6\n"
     ]
    },
    {
     "name": "stdout",
     "output_type": "stream",
     "text": [
      "A B C D E F \n",
      "A B C D E \n",
      "A B C D \n",
      "A B C \n",
      "A B \n",
      "A \n"
     ]
    }
   ],
   "source": [
    "n=int(input(\"Enter a number :\"))\n",
    "for i in range(1,n+1):\n",
    "    k=ord(\"A\")\n",
    "    for j in range(i,n+1):\n",
    "        print(chr(k),end=\" \")\n",
    "        k=k+1\n",
    "    print()    "
   ]
  },
  {
   "cell_type": "markdown",
   "id": "986b992f-71b4-4b4f-8c9c-2e73b7c3cb12",
   "metadata": {},
   "source": [
    "### 7. WAP to multiply the all the items in the list"
   ]
  },
  {
   "cell_type": "code",
   "execution_count": 5,
   "id": "693fca1a-4905-4b56-b4fc-8d2b4f4d5133",
   "metadata": {},
   "outputs": [
    {
     "name": "stdout",
     "output_type": "stream",
     "text": [
      "720\n"
     ]
    }
   ],
   "source": [
    "list=[1,2,3,4,5,6]\n",
    "multi=1\n",
    "for i in list:\n",
    "    multi=multi*i\n",
    "print(multi)    \n",
    "    "
   ]
  },
  {
   "cell_type": "markdown",
   "id": "c1d9128f-56ae-4e51-844b-f6d8bbe73e6a",
   "metadata": {},
   "source": [
    "### 8. WAP to print the largest number from the list"
   ]
  },
  {
   "cell_type": "code",
   "execution_count": 23,
   "id": "2e4dbcac-087c-4ff3-a3ac-84ccf2f74d0f",
   "metadata": {},
   "outputs": [
    {
     "name": "stdout",
     "output_type": "stream",
     "text": [
      "59\n"
     ]
    }
   ],
   "source": [
    "list=[2,8,1,59,36,20,18]\n",
    "max=list[0]\n",
    "for i in list:\n",
    "    if i>max:\n",
    "        max=i\n",
    "print(max)        "
   ]
  },
  {
   "cell_type": "markdown",
   "id": "083efda2-a4d4-43ce-a064-234d5a61cb53",
   "metadata": {},
   "source": [
    "### 9. WAP to print the smallest number from the list"
   ]
  },
  {
   "cell_type": "code",
   "execution_count": 26,
   "id": "e5867107-55f4-4b6b-8167-caedbe99f708",
   "metadata": {},
   "outputs": [
    {
     "name": "stdout",
     "output_type": "stream",
     "text": [
      "1\n"
     ]
    }
   ],
   "source": [
    "list=[2,8,1,59,36,20,18]\n",
    "min=list[0]\n",
    "for i in list:\n",
    "    if i<min:\n",
    "        min=i\n",
    "print(min)        "
   ]
  },
  {
   "cell_type": "markdown",
   "id": "50ef1e5a-e567-4323-bdbf-98d6f176ebc6",
   "metadata": {},
   "source": [
    "### 10. WAP to count the number of strings from the given list of strings. The string length is 2 or more and first and last characters are same"
   ]
  },
  {
   "cell_type": "code",
   "execution_count": 39,
   "id": "8584884c-32b3-4fc0-92f8-20f4ff332d69",
   "metadata": {},
   "outputs": [
    {
     "data": {
      "text/plain": [
       "2"
      ]
     },
     "execution_count": 39,
     "metadata": {},
     "output_type": "execute_result"
    }
   ],
   "source": [
    "def match(words):\n",
    "    count=0\n",
    "    for word in words:\n",
    "        if len(word)>=2 and word[0]==word[-1]:\n",
    "            count=count+1\n",
    "    return count\n",
    "\n",
    "match([\"abc\",\"1213\",\"xyzx\",\"wow\"])"
   ]
  },
  {
   "cell_type": "code",
   "execution_count": 37,
   "id": "7bec6fa4-97eb-4180-b5ab-b252d606b85f",
   "metadata": {},
   "outputs": [
    {
     "data": {
      "text/plain": [
       "3"
      ]
     },
     "execution_count": 37,
     "metadata": {},
     "output_type": "execute_result"
    }
   ],
   "source": [
    "match(['akansha','river','racecar','good','morning'])"
   ]
  },
  {
   "cell_type": "code",
   "execution_count": null,
   "id": "f30acb80-6a9d-47ee-a594-8230d1a42e95",
   "metadata": {},
   "outputs": [],
   "source": []
  }
 ],
 "metadata": {
  "kernelspec": {
   "display_name": "Python 3 (ipykernel)",
   "language": "python",
   "name": "python3"
  },
  "language_info": {
   "codemirror_mode": {
    "name": "ipython",
    "version": 3
   },
   "file_extension": ".py",
   "mimetype": "text/x-python",
   "name": "python",
   "nbconvert_exporter": "python",
   "pygments_lexer": "ipython3",
   "version": "3.12.4"
  }
 },
 "nbformat": 4,
 "nbformat_minor": 5
}
