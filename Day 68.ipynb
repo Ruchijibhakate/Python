{
 "cells": [
  {
   "cell_type": "markdown",
   "id": "7d1c6a56-deb3-4eec-991e-9a209bd74ae4",
   "metadata": {},
   "source": [
    "### 1. WAP to split a list every Nth element"
   ]
  },
  {
   "cell_type": "code",
   "execution_count": 2,
   "id": "9eb1940c-8bc3-4856-8ecd-c4813f654292",
   "metadata": {},
   "outputs": [
    {
     "name": "stdout",
     "output_type": "stream",
     "text": [
      "[['a', 'd', 'g', 'j', 'm'], ['b', 'e', 'h', 'k', 'n'], ['c', 'f', 'i', 'l']]\n"
     ]
    }
   ],
   "source": [
    "C=['a','b','c','d','e','f','g','h','i','j','k','l','m','n']\n",
    "def list_slice(S,step):\n",
    "    return [S[i::step] for i in range(step)]\n",
    "\n",
    "print(list_slice(C,3))"
   ]
  },
  {
   "cell_type": "markdown",
   "id": "2c26f10c-8e36-439b-a4a2-4b877787a8fe",
   "metadata": {},
   "source": [
    "### 2. WAP to compute difference between two list"
   ]
  },
  {
   "cell_type": "code",
   "execution_count": 11,
   "id": "e8d3110e-6d38-46f4-ada2-5a0e03eecf91",
   "metadata": {},
   "outputs": [
    {
     "name": "stdout",
     "output_type": "stream",
     "text": [
      "color1-color2 : ['red', 'orange', 'white']\n",
      "color2-color1 : ['black', 'yellow']\n"
     ]
    }
   ],
   "source": [
    "from collections import Counter\n",
    "color1=['red','orange','green','blue','white']\n",
    "color2=['black','yellow','green','blue']\n",
    "counter1 = Counter(color1)\n",
    "counter2 = Counter(color2)\n",
    "\n",
    "print('color1-color2 :',list(counter1-counter2))\n",
    "print('color2-color1 :',list(counter2-counter1))"
   ]
  },
  {
   "cell_type": "markdown",
   "id": "e67e2e6d-52a4-4d80-a4c4-173063e3a54b",
   "metadata": {},
   "source": [
    "### 3. Check if given string is palindrome or not"
   ]
  },
  {
   "cell_type": "code",
   "execution_count": 8,
   "id": "443be727-9e98-41c3-9961-2f33d9a9b9fc",
   "metadata": {},
   "outputs": [
    {
     "name": "stdin",
     "output_type": "stream",
     "text": [
      "Enter a string : racecar\n"
     ]
    },
    {
     "name": "stdout",
     "output_type": "stream",
     "text": [
      "Given string is Palindrome\n"
     ]
    }
   ],
   "source": [
    "str=input('Enter a string :')\n",
    "rev_str=str[::-1]\n",
    "if rev_str==str:\n",
    "    print('Given string is Palindrome')\n",
    "else:\n",
    "    print('Given string is not Palindrome')"
   ]
  },
  {
   "cell_type": "markdown",
   "id": "c3719194-a6a0-483b-a8f8-ad68a4dfd34b",
   "metadata": {},
   "source": [
    "### 4. Count number of vowels in given string"
   ]
  },
  {
   "cell_type": "code",
   "execution_count": 13,
   "id": "4ac0308d-8844-455f-ba10-03824a5fdcaf",
   "metadata": {},
   "outputs": [
    {
     "name": "stdin",
     "output_type": "stream",
     "text": [
      "Enter a string : Apple\n"
     ]
    },
    {
     "name": "stdout",
     "output_type": "stream",
     "text": [
      "Total vowels in string : 2\n"
     ]
    }
   ],
   "source": [
    "str=input('Enter a string :')\n",
    "vowels='AEIOUaeiou'\n",
    "count=0\n",
    "for i in str:\n",
    "    if i in vowels:\n",
    "        count+=1\n",
    "print('Total vowels in string :',count)        "
   ]
  },
  {
   "cell_type": "markdown",
   "id": "73525d2f-dd66-4f77-82bd-69fdf9b8c4f1",
   "metadata": {},
   "source": [
    "### 5. Reverse a given list in place"
   ]
  },
  {
   "cell_type": "code",
   "execution_count": 16,
   "id": "4feae1da-8a67-4f88-8120-85d276b04101",
   "metadata": {},
   "outputs": [
    {
     "name": "stdout",
     "output_type": "stream",
     "text": [
      "[5, 4, 3, 2, 1]\n"
     ]
    }
   ],
   "source": [
    "list=[1,2,3,4,5]\n",
    "list.reverse()\n",
    "print(list)"
   ]
  },
  {
   "cell_type": "code",
   "execution_count": 22,
   "id": "6f932849-d2dd-40f2-939c-3e55c0a323bd",
   "metadata": {},
   "outputs": [
    {
     "data": {
      "text/plain": [
       "[5, 4, 3, 2, 1]"
      ]
     },
     "execution_count": 22,
     "metadata": {},
     "output_type": "execute_result"
    }
   ],
   "source": [
    "list=[1,2,3,4,5]\n",
    "list[::-1]"
   ]
  },
  {
   "cell_type": "code",
   "execution_count": null,
   "id": "a73aa022-8cb3-46d0-83b4-0531638255c6",
   "metadata": {},
   "outputs": [],
   "source": []
  }
 ],
 "metadata": {
  "kernelspec": {
   "display_name": "Python 3 (ipykernel)",
   "language": "python",
   "name": "python3"
  },
  "language_info": {
   "codemirror_mode": {
    "name": "ipython",
    "version": 3
   },
   "file_extension": ".py",
   "mimetype": "text/x-python",
   "name": "python",
   "nbconvert_exporter": "python",
   "pygments_lexer": "ipython3",
   "version": "3.12.4"
  }
 },
 "nbformat": 4,
 "nbformat_minor": 5
}
