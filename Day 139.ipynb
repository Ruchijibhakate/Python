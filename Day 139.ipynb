{
 "cells": [
  {
   "cell_type": "markdown",
   "id": "76b81af7-75ea-4e90-b0f2-e8e99fbf9acb",
   "metadata": {},
   "source": [
    "### 1. Convert a tuple to a string."
   ]
  },
  {
   "cell_type": "code",
   "execution_count": 4,
   "id": "4fcc6cf2-f65d-43d2-9245-a3d066a4f1fc",
   "metadata": {},
   "outputs": [
    {
     "name": "stdout",
     "output_type": "stream",
     "text": [
      "paint\n"
     ]
    }
   ],
   "source": [
    "t1=('p','a','i','n','t')\n",
    "str=''.join(t1)\n",
    "print(str)"
   ]
  },
  {
   "cell_type": "markdown",
   "id": "2977d50f-d64e-4e0a-af8b-5b803ded5572",
   "metadata": {},
   "source": [
    "### 2. Get the 4th element from the last element of a tuple"
   ]
  },
  {
   "cell_type": "code",
   "execution_count": 11,
   "id": "d8b5833c-6ed7-4d30-9acd-b54e5950d9bd",
   "metadata": {},
   "outputs": [
    {
     "name": "stdout",
     "output_type": "stream",
     "text": [
      "4th element from the last element of a tuple : m\n"
     ]
    }
   ],
   "source": [
    "t1=('M','u','m','b','a','i',)\n",
    "item=t1[-4]\n",
    "print('4th element from the last element of a tuple :',item)"
   ]
  },
  {
   "cell_type": "code",
   "execution_count": null,
   "id": "baff93c9-659d-4c81-802b-383ceb3250fb",
   "metadata": {},
   "outputs": [],
   "source": []
  }
 ],
 "metadata": {
  "kernelspec": {
   "display_name": "Python 3 (ipykernel)",
   "language": "python",
   "name": "python3"
  },
  "language_info": {
   "codemirror_mode": {
    "name": "ipython",
    "version": 3
   },
   "file_extension": ".py",
   "mimetype": "text/x-python",
   "name": "python",
   "nbconvert_exporter": "python",
   "pygments_lexer": "ipython3",
   "version": "3.12.4"
  }
 },
 "nbformat": 4,
 "nbformat_minor": 5
}
