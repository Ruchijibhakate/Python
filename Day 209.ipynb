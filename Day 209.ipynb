{
 "cells": [
  {
   "cell_type": "markdown",
   "id": "b7f83c87-3a79-4c0a-a2c2-a0875181aa08",
   "metadata": {},
   "source": [
    "### Write a program to swap two variables without using 3rd variable."
   ]
  },
  {
   "cell_type": "code",
   "execution_count": 2,
   "id": "f86e8512-59dc-4364-b21e-7d8f04c288a5",
   "metadata": {},
   "outputs": [
    {
     "name": "stdout",
     "output_type": "stream",
     "text": [
      "a : 3\n",
      "b: 2\n"
     ]
    }
   ],
   "source": [
    "a=2\n",
    "b=3\n",
    "a,b=b,a\n",
    "print('a :',a)\n",
    "print('b:',b)"
   ]
  },
  {
   "cell_type": "code",
   "execution_count": null,
   "id": "cc748d59-c563-4387-8944-597a9e5b002c",
   "metadata": {},
   "outputs": [],
   "source": []
  }
 ],
 "metadata": {
  "kernelspec": {
   "display_name": "Python 3 (ipykernel)",
   "language": "python",
   "name": "python3"
  },
  "language_info": {
   "codemirror_mode": {
    "name": "ipython",
    "version": 3
   },
   "file_extension": ".py",
   "mimetype": "text/x-python",
   "name": "python",
   "nbconvert_exporter": "python",
   "pygments_lexer": "ipython3",
   "version": "3.12.4"
  }
 },
 "nbformat": 4,
 "nbformat_minor": 5
}
