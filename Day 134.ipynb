{
 "cells": [
  {
   "cell_type": "markdown",
   "id": "3835bde8-be79-4f85-a437-4839776a078a",
   "metadata": {},
   "source": [
    "### 1. WAP to check the validity of password input by users"
   ]
  },
  {
   "cell_type": "code",
   "execution_count": 12,
   "id": "2f7b06f6-621d-4aa7-acfe-a0443f527f54",
   "metadata": {},
   "outputs": [
    {
     "name": "stdin",
     "output_type": "stream",
     "text": [
      "Enter a Password: gmail@123\n"
     ]
    },
    {
     "name": "stdout",
     "output_type": "stream",
     "text": [
      "Password is Valid\n"
     ]
    }
   ],
   "source": [
    "password=input('Enter a Password:')\n",
    "if password=='gmail@123':\n",
    "    print('Password is Valid')\n",
    "else:\n",
    "    print('Password is Invalid')"
   ]
  },
  {
   "cell_type": "markdown",
   "id": "60cb6222-c0a7-47d7-8077-db5c1f113b89",
   "metadata": {},
   "source": [
    "### 2. WAP to convert month name to number of Days."
   ]
  },
  {
   "cell_type": "code",
   "execution_count": 23,
   "id": "05149df4-6d38-4476-baa7-1ed57e044c33",
   "metadata": {},
   "outputs": [
    {
     "name": "stdin",
     "output_type": "stream",
     "text": [
      "Enter a Month : November\n"
     ]
    },
    {
     "name": "stdout",
     "output_type": "stream",
     "text": [
      "The month of November has 30 days\n"
     ]
    }
   ],
   "source": [
    "month=input('Enter a Month :')\n",
    "if month == 'February':\n",
    "    print('The month of February has 28/29 Days')\n",
    "elif month in ('April','June','September','November'):\n",
    "    print('The month of',month, 'has 30 days')\n",
    "elif month in ('January','March','May','July','August','October','December'):\n",
    "    print('The month of',month, 'has 31 days')\n",
    "else:\n",
    "    print(month,'is not a valid month name.')"
   ]
  },
  {
   "cell_type": "code",
   "execution_count": null,
   "id": "37b1455c-915e-4cc1-bf63-26c6547352c4",
   "metadata": {},
   "outputs": [],
   "source": []
  }
 ],
 "metadata": {
  "kernelspec": {
   "display_name": "Python 3 (ipykernel)",
   "language": "python",
   "name": "python3"
  },
  "language_info": {
   "codemirror_mode": {
    "name": "ipython",
    "version": 3
   },
   "file_extension": ".py",
   "mimetype": "text/x-python",
   "name": "python",
   "nbconvert_exporter": "python",
   "pygments_lexer": "ipython3",
   "version": "3.12.4"
  }
 },
 "nbformat": 4,
 "nbformat_minor": 5
}
