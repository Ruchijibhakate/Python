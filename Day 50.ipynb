{
 "cells": [
  {
   "cell_type": "markdown",
   "id": "9beb9701-6f02-4b2b-b9ce-9d2ffd9d63c7",
   "metadata": {},
   "source": [
    "### 1. Check whether string contains all the letters of alphabets"
   ]
  },
  {
   "cell_type": "code",
   "execution_count": 8,
   "id": "83010dde-ff7c-4aa9-9372-cf6701b914e7",
   "metadata": {},
   "outputs": [
    {
     "name": "stdout",
     "output_type": "stream",
     "text": [
      "False\n",
      "True\n"
     ]
    }
   ],
   "source": [
    "import string\n",
    "alphabet = set(string.ascii_lowercase)\n",
    "\n",
    "input_string='The quick brown box jumps over the lazy dog.'\n",
    "print(set(input_string.lower()) >= alphabet)\n",
    "\n",
    "input_string='qwertyuiopasdfghjklzxcvbnm.'\n",
    "print(set(input_string.lower()) >= alphabet)"
   ]
  },
  {
   "cell_type": "markdown",
   "id": "9b44cdd9-4304-4ef6-b048-d6f43ba6e121",
   "metadata": {},
   "source": [
    "### 2. WAP to convert a string into list of words"
   ]
  },
  {
   "cell_type": "code",
   "execution_count": 14,
   "id": "9511ff63-ba5d-4743-b50c-d0a38a48451d",
   "metadata": {},
   "outputs": [
    {
     "name": "stdout",
     "output_type": "stream",
     "text": [
      "['The', 'quick', 'brown', 'box', 'jumps', 'over', 'the', 'lazy', 'dog.']\n"
     ]
    }
   ],
   "source": [
    "str='The quick brown box jumps over the lazy dog.'\n",
    "list=[]\n",
    "for i in str.split(' '):\n",
    "    list.append(i)\n",
    "\n",
    "print(list)"
   ]
  },
  {
   "cell_type": "markdown",
   "id": "c0bec1d1-7ecb-45c4-b81d-c1ca7a5e70f0",
   "metadata": {},
   "source": [
    "### 3. WAP to lowercase first n characters in string"
   ]
  },
  {
   "cell_type": "code",
   "execution_count": 30,
   "id": "a5e3e3e7-dd32-4ad1-9d8c-11968491fc5b",
   "metadata": {},
   "outputs": [
    {
     "name": "stdout",
     "output_type": "stream",
     "text": [
      "pythON IS LANGUAGE\n"
     ]
    }
   ],
   "source": [
    "str='PYTHON IS LANGUAGE'\n",
    "n=4\n",
    "str1=str[:n]\n",
    "str2=str[n:len(str)]\n",
    "str3=str1.lower()\n",
    "\n",
    "final_str=str3+str2\n",
    "print(final_str)"
   ]
  },
  {
   "cell_type": "markdown",
   "id": "7f1730e9-dda0-46bf-b47e-99a96f8d9ec0",
   "metadata": {},
   "source": [
    "### 4. WAP to swap comma and dot in string"
   ]
  },
  {
   "cell_type": "code",
   "execution_count": 40,
   "id": "bbae9a78-8d38-4a44-8de3-77761ab6a0ee",
   "metadata": {},
   "outputs": [
    {
     "name": "stdout",
     "output_type": "stream",
     "text": [
      "23,0425.90\n"
     ]
    }
   ],
   "source": [
    "amount='23.0425,90'\n",
    "maketrans=amount.maketrans\n",
    "amount=amount.translate(maketrans(',.','.,'))\n",
    "print(amount)"
   ]
  },
  {
   "cell_type": "markdown",
   "id": "63a3b912-9999-46e1-bcd8-89637653a18a",
   "metadata": {},
   "source": [
    "### 5. WAP to display vowels in text"
   ]
  },
  {
   "cell_type": "code",
   "execution_count": 43,
   "id": "aae7d531-59ed-44da-9400-26ddcb0951a2",
   "metadata": {},
   "outputs": [
    {
     "name": "stdout",
     "output_type": "stream",
     "text": [
      "3\n",
      "['i', 'u', 'a']\n"
     ]
    }
   ],
   "source": [
    "def vowel(text):\n",
    "    vowels='aeiouAEIOU'\n",
    "    print(len([letter for letter in text if letter in vowels]))\n",
    "    print([letter for letter in text if letter in vowels])\n",
    "\n",
    "vowel('rituals')"
   ]
  },
  {
   "cell_type": "code",
   "execution_count": null,
   "id": "d25eab1f-d388-4c37-8400-dfc1119c76a4",
   "metadata": {},
   "outputs": [],
   "source": []
  }
 ],
 "metadata": {
  "kernelspec": {
   "display_name": "Python 3 (ipykernel)",
   "language": "python",
   "name": "python3"
  },
  "language_info": {
   "codemirror_mode": {
    "name": "ipython",
    "version": 3
   },
   "file_extension": ".py",
   "mimetype": "text/x-python",
   "name": "python",
   "nbconvert_exporter": "python",
   "pygments_lexer": "ipython3",
   "version": "3.12.4"
  }
 },
 "nbformat": 4,
 "nbformat_minor": 5
}
