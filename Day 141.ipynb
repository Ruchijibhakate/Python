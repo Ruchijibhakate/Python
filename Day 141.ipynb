{
 "cells": [
  {
   "cell_type": "markdown",
   "id": "42679ee1-8624-4181-85b3-2b67da785a59",
   "metadata": {},
   "source": [
    "### 1. Write a Python program to check whether an element exists within a tuple."
   ]
  },
  {
   "cell_type": "code",
   "execution_count": 8,
   "id": "11b64648-8823-4d3a-b6d5-dfa48286f6ab",
   "metadata": {},
   "outputs": [
    {
     "name": "stdout",
     "output_type": "stream",
     "text": [
      "False\n",
      "True\n"
     ]
    }
   ],
   "source": [
    "t1=(1,2,3,4,5)\n",
    "print(6 in t1)\n",
    "print(3 in t1)"
   ]
  },
  {
   "cell_type": "markdown",
   "id": "48d73cf3-b1e9-4b00-be6a-fad05e39bedc",
   "metadata": {},
   "source": [
    "### 2. Write a Python program to convert a list to a tuple"
   ]
  },
  {
   "cell_type": "code",
   "execution_count": 13,
   "id": "d47c41dd-b868-4e79-a68e-37f1f4a50cdb",
   "metadata": {},
   "outputs": [
    {
     "name": "stdout",
     "output_type": "stream",
     "text": [
      "(2, 3, 4, 5, 6)\n"
     ]
    }
   ],
   "source": [
    "L1=[2,3,4,5,6]\n",
    "tuple1=tuple(L1)\n",
    "print(tuple1)"
   ]
  },
  {
   "cell_type": "code",
   "execution_count": null,
   "id": "f44afe4d-c04a-47c6-9739-fcd5c35d42aa",
   "metadata": {},
   "outputs": [],
   "source": []
  }
 ],
 "metadata": {
  "kernelspec": {
   "display_name": "Python 3 (ipykernel)",
   "language": "python",
   "name": "python3"
  },
  "language_info": {
   "codemirror_mode": {
    "name": "ipython",
    "version": 3
   },
   "file_extension": ".py",
   "mimetype": "text/x-python",
   "name": "python",
   "nbconvert_exporter": "python",
   "pygments_lexer": "ipython3",
   "version": "3.12.4"
  }
 },
 "nbformat": 4,
 "nbformat_minor": 5
}
