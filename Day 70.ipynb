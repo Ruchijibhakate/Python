{
 "cells": [
  {
   "cell_type": "markdown",
   "id": "974044d9-3054-44a9-9519-17ffbe4d6372",
   "metadata": {},
   "source": [
    "### 1. WAP to find the maximum elements in list"
   ]
  },
  {
   "cell_type": "code",
   "execution_count": 4,
   "id": "005e158d-a6e5-4f22-bced-9a6b1d309f22",
   "metadata": {},
   "outputs": [
    {
     "name": "stdout",
     "output_type": "stream",
     "text": [
      "90\n"
     ]
    }
   ],
   "source": [
    "list=[6,45,28,10,90,38,76]\n",
    "max_element=max(list)\n",
    "print(max_element)"
   ]
  },
  {
   "cell_type": "markdown",
   "id": "c918cdd7-9636-4107-b48a-829f59285f75",
   "metadata": {},
   "source": [
    "### 2. Calculate square root of given number"
   ]
  },
  {
   "cell_type": "code",
   "execution_count": 12,
   "id": "35a58038-3e88-4575-93cd-83d094393671",
   "metadata": {},
   "outputs": [
    {
     "name": "stdin",
     "output_type": "stream",
     "text": [
      "Enter a Number : 200\n"
     ]
    },
    {
     "name": "stdout",
     "output_type": "stream",
     "text": [
      "14.1421\n"
     ]
    }
   ],
   "source": [
    "import math\n",
    "num=float(input('Enter a Number :'))\n",
    "square_root=round(math.sqrt(num),4)\n",
    "print(square_root)"
   ]
  },
  {
   "cell_type": "markdown",
   "id": "9915ada2-36f7-4585-a63d-2dd68b6b0a10",
   "metadata": {},
   "source": [
    "### 3. Check if two strings are anagrams"
   ]
  },
  {
   "cell_type": "code",
   "execution_count": 15,
   "id": "e1533988-9564-4334-bcfd-f43f20f55f4a",
   "metadata": {},
   "outputs": [
    {
     "name": "stdin",
     "output_type": "stream",
     "text": [
      "Enter a First String : listen\n",
      "Enetr a Second String : silent\n"
     ]
    },
    {
     "name": "stdout",
     "output_type": "stream",
     "text": [
      "Two strings are Anagrams\n"
     ]
    }
   ],
   "source": [
    "def are_anagrams(str1,str2):\n",
    "    return sorted(str1)==sorted(str2)\n",
    "\n",
    "string1=input('Enter a First String :')\n",
    "string2=input('Enetr a Second String :')\n",
    "if are_anagrams(string1,string2):\n",
    "    print('Two strings are Anagrams')\n",
    "else:\n",
    "    print('Two strings are not Anagrams')"
   ]
  },
  {
   "cell_type": "markdown",
   "id": "f1d6722f-0b9b-4985-b14b-ff8796fd1778",
   "metadata": {},
   "source": [
    "### 4. Chcek if list is empty"
   ]
  },
  {
   "cell_type": "code",
   "execution_count": 24,
   "id": "b34fc3fb-6e73-4f2b-9e85-96dd65bd21f2",
   "metadata": {},
   "outputs": [
    {
     "name": "stdout",
     "output_type": "stream",
     "text": [
      "List is Empty\n"
     ]
    }
   ],
   "source": [
    "L=[]\n",
    "if not L:\n",
    "    print('List is Empty')\n",
    "else:\n",
    "    print('List is not Empty')"
   ]
  },
  {
   "cell_type": "markdown",
   "id": "c19b416e-98b4-40c1-89d8-539bbd796f9f",
   "metadata": {},
   "source": [
    "### 5. Calculate Power of a number without using operator"
   ]
  },
  {
   "cell_type": "code",
   "execution_count": 9,
   "id": "2356bf61-54d2-4dd5-ad0c-f59601d69dda",
   "metadata": {},
   "outputs": [
    {
     "name": "stdin",
     "output_type": "stream",
     "text": [
      "Enter a Base : 4\n",
      "Enetr a power 2\n"
     ]
    },
    {
     "name": "stdout",
     "output_type": "stream",
     "text": [
      "4 ^ 2 : 16\n"
     ]
    }
   ],
   "source": [
    "base=int(input('Enter a Base :'))\n",
    "power=int(input('Enetr a power'))\n",
    "res=1\n",
    "i=1\n",
    "while(i<=power):\n",
    "    res=res*base\n",
    "    i=i+1\n",
    "print(base,'^',power ,':',res)    "
   ]
  },
  {
   "cell_type": "code",
   "execution_count": null,
   "id": "b89e435c-0b98-4e54-bb7b-8162eb350fe4",
   "metadata": {},
   "outputs": [],
   "source": []
  }
 ],
 "metadata": {
  "kernelspec": {
   "display_name": "Python 3 (ipykernel)",
   "language": "python",
   "name": "python3"
  },
  "language_info": {
   "codemirror_mode": {
    "name": "ipython",
    "version": 3
   },
   "file_extension": ".py",
   "mimetype": "text/x-python",
   "name": "python",
   "nbconvert_exporter": "python",
   "pygments_lexer": "ipython3",
   "version": "3.12.4"
  }
 },
 "nbformat": 4,
 "nbformat_minor": 5
}
