{
 "cells": [
  {
   "cell_type": "markdown",
   "id": "aae62932-d031-4f85-ac2a-38a6ee77980d",
   "metadata": {},
   "source": [
    "### 1. Find the length of the tuple"
   ]
  },
  {
   "cell_type": "code",
   "execution_count": 4,
   "id": "edb0d66d-ccf1-428e-902b-fba3c20b1957",
   "metadata": {},
   "outputs": [
    {
     "data": {
      "text/plain": [
       "5"
      ]
     },
     "execution_count": 4,
     "metadata": {},
     "output_type": "execute_result"
    }
   ],
   "source": [
    "def len_tup(tup):\n",
    "    return len(tup)\n",
    "\n",
    "len_tup((1,2,3,4,5))"
   ]
  },
  {
   "cell_type": "markdown",
   "id": "5816d5ba-b8dc-4eb1-b011-e89e48c4bb94",
   "metadata": {},
   "source": [
    "### 2. WAP to create the tuple"
   ]
  },
  {
   "cell_type": "code",
   "execution_count": 2,
   "id": "7e58d12d-135c-4a85-b4ce-fd6a6036ac9b",
   "metadata": {},
   "outputs": [
    {
     "name": "stdout",
     "output_type": "stream",
     "text": [
      "()\n"
     ]
    }
   ],
   "source": [
    "tuple1=tuple()\n",
    "print(tuple1)"
   ]
  },
  {
   "cell_type": "markdown",
   "id": "83c75516-6fb6-4784-bd45-95a6abdb59b8",
   "metadata": {},
   "source": [
    "### 3. WAP to create the tuple with the different data type"
   ]
  },
  {
   "cell_type": "code",
   "execution_count": 7,
   "id": "c108ce7f-3138-43e5-b9a4-27c28d9c61a4",
   "metadata": {},
   "outputs": [
    {
     "name": "stdout",
     "output_type": "stream",
     "text": [
      "(23, 'True', 54.9, 'Good Morning')\n"
     ]
    }
   ],
   "source": [
    "tuple2=(23,\"True\",54.90,\"Good Morning\")\n",
    "print(tuple2)"
   ]
  },
  {
   "cell_type": "markdown",
   "id": "265230d8-173e-484f-9ef9-92df253591d7",
   "metadata": {},
   "source": [
    "### 4. WAP to create the tuple of numbers and print one item"
   ]
  },
  {
   "cell_type": "code",
   "execution_count": 14,
   "id": "298a60fa-b61f-4e20-8f49-8c2605d7b01a",
   "metadata": {},
   "outputs": [
    {
     "name": "stdout",
     "output_type": "stream",
     "text": [
      "(1, 2, 3, 4, 5, 6, 7)\n",
      "(2,)\n"
     ]
    }
   ],
   "source": [
    "tuple3=(1,2,3,4,5,6,7)\n",
    "print(tuple3)\n",
    "\n",
    "tuple3=(2,)\n",
    "print(tuple3)"
   ]
  },
  {
   "cell_type": "markdown",
   "id": "1b0a6d7e-1e55-476a-afc4-10daf19c80ed",
   "metadata": {},
   "source": [
    "### 5. WAP to unpack the tuple into several variables"
   ]
  },
  {
   "cell_type": "code",
   "execution_count": 21,
   "id": "7d839d6b-67b2-48ca-bc12-93a06fd8fa61",
   "metadata": {},
   "outputs": [
    {
     "name": "stdout",
     "output_type": "stream",
     "text": [
      "(3, 4, 5, 6)\n",
      "3\n",
      "4\n",
      "5\n",
      "6\n"
     ]
    }
   ],
   "source": [
    "tuple=(3,4,5,6)\n",
    "print(tuple)\n",
    "\n",
    "n1,n2,n3,n4=tuple\n",
    "print(n1)\n",
    "print(n2)\n",
    "print(n3)\n",
    "print(n4)"
   ]
  },
  {
   "cell_type": "markdown",
   "id": "c4dffb8d-6a46-4e40-9c5c-c62771ad83f4",
   "metadata": {},
   "source": [
    "### 6. WAP to convert the tuple to a string"
   ]
  },
  {
   "cell_type": "code",
   "execution_count": 23,
   "id": "38b5b84c-fbd7-4a54-87d5-1d908b3a3395",
   "metadata": {},
   "outputs": [
    {
     "name": "stdout",
     "output_type": "stream",
     "text": [
      "apple\n"
     ]
    }
   ],
   "source": [
    "tuple=('a','p','p','l','e')\n",
    "str=''\n",
    "for i in tuple:\n",
    "    str=str+i\n",
    "print(str)    "
   ]
  },
  {
   "cell_type": "markdown",
   "id": "7291a45e-c125-4533-8c60-3bfee12aac44",
   "metadata": {},
   "source": [
    "### 7. WAP to get the 4th element from the last elemnt of the tuple"
   ]
  },
  {
   "cell_type": "code",
   "execution_count": 30,
   "id": "b0c67645-ed20-4c70-bac0-a1d386cb830a",
   "metadata": {},
   "outputs": [
    {
     "data": {
      "text/plain": [
       "4"
      ]
     },
     "execution_count": 30,
     "metadata": {},
     "output_type": "execute_result"
    }
   ],
   "source": [
    "tuple=('e',2,'h',5,4,6,7,'g')\n",
    "tuple[-4]"
   ]
  },
  {
   "cell_type": "markdown",
   "id": "3d9e1d62-8ee3-4302-be0a-bc710ea6c42f",
   "metadata": {},
   "source": [
    "### 8. WAP to make colon/copy of the tuple"
   ]
  },
  {
   "cell_type": "code",
   "execution_count": 41,
   "id": "1a988318-f9bb-4322-960f-d3b8a8336d2e",
   "metadata": {},
   "outputs": [
    {
     "name": "stdout",
     "output_type": "stream",
     "text": [
      "(1, 2, 3, 4, 5)\n"
     ]
    }
   ],
   "source": [
    "t1=(1,2,3,4,5)\n",
    "t2=t1[::]\n",
    "print(t2)\n"
   ]
  },
  {
   "cell_type": "code",
   "execution_count": 47,
   "id": "8f6fc531-8511-4710-af6d-f8f8378b72e5",
   "metadata": {},
   "outputs": [
    {
     "name": "stdout",
     "output_type": "stream",
     "text": [
      "(54, 'hello', [], 46.81)\n"
     ]
    }
   ],
   "source": [
    "from copy import deepcopy\n",
    "\n",
    "tuple=(54,'hello',[],46.81)\n",
    "tuple_copy=deepcopy(tuple)\n",
    "print(tuple_copy)"
   ]
  },
  {
   "cell_type": "markdown",
   "id": "0db33a2f-65b2-453d-89ec-58cd5fa451d5",
   "metadata": {},
   "source": [
    "### 9. WAP to find the repeated items in the tuple"
   ]
  },
  {
   "cell_type": "code",
   "execution_count": 76,
   "id": "fa9b8c90-b3da-4935-a59e-2d865735739e",
   "metadata": {},
   "outputs": [
    {
     "name": "stdout",
     "output_type": "stream",
     "text": [
      "Repeated items in the tuple are  [1, 2, 3, 5]\n"
     ]
    }
   ],
   "source": [
    "tuple=(1,2,3,4,1,5,3,8,2,5,3,0)\n",
    "list=[]\n",
    "for i in tuple:\n",
    "    a=tuple.count(i)            # count the occurence of the item in tuple\n",
    "    if a>1:\n",
    "        if i not in list:\n",
    "            list.append(i)\n",
    "print(\"Repeated items in the tuple are \",list)        \n",
    "        "
   ]
  },
  {
   "cell_type": "markdown",
   "id": "cfe6f82b-0072-4482-8e28-f3c6f174f214",
   "metadata": {},
   "source": [
    "### 10. WAP to convert list into tuple "
   ]
  },
  {
   "cell_type": "code",
   "execution_count": 3,
   "id": "39416c77-b8ea-4465-b490-9486e88cdc90",
   "metadata": {},
   "outputs": [
    {
     "name": "stdout",
     "output_type": "stream",
     "text": [
      "[1, 2, 3, 4, 5]\n",
      "(1, 2, 3, 4, 5)\n"
     ]
    }
   ],
   "source": [
    "list=[1,2,3,4,5]\n",
    "print(list)\n",
    "t1=tuple(list)\n",
    "print(t1)"
   ]
  },
  {
   "cell_type": "code",
   "execution_count": null,
   "id": "d3611f91-f202-442e-9e9a-ead3d9c63880",
   "metadata": {},
   "outputs": [],
   "source": []
  }
 ],
 "metadata": {
  "kernelspec": {
   "display_name": "Python 3 (ipykernel)",
   "language": "python",
   "name": "python3"
  },
  "language_info": {
   "codemirror_mode": {
    "name": "ipython",
    "version": 3
   },
   "file_extension": ".py",
   "mimetype": "text/x-python",
   "name": "python",
   "nbconvert_exporter": "python",
   "pygments_lexer": "ipython3",
   "version": "3.12.4"
  }
 },
 "nbformat": 4,
 "nbformat_minor": 5
}
