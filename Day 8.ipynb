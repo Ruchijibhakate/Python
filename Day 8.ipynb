{
 "cells": [
  {
   "cell_type": "markdown",
   "id": "3d41fce5-579a-46d2-b90a-f118419a98a9",
   "metadata": {},
   "source": [
    "### 1. Double hill pattern"
   ]
  },
  {
   "cell_type": "code",
   "execution_count": 77,
   "id": "6e8f2a56-62dc-4da9-94da-60d60fec7790",
   "metadata": {},
   "outputs": [
    {
     "name": "stdout",
     "output_type": "stream",
     "text": [
      "     *       * \n",
      "    * *     * * \n",
      "   * * *   * * * \n",
      "  * * * * * * * * \n",
      " * * * * * * * * * \n"
     ]
    }
   ],
   "source": [
    "\n",
    "n=5\n",
    "for i in range(1,n+1):\n",
    "    for j in range(i,n+1):\n",
    "        print(\" \",end=\"\")\n",
    "    for j in range(1,i+1):\n",
    "        print(\"*\",end=\" \")\n",
    "   \n",
    "    for j in range(i+1,n):\n",
    "        print(\" \",end=\" \")\n",
    "    for j in range(1,i+1):\n",
    "        if i==5 and j==5:\n",
    "            break\n",
    "        print(\"*\",end=\" \")\n",
    "\n",
    "    print()"
   ]
  },
  {
   "cell_type": "markdown",
   "id": "231c2a40-9e88-42b5-b078-807533cff053",
   "metadata": {},
   "source": [
    "### 2. WAP to print the following pattern"
   ]
  },
  {
   "cell_type": "code",
   "execution_count": 13,
   "id": "5e2db4e5-4eec-403e-90d4-2efffa21bba2",
   "metadata": {},
   "outputs": [
    {
     "name": "stdout",
     "output_type": "stream",
     "text": [
      "1 \n",
      "1 2 \n",
      "1 2 3 \n",
      "1 2 3 4 \n",
      "1 2 3 4 5 \n"
     ]
    }
   ],
   "source": [
    "for i in range(1,6):\n",
    "    for j in range(1,i+1):\n",
    "        print(j,end=\" \")\n",
    "    print()    "
   ]
  },
  {
   "cell_type": "markdown",
   "id": "e07ff223-bc16-4207-8b0d-11a35dbe13ab",
   "metadata": {},
   "source": [
    "### 3. WAP to print the following reverse number pattern"
   ]
  },
  {
   "cell_type": "code",
   "execution_count": 15,
   "id": "c62f4512-34ec-4c6e-83fa-e9774ccf487c",
   "metadata": {},
   "outputs": [
    {
     "name": "stdout",
     "output_type": "stream",
     "text": [
      "5 4 3 2 1 \n",
      "4 3 2 1 \n",
      "3 2 1 \n",
      "2 1 \n",
      "1 \n"
     ]
    }
   ],
   "source": [
    "n=5\n",
    "for i in range(n,0,-1):\n",
    "    for j in range(i,0,-1):\n",
    "        print(j,end=\" \")\n",
    "    print()    "
   ]
  },
  {
   "cell_type": "markdown",
   "id": "c8999c88-6e8d-4d4b-9039-180787d54b53",
   "metadata": {},
   "source": [
    "### 4 "
   ]
  },
  {
   "cell_type": "code",
   "execution_count": 25,
   "id": "f2af9153-8156-4643-8dbd-ab9f703e9310",
   "metadata": {},
   "outputs": [
    {
     "name": "stdout",
     "output_type": "stream",
     "text": [
      "* \n",
      "* * \n",
      "* * * \n",
      "* * * * \n",
      "* * * * * \n",
      "* * * * \n",
      "* * * \n",
      "* * \n",
      "* \n"
     ]
    }
   ],
   "source": [
    "n=5 \n",
    "for i in range(1,n+1):\n",
    "    for j in range(1,i+1):\n",
    "        print(\"*\",end=\" \")\n",
    "    print()  \n",
    "for i in range(2,n+1):\n",
    "    for j in range(i,n+1):\n",
    "        print(\"*\",end=\" \")\n",
    "    print()    "
   ]
  },
  {
   "cell_type": "markdown",
   "id": "70d96dc0-3a7e-47f6-b92b-f63f3b5cc856",
   "metadata": {},
   "source": [
    "### 5"
   ]
  },
  {
   "cell_type": "code",
   "execution_count": 1,
   "id": "6cb27530-f9ed-4536-a1b2-5e1450fb06a7",
   "metadata": {},
   "outputs": [
    {
     "name": "stdout",
     "output_type": "stream",
     "text": [
      "          * \n",
      "        * * \n",
      "      * * * \n",
      "    * * * * \n",
      "  * * * * * \n",
      "    * * * * \n",
      "      * * * \n",
      "        * * \n",
      "          * \n"
     ]
    }
   ],
   "source": [
    "n=5\n",
    "for i in range(1,n+1):\n",
    "    for j in range(i,n+1):\n",
    "        print(\" \",end=\" \")\n",
    "    for j in range(1,i+1):\n",
    "        print(\"*\",end=\" \")\n",
    "    print()\n",
    "for i in range(2,n+1):\n",
    "    for j in range(1,i+1):\n",
    "        print(\" \",end=\" \")\n",
    "    for j in range(i,n+1):\n",
    "        print(\"*\",end=\" \")\n",
    "    print()    \n"
   ]
  },
  {
   "cell_type": "markdown",
   "id": "ce1ff7de-e0d9-4781-aba5-1c5ccd521a1e",
   "metadata": {},
   "source": [
    "### 6"
   ]
  },
  {
   "cell_type": "code",
   "execution_count": 99,
   "id": "9238e810-26fa-44ef-8e17-20c925fd0a72",
   "metadata": {},
   "outputs": [
    {
     "name": "stdout",
     "output_type": "stream",
     "text": [
      "*               * \n",
      "* *           * * \n",
      "* * *       * * * \n",
      "* * * *   * * * * \n",
      "* * * * * * * * * \n",
      "* * * *   * * * * \n",
      "* * *       * * * \n",
      "* *           * * \n",
      "*               * \n"
     ]
    }
   ],
   "source": [
    "n=5 \n",
    "for i in range(1,n+1):\n",
    "    for j in range(1,i+1):\n",
    "        if i==5 and j==5:\n",
    "            break\n",
    "        print(\"*\",end=\" \")\n",
    "    for j in range(i,n):\n",
    "        print(\" \",end=\" \")\n",
    "    for j in range(i+1,n):\n",
    "        print(\" \",end=\" \")\n",
    "    for j in range(1,i+1): \n",
    "        print(\"*\",end=\" \")\n",
    "    print()    \n",
    "for i in range(2,n+1):\n",
    "    for j in range(i,n+1):\n",
    "        print(\"*\",end=\" \")\n",
    "    for j in range(1,i):\n",
    "        print(\" \",end=\" \")\n",
    "    for j in range(2,i):\n",
    "        print(\" \",end=\" \")\n",
    "    for j in range(i,n+1):\n",
    "        print(\"*\",end=\" \")\n",
    "    print()    \n",
    "     \n",
    "         \n",
    "        "
   ]
  },
  {
   "cell_type": "markdown",
   "id": "f7e5d228-335f-422f-9ed5-34113ee8d838",
   "metadata": {},
   "source": [
    "### 7"
   ]
  },
  {
   "cell_type": "code",
   "execution_count": 3,
   "id": "d30b79e9-3db5-46d9-95e3-e8cbed8945df",
   "metadata": {},
   "outputs": [
    {
     "name": "stdin",
     "output_type": "stream",
     "text": [
      "Enter a number : 4\n"
     ]
    },
    {
     "name": "stdout",
     "output_type": "stream",
     "text": [
      "1\n",
      "121\n",
      "12321\n",
      "1234321\n"
     ]
    }
   ],
   "source": [
    "n=int(input(\"Enter a number :\"))\n",
    "for i in range(1,n+1):\n",
    "    for j in range(1,i+1):\n",
    "        print(j,end=\"\")\n",
    "    for k in range(i-1,0,-1):\n",
    "        print(k,end=\"\")\n",
    "    print()    "
   ]
  },
  {
   "cell_type": "markdown",
   "id": "eac29cdc-ddff-403e-8390-b5a00f33e4c1",
   "metadata": {},
   "source": [
    "### 8"
   ]
  },
  {
   "cell_type": "code",
   "execution_count": 1,
   "id": "93c76b9d-7e9b-4335-a7c0-d5b57c2e1b6c",
   "metadata": {},
   "outputs": [
    {
     "name": "stdout",
     "output_type": "stream",
     "text": [
      "1 \n",
      "1 4 \n",
      "1 4 9 \n",
      "1 4 9 16 \n",
      "1 4 9 16 25 \n"
     ]
    }
   ],
   "source": [
    "n=5\n",
    "for i in range(1,n+1):\n",
    "    for j in range(1,i+1):\n",
    "        print(j*j,end=\" \")\n",
    "    print()    \n"
   ]
  },
  {
   "cell_type": "markdown",
   "id": "f0211531-d733-4dd9-ad2a-b6f368078ac2",
   "metadata": {},
   "source": [
    "### 9"
   ]
  },
  {
   "cell_type": "code",
   "execution_count": 4,
   "id": "8384660f-d9ae-4ead-9d1b-c9288ed222a0",
   "metadata": {},
   "outputs": [
    {
     "name": "stdout",
     "output_type": "stream",
     "text": [
      "1 \n",
      "2 2 \n",
      "3 3 3 \n",
      "4 4 4 4 \n",
      "5 5 5 5 5 \n"
     ]
    }
   ],
   "source": [
    "n=5\n",
    "for i in range(1,n+1):\n",
    "    for j in range(1,i+1):\n",
    "        print(i,end=\" \")\n",
    "    print()    \n"
   ]
  },
  {
   "cell_type": "markdown",
   "id": "a30e41ce-c554-4b70-8a30-129363dffc9c",
   "metadata": {},
   "source": [
    "### 10"
   ]
  },
  {
   "cell_type": "code",
   "execution_count": 73,
   "id": "187e8b66-117e-44bf-a0bb-ff72f8d0dcf0",
   "metadata": {},
   "outputs": [
    {
     "name": "stdout",
     "output_type": "stream",
     "text": [
      "     1 \n",
      "    2 2 \n",
      "   3 3 3 \n",
      "  4 4 4 4 \n",
      " 5 5 5 5 5 \n",
      "  4 4 4 4 \n",
      "   3 3 3 \n",
      "    2 2 \n",
      "     1 \n",
      "      \n"
     ]
    }
   ],
   "source": [
    "n=5\n",
    "for i in range(1,n+1):\n",
    "    for j in range(i,n+1):\n",
    "        print(\" \",end=\"\")\n",
    "    for j in range(1,i+1):\n",
    "        print(i,end=\" \")\n",
    "    print()    \n",
    "for i in range(1,n+1):\n",
    "    for j in range(0,i+1):\n",
    "        print(\" \",end=\"\")\n",
    "    for j in range(n,i,-1):\n",
    "        print(n-i,end=\" \")\n",
    "    print()     "
   ]
  },
  {
   "cell_type": "code",
   "execution_count": 55,
   "id": "4069844c-5b70-41cf-8ec5-c502960fe5c5",
   "metadata": {},
   "outputs": [
    {
     "name": "stdout",
     "output_type": "stream",
     "text": [
      "  4 4 4 4 \n",
      "    3 3 3 \n",
      "      2 2 \n",
      "        1 \n",
      "          \n"
     ]
    }
   ],
   "source": [
    "n=5\n",
    "for i in range(1,n+1):\n",
    "    for j in range(1,i+1):\n",
    "        print(\" \",end=\" \")\n",
    "    for j in range(n,i,-1):\n",
    "        print(n-i,end=\" \")\n",
    "    print()     "
   ]
  },
  {
   "cell_type": "code",
   "execution_count": null,
   "id": "4b6759be-43c9-4215-a168-be94606809d2",
   "metadata": {},
   "outputs": [],
   "source": []
  }
 ],
 "metadata": {
  "kernelspec": {
   "display_name": "Python 3 (ipykernel)",
   "language": "python",
   "name": "python3"
  },
  "language_info": {
   "codemirror_mode": {
    "name": "ipython",
    "version": 3
   },
   "file_extension": ".py",
   "mimetype": "text/x-python",
   "name": "python",
   "nbconvert_exporter": "python",
   "pygments_lexer": "ipython3",
   "version": "3.12.4"
  }
 },
 "nbformat": 4,
 "nbformat_minor": 5
}
