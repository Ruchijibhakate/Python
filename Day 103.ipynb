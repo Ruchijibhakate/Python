{
 "cells": [
  {
   "cell_type": "markdown",
   "id": "56e7d44d-b5dd-491b-849c-80e75b9a2a89",
   "metadata": {},
   "source": [
    "### 1. Hill Pattern of Character"
   ]
  },
  {
   "cell_type": "code",
   "execution_count": 4,
   "id": "b4438b7d-3398-44b6-9eee-3df26e64c4f4",
   "metadata": {},
   "outputs": [
    {
     "name": "stdout",
     "output_type": "stream",
     "text": [
      "          A \n",
      "        B B B \n",
      "      C C C C C \n",
      "    D D D D D D D \n",
      "  E E E E E E E E E \n"
     ]
    }
   ],
   "source": [
    "n=5\n",
    "p=65\n",
    "for i in range(1,n+1):\n",
    "    for j in range(i,n+1):\n",
    "        print(' ',end=' ')\n",
    "    for j in range(1,i+1):\n",
    "        print(chr(p),end=' ')\n",
    "    for j in range(2,i+1):\n",
    "        print(chr(p),end=' ')\n",
    "    p=p+1    \n",
    "    print()\n",
    "     "
   ]
  },
  {
   "cell_type": "markdown",
   "id": "cd8a3443-216d-4f53-ae9f-2cae7ee424c1",
   "metadata": {},
   "source": [
    "### 2. Reverse Hill Pattern of Character"
   ]
  },
  {
   "cell_type": "code",
   "execution_count": 11,
   "id": "961e204e-9ca2-4306-b53c-0cc890625f3e",
   "metadata": {},
   "outputs": [
    {
     "name": "stdout",
     "output_type": "stream",
     "text": [
      "  A A A A A A A A A \n",
      "    B B B B B B B \n",
      "      C C C C C \n",
      "        D D D \n",
      "          E \n"
     ]
    }
   ],
   "source": [
    "n=5\n",
    "p=65\n",
    "for i in range(1,n+1):\n",
    "    for j in range(1,i+1):\n",
    "        print(' ',end=' ')\n",
    "    for j in range(i,n+1):\n",
    "        print(chr(p),end=' ')\n",
    "    for j in range(i+1,n+1):\n",
    "        print(chr(p),end=' ')\n",
    "    p=p+1    \n",
    "    print()"
   ]
  },
  {
   "cell_type": "code",
   "execution_count": null,
   "id": "9905538d-1b96-4a96-9c27-3fdaa9eca9d7",
   "metadata": {},
   "outputs": [],
   "source": []
  }
 ],
 "metadata": {
  "kernelspec": {
   "display_name": "Python 3 (ipykernel)",
   "language": "python",
   "name": "python3"
  },
  "language_info": {
   "codemirror_mode": {
    "name": "ipython",
    "version": 3
   },
   "file_extension": ".py",
   "mimetype": "text/x-python",
   "name": "python",
   "nbconvert_exporter": "python",
   "pygments_lexer": "ipython3",
   "version": "3.12.4"
  }
 },
 "nbformat": 4,
 "nbformat_minor": 5
}
