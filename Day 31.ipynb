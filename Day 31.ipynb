{
 "cells": [
  {
   "cell_type": "markdown",
   "id": "5446a230-dbe8-4b75-a9c2-2c060d46ddb7",
   "metadata": {},
   "source": [
    "### 1. Write a python function to find the maximum of three numbers"
   ]
  },
  {
   "cell_type": "code",
   "execution_count": 2,
   "id": "4cd16cf6-48b6-4f83-8ac0-2df5e24cc661",
   "metadata": {},
   "outputs": [
    {
     "name": "stdout",
     "output_type": "stream",
     "text": [
      "60 is the largest number\n"
     ]
    }
   ],
   "source": [
    "def max(a,b,c):\n",
    "    if a>b and a>c:\n",
    "        print(a,'is the largest number')\n",
    "    elif b>a and b>c:\n",
    "        print(b,'is the largest number')\n",
    "    else:\n",
    "        print(c,'is the largest number')\n",
    "\n",
    "max(12,60,34)"
   ]
  },
  {
   "cell_type": "markdown",
   "id": "c2932c10-d4ea-4a41-b8a7-6dc99026c242",
   "metadata": {},
   "source": [
    "### 2. Write a python function to find the sum of all numbers in list"
   ]
  },
  {
   "cell_type": "code",
   "execution_count": 5,
   "id": "ec2b8bd6-c28a-45d5-87a1-023731f630cc",
   "metadata": {},
   "outputs": [
    {
     "data": {
      "text/plain": [
       "19"
      ]
     },
     "execution_count": 5,
     "metadata": {},
     "output_type": "execute_result"
    }
   ],
   "source": [
    "def sum(list):\n",
    "    sum=0\n",
    "    for i in list:\n",
    "        sum=sum+i\n",
    "    return sum\n",
    "\n",
    "sum([8,2,3,-1,7])"
   ]
  },
  {
   "cell_type": "markdown",
   "id": "db0a7bfb-c4bb-499b-9919-2dfb10a876b6",
   "metadata": {},
   "source": [
    "### 3. Write a pyhton function to reverse a string"
   ]
  },
  {
   "cell_type": "code",
   "execution_count": 24,
   "id": "6f5c674f-d39d-4de1-b6b2-1ade22a1b0c1",
   "metadata": {},
   "outputs": [
    {
     "data": {
      "text/plain": [
       "'dcba4321'"
      ]
     },
     "execution_count": 24,
     "metadata": {},
     "output_type": "execute_result"
    }
   ],
   "source": [
    "def reverse(str):\n",
    "    rev_str=str[::-1]\n",
    "    return rev_str\n",
    "\n",
    "reverse('1234abcd')"
   ]
  },
  {
   "cell_type": "markdown",
   "id": "e6a29d2c-0191-46d7-91a8-9aa42ccae2bc",
   "metadata": {},
   "source": [
    "### 4. Write a python function to calculate the factorial of number (non negative) . The function accept the number as an arguement."
   ]
  },
  {
   "cell_type": "code",
   "execution_count": 32,
   "id": "f7006d48-9ba6-4522-ad21-f568b36b4e84",
   "metadata": {},
   "outputs": [
    {
     "data": {
      "text/plain": [
       "24"
      ]
     },
     "execution_count": 32,
     "metadata": {},
     "output_type": "execute_result"
    }
   ],
   "source": [
    "def factorial(n):\n",
    "    fact=1\n",
    "    i=1\n",
    "    while i<=n:\n",
    "        fact=fact*i\n",
    "        i=i+1\n",
    "    return fact\n",
    "\n",
    "factorial(4)    \n",
    "        "
   ]
  },
  {
   "cell_type": "markdown",
   "id": "0b3663e5-2a68-4882-a10f-c05e593bf172",
   "metadata": {},
   "source": [
    "### 5. Write a python function to multiply all the numbers in list"
   ]
  },
  {
   "cell_type": "code",
   "execution_count": 35,
   "id": "a4624337-0028-4080-9981-f6b01d84256d",
   "metadata": {},
   "outputs": [
    {
     "data": {
      "text/plain": [
       "324"
      ]
     },
     "execution_count": 35,
     "metadata": {},
     "output_type": "execute_result"
    }
   ],
   "source": [
    "def multiplication(list):\n",
    "    multi=1\n",
    "    for i in list:\n",
    "        multi=multi*i\n",
    "    return multi\n",
    "\n",
    "multiplication([3,9,2,6,1])"
   ]
  },
  {
   "cell_type": "markdown",
   "id": "0e38808c-0296-4994-8e9f-07fe6003b1e1",
   "metadata": {},
   "source": [
    "### 6. Write a python function to check whether a number falls within the given range"
   ]
  },
  {
   "cell_type": "code",
   "execution_count": 38,
   "id": "f771d465-be5b-411f-a80b-4253930511b6",
   "metadata": {},
   "outputs": [
    {
     "name": "stdout",
     "output_type": "stream",
     "text": [
      "5 falls within the range 1 to 50\n"
     ]
    }
   ],
   "source": [
    "def check_range(n):\n",
    "    if n in range(1,50):\n",
    "        print(n,'falls within the range 1 to 50')\n",
    "    else:\n",
    "        print(n,'does not falls within the range 1 to 50')\n",
    "\n",
    "check_range(5)"
   ]
  },
  {
   "cell_type": "markdown",
   "id": "65846610-408c-4295-a7f8-0e6dc769693d",
   "metadata": {},
   "source": [
    "### 7. Write a python function that accepts the string and counts the number of upper and lower case letters"
   ]
  },
  {
   "cell_type": "code",
   "execution_count": 47,
   "id": "c23770da-a1ca-4d2e-b14c-498f5e0ccea0",
   "metadata": {},
   "outputs": [
    {
     "name": "stdout",
     "output_type": "stream",
     "text": [
      "No of upper case charachters : 3\n",
      "No of lower case charachters : 12\n"
     ]
    }
   ],
   "source": [
    "def upper_lower(str):\n",
    "    uc=0\n",
    "    lc=0\n",
    "    for i in str:\n",
    "        if i.isupper():\n",
    "            uc=uc+1\n",
    "        elif i.islower():\n",
    "            lc=lc+1\n",
    "        else:\n",
    "            pass   # if i is neither upper nor lower\n",
    "    print('No of upper case charachters :',uc)\n",
    "    print('No of lower case charachters :',lc)\n",
    "\n",
    "upper_lower('The quick Brow Fox')        \n",
    "            "
   ]
  },
  {
   "cell_type": "markdown",
   "id": "aecbe480-04e3-4549-976e-9f4e8d8485c8",
   "metadata": {},
   "source": [
    "### 8. Write a python function that takes a list and returns a new list with the distinct elements from the first list"
   ]
  },
  {
   "cell_type": "code",
   "execution_count": 57,
   "id": "6da488ab-0ebd-4445-bbb0-c56df9c815cf",
   "metadata": {},
   "outputs": [
    {
     "data": {
      "text/plain": [
       "[2, 1, 8, 4, 0, 3]"
      ]
     },
     "execution_count": 57,
     "metadata": {},
     "output_type": "execute_result"
    }
   ],
   "source": [
    "def unique_list(list):\n",
    "    unique_list=[]\n",
    "    for i in list:\n",
    "        if i not in unique_list:\n",
    "            unique_list.append(i)\n",
    "    return  unique_list\n",
    "\n",
    "unique_list([2,1,8,4,0,0,2,4,8,8,3])"
   ]
  },
  {
   "cell_type": "markdown",
   "id": "993a4ca0-bd8a-4376-93aa-1fa070a5073d",
   "metadata": {},
   "source": [
    "### 9.Write a python function that takes a number as parameter and checks whether number is prime or not"
   ]
  },
  {
   "cell_type": "code",
   "execution_count": 83,
   "id": "77569ec1-992d-40cd-85f9-aa5ff5238708",
   "metadata": {},
   "outputs": [
    {
     "name": "stdout",
     "output_type": "stream",
     "text": [
      "19 is prime number\n"
     ]
    }
   ],
   "source": [
    "def prime(num):\n",
    "    for i in range(2,num):\n",
    "        if num%i==0:\n",
    "            print(num,'is not prime number')\n",
    "            break\n",
    "    else:\n",
    "        print(num,'is prime number')\n",
    "\n",
    "prime(19)"
   ]
  },
  {
   "cell_type": "markdown",
   "id": "77550d1b-72ad-4503-a983-eb2d08daa2c0",
   "metadata": {},
   "source": [
    "### 10. Write the python function to print even numbers from the list"
   ]
  },
  {
   "cell_type": "code",
   "execution_count": 90,
   "id": "58515b23-5ac8-4712-a3e0-47ba7d7ba984",
   "metadata": {},
   "outputs": [
    {
     "data": {
      "text/plain": [
       "[2, 6, 6, 10, 40, 28]"
      ]
     },
     "execution_count": 90,
     "metadata": {},
     "output_type": "execute_result"
    }
   ],
   "source": [
    "def even_list(list):\n",
    "    even_list=[]\n",
    "    for i in list:\n",
    "        if i%2==0:\n",
    "            even_list.append(i)\n",
    "    return even_list\n",
    "\n",
    "even_list([2,5,6,3,9,6,10,40,28])           "
   ]
  },
  {
   "cell_type": "code",
   "execution_count": null,
   "id": "563eb0b9-5f82-4270-84bf-97d96a6822cf",
   "metadata": {},
   "outputs": [],
   "source": []
  }
 ],
 "metadata": {
  "kernelspec": {
   "display_name": "Python 3 (ipykernel)",
   "language": "python",
   "name": "python3"
  },
  "language_info": {
   "codemirror_mode": {
    "name": "ipython",
    "version": 3
   },
   "file_extension": ".py",
   "mimetype": "text/x-python",
   "name": "python",
   "nbconvert_exporter": "python",
   "pygments_lexer": "ipython3",
   "version": "3.12.4"
  }
 },
 "nbformat": 4,
 "nbformat_minor": 5
}
