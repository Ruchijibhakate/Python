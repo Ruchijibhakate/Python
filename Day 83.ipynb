{
 "cells": [
  {
   "cell_type": "markdown",
   "id": "13d77e04-6cc7-4f9e-8fc2-d414b1b52896",
   "metadata": {},
   "source": [
    "### 1. Print the letter A"
   ]
  },
  {
   "cell_type": "code",
   "execution_count": 34,
   "id": "276c3308-8315-4f84-ab31-9e54e5e65d86",
   "metadata": {},
   "outputs": [
    {
     "name": "stdout",
     "output_type": "stream",
     "text": [
      " *** \n",
      "*   *\n",
      "*   *\n",
      "*****\n",
      "*   *\n",
      "*   *\n",
      "*   *\n"
     ]
    }
   ],
   "source": [
    "for row in range(7):\n",
    "   for col in range(5):\n",
    "       if ((col==0 or col==4) and row!=0)  or ((row==0 or row==3) and (col>0 and col<4)):\n",
    "           print('*',end='')\n",
    "       else:\n",
    "           print(end=' ')\n",
    "   print()      "
   ]
  },
  {
   "cell_type": "markdown",
   "id": "5f0c5b78-301b-4969-8ef8-220780ed9c5e",
   "metadata": {},
   "source": [
    "### 2. Find the even numbers from 1 to 50."
   ]
  },
  {
   "cell_type": "code",
   "execution_count": 40,
   "id": "ee83e6b6-bcb0-4c65-a7b1-0ee63f3147eb",
   "metadata": {},
   "outputs": [
    {
     "name": "stdout",
     "output_type": "stream",
     "text": [
      "0 2 4 6 8 10 12 14 16 18 20 22 24 26 28 30 32 34 36 38 40 42 44 46 48 50 "
     ]
    }
   ],
   "source": [
    "for i in range(51):\n",
    "    if i%2==0:\n",
    "        print(i,end=' ')"
   ]
  },
  {
   "cell_type": "markdown",
   "id": "78909089-b85d-4e47-98d4-82a32e2179d1",
   "metadata": {},
   "source": [
    "### 3. Print the prime numbers upto 40"
   ]
  },
  {
   "cell_type": "code",
   "execution_count": 48,
   "id": "f7c647c9-c5e8-41ac-a1ba-3f09be9caf8f",
   "metadata": {},
   "outputs": [
    {
     "name": "stdout",
     "output_type": "stream",
     "text": [
      "2\n",
      "3\n",
      "5\n",
      "7\n",
      "11\n",
      "13\n",
      "17\n",
      "19\n",
      "23\n",
      "29\n",
      "31\n",
      "37\n"
     ]
    }
   ],
   "source": [
    "for num in range(2,40):\n",
    "    for i in range(2,num):\n",
    "        if num%i==0:\n",
    "            break\n",
    "    else:\n",
    "        print(num)\n",
    "    "
   ]
  },
  {
   "cell_type": "markdown",
   "id": "88cc6608-6d09-48a8-bad1-e842a5046f5b",
   "metadata": {},
   "source": [
    "### Find factorial of number given by user"
   ]
  },
  {
   "cell_type": "code",
   "execution_count": null,
   "id": "9bc2b078-2cf4-482b-a102-b98292a38275",
   "metadata": {},
   "outputs": [],
   "source": []
  }
 ],
 "metadata": {
  "kernelspec": {
   "display_name": "Python 3 (ipykernel)",
   "language": "python",
   "name": "python3"
  },
  "language_info": {
   "codemirror_mode": {
    "name": "ipython",
    "version": 3
   },
   "file_extension": ".py",
   "mimetype": "text/x-python",
   "name": "python",
   "nbconvert_exporter": "python",
   "pygments_lexer": "ipython3",
   "version": "3.12.4"
  }
 },
 "nbformat": 4,
 "nbformat_minor": 5
}
