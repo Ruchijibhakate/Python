{
 "cells": [
  {
   "cell_type": "markdown",
   "id": "94f87ee8-8321-461f-af71-7daace34b951",
   "metadata": {},
   "source": [
    "### 1. Get a string of first and last two characters of given string. If the string length is less than 2 , return empty string"
   ]
  },
  {
   "cell_type": "code",
   "execution_count": 15,
   "id": "aae23acd-3edf-4613-b218-353df1f04954",
   "metadata": {},
   "outputs": [
    {
     "name": "stdin",
     "output_type": "stream",
     "text": [
      "Enter a String document\n"
     ]
    },
    {
     "name": "stdout",
     "output_type": "stream",
     "text": [
      "dont\n"
     ]
    }
   ],
   "source": [
    "s=input('Enter a String')\n",
    "if len(s)>2:\n",
    "    new_str=s[0:2]+s[-2:]\n",
    "    print(new_str)\n",
    "else:\n",
    "    print('Empty String')"
   ]
  },
  {
   "cell_type": "markdown",
   "id": "405c1300-73b7-4ff9-b0f7-d66be9c964d6",
   "metadata": {},
   "source": [
    "### 2. Get a string from a given string where all occurences of its first char have been changed to '$', except the first char itself"
   ]
  },
  {
   "cell_type": "code",
   "execution_count": 19,
   "id": "3ef25226-8786-4210-8fc7-70be6d8057fe",
   "metadata": {},
   "outputs": [
    {
     "name": "stdout",
     "output_type": "stream",
     "text": [
      "resta$t\n"
     ]
    }
   ],
   "source": [
    "s='restart'\n",
    "char=s[0]\n",
    "s=s.replace(char,'$')\n",
    "s=char+s[1:]\n",
    "print(s)"
   ]
  },
  {
   "cell_type": "code",
   "execution_count": null,
   "id": "6de92054-a4b7-4d6a-85cd-192ac11d5f97",
   "metadata": {},
   "outputs": [],
   "source": []
  }
 ],
 "metadata": {
  "kernelspec": {
   "display_name": "Python 3 (ipykernel)",
   "language": "python",
   "name": "python3"
  },
  "language_info": {
   "codemirror_mode": {
    "name": "ipython",
    "version": 3
   },
   "file_extension": ".py",
   "mimetype": "text/x-python",
   "name": "python",
   "nbconvert_exporter": "python",
   "pygments_lexer": "ipython3",
   "version": "3.12.4"
  }
 },
 "nbformat": 4,
 "nbformat_minor": 5
}
