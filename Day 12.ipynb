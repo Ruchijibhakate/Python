{
 "cells": [
  {
   "cell_type": "code",
   "execution_count": null,
   "id": "7f7163f8-e979-4959-a089-ce197921732c",
   "metadata": {},
   "outputs": [],
   "source": [
    "### 1"
   ]
  },
  {
   "cell_type": "code",
   "execution_count": 23,
   "id": "e1379c6d-0c4e-4324-b194-f83cf6e09f23",
   "metadata": {},
   "outputs": [
    {
     "name": "stdin",
     "output_type": "stream",
     "text": [
      "Enter the string : Hii my name is ruchi\n"
     ]
    },
    {
     "name": "stdout",
     "output_type": "stream",
     "text": [
      "20\n"
     ]
    }
   ],
   "source": [
    "str=input(\"Enter the string :\")\n",
    "len=0\n",
    "for i in str:\n",
    "    len=len+1\n",
    "print(len)    "
   ]
  },
  {
   "cell_type": "code",
   "execution_count": null,
   "id": "ac4d5705-6246-4194-a01d-4369573dc98a",
   "metadata": {},
   "outputs": [],
   "source": [
    "### 2"
   ]
  },
  {
   "cell_type": "code",
   "execution_count": 19,
   "id": "81d5c9e7-762b-4271-abbf-4960940562f3",
   "metadata": {},
   "outputs": [
    {
     "name": "stdin",
     "output_type": "stream",
     "text": [
      "Enter the email : ruchijibhakate11@gmail.com\n"
     ]
    },
    {
     "data": {
      "text/plain": [
       "'ruchijibhakate11'"
      ]
     },
     "execution_count": 19,
     "metadata": {},
     "output_type": "execute_result"
    }
   ],
   "source": [
    "email=input('Enter the email :')\n",
    "pos=email.index('@')\n",
    "email[0:pos]"
   ]
  },
  {
   "cell_type": "code",
   "execution_count": null,
   "id": "7aa34e64-4106-4a94-8f68-96291cdfb661",
   "metadata": {},
   "outputs": [],
   "source": [
    "### 3"
   ]
  },
  {
   "cell_type": "code",
   "execution_count": 27,
   "id": "f2fafee3-d3ab-4720-9a1d-43d4f4308203",
   "metadata": {},
   "outputs": [
    {
     "name": "stdin",
     "output_type": "stream",
     "text": [
      "Enter the string : hey beautiful how are you\n",
      "what would you like to search for : u\n"
     ]
    },
    {
     "name": "stdout",
     "output_type": "stream",
     "text": [
      "frequency is  3\n"
     ]
    }
   ],
   "source": [
    "s=input('Enter the string :')\n",
    "term=input('what would you like to search for :')\n",
    "\n",
    "count=0\n",
    "for i in s:\n",
    "    if i==term:\n",
    "        count=count+1\n",
    "print('frequency is ',count)        "
   ]
  },
  {
   "cell_type": "code",
   "execution_count": null,
   "id": "c0243942-7ba6-4c31-bbd9-f94eb40d4fa8",
   "metadata": {},
   "outputs": [],
   "source": [
    "### 4"
   ]
  },
  {
   "cell_type": "code",
   "execution_count": 33,
   "id": "ddba40f4-b2f9-4170-8e7b-57cba9a1f52c",
   "metadata": {},
   "outputs": [
    {
     "name": "stdin",
     "output_type": "stream",
     "text": [
      "Enter a string : ruchi\n",
      "which character would you like to remove: c\n"
     ]
    },
    {
     "name": "stdout",
     "output_type": "stream",
     "text": [
      "ruhi\n"
     ]
    }
   ],
   "source": [
    "str=input('Enter a string :')\n",
    "ch=input('which character would you like to remove:')\n",
    "\n",
    "result=''\n",
    "for i in str:\n",
    "    if i!=ch:\n",
    "        result=result+i\n",
    "print(result)        "
   ]
  },
  {
   "cell_type": "code",
   "execution_count": null,
   "id": "328d3c00-e802-406d-a44a-4dd9b4ed2bdf",
   "metadata": {},
   "outputs": [],
   "source": [
    "### 5"
   ]
  },
  {
   "cell_type": "code",
   "execution_count": 37,
   "id": "286e333b-8799-41cf-a7c6-7b4376f4d637",
   "metadata": {},
   "outputs": [
    {
     "name": "stdin",
     "output_type": "stream",
     "text": [
      "Eneter a string : wow\n"
     ]
    },
    {
     "name": "stdout",
     "output_type": "stream",
     "text": [
      "wow\n",
      "P\n"
     ]
    }
   ],
   "source": [
    "str=input('Eneter a string :')\n",
    "res=''\n",
    "for i in str:\n",
    "    res=i+res\n",
    "print(res)\n",
    "if (str==res):\n",
    "    print(\"P\")\n",
    "else:\n",
    "    print('NP')   "
   ]
  },
  {
   "cell_type": "markdown",
   "id": "c6662d7f-63e2-42cb-8a35-5277da03128e",
   "metadata": {},
   "source": [
    "### 6. WAP to find the products of digits of the number accepted from user"
   ]
  },
  {
   "cell_type": "code",
   "execution_count": 7,
   "id": "b91d6175-7637-4ec8-aaf5-9e8a840e553e",
   "metadata": {},
   "outputs": [
    {
     "name": "stdin",
     "output_type": "stream",
     "text": [
      "Enter a number : 234\n"
     ]
    },
    {
     "name": "stdout",
     "output_type": "stream",
     "text": [
      "Products of digits is : 24\n"
     ]
    }
   ],
   "source": [
    "n=int(input('Enter a number :'))\n",
    "res=1\n",
    "while(n!=0):\n",
    "    rem=n%10\n",
    "    res=res*rem\n",
    "    n=n//10\n",
    "print(\"Products of digits is :\",res)    "
   ]
  },
  {
   "cell_type": "markdown",
   "id": "7bf7a9c5-7b9c-4662-8232-244a3265fe41",
   "metadata": {},
   "source": [
    "### 7 . WAP to reverse the number accepted from the user using while loop"
   ]
  },
  {
   "cell_type": "code",
   "execution_count": 32,
   "id": "6551f40b-1022-4d40-b145-08d96a37b4ea",
   "metadata": {},
   "outputs": [
    {
     "name": "stdin",
     "output_type": "stream",
     "text": [
      "Enter a number : 4536\n"
     ]
    },
    {
     "name": "stdout",
     "output_type": "stream",
     "text": [
      "Reverse number is:\n",
      "6354"
     ]
    }
   ],
   "source": [
    "n=int(input(\"Enter a number :\"))\n",
    "print(\"Reverse number is:\")\n",
    "while(n>0):\n",
    "    rem=n%10\n",
    "    print(rem,end=\"\")\n",
    "    n=n//10    "
   ]
  },
  {
   "cell_type": "markdown",
   "id": "6f95209a-32c5-403d-99e0-50ccbe8608b1",
   "metadata": {},
   "source": [
    "### 8. WAP to enter the numbers till the user wants and at the end it should display the sum of all the numbers entered"
   ]
  },
  {
   "cell_type": "code",
   "execution_count": 37,
   "id": "18d3e4a0-a0c5-43e3-b4e2-cea9481b310d",
   "metadata": {},
   "outputs": [
    {
     "name": "stdin",
     "output_type": "stream",
     "text": [
      "Enter a number : 30\n",
      "do you want to enter a number again Yes Or No : Yes\n",
      "Enter a number : 26\n",
      "do you want to enter a number again Yes Or No : Yes\n",
      "Enter a number : 23\n",
      "do you want to enter a number again Yes Or No : Yes\n",
      "Enter a number : 10\n",
      "do you want to enter a number again Yes Or No : No\n"
     ]
    },
    {
     "name": "stdout",
     "output_type": "stream",
     "text": [
      "Sum of all the numbers : 89\n"
     ]
    }
   ],
   "source": [
    "ch='Yes'\n",
    "sum=0\n",
    "while ch=='Yes':\n",
    "    num=int(input(\"Enter a number :\"))\n",
    "    sum=sum+num\n",
    "    ch=input(\"do you want to enter a number again Yes Or No :\")\n",
    "print(\"Sum of all the numbers :\",sum)    "
   ]
  },
  {
   "cell_type": "code",
   "execution_count": null,
   "id": "6f00bfcd-b152-45cb-a444-5c604ba53e20",
   "metadata": {},
   "outputs": [],
   "source": [
    "### 9. WAP to enter the numbers till the user enter ZERO and at the it should display the count of positive and negative numbers entered."
   ]
  },
  {
   "cell_type": "code",
   "execution_count": 5,
   "id": "b9e87150-0eda-4ee5-8abb-b8107b117a84",
   "metadata": {},
   "outputs": [
    {
     "name": "stdin",
     "output_type": "stream",
     "text": [
      "Enter a number 24\n",
      "Enter a number 28\n",
      "Enter a number -3\n",
      "Enter a number 8\n",
      "Enter a number -56\n",
      "Enter a number 29\n",
      "Enter a number 54\n",
      "Enter a number 0\n"
     ]
    },
    {
     "name": "stdout",
     "output_type": "stream",
     "text": [
      "Positive numbers are : 5\n",
      "Negative numbers are : 3\n"
     ]
    }
   ],
   "source": [
    "num=\"y\"\n",
    "p=0\n",
    "n=0\n",
    "while (num!=0):\n",
    "    num=int(input(\"Enter a number\"))\n",
    "    if (num>0):\n",
    "        p=p+1\n",
    "    else:\n",
    "        n=n+1\n",
    "    \n",
    "print(\"Positive numbers are :\",p)\n",
    "print(\"Negative numbers are :\",n)"
   ]
  },
  {
   "cell_type": "markdown",
   "id": "fd6a3f85-3673-45f9-8886-59354c171dfa",
   "metadata": {},
   "source": [
    "### 10. WAP to find the HCF of two numbers entered from the user"
   ]
  },
  {
   "cell_type": "code",
   "execution_count": 1,
   "id": "ae6057f0-846e-4ff2-8b23-60d1c49333b0",
   "metadata": {},
   "outputs": [
    {
     "name": "stdin",
     "output_type": "stream",
     "text": [
      "Enter first number : 8\n",
      "Enetr second number : 36\n"
     ]
    },
    {
     "name": "stdout",
     "output_type": "stream",
     "text": [
      "HCF of two numbers is 4\n"
     ]
    }
   ],
   "source": [
    "num1=int(input(\"Enter first number :\"))\n",
    "num2=int(input(\"Enetr second number :\"))\n",
    "rem=1\n",
    "if num1>num2:\n",
    "    while(rem!=0):\n",
    "        rem=num1%num2\n",
    "        if rem==0:\n",
    "            hcf=num2\n",
    "        else:\n",
    "            num1=num2\n",
    "            num2=rem\n",
    "else:\n",
    "    while (rem!=0):\n",
    "        rem=num2%num1\n",
    "        if rem==0:\n",
    "            hcf=num1\n",
    "        else:\n",
    "            num2=num1\n",
    "            num1=rem    \n",
    "print(\"HCF of two numbers is\",hcf)            "
   ]
  },
  {
   "cell_type": "code",
   "execution_count": 7,
   "id": "8a0f96f9-aeff-40a2-b570-549c896bc0c9",
   "metadata": {},
   "outputs": [
    {
     "name": "stdout",
     "output_type": "stream",
     "text": [
      "4\n"
     ]
    }
   ],
   "source": [
    "print(36%8)"
   ]
  },
  {
   "cell_type": "code",
   "execution_count": null,
   "id": "ae0e1d87-49e6-4ff0-84df-3c487ba8b8bd",
   "metadata": {},
   "outputs": [],
   "source": []
  }
 ],
 "metadata": {
  "kernelspec": {
   "display_name": "Python 3 (ipykernel)",
   "language": "python",
   "name": "python3"
  },
  "language_info": {
   "codemirror_mode": {
    "name": "ipython",
    "version": 3
   },
   "file_extension": ".py",
   "mimetype": "text/x-python",
   "name": "python",
   "nbconvert_exporter": "python",
   "pygments_lexer": "ipython3",
   "version": "3.12.4"
  }
 },
 "nbformat": 4,
 "nbformat_minor": 5
}
