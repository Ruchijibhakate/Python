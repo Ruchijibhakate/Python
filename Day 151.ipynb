{
 "cells": [
  {
   "cell_type": "code",
   "execution_count": null,
   "id": "f2c40c22-19d1-4a12-a351-e1021c5312da",
   "metadata": {},
   "outputs": [],
   "source": [
    "### 1. "
   ]
  },
  {
   "cell_type": "code",
   "execution_count": 3,
   "id": "7852a291-cdc7-4d59-9225-43a97be72a92",
   "metadata": {},
   "outputs": [
    {
     "name": "stdout",
     "output_type": "stream",
     "text": [
      "*     *\n",
      "**    *\n",
      "* *   *\n",
      "*  *  *\n",
      "*   * *\n",
      "*    **\n",
      "*     *\n"
     ]
    }
   ],
   "source": [
    "for row in range(7):\n",
    "    for col in range(7):\n",
    "        if col==0 or col==6 or row==col :\n",
    "            print('*',end='')\n",
    "        else:\n",
    "            print(end=' ')\n",
    "    print()         "
   ]
  },
  {
   "cell_type": "code",
   "execution_count": null,
   "id": "6705688d-f8c7-48f6-935e-c35876decbc4",
   "metadata": {},
   "outputs": [],
   "source": []
  }
 ],
 "metadata": {
  "kernelspec": {
   "display_name": "Python 3 (ipykernel)",
   "language": "python",
   "name": "python3"
  },
  "language_info": {
   "codemirror_mode": {
    "name": "ipython",
    "version": 3
   },
   "file_extension": ".py",
   "mimetype": "text/x-python",
   "name": "python",
   "nbconvert_exporter": "python",
   "pygments_lexer": "ipython3",
   "version": "3.12.4"
  }
 },
 "nbformat": 4,
 "nbformat_minor": 5
}
