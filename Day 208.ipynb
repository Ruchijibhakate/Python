{
 "cells": [
  {
   "cell_type": "markdown",
   "id": "49e7bdff-351c-41aa-b2dd-cec61f6ab051",
   "metadata": {},
   "source": [
    "### Calculate the pairwise Euclidean distance between two lists."
   ]
  },
  {
   "cell_type": "code",
   "execution_count": null,
   "id": "2f792a38-c9ca-4520-bec5-013b2d35af08",
   "metadata": {},
   "outputs": [],
   "source": []
  }
 ],
 "metadata": {
  "kernelspec": {
   "display_name": "Python 3 (ipykernel)",
   "language": "python",
   "name": "python3"
  },
  "language_info": {
   "codemirror_mode": {
    "name": "ipython",
    "version": 3
   },
   "file_extension": ".py",
   "mimetype": "text/x-python",
   "name": "python",
   "nbconvert_exporter": "python",
   "pygments_lexer": "ipython3",
   "version": "3.12.4"
  }
 },
 "nbformat": 4,
 "nbformat_minor": 5
}
