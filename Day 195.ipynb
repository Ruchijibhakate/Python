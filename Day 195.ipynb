{
 "cells": [
  {
   "cell_type": "markdown",
   "id": "4aeca5aa-0d9f-4245-bdcb-ecd7e944aa59",
   "metadata": {},
   "source": [
    "### WAP to reverse a digits in a number"
   ]
  },
  {
   "cell_type": "code",
   "execution_count": null,
   "id": "c0ff07cb-103a-4166-8fd3-476cd42928b8",
   "metadata": {},
   "outputs": [],
   "source": [
    "num=int(input('Enter a number:'))\n",
    "while num>0:\n",
    "    rem=num%10\n",
    "    print(rem)"
   ]
  }
 ],
 "metadata": {
  "kernelspec": {
   "display_name": "Python 3 (ipykernel)",
   "language": "python",
   "name": "python3"
  },
  "language_info": {
   "codemirror_mode": {
    "name": "ipython",
    "version": 3
   },
   "file_extension": ".py",
   "mimetype": "text/x-python",
   "name": "python",
   "nbconvert_exporter": "python",
   "pygments_lexer": "ipython3",
   "version": "3.12.4"
  }
 },
 "nbformat": 4,
 "nbformat_minor": 5
}
