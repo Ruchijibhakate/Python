{
 "cells": [
  {
   "cell_type": "markdown",
   "id": "a3c0ab0e-d8e7-443e-afcd-a92659465e24",
   "metadata": {},
   "source": [
    "### 1. Print the Pattern\n",
    "\n"
   ]
  },
  {
   "cell_type": "code",
   "execution_count": 6,
   "id": "f2b4358e-9f89-4b8d-960f-06cfc63af395",
   "metadata": {},
   "outputs": [
    {
     "name": "stdin",
     "output_type": "stream",
     "text": [
      "Enter a number : 5\n"
     ]
    },
    {
     "name": "stdout",
     "output_type": "stream",
     "text": [
      "1 \n",
      "2 4 \n",
      "3 6 9 \n",
      "4 8 12 16 \n",
      "5 10 15 20 25 \n"
     ]
    }
   ],
   "source": [
    "n=int(input(\"Enter a number :\"))\n",
    "for i in range(1,n+1):\n",
    "    for j in range(1,i+1):\n",
    "        print(i*j,end=\" \")\n",
    "    print()    "
   ]
  },
  {
   "cell_type": "markdown",
   "id": "60ff46c7-77b0-4a1b-947d-05fae9100201",
   "metadata": {},
   "source": [
    "### 2. Print the Pattern"
   ]
  },
  {
   "cell_type": "code",
   "execution_count": 43,
   "id": "b35b7893-728f-4d15-ade5-c0258bbb8da3",
   "metadata": {},
   "outputs": [
    {
     "name": "stdin",
     "output_type": "stream",
     "text": [
      "Enter a number : 5\n"
     ]
    },
    {
     "name": "stdout",
     "output_type": "stream",
     "text": [
      "     * \n",
      "    * * \n",
      "   * * * \n",
      "  * * * * \n",
      "   * * * \n",
      "  * * * * \n",
      " * * * * * \n",
      "* * * * * * \n"
     ]
    }
   ],
   "source": [
    "n=int(input('Enter a number :'))\n",
    "for i in range(1,n):\n",
    "    for j in range(i,n+1):\n",
    "        print(\" \",end='')\n",
    "    for j in range(1,i+1):\n",
    "        print(\"*\",end=\" \")\n",
    "    print()\n",
    "for i in range(1,n):\n",
    "    for j in range(i,n-1):\n",
    "        print(\" \",end='')\n",
    "    for j in range(4,i+6):\n",
    "        print(\"*\",end=\" \")\n",
    "    print()\n",
    "\n",
    "    "
   ]
  },
  {
   "cell_type": "markdown",
   "id": "3a8f7618-16cd-4da3-9c61-85b18e999065",
   "metadata": {},
   "source": [
    "### 3. Print the Pattern"
   ]
  },
  {
   "cell_type": "code",
   "execution_count": 40,
   "id": "d4131d0a-4301-4cb9-8083-734633c21f2e",
   "metadata": {},
   "outputs": [
    {
     "name": "stdout",
     "output_type": "stream",
     "text": [
      "  1 2 3 4 5 6 5 4 3 2 1 \n",
      "    1 2 3 4 5 4 3 2 1 \n",
      "      1 2 3 4 3 2 1 \n",
      "        1 2 3 2 1 \n",
      "          1 2 1 \n",
      "            1 \n"
     ]
    }
   ],
   "source": [
    "n=6\n",
    "for i in range(1,n+1):\n",
    "    for j in range(1,i+1):\n",
    "        print(\" \",end=\" \")\n",
    "    for j in range(1,n-i+2):\n",
    "        print(j,end=\" \")\n",
    "    for j in range(n-i,0,-1):\n",
    "        print(j,end=\" \")\n",
    "    print()     "
   ]
  },
  {
   "cell_type": "markdown",
   "id": "60b5f613-c8a3-4f7c-b638-a967663d7a14",
   "metadata": {},
   "source": [
    "### 4 Print the Pattern"
   ]
  },
  {
   "cell_type": "code",
   "execution_count": 85,
   "id": "7edd15e1-a70f-4020-beef-5f9222fccce6",
   "metadata": {},
   "outputs": [
    {
     "name": "stdout",
     "output_type": "stream",
     "text": [
      "      1 \n",
      "     2 2 \n",
      "    3 3 3 \n",
      "   4 4 4 4 \n",
      "  5 5 5 5 5 \n",
      " 6 6 6 6 6 6 \n"
     ]
    }
   ],
   "source": [
    "n=6\n",
    "for i in range(1,n+1):\n",
    "    for j in range(i,n+1):\n",
    "        print(\" \",end=\"\")\n",
    "    for j in range(1,i+1):\n",
    "        print(i,end=\" \")  \n",
    "    print()  "
   ]
  },
  {
   "cell_type": "markdown",
   "id": "6970a98b-0381-4998-8c22-d23dc09637bb",
   "metadata": {},
   "source": [
    "### 5.Print the letter A in the form of * pattern"
   ]
  },
  {
   "cell_type": "code",
   "execution_count": 10,
   "id": "1c065656-bb8f-4f2c-91ce-76db2a7f9073",
   "metadata": {},
   "outputs": [
    {
     "name": "stdout",
     "output_type": "stream",
     "text": [
      " *** \n",
      "*   *\n",
      "*   *\n",
      "*****\n",
      "*   *\n",
      "*   *\n",
      "*   *\n"
     ]
    }
   ],
   "source": [
    "for row in range(7):\n",
    "    for col in range(5):\n",
    "        if ((col==0 or col==4) and (row!=0)) or ((row==0 or row==3) and (col>0 and col<4)):\n",
    "            print(\"*\",end='')\n",
    "        else:\n",
    "            print(end=\" \")\n",
    "    print()\n",
    "      "
   ]
  },
  {
   "cell_type": "markdown",
   "id": "35e80b00-fd4b-4ff6-b20a-ef56cc9b99bf",
   "metadata": {},
   "source": [
    "### 6.Print the letter B in the form of * pattern¶"
   ]
  },
  {
   "cell_type": "code",
   "execution_count": 85,
   "id": "4f1a9022-9d88-4150-824e-9dbab0b612ba",
   "metadata": {},
   "outputs": [
    {
     "name": "stdout",
     "output_type": "stream",
     "text": [
      "**** \n",
      "*   *\n",
      "*   *\n",
      "**** \n",
      "*   *\n",
      "*   *\n",
      "**** \n"
     ]
    }
   ],
   "source": [
    "for row in range(7):\n",
    "    for col in range(5):\n",
    "        if (col==0) or (col==4 and  (row!=0 and row!=3 and row!=6) ) or ((row==0 or row==3 or row==6) and (col>0 and col<4)) : \n",
    "            print(\"*\",end=\"\")\n",
    "        else:\n",
    "            print(end=\" \")\n",
    "    print()        "
   ]
  },
  {
   "cell_type": "markdown",
   "id": "f62648cf-2c6d-4c33-b327-4e49da8cb30e",
   "metadata": {},
   "source": [
    "### 7.Print the letter C in the form of * pattern\n",
    " "
   ]
  },
  {
   "cell_type": "code",
   "execution_count": 125,
   "id": "30877271-fef7-4915-a952-4462b7162065",
   "metadata": {},
   "outputs": [
    {
     "name": "stdout",
     "output_type": "stream",
     "text": [
      " ****\n",
      "*    \n",
      "*    \n",
      "*    \n",
      "*    \n",
      "*    \n",
      " ****\n"
     ]
    }
   ],
   "source": [
    "for row in range(7):\n",
    "    for col in range(5):\n",
    "        if (col==0 and row!=0 and row!=6) or ((row==0 or row==6) and (col>0)):\n",
    "            print(\"*\",end=\"\")\n",
    "        else:\n",
    "            print(end=' ')\n",
    "    print()        "
   ]
  },
  {
   "cell_type": "markdown",
   "id": "d665eaa5-a3dd-4d78-98b7-ed3965a58055",
   "metadata": {},
   "source": [
    "### 8.Print the letter D in the form of * pattern"
   ]
  },
  {
   "cell_type": "code",
   "execution_count": 136,
   "id": "abd3b790-68ae-40fe-9797-01e735ba93f7",
   "metadata": {},
   "outputs": [
    {
     "name": "stdout",
     "output_type": "stream",
     "text": [
      "**** \n",
      "*   *\n",
      "*   *\n",
      "*   *\n",
      "*   *\n",
      "*   *\n",
      "**** \n"
     ]
    }
   ],
   "source": [
    "for row in range(7):\n",
    "    for col in range(5):\n",
    "        if (col==0 or (col==4 and row!=0 and row!=6)) or ((row==0 or row==6) and (col>0 and col<4)):\n",
    "            print(\"*\",end='')\n",
    "        else:\n",
    "            print(end=\" \")\n",
    "    print()       "
   ]
  },
  {
   "cell_type": "markdown",
   "id": "4f23b671-b8fa-4b23-b41c-650669113892",
   "metadata": {},
   "source": [
    "### 9.Print the letter E in the form of * pattern"
   ]
  },
  {
   "cell_type": "code",
   "execution_count": 139,
   "id": "c744be16-7080-4c09-968e-2d5a403a933c",
   "metadata": {},
   "outputs": [
    {
     "name": "stdout",
     "output_type": "stream",
     "text": [
      "*****\n",
      "*    \n",
      "*    \n",
      "*****\n",
      "*    \n",
      "*    \n",
      "*****\n"
     ]
    }
   ],
   "source": [
    "for row in range(7):\n",
    "    for col in range(5):\n",
    "        if (col==0) or (row==0 or row==3 or row==6):\n",
    "            print('*',end='')\n",
    "        else:\n",
    "            print(end=\" \")\n",
    "    print()        "
   ]
  },
  {
   "cell_type": "markdown",
   "id": "f426306e-2482-48d3-9c7a-f6ff220011f7",
   "metadata": {},
   "source": [
    "### 10.Print the letter F in the form of * pattern"
   ]
  },
  {
   "cell_type": "code",
   "execution_count": 144,
   "id": "653a2b14-9c34-411d-94bb-2ed11db2c292",
   "metadata": {},
   "outputs": [
    {
     "name": "stdout",
     "output_type": "stream",
     "text": [
      "*****\n",
      "*    \n",
      "*    \n",
      "*****\n",
      "*    \n",
      "*    \n",
      "*    \n"
     ]
    }
   ],
   "source": [
    "for row in range(7):\n",
    "    for col in range(5):\n",
    "        if (col==0) or (row==0 or row==3):\n",
    "            print(\"*\",end='')\n",
    "        else:\n",
    "            print(end=\" \")\n",
    "    print()        "
   ]
  },
  {
   "cell_type": "code",
   "execution_count": null,
   "id": "3bccfdc6-cc9c-47d2-a285-ab6e842f1382",
   "metadata": {},
   "outputs": [],
   "source": []
  }
 ],
 "metadata": {
  "kernelspec": {
   "display_name": "Python 3 (ipykernel)",
   "language": "python",
   "name": "python3"
  },
  "language_info": {
   "codemirror_mode": {
    "name": "ipython",
    "version": 3
   },
   "file_extension": ".py",
   "mimetype": "text/x-python",
   "name": "python",
   "nbconvert_exporter": "python",
   "pygments_lexer": "ipython3",
   "version": "3.12.4"
  }
 },
 "nbformat": 4,
 "nbformat_minor": 5
}
