{
 "cells": [
  {
   "cell_type": "markdown",
   "id": "af5e0877-d4d7-439f-961c-ddbf3ddcb828",
   "metadata": {},
   "source": [
    "### Create a list of 5 colours. Using for loops, print each element of the list along with the individual letters of the colour"
   ]
  },
  {
   "cell_type": "code",
   "execution_count": 2,
   "id": "50c0a498-4309-4110-be49-41723f8a17a0",
   "metadata": {},
   "outputs": [
    {
     "name": "stdout",
     "output_type": "stream",
     "text": [
      "R e d B l u e W h i t e B l a c k P i n k "
     ]
    }
   ],
   "source": [
    "list1=['Red','Blue','White','Black','Pink']\n",
    "for i in list1:\n",
    "    for j in i:\n",
    "        print(j,end=' ')"
   ]
  },
  {
   "cell_type": "code",
   "execution_count": null,
   "id": "ae9c0193-cddc-45dd-9def-61ea4cd37e17",
   "metadata": {},
   "outputs": [],
   "source": []
  }
 ],
 "metadata": {
  "kernelspec": {
   "display_name": "Python 3 (ipykernel)",
   "language": "python",
   "name": "python3"
  },
  "language_info": {
   "codemirror_mode": {
    "name": "ipython",
    "version": 3
   },
   "file_extension": ".py",
   "mimetype": "text/x-python",
   "name": "python",
   "nbconvert_exporter": "python",
   "pygments_lexer": "ipython3",
   "version": "3.12.4"
  }
 },
 "nbformat": 4,
 "nbformat_minor": 5
}
