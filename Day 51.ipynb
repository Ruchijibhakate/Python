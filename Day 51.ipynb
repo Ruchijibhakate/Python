{
 "cells": [
  {
   "cell_type": "markdown",
   "id": "caeaca06-e5db-4bd3-9a35-6f79508ee88a",
   "metadata": {},
   "source": [
    "### 1. WAP to find the sum of three given integers. However , if two values are equal sum will be zero"
   ]
  },
  {
   "cell_type": "code",
   "execution_count": 3,
   "id": "8d7e4bf9-7694-4875-bff7-ff149728e9a3",
   "metadata": {},
   "outputs": [
    {
     "name": "stdout",
     "output_type": "stream",
     "text": [
      "0\n",
      "15\n"
     ]
    }
   ],
   "source": [
    "def sum_three_num(a,b,c):\n",
    "    if a==b or b==c or c==a:\n",
    "        sum=0\n",
    "    else:\n",
    "        sum=a+b+c\n",
    "    return sum\n",
    "\n",
    "print(sum_three_num(2,3,2))\n",
    "print(sum_three_num(5,9,1))"
   ]
  },
  {
   "cell_type": "markdown",
   "id": "cb8a58da-be0d-4d9a-ba47-047c691c1c42",
   "metadata": {},
   "source": [
    "### 2. WAP to sum two given Integers. However, if the sum is between 15 and 20 it will return 20"
   ]
  },
  {
   "cell_type": "code",
   "execution_count": 10,
   "id": "a30331e7-81f0-43e3-831d-49020ddcb431",
   "metadata": {},
   "outputs": [
    {
     "data": {
      "text/plain": [
       "22"
      ]
     },
     "execution_count": 10,
     "metadata": {},
     "output_type": "execute_result"
    }
   ],
   "source": [
    "def sum_two_num(x,y):\n",
    "    sum=x+y\n",
    "    if sum>=15 and sum<=20:\n",
    "        print('sum=20')\n",
    "    else:\n",
    "        return sum\n",
    "\n",
    "sum_two_num(12,10)"
   ]
  },
  {
   "cell_type": "markdown",
   "id": "3f557c5c-038e-485b-ad82-1ef3ddb93c8f",
   "metadata": {},
   "source": [
    "### 3. WAP that returns True if the two given integer values are equal or their sum or difference is 5. "
   ]
  },
  {
   "cell_type": "code",
   "execution_count": 19,
   "id": "08b3f3c2-4690-494b-9d60-bb97983d499a",
   "metadata": {},
   "outputs": [
    {
     "name": "stdout",
     "output_type": "stream",
     "text": [
      "True\n",
      "True\n",
      "False\n",
      "True\n"
     ]
    }
   ],
   "source": [
    "def test_numbers(x,y):\n",
    "    if x==y or x+y==5 or x-y==5:\n",
    "        return True\n",
    "    else:\n",
    "        return False\n",
    "\n",
    "print(test_numbers(4,4))\n",
    "print(test_numbers(3,2))\n",
    "print(test_numbers(0,6))\n",
    "print(test_numbers(10,5))"
   ]
  },
  {
   "cell_type": "markdown",
   "id": "c64d3a3b-1649-45e4-a3e4-d9cf169d238b",
   "metadata": {},
   "source": [
    "### 4. WAP to add two objects if both are integer types"
   ]
  },
  {
   "cell_type": "code",
   "execution_count": 22,
   "id": "34ec5d55-4b89-4317-9dbb-509087f8ad13",
   "metadata": {},
   "outputs": [
    {
     "name": "stdout",
     "output_type": "stream",
     "text": [
      "30\n",
      "Inputs must be integers !\n",
      "Inputs must be integers !\n"
     ]
    }
   ],
   "source": [
    "def add_numbers(a,b):\n",
    "    if not (isinstance(a,int) and isinstance(b,int)):\n",
    "        return 'Inputs must be integers !'\n",
    "    return a+b\n",
    "\n",
    "print(add_numbers(10,20))\n",
    "print(add_numbers('4',9))\n",
    "print(add_numbers(10.35,50))"
   ]
  },
  {
   "cell_type": "markdown",
   "id": "29a98904-c0e7-4349-9c7c-de05934e58b5",
   "metadata": {},
   "source": [
    "### 5. WAP that displays your name, age, and address on three different lines."
   ]
  },
  {
   "cell_type": "code",
   "execution_count": 25,
   "id": "ea4b503e-96fc-4912-bee8-dad2d962000e",
   "metadata": {},
   "outputs": [
    {
     "name": "stdout",
     "output_type": "stream",
     "text": [
      "Name: Bharti\n",
      "Age: 20\n",
      "Address: Bhandara, Maharashtra, India\n"
     ]
    }
   ],
   "source": [
    "def personal_details():\n",
    "    name='Bharti'\n",
    "    age=20\n",
    "    address='Bhandara, Maharashtra, India'\n",
    "    print('Name: {}\\nAge: {}\\nAddress: {}'.format(name,age,address))\n",
    "\n",
    "personal_details()"
   ]
  },
  {
   "cell_type": "code",
   "execution_count": null,
   "id": "fbb087c2-99e8-4f1f-962a-a76356a85dd3",
   "metadata": {},
   "outputs": [],
   "source": []
  }
 ],
 "metadata": {
  "kernelspec": {
   "display_name": "Python 3 (ipykernel)",
   "language": "python",
   "name": "python3"
  },
  "language_info": {
   "codemirror_mode": {
    "name": "ipython",
    "version": 3
   },
   "file_extension": ".py",
   "mimetype": "text/x-python",
   "name": "python",
   "nbconvert_exporter": "python",
   "pygments_lexer": "ipython3",
   "version": "3.12.4"
  }
 },
 "nbformat": 4,
 "nbformat_minor": 5
}
