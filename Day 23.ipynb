{
 "cells": [
  {
   "cell_type": "markdown",
   "id": "f2a1957f-d12b-4683-81eb-dd7e92414759",
   "metadata": {},
   "source": [
    "### 1. Write a python function that takes two llists and returns True if they have at least one common member"
   ]
  },
  {
   "cell_type": "code",
   "execution_count": 13,
   "id": "56de4ce9-a389-4883-8e3c-7241e29fd351",
   "metadata": {},
   "outputs": [
    {
     "data": {
      "text/plain": [
       "True"
      ]
     },
     "execution_count": 13,
     "metadata": {},
     "output_type": "execute_result"
    }
   ],
   "source": [
    "def common(list1,list2):\n",
    "    for i in list1:\n",
    "        for j in list2:\n",
    "            if i==j:\n",
    "                return True\n",
    "\n",
    "common([1,2,3,4,5],[6,2,5,9,6])"
   ]
  },
  {
   "cell_type": "markdown",
   "id": "d6ce012f-a2b4-483d-af21-2080f81a0dad",
   "metadata": {},
   "source": [
    "### 2. WAP to print the specified list after removing 0th,4th,and 5th element"
   ]
  },
  {
   "cell_type": "code",
   "execution_count": 30,
   "id": "980364b6-3147-4c0f-a831-932bde7b4568",
   "metadata": {},
   "outputs": [
    {
     "name": "stdout",
     "output_type": "stream",
     "text": [
      "['Green', 'White', 'Black']\n"
     ]
    }
   ],
   "source": [
    "list=['Red','Green','White','Black','Pink','Yellow']\n",
    "pos=[0,4-1,5-2]\n",
    "for i in pos:\n",
    "    list.pop(i)\n",
    "print(list)"
   ]
  },
  {
   "cell_type": "markdown",
   "id": "cd40aa04-8c30-46fc-808d-9ff5e0fdf89b",
   "metadata": {},
   "source": [
    "### 3. WAP to print the numbers of specified list after removing the even numbers from it"
   ]
  },
  {
   "cell_type": "code",
   "execution_count": 60,
   "id": "1b214f6d-6077-4c7f-ab71-25cf0c28998e",
   "metadata": {},
   "outputs": [
    {
     "data": {
      "text/plain": [
       "[37, 87, 25, 85]"
      ]
     },
     "execution_count": 60,
     "metadata": {},
     "output_type": "execute_result"
    }
   ],
   "source": [
    "list=[12,37,87,25,90,44,85,34]\n",
    "new_list=[]\n",
    "for i in list:\n",
    "    if i%2!=0:\n",
    "        new_list.append(i)\n",
    "new_list        \n",
    "              "
   ]
  },
  {
   "cell_type": "markdown",
   "id": "0935115c-26b2-49fc-a950-0dddbcc1d687",
   "metadata": {},
   "source": [
    "### 4.WAP to shuffle and print the specified list"
   ]
  },
  {
   "cell_type": "code",
   "execution_count": 66,
   "id": "9585b6b9-dd9d-45f2-94f7-6b4e53b4b3b6",
   "metadata": {},
   "outputs": [
    {
     "name": "stdout",
     "output_type": "stream",
     "text": [
      "['mango', 'kiwi', 'lichi', 'banana', 'apple']\n"
     ]
    }
   ],
   "source": [
    "from random import shuffle\n",
    "Fruits=['apple','mango','banana','lichi','kiwi']\n",
    "shuffle(Fruits)\n",
    "print(Fruits)"
   ]
  },
  {
   "cell_type": "markdown",
   "id": "ad1f1536-69e1-48db-b14b-3bc8d63b826d",
   "metadata": {},
   "source": [
    "### 5. Generate and print the a list of first and last 5 elements where the values are square of the numbers between two numbers"
   ]
  },
  {
   "cell_type": "code",
   "execution_count": 69,
   "id": "1a1ff89a-08d5-4c97-8d87-13652107031a",
   "metadata": {},
   "outputs": [
    {
     "name": "stdout",
     "output_type": "stream",
     "text": [
      "[1, 4, 9, 16, 25]\n",
      "[625, 676, 729, 784, 841]\n"
     ]
    }
   ],
   "source": [
    "def values():\n",
    "    list=[]\n",
    "    for i in range(1,30):\n",
    "        a=i*i\n",
    "        list.append(a)\n",
    "    print(list[:5])\n",
    "    print(list[-5:])\n",
    "\n",
    "values()"
   ]
  },
  {
   "cell_type": "markdown",
   "id": "5b2604e1-07b3-4586-91c0-5e247a7672ce",
   "metadata": {},
   "source": [
    "### 6.Print the letter G in the form of * pattern"
   ]
  },
  {
   "cell_type": "code",
   "execution_count": 6,
   "id": "a7155d78-e183-4728-a748-fdc840c3e1b2",
   "metadata": {},
   "outputs": [
    {
     "name": "stdout",
     "output_type": "stream",
     "text": [
      "***** \n",
      "*     \n",
      "*     \n",
      "*  ***\n",
      "*   * \n",
      "*   * \n",
      "***** \n"
     ]
    }
   ],
   "source": [
    "for row in range(7):\n",
    "    for col in range(6):\n",
    "        if (col==0 or (col==4 and row!=1 and row!=2)) or ((row==0 and col!=5) or (row==6 and col!=5) or(row==3 and col!=1 and col!=2) and (col>0)):\n",
    "            print(\"*\",end='')\n",
    "        else:\n",
    "            print(end=\" \")\n",
    "    print()        "
   ]
  },
  {
   "cell_type": "markdown",
   "id": "2c8990da-1af9-410b-988a-5cac91d798cb",
   "metadata": {},
   "source": [
    "### 7.Print the letter H in the form of * pattern¶"
   ]
  },
  {
   "cell_type": "code",
   "execution_count": 14,
   "id": "83a8e1ed-1548-4c87-9694-0930b03d441f",
   "metadata": {},
   "outputs": [
    {
     "name": "stdout",
     "output_type": "stream",
     "text": [
      "*   *\n",
      "*   *\n",
      "*   *\n",
      "*****\n",
      "*   *\n",
      "*   *\n",
      "*   *\n"
     ]
    }
   ],
   "source": [
    "for row in range(7):\n",
    "    for col in range(5):\n",
    "        if (col==0 or col==4) or (row==3):\n",
    "            print(\"*\",end='')\n",
    "        else:\n",
    "            print(end=' ')\n",
    "    print()        "
   ]
  },
  {
   "cell_type": "markdown",
   "id": "a0acf0ef-7a7b-4152-bac6-e6f33a4e0211",
   "metadata": {},
   "source": [
    "### 8.Print the letter I in the form of * pattern"
   ]
  },
  {
   "cell_type": "code",
   "execution_count": 19,
   "id": "da7721aa-5f99-48ca-8533-b79172a4a27d",
   "metadata": {},
   "outputs": [
    {
     "name": "stdout",
     "output_type": "stream",
     "text": [
      "*****\n",
      "  *  \n",
      "  *  \n",
      "  *  \n",
      "  *  \n",
      "  *  \n",
      "*****\n"
     ]
    }
   ],
   "source": [
    "for row in range(7):\n",
    "    for col in range(5):\n",
    "        if (col==2) or (row==0 or row==6):\n",
    "            print(\"*\",end='')\n",
    "        else:\n",
    "            print(end=' ')\n",
    "    print()        \n",
    "\n"
   ]
  },
  {
   "cell_type": "markdown",
   "id": "f47b51ad-6a06-41ae-b5f3-94d6e1205f06",
   "metadata": {},
   "source": [
    "### 9.Print the letter J in the form of * pattern"
   ]
  },
  {
   "cell_type": "code",
   "execution_count": 28,
   "id": "7fb9dc64-33e9-47f0-9043-c7b9c898a739",
   "metadata": {},
   "outputs": [
    {
     "name": "stdout",
     "output_type": "stream",
     "text": [
      "*****\n",
      "  *  \n",
      "  *  \n",
      "  *  \n",
      "  *  \n",
      "  *  \n",
      "***  \n"
     ]
    }
   ],
   "source": [
    "for row in range(7):\n",
    "    for col in range(5):\n",
    "        if (row==0 or (row==6 and col!=3 and col!=4)) or (col==2 and row!=0):\n",
    "            print(\"*\",end='')\n",
    "        else:\n",
    "            print(end=' ')\n",
    "    print()        \n",
    "    "
   ]
  },
  {
   "cell_type": "markdown",
   "id": "22020585-d5a3-491d-a318-416ff479a9f7",
   "metadata": {},
   "source": [
    "### 10.Print the letter K in the form of * pattern¶"
   ]
  },
  {
   "cell_type": "code",
   "execution_count": 36,
   "id": "c2658d67-5246-413c-b384-6fabec4d5387",
   "metadata": {},
   "outputs": [
    {
     "name": "stdout",
     "output_type": "stream",
     "text": [
      "*   *\n",
      "*  * \n",
      "* *  \n",
      "**   \n",
      "* *  \n",
      "*  * \n",
      "*   *\n"
     ]
    }
   ],
   "source": [
    "for row in range(7):\n",
    "    for col in range(5):\n",
    "        if (col==0) or (col==1 and row==3) or (col==2 and (row==2 or row==4)) or (col==3 and (row==1 or row==5)) or (col==4 and (row==0 or row==6)):\n",
    "            print(\"*\",end='')\n",
    "        else:\n",
    "            print(end=\" \")\n",
    "    print()        "
   ]
  },
  {
   "cell_type": "code",
   "execution_count": null,
   "id": "80c327b8-46c6-4024-b81a-6901820f910c",
   "metadata": {},
   "outputs": [],
   "source": []
  }
 ],
 "metadata": {
  "kernelspec": {
   "display_name": "Python 3 (ipykernel)",
   "language": "python",
   "name": "python3"
  },
  "language_info": {
   "codemirror_mode": {
    "name": "ipython",
    "version": 3
   },
   "file_extension": ".py",
   "mimetype": "text/x-python",
   "name": "python",
   "nbconvert_exporter": "python",
   "pygments_lexer": "ipython3",
   "version": "3.12.4"
  }
 },
 "nbformat": 4,
 "nbformat_minor": 5
}
