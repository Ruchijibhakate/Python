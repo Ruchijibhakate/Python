{
 "cells": [
  {
   "cell_type": "markdown",
   "id": "b94f4eb4-e6a8-4fe8-a3c2-4e1dc6323a11",
   "metadata": {},
   "source": [
    "### 1. Write a python function to calculate the value of word\n",
    "- Consonants are worth 1 point\n",
    "- Vowels are worth 3 points\n",
    "- The letter 'x' is worth 10 points\n",
    "- Any other charachter are worth 0 points"
   ]
  },
  {
   "cell_type": "code",
   "execution_count": 4,
   "id": "8db1d1c5-f46b-41bd-846a-64e8dc76ccb6",
   "metadata": {},
   "outputs": [
    {
     "data": {
      "text/plain": [
       "27"
      ]
     },
     "execution_count": 4,
     "metadata": {},
     "output_type": "execute_result"
    }
   ],
   "source": [
    "def cal_val_word(word):\n",
    "    value=0\n",
    "    for char in word:\n",
    "        if char.lower() in 'aeiou':\n",
    "            value=value+3\n",
    "        elif char.lower()=='x':\n",
    "            value=value+10\n",
    "        elif char.isalpha():\n",
    "            value=value+1\n",
    "    return value\n",
    "\n",
    "cal_val_word('xerox')"
   ]
  },
  {
   "cell_type": "markdown",
   "id": "9f21de3a-9971-457b-90a6-454a50df0a24",
   "metadata": {},
   "source": [
    "### 2. Write a function that inputs a number and print the multiplication table of that number"
   ]
  },
  {
   "cell_type": "code",
   "execution_count": 9,
   "id": "44025ca7-0c1d-49a7-96a7-eee6e5a4167e",
   "metadata": {},
   "outputs": [
    {
     "name": "stdout",
     "output_type": "stream",
     "text": [
      "2\n",
      "4\n",
      "6\n",
      "8\n",
      "10\n",
      "12\n",
      "14\n",
      "16\n",
      "18\n",
      "20\n"
     ]
    }
   ],
   "source": [
    "def multi(num):\n",
    "    i=1\n",
    "    while i<=10:\n",
    "        print(num*i)\n",
    "        i=i+1\n",
    "\n",
    "multi(2)\n",
    "        "
   ]
  },
  {
   "cell_type": "markdown",
   "id": "88328063-17de-4f92-908e-3c20c5a1c7fa",
   "metadata": {},
   "source": [
    "### 3. Write a program to print twin primes less than 300 . If two consecutive odd numbers are both prime then they are known as twin primes"
   ]
  },
  {
   "cell_type": "code",
   "execution_count": 19,
   "id": "e79f8657-dc77-473c-b9d4-d2e7e538556d",
   "metadata": {},
   "outputs": [
    {
     "name": "stdout",
     "output_type": "stream",
     "text": [
      "Twin Prime:\n",
      "3 and 5\n",
      "5 and 7\n",
      "11 and 13\n",
      "17 and 19\n",
      "29 and 31\n",
      "41 and 43\n",
      "59 and 61\n",
      "71 and 73\n",
      "101 and 103\n",
      "107 and 109\n",
      "137 and 139\n",
      "149 and 151\n",
      "179 and 181\n",
      "191 and 193\n",
      "197 and 199\n",
      "227 and 229\n",
      "239 and 241\n",
      "269 and 271\n",
      "281 and 283\n"
     ]
    }
   ],
   "source": [
    "def checkprime(num):\n",
    "    for i in range(2,num):\n",
    "        if num%i==0:\n",
    "            return False\n",
    "    return True\n",
    "\n",
    "def twinprime(num):\n",
    "    for first_num in range(2,num):\n",
    "        second_num=first_num+2\n",
    "        if checkprime(first_num) and checkprime(second_num):\n",
    "            print(first_num,'and',second_num)\n",
    "\n",
    "print(\"Twin Prime:\")\n",
    "twinprime(300)\n",
    "    "
   ]
  },
  {
   "cell_type": "markdown",
   "id": "a93a5d1c-b9e7-470c-84ea-c997858d5222",
   "metadata": {},
   "source": [
    "### 4 Write a program to implement these formulae of permutations and combinations"
   ]
  },
  {
   "cell_type": "code",
   "execution_count": 28,
   "id": "e38c486b-05ef-40d7-b23b-669838df407f",
   "metadata": {},
   "outputs": [
    {
     "name": "stdout",
     "output_type": "stream",
     "text": [
      "Permutaion: 32760\n",
      "Combination: 1365\n"
     ]
    }
   ],
   "source": [
    "import operator as op\n",
    "\n",
    "def factorial(num):\n",
    "    if num==1:\n",
    "        return num\n",
    "    return num*factorial(num-1)\n",
    "\n",
    "def permutation(n,r):\n",
    "    return int(factorial(n)/factorial(n-r))\n",
    "\n",
    "def combination(n,r):\n",
    "    return int(factorial(n)/(factorial(r)*factorial(n-r)))\n",
    "\n",
    "print('Permutaion:',permutation(15,4))\n",
    "print('Combination:',combination(15,4))"
   ]
  },
  {
   "cell_type": "markdown",
   "id": "8e72e563-ee22-4d02-842b-baa00d0b64af",
   "metadata": {},
   "source": [
    "### 5. Write a function to convert a decimal number to binary number"
   ]
  },
  {
   "cell_type": "code",
   "execution_count": 36,
   "id": "87f18552-dee8-4093-9d76-18197a8bacef",
   "metadata": {},
   "outputs": [
    {
     "name": "stdout",
     "output_type": "stream",
     "text": [
      "1011"
     ]
    }
   ],
   "source": [
    "def decTobin(num):\n",
    "    if num>1:\n",
    "        decTobin(num//2)\n",
    "    print(num%2,end='')\n",
    "\n",
    "decTobin(11)"
   ]
  },
  {
   "cell_type": "markdown",
   "id": "174ea6ec-631a-462a-9f92-93c7a318e93e",
   "metadata": {},
   "source": [
    "### 6. WAP to find the version of python you are using"
   ]
  },
  {
   "cell_type": "code",
   "execution_count": 4,
   "id": "fc5d6f97-8c3d-4cc2-b2e8-a89d27d73b60",
   "metadata": {},
   "outputs": [
    {
     "name": "stdout",
     "output_type": "stream",
     "text": [
      "3.12.4 | packaged by Anaconda, Inc. | (main, Jun 18 2024, 15:03:56) [MSC v.1929 64 bit (AMD64)]\n",
      "Python Version is 3.12.4 | packaged by Anaconda, Inc. | (main, Jun 18 2024, 15:03:56) [MSC v.1929 64 bit (AMD64)]\n"
     ]
    }
   ],
   "source": [
    "import sys\n",
    "print(sys.version)\n",
    "print('Python Version is',sys.version)"
   ]
  },
  {
   "cell_type": "markdown",
   "id": "007ecc69-ae34-408a-8aee-cf7c7052bc70",
   "metadata": {},
   "source": [
    "### 7. WAP to display the current date and time"
   ]
  },
  {
   "cell_type": "code",
   "execution_count": 13,
   "id": "5bac69ff-7a06-4b9b-bcb4-6b755fa9fe21",
   "metadata": {},
   "outputs": [
    {
     "name": "stdout",
     "output_type": "stream",
     "text": [
      "Current Date and Time is 2024-09-16 18:50:52.395092\n"
     ]
    }
   ],
   "source": [
    "from datetime import datetime\n",
    "print(\"Current Date and Time is\",datetime.now())"
   ]
  },
  {
   "cell_type": "markdown",
   "id": "d301bc6b-526d-4074-bde0-3fe514caa8a2",
   "metadata": {},
   "source": [
    "### 8. WAP to display the day of week"
   ]
  },
  {
   "cell_type": "code",
   "execution_count": 30,
   "id": "29dc6f53-67c0-4621-87c0-22de77447ad0",
   "metadata": {},
   "outputs": [
    {
     "name": "stdout",
     "output_type": "stream",
     "text": [
      "Today is Monday\n"
     ]
    }
   ],
   "source": [
    "from datetime import datetime\n",
    "current_time=datetime.now()\n",
    "day_of_week=current_time.strftime(\"%A\")\n",
    "print(\"Today is\",day_of_week)"
   ]
  },
  {
   "cell_type": "markdown",
   "id": "8c1d3fde-c980-4861-9076-32bb0b20b316",
   "metadata": {},
   "source": [
    "### 9. WAP to display current Month"
   ]
  },
  {
   "cell_type": "code",
   "execution_count": 44,
   "id": "f34aa2a8-9fce-482b-9ae5-917624ea1817",
   "metadata": {},
   "outputs": [
    {
     "name": "stdout",
     "output_type": "stream",
     "text": [
      "Current Month is September\n"
     ]
    }
   ],
   "source": [
    "from datetime import datetime\n",
    "current_time=datetime.now()\n",
    "month=current_time.strftime(\"%B\")\n",
    "print(\"Current Month is\",month)"
   ]
  },
  {
   "cell_type": "markdown",
   "id": "54dfb39a-f98c-4800-9e1d-3406a0a5481d",
   "metadata": {},
   "source": [
    "### 10. WAP to display current Year"
   ]
  },
  {
   "cell_type": "code",
   "execution_count": 46,
   "id": "1238f525-9c55-451d-87ea-c3df20bd4f42",
   "metadata": {},
   "outputs": [
    {
     "name": "stdout",
     "output_type": "stream",
     "text": [
      "Current Year is 2024\n"
     ]
    }
   ],
   "source": [
    "from datetime import datetime\n",
    "current_time=datetime.now()\n",
    "year=current_time.strftime(\"%Y\")\n",
    "print(\"Current Year is\",year)"
   ]
  },
  {
   "cell_type": "code",
   "execution_count": null,
   "id": "ea5bdf38-e1c9-4b22-9c52-6f80106ef28f",
   "metadata": {},
   "outputs": [],
   "source": []
  }
 ],
 "metadata": {
  "kernelspec": {
   "display_name": "Python 3 (ipykernel)",
   "language": "python",
   "name": "python3"
  },
  "language_info": {
   "codemirror_mode": {
    "name": "ipython",
    "version": 3
   },
   "file_extension": ".py",
   "mimetype": "text/x-python",
   "name": "python",
   "nbconvert_exporter": "python",
   "pygments_lexer": "ipython3",
   "version": "3.12.4"
  }
 },
 "nbformat": 4,
 "nbformat_minor": 5
}
