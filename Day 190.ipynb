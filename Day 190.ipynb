{
 "cells": [
  {
   "cell_type": "markdown",
   "id": "d26dd21c-e188-480b-be51-5477e06ddfdd",
   "metadata": {},
   "source": [
    "### Print Sum of digits in a number"
   ]
  },
  {
   "cell_type": "code",
   "execution_count": 1,
   "id": "24796b15-eb75-4251-ac23-27e677d3156d",
   "metadata": {},
   "outputs": [
    {
     "name": "stdin",
     "output_type": "stream",
     "text": [
      "Enter a Number: 123\n"
     ]
    },
    {
     "name": "stdout",
     "output_type": "stream",
     "text": [
      "Sum of all the digits in number : 6\n"
     ]
    }
   ],
   "source": [
    "num=int(input('Enter a Number:'))\n",
    "sum=0\n",
    "while num>0:\n",
    "    rem=num%10\n",
    "    sum=sum+rem\n",
    "    num=num//10\n",
    "print('Sum of all the digits in number :',sum)    "
   ]
  },
  {
   "cell_type": "code",
   "execution_count": null,
   "id": "6eb8292c-cb4e-4e50-b28d-6b2040380ced",
   "metadata": {},
   "outputs": [],
   "source": []
  }
 ],
 "metadata": {
  "kernelspec": {
   "display_name": "Python 3 (ipykernel)",
   "language": "python",
   "name": "python3"
  },
  "language_info": {
   "codemirror_mode": {
    "name": "ipython",
    "version": 3
   },
   "file_extension": ".py",
   "mimetype": "text/x-python",
   "name": "python",
   "nbconvert_exporter": "python",
   "pygments_lexer": "ipython3",
   "version": "3.12.4"
  }
 },
 "nbformat": 4,
 "nbformat_minor": 5
}
