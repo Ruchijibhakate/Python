{
 "cells": [
  {
   "cell_type": "markdown",
   "id": "d878f216-65f3-44f5-9892-23fc103a8cb1",
   "metadata": {},
   "source": [
    "### 1. Write a Program that accepts a word from user and reverses it."
   ]
  },
  {
   "cell_type": "code",
   "execution_count": 8,
   "id": "62c6af40-992d-42c5-afeb-0e0a3f514cdc",
   "metadata": {},
   "outputs": [
    {
     "name": "stdin",
     "output_type": "stream",
     "text": [
      "Enter a Word : quickly\n"
     ]
    },
    {
     "name": "stdout",
     "output_type": "stream",
     "text": [
      "ylkciuq\n"
     ]
    }
   ],
   "source": [
    "word=input('Enter a Word :')\n",
    "rev_str=\"\"\n",
    "for i in word:\n",
    "    rev_str=i+rev_str\n",
    "print(rev_str)"
   ]
  },
  {
   "cell_type": "markdown",
   "id": "29fa9a5e-e1a3-4a35-aef3-31b3be3eb6ad",
   "metadata": {},
   "source": [
    "### 2. Python program to count the number of even or odd numbers from a series of numbers."
   ]
  },
  {
   "cell_type": "code",
   "execution_count": 11,
   "id": "48d1c560-d151-401c-bb85-10bc02c91ba8",
   "metadata": {},
   "outputs": [
    {
     "name": "stdout",
     "output_type": "stream",
     "text": [
      "Total Even Numbers : 4\n",
      "Total Odd Numbers : 5\n"
     ]
    }
   ],
   "source": [
    "num_list=[4,10,7,19,27,58,91,0,45]\n",
    "ev=0\n",
    "od=0\n",
    "for i in num_list:\n",
    "    if i%2==0:\n",
    "        ev=ev+1\n",
    "    else:\n",
    "        od=od+1\n",
    "print('Total Even Numbers :',ev)\n",
    "print('Total Odd Numbers :',od)"
   ]
  },
  {
   "cell_type": "code",
   "execution_count": null,
   "id": "bdc04e26-c90c-4d10-9512-043fbc8b501b",
   "metadata": {},
   "outputs": [],
   "source": []
  }
 ],
 "metadata": {
  "kernelspec": {
   "display_name": "Python 3 (ipykernel)",
   "language": "python",
   "name": "python3"
  },
  "language_info": {
   "codemirror_mode": {
    "name": "ipython",
    "version": 3
   },
   "file_extension": ".py",
   "mimetype": "text/x-python",
   "name": "python",
   "nbconvert_exporter": "python",
   "pygments_lexer": "ipython3",
   "version": "3.12.4"
  }
 },
 "nbformat": 4,
 "nbformat_minor": 5
}
