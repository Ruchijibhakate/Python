{
 "cells": [
  {
   "cell_type": "markdown",
   "id": "51d1a389-2794-45fb-aa7f-e2930d4d310e",
   "metadata": {},
   "source": [
    "### Create a 3x3 identity matrix as a list of lists."
   ]
  },
  {
   "cell_type": "code",
   "execution_count": 4,
   "id": "f5beedee-ca02-4f4c-9fa9-f41f0c252714",
   "metadata": {},
   "outputs": [
    {
     "name": "stdout",
     "output_type": "stream",
     "text": [
      "[[1, 0, 0], [0, 1, 0], [0, 0, 1]]\n"
     ]
    }
   ],
   "source": [
    "identity_matrix=[[1 if i==j else 0 for j in range(3)] for i in range(3)]\n",
    "print(identity_matrix)"
   ]
  },
  {
   "cell_type": "markdown",
   "id": "abbde65d-08f0-44b8-bd13-5f693e5c1087",
   "metadata": {},
   "source": [
    "### Get the common items between two lists."
   ]
  },
  {
   "cell_type": "code",
   "execution_count": null,
   "id": "eec9aa67-4248-4cc7-96af-5d4dae711fd5",
   "metadata": {},
   "outputs": [],
   "source": [
    "list1=[1,2,3,4,5]\n",
    "list2=[1,4,3,5]\n",
    "common_item=list(set(list1) and set(list2))\n"
   ]
  }
 ],
 "metadata": {
  "kernelspec": {
   "display_name": "Python 3 (ipykernel)",
   "language": "python",
   "name": "python3"
  },
  "language_info": {
   "codemirror_mode": {
    "name": "ipython",
    "version": 3
   },
   "file_extension": ".py",
   "mimetype": "text/x-python",
   "name": "python",
   "nbconvert_exporter": "python",
   "pygments_lexer": "ipython3",
   "version": "3.12.4"
  }
 },
 "nbformat": 4,
 "nbformat_minor": 5
}
