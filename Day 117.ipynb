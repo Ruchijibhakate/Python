{
 "cells": [
  {
   "cell_type": "markdown",
   "id": "ed638b83-3bba-43dc-9b98-0a24642ec59c",
   "metadata": {},
   "source": [
    "### Character Pattern Program of Word \"CODER\""
   ]
  },
  {
   "cell_type": "code",
   "execution_count": 2,
   "id": "6642acd4-c9e9-490d-a1cd-84268e56f6fe",
   "metadata": {},
   "outputs": [
    {
     "name": "stdout",
     "output_type": "stream",
     "text": [
      "          C \n",
      "        O O O \n",
      "      D D D D D \n",
      "    E E E E E E E \n",
      "  R R R R R R R R R \n"
     ]
    }
   ],
   "source": [
    "s='CODER'\n",
    "n=len(s)\n",
    "p=0\n",
    "for i in range(1,n+1):\n",
    "    for j in range(i,n+1):\n",
    "        print(' ',end=' ')\n",
    "    for j in range(1,i+1):\n",
    "        print(s[p],end=' ')\n",
    "    for j in range(2,i+1):\n",
    "        print(s[p],end=' ')\n",
    "    p=p+1\n",
    "    print()"
   ]
  },
  {
   "cell_type": "code",
   "execution_count": null,
   "id": "e80144de-8b41-47db-bb77-9a09cb0b7978",
   "metadata": {},
   "outputs": [],
   "source": []
  }
 ],
 "metadata": {
  "kernelspec": {
   "display_name": "Python 3 (ipykernel)",
   "language": "python",
   "name": "python3"
  },
  "language_info": {
   "codemirror_mode": {
    "name": "ipython",
    "version": 3
   },
   "file_extension": ".py",
   "mimetype": "text/x-python",
   "name": "python",
   "nbconvert_exporter": "python",
   "pygments_lexer": "ipython3",
   "version": "3.12.4"
  }
 },
 "nbformat": 4,
 "nbformat_minor": 5
}
