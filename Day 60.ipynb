{
 "cells": [
  {
   "cell_type": "markdown",
   "id": "e56f8e5a-d491-44d6-844a-8c67854e7e97",
   "metadata": {},
   "source": [
    "### 1. WAP to count the number of even and odd numbers from the series of numbers."
   ]
  },
  {
   "cell_type": "code",
   "execution_count": 10,
   "id": "aedbbdc5-97f2-428c-a596-509619211276",
   "metadata": {},
   "outputs": [
    {
     "name": "stdout",
     "output_type": "stream",
     "text": [
      "Total even numbers : 6\n",
      "Total odd numbers: 5\n"
     ]
    }
   ],
   "source": [
    "series=[1,28,90,43,75,42,10,68,5,38,91]\n",
    "ev=0\n",
    "od=0\n",
    "for i in series:\n",
    "    if i%2==0:\n",
    "        ev=ev+1\n",
    "    else:\n",
    "        od=od+1\n",
    "print('Total even numbers :',ev) \n",
    "print('Total odd numbers:',od)"
   ]
  },
  {
   "cell_type": "markdown",
   "id": "6f7e9748-b6b6-44a7-a95a-5e47e794ba7b",
   "metadata": {},
   "source": [
    "### 2. WAP to display all the numbers within range except prime numbers."
   ]
  },
  {
   "cell_type": "code",
   "execution_count": 7,
   "id": "38e18121-73be-42c5-84e2-edf831e945c2",
   "metadata": {},
   "outputs": [
    {
     "name": "stdout",
     "output_type": "stream",
     "text": [
      "4 6 8 9 10 12 14 15 16 18 20 21 22 24 25 26 27 28 30 32 33 34 35 36 38 39 40 42 44 45 46 48 49 "
     ]
    }
   ],
   "source": [
    "list=[]\n",
    "for num in range(1,50):\n",
    "    for i in range(2,num):\n",
    "        if num%i==0:\n",
    "            break\n",
    "    else:\n",
    "        a=num\n",
    "        list.append(a)\n",
    "        \n",
    "for j in range(1,50):\n",
    "    if j not in list:\n",
    "        print(j,end=' ')"
   ]
  },
  {
   "cell_type": "markdown",
   "id": "9eb8fd0b-a557-4cfd-ac30-0eab237c6bfb",
   "metadata": {},
   "source": [
    "### 3. WAP to get fabonacci series between 0 to 50."
   ]
  },
  {
   "cell_type": "code",
   "execution_count": 22,
   "id": "43b7a513-96e5-4dfc-9c41-9fba2260fa62",
   "metadata": {},
   "outputs": [
    {
     "name": "stdout",
     "output_type": "stream",
     "text": [
      "0\n",
      "1\n",
      "1\n",
      "2\n",
      "3\n",
      "5\n",
      "8\n",
      "13\n",
      "21\n",
      "34\n"
     ]
    }
   ],
   "source": [
    "n1=0\n",
    "n2=1\n",
    "print(n1)\n",
    "print(n2)\n",
    "i=1\n",
    "while (i<=20):\n",
    "    n3=n1+n2\n",
    "    n1,n2=n2,n3\n",
    "    i=i+1\n",
    "    if n3>50:\n",
    "        break\n",
    "    else:\n",
    "        print(n3)"
   ]
  },
  {
   "cell_type": "markdown",
   "id": "06e5909f-a8a8-4d6a-ac6b-52ee63074bd2",
   "metadata": {},
   "source": [
    "### 4. WAP to find factorial of given number"
   ]
  },
  {
   "cell_type": "code",
   "execution_count": 27,
   "id": "d51f2f32-8456-4b48-b47d-f93e0599acbd",
   "metadata": {},
   "outputs": [
    {
     "name": "stdin",
     "output_type": "stream",
     "text": [
      "Enter a number: 5\n"
     ]
    },
    {
     "name": "stdout",
     "output_type": "stream",
     "text": [
      "120\n"
     ]
    }
   ],
   "source": [
    "num=int(input('Enter a number:'))\n",
    "fact=1\n",
    "i=1\n",
    "while(i<=num):\n",
    "    fact=fact*i\n",
    "    i=i+1\n",
    "print(fact)    "
   ]
  },
  {
   "cell_type": "markdown",
   "id": "c8dccb45-f877-4266-8a4a-11eb69c5349a",
   "metadata": {},
   "source": [
    "### 5. WAP that accept a string and calculates the number of digits and letters."
   ]
  },
  {
   "cell_type": "code",
   "execution_count": 32,
   "id": "d49b234e-9c33-4ddc-95e4-e27b006b7b1c",
   "metadata": {},
   "outputs": [
    {
     "name": "stdin",
     "output_type": "stream",
     "text": [
      "Enter a string ruchi11122001\n"
     ]
    },
    {
     "name": "stdout",
     "output_type": "stream",
     "text": [
      "The input string ruchi11122001 has 5 letters and 8 digits\n"
     ]
    }
   ],
   "source": [
    "str=input('Enter a string')\n",
    "digits=0\n",
    "letters=0\n",
    "for i in str:\n",
    "    if i.isdigit():\n",
    "        digits=digits+1\n",
    "    elif i.isalpha():\n",
    "        letters=letters+1\n",
    "print('The input string',str,'has',letters,'letters and',digits,'digits')        \n",
    "        "
   ]
  },
  {
   "cell_type": "code",
   "execution_count": null,
   "id": "bd73bcf7-803d-4ebd-a4e8-227c2719a5e2",
   "metadata": {},
   "outputs": [],
   "source": []
  }
 ],
 "metadata": {
  "kernelspec": {
   "display_name": "Python 3 (ipykernel)",
   "language": "python",
   "name": "python3"
  },
  "language_info": {
   "codemirror_mode": {
    "name": "ipython",
    "version": 3
   },
   "file_extension": ".py",
   "mimetype": "text/x-python",
   "name": "python",
   "nbconvert_exporter": "python",
   "pygments_lexer": "ipython3",
   "version": "3.12.4"
  }
 },
 "nbformat": 4,
 "nbformat_minor": 5
}
