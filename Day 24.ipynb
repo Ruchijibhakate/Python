{
 "cells": [
  {
   "cell_type": "markdown",
   "id": "3b5c1d2c-9c5e-4d0e-934c-29914fc86b75",
   "metadata": {},
   "source": [
    "### 1. WAP to sort (ascending and decending) a dictionary by value"
   ]
  },
  {
   "cell_type": "code",
   "execution_count": 6,
   "id": "836fa80d-098d-4a0a-b195-b7c49e50ee1e",
   "metadata": {},
   "outputs": [
    {
     "name": "stdout",
     "output_type": "stream",
     "text": [
      "Sorted dictionary in ascending order is [(2, 1), (1, 2), (5, 3), (8, 4), (3, 4)]\n",
      "Sorted dictionary in decending order is [(8, 4), (3, 4), (5, 3), (1, 2), (2, 1)]\n"
     ]
    }
   ],
   "source": [
    "import operator\n",
    "dict={1:2,8:4,3:4,5:3,2:1}\n",
    "ascending_dict=sorted(d.items(),key=operator.itemgetter(1))\n",
    "decending_dict=sorted(d.items(),key=operator.itemgetter(1),reverse=True)\n",
    "print(\"Sorted dictionary in ascending order is\",ascending_dict)\n",
    "print(\"Sorted dictionary in decending order is\",decending_dict)"
   ]
  },
  {
   "cell_type": "markdown",
   "id": "493742e9-6d20-4be3-9996-c7270400df66",
   "metadata": {},
   "source": [
    "### 2. WAP to add a key to dictinary"
   ]
  },
  {
   "cell_type": "code",
   "execution_count": 11,
   "id": "4b46daa3-6e41-4caa-a764-0c0d2031136a",
   "metadata": {},
   "outputs": [
    {
     "data": {
      "text/plain": [
       "{'Name': 'Rashi', 'Age': 20, 'City': 'Nagpur', 'Color': 'Pink'}"
      ]
     },
     "execution_count": 11,
     "metadata": {},
     "output_type": "execute_result"
    }
   ],
   "source": [
    "dict={'Name':'Rashi','Age':20,'City':'Nagpur'}\n",
    "dict.update({'Color':'Pink'})\n",
    "dict"
   ]
  },
  {
   "cell_type": "markdown",
   "id": "daa0a462-57d0-444c-9ac7-427d50f0bfc9",
   "metadata": {},
   "source": [
    "### 3. WAP to concatenate the following dictionaries to create new one\n"
   ]
  },
  {
   "cell_type": "code",
   "execution_count": 14,
   "id": "114158f3-fbb3-4292-a3dd-5d024b3fd74e",
   "metadata": {},
   "outputs": [
    {
     "name": "stdout",
     "output_type": "stream",
     "text": [
      "New concatenated dictionary is {1: 'a', 2: 'b', 3: 'c', 4: 'yellow', 5: 'black', 6: 'brown', 7: 'apple', 8: 'kiwi'}\n"
     ]
    }
   ],
   "source": [
    "dict1={1:'a',2:'b',3:'c'}\n",
    "dict2={4:'yellow',5:'black',6:'brown'}\n",
    "dict3={7:'apple',8:'kiwi'}\n",
    "\n",
    "concatenated_dict=dict1.copy()\n",
    "concatenated_dict.update(dict2)\n",
    "concatenated_dict.update(dict3)\n",
    "\n",
    "print(\"New concatenated dictionary is\",concatenated_dict)\n"
   ]
  },
  {
   "cell_type": "markdown",
   "id": "b375a0a4-1d2d-4eed-aca0-e0e18277559b",
   "metadata": {},
   "source": [
    "### 4. WAP to check whether given key already exists in dictionary"
   ]
  },
  {
   "cell_type": "code",
   "execution_count": 26,
   "id": "553a8881-6a69-4df5-afd3-66c996b7ddd2",
   "metadata": {},
   "outputs": [
    {
     "name": "stdout",
     "output_type": "stream",
     "text": [
      "Key exists in dictionary\n",
      "Key does not exists in dictionary\n"
     ]
    }
   ],
   "source": [
    "dict={'Name':'Rashi','Age':20,'City':'Nagpur'}\n",
    "def key_to_check(x):\n",
    "    if x in dict:\n",
    "        print(\"Key exists in dictionary\")\n",
    "    else:\n",
    "        print(\"Key does not exists in dictionary\")\n",
    "\n",
    "key_to_check('Age')\n",
    "key_to_check('color')"
   ]
  },
  {
   "cell_type": "markdown",
   "id": "7244a763-e3ff-4123-86b1-f24660f1d4e9",
   "metadata": {},
   "source": [
    "### 5.WAP to iterate over dictionary using for loop"
   ]
  },
  {
   "cell_type": "code",
   "execution_count": 43,
   "id": "8c371a54-ad6f-4fee-abca-ae96158d8ee1",
   "metadata": {},
   "outputs": [
    {
     "name": "stdout",
     "output_type": "stream",
     "text": [
      "Name : Rashi\n",
      "Age : 20\n",
      "City : Nagpur\n"
     ]
    }
   ],
   "source": [
    "dict={'Name':'Rashi','Age':20,'City':'Nagpur'}\n",
    "for i,j in dict.items():\n",
    "    print(i,':',j)"
   ]
  },
  {
   "cell_type": "markdown",
   "id": "2c1ef913-5142-4ae0-ab13-85826c07398d",
   "metadata": {},
   "source": [
    "### 6. Print Letter L in the form of * pattern"
   ]
  },
  {
   "cell_type": "code",
   "execution_count": 51,
   "id": "3fcf7e34-a775-4b6f-ad72-5d240b9f4a90",
   "metadata": {},
   "outputs": [
    {
     "name": "stdout",
     "output_type": "stream",
     "text": [
      "*     \n",
      "*     \n",
      "*     \n",
      "*     \n",
      "*     \n",
      "*     \n",
      "* * * * * \n"
     ]
    }
   ],
   "source": [
    "for row in range(7):\n",
    "    for col in range(5):\n",
    "        if (col==0) or (row==6 and col!=0):\n",
    "            print(\"*\",end=' ')\n",
    "        else:\n",
    "            print(end=\" \")\n",
    "    print()       "
   ]
  },
  {
   "cell_type": "markdown",
   "id": "35403311-e988-41c6-b7c0-caffa2321493",
   "metadata": {},
   "source": [
    "### 7. Print Letter M in the form of * pattern¶"
   ]
  },
  {
   "cell_type": "code",
   "execution_count": 65,
   "id": "dd6a3c0c-0854-4679-8936-3a35029b48b9",
   "metadata": {},
   "outputs": [
    {
     "name": "stdout",
     "output_type": "stream",
     "text": [
      "*     *\n",
      "**   **\n",
      "* * * *\n",
      "*  *  *\n",
      "*     *\n",
      "*     *\n",
      "*     *\n"
     ]
    }
   ],
   "source": [
    "for row in range(7):\n",
    "    for col in range(7):\n",
    "        if (col==0 or col==6) or (row==1 and (col==1 or col==5)) or (row==2 and (col==2 or col==4)) or (row==3 and col==3):\n",
    "            print(\"*\",end='')\n",
    "        else:\n",
    "            print(end=\" \")\n",
    "    print()        "
   ]
  },
  {
   "cell_type": "markdown",
   "id": "459e2dcd-ba0c-487a-ac5d-098d56543ffe",
   "metadata": {},
   "source": [
    "### 8.Print Letter N in the form of * pattern¶"
   ]
  },
  {
   "cell_type": "code",
   "execution_count": 100,
   "id": "60595baa-d63f-41fe-bf91-d0c9621a4b82",
   "metadata": {},
   "outputs": [
    {
     "name": "stdout",
     "output_type": "stream",
     "text": [
      "*    *\n",
      "**   *\n",
      "* *  *\n",
      "*  * *\n",
      "*   **\n",
      "*    *\n"
     ]
    }
   ],
   "source": [
    "for row in range(6):\n",
    "    for col in range(6):\n",
    "        if (col==0 or col==5) or (row==1 and col==1) or (row==2 and col==2) or (row==3 and col==3) or (row==4 and col==4):\n",
    "            print(\"*\",end='')\n",
    "        else:\n",
    "            print(end=' ')\n",
    "    print()        \n",
    "    "
   ]
  },
  {
   "cell_type": "markdown",
   "id": "875708ff-c9fb-4834-8aea-3c499a6edba2",
   "metadata": {},
   "source": [
    "### 9. Print Letter O in the form of * pattern"
   ]
  },
  {
   "cell_type": "code",
   "execution_count": 127,
   "id": "a9a6551d-b921-4b0c-a7ab-ce40e984b61d",
   "metadata": {},
   "outputs": [
    {
     "name": "stdout",
     "output_type": "stream",
     "text": [
      " *** \n",
      "*   *\n",
      "*   *\n",
      "*   *\n",
      "*   *\n",
      "*   *\n",
      " *** \n"
     ]
    }
   ],
   "source": [
    "for row in range(7):\n",
    "    for col in range(5):\n",
    "        if ((col==0 or col==4) and (row!=0 and row!=6)) or ((row==0 or row==6) and (col>0 and col<4)):\n",
    "            print(\"*\",end='')\n",
    "        else:\n",
    "            print(end=' ')\n",
    "    print()        "
   ]
  },
  {
   "cell_type": "markdown",
   "id": "22d76337-8f33-4eeb-b69a-5546e6fdfe77",
   "metadata": {},
   "source": [
    "### 10. Print Leter P in the form of * pattern"
   ]
  },
  {
   "cell_type": "code",
   "execution_count": 152,
   "id": "8f034b0b-ade2-4071-ae6d-87b96c93d14c",
   "metadata": {},
   "outputs": [
    {
     "name": "stdout",
     "output_type": "stream",
     "text": [
      "**** \n",
      "*   *\n",
      "*   *\n",
      "**** \n",
      "*    \n",
      "*    \n",
      "*    \n"
     ]
    }
   ],
   "source": [
    "for row in range(7):\n",
    "    for col in range(5):\n",
    "        if (col==0 or (col==4 and (row==1 or row==2))) or ((row==0 or row==3) and (col>0 and col<4)):\n",
    "            print(\"*\",end='')\n",
    "        else:\n",
    "            print(end=' ')\n",
    "    print()        "
   ]
  },
  {
   "cell_type": "code",
   "execution_count": null,
   "id": "9b577c25-62d6-4b0c-a58f-d91429e1c1e0",
   "metadata": {},
   "outputs": [],
   "source": []
  }
 ],
 "metadata": {
  "kernelspec": {
   "display_name": "Python 3 (ipykernel)",
   "language": "python",
   "name": "python3"
  },
  "language_info": {
   "codemirror_mode": {
    "name": "ipython",
    "version": 3
   },
   "file_extension": ".py",
   "mimetype": "text/x-python",
   "name": "python",
   "nbconvert_exporter": "python",
   "pygments_lexer": "ipython3",
   "version": "3.12.4"
  }
 },
 "nbformat": 4,
 "nbformat_minor": 5
}
