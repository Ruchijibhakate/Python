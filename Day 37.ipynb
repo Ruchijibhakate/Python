{
 "cells": [
  {
   "cell_type": "markdown",
   "id": "9fd32520-3f55-46b0-a412-94855290a06e",
   "metadata": {},
   "source": [
    "### 1. Remove items from the set1 that are not common to both set1 and set2"
   ]
  },
  {
   "cell_type": "code",
   "execution_count": 2,
   "id": "e1f2d6ea-589e-40d1-82e5-bb91539d4b9e",
   "metadata": {},
   "outputs": [
    {
     "name": "stdout",
     "output_type": "stream",
     "text": [
      "{40, 50, 20}\n"
     ]
    }
   ],
   "source": [
    "set1={10,20,30,40,50,60}\n",
    "set2={20,40,70,50,80,90}\n",
    "\n",
    "set1.intersection_update(set2)\n",
    "print(set1)"
   ]
  },
  {
   "cell_type": "markdown",
   "id": "7ee824b5-18e0-4ae5-a078-6db4f43e530b",
   "metadata": {},
   "source": [
    "### 2. Write a function to check if inputed number is even or odd"
   ]
  },
  {
   "cell_type": "code",
   "execution_count": 5,
   "id": "3d812007-18c6-4410-b2ed-894253483695",
   "metadata": {},
   "outputs": [
    {
     "name": "stdout",
     "output_type": "stream",
     "text": [
      "even\n"
     ]
    }
   ],
   "source": [
    "def evenorodd(num):\n",
    "    if num%2==0:\n",
    "        print('even')\n",
    "    else:\n",
    "        print('odd')\n",
    "\n",
    "evenorodd(34)"
   ]
  },
  {
   "cell_type": "markdown",
   "id": "4224d553-c89f-4dc9-8a62-4f00c0be9baa",
   "metadata": {},
   "source": [
    "### 3. WAP to print the multiplication of numbers"
   ]
  },
  {
   "cell_type": "code",
   "execution_count": 7,
   "id": "59c01a50-a0f7-4dbd-8a50-3d3e3d2d4b9a",
   "metadata": {},
   "outputs": [
    {
     "name": "stdout",
     "output_type": "stream",
     "text": [
      "120\n"
     ]
    }
   ],
   "source": [
    "def multiply(*args):            #(*args) is used when we are not sure about how many inputs are going to use by user\n",
    "    product=1\n",
    "    for i in args:\n",
    "        product=product*i\n",
    "    print(product)    \n",
    "\n",
    "multiply(1,2,3,4,5)"
   ]
  },
  {
   "cell_type": "markdown",
   "id": "5aacce72-688f-4254-ad3f-547047b60ada",
   "metadata": {},
   "source": [
    "### 4. Print the Charachters Present at the even Index number"
   ]
  },
  {
   "cell_type": "code",
   "execution_count": 23,
   "id": "67253492-9ae0-4b4f-b5e6-80d5ea749e8a",
   "metadata": {},
   "outputs": [
    {
     "name": "stdin",
     "output_type": "stream",
     "text": [
      "Enter a word : beautiful\n"
     ]
    },
    {
     "name": "stdout",
     "output_type": "stream",
     "text": [
      "b\n",
      "a\n",
      "t\n",
      "f\n",
      "l\n"
     ]
    }
   ],
   "source": [
    "str=input(\"Enter a word :\")\n",
    "x=list(str)\n",
    "for i in x[0::2]:\n",
    "    print(i)"
   ]
  },
  {
   "cell_type": "markdown",
   "id": "a1b779d3-c882-4711-b821-8eaa58558825",
   "metadata": {},
   "source": [
    "### 5. Remove first n charachters from the string"
   ]
  },
  {
   "cell_type": "code",
   "execution_count": 28,
   "id": "88c35759-f57e-46fa-99ea-8ac2d4597a53",
   "metadata": {},
   "outputs": [
    {
     "name": "stdin",
     "output_type": "stream",
     "text": [
      "Enter a String : beautiful\n",
      "Enter a value of n: 3\n"
     ]
    },
    {
     "name": "stdout",
     "output_type": "stream",
     "text": [
      "utiful\n"
     ]
    }
   ],
   "source": [
    "str=input(\"Enter a String :\")\n",
    "n=int(input(\"Enter a value of n:\"))\n",
    "print(str[n:])"
   ]
  },
  {
   "cell_type": "markdown",
   "id": "e0d59c20-60ca-4a0f-8803-48ccd63f382e",
   "metadata": {},
   "source": [
    "### 6. Check if the first and last numbers of list are same"
   ]
  },
  {
   "cell_type": "code",
   "execution_count": 31,
   "id": "7a657ac8-bb72-4565-9074-251a1d95ca15",
   "metadata": {},
   "outputs": [
    {
     "name": "stdout",
     "output_type": "stream",
     "text": [
      "First and Last numbers of list are same\n"
     ]
    }
   ],
   "source": [
    "list=[10,45,86,35,20,85,30,10]\n",
    "if list[0]==list[-1]:\n",
    "    print('First and Last numbers of list are same')"
   ]
  },
  {
   "cell_type": "markdown",
   "id": "00273728-bc30-4e7b-a977-9fcd8a234cbd",
   "metadata": {},
   "source": [
    "### 7. WAP to display the numbers from list divisible by 5"
   ]
  },
  {
   "cell_type": "code",
   "execution_count": 2,
   "id": "4bffff7e-5a03-4950-b04d-f4191645b5db",
   "metadata": {},
   "outputs": [
    {
     "name": "stdout",
     "output_type": "stream",
     "text": [
      "60\n",
      "10\n",
      "70\n",
      "25\n"
     ]
    }
   ],
   "source": [
    "list=[34,60,10,70,36,25,59]\n",
    "for i in list:\n",
    "    if i%5==0:\n",
    "        print(i)"
   ]
  },
  {
   "cell_type": "markdown",
   "id": "dd993053-94c2-40de-be89-0718d4735741",
   "metadata": {},
   "source": [
    "### 8. Find the occurences of substring in string"
   ]
  },
  {
   "cell_type": "code",
   "execution_count": 13,
   "id": "eadfbb8f-2f8d-424d-a549-022111ed8347",
   "metadata": {},
   "outputs": [
    {
     "name": "stdout",
     "output_type": "stream",
     "text": [
      "Emma appeared 2 times\n"
     ]
    }
   ],
   "source": [
    "str='Emma is good developer. Emma is writer.'\n",
    "sub_str='Emma'\n",
    "count=str.count(sub_str)\n",
    "print(\"Emma appeared\",count,\"times\")"
   ]
  },
  {
   "cell_type": "markdown",
   "id": "f5e932db-07b4-4644-9f87-f86542ca34d6",
   "metadata": {},
   "source": [
    "### 9. WAP to create a new list such that latest list should contain odd numbers from the first list and even numbers from second list"
   ]
  },
  {
   "cell_type": "code",
   "execution_count": 18,
   "id": "f2592120-6186-4187-929d-e49029d5010a",
   "metadata": {},
   "outputs": [
    {
     "name": "stdout",
     "output_type": "stream",
     "text": [
      "[25, 35, 40, 60, 90]\n"
     ]
    }
   ],
   "source": [
    "list1=[10,20,25,30,35]\n",
    "list2=[40,45,60,75,90]\n",
    "new_list=[]\n",
    "for i in list1:\n",
    "    if i%2!=0:\n",
    "        new_list.append(i)\n",
    "for j in list2:\n",
    "    if j%2==0:\n",
    "        new_list.append(j)\n",
    "print(new_list)"
   ]
  },
  {
   "cell_type": "markdown",
   "id": "81bc178c-17db-45d2-824c-08ffdc35dd44",
   "metadata": {},
   "source": [
    "### 10. Get the each digit from a number in reverse order"
   ]
  },
  {
   "cell_type": "code",
   "execution_count": 29,
   "id": "8ad3c9e2-7aae-4150-a07d-9d9752f9a20f",
   "metadata": {},
   "outputs": [
    {
     "name": "stdin",
     "output_type": "stream",
     "text": [
      "Enter a number: 12345\n"
     ]
    },
    {
     "name": "stdout",
     "output_type": "stream",
     "text": [
      "54321"
     ]
    }
   ],
   "source": [
    "num=int(input('Enter a number:'))\n",
    "while(num>0):\n",
    "    rem=num%10\n",
    "    num=num//10\n",
    "    print(rem,end='')    "
   ]
  },
  {
   "cell_type": "code",
   "execution_count": null,
   "id": "8cb1c8d0-383c-4ec4-a336-5b8550681c44",
   "metadata": {},
   "outputs": [],
   "source": []
  }
 ],
 "metadata": {
  "kernelspec": {
   "display_name": "Python 3 (ipykernel)",
   "language": "python",
   "name": "python3"
  },
  "language_info": {
   "codemirror_mode": {
    "name": "ipython",
    "version": 3
   },
   "file_extension": ".py",
   "mimetype": "text/x-python",
   "name": "python",
   "nbconvert_exporter": "python",
   "pygments_lexer": "ipython3",
   "version": "3.12.4"
  }
 },
 "nbformat": 4,
 "nbformat_minor": 5
}
