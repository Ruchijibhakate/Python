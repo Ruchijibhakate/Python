{
 "cells": [
  {
   "cell_type": "markdown",
   "id": "0c0f06e0-5abc-4a82-86cf-41ad56d586ac",
   "metadata": {},
   "source": [
    "### Replace all odd numbers in a list with -1."
   ]
  },
  {
   "cell_type": "code",
   "execution_count": 2,
   "id": "434b0c01-b949-43f1-b8b3-76c608271020",
   "metadata": {},
   "outputs": [
    {
     "name": "stdout",
     "output_type": "stream",
     "text": [
      "[-1, 2, -1, 4, -1, 6, -1, 8]\n"
     ]
    }
   ],
   "source": [
    "lst=[1,2,3,4,5,6,7,8]\n",
    "new_lst=[-1 if x%2!=0 else x for x in lst]\n",
    "print(new_lst)"
   ]
  },
  {
   "cell_type": "markdown",
   "id": "e6096ba4-fc92-4488-ba26-30c64a49cafb",
   "metadata": {},
   "source": [
    "### Convert a list of integers to a list of booleans where all non-zero values become True."
   ]
  },
  {
   "cell_type": "code",
   "execution_count": 5,
   "id": "eae372f0-38ef-40b5-b52c-6286a8c931c3",
   "metadata": {},
   "outputs": [
    {
     "name": "stdout",
     "output_type": "stream",
     "text": [
      "[True, True, False, True, True, True, False, True]\n"
     ]
    }
   ],
   "source": [
    "list1=[3,5,0,1,4,5,0,6]\n",
    "new_list=[True if x!=0 else False for x in list1]\n",
    "print(new_list)"
   ]
  },
  {
   "cell_type": "code",
   "execution_count": null,
   "id": "12974b33-4c01-4b27-a8cd-32198002dc8a",
   "metadata": {},
   "outputs": [],
   "source": []
  }
 ],
 "metadata": {
  "kernelspec": {
   "display_name": "Python 3 (ipykernel)",
   "language": "python",
   "name": "python3"
  },
  "language_info": {
   "codemirror_mode": {
    "name": "ipython",
    "version": 3
   },
   "file_extension": ".py",
   "mimetype": "text/x-python",
   "name": "python",
   "nbconvert_exporter": "python",
   "pygments_lexer": "ipython3",
   "version": "3.12.4"
  }
 },
 "nbformat": 4,
 "nbformat_minor": 5
}
