{
 "cells": [
  {
   "cell_type": "markdown",
   "id": "c161a849-026e-4f9e-b89f-20af55fba42c",
   "metadata": {},
   "source": [
    "### 1. Print Character Pattern"
   ]
  },
  {
   "cell_type": "code",
   "execution_count": 2,
   "id": "b194976f-ebc9-4c82-852f-8f7a78246f2d",
   "metadata": {},
   "outputs": [
    {
     "name": "stdout",
     "output_type": "stream",
     "text": [
      "E \n",
      "E D \n",
      "E D C \n",
      "E D C B \n",
      "E D C B A \n"
     ]
    }
   ],
   "source": [
    "n=5\n",
    "for i in range(1,n+1):\n",
    "    p=69\n",
    "    for j in range(1,i+1):\n",
    "        print(chr(p),end=' ')\n",
    "        p=p-1\n",
    "    print()    "
   ]
  },
  {
   "cell_type": "markdown",
   "id": "d245f4c7-41c8-4e1d-a3a4-14bdc020912d",
   "metadata": {},
   "source": [
    "### 2. Print Character Pattern"
   ]
  },
  {
   "cell_type": "code",
   "execution_count": 33,
   "id": "6826120a-f08b-4c71-87b2-db032c554d61",
   "metadata": {},
   "outputs": [
    {
     "name": "stdout",
     "output_type": "stream",
     "text": [
      "  E D C B A \n",
      "    D C B A \n",
      "      C B A \n",
      "        B A \n",
      "          A \n"
     ]
    }
   ],
   "source": [
    "n=5\n",
    "k=69\n",
    "for i in range(1,n+1):\n",
    "    p=k \n",
    "    for j in range(1,i+1):\n",
    "        print(' ',end=' ')\n",
    "    for j in range(i,n+1):\n",
    "        print(chr(p),end=' ')\n",
    "        p=p-1\n",
    "    k=k-1    \n",
    "    print() \n",
    "   "
   ]
  },
  {
   "cell_type": "code",
   "execution_count": null,
   "id": "ea5076b3-e339-4c36-a024-3c1861ccb5b8",
   "metadata": {},
   "outputs": [],
   "source": []
  }
 ],
 "metadata": {
  "kernelspec": {
   "display_name": "Python 3 (ipykernel)",
   "language": "python",
   "name": "python3"
  },
  "language_info": {
   "codemirror_mode": {
    "name": "ipython",
    "version": 3
   },
   "file_extension": ".py",
   "mimetype": "text/x-python",
   "name": "python",
   "nbconvert_exporter": "python",
   "pygments_lexer": "ipython3",
   "version": "3.12.4"
  }
 },
 "nbformat": 4,
 "nbformat_minor": 5
}
