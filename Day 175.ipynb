{
 "cells": [
  {
   "cell_type": "markdown",
   "id": "df3ab6a9-a3dd-4e50-bccd-8ad5f246015e",
   "metadata": {},
   "source": [
    "### Write a Python program to get n (non-negative integer) copies of the first 2 characters of a given string. Return n copies of the whole string if the length is less than 2."
   ]
  },
  {
   "cell_type": "code",
   "execution_count": 4,
   "id": "3fb99260-bd39-43bd-9d22-fbc5b5a286e3",
   "metadata": {},
   "outputs": [
    {
     "name": "stdin",
     "output_type": "stream",
     "text": [
      "Enter a Value of n : 4\n",
      "Enter a String : together\n"
     ]
    },
    {
     "name": "stdout",
     "output_type": "stream",
     "text": [
      "totototo\n"
     ]
    }
   ],
   "source": [
    "n=int(input('Enter a Value of n :'))\n",
    "str=input('Enter a String :')\n",
    "if len(str)>2:\n",
    "    print(str[:2]*n)\n",
    "else:\n",
    "    print(str*n)"
   ]
  },
  {
   "cell_type": "code",
   "execution_count": null,
   "id": "5f1b3091-5d5c-465f-a1f9-565d64d8a128",
   "metadata": {},
   "outputs": [],
   "source": []
  }
 ],
 "metadata": {
  "kernelspec": {
   "display_name": "Python 3 (ipykernel)",
   "language": "python",
   "name": "python3"
  },
  "language_info": {
   "codemirror_mode": {
    "name": "ipython",
    "version": 3
   },
   "file_extension": ".py",
   "mimetype": "text/x-python",
   "name": "python",
   "nbconvert_exporter": "python",
   "pygments_lexer": "ipython3",
   "version": "3.12.4"
  }
 },
 "nbformat": 4,
 "nbformat_minor": 5
}
