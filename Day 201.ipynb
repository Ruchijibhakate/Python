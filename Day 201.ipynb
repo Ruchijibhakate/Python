{
 "cells": [
  {
   "cell_type": "markdown",
   "id": "f5d00746-b731-4410-bbff-22c3cfd7ebba",
   "metadata": {},
   "source": [
    "### Find the indices of non-zero elements in a list."
   ]
  },
  {
   "cell_type": "code",
   "execution_count": 4,
   "id": "15937ac1-3daf-4d4f-bc13-964dcea88251",
   "metadata": {},
   "outputs": [
    {
     "name": "stdout",
     "output_type": "stream",
     "text": [
      "[2, 3, 5, 6]\n"
     ]
    }
   ],
   "source": [
    "list=[0,0,8,2,0,45,1]\n",
    "indices=[i for i,x in enumerate(list) if x!=0]\n",
    "print(indices)"
   ]
  },
  {
   "cell_type": "code",
   "execution_count": null,
   "id": "2c9f5c95-8963-495d-b051-d260888fc01a",
   "metadata": {},
   "outputs": [],
   "source": []
  }
 ],
 "metadata": {
  "kernelspec": {
   "display_name": "Python 3 (ipykernel)",
   "language": "python",
   "name": "python3"
  },
  "language_info": {
   "codemirror_mode": {
    "name": "ipython",
    "version": 3
   },
   "file_extension": ".py",
   "mimetype": "text/x-python",
   "name": "python",
   "nbconvert_exporter": "python",
   "pygments_lexer": "ipython3",
   "version": "3.12.4"
  }
 },
 "nbformat": 4,
 "nbformat_minor": 5
}
