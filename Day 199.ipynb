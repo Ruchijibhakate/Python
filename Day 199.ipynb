{
 "cells": [
  {
   "cell_type": "markdown",
   "id": "13a36d7c-a3eb-4e92-ac37-fc3aaf0fb34c",
   "metadata": {},
   "source": [
    "### Multiply all elements in a list by 2."
   ]
  },
  {
   "cell_type": "code",
   "execution_count": 2,
   "id": "1f4e6a85-794b-4f3b-b953-de1664ff1bc1",
   "metadata": {},
   "outputs": [
    {
     "name": "stdout",
     "output_type": "stream",
     "text": [
      "[2, 4, 6, 8, 10]\n"
     ]
    }
   ],
   "source": [
    "lst=[1,2,3,4,5]\n",
    "new_lst=list(map(lambda x : x*2 , lst))\n",
    "print(new_lst)"
   ]
  },
  {
   "cell_type": "markdown",
   "id": "40c77671-302d-48d8-a592-b4663d69f9c0",
   "metadata": {},
   "source": [
    "### Extract all odd numbers from a list of integers."
   ]
  },
  {
   "cell_type": "code",
   "execution_count": 5,
   "id": "605c63f8-a35c-4c09-ab60-1fabb7be12e8",
   "metadata": {},
   "outputs": [
    {
     "name": "stdout",
     "output_type": "stream",
     "text": [
      "[1, 3, 5, 7, 9]\n"
     ]
    }
   ],
   "source": [
    "lst=[1,2,3,4,5,6,7,8,9]\n",
    "new_lst=list(filter(lambda x : x%2!=0, lst))\n",
    "print(new_lst)"
   ]
  },
  {
   "cell_type": "code",
   "execution_count": null,
   "id": "e30be34c-4f87-4f7b-b84d-ffa3a7f0baa0",
   "metadata": {},
   "outputs": [],
   "source": []
  }
 ],
 "metadata": {
  "kernelspec": {
   "display_name": "Python 3 (ipykernel)",
   "language": "python",
   "name": "python3"
  },
  "language_info": {
   "codemirror_mode": {
    "name": "ipython",
    "version": 3
   },
   "file_extension": ".py",
   "mimetype": "text/x-python",
   "name": "python",
   "nbconvert_exporter": "python",
   "pygments_lexer": "ipython3",
   "version": "3.12.4"
  }
 },
 "nbformat": 4,
 "nbformat_minor": 5
}
