{
 "cells": [
  {
   "cell_type": "markdown",
   "id": "615d4446-07d1-48c3-bf3b-65dfd8b5a8c0",
   "metadata": {},
   "source": [
    "### 1. Print word character program"
   ]
  },
  {
   "cell_type": "code",
   "execution_count": 3,
   "id": "fa3c0fc3-d29c-47e3-aa13-4277a54aa20c",
   "metadata": {},
   "outputs": [
    {
     "name": "stdout",
     "output_type": "stream",
     "text": [
      "C \n",
      "O O \n",
      "D D D \n",
      "E E E E \n",
      "R R R R R \n"
     ]
    }
   ],
   "source": [
    "s='CODER'\n",
    "n=len(s)\n",
    "p=0\n",
    "for i in range(1,n+1):\n",
    "    for j in range(1,i+1):\n",
    "        print(s[p],end=' ')\n",
    "    p=p+1\n",
    "    print()"
   ]
  },
  {
   "cell_type": "markdown",
   "id": "0e5f887b-06e0-4bf0-ac0c-177e7fcfa498",
   "metadata": {},
   "source": [
    "### 2. Print word character programm"
   ]
  },
  {
   "cell_type": "code",
   "execution_count": 7,
   "id": "673c9cae-a81e-4401-8350-28d0b918ec55",
   "metadata": {},
   "outputs": [
    {
     "name": "stdout",
     "output_type": "stream",
     "text": [
      "  C C C C C \n",
      "    O O O O \n",
      "      D D D \n",
      "        E E \n",
      "          R \n"
     ]
    }
   ],
   "source": [
    "s='CODER'\n",
    "n=len(s)\n",
    "p=0\n",
    "for i in range(1,n+1):\n",
    "    for j in range(1,i+1):\n",
    "        print(' ',end=' ')\n",
    "    for j in range(i,n+1):\n",
    "        print(s[p],end=' ')\n",
    "    p=p+1\n",
    "    print()"
   ]
  },
  {
   "cell_type": "code",
   "execution_count": null,
   "id": "8e47010c-a350-444c-b632-df3e69350a0b",
   "metadata": {},
   "outputs": [],
   "source": []
  }
 ],
 "metadata": {
  "kernelspec": {
   "display_name": "Python 3 (ipykernel)",
   "language": "python",
   "name": "python3"
  },
  "language_info": {
   "codemirror_mode": {
    "name": "ipython",
    "version": 3
   },
   "file_extension": ".py",
   "mimetype": "text/x-python",
   "name": "python",
   "nbconvert_exporter": "python",
   "pygments_lexer": "ipython3",
   "version": "3.12.4"
  }
 },
 "nbformat": 4,
 "nbformat_minor": 5
}
