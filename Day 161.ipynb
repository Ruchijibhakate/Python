{
 "cells": [
  {
   "cell_type": "markdown",
   "id": "7896f0d4-9bfe-4f8c-b2c3-81d9ee1e739e",
   "metadata": {},
   "source": [
    "### 1. Write a Python program to display the first and last colors from the following list."
   ]
  },
  {
   "cell_type": "code",
   "execution_count": 4,
   "id": "546180de-d9a2-4f5b-a447-31917c9602f1",
   "metadata": {},
   "outputs": [
    {
     "name": "stdout",
     "output_type": "stream",
     "text": [
      "First Color from the List is Red\n",
      "Last Color from the List is Black\n"
     ]
    }
   ],
   "source": [
    "color_list = [\"Red\",\"Green\",\"White\" ,\"Black\"]\n",
    "first_col=color_list[0]\n",
    "last_col=color_list[-1]\n",
    "print(\"First Color from the List is\",first_col)\n",
    "print(\"Last Color from the List is\",last_col)"
   ]
  },
  {
   "cell_type": "markdown",
   "id": "2520d3bf-8674-4195-901b-003845b86c22",
   "metadata": {},
   "source": [
    "### 2. Write a Python program to display the examination schedule. (extract the date from exam_st_date)."
   ]
  },
  {
   "cell_type": "code",
   "execution_count": 7,
   "id": "e3b75038-903c-4b15-9114-1bf036741c2d",
   "metadata": {},
   "outputs": [
    {
     "name": "stdout",
     "output_type": "stream",
     "text": [
      "The examination will start from : 11 / 12 / 2025\n"
     ]
    }
   ],
   "source": [
    "exam_st_date=(11,12,2025)\n",
    "print(\"The examination will start from : %i / %i / %i\" % exam_st_date)"
   ]
  },
  {
   "cell_type": "code",
   "execution_count": null,
   "id": "386f8e78-a2bc-4934-8e82-6f503015f83f",
   "metadata": {},
   "outputs": [],
   "source": []
  }
 ],
 "metadata": {
  "kernelspec": {
   "display_name": "Python 3 (ipykernel)",
   "language": "python",
   "name": "python3"
  },
  "language_info": {
   "codemirror_mode": {
    "name": "ipython",
    "version": 3
   },
   "file_extension": ".py",
   "mimetype": "text/x-python",
   "name": "python",
   "nbconvert_exporter": "python",
   "pygments_lexer": "ipython3",
   "version": "3.12.4"
  }
 },
 "nbformat": 4,
 "nbformat_minor": 5
}
