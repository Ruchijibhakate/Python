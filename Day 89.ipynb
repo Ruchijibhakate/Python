{
 "cells": [
  {
   "cell_type": "markdown",
   "id": "e1884d1c-d943-4114-a0ea-d4ec7bad3753",
   "metadata": {},
   "source": [
    "### 1. Write a Python program which accepts a sequence of comma-separated numbers from user and generate a list and a tuple with those numbers"
   ]
  },
  {
   "cell_type": "code",
   "execution_count": 8,
   "id": "cd2b077c-998f-4dc4-a886-ca3436cc48ff",
   "metadata": {},
   "outputs": [
    {
     "name": "stdin",
     "output_type": "stream",
     "text": [
      "Enter a number : 5\n",
      "Enter a number : 6\n",
      "Enter a number : 3\n",
      "Enter a number : 4\n"
     ]
    },
    {
     "name": "stdout",
     "output_type": "stream",
     "text": [
      "[5, 6, 3, 4]\n",
      "(5, 6, 3, 4)\n"
     ]
    }
   ],
   "source": [
    "list1=[]\n",
    "for i in range(1,5):\n",
    "    num=int(input(\"Enter a number :\"))\n",
    "    list1.append(num)\n",
    "print(list1)\n",
    "print(tuple(list1)) "
   ]
  },
  {
   "cell_type": "markdown",
   "id": "cad13c0e-2773-4288-9ed8-dc2699931b41",
   "metadata": {},
   "source": [
    "### 2. Write a Python program to display the first and last colors from the following list."
   ]
  },
  {
   "cell_type": "code",
   "execution_count": 12,
   "id": "36c56d4e-a22a-4498-aea3-9c90a72da415",
   "metadata": {},
   "outputs": [
    {
     "name": "stdout",
     "output_type": "stream",
     "text": [
      "Red\n",
      "Black\n"
     ]
    }
   ],
   "source": [
    "color_list = [\"Red\",\"Green\",\"White\" ,\"Black\"]\n",
    "print(color_list[0])\n",
    "print(color_list[-1])"
   ]
  },
  {
   "cell_type": "markdown",
   "id": "8599741c-6609-45bf-bb1a-96cc2c90c54a",
   "metadata": {},
   "source": [
    "### 3. Write a Python program to calculate number of days between two dates.\n",
    "### Sample dates : (2014, 7, 2), (2014, 7, 11)"
   ]
  },
  {
   "cell_type": "code",
   "execution_count": 21,
   "id": "4471bc75-6bd0-4ce6-927a-bc5ddb529925",
   "metadata": {},
   "outputs": [
    {
     "name": "stdout",
     "output_type": "stream",
     "text": [
      "Number of days between 2014-07-02 and 2014-07-11 : 9 days\n"
     ]
    }
   ],
   "source": [
    "from datetime import date\n",
    "date1=date(2014, 7, 2)\n",
    "date2=date(2014, 7, 11)\n",
    "delta=date2-date1\n",
    "print(f\"Number of days between {date1} and {date2} : {delta.days} days\")"
   ]
  },
  {
   "cell_type": "markdown",
   "id": "e8e4e473-7b37-48b3-ac9f-f7afed86970b",
   "metadata": {},
   "source": [
    "### 4. Write a Python program to get the difference between a given number and 17, if the number is greater than 17 return double the absolute difference"
   ]
  },
  {
   "cell_type": "code",
   "execution_count": 40,
   "id": "0d96329d-cc3c-4902-b69e-ecc8d7d3d049",
   "metadata": {},
   "outputs": [
    {
     "name": "stdin",
     "output_type": "stream",
     "text": [
      "Enter a number : 30\n"
     ]
    },
    {
     "name": "stdout",
     "output_type": "stream",
     "text": [
      "Double the absolute difference : 26\n"
     ]
    }
   ],
   "source": [
    "num=int(input('Enter a number :'))\n",
    "diff = 17 - num \n",
    "if num > 17 :\n",
    "    print(f\"Double the absolute difference : {2*abs(diff)}\")\n",
    "else:\n",
    "    print(diff)    "
   ]
  },
  {
   "cell_type": "markdown",
   "id": "f41bb921-d9e3-4cea-959b-3d0cdf1d9a96",
   "metadata": {},
   "source": [
    "### 5.To check whether given element exists in list or not??\n",
    "#### list=[1,2,3,4,5,6,7,8,9,10]\n",
    "#### check if 9 and 12 are present in given list or not"
   ]
  },
  {
   "cell_type": "code",
   "execution_count": 50,
   "id": "c76b2c4f-cd23-4222-9430-a64106e67728",
   "metadata": {},
   "outputs": [
    {
     "name": "stdout",
     "output_type": "stream",
     "text": [
      "True\n",
      "False\n"
     ]
    }
   ],
   "source": [
    "list=[1,2,3,4,5,6,7,8,9,10]\n",
    "print(9 in list)\n",
    "print(12 in list)"
   ]
  },
  {
   "cell_type": "code",
   "execution_count": null,
   "id": "63a233fe-e93e-43d5-a8ba-17b0a4ca7319",
   "metadata": {},
   "outputs": [],
   "source": []
  }
 ],
 "metadata": {
  "kernelspec": {
   "display_name": "Python 3 (ipykernel)",
   "language": "python",
   "name": "python3"
  },
  "language_info": {
   "codemirror_mode": {
    "name": "ipython",
    "version": 3
   },
   "file_extension": ".py",
   "mimetype": "text/x-python",
   "name": "python",
   "nbconvert_exporter": "python",
   "pygments_lexer": "ipython3",
   "version": "3.12.4"
  }
 },
 "nbformat": 4,
 "nbformat_minor": 5
}
