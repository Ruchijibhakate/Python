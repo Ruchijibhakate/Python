{
 "cells": [
  {
   "cell_type": "markdown",
   "id": "1ff2a435-6350-4d0d-bead-0e34dc98bb36",
   "metadata": {},
   "source": [
    "### 1. Write a numpy program to get the numpy version."
   ]
  },
  {
   "cell_type": "code",
   "execution_count": 6,
   "id": "3866762d-4207-46bf-9bb4-49662e465807",
   "metadata": {},
   "outputs": [
    {
     "name": "stdout",
     "output_type": "stream",
     "text": [
      "Numpy Version : 1.26.4\n"
     ]
    }
   ],
   "source": [
    "import numpy as np\n",
    "print('Numpy Version :',np.__version__)"
   ]
  },
  {
   "cell_type": "markdown",
   "id": "7ad8091f-bb2f-48da-b030-8a4d2a0c2094",
   "metadata": {},
   "source": [
    "### 2. Write numpy program to get help with the add function"
   ]
  },
  {
   "cell_type": "code",
   "execution_count": 10,
   "id": "f513cad4-9ccc-457b-ab82-ded081248d94",
   "metadata": {},
   "outputs": [
    {
     "name": "stdout",
     "output_type": "stream",
     "text": [
      "add(x1, x2, /, out=None, *, where=True, casting='same_kind', order='K', dtype=None, subok=True[, signature, extobj])\n",
      "\n",
      "Add arguments element-wise.\n",
      "\n",
      "Parameters\n",
      "----------\n",
      "x1, x2 : array_like\n",
      "    The arrays to be added.\n",
      "    If ``x1.shape != x2.shape``, they must be broadcastable to a common\n",
      "    shape (which becomes the shape of the output).\n",
      "out : ndarray, None, or tuple of ndarray and None, optional\n",
      "    A location into which the result is stored. If provided, it must have\n",
      "    a shape that the inputs broadcast to. If not provided or None,\n",
      "    a freshly-allocated array is returned. A tuple (possible only as a\n",
      "    keyword argument) must have length equal to the number of outputs.\n",
      "where : array_like, optional\n",
      "    This condition is broadcast over the input. At locations where the\n",
      "    condition is True, the `out` array will be set to the ufunc result.\n",
      "    Elsewhere, the `out` array will retain its original value.\n",
      "    Note that if an uninitialized `out` array is created via the default\n",
      "    ``out=None``, locations within it where the condition is False will\n",
      "    remain uninitialized.\n",
      "**kwargs\n",
      "    For other keyword-only arguments, see the\n",
      "    :ref:`ufunc docs <ufuncs.kwargs>`.\n",
      "\n",
      "Returns\n",
      "-------\n",
      "add : ndarray or scalar\n",
      "    The sum of `x1` and `x2`, element-wise.\n",
      "    This is a scalar if both `x1` and `x2` are scalars.\n",
      "\n",
      "Notes\n",
      "-----\n",
      "Equivalent to `x1` + `x2` in terms of array broadcasting.\n",
      "\n",
      "Examples\n",
      "--------\n",
      ">>> np.add(1.0, 4.0)\n",
      "5.0\n",
      ">>> x1 = np.arange(9.0).reshape((3, 3))\n",
      ">>> x2 = np.arange(3.0)\n",
      ">>> np.add(x1, x2)\n",
      "array([[  0.,   2.,   4.],\n",
      "       [  3.,   5.,   7.],\n",
      "       [  6.,   8.,  10.]])\n",
      "\n",
      "The ``+`` operator can be used as a shorthand for ``np.add`` on ndarrays.\n",
      "\n",
      ">>> x1 = np.arange(9.0).reshape((3, 3))\n",
      ">>> x2 = np.arange(3.0)\n",
      ">>> x1 + x2\n",
      "array([[ 0.,  2.,  4.],\n",
      "       [ 3.,  5.,  7.],\n",
      "       [ 6.,  8., 10.]])\n",
      "None\n"
     ]
    }
   ],
   "source": [
    "import numpy as np\n",
    "print(np.info(np.add))"
   ]
  },
  {
   "cell_type": "markdown",
   "id": "50cd07ce-c25e-45eb-8e1b-669f2beaa6f7",
   "metadata": {},
   "source": [
    "### 3. Test Whether none of the elements of given array is zero"
   ]
  },
  {
   "cell_type": "code",
   "execution_count": 20,
   "id": "13bae295-0bb0-4818-a67a-ca14d4e8ee5b",
   "metadata": {},
   "outputs": [
    {
     "name": "stdout",
     "output_type": "stream",
     "text": [
      "Original Array : [1 2 3]\n",
      "Test Whether none of the elements of given array is zero:\n",
      "True\n",
      "Original Array : [1 0 3]\n",
      "Test Whether none of the elements of given array is zero:\n",
      "False\n"
     ]
    }
   ],
   "source": [
    "import numpy as np\n",
    "x=np.array([1,2,3])\n",
    "print(\"Original Array :\", x)\n",
    "print(\"Test Whether none of the elements of given array is zero:\")\n",
    "print(np.all(x))\n",
    "\n",
    "x=np.array([1,0,3])\n",
    "print(\"Original Array :\", x)\n",
    "print(\"Test Whether none of the elements of given array is zero:\")\n",
    "print(np.all(x))"
   ]
  },
  {
   "cell_type": "markdown",
   "id": "37a1ea6c-cbd4-4fc8-b63d-115e7fb4d468",
   "metadata": {},
   "source": [
    "### 4. Test whether any of the elements of given array is non-zero"
   ]
  },
  {
   "cell_type": "code",
   "execution_count": 27,
   "id": "8eaa8af3-1863-4cbf-afde-1fb80418c835",
   "metadata": {},
   "outputs": [
    {
     "name": "stdout",
     "output_type": "stream",
     "text": [
      "Orignal Array: [1 0 0 0]\n",
      "Test if any of the elements of given array is non-zero :\n",
      "True\n",
      "Orignal Array: [0 0 0 0]\n",
      "Test if any of the elements of given array is non-zero :\n",
      "False\n"
     ]
    }
   ],
   "source": [
    "import numpy as np\n",
    "x=np.array([1,0,0,0])\n",
    "print(\"Orignal Array:\",x)\n",
    "print('Test if any of the elements of given array is non-zero :')\n",
    "print(np.any(x))\n",
    "\n",
    "x=np.array([0,0,0,0])\n",
    "print(\"Orignal Array:\",x)\n",
    "print('Test if any of the elements of given array is non-zero :')\n",
    "print(np.any(x))"
   ]
  },
  {
   "cell_type": "markdown",
   "id": "5afdcc65-50f1-44b1-8647-7ad38daf035d",
   "metadata": {},
   "source": [
    "### 5. Test a given array element-wise for finiteness(not infinity or not a number)"
   ]
  },
  {
   "cell_type": "code",
   "execution_count": 30,
   "id": "dc100bc4-0eb6-4e4e-83fd-bb80a9979768",
   "metadata": {},
   "outputs": [
    {
     "name": "stdout",
     "output_type": "stream",
     "text": [
      "Original array : [ 1.  0. nan inf]\n",
      "Test a given array element-wise for finiteness :\n",
      "[ True  True False False]\n"
     ]
    }
   ],
   "source": [
    "import numpy as np\n",
    "x=np.array([1, 0, np.nan, np.inf])\n",
    "print('Original array :',x)\n",
    "print('Test a given array element-wise for finiteness :')\n",
    "print(np.isfinite(x))"
   ]
  },
  {
   "cell_type": "code",
   "execution_count": null,
   "id": "36dbddfb-141e-44cd-83dc-e98f950d92a5",
   "metadata": {},
   "outputs": [],
   "source": []
  }
 ],
 "metadata": {
  "kernelspec": {
   "display_name": "Python 3 (ipykernel)",
   "language": "python",
   "name": "python3"
  },
  "language_info": {
   "codemirror_mode": {
    "name": "ipython",
    "version": 3
   },
   "file_extension": ".py",
   "mimetype": "text/x-python",
   "name": "python",
   "nbconvert_exporter": "python",
   "pygments_lexer": "ipython3",
   "version": "3.12.4"
  }
 },
 "nbformat": 4,
 "nbformat_minor": 5
}
