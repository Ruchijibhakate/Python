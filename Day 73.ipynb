{
 "cells": [
  {
   "cell_type": "markdown",
   "id": "24170474-c3cd-424b-9d9a-cd630a3aca1f",
   "metadata": {},
   "source": [
    "### 1. Number Pattern Semi-pyramid pattern"
   ]
  },
  {
   "cell_type": "code",
   "execution_count": 2,
   "id": "73498f87-571c-4347-b6b4-da8e4095ee40",
   "metadata": {},
   "outputs": [
    {
     "name": "stdout",
     "output_type": "stream",
     "text": [
      "\n",
      "1 \n",
      "1 2 \n",
      "1 2 3 \n",
      "1 2 3 4 \n",
      "1 2 3 4 5 \n",
      "1 2 3 4 5 6 \n"
     ]
    }
   ],
   "source": [
    "n=7\n",
    "for i in range(1,n+1):\n",
    "    for j in range(1,i):\n",
    "        print(j,end=' ')\n",
    "    print()    "
   ]
  },
  {
   "cell_type": "markdown",
   "id": "980f1a59-14d1-447e-9113-111850b44df3",
   "metadata": {},
   "source": [
    "### 2. Print the same digit pattern using inverted pyramid"
   ]
  },
  {
   "cell_type": "code",
   "execution_count": 1,
   "id": "613e7795-fca8-445f-99ad-2a2f1cfd4e4a",
   "metadata": {},
   "outputs": [
    {
     "name": "stdout",
     "output_type": "stream",
     "text": [
      "7 7 7 7 7 7 7 \n",
      "7 7 7 7 7 7 \n",
      "7 7 7 7 7 \n",
      "7 7 7 7 \n",
      "7 7 7 \n",
      "7 7 \n",
      "7 \n"
     ]
    }
   ],
   "source": [
    "n=7\n",
    "for i in range(1,n+1):\n",
    "    for j in range(i,n+1):\n",
    "        print(n,end=' ')\n",
    "    print()    "
   ]
  },
  {
   "cell_type": "markdown",
   "id": "061b8a8e-2568-4da2-8c1a-a6bcc8078210",
   "metadata": {},
   "source": [
    "### 3. Printing the numbers using inverted pattern"
   ]
  },
  {
   "cell_type": "code",
   "execution_count": 11,
   "id": "c3e497d4-b01d-474c-9473-1ca4695ffb0c",
   "metadata": {},
   "outputs": [
    {
     "name": "stdout",
     "output_type": "stream",
     "text": [
      "1 1 1 1 1 1 1 \n",
      "2 2 2 2 2 2 \n",
      "3 3 3 3 3 \n",
      "4 4 4 4 \n",
      "5 5 5 \n",
      "6 6 \n",
      "7 \n"
     ]
    }
   ],
   "source": [
    "n=7\n",
    "for i in range(1,n+1):\n",
    "    for j in range(i,n+1):\n",
    "        print(i,end=' ')\n",
    "    print()    "
   ]
  },
  {
   "cell_type": "markdown",
   "id": "6d66340b-f06b-4af9-98ff-1d9cfdcdc775",
   "metadata": {},
   "source": [
    "### 4. Printing the numbers in a simple Triangle Pattern"
   ]
  },
  {
   "cell_type": "code",
   "execution_count": 16,
   "id": "9e48c624-b8e3-4bba-a98b-0cfa8161018e",
   "metadata": {},
   "outputs": [
    {
     "name": "stdout",
     "output_type": "stream",
     "text": [
      "1 \n",
      "2 2 \n",
      "3 3 3 \n",
      "4 4 4 4 \n",
      "5 5 5 5 5 \n",
      "6 6 6 6 6 6 \n",
      "7 7 7 7 7 7 7 \n"
     ]
    }
   ],
   "source": [
    "n=7\n",
    "for i in range(1,n+1):\n",
    "    for j in range(1,i+1):\n",
    "        print(i,end=' ')\n",
    "    print()    "
   ]
  },
  {
   "cell_type": "markdown",
   "id": "54ddd509-da0c-4795-939e-5d9010d7ef06",
   "metadata": {},
   "source": [
    "### 5. Printing the descending numbers using the inverted pyramids"
   ]
  },
  {
   "cell_type": "code",
   "execution_count": 42,
   "id": "41e7028f-4e52-4428-a989-9e242c16738d",
   "metadata": {},
   "outputs": [
    {
     "name": "stdout",
     "output_type": "stream",
     "text": [
      "7 7 7 7 7 7 7 \n",
      "6 6 6 6 6 6 \n",
      "5 5 5 5 5 \n",
      "4 4 4 4 \n",
      "3 3 3 \n",
      "2 2 \n",
      "1 \n"
     ]
    }
   ],
   "source": [
    "n=7\n",
    "for i in range(n,0,-1):\n",
    "    for j in range(i,0,-1):\n",
    "        print(i,end=' ')\n",
    "    print()     "
   ]
  },
  {
   "cell_type": "code",
   "execution_count": null,
   "id": "964eafce-572c-4103-9707-ba92a335c7d4",
   "metadata": {},
   "outputs": [],
   "source": []
  }
 ],
 "metadata": {
  "kernelspec": {
   "display_name": "Python 3 (ipykernel)",
   "language": "python",
   "name": "python3"
  },
  "language_info": {
   "codemirror_mode": {
    "name": "ipython",
    "version": 3
   },
   "file_extension": ".py",
   "mimetype": "text/x-python",
   "name": "python",
   "nbconvert_exporter": "python",
   "pygments_lexer": "ipython3",
   "version": "3.12.4"
  }
 },
 "nbformat": 4,
 "nbformat_minor": 5
}
