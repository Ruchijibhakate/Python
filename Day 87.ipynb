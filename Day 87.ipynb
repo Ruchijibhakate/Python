{
 "cells": [
  {
   "cell_type": "markdown",
   "id": "ec786ab6-6484-48f3-af6c-c9aa0ff93c41",
   "metadata": {},
   "source": [
    "### 1.Write a Python program to get the Python version you are using"
   ]
  },
  {
   "cell_type": "code",
   "execution_count": 4,
   "id": "3d1e9683-84bc-4604-b869-30a5b940aec1",
   "metadata": {},
   "outputs": [
    {
     "name": "stdout",
     "output_type": "stream",
     "text": [
      "3.12.4 | packaged by Anaconda, Inc. | (main, Jun 18 2024, 15:03:56) [MSC v.1929 64 bit (AMD64)]\n"
     ]
    }
   ],
   "source": [
    "import sys\n",
    "print(sys.version)"
   ]
  },
  {
   "cell_type": "markdown",
   "id": "563b4972-bd11-44c5-bb2c-786cabf5d237",
   "metadata": {},
   "source": [
    "### 2. Write a Python program to display the current date and time"
   ]
  },
  {
   "cell_type": "code",
   "execution_count": 26,
   "id": "28e0ff89-ace0-4200-a91e-c7fb4ee5cf31",
   "metadata": {},
   "outputs": [
    {
     "name": "stdout",
     "output_type": "stream",
     "text": [
      "2024-11-21 12:04:54.476700\n"
     ]
    }
   ],
   "source": [
    "from datetime import datetime\n",
    "current_datetime=datetime.now()\n",
    "print(current_datetime)\n"
   ]
  },
  {
   "cell_type": "markdown",
   "id": "dd8c54bd-7487-4f91-9785-a5e44e6644dd",
   "metadata": {},
   "source": [
    "### 3.Write a Python program which accepts the radius of a circle from the user and compute the area."
   ]
  },
  {
   "cell_type": "code",
   "execution_count": 22,
   "id": "9ef59779-6f30-47e7-a9d9-5f1f1b0b378d",
   "metadata": {},
   "outputs": [
    {
     "name": "stdin",
     "output_type": "stream",
     "text": [
      "Enter a Radius of circle : 7.4\n"
     ]
    },
    {
     "name": "stdout",
     "output_type": "stream",
     "text": [
      "171.9464\n"
     ]
    }
   ],
   "source": [
    "radius=float(input('Enter a Radius of circle :'))\n",
    "pi=3.14\n",
    "area_circle=pi*(radius**2)\n",
    "print(area_circle)"
   ]
  },
  {
   "cell_type": "markdown",
   "id": "cd5bff16-8486-4a8e-a4b5-192950b1d94d",
   "metadata": {},
   "source": [
    "### 4. Solve the expression. 5.2 + True + bool(-5) - 4 + 42//5 +bool(0) + False + int(5.9) + float('1')"
   ]
  },
  {
   "cell_type": "code",
   "execution_count": 30,
   "id": "22b7ea72-0389-48f8-87c1-39175799257a",
   "metadata": {},
   "outputs": [
    {
     "name": "stdout",
     "output_type": "stream",
     "text": [
      "17.2\n"
     ]
    }
   ],
   "source": [
    "exp=5.2 + True + bool(-5) + (-4) + (42//5 ) + bool(0) + False + int(5.9) + float('1')\n",
    "print(exp)"
   ]
  },
  {
   "cell_type": "markdown",
   "id": "f349a041-d9d5-49df-ba39-eb582804a8e7",
   "metadata": {},
   "source": [
    "### 5. Write code to test whether the given number lies between 1 and 10."
   ]
  },
  {
   "cell_type": "code",
   "execution_count": 37,
   "id": "09ccbfa6-18a2-4a37-be1d-2c63adf5e363",
   "metadata": {},
   "outputs": [
    {
     "name": "stdin",
     "output_type": "stream",
     "text": [
      "Enter a number : 5\n"
     ]
    },
    {
     "name": "stdout",
     "output_type": "stream",
     "text": [
      "Number lies between 1 and 10\n"
     ]
    }
   ],
   "source": [
    "num=int(input('Enter a number :'))\n",
    "if num>1 and num<10 :\n",
    "    print('Number lies between 1 and 10')\n",
    "else :\n",
    "      print('Number does not lie between 1 and 10')"
   ]
  },
  {
   "cell_type": "code",
   "execution_count": null,
   "id": "98af4441-22b7-435c-bc8f-9cc0c0e51a24",
   "metadata": {},
   "outputs": [],
   "source": []
  }
 ],
 "metadata": {
  "kernelspec": {
   "display_name": "Python 3 (ipykernel)",
   "language": "python",
   "name": "python3"
  },
  "language_info": {
   "codemirror_mode": {
    "name": "ipython",
    "version": 3
   },
   "file_extension": ".py",
   "mimetype": "text/x-python",
   "name": "python",
   "nbconvert_exporter": "python",
   "pygments_lexer": "ipython3",
   "version": "3.12.4"
  }
 },
 "nbformat": 4,
 "nbformat_minor": 5
}
