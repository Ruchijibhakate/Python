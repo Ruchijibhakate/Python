{
 "cells": [
  {
   "cell_type": "markdown",
   "id": "95df15a5-7466-4c49-890e-6df22a02ae8e",
   "metadata": {},
   "source": [
    "### 1. In the following example for loop breaks when the count value is 5. The print statement after the for loop displays the sum of first 5 elements of the tuple numbers."
   ]
  },
  {
   "cell_type": "code",
   "execution_count": 4,
   "id": "487d8124-0e90-44b1-8124-5782d70202a0",
   "metadata": {},
   "outputs": [
    {
     "name": "stdout",
     "output_type": "stream",
     "text": [
      "Sum  of first 5 elements of the tuple numbers : 15\n"
     ]
    }
   ],
   "source": [
    "numbers = (1, 2, 3, 4, 5, 6, 7, 8, 9)\n",
    "num_sum=0\n",
    "count=0\n",
    "for i in numbers:\n",
    "    num_sum=num_sum+i\n",
    "    count=count+1\n",
    "    if count==5:\n",
    "        break\n",
    "print('Sum  of first 5 elements of the tuple numbers :',num_sum)        "
   ]
  },
  {
   "cell_type": "markdown",
   "id": "cd0a8df1-e64a-400c-a3f2-df14f5d3ea28",
   "metadata": {},
   "source": [
    "### 2.In the following example while loop breaks when the count value is 5. The print statement after the while loop displays the value of num_sum (i.e. 0+1+2+3+4)."
   ]
  },
  {
   "cell_type": "code",
   "execution_count": 9,
   "id": "76cc02fb-e6e4-4133-99f8-cb183985e965",
   "metadata": {},
   "outputs": [
    {
     "name": "stdout",
     "output_type": "stream",
     "text": [
      "The sum of first 5 numbers : 10\n"
     ]
    }
   ],
   "source": [
    "num_sum=0\n",
    "count=0\n",
    "while(count<10):\n",
    "    num_sum=num_sum+count\n",
    "    count=count+1\n",
    "    if count==5:\n",
    "        break\n",
    "print('The sum of first 5 numbers :',num_sum)        "
   ]
  },
  {
   "cell_type": "markdown",
   "id": "933ac1a4-8f29-41a6-8f8e-7b3a6ceb601c",
   "metadata": {},
   "source": [
    "### 3. WAP to print the numbers in given range but break the lopp when num=6"
   ]
  },
  {
   "cell_type": "code",
   "execution_count": 14,
   "id": "fecdbbba-a247-4e89-b330-531873f13a61",
   "metadata": {},
   "outputs": [
    {
     "name": "stdout",
     "output_type": "stream",
     "text": [
      "0\n",
      "1\n",
      "2\n",
      "3\n",
      "4\n",
      "5\n"
     ]
    }
   ],
   "source": [
    "for i in range(10):\n",
    "    if i==6:\n",
    "        break\n",
    "    else:\n",
    "        print(i)"
   ]
  },
  {
   "cell_type": "markdown",
   "id": "49d9af84-a349-4a95-a59c-9b2a1bd8c142",
   "metadata": {},
   "source": [
    "### 4. Print First 10 natural numbers using while loop."
   ]
  },
  {
   "cell_type": "code",
   "execution_count": 17,
   "id": "0921855f-94ed-48f3-9eff-709488a0a5a8",
   "metadata": {},
   "outputs": [
    {
     "name": "stdout",
     "output_type": "stream",
     "text": [
      "1\n",
      "2\n",
      "3\n",
      "4\n",
      "5\n",
      "6\n",
      "7\n",
      "8\n",
      "9\n",
      "10\n"
     ]
    }
   ],
   "source": [
    "i=1\n",
    "while(i<=10):\n",
    "    print(i)\n",
    "    i=i+1"
   ]
  },
  {
   "cell_type": "markdown",
   "id": "e099a1fe-7b6f-49dd-b64c-c7a0f00802ad",
   "metadata": {},
   "source": [
    "### 5. Print the Pattern."
   ]
  },
  {
   "cell_type": "code",
   "execution_count": 20,
   "id": "7a8927da-58ef-4d00-b858-3459572d2f1c",
   "metadata": {},
   "outputs": [
    {
     "name": "stdout",
     "output_type": "stream",
     "text": [
      "1 \n",
      "1 2 \n",
      "1 2 3 \n",
      "1 2 3 4 \n",
      "1 2 3 4 5 \n"
     ]
    }
   ],
   "source": [
    "n=5\n",
    "for i in range(1,n+1):\n",
    "    for j in range(1,i+1):\n",
    "        print(j,end=' ')\n",
    "    print()    "
   ]
  },
  {
   "cell_type": "code",
   "execution_count": null,
   "id": "a69e220d-3088-41c7-bbb8-1eb0568b1d1a",
   "metadata": {},
   "outputs": [],
   "source": []
  }
 ],
 "metadata": {
  "kernelspec": {
   "display_name": "Python 3 (ipykernel)",
   "language": "python",
   "name": "python3"
  },
  "language_info": {
   "codemirror_mode": {
    "name": "ipython",
    "version": 3
   },
   "file_extension": ".py",
   "mimetype": "text/x-python",
   "name": "python",
   "nbconvert_exporter": "python",
   "pygments_lexer": "ipython3",
   "version": "3.12.4"
  }
 },
 "nbformat": 4,
 "nbformat_minor": 5
}
