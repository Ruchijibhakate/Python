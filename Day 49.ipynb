{
 "cells": [
  {
   "cell_type": "markdown",
   "id": "27046478-a2f8-4b65-b4f1-f1abc4c96b2c",
   "metadata": {},
   "source": [
    "### 1. WAP to reverse words in string"
   ]
  },
  {
   "cell_type": "code",
   "execution_count": 6,
   "id": "cabe5532-4844-4aea-a4bb-89e1c699b5c5",
   "metadata": {},
   "outputs": [
    {
     "name": "stdout",
     "output_type": "stream",
     "text": [
      "dog. lazy the over jumps fox brown quick The\n"
     ]
    }
   ],
   "source": [
    "def reverse_string_words(text):\n",
    "    for line in text.split('\\n'):\n",
    "        return(' '.join(line.split()[::-1]))\n",
    "\n",
    "s='The quick brown fox jumps over the lazy dog.'\n",
    "print(reverse_string_words(s))"
   ]
  },
  {
   "cell_type": "markdown",
   "id": "9967e04b-7940-4859-bf3e-91c7d8d0e987",
   "metadata": {},
   "source": [
    "### 2. WAP to strip the set of charachters from string"
   ]
  },
  {
   "cell_type": "code",
   "execution_count": 15,
   "id": "8bc898e5-b8b6-404c-90ad-eca64047ae47",
   "metadata": {},
   "outputs": [
    {
     "name": "stdout",
     "output_type": "stream",
     "text": [
      "Original String:\n",
      "The quick brown fox jumps over the lazy dog.\n",
      "After stripping a,e,i,o,u\n",
      "Th qck brwn fx jmps vr th lzy dg.\n"
     ]
    }
   ],
   "source": [
    "def strip_chars(str,chars):\n",
    "    return ''.join(c for c in str if c not in chars)\n",
    "\n",
    "\n",
    "print('Original String:')\n",
    "print(\"The quick brown fox jumps over the lazy dog.\")\n",
    "print('After stripping a,e,i,o,u')\n",
    "print(strip_chars(\"The quick brown fox jumps over the lazy dog.\",'aeiou'))\n"
   ]
  },
  {
   "cell_type": "markdown",
   "id": "76b9c1c3-6428-4946-a6b0-a660255c872b",
   "metadata": {},
   "source": [
    "### 3. WAP to count a repeated characters in string"
   ]
  },
  {
   "cell_type": "code",
   "execution_count": 32,
   "id": "e148426a-0e59-44e5-8de9-c426bd062dcc",
   "metadata": {},
   "outputs": [
    {
     "name": "stdout",
     "output_type": "stream",
     "text": [
      "t : 2\n",
      "h : 2\n",
      "e : 3\n",
      "u : 2\n",
      "r : 2\n",
      "o : 4\n",
      "o : 4\n",
      "u : 2\n",
      "o : 4\n",
      "e : 3\n",
      "r : 2\n",
      "t : 2\n",
      "h : 2\n",
      "e : 3\n",
      "o : 4\n"
     ]
    }
   ],
   "source": [
    "str='thequickbrownfoxjumpsoverthelazydog.'\n",
    "for i in str:\n",
    "    if str.count(i)>1:\n",
    "        print(i,':',str.count(i))"
   ]
  },
  {
   "cell_type": "code",
   "execution_count": 38,
   "id": "cd367b94-9875-421f-ad6e-e8c22fa7fd15",
   "metadata": {},
   "outputs": [
    {
     "name": "stdout",
     "output_type": "stream",
     "text": [
      "o 4\n",
      "e 3\n",
      "t 2\n",
      "h 2\n",
      "u 2\n",
      "r 2\n"
     ]
    }
   ],
   "source": [
    "import collections\n",
    "str1='thequickbrownfoxjumpsoverthelazydog.'\n",
    "d=collections.defaultdict(int)\n",
    "for c in str1:\n",
    "    d[c]+=1\n",
    "for c in sorted(d, key=d.get, reverse=True):\n",
    "    if d[c]>1:\n",
    "        print('%s %d' % (c,d[c]))\n",
    "    "
   ]
  },
  {
   "cell_type": "markdown",
   "id": "8662aae0-65b7-4d9d-8086-9297b902a23b",
   "metadata": {},
   "source": [
    "### 4. WAP to print square and cube symbol in the area of rectangle and the volume of cylinder."
   ]
  },
  {
   "cell_type": "code",
   "execution_count": 41,
   "id": "4efaa11d-f83e-475b-ae38-84c3447c56db",
   "metadata": {},
   "outputs": [
    {
     "name": "stdout",
     "output_type": "stream",
     "text": [
      "The area of the rectangle is 1256.66cm²\n",
      "The volume of the cylinder is 1254.745cm³\n"
     ]
    }
   ],
   "source": [
    "area=1256.66\n",
    "decimals=2\n",
    "print('The area of the rectangle is {0:.{1}f}cm\\u00b2'.format(area, decimals))\n",
    "\n",
    "volume=1254.745\n",
    "decimals=3\n",
    "print('The volume of the cylinder is {0:.{1}f}cm\\u00b3'.format(volume, decimals))\n"
   ]
  },
  {
   "cell_type": "markdown",
   "id": "052fb98b-f386-409a-9348-d0b3df3fe6a7",
   "metadata": {},
   "source": [
    "### 5.WAP to print index of charachter in string"
   ]
  },
  {
   "cell_type": "code",
   "execution_count": 48,
   "id": "c912de5d-6b4c-4aca-946b-1edbae5b60e3",
   "metadata": {},
   "outputs": [
    {
     "name": "stdout",
     "output_type": "stream",
     "text": [
      "Current charachter P position at 0\n",
      "Current charachter y position at 1\n",
      "Current charachter t position at 2\n",
      "Current charachter h position at 3\n",
      "Current charachter o position at 4\n",
      "Current charachter n position at 5\n"
     ]
    }
   ],
   "source": [
    "str='Python'\n",
    "for index, char in enumerate(str):\n",
    "    print('Current charachter', char, 'position at', index)"
   ]
  },
  {
   "cell_type": "code",
   "execution_count": null,
   "id": "0fd10dd0-c6c6-4b96-9921-381d4fca7c66",
   "metadata": {},
   "outputs": [],
   "source": []
  }
 ],
 "metadata": {
  "kernelspec": {
   "display_name": "Python 3 (ipykernel)",
   "language": "python",
   "name": "python3"
  },
  "language_info": {
   "codemirror_mode": {
    "name": "ipython",
    "version": 3
   },
   "file_extension": ".py",
   "mimetype": "text/x-python",
   "name": "python",
   "nbconvert_exporter": "python",
   "pygments_lexer": "ipython3",
   "version": "3.12.4"
  }
 },
 "nbformat": 4,
 "nbformat_minor": 5
}
