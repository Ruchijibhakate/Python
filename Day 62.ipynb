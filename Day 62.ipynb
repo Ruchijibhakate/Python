{
 "cells": [
  {
   "cell_type": "markdown",
   "id": "95afd0a7-47e8-4fee-acf8-c3a0a9b6b159",
   "metadata": {},
   "source": [
    "### 1. WAP to filter a list of integers using lambda . Find even and odd number from list."
   ]
  },
  {
   "cell_type": "code",
   "execution_count": 14,
   "id": "5b2d5df6-fb69-4218-a76a-2c5bbd73b7a5",
   "metadata": {},
   "outputs": [
    {
     "name": "stdout",
     "output_type": "stream",
     "text": [
      "Even Numbers : [38, 20, 456, 56, 6]\n",
      "Odd Numbers : [15, 59, 43, 89, 11]\n"
     ]
    }
   ],
   "source": [
    "L=[38,15,59,20,456,43,89,56,11,6]\n",
    "ev=list(filter(lambda x : x%2==0, L))\n",
    "print('Even Numbers :',ev)\n",
    "\n",
    "od=list(filter(lambda x : x%2!=0, L))\n",
    "print('Odd Numbers :',od)"
   ]
  },
  {
   "cell_type": "markdown",
   "id": "e38bf554-bf18-41de-b583-7d1c483c8bfe",
   "metadata": {},
   "source": [
    "### 2. WAP to find if a given string starts withe given character using lambda."
   ]
  },
  {
   "cell_type": "code",
   "execution_count": 11,
   "id": "b6edd2b4-617f-4e54-82c4-41817c2d60f6",
   "metadata": {},
   "outputs": [
    {
     "data": {
      "text/plain": [
       "True"
      ]
     },
     "execution_count": 11,
     "metadata": {},
     "output_type": "execute_result"
    }
   ],
   "source": [
    "str=lambda x : x[0]=='a'\n",
    "str('apple')"
   ]
  },
  {
   "cell_type": "markdown",
   "id": "d7237f91-f239-443d-b8ae-cd035138a4c9",
   "metadata": {},
   "source": [
    "### 3. WAP to extract year, month, date and time using lambda."
   ]
  },
  {
   "cell_type": "code",
   "execution_count": 16,
   "id": "8bbeb36d-75d2-4074-8fdc-b652ce8f55ea",
   "metadata": {},
   "outputs": [
    {
     "name": "stdout",
     "output_type": "stream",
     "text": [
      "2024-10-14 19:35:10.086921\n",
      "2024\n",
      "10\n",
      "14\n",
      "19:35:10.086921\n"
     ]
    }
   ],
   "source": [
    "import datetime\n",
    "now=datetime.datetime.now()\n",
    "print(now)\n",
    "\n",
    "year=lambda x : x.year\n",
    "month=lambda x : x.month\n",
    "day=lambda x : x.day\n",
    "time=lambda x : x.time()\n",
    "\n",
    "print(year(now))\n",
    "print(month(now))\n",
    "print(day(now))\n",
    "print(time(now))"
   ]
  },
  {
   "cell_type": "markdown",
   "id": "0ecd89a4-6d17-43f7-8c92-09e60dde6ff7",
   "metadata": {},
   "source": [
    "### 4. WAP to check whether given string is number or not using lambda."
   ]
  },
  {
   "cell_type": "code",
   "execution_count": 39,
   "id": "daf6cdce-6dfd-4cd6-b649-f76fac31a3cb",
   "metadata": {},
   "outputs": [
    {
     "name": "stdout",
     "output_type": "stream",
     "text": [
      "First way\n",
      "True\n",
      "False\n",
      "True\n",
      "False\n",
      "False\n",
      " \n",
      "Another way\n",
      "True\n",
      " \n",
      "Third way\n",
      "True\n"
     ]
    }
   ],
   "source": [
    "print('First way')\n",
    "is_num = lambda x : x.isdigit()\n",
    "print(is_num('54170'))\n",
    "print(is_num('23.64873'))\n",
    "print(is_num('00'))\n",
    "print(is_num('-24316'))\n",
    "print(is_num('AG736'))\n",
    "print(' ')\n",
    "\n",
    "print('Another way')\n",
    "is_num1 = lambda x : x.replace('.','',1).isdigit()\n",
    "print(is_num1('23.64873'))\n",
    "print(' ')\n",
    "\n",
    "print('Third way')\n",
    "is_num2 = lambda x : is_num(x[1:]) if x[0]=='-' else is_num(x)\n",
    "print(is_num2('-24316'))"
   ]
  },
  {
   "cell_type": "markdown",
   "id": "e6225eee-c18c-45ad-b0a4-2d5e708d1bd1",
   "metadata": {},
   "source": [
    "### 5. WAP to create fibonacci series using lambda function."
   ]
  },
  {
   "cell_type": "code",
   "execution_count": 56,
   "id": "ccd52ca7-f87b-499e-8fc5-be511eb1750d",
   "metadata": {},
   "outputs": [
    {
     "name": "stdout",
     "output_type": "stream",
     "text": [
      "Fibonacci Series upto 2 : [0, 1]\n",
      "Fibonacci Series upto 5 : [0, 1, 1, 2, 3]\n",
      "Fibonacci Series upto 10 : [0, 1, 1, 2, 3, 5, 8, 13, 21, 34]\n"
     ]
    }
   ],
   "source": [
    "from functools import reduce\n",
    "fib_series= lambda n : reduce(lambda x,y : x + [x[-1] + x[-2]], range(n-2),[0,1])\n",
    "print('Fibonacci Series upto 2 :',fib_series(2))\n",
    "print('Fibonacci Series upto 5 :',fib_series(5))\n",
    "print('Fibonacci Series upto 10 :',fib_series(10))"
   ]
  },
  {
   "cell_type": "code",
   "execution_count": null,
   "id": "3521d292-ac63-41b0-8b58-1b0c4526074e",
   "metadata": {},
   "outputs": [],
   "source": []
  }
 ],
 "metadata": {
  "kernelspec": {
   "display_name": "Python 3 (ipykernel)",
   "language": "python",
   "name": "python3"
  },
  "language_info": {
   "codemirror_mode": {
    "name": "ipython",
    "version": 3
   },
   "file_extension": ".py",
   "mimetype": "text/x-python",
   "name": "python",
   "nbconvert_exporter": "python",
   "pygments_lexer": "ipython3",
   "version": "3.12.4"
  }
 },
 "nbformat": 4,
 "nbformat_minor": 5
}
