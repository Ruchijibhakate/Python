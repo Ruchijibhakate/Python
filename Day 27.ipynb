{
 "cells": [
  {
   "cell_type": "markdown",
   "id": "fae114dd-7e8d-4572-9164-cdd2d6c9cb68",
   "metadata": {},
   "source": [
    "### 1. WAP to print the only add numbers from the given list using while loop"
   ]
  },
  {
   "cell_type": "code",
   "execution_count": 10,
   "id": "b799b71d-f8af-4379-bf24-b4c836c1d8a9",
   "metadata": {},
   "outputs": [
    {
     "name": "stdout",
     "output_type": "stream",
     "text": [
      "23\n",
      "45\n",
      "25\n",
      "33\n",
      "71\n"
     ]
    }
   ],
   "source": [
    "L=[23,45,32,25,46,33,71,90]\n",
    "i=0\n",
    "while(i<len(L)):\n",
    "    if L[i]%2!=0:\n",
    "        print(L[i])\n",
    "    i=i+1    "
   ]
  },
  {
   "cell_type": "markdown",
   "id": "c1b40db3-8dad-47c0-9574-bc90c081c6c7",
   "metadata": {},
   "source": [
    "### 2. WAP to print all the characters in the string using while loop"
   ]
  },
  {
   "cell_type": "code",
   "execution_count": 13,
   "id": "34455db1-a1a0-47a4-9f01-acbaa5c31836",
   "metadata": {},
   "outputs": [
    {
     "name": "stdout",
     "output_type": "stream",
     "text": [
      "P\n",
      "Y\n",
      "T\n",
      "H\n",
      "O\n",
      "N\n"
     ]
    }
   ],
   "source": [
    "str='PYTHON'\n",
    "i=0\n",
    "while(i<len(str)):\n",
    "    print(str[i])\n",
    "    i=i+1"
   ]
  },
  {
   "cell_type": "markdown",
   "id": "a428dd6f-d033-417f-9736-0cb9a0432a71",
   "metadata": {},
   "source": [
    "### 3. WAP to find sum of following series"
   ]
  },
  {
   "cell_type": "code",
   "execution_count": 11,
   "id": "7c511e7c-afb1-4ebc-b02c-666e87c4e745",
   "metadata": {},
   "outputs": [
    {
     "name": "stdin",
     "output_type": "stream",
     "text": [
      "Enter number: 8\n"
     ]
    },
    {
     "name": "stdout",
     "output_type": "stream",
     "text": [
      "38\n"
     ]
    }
   ],
   "source": [
    "# S=1+4-9+16-25+36-----n terms\n",
    "\n",
    "n=int(input('Enter number:'))\n",
    "i=2\n",
    "sum=1\n",
    "while (i<=n):\n",
    "    if i%2==0:\n",
    "        sum=sum+(i**2)\n",
    "       \n",
    "    else:\n",
    "        sum=sum-(i**2)\n",
    "    i=i+1    \n",
    "print(sum)        "
   ]
  },
  {
   "cell_type": "markdown",
   "id": "1cdc1670-a491-407b-bd15-3ffc90fb3450",
   "metadata": {},
   "source": [
    "### 4. WAP to find sum of following series"
   ]
  },
  {
   "cell_type": "code",
   "execution_count": 27,
   "id": "8feeeea0-9072-41a7-bf43-201b1c43ccbe",
   "metadata": {},
   "outputs": [
    {
     "name": "stdout",
     "output_type": "stream",
     "text": [
      "1+2+6+24+120+720+ = 5039\n"
     ]
    }
   ],
   "source": [
    "# S=1+2+6+24+120----n\n",
    "\n",
    "n=6\n",
    "i=1\n",
    "sum=0\n",
    "num=1\n",
    "while(i<=n):\n",
    "    num=num*i\n",
    "    print(num,end='+')\n",
    "    sum=sum+num*i\n",
    "    i=i+1\n",
    "print(' =',sum)    \n"
   ]
  },
  {
   "cell_type": "markdown",
   "id": "171b77d1-6b6f-44ea-8109-42701379218d",
   "metadata": {},
   "source": [
    "### 5.WAP to find the sum of following series"
   ]
  },
  {
   "cell_type": "code",
   "execution_count": 36,
   "id": "59df5213-b1bb-4cd8-a50a-4b9999ea4b36",
   "metadata": {},
   "outputs": [
    {
     "name": "stdin",
     "output_type": "stream",
     "text": [
      "Enter a number : 5\n"
     ]
    },
    {
     "name": "stdout",
     "output_type": "stream",
     "text": [
      "Sum = 225\n"
     ]
    }
   ],
   "source": [
    "# S=1+8+27+-----+n terms\n",
    "\n",
    "n=int(input('Enter a number :'))\n",
    "i=1\n",
    "sum=0\n",
    "while(i<=n):\n",
    "    sum=sum+i**3\n",
    "    i=i+1\n",
    "print(\"Sum =\",sum)    "
   ]
  },
  {
   "cell_type": "markdown",
   "id": "20646466-cfcc-4668-9a77-f89f8f93b81e",
   "metadata": {},
   "source": [
    "### 6. WAP to print the pattern"
   ]
  },
  {
   "cell_type": "code",
   "execution_count": 6,
   "id": "c8046b8d-d6a1-452e-8a81-49ce89a2c57b",
   "metadata": {},
   "outputs": [
    {
     "name": "stdout",
     "output_type": "stream",
     "text": [
      "1 \n",
      "1 2 \n",
      "1 2 3 \n",
      "1 2 3 4 \n",
      "1 2 3 4 5 \n"
     ]
    }
   ],
   "source": [
    "n=5\n",
    "for i in range(1,n+1):\n",
    "    for j in range(1,i+1):\n",
    "        print(j,end=' ')\n",
    "    print()"
   ]
  },
  {
   "cell_type": "markdown",
   "id": "9b5d3d95-3e93-421d-b0d0-d56304e39d06",
   "metadata": {},
   "source": [
    "### 7. WAP to print the pattern¶\n"
   ]
  },
  {
   "cell_type": "code",
   "execution_count": 11,
   "id": "34f765f4-60dd-4469-9a54-8238c2e72d1a",
   "metadata": {},
   "outputs": [
    {
     "name": "stdout",
     "output_type": "stream",
     "text": [
      "          1 \n",
      "        1 2 \n",
      "      1 2 3 \n",
      "    1 2 3 4 \n",
      "  1 2 3 4 5 \n"
     ]
    }
   ],
   "source": [
    "n=5\n",
    "for i in range(1,n+1):\n",
    "    for j in range(i,n+1):\n",
    "        print(\" \",end=' ')\n",
    "    for j in range(1,i+1):\n",
    "        print(j,end=' ')\n",
    "\n",
    "    print()"
   ]
  },
  {
   "cell_type": "markdown",
   "id": "357a19d1-7af5-4adc-a615-f6a3777f9f4a",
   "metadata": {},
   "source": [
    "### 8.WAP to print the pattern¶"
   ]
  },
  {
   "cell_type": "code",
   "execution_count": 15,
   "id": "c969754f-57a2-412c-9997-0b64039745b5",
   "metadata": {},
   "outputs": [
    {
     "name": "stdout",
     "output_type": "stream",
     "text": [
      "1 2 3 4 5 \n",
      "2 3 4 5 \n",
      "3 4 5 \n",
      "4 5 \n",
      "5 \n"
     ]
    }
   ],
   "source": [
    "n=5\n",
    "for i in range(1,n+1):\n",
    "    for j in range(i,n+1):\n",
    "        print(j,end=' ')\n",
    "    print()    "
   ]
  },
  {
   "cell_type": "markdown",
   "id": "5a1b95a2-3f53-4075-b6cf-b1b6c3aaa2e8",
   "metadata": {},
   "source": [
    "### 9.WAP to print the Pattern"
   ]
  },
  {
   "cell_type": "code",
   "execution_count": 20,
   "id": "f8811aab-1ca7-45f7-ad1d-919f75be23b5",
   "metadata": {},
   "outputs": [
    {
     "name": "stdout",
     "output_type": "stream",
     "text": [
      "  1 2 3 4 5 \n",
      "    2 3 4 5 \n",
      "      3 4 5 \n",
      "        4 5 \n",
      "          5 \n"
     ]
    }
   ],
   "source": [
    "n=5\n",
    "for i in range(1,n+1):\n",
    "    for j in range(1,i+1):\n",
    "        print(' ',end=' ')\n",
    "    for j in range(i,n+1):\n",
    "        print(j,end=' ')\n",
    "    print()    "
   ]
  },
  {
   "cell_type": "markdown",
   "id": "74ddeda8-825d-42ce-9daa-05433daaa8a7",
   "metadata": {},
   "source": [
    "### 10.WAP to print the pattern"
   ]
  },
  {
   "cell_type": "code",
   "execution_count": 6,
   "id": "b68b7ee6-7435-41d5-91fb-f52e8b9c033b",
   "metadata": {},
   "outputs": [
    {
     "name": "stdout",
     "output_type": "stream",
     "text": [
      "1 2 3 4 5 \n",
      "1 2 3 4 \n",
      "1 2 3 \n",
      "1 2 \n",
      "1 \n",
      "\n"
     ]
    }
   ],
   "source": [
    "n=6\n",
    "for i in range(1,n+1):\n",
    "    for j in range(1,n-i+1):\n",
    "        print(j,end=' ')\n",
    "    print()    "
   ]
  },
  {
   "cell_type": "code",
   "execution_count": null,
   "id": "2b34cb50-56c2-49cb-8114-57d4a6c76067",
   "metadata": {},
   "outputs": [],
   "source": []
  }
 ],
 "metadata": {
  "kernelspec": {
   "display_name": "Python 3 (ipykernel)",
   "language": "python",
   "name": "python3"
  },
  "language_info": {
   "codemirror_mode": {
    "name": "ipython",
    "version": 3
   },
   "file_extension": ".py",
   "mimetype": "text/x-python",
   "name": "python",
   "nbconvert_exporter": "python",
   "pygments_lexer": "ipython3",
   "version": "3.12.4"
  }
 },
 "nbformat": 4,
 "nbformat_minor": 5
}
