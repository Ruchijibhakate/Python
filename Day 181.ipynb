{
 "cells": [
  {
   "cell_type": "markdown",
   "id": "f89d594e-630d-4745-ae15-aa63266dd72a",
   "metadata": {},
   "source": [
    "### Write a Python program that prints out all colors from color_list_1 that are not present in color_list_2."
   ]
  },
  {
   "cell_type": "code",
   "execution_count": 4,
   "id": "d06ccf74-4705-4a7f-b718-4c9a72c30ddd",
   "metadata": {},
   "outputs": [
    {
     "name": "stdout",
     "output_type": "stream",
     "text": [
      "Red\n",
      "Pink\n"
     ]
    }
   ],
   "source": [
    "color_list_1=['Red','White','Blue','Pink']\n",
    "color_list_2=['Blue','Yellow','Orange','White']\n",
    "for i in color_list_1:\n",
    "    if i not in color_list_2:\n",
    "        print(i)"
   ]
  },
  {
   "cell_type": "code",
   "execution_count": null,
   "id": "24cf4cdb-1b3d-4d7b-bad1-ecd86ce7fce0",
   "metadata": {},
   "outputs": [],
   "source": []
  }
 ],
 "metadata": {
  "kernelspec": {
   "display_name": "Python 3 (ipykernel)",
   "language": "python",
   "name": "python3"
  },
  "language_info": {
   "codemirror_mode": {
    "name": "ipython",
    "version": 3
   },
   "file_extension": ".py",
   "mimetype": "text/x-python",
   "name": "python",
   "nbconvert_exporter": "python",
   "pygments_lexer": "ipython3",
   "version": "3.12.4"
  }
 },
 "nbformat": 4,
 "nbformat_minor": 5
}
