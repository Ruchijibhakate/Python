{
 "cells": [
  {
   "cell_type": "markdown",
   "id": "270e1131-bb8d-4ec1-b00b-e83ce95be63e",
   "metadata": {},
   "source": [
    "### 1. WAP to find intersection of two given array using lambda."
   ]
  },
  {
   "cell_type": "code",
   "execution_count": 8,
   "id": "e4b1b4da-8d10-47c7-b241-24a978974f82",
   "metadata": {},
   "outputs": [
    {
     "name": "stdout",
     "output_type": "stream",
     "text": [
      "Original Arrays:\n",
      "[1, 2, 3, 5, 7, 8, 9, 10]\n",
      "[1, 2, 4, 8, 9]\n",
      "Intersection of Two array : [1, 2, 8, 9]\n"
     ]
    }
   ],
   "source": [
    "array1=[1,2,3,5,7,8,9,10]\n",
    "array2=[1,2,4,8,9]\n",
    "print(\"Original Arrays:\")\n",
    "print(array1)\n",
    "print(array2)\n",
    "\n",
    "result=list(filter(lambda x : x in array1, array2))\n",
    "print('Intersection of Two array :', result)"
   ]
  },
  {
   "cell_type": "markdown",
   "id": "ecf19dd5-5445-4202-82e8-afa2536839fe",
   "metadata": {},
   "source": [
    "### 2. WAP to rearrange positive and negative numbers in given array using lambda."
   ]
  },
  {
   "cell_type": "code",
   "execution_count": 15,
   "id": "eb6a4cf4-3ceb-47e9-9ad5-706a21e6c31c",
   "metadata": {},
   "outputs": [
    {
     "name": "stdout",
     "output_type": "stream",
     "text": [
      "Original Array: [-1, 2, -4, 6, -3, 10, 8, -9]\n",
      "Rearrange numbers : [2, 6, 8, 10, -9, -4, -3, -1]\n"
     ]
    }
   ],
   "source": [
    "array=[-1,2,-4,6,-3,10,8,-9]\n",
    "print('Original Array:',array)\n",
    "result=sorted(array, key=lambda i:0 if i==0 else -1 / i)\n",
    "print('Rearrange numbers :',result)"
   ]
  },
  {
   "cell_type": "markdown",
   "id": "dbd87c61-49be-4bbc-9fd1-d49e212c0e88",
   "metadata": {},
   "source": [
    "### 3. WAP to count the even and odd numbers in given array using lambda."
   ]
  },
  {
   "cell_type": "code",
   "execution_count": 22,
   "id": "84894de6-febb-491e-a697-f1d3ae18f7d3",
   "metadata": {},
   "outputs": [
    {
     "name": "stdout",
     "output_type": "stream",
     "text": [
      "Original Array: [40, 15, 27, 69, 22, 52, 60, 4, 11]\n",
      "Count of Even 5\n",
      "Count of Odd 4\n"
     ]
    }
   ],
   "source": [
    "array=[40,15,27,69,22,52,60,4,11]\n",
    "print('Original Array:',array)\n",
    "ev = len(list(filter(lambda x : x%2==0, array)))\n",
    "print('Count of Even',ev)\n",
    "od= len(list(filter(lambda x : x%2!=0, array)))\n",
    "print('Count of Odd',od)"
   ]
  },
  {
   "cell_type": "markdown",
   "id": "e61dccbe-8648-469e-a01e-97f75040eeb2",
   "metadata": {},
   "source": [
    "### 4. WAP to filter given list to determine if the values in list have length of 6 using lambda."
   ]
  },
  {
   "cell_type": "code",
   "execution_count": 4,
   "id": "576cab4a-21b2-42de-9ce1-e5e108aa3df4",
   "metadata": {},
   "outputs": [
    {
     "name": "stdout",
     "output_type": "stream",
     "text": [
      "['sunday', 'monday', 'Cloudy']\n"
     ]
    }
   ],
   "source": [
    "L=['sunday','monday','beautiful','week','tuesday','Cloudy','saturday','thursday','slice']\n",
    "print(list(filter(lambda x : len(x)==6, L)))"
   ]
  },
  {
   "cell_type": "markdown",
   "id": "4b335c1d-231e-40cd-9d56-083f5ecafd4d",
   "metadata": {},
   "source": [
    "### 5. WAP to add two given list using map and lambda."
   ]
  },
  {
   "cell_type": "code",
   "execution_count": 7,
   "id": "9dcbb47f-aea6-493a-8473-2d7342a28aeb",
   "metadata": {},
   "outputs": [
    {
     "name": "stdout",
     "output_type": "stream",
     "text": [
      "[5, 4, 12, 15]\n"
     ]
    }
   ],
   "source": [
    "L1=[1,2,4,6]\n",
    "L2=[4,2,8,9]\n",
    "print(list(map(lambda x,y : x+y,L1,L2)))"
   ]
  },
  {
   "cell_type": "code",
   "execution_count": null,
   "id": "2cec6082-3b32-4c3e-a9de-74b8f2fc7154",
   "metadata": {},
   "outputs": [],
   "source": []
  }
 ],
 "metadata": {
  "kernelspec": {
   "display_name": "Python 3 (ipykernel)",
   "language": "python",
   "name": "python3"
  },
  "language_info": {
   "codemirror_mode": {
    "name": "ipython",
    "version": 3
   },
   "file_extension": ".py",
   "mimetype": "text/x-python",
   "name": "python",
   "nbconvert_exporter": "python",
   "pygments_lexer": "ipython3",
   "version": "3.12.4"
  }
 },
 "nbformat": 4,
 "nbformat_minor": 5
}
