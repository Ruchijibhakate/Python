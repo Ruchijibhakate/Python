{
 "cells": [
  {
   "cell_type": "markdown",
   "id": "3b45241f-f519-4cf6-b2c3-f174c0ab37d6",
   "metadata": {},
   "source": [
    "### 1. Print Character Pattern."
   ]
  },
  {
   "cell_type": "code",
   "execution_count": 10,
   "id": "416ddef0-2e47-45d7-8f69-ba8ff544af79",
   "metadata": {},
   "outputs": [
    {
     "name": "stdout",
     "output_type": "stream",
     "text": [
      "          A \n",
      "        # # # \n",
      "      A A A A A \n",
      "    # # # # # # # \n",
      "  A A A A A A A A A \n"
     ]
    }
   ],
   "source": [
    "n=5\n",
    "for i in range(1,n+1):\n",
    "    for j in range(i,n+1):\n",
    "        print(' ',end=' ')\n",
    "    for j in range(1,i+1):\n",
    "        if i%2!=0:\n",
    "            print('A',end=' ')\n",
    "        else:\n",
    "            print('#',end=' ')\n",
    "    for j in range(2,i+1):\n",
    "        if i%2!=0:\n",
    "            print('A',end=' ')\n",
    "        else:\n",
    "            print('#',end=' ')\n",
    "    print()        "
   ]
  },
  {
   "cell_type": "markdown",
   "id": "37b21b46-2f16-4d03-8e16-98cf8e0bfb39",
   "metadata": {},
   "source": [
    "### 2. Print Character Pattern."
   ]
  },
  {
   "cell_type": "code",
   "execution_count": 25,
   "id": "58105c40-915b-4557-a4ea-9cd224266fca",
   "metadata": {},
   "outputs": [
    {
     "name": "stdout",
     "output_type": "stream",
     "text": [
      "  Z Z Z Z Z Z Z Z Z \n",
      "    O O O O O O O \n",
      "      Z Z Z Z Z \n",
      "        O O O \n",
      "          Z \n"
     ]
    }
   ],
   "source": [
    "n=5\n",
    "for i in range(1,n+1):\n",
    "    for j in range(1,i+1):\n",
    "        print(' ',end=' ')\n",
    "    for j in range(i,n+1):\n",
    "        if i%2==0:\n",
    "            print('O',end=' ')\n",
    "        else:\n",
    "            print('Z',end=' ')\n",
    "    for j in range(i+1,n+1):\n",
    "        if i%2==0:\n",
    "            print('O',end=' ')\n",
    "        else:\n",
    "            print('Z',end=' ')        \n",
    "    print()        "
   ]
  },
  {
   "cell_type": "code",
   "execution_count": null,
   "id": "2efc1517-31b4-4211-bbf0-133ffbee7c9a",
   "metadata": {},
   "outputs": [],
   "source": []
  }
 ],
 "metadata": {
  "kernelspec": {
   "display_name": "Python 3 (ipykernel)",
   "language": "python",
   "name": "python3"
  },
  "language_info": {
   "codemirror_mode": {
    "name": "ipython",
    "version": 3
   },
   "file_extension": ".py",
   "mimetype": "text/x-python",
   "name": "python",
   "nbconvert_exporter": "python",
   "pygments_lexer": "ipython3",
   "version": "3.12.4"
  }
 },
 "nbformat": 4,
 "nbformat_minor": 5
}
