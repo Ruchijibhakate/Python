{
 "cells": [
  {
   "cell_type": "markdown",
   "id": "a6469a3f-a98c-4e5b-b908-d2383f4c91c6",
   "metadata": {},
   "source": [
    "### 1. WAP that sums the length of list of names after removing those that starts with lowercase letters."
   ]
  },
  {
   "cell_type": "code",
   "execution_count": 21,
   "id": "14f25789-abe1-4632-bdeb-ecd22163825d",
   "metadata": {},
   "outputs": [
    {
     "name": "stdout",
     "output_type": "stream",
     "text": [
      "['Dylan', 'Diana', 'John']\n",
      "14\n",
      "3\n"
     ]
    }
   ],
   "source": [
    "names=['sally','Dylan','rebecca','Diana','John','keith']\n",
    "filter_names=list(filter(lambda x : x[0].isupper() and x[1:].islower(), names))\n",
    "print(filter_names)\n",
    "print(len(''.join(filter_names)))\n",
    "print(len(filter_names))"
   ]
  },
  {
   "cell_type": "markdown",
   "id": "20690f05-7bb9-4861-9192-5571073458a0",
   "metadata": {},
   "source": [
    "### 2. WAP to print sum of positive and negative number of list using lambda."
   ]
  },
  {
   "cell_type": "code",
   "execution_count": 34,
   "id": "e11977a1-4144-4223-abe9-c33213bc3e57",
   "metadata": {},
   "outputs": [
    {
     "name": "stdout",
     "output_type": "stream",
     "text": [
      "Positive Numbers : [2, 4, 11, 14, 17]\n",
      "Sum of Positive Numbers : 48\n",
      " \n",
      "Negative Numbers : [-6, -9, -12, -5]\n",
      "Sum of Negative Numbers : -32\n"
     ]
    }
   ],
   "source": [
    "L=[2,4,-6,-9,11,-12,14,-5,17]\n",
    "pos=list(filter(lambda x : x>0 , L))\n",
    "neg=list(filter(lambda x : x<0 , L))\n",
    "print('Positive Numbers :',pos)\n",
    "print('Sum of Positive Numbers :',sum(pos))\n",
    "print(' ')\n",
    "print('Negative Numbers :',neg)\n",
    "print('Sum of Negative Numbers :',sum(neg))"
   ]
  },
  {
   "cell_type": "markdown",
   "id": "4b049c67-dedc-4425-ae43-ea46009eb40b",
   "metadata": {},
   "source": [
    "### 3. WAP to find the numbers within the given range where every number is divisible by every digit it contain."
   ]
  },
  {
   "cell_type": "code",
   "execution_count": 41,
   "id": "724f1bd6-78d5-4537-b8fe-27743a71bb47",
   "metadata": {},
   "outputs": [
    {
     "name": "stdout",
     "output_type": "stream",
     "text": [
      "[1, 2, 3, 4, 5, 6, 7, 8, 9, 11, 12, 15, 22]\n"
     ]
    }
   ],
   "source": [
    "def divisible_by_digits(start_num, end_num):\n",
    "    return [\n",
    "        n for n in range(start_num,end_num+1)\n",
    "        if not any(map(lambda x : int(x)==0 or n%int(x)!=0, str(n)))\n",
    "    ]\n",
    "\n",
    "print(divisible_by_digits(1,22))"
   ]
  },
  {
   "cell_type": "markdown",
   "id": "94f36334-191e-4d49-9a2e-6562706e0647",
   "metadata": {},
   "source": [
    "### 4. WAP to find list with maximum and minimum length using lmbda"
   ]
  },
  {
   "cell_type": "code",
   "execution_count": 58,
   "id": "13823134-1154-4411-8d71-d70672b6c126",
   "metadata": {},
   "outputs": [
    {
     "name": "stdout",
     "output_type": "stream",
     "text": [
      "Maximum Length List : (3, [13, 15, 38])\n",
      " \n",
      "Minimum Length List : (1, [0])\n"
     ]
    }
   ],
   "source": [
    "def max_len_list(input_list):\n",
    "    max_len=max(len(x) for x in input_list)\n",
    "    max_list=max(input_list, key=lambda i:len(i))\n",
    "    return (max_len,max_list)\n",
    "\n",
    "def min_len_list(input_list):\n",
    "    min_len=min(len(x) for x in input_list)\n",
    "    min_list=min(input_list, key=lambda i:len(i))\n",
    "    return (min_len,min_list)\n",
    "\n",
    "L=[[0],[1,3],[5,7],[9,11],[13,15,38]]\n",
    "print( 'Maximum Length List :',max_len_list(L))\n",
    "print(' ')\n",
    "print('Minimum Length List :',min_len_list(L))\n"
   ]
  },
  {
   "cell_type": "markdown",
   "id": "1b83ce2e-e478-4044-8183-92d2cb3d6a5a",
   "metadata": {},
   "source": [
    "### 5. WAP to sort each sublist of strings in given list of lists."
   ]
  },
  {
   "cell_type": "code",
   "execution_count": 32,
   "id": "eb652552-06f6-442a-8ebc-a6d710fd4832",
   "metadata": {},
   "outputs": [
    {
     "name": "stdout",
     "output_type": "stream",
     "text": [
      "Original list : [['green', 'orange'], ['black', 'white'], ['white', 'black', 'orage']]\n",
      "[['green', 'orange'], ['black', 'white'], ['black', 'orage', 'white']]\n"
     ]
    }
   ],
   "source": [
    "def sort_sublists(input_list):\n",
    "    result=[sorted(x) for x in input_list]\n",
    "    return result\n",
    "\n",
    "color=[['green','orange'],['black','white'],['white','black','orage']]\n",
    "print('Original list :',color)\n",
    "print(sort_sublists(color))"
   ]
  },
  {
   "cell_type": "code",
   "execution_count": null,
   "id": "475ca9f3-66b0-4989-92f0-f3b5161f0225",
   "metadata": {},
   "outputs": [],
   "source": []
  }
 ],
 "metadata": {
  "kernelspec": {
   "display_name": "Python 3 (ipykernel)",
   "language": "python",
   "name": "python3"
  },
  "language_info": {
   "codemirror_mode": {
    "name": "ipython",
    "version": 3
   },
   "file_extension": ".py",
   "mimetype": "text/x-python",
   "name": "python",
   "nbconvert_exporter": "python",
   "pygments_lexer": "ipython3",
   "version": "3.12.4"
  }
 },
 "nbformat": 4,
 "nbformat_minor": 5
}
