{
 "cells": [
  {
   "cell_type": "markdown",
   "id": "e47b4246-4ca9-460a-ba18-bf691c46b82f",
   "metadata": {},
   "source": [
    "### Write a Python program to calculate the length of a string."
   ]
  },
  {
   "cell_type": "code",
   "execution_count": 2,
   "id": "c1e28527-20bb-4859-afd9-0e5c8e1cd13e",
   "metadata": {},
   "outputs": [
    {
     "name": "stdin",
     "output_type": "stream",
     "text": [
      "Enter a String: My name is Ritu\n"
     ]
    },
    {
     "name": "stdout",
     "output_type": "stream",
     "text": [
      "Length of a string: 15\n"
     ]
    }
   ],
   "source": [
    "str=input('Enter a String:')\n",
    "print('Length of a string:',len(str))"
   ]
  },
  {
   "cell_type": "markdown",
   "id": "6c0a10d3-1c4f-496a-bd10-a05ac8b8ac57",
   "metadata": {},
   "source": [
    "### Write a Python program to count the number of characters (character frequency) in a string"
   ]
  },
  {
   "cell_type": "code",
   "execution_count": 17,
   "id": "37e13f3c-b987-4f4d-93b8-89aa87206af0",
   "metadata": {},
   "outputs": [
    {
     "name": "stdout",
     "output_type": "stream",
     "text": [
      "{'g': 2, 'o': 2, 'l': 1, 'e': 1}\n"
     ]
    }
   ],
   "source": [
    "str='google'\n",
    "dict={}\n",
    "\n",
    "for i in str:\n",
    "    key=dict.keys()\n",
    "    if i in key:\n",
    "        dict[i]+=1\n",
    "    else:\n",
    "        dict[i]=1\n",
    "print(dict)"
   ]
  },
  {
   "cell_type": "code",
   "execution_count": null,
   "id": "4ef17555-8c84-4243-881b-4dd3bae19f3a",
   "metadata": {},
   "outputs": [],
   "source": []
  }
 ],
 "metadata": {
  "kernelspec": {
   "display_name": "Python 3 (ipykernel)",
   "language": "python",
   "name": "python3"
  },
  "language_info": {
   "codemirror_mode": {
    "name": "ipython",
    "version": 3
   },
   "file_extension": ".py",
   "mimetype": "text/x-python",
   "name": "python",
   "nbconvert_exporter": "python",
   "pygments_lexer": "ipython3",
   "version": "3.12.4"
  }
 },
 "nbformat": 4,
 "nbformat_minor": 5
}
