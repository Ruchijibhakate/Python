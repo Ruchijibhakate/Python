{
 "cells": [
  {
   "cell_type": "markdown",
   "id": "e6284d48-8359-439c-8875-ae1873b852dd",
   "metadata": {},
   "source": [
    "### 1. Write a Pandas Program to convert a numpy array to Pandas series"
   ]
  },
  {
   "cell_type": "code",
   "execution_count": 2,
   "id": "40132a28-c1f9-409e-bebc-9c904eaba643",
   "metadata": {},
   "outputs": [
    {
     "name": "stdout",
     "output_type": "stream",
     "text": [
      "Original Array:\n",
      "[10 20 30 40 50]\n",
      "Converted numpy array into panads series\n",
      "0    10\n",
      "1    20\n",
      "2    30\n",
      "3    40\n",
      "4    50\n",
      "dtype: int32\n"
     ]
    }
   ],
   "source": [
    "import numpy as np\n",
    "import pandas as pd\n",
    "array=np.array([10,20,30,40,50])\n",
    "print('Original Array:')\n",
    "print(array)\n",
    "series=pd.Series(array)\n",
    "print('Converted numpy array into panads series')\n",
    "print(series)"
   ]
  },
  {
   "cell_type": "markdown",
   "id": "a1033d8d-12e8-4bd8-9975-a42e5063d547",
   "metadata": {},
   "source": [
    "### 2. Write a pandas program to change data type of given column or series"
   ]
  },
  {
   "cell_type": "code",
   "execution_count": 5,
   "id": "9b1685ef-c34e-46ad-90a7-55a3e5f7de03",
   "metadata": {},
   "outputs": [
    {
     "name": "stdout",
     "output_type": "stream",
     "text": [
      "Origial Array:\n",
      "0       100\n",
      "1       200\n",
      "2    python\n",
      "3     50.37\n",
      "4       900\n",
      "dtype: object\n",
      "Change the said data type to numeric:\n",
      "0    100.00\n",
      "1    200.00\n",
      "2       NaN\n",
      "3     50.37\n",
      "4    900.00\n",
      "dtype: float64\n"
     ]
    }
   ],
   "source": [
    "import pandas as pd\n",
    "s1=pd.Series(['100','200','python','50.37','900'])\n",
    "print('Origial Array:')\n",
    "print(s1)\n",
    "print('Change the said data type to numeric:')\n",
    "s2=pd.to_numeric(s1, errors='coerce')\n",
    "print(s2)"
   ]
  },
  {
   "cell_type": "markdown",
   "id": "4c89ead4-dcae-4e65-ae28-fb50c13171d7",
   "metadata": {},
   "source": [
    "### 3. Write a pandas program to convert the first column of DataFrame as series"
   ]
  },
  {
   "cell_type": "code",
   "execution_count": 10,
   "id": "63d72e3e-06b6-406a-b068-7d70efdd901c",
   "metadata": {},
   "outputs": [
    {
     "name": "stdout",
     "output_type": "stream",
     "text": [
      "   col1  col2  col3\n",
      "0     1     3     6\n",
      "1     2     1    11\n",
      "2     3     0     3\n",
      "3     4     8     4\n",
      "4     5     2    20\n",
      "5     6     7     1\n",
      "\n",
      "1st column as a Series:\n",
      "0    1\n",
      "1    2\n",
      "2    3\n",
      "3    4\n",
      "4    5\n",
      "5    6\n",
      "Name: col1, dtype: int64\n",
      "<class 'pandas.core.series.Series'>\n"
     ]
    }
   ],
   "source": [
    "import pandas as pd\n",
    "d={'col1':[1,2,3,4,5,6], 'col2':[3,1,0,8,2,7], 'col3':[6,11,3,4,20,1]}\n",
    "df=pd.DataFrame(data=d)\n",
    "print(df)\n",
    "s1=df.iloc[:,0]\n",
    "print('\\n1st column as a Series:')\n",
    "print(s1)\n",
    "print(type(s1))"
   ]
  },
  {
   "cell_type": "markdown",
   "id": "d5c19b09-af11-40a3-b082-2b50a52165fc",
   "metadata": {},
   "source": [
    "### 4. Write a Pandas program to convert given series into array"
   ]
  },
  {
   "cell_type": "code",
   "execution_count": 13,
   "id": "7619420e-5f88-41a0-ac98-0aa5ca727116",
   "metadata": {},
   "outputs": [
    {
     "name": "stdout",
     "output_type": "stream",
     "text": [
      "Original Series:\n",
      "0     1\n",
      "1     2\n",
      "2     4\n",
      "3     5\n",
      "4    10\n",
      "5     3\n",
      "6     7\n",
      "dtype: int64\n",
      "Converted series into array:\n",
      "[ 1  2  4  5 10  3  7]\n"
     ]
    }
   ],
   "source": [
    "import pandas as pd\n",
    "s1=pd.Series([1,2,4,5,10,3,7])\n",
    "print('Original Series:')\n",
    "print(s1)\n",
    "print('Converted series into array:')\n",
    "array=np.array(s1)\n",
    "print(array)"
   ]
  },
  {
   "cell_type": "markdown",
   "id": "b085f0e8-b6ea-4162-aaba-72c7a478a2bd",
   "metadata": {},
   "source": [
    "### 5. Write a Pandas program to convert series of list into one Series"
   ]
  },
  {
   "cell_type": "code",
   "execution_count": 18,
   "id": "60938e28-8c3b-458f-b185-dd958752c9f1",
   "metadata": {},
   "outputs": [
    {
     "name": "stdout",
     "output_type": "stream",
     "text": [
      "Original series of list\n",
      "0    [red, blue, white]\n",
      "1       [yellow, brown]\n",
      "2         [black, pink]\n",
      "dtype: object\n",
      "One Series\n",
      "0       red\n",
      "1      blue\n",
      "2     white\n",
      "3    yellow\n",
      "4     brown\n",
      "5     black\n",
      "6      pink\n",
      "dtype: object\n"
     ]
    }
   ],
   "source": [
    "import pandas as pd\n",
    "s1=pd.Series([['red','blue','white'],['yellow','brown'],['black','pink']])\n",
    "print('Original series of list')\n",
    "print(s1)\n",
    "s1=s1.apply(pd.Series).stack().reset_index(drop=True)\n",
    "print('One Series')\n",
    "print(s1)"
   ]
  },
  {
   "cell_type": "code",
   "execution_count": null,
   "id": "bc270132-c6c9-4606-bf0d-8e6ed73441ab",
   "metadata": {},
   "outputs": [],
   "source": []
  }
 ],
 "metadata": {
  "kernelspec": {
   "display_name": "Python 3 (ipykernel)",
   "language": "python",
   "name": "python3"
  },
  "language_info": {
   "codemirror_mode": {
    "name": "ipython",
    "version": 3
   },
   "file_extension": ".py",
   "mimetype": "text/x-python",
   "name": "python",
   "nbconvert_exporter": "python",
   "pygments_lexer": "ipython3",
   "version": "3.12.4"
  }
 },
 "nbformat": 4,
 "nbformat_minor": 5
}
