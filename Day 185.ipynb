{
 "cells": [
  {
   "cell_type": "markdown",
   "id": "bd8bf5d0-de66-43b5-a845-26a369235196",
   "metadata": {},
   "source": [
    "### Write a Python program that returns true if the two given integer values are equal or their sum or difference is 5."
   ]
  },
  {
   "cell_type": "code",
   "execution_count": 2,
   "id": "73652b03-a86a-4c4e-8222-8c46a8a1b908",
   "metadata": {},
   "outputs": [
    {
     "name": "stdout",
     "output_type": "stream",
     "text": [
      "None\n",
      "True\n"
     ]
    }
   ],
   "source": [
    "def sum_diff(a,b):\n",
    "    sum=a+b\n",
    "    diff=abs(a-b)\n",
    "    if a==b or sum==5 or diff==5:\n",
    "        return True\n",
    "\n",
    "print(sum_diff(1,2))\n",
    "print(sum_diff(10,5))"
   ]
  },
  {
   "cell_type": "code",
   "execution_count": null,
   "id": "55fb0718-5933-4de0-877d-08e5defa966d",
   "metadata": {},
   "outputs": [],
   "source": []
  }
 ],
 "metadata": {
  "kernelspec": {
   "display_name": "Python 3 (ipykernel)",
   "language": "python",
   "name": "python3"
  },
  "language_info": {
   "codemirror_mode": {
    "name": "ipython",
    "version": 3
   },
   "file_extension": ".py",
   "mimetype": "text/x-python",
   "name": "python",
   "nbconvert_exporter": "python",
   "pygments_lexer": "ipython3",
   "version": "3.12.4"
  }
 },
 "nbformat": 4,
 "nbformat_minor": 5
}
