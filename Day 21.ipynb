{
 "cells": [
  {
   "cell_type": "markdown",
   "id": "18cb4b11-6f83-4ce5-b765-e749f6887d92",
   "metadata": {},
   "source": [
    "### 1. WAP to calculate the length of the string"
   ]
  },
  {
   "cell_type": "code",
   "execution_count": 1,
   "id": "09a363a8-2910-41c6-b017-cdfc9ab39917",
   "metadata": {},
   "outputs": [
    {
     "data": {
      "text/plain": [
       "6"
      ]
     },
     "execution_count": 1,
     "metadata": {},
     "output_type": "execute_result"
    }
   ],
   "source": [
    "def length(string):\n",
    "    return len(string)\n",
    "\n",
    "length('helloo')"
   ]
  },
  {
   "cell_type": "markdown",
   "id": "2baa91f2-3430-4bd9-a56f-7057a78cd24a",
   "metadata": {},
   "source": [
    "### 2. WAP to count the number of charachters in string"
   ]
  },
  {
   "cell_type": "code",
   "execution_count": 29,
   "id": "405b5fe6-d499-466d-a2a8-905d4f0f7d4a",
   "metadata": {},
   "outputs": [
    {
     "name": "stdin",
     "output_type": "stream",
     "text": [
      "Enter a string : grammer\n"
     ]
    },
    {
     "name": "stdout",
     "output_type": "stream",
     "text": [
      "{'g': 1, 'r': 2, 'a': 1, 'm': 2, 'e': 1}\n"
     ]
    }
   ],
   "source": [
    "string=input(\"Enter a string :\")\n",
    "dict={}\n",
    "for i in string:\n",
    "    a=string.count(i)\n",
    "    if i not in list:\n",
    "        dict.update({i:a})\n",
    "print(dict)        "
   ]
  },
  {
   "cell_type": "markdown",
   "id": "51b4cedc-2ef6-4a28-b08d-ce07bcfbf60d",
   "metadata": {},
   "source": [
    "### 3. WAP to get the string made of first 2 and last 2 characters of the given string . If string length is lass than 2 return empty string "
   ]
  },
  {
   "cell_type": "code",
   "execution_count": 3,
   "id": "57d4555e-67dd-4d21-8b3a-afc621c9cfa9",
   "metadata": {},
   "outputs": [
    {
     "name": "stdout",
     "output_type": "stream",
     "text": [
      "Woup\n"
     ]
    }
   ],
   "source": [
    "str1=\"World_cup\"\n",
    "if len(str1)>2:\n",
    "    new_string=str1[0:2]+str1[-2:]\n",
    "    print(new_string)\n",
    "else:\n",
    "    print(\"Empty String\")"
   ]
  },
  {
   "cell_type": "markdown",
   "id": "028ec218-3cfe-47fb-84e9-2ba869cae7a8",
   "metadata": {},
   "source": [
    "### 4. WAP to get a string from he given string where all occurences of its first char have been changed to $ ,except the first character itself"
   ]
  },
  {
   "cell_type": "code",
   "execution_count": 11,
   "id": "6ea9728c-4c10-4e70-bfd9-9cf20c0dda55",
   "metadata": {},
   "outputs": [
    {
     "name": "stdout",
     "output_type": "stream",
     "text": [
      "resto$e\n"
     ]
    }
   ],
   "source": [
    "string=\"restore\"\n",
    "char=string[0]\n",
    "string=string.replace(char,'$')\n",
    "string=char+string[1:]\n",
    "print(string)"
   ]
  },
  {
   "cell_type": "markdown",
   "id": "bac3355a-6e33-4e5f-82d9-5b850ecfaf38",
   "metadata": {},
   "source": [
    "### 5. WAP to get the single string from two given strings , seperated by space and swap the first two charachters of each string"
   ]
  },
  {
   "cell_type": "code",
   "execution_count": 9,
   "id": "961498b6-3961-4ea0-9ed5-fd4bb2f4df3d",
   "metadata": {},
   "outputs": [
    {
     "name": "stdout",
     "output_type": "stream",
     "text": [
      "xyc abz\n"
     ]
    }
   ],
   "source": [
    "str1='abc'\n",
    "str2='xyz'\n",
    "p=str1[0]\n",
    "q=str1[1]\n",
    "r=str2[0]\n",
    "s=str2[1]\n",
    "p,r=r,p\n",
    "q,s=s,q\n",
    "print(p+q+str1[2:]+' '+r+s+str2[2:])"
   ]
  },
  {
   "cell_type": "markdown",
   "id": "f7ca6318-8aa1-4975-b839-8a9fed13dd53",
   "metadata": {},
   "source": [
    "### 6. WAP to add the 'ing' at the end of the given string (len should be at least 3). If the given string already ends with 'ing' and 'ly' instead"
   ]
  },
  {
   "cell_type": "code",
   "execution_count": 11,
   "id": "6686ff4d-2478-4ba2-b00b-73dd5d617df4",
   "metadata": {},
   "outputs": [
    {
     "name": "stdin",
     "output_type": "stream",
     "text": [
      "Enter the string: beat\n"
     ]
    },
    {
     "name": "stdout",
     "output_type": "stream",
     "text": [
      "beating\n"
     ]
    }
   ],
   "source": [
    "str=input('Enter the string:')\n",
    "if len(str)>3:\n",
    "    if str.endswith('ing'):\n",
    "        new_str=str+'ly'\n",
    "    else:\n",
    "        new_str=str+'ing'\n",
    "\n",
    "print(new_str)"
   ]
  },
  {
   "cell_type": "markdown",
   "id": "3ede5f56-361c-4873-a079-2c27dddff6cf",
   "metadata": {},
   "source": [
    "### 7.WAP to find the first appearance of substring 'not' and 'poor' in given string. If not follows 'poor' , then replace whole 'not-- poor' substring with 'good'.Return the resulting string"
   ]
  },
  {
   "cell_type": "code",
   "execution_count": 5,
   "id": "60b6e4bb-36d3-4886-884a-883576d95643",
   "metadata": {},
   "outputs": [
    {
     "name": "stdin",
     "output_type": "stream",
     "text": [
      "Enter a string : The lyrics is not that poor\n"
     ]
    },
    {
     "name": "stdout",
     "output_type": "stream",
     "text": [
      "The lyrics is good\n"
     ]
    }
   ],
   "source": [
    "str=input(\"Enter a string :\")\n",
    "snot=str.find('not')\n",
    "spoor=str.find('poor')\n",
    "if snot<spoor and snot>0 and spoor>0:\n",
    "    str=str.replace(str[snot:(spoor+4)],'good')\n",
    "    print(str)\n",
    "else:\n",
    "    print(str)"
   ]
  },
  {
   "cell_type": "markdown",
   "id": "d4ef6b12-5cd4-4130-b6eb-e40635086ad1",
   "metadata": {},
   "source": [
    "### 8.Write a python function that takes the list of words and return the longest word and the length of longest one"
   ]
  },
  {
   "cell_type": "code",
   "execution_count": 80,
   "id": "ce345fad-b96e-4df5-b532-926f152fd04d",
   "metadata": {},
   "outputs": [],
   "source": [
    "def words(list):\n",
    "    list=[]\n",
    "    length=[]\n",
    "    for i in range(1,5):\n",
    "        str=input(\"enter a words\")\n",
    "        list.append(str)\n",
    "        length.append(len(str))\n",
    "    a=max(length)\n",
    "    ind=length.index(a)\n",
    "    print(\"longest word in list is \",list[ind])\n",
    "    print(\"length of longest word is \",a)"
   ]
  },
  {
   "cell_type": "code",
   "execution_count": 82,
   "id": "21b1c246-1845-4b26-8d71-7e16bf88f6e5",
   "metadata": {},
   "outputs": [
    {
     "name": "stdin",
     "output_type": "stream",
     "text": [
      "enter a words fine\n",
      "enter a words banana\n",
      "enter a words umbrella\n",
      "enter a words best\n"
     ]
    },
    {
     "name": "stdout",
     "output_type": "stream",
     "text": [
      "longest word in list is  umbrella\n",
      "length of longest word is  8\n"
     ]
    }
   ],
   "source": [
    "words(list)"
   ]
  },
  {
   "cell_type": "markdown",
   "id": "4a94b5ee-f12a-48a6-a2ff-22f120b9c12b",
   "metadata": {},
   "source": [
    "### 9. WAP to remove the nth index character form the nonempty srting"
   ]
  },
  {
   "cell_type": "code",
   "execution_count": 93,
   "id": "cf26a090-9de6-4ff8-9cf6-1fd16859ae37",
   "metadata": {},
   "outputs": [
    {
     "data": {
      "text/plain": [
       "'suer'"
      ]
     },
     "execution_count": 93,
     "metadata": {},
     "output_type": "execute_result"
    }
   ],
   "source": [
    "def remove(str,n):\n",
    "    first_part=str[:n]\n",
    "    last_part=str[n+1:]\n",
    "    return first_part+last_part\n",
    "\n",
    "remove('sumer',2)"
   ]
  },
  {
   "cell_type": "markdown",
   "id": "b486f22a-fa57-4f40-8ed8-a0f9b4aa674f",
   "metadata": {},
   "source": [
    "### 10. WAP to change a given string where the first and last chars have been exchanged"
   ]
  },
  {
   "cell_type": "code",
   "execution_count": 112,
   "id": "67f8f3a6-fec4-41c1-a0cf-41d507b38980",
   "metadata": {},
   "outputs": [
    {
     "data": {
      "text/plain": [
       "'tarop'"
      ]
     },
     "execution_count": 112,
     "metadata": {},
     "output_type": "execute_result"
    }
   ],
   "source": [
    "def exchange(str):\n",
    "    new_string=str[-1]+str[1:len(str)-1]+str[0]\n",
    "    return new_string\n",
    "\n",
    "exchange('parot')"
   ]
  },
  {
   "cell_type": "code",
   "execution_count": null,
   "id": "c90bdea3-8f49-4db1-b228-7892c219adb9",
   "metadata": {},
   "outputs": [],
   "source": []
  }
 ],
 "metadata": {
  "kernelspec": {
   "display_name": "Python 3 (ipykernel)",
   "language": "python",
   "name": "python3"
  },
  "language_info": {
   "codemirror_mode": {
    "name": "ipython",
    "version": 3
   },
   "file_extension": ".py",
   "mimetype": "text/x-python",
   "name": "python",
   "nbconvert_exporter": "python",
   "pygments_lexer": "ipython3",
   "version": "3.12.4"
  }
 },
 "nbformat": 4,
 "nbformat_minor": 5
}
