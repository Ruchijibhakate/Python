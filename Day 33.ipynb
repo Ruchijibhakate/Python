{
 "cells": [
  {
   "cell_type": "markdown",
   "id": "21d6177c-3922-4b9d-bd90-3b4e9d9768ee",
   "metadata": {},
   "source": [
    "### 1. Write s python function to find the shortest and longest word"
   ]
  },
  {
   "cell_type": "code",
   "execution_count": 2,
   "id": "a17bbb98-0523-4451-a5ad-b886a8f9f4fb",
   "metadata": {},
   "outputs": [
    {
     "data": {
      "text/plain": [
       "('kiwi', 'jackfruit')"
      ]
     },
     "execution_count": 2,
     "metadata": {},
     "output_type": "execute_result"
    }
   ],
   "source": [
    "def short_long_word(word_list):\n",
    "    shortest_word=min(word_list,key=len)\n",
    "    longest_word=max(word_list,key=len)\n",
    "    return shortest_word , longest_word\n",
    "\n",
    "short_long_word(['apple','banana','grape','kiwi','papaya','jackfruit'])"
   ]
  },
  {
   "cell_type": "markdown",
   "id": "a97322d0-fa6c-41b1-8ee1-e3ba5583364e",
   "metadata": {},
   "source": [
    "### 2. Write a python function to append the element in existence list"
   ]
  },
  {
   "cell_type": "code",
   "execution_count": 8,
   "id": "a9287077-e4ce-4774-a056-32fd93db30f7",
   "metadata": {},
   "outputs": [
    {
     "data": {
      "text/plain": [
       "['Red', 'Pink', 'Black', 'White']"
      ]
     },
     "execution_count": 8,
     "metadata": {},
     "output_type": "execute_result"
    }
   ],
   "source": [
    "def add_element(list,element):\n",
    "    if element not in list:\n",
    "        list.append(element)\n",
    "    return list\n",
    "    \n",
    "list=['Red','Pink','Black']\n",
    "add_element(list,'Pink')\n",
    "add_element(list,'White')\n"
   ]
  },
  {
   "cell_type": "markdown",
   "id": "f80205ce-9d54-436c-9dc5-b1d257863205",
   "metadata": {},
   "source": [
    "### 3. Write a python function to remove the duplicates and sort the list"
   ]
  },
  {
   "cell_type": "code",
   "execution_count": 13,
   "id": "0adf6fff-6f71-4969-ade5-d9b92c7d8350",
   "metadata": {},
   "outputs": [
    {
     "data": {
      "text/plain": [
       "['apple', 'banana', 'jelly', 'kiwi', 'stawberry']"
      ]
     },
     "execution_count": 13,
     "metadata": {},
     "output_type": "execute_result"
    }
   ],
   "source": [
    "def remove_duplicate_sort(list):\n",
    "    sorted_list=sorted(set(list))\n",
    "    return sorted_list\n",
    "\n",
    "remove_duplicate_sort(['kiwi','apple','jelly','stawberry','banana','apple','banana','kiwi'])"
   ]
  },
  {
   "cell_type": "markdown",
   "id": "663666a4-6d45-4d4a-8b08-d2ef88140254",
   "metadata": {},
   "source": [
    "### 4. Write a function to find second occurence"
   ]
  },
  {
   "cell_type": "code",
   "execution_count": 30,
   "id": "799320b5-8930-4b7e-8daf-dedb4092385d",
   "metadata": {},
   "outputs": [
    {
     "data": {
      "text/plain": [
       "5"
      ]
     },
     "execution_count": 30,
     "metadata": {},
     "output_type": "execute_result"
    }
   ],
   "source": [
    "def second_occurence_index(my_list,element):\n",
    "    occurence=[]\n",
    "    for index in range(len(my_list)):\n",
    "        if my_list[index]==element:\n",
    "            occurence.append(index)\n",
    "\n",
    "    if len(occurence)<2:\n",
    "        return -1\n",
    "    else:\n",
    "        return occurence[1]      # index of second occurence in my_list\n",
    "\n",
    "\n",
    "my_list=['kiwi','apple','jelly','stawberry','banana','apple','banana','kiwi','apple']\n",
    "element='apple'\n",
    "second_occurence_index(my_list,element)"
   ]
  },
  {
   "cell_type": "markdown",
   "id": "ca0cc9b0-4a72-4746-8974-73a9f41764ee",
   "metadata": {},
   "source": [
    "### 5. Write a python function to sorting the non negative numbers"
   ]
  },
  {
   "cell_type": "code",
   "execution_count": 33,
   "id": "c7190419-7c13-4ac4-9bb1-6e46877f3f10",
   "metadata": {},
   "outputs": [
    {
     "data": {
      "text/plain": [
       "[0, 2, 3, 4, 7, 11]"
      ]
     },
     "execution_count": 33,
     "metadata": {},
     "output_type": "execute_result"
    }
   ],
   "source": [
    "def sort_non_neg_num(my_list):\n",
    "    non_neg_num=[]\n",
    "    for i in my_list:\n",
    "        if i>=0:\n",
    "            non_neg_num.append(i)\n",
    "    sorted_list=sorted(non_neg_num)\n",
    "    return sorted_list\n",
    "\n",
    "sort_non_neg_num([4,-2,7,2,-5,0,-10,3,11,-4,-6])"
   ]
  },
  {
   "cell_type": "markdown",
   "id": "d50a876c-f449-4e6f-80f7-cb8cc7f9b5c4",
   "metadata": {},
   "source": [
    "### 6. WAP to print the pattern"
   ]
  },
  {
   "cell_type": "code",
   "execution_count": 48,
   "id": "aba3fae7-92d9-4d01-af6f-af5ba911682b",
   "metadata": {},
   "outputs": [
    {
     "name": "stdout",
     "output_type": "stream",
     "text": [
      "1                 1 \n",
      "1 2             1 2 \n",
      "1 2 3         1 2 3 \n",
      "1 2 3 4     1 2 3 4 \n",
      "1 2 3 4 5 1 2 3 4 5 \n",
      "1 2 3 4     1 2 3 4 \n",
      "1 2 3         1 2 3 \n",
      "1 2             1 2 \n",
      "1                 1 \n"
     ]
    }
   ],
   "source": [
    "n=5\n",
    "for i in range(1,n+1):\n",
    "    for j in range(1,i+1):\n",
    "        print(j,end=' ')\n",
    "    for j in range(i,n):\n",
    "        print(' ',end=' ')\n",
    "    for j in range(i,n):\n",
    "        print(' ',end=' ')\n",
    "    for j in range(1,i+1):\n",
    "        print(j,end=' ')\n",
    "    print()    \n",
    "\n",
    "for i in range(2,n+1):\n",
    "    p=1\n",
    "    for j in range(i,n+1):\n",
    "        print(p,end=' ')\n",
    "        p=p+1\n",
    "    for j in range(2,i+1):\n",
    "        print(' ',end=' ')\n",
    "    for j in range(2,i+1):\n",
    "        print(' ',end=' ')\n",
    "    p=1    \n",
    "    for j in range(i,n+1):\n",
    "        print(p,end=' ')\n",
    "        p=p+1\n",
    "    print()    "
   ]
  },
  {
   "cell_type": "markdown",
   "id": "02155a02-4143-47ff-b193-c27d73c3b59d",
   "metadata": {},
   "source": [
    "### 7. WAP to print the pattern"
   ]
  },
  {
   "cell_type": "code",
   "execution_count": 101,
   "id": "1d93039d-d3c6-4fa9-a13a-588295ed3ef1",
   "metadata": {},
   "outputs": [
    {
     "name": "stdout",
     "output_type": "stream",
     "text": [
      "5 4 3 2 1 \n",
      "  5 4 3 2 \n",
      "    5 4 3 \n",
      "      5 4 \n",
      "        5 \n",
      "          \n"
     ]
    }
   ],
   "source": [
    "n=5\n",
    "for i in range(n,-1,-1):\n",
    "    for j in range(n,i,-1):\n",
    "        print(' ',end=' ')\n",
    "    for j in range(n,n-i,-1):\n",
    "        print(j,end=' ')\n",
    "   \n",
    "    print()    "
   ]
  },
  {
   "cell_type": "markdown",
   "id": "6a092ce3-8ba7-4b26-a3d5-a2defa0f0650",
   "metadata": {},
   "source": [
    "### 8. WAP to print the pattern"
   ]
  },
  {
   "cell_type": "code",
   "execution_count": 106,
   "id": "828d2023-f388-4c3d-8e2e-9c0da15540c7",
   "metadata": {},
   "outputs": [
    {
     "name": "stdout",
     "output_type": "stream",
     "text": [
      "1 \n",
      "2 3 \n",
      "4 5 6 \n",
      "7 8 9 10 \n"
     ]
    }
   ],
   "source": [
    "n=4\n",
    "p=1\n",
    "for i in range(1,n+1):\n",
    "    for j in range(1,i+1):\n",
    "        print(p,end=' ')\n",
    "        p=p+1\n",
    "    print()    "
   ]
  },
  {
   "cell_type": "markdown",
   "id": "b4568d7c-1833-4a94-8491-bdaf9ab604b4",
   "metadata": {},
   "source": [
    "### 9. WAP to print the pattern"
   ]
  },
  {
   "cell_type": "code",
   "execution_count": 109,
   "id": "fc6c6da0-6381-4651-8ab1-097a6f3685ec",
   "metadata": {},
   "outputs": [
    {
     "name": "stdout",
     "output_type": "stream",
     "text": [
      "1 \n",
      "0 0 \n",
      "1 1 1 \n",
      "0 0 0 0 \n",
      "1 1 1 1 1 \n"
     ]
    }
   ],
   "source": [
    "n=5\n",
    "for i in range(1,n+1):\n",
    "    for j in range(1,i+1):\n",
    "        if i%2==0:\n",
    "            print('0',end=' ')\n",
    "        else:\n",
    "            print('1',end=' ')\n",
    "    print()        "
   ]
  },
  {
   "cell_type": "markdown",
   "id": "601ca5a5-a3db-417d-831d-c6539802f35b",
   "metadata": {},
   "source": [
    "### 10. WAP to print pattern"
   ]
  },
  {
   "cell_type": "code",
   "execution_count": 112,
   "id": "fc1d9734-77fc-457a-8e9a-ec9ee42a0a3a",
   "metadata": {},
   "outputs": [
    {
     "name": "stdout",
     "output_type": "stream",
     "text": [
      "0 \n",
      "0 1 \n",
      "0 1 0 \n",
      "0 1 0 1 \n",
      "0 1 0 1 0 \n"
     ]
    }
   ],
   "source": [
    "n=5\n",
    "for i in range(1,n+1):\n",
    "    for j in range(1,i+1):\n",
    "        if j%2==0:\n",
    "            print('1',end=' ')\n",
    "        else:\n",
    "            print('0',end=' ')\n",
    "    print()        "
   ]
  },
  {
   "cell_type": "code",
   "execution_count": null,
   "id": "dae22350-e418-4770-b285-890296a3d8dd",
   "metadata": {},
   "outputs": [],
   "source": []
  }
 ],
 "metadata": {
  "kernelspec": {
   "display_name": "Python 3 (ipykernel)",
   "language": "python",
   "name": "python3"
  },
  "language_info": {
   "codemirror_mode": {
    "name": "ipython",
    "version": 3
   },
   "file_extension": ".py",
   "mimetype": "text/x-python",
   "name": "python",
   "nbconvert_exporter": "python",
   "pygments_lexer": "ipython3",
   "version": "3.12.4"
  }
 },
 "nbformat": 4,
 "nbformat_minor": 5
}
