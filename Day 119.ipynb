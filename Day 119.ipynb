{
 "cells": [
  {
   "cell_type": "markdown",
   "id": "b66d2b3f-9835-43af-9e1c-a78cec3468b2",
   "metadata": {},
   "source": [
    "### Character Pattern Program"
   ]
  },
  {
   "cell_type": "code",
   "execution_count": 4,
   "id": "c26285c3-a0d5-4913-8ac2-365bad99a39f",
   "metadata": {},
   "outputs": [
    {
     "name": "stdout",
     "output_type": "stream",
     "text": [
      "  R R R R R \n",
      "    E E E E \n",
      "      D D D \n",
      "        O O \n",
      "          C \n"
     ]
    }
   ],
   "source": [
    "s='CODER'\n",
    "n=len(s)\n",
    "p=-1\n",
    "for i in range(n,0,-1):\n",
    "    for j in range(i,n+1):\n",
    "        print(' ',end=' ')\n",
    "    for j in range(1,i+1):\n",
    "        print(s[p],end=' ')\n",
    "    p=p-1 \n",
    "    print()"
   ]
  },
  {
   "cell_type": "code",
   "execution_count": null,
   "id": "86fceb80-7dc6-4fee-80c4-e84ec06deafa",
   "metadata": {},
   "outputs": [],
   "source": []
  }
 ],
 "metadata": {
  "kernelspec": {
   "display_name": "Python 3 (ipykernel)",
   "language": "python",
   "name": "python3"
  },
  "language_info": {
   "codemirror_mode": {
    "name": "ipython",
    "version": 3
   },
   "file_extension": ".py",
   "mimetype": "text/x-python",
   "name": "python",
   "nbconvert_exporter": "python",
   "pygments_lexer": "ipython3",
   "version": "3.12.4"
  }
 },
 "nbformat": 4,
 "nbformat_minor": 5
}
