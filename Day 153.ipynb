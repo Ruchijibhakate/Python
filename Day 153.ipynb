{
 "cells": [
  {
   "cell_type": "markdown",
   "id": "f659da21-24ee-4ea2-8031-a6c347f85fc0",
   "metadata": {},
   "source": [
    "### 1. Print the Pattern"
   ]
  },
  {
   "cell_type": "code",
   "execution_count": 4,
   "id": "6d5a46b7-575c-415c-bce3-bbd68481d3db",
   "metadata": {},
   "outputs": [
    {
     "name": "stdout",
     "output_type": "stream",
     "text": [
      "1 \n",
      "1 2 \n",
      "1 2 3 \n",
      "1 2 3 4 \n",
      "1 2 3 4 5 \n"
     ]
    }
   ],
   "source": [
    "n=5\n",
    "for i in range(1,n+1):\n",
    "    for j in range(1,i+1):\n",
    "        print(j,end=' ')\n",
    "    print()    "
   ]
  },
  {
   "cell_type": "markdown",
   "id": "a98a2041-8563-460b-9b38-bced8b040487",
   "metadata": {},
   "source": [
    "### 2. Print the Pattern"
   ]
  },
  {
   "cell_type": "code",
   "execution_count": 7,
   "id": "e58f8f67-8472-4371-838a-35085ebe93df",
   "metadata": {},
   "outputs": [
    {
     "name": "stdout",
     "output_type": "stream",
     "text": [
      "1 \n",
      "2 2 \n",
      "3 3 3 \n",
      "4 4 4 4 \n",
      "5 5 5 5 5 \n"
     ]
    }
   ],
   "source": [
    "n=5\n",
    "for i in range(1,n+1):\n",
    "    for j in range(1,i+1):\n",
    "        print(i,end=' ')\n",
    "    print()    "
   ]
  },
  {
   "cell_type": "code",
   "execution_count": null,
   "id": "f0684827-ccc4-4aba-acc9-0519b4618f9d",
   "metadata": {},
   "outputs": [],
   "source": []
  }
 ],
 "metadata": {
  "kernelspec": {
   "display_name": "Python 3 (ipykernel)",
   "language": "python",
   "name": "python3"
  },
  "language_info": {
   "codemirror_mode": {
    "name": "ipython",
    "version": 3
   },
   "file_extension": ".py",
   "mimetype": "text/x-python",
   "name": "python",
   "nbconvert_exporter": "python",
   "pygments_lexer": "ipython3",
   "version": "3.12.4"
  }
 },
 "nbformat": 4,
 "nbformat_minor": 5
}
