{
 "cells": [
  {
   "cell_type": "markdown",
   "id": "1fe62978-c5ef-4ebb-ae31-91b714628ea4",
   "metadata": {},
   "source": [
    "### 1. WAP to accept the 10 numbers from users and display its average"
   ]
  },
  {
   "cell_type": "code",
   "execution_count": 1,
   "id": "897879f8-e3e4-4790-90eb-ebab7a5d918d",
   "metadata": {},
   "outputs": [
    {
     "name": "stdin",
     "output_type": "stream",
     "text": [
      "Enter a number : 1\n",
      "Enter a number : 2\n",
      "Enter a number : 3\n",
      "Enter a number : 4\n",
      "Enter a number : 5\n",
      "Enter a number : 6\n",
      "Enter a number : 7\n",
      "Enter a number : 8\n",
      "Enter a number : 9\n",
      "Enter a number : 10\n"
     ]
    },
    {
     "name": "stdout",
     "output_type": "stream",
     "text": [
      "Average is 5.5\n"
     ]
    }
   ],
   "source": [
    "i=1\n",
    "sum=0\n",
    "while(i<=10):\n",
    "    n=int(input('Enter a number :'))\n",
    "    sum=sum+n\n",
    "    i=i+1\n",
    "avg=sum/10    \n",
    "print('Average is',avg)    "
   ]
  },
  {
   "cell_type": "markdown",
   "id": "24c9a278-735e-4a8d-8b60-61ba7bea88ef",
   "metadata": {},
   "source": [
    "### 2. WAP to accept the 10 numbers from users and display largest and smallest number"
   ]
  },
  {
   "cell_type": "code",
   "execution_count": 6,
   "id": "3c8638ea-63a3-468a-8923-582edf0f162d",
   "metadata": {},
   "outputs": [
    {
     "name": "stdin",
     "output_type": "stream",
     "text": [
      "Enter a number : 40\n",
      "Enter a number : 94\n",
      "Enter a number : 63\n",
      "Enter a number : 10\n",
      "Enter a number : 34\n",
      "Enter a number : 65\n",
      "Enter a number : 20\n",
      "Enter a number : 87\n",
      "Enter a number : 50\n",
      "Enter a number : 14\n"
     ]
    },
    {
     "name": "stdout",
     "output_type": "stream",
     "text": [
      "[40, 94, 63, 10, 34, 65, 20, 87, 50, 14]\n",
      "94\n",
      "10\n"
     ]
    }
   ],
   "source": [
    "list=[]\n",
    "i=1\n",
    "while (i<=10):\n",
    "    num=int(input('Enter a number :'))\n",
    "    list.append(num)\n",
    "    i=i+1\n",
    "print(list)\n",
    "max_num=max(list)\n",
    "min_num=min(list)\n",
    "print(max_num)\n",
    "print(min_num)"
   ]
  },
  {
   "cell_type": "markdown",
   "id": "98afc90c-73b3-4fd8-9d51-90dfd98a0d1f",
   "metadata": {},
   "source": [
    "### 3. WAP to display sum of add numbers separately that falls between two numbers accepted from user (including both numbers) "
   ]
  },
  {
   "cell_type": "code",
   "execution_count": 15,
   "id": "5d22c496-2ab3-43be-919c-14270487f99f",
   "metadata": {},
   "outputs": [
    {
     "name": "stdin",
     "output_type": "stream",
     "text": [
      "Enter a starting value : 30\n",
      "Enter a ending value : 20\n"
     ]
    },
    {
     "name": "stdout",
     "output_type": "stream",
     "text": [
      "Sum of Even numbers is : 150\n",
      "Sum of Odd numbers is : 125\n"
     ]
    }
   ],
   "source": [
    "num1=int(input('Enter a starting value :'))\n",
    "num2=int(input('Enter a ending value :'))\n",
    "ev=0\n",
    "od=0\n",
    "if num1>num2:\n",
    "    while (num2<=num1):\n",
    "        if num2%2==0:\n",
    "            ev=ev+num2\n",
    "        else:\n",
    "            od=od+num2\n",
    "        num2=num2+1\n",
    "\n",
    "else:\n",
    "    while (num1<=num2):\n",
    "        if num1%2==0:\n",
    "            ev=ev+num1\n",
    "        else:\n",
    "            od=od+num1\n",
    "        num1=num1+1\n",
    "\n",
    "    \n",
    "print(\"Sum of Even numbers is :\",ev)\n",
    "print(\"Sum of Odd numbers is :\",od)\n"
   ]
  },
  {
   "cell_type": "markdown",
   "id": "73fdc723-224e-40ab-bd67-776117385224",
   "metadata": {},
   "source": [
    "### 4. WAP to find the common elements in two lists using for loop\n"
   ]
  },
  {
   "cell_type": "code",
   "execution_count": 5,
   "id": "3a2fa4ef-2366-44a5-9c04-0e17cd9429e4",
   "metadata": {},
   "outputs": [
    {
     "name": "stdout",
     "output_type": "stream",
     "text": [
      "[2, 5, 7, 10]\n"
     ]
    }
   ],
   "source": [
    "list1=[3,8,2,0,5,7,10]\n",
    "list2=[4,7,2,9,6,10,5]\n",
    "common_element=[]\n",
    "for i in list1:\n",
    "    if i in list2:\n",
    "        common_element.append(i)\n",
    "print(common_element)        "
   ]
  },
  {
   "cell_type": "markdown",
   "id": "1c413a5b-292a-4a52-afb0-b54a98960e4a",
   "metadata": {},
   "source": [
    "### 5. WAP to print the list in reverse order using loop "
   ]
  },
  {
   "cell_type": "code",
   "execution_count": 15,
   "id": "f1b48244-0f2f-4360-8bf1-b080670d1673",
   "metadata": {},
   "outputs": [
    {
     "name": "stdout",
     "output_type": "stream",
     "text": [
      "50\n",
      "40\n",
      "30\n",
      "20\n",
      "10\n"
     ]
    }
   ],
   "source": [
    "list=[10,20,30,40,50]\n",
    "for i in range(len(list)-1,-1,-1):\n",
    "    print(list[i])"
   ]
  },
  {
   "cell_type": "markdown",
   "id": "fa7c3656-1b99-491b-930b-e17368eef843",
   "metadata": {},
   "source": [
    "### 6. Print the Pattern"
   ]
  },
  {
   "cell_type": "code",
   "execution_count": 28,
   "id": "059f41d4-bb33-4d60-8e19-5bb782264047",
   "metadata": {},
   "outputs": [
    {
     "name": "stdout",
     "output_type": "stream",
     "text": [
      "A \n",
      "B B \n",
      "A A A \n",
      "B B B B \n",
      "A A A A A \n"
     ]
    }
   ],
   "source": [
    "n=5\n",
    "for i in range(1,n+1):\n",
    "    for j in range(1,i+1):\n",
    "        if i%2!=0:\n",
    "            print('A',end=' ')\n",
    "        else:\n",
    "            print('B',end=' ')\n",
    "    print()        "
   ]
  },
  {
   "cell_type": "markdown",
   "id": "3d29ee2a-c45a-410d-9f3f-9a0186b89047",
   "metadata": {},
   "source": [
    "### 7. Print the pattern"
   ]
  },
  {
   "cell_type": "code",
   "execution_count": 33,
   "id": "7dc62ec5-4a95-4584-94c4-2a0191f37b0a",
   "metadata": {},
   "outputs": [
    {
     "name": "stdout",
     "output_type": "stream",
     "text": [
      "  1 1 1 1 1 \n",
      "    3 3 3 3 \n",
      "      1 1 1 \n",
      "        3 3 \n",
      "          1 \n"
     ]
    }
   ],
   "source": [
    "n=5\n",
    "for i in range(1,n+1):\n",
    "    for j in range(1,i+1):\n",
    "        print(' ',end=' ')\n",
    "    for j in range(i,n+1):\n",
    "        if i%2!=0:\n",
    "            print('1',end=' ')\n",
    "        else:\n",
    "            print('3',end=' ')\n",
    "    print()        "
   ]
  },
  {
   "cell_type": "markdown",
   "id": "17f3441e-dabb-4fe2-890c-c072d04c9be7",
   "metadata": {},
   "source": [
    "### 8. Print the pattern"
   ]
  },
  {
   "cell_type": "code",
   "execution_count": 38,
   "id": "760fa013-facc-4c24-9eae-aa05470f5117",
   "metadata": {},
   "outputs": [
    {
     "name": "stdout",
     "output_type": "stream",
     "text": [
      "          # \n",
      "        $ $ $ \n",
      "      # # # # # \n",
      "    $ $ $ $ $ $ $ \n",
      "  # # # # # # # # # \n"
     ]
    }
   ],
   "source": [
    "n=5\n",
    "for i in range(1,n+1):\n",
    "    for j in range(i,n+1):\n",
    "        print(\" \",end=' ')\n",
    "    for j in range(1,i+1):\n",
    "        if i%2!=0:\n",
    "            print('#',end=' ')\n",
    "        else:\n",
    "            print('$',end=' ')\n",
    "    for j in range(2,i+1):\n",
    "        if i%2!=0:\n",
    "            print('#',end=' ')\n",
    "        else:\n",
    "            print('$',end=' ')\n",
    "    print()        "
   ]
  },
  {
   "cell_type": "markdown",
   "id": "8f6f77f8-5b29-4678-abe6-31f09449ee47",
   "metadata": {},
   "source": [
    "### 9. Print the pattern"
   ]
  },
  {
   "cell_type": "code",
   "execution_count": 45,
   "id": "a2f15002-c503-48fd-aa99-41e6b239fa9e",
   "metadata": {},
   "outputs": [
    {
     "name": "stdout",
     "output_type": "stream",
     "text": [
      "  1 1 1 1 1 1 1 1 1 \n",
      "    0 0 0 0 0 0 0 \n",
      "      1 1 1 1 1 \n",
      "        0 0 0 \n",
      "          1 \n"
     ]
    }
   ],
   "source": [
    "n=5\n",
    "for i in range(1,n+1):\n",
    "    for j in range(1,i+1):\n",
    "        print(' ',end=' ')\n",
    "    for j in range(i,n+1):\n",
    "        if i%2!=0:\n",
    "            print('1',end=' ')\n",
    "        else:\n",
    "            print('0',end=' ')\n",
    "    for j in range(i,n):\n",
    "        if i%2!=0:\n",
    "            print('1',end=' ')\n",
    "        else:\n",
    "            print('0',end=' ')\n",
    "    print()        "
   ]
  },
  {
   "cell_type": "markdown",
   "id": "b2c1b121-c388-4809-bf78-3f9985a3e84d",
   "metadata": {},
   "source": [
    "### 10. Print the pattern"
   ]
  },
  {
   "cell_type": "code",
   "execution_count": 52,
   "id": "a3d0c5c6-c15f-4ef2-99ab-0f5366c397ea",
   "metadata": {},
   "outputs": [
    {
     "name": "stdout",
     "output_type": "stream",
     "text": [
      "          # \n",
      "        $ $ $ \n",
      "      # # # # # \n",
      "    $ $ $ $ $ $ $ \n",
      "  # # # # # # # # # \n",
      "    $ $ $ $ $ $ $ \n",
      "      # # # # # \n",
      "        $ $ $ \n",
      "          # \n"
     ]
    }
   ],
   "source": [
    "n=5\n",
    "for i in range(1,n+1):\n",
    "    for j in range(i,n+1):\n",
    "        print(\" \",end=' ')\n",
    "    for j in range(1,i+1):\n",
    "        if i%2!=0:\n",
    "            print('#',end=' ')\n",
    "        else:\n",
    "            print('$',end=' ')\n",
    "    for j in range(2,i+1):\n",
    "        if i%2!=0:\n",
    "            print('#',end=' ')\n",
    "        else:\n",
    "            print('$',end=' ')\n",
    "    print()        \n",
    "\n",
    "for i in range(2,n+1):\n",
    "    for j in range(1,i+1):\n",
    "        print(' ',end=' ')\n",
    "    for j in range(i,n+1):\n",
    "        if i%2!=0:\n",
    "            print('#',end=' ')\n",
    "        else:\n",
    "            print('$',end=' ')\n",
    "    for j in range(i,n):\n",
    "        if i%2!=0:\n",
    "            print('#',end=' ')\n",
    "        else:\n",
    "            print('$',end=' ')\n",
    "    print()        "
   ]
  },
  {
   "cell_type": "code",
   "execution_count": null,
   "id": "f4b03aee-3694-4042-81ab-6ed07a6204ec",
   "metadata": {},
   "outputs": [],
   "source": []
  }
 ],
 "metadata": {
  "kernelspec": {
   "display_name": "Python 3 (ipykernel)",
   "language": "python",
   "name": "python3"
  },
  "language_info": {
   "codemirror_mode": {
    "name": "ipython",
    "version": 3
   },
   "file_extension": ".py",
   "mimetype": "text/x-python",
   "name": "python",
   "nbconvert_exporter": "python",
   "pygments_lexer": "ipython3",
   "version": "3.12.4"
  }
 },
 "nbformat": 4,
 "nbformat_minor": 5
}
