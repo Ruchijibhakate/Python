{
 "cells": [
  {
   "cell_type": "markdown",
   "id": "749eb14c-2d12-40cb-97e8-d1741a2efb07",
   "metadata": {},
   "source": [
    "### 1. WAP to create a lambda function that adds 15 to given number passed in as argument, also create lambda function that multiplies argument x with argument y and print result."
   ]
  },
  {
   "cell_type": "code",
   "execution_count": 4,
   "id": "ebb3679b-8bbd-4d19-b998-842f040df843",
   "metadata": {},
   "outputs": [
    {
     "name": "stdout",
     "output_type": "stream",
     "text": [
      "25\n",
      "36\n"
     ]
    }
   ],
   "source": [
    "add = lambda x : x+15\n",
    "print(add(10))\n",
    "\n",
    "multi = lambda x,y : x*y\n",
    "print(multi(4,9))"
   ]
  },
  {
   "cell_type": "markdown",
   "id": "eba87a81-cc73-4330-aafb-02c7051903cb",
   "metadata": {},
   "source": [
    "### 2. Write a Python program to create a function that takes one argument, and that argument will be multiplied with an unknown given number."
   ]
  },
  {
   "cell_type": "code",
   "execution_count": 15,
   "id": "8da93008-9c20-41d7-a479-3e009e8296cc",
   "metadata": {},
   "outputs": [
    {
     "name": "stdout",
     "output_type": "stream",
     "text": [
      "Double the number of 15 = 30\n",
      "Triple the number of 15 = 45\n",
      "Quadruple te number of 15 = 60\n"
     ]
    }
   ],
   "source": [
    "def funct_compute(n):\n",
    "    return lambda x : x*n\n",
    "\n",
    "result=funct_compute(2)\n",
    "print('Double the number of 15 =',result(15))\n",
    "\n",
    "result=funct_compute(3)\n",
    "print('Triple the number of 15 =',result(15))\n",
    "\n",
    "result=funct_compute(4)\n",
    "print('Quadruple te number of 15 =',result(15))"
   ]
  },
  {
   "cell_type": "markdown",
   "id": "850de818-77d1-4beb-86bf-b34dfaa595b5",
   "metadata": {},
   "source": [
    "### 3. Write a Python program to sort a list of tuples using Lambda."
   ]
  },
  {
   "cell_type": "code",
   "execution_count": 22,
   "id": "4e8f022a-0805-49e5-bb1b-d75528390bee",
   "metadata": {},
   "outputs": [
    {
     "name": "stdout",
     "output_type": "stream",
     "text": [
      "Original list of tuple: [('English', 88), ('Science', 90), ('Maths', 97), ('Social sciences', 82)]\n",
      "Sorted list of tuple: [('Social sciences', 82), ('English', 88), ('Science', 90), ('Maths', 97)]\n"
     ]
    }
   ],
   "source": [
    "list=[('English', 88), ('Science', 90), ('Maths', 97), ('Social sciences', 82)]\n",
    "print('Original list of tuple:',list)\n",
    "list.sort(key=lambda x : x[1])\n",
    "print('Sorted list of tuple:',list)"
   ]
  },
  {
   "cell_type": "markdown",
   "id": "9f9646b9-3365-4f71-bf2b-c203333e90a5",
   "metadata": {},
   "source": [
    "### 4. Write a Python program to sort a list of dictionaries using Lambda."
   ]
  },
  {
   "cell_type": "code",
   "execution_count": 33,
   "id": "ca07db23-b8dd-4fa0-8a02-ea5405e6bdcc",
   "metadata": {},
   "outputs": [
    {
     "name": "stdout",
     "output_type": "stream",
     "text": [
      "Original list of tuple:\n",
      "[{'make': 'Nokia', 'model': 216, 'color': 'Black'}, {'make': 'Mi Max', 'model': 2, 'color': 'Gold'}, {'make': 'Samsung', 'model': 7, 'color': 'Blue'}]\n",
      "Sorted list of tuple:\n",
      "[{'make': 'Mi Max', 'model': 2, 'color': 'Gold'}, {'make': 'Samsung', 'model': 7, 'color': 'Blue'}, {'make': 'Nokia', 'model': 216, 'color': 'Black'}]\n"
     ]
    }
   ],
   "source": [
    "list=[{'make': 'Nokia', 'model': 216, 'color': 'Black'},\n",
    "      {'make': 'Mi Max', 'model': 2, 'color': 'Gold'}, \n",
    "      {'make': 'Samsung', 'model': 7, 'color': 'Blue'}]\n",
    "\n",
    "print('Original list of tuple:')\n",
    "print(list)\n",
    "list.sort(key=lambda x : x['model'])\n",
    "print('Sorted list of tuple:')\n",
    "print(list)"
   ]
  },
  {
   "cell_type": "markdown",
   "id": "c4d1b341-8a62-4d79-9f72-c29f3b4b94a4",
   "metadata": {},
   "source": [
    "### 5. Write a Python program to square and cube every number in a given list of integers using Lambda."
   ]
  },
  {
   "cell_type": "code",
   "execution_count": 3,
   "id": "2e5989fc-238f-4e4e-b217-cde1e4fa7039",
   "metadata": {},
   "outputs": [
    {
     "name": "stdout",
     "output_type": "stream",
     "text": [
      "Original list : [1, 2, 3, 4, 5, 6, 7, 8, 9, 10]\n",
      "Square of elements in list : [1, 4, 9, 16, 25, 36, 49, 64, 81, 100]\n",
      "Square of elements in list : [1, 8, 27, 64, 125, 216, 343, 512, 729, 1000]\n"
     ]
    }
   ],
   "source": [
    "L=[1,2,3,4,5,6,7,8,9,10]\n",
    "print('Original list :',L)\n",
    "\n",
    "sq=list(map(lambda x : x**2, L))\n",
    "print('Square of elements in list :',sq)\n",
    "\n",
    "cube=list(map(lambda x : x**3, L))\n",
    "print('Square of elements in list :',cube)\n"
   ]
  },
  {
   "cell_type": "code",
   "execution_count": null,
   "id": "ef058b72-86bc-4739-bfb2-29c30abf6906",
   "metadata": {},
   "outputs": [],
   "source": []
  }
 ],
 "metadata": {
  "kernelspec": {
   "display_name": "Python 3 (ipykernel)",
   "language": "python",
   "name": "python3"
  },
  "language_info": {
   "codemirror_mode": {
    "name": "ipython",
    "version": 3
   },
   "file_extension": ".py",
   "mimetype": "text/x-python",
   "name": "python",
   "nbconvert_exporter": "python",
   "pygments_lexer": "ipython3",
   "version": "3.12.4"
  }
 },
 "nbformat": 4,
 "nbformat_minor": 5
}
