{
 "cells": [
  {
   "cell_type": "markdown",
   "id": "c2c53232-3596-43a5-8fd0-3553aecbfe76",
   "metadata": {},
   "source": [
    "### 1. Write a Python program to remove an item from a tuple."
   ]
  },
  {
   "cell_type": "code",
   "execution_count": 6,
   "id": "9faf5f49-61a1-4a1c-82bd-6b1a770bd99d",
   "metadata": {},
   "outputs": [
    {
     "name": "stdout",
     "output_type": "stream",
     "text": [
      "(3, 49, 10, 41, 20, 66)\n",
      "(3, 10, 41, 20, 66)\n"
     ]
    }
   ],
   "source": [
    "t1=(3,49,10,41,20,66)\n",
    "print(t1)\n",
    "\n",
    "new_tuple=t1[:1]+t1[2:]\n",
    "print(new_tuple)"
   ]
  },
  {
   "cell_type": "markdown",
   "id": "e0171b95-ef04-42f6-84c8-ed50f127feb4",
   "metadata": {},
   "source": [
    "### 2. Write a Python program to slice a tuple."
   ]
  },
  {
   "cell_type": "code",
   "execution_count": 13,
   "id": "0746bc77-cc6a-40fc-80b4-214693ab329a",
   "metadata": {},
   "outputs": [
    {
     "name": "stdout",
     "output_type": "stream",
     "text": [
      "(2, 3, 4, 5, 6, 7, 8, 9)\n",
      "(4, 5, 6, 7, 8, 9)\n",
      "(2, 3, 4, 5)\n",
      "(3, 4, 5, 6)\n"
     ]
    }
   ],
   "source": [
    "t1=(2,3,4,5,6,7,8,9)\n",
    "print(t1)\n",
    "\n",
    "slice_tuple=t1[2:]\n",
    "print(slice_tuple)\n",
    "\n",
    "slice_tuple=t1[:4]\n",
    "print(slice_tuple)\n",
    "\n",
    "slice_tuple=t1[1:5]\n",
    "print(slice_tuple)"
   ]
  },
  {
   "cell_type": "code",
   "execution_count": null,
   "id": "80c15626-6311-4279-95b5-6b5589ec3045",
   "metadata": {},
   "outputs": [],
   "source": []
  }
 ],
 "metadata": {
  "kernelspec": {
   "display_name": "Python 3 (ipykernel)",
   "language": "python",
   "name": "python3"
  },
  "language_info": {
   "codemirror_mode": {
    "name": "ipython",
    "version": 3
   },
   "file_extension": ".py",
   "mimetype": "text/x-python",
   "name": "python",
   "nbconvert_exporter": "python",
   "pygments_lexer": "ipython3",
   "version": "3.12.4"
  }
 },
 "nbformat": 4,
 "nbformat_minor": 5
}
