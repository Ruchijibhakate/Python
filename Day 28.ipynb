{
 "cells": [
  {
   "cell_type": "markdown",
   "id": "c86744cd-cb47-4541-8b8e-9f11be55ee87",
   "metadata": {},
   "source": [
    "### 1 Create a program that allows the user to guess a secret number between 1 and 100. The programm should keep promoting the user until they guess the correct number"
   ]
  },
  {
   "cell_type": "code",
   "execution_count": 2,
   "id": "5d2b4b29-4420-4df9-8c7d-f27d3442417a",
   "metadata": {},
   "outputs": [
    {
     "name": "stdin",
     "output_type": "stream",
     "text": [
      "Guess a number between 1 and 100 : 70\n"
     ]
    },
    {
     "name": "stdout",
     "output_type": "stream",
     "text": [
      "Try Again\n"
     ]
    },
    {
     "name": "stdin",
     "output_type": "stream",
     "text": [
      "Guess a number between 1 and 100 : 25\n"
     ]
    },
    {
     "name": "stdout",
     "output_type": "stream",
     "text": [
      "Try Again\n"
     ]
    },
    {
     "name": "stdin",
     "output_type": "stream",
     "text": [
      "Guess a number between 1 and 100 : 30\n"
     ]
    },
    {
     "name": "stdout",
     "output_type": "stream",
     "text": [
      "You Guessed the corret number !\n"
     ]
    }
   ],
   "source": [
    "secret_number=30\n",
    "while True:\n",
    "    user_guess=int(input('Guess a number between 1 and 100 :'))\n",
    "    if user_guess==secret_number:\n",
    "        print('You Guessed the corret number !')\n",
    "        break\n",
    "    else:\n",
    "        print('Try Again')"
   ]
  },
  {
   "cell_type": "code",
   "execution_count": 1,
   "id": "d4271ccc-3a58-4913-99f3-f19ca5a49182",
   "metadata": {},
   "outputs": [
    {
     "name": "stdin",
     "output_type": "stream",
     "text": [
      "Guess a number between 1 and 100 : 58\n"
     ]
    },
    {
     "name": "stdout",
     "output_type": "stream",
     "text": [
      "Guess less number\n"
     ]
    },
    {
     "name": "stdin",
     "output_type": "stream",
     "text": [
      "Guess a number between 1 and 100 : 50\n"
     ]
    },
    {
     "name": "stdout",
     "output_type": "stream",
     "text": [
      "Guess less number\n"
     ]
    },
    {
     "name": "stdin",
     "output_type": "stream",
     "text": [
      "Guess a number between 1 and 100 : 45\n"
     ]
    },
    {
     "name": "stdout",
     "output_type": "stream",
     "text": [
      "Guess less number\n"
     ]
    },
    {
     "name": "stdin",
     "output_type": "stream",
     "text": [
      "Guess a number between 1 and 100 : 20\n"
     ]
    },
    {
     "name": "stdout",
     "output_type": "stream",
     "text": [
      "Guess greater number\n"
     ]
    },
    {
     "name": "stdin",
     "output_type": "stream",
     "text": [
      "Guess a number between 1 and 100 : 25\n"
     ]
    },
    {
     "name": "stdout",
     "output_type": "stream",
     "text": [
      "Guess greater number\n"
     ]
    },
    {
     "name": "stdin",
     "output_type": "stream",
     "text": [
      "Guess a number between 1 and 100 : 35\n"
     ]
    },
    {
     "name": "stdout",
     "output_type": "stream",
     "text": [
      "Guess less number\n"
     ]
    },
    {
     "name": "stdin",
     "output_type": "stream",
     "text": [
      "Guess a number between 1 and 100 : 30\n"
     ]
    },
    {
     "name": "stdout",
     "output_type": "stream",
     "text": [
      "Guessed the correct number\n"
     ]
    }
   ],
   "source": [
    "secret_number=30\n",
    "while True:\n",
    "    user_guess=int(input('Guess a number between 1 and 100 :'))\n",
    "    if user_guess>secret_number:\n",
    "        print('Guess less number')\n",
    "    elif user_guess<secret_number:\n",
    "        print('Guess greater number')\n",
    "    elif user_guess==secret_number:\n",
    "        print('Guessed the correct number')\n",
    "        break\n",
    "    else:\n",
    "        print('Try Again')"
   ]
  },
  {
   "cell_type": "markdown",
   "id": "b799b2de-12db-436b-8074-ebf86731eeb3",
   "metadata": {},
   "source": [
    "### 2 WAP to generate fibonacci sequence up to given number of terms"
   ]
  },
  {
   "cell_type": "code",
   "execution_count": 3,
   "id": "06d2fde6-8210-4975-944d-a5dbc1d67cfb",
   "metadata": {},
   "outputs": [
    {
     "name": "stdout",
     "output_type": "stream",
     "text": [
      "0\n",
      "1\n",
      "1\n",
      "2\n",
      "3\n",
      "5\n"
     ]
    }
   ],
   "source": [
    "def fibonacci(n):\n",
    "    n1=0\n",
    "    n2=1\n",
    "    print(n1)\n",
    "    print(n2)\n",
    "    while n<10:\n",
    "        n3=n1+n2\n",
    "        print(n3)\n",
    "        n1,n2=n2,n3\n",
    "        n=n+1\n",
    "\n",
    "fibonacci(6)"
   ]
  },
  {
   "cell_type": "markdown",
   "id": "35dbb114-60c8-490b-b49e-c7d265ab6430",
   "metadata": {},
   "source": [
    "### 3. Create a program that allows two players to play a game of Rock, Paper, Scissor"
   ]
  },
  {
   "cell_type": "code",
   "execution_count": 7,
   "id": "6332479e-9341-4dc5-9867-0421f46a24f6",
   "metadata": {},
   "outputs": [
    {
     "name": "stdout",
     "output_type": "stream",
     "text": [
      "player 1 choice : scissors\n",
      "player 2 choice : paper\n",
      "Player 1 wins !\n"
     ]
    },
    {
     "name": "stdin",
     "output_type": "stream",
     "text": [
      "Do you want to play again ? (yes/no): yes\n"
     ]
    },
    {
     "name": "stdout",
     "output_type": "stream",
     "text": [
      "player 1 choice : paper\n",
      "player 2 choice : paper\n",
      "It's a Tie ! Let's play again.\n"
     ]
    },
    {
     "name": "stdin",
     "output_type": "stream",
     "text": [
      "Do you want to play again ? (yes/no): yes\n"
     ]
    },
    {
     "name": "stdout",
     "output_type": "stream",
     "text": [
      "player 1 choice : paper\n",
      "player 2 choice : rock\n",
      "Player 1 wins !\n"
     ]
    },
    {
     "name": "stdin",
     "output_type": "stream",
     "text": [
      "Do you want to play again ? (yes/no): yes\n"
     ]
    },
    {
     "name": "stdout",
     "output_type": "stream",
     "text": [
      "player 1 choice : scissors\n",
      "player 2 choice : rock\n",
      "Player 2 wins !\n"
     ]
    },
    {
     "name": "stdin",
     "output_type": "stream",
     "text": [
      "Do you want to play again ? (yes/no): no\n"
     ]
    }
   ],
   "source": [
    "import random\n",
    "def play_game():\n",
    "    \n",
    "    while True:\n",
    "        choices=['rock','paper','scissors']\n",
    "        player1_choice=random.choice(choices)\n",
    "        player2_choice=random.choice(choices)\n",
    "        print('player 1 choice :',player1_choice)\n",
    "        print('player 2 choice :',player2_choice)\n",
    "\n",
    "        if player1_choice == player2_choice:\n",
    "            print(\"It's a Tie ! Let's play again.\")\n",
    "        elif (player1_choice == 'rock' and player2_choice == 'scissors') or (player1_choice == 'paper' and player2_choice == 'rock') or (player1_choice == 'scissors' and player2_choice == 'paper'):\n",
    "            print(\"Player 1 wins !\")\n",
    "        else:\n",
    "            print('Player 2 wins !')\n",
    "\n",
    "        play_again=input('Do you want to play again ? (yes/no):')\n",
    "        if play_again=='no':\n",
    "            break\n",
    "            \n",
    "\n",
    "play_game()"
   ]
  },
  {
   "cell_type": "markdown",
   "id": "7632ec8a-5180-450e-937b-eb11cf2c1435",
   "metadata": {},
   "source": [
    "### 4. WAP to get the following output\n",
    "- 1--49\n",
    "- 2--48\n",
    "- .\n",
    "- .\n",
    "- 48--2\n",
    "- 49--1"
   ]
  },
  {
   "cell_type": "code",
   "execution_count": 12,
   "id": "b000a4e2-c88a-41ce-837f-492c1dcdea92",
   "metadata": {},
   "outputs": [
    {
     "name": "stdout",
     "output_type": "stream",
     "text": [
      "1 -- 49\n",
      "2 -- 48\n",
      "3 -- 47\n",
      "4 -- 46\n",
      "5 -- 45\n",
      "6 -- 44\n",
      "7 -- 43\n",
      "8 -- 42\n",
      "9 -- 41\n",
      "10 -- 40\n",
      "11 -- 39\n",
      "12 -- 38\n",
      "13 -- 37\n",
      "14 -- 36\n",
      "15 -- 35\n",
      "16 -- 34\n",
      "17 -- 33\n",
      "18 -- 32\n",
      "19 -- 31\n",
      "20 -- 30\n",
      "21 -- 29\n",
      "22 -- 28\n",
      "23 -- 27\n",
      "24 -- 26\n",
      "25 -- 25\n",
      "26 -- 24\n",
      "27 -- 23\n",
      "28 -- 22\n",
      "29 -- 21\n",
      "30 -- 20\n",
      "31 -- 19\n",
      "32 -- 18\n",
      "33 -- 17\n",
      "34 -- 16\n",
      "35 -- 15\n",
      "36 -- 14\n",
      "37 -- 13\n",
      "38 -- 12\n",
      "39 -- 11\n",
      "40 -- 10\n",
      "41 -- 9\n",
      "42 -- 8\n",
      "43 -- 7\n",
      "44 -- 6\n",
      "45 -- 5\n",
      "46 -- 4\n",
      "47 -- 3\n",
      "48 -- 2\n",
      "49 -- 1\n"
     ]
    }
   ],
   "source": [
    "i=1\n",
    "j=49\n",
    "while (i<50 and j<50):\n",
    "    print(i,'--',j)\n",
    "    i=i+1\n",
    "    j=j-1"
   ]
  },
  {
   "cell_type": "markdown",
   "id": "8268cf8a-c5c1-4da7-a3dd-9d78a0df7505",
   "metadata": {},
   "source": [
    "### 5.WAP to print the all the factors of number"
   ]
  },
  {
   "cell_type": "code",
   "execution_count": 15,
   "id": "ac5d5d85-6fce-47fe-b2f3-c6f854d628b6",
   "metadata": {},
   "outputs": [
    {
     "name": "stdin",
     "output_type": "stream",
     "text": [
      "Enter the number: 10\n"
     ]
    },
    {
     "name": "stdout",
     "output_type": "stream",
     "text": [
      "1\n",
      "2\n",
      "5\n",
      "10\n"
     ]
    }
   ],
   "source": [
    "n=int(input('Enter the number:'))\n",
    "i=1\n",
    "while (i<=n):\n",
    "    if n%i==0:\n",
    "        print(i)\n",
    "    i=i+1    "
   ]
  },
  {
   "cell_type": "markdown",
   "id": "15a6c233-a13c-42a1-9961-25f804911051",
   "metadata": {},
   "source": [
    "### 6. WAP to print the pattern"
   ]
  },
  {
   "cell_type": "code",
   "execution_count": 3,
   "id": "bb76b642-fc13-4991-98e6-bfd99848f1e9",
   "metadata": {},
   "outputs": [
    {
     "name": "stdin",
     "output_type": "stream",
     "text": [
      "Enter a number : 6\n"
     ]
    },
    {
     "name": "stdout",
     "output_type": "stream",
     "text": [
      "  1 2 3 4 5 \n",
      "    1 2 3 4 \n",
      "      1 2 3 \n",
      "        1 2 \n",
      "          1 \n",
      "            \n"
     ]
    }
   ],
   "source": [
    "n=int(input('Enter a number :'))\n",
    "for i in range(1,n+1):\n",
    "    for j in range(1,i+1):\n",
    "        print(' ',end=' ')\n",
    "    for j in range(1,n-i+1):\n",
    "        print(j,end=' ')\n",
    "    print()    "
   ]
  },
  {
   "cell_type": "markdown",
   "id": "9c5eed4b-2285-4714-9793-005b7cd933ec",
   "metadata": {},
   "source": [
    "### 7. WAP to print the pattern"
   ]
  },
  {
   "cell_type": "code",
   "execution_count": 20,
   "id": "f8b9d598-036d-42f4-898c-cb6cd83f4891",
   "metadata": {},
   "outputs": [
    {
     "name": "stdin",
     "output_type": "stream",
     "text": [
      "Enter a number : 5\n"
     ]
    },
    {
     "name": "stdout",
     "output_type": "stream",
     "text": [
      "          1 \n",
      "        1 2 1 \n",
      "      1 2 3 2 1 \n",
      "    1 2 3 4 3 2 1 \n",
      "  1 2 3 4 5 4 3 2 1 \n"
     ]
    }
   ],
   "source": [
    "n=int(input('Enter a number :'))\n",
    "for i in range(1,n+1):\n",
    "    for j in range(i,n+1):\n",
    "        print(\" \",end=' ')\n",
    "    for j in range(1,i+1):\n",
    "        print(j,end=' ')\n",
    "    for j in range(i-1,0,-1):\n",
    "        print(j,end=' ')\n",
    "    print()    "
   ]
  },
  {
   "cell_type": "markdown",
   "id": "dd8a8af6-66d0-411f-97a0-a6d33e7c7204",
   "metadata": {},
   "source": [
    "### 8. WAP to print the pattern"
   ]
  },
  {
   "cell_type": "code",
   "execution_count": 83,
   "id": "0fc36a69-951f-4c34-a729-130b7e1b0fa6",
   "metadata": {},
   "outputs": [
    {
     "name": "stdin",
     "output_type": "stream",
     "text": [
      "Enter a number: 5\n"
     ]
    },
    {
     "name": "stdout",
     "output_type": "stream",
     "text": [
      "5 5 5 5 5 5 5 5 5 \n",
      "  4 4 4 4 4 4 4 \n",
      "    3 3 3 3 3 \n",
      "      2 2 2 \n",
      "        1 \n"
     ]
    }
   ],
   "source": [
    "n=int(input('Enter a number:'))\n",
    "for i in range(n,0,-1):\n",
    "    for j in range(n-i,0,-1):\n",
    "        print(' ',end=' ')\n",
    "    for j in range(n,n-i,-1):\n",
    "        print(i,end=' ')\n",
    "    for j in range(n,n-i+1,-1):\n",
    "        if i==1:\n",
    "            break\n",
    "        print(i,end=' ')\n",
    "    print()    "
   ]
  },
  {
   "cell_type": "markdown",
   "id": "7220d50f-d16e-4edb-ae33-569978dbe7b8",
   "metadata": {},
   "source": [
    "### 9. WAP to print the Pattern"
   ]
  },
  {
   "cell_type": "code",
   "execution_count": 162,
   "id": "d31ebb4b-a6d3-481a-8e8c-7d38dd3cd926",
   "metadata": {},
   "outputs": [
    {
     "name": "stdin",
     "output_type": "stream",
     "text": [
      "Enter a number: 5\n"
     ]
    },
    {
     "name": "stdout",
     "output_type": "stream",
     "text": [
      "5 5 5 5 5 5 5 5 5 \n",
      "  4 4 4 4 4 4 4 \n",
      "    3 3 3 3 3 \n",
      "      2 2 2 \n",
      "        1 \n",
      "      2 2 2 \n",
      "    3 3 3 3 3 \n",
      "  4 4 4 4 4 4 4 \n",
      "5 5 5 5 5 5 5 5 5 \n"
     ]
    }
   ],
   "source": [
    "n=int(input('Enter a number:'))\n",
    "for i in range(n,0,-1):\n",
    "    for j in range(n-i,0,-1):\n",
    "        print(' ',end=' ')\n",
    "    for j in range(n,n-i,-1):\n",
    "        print(i,end=' ')\n",
    "    for j in range(n,n-i+1,-1):\n",
    "        if i==1:\n",
    "            break\n",
    "        print(i,end=' ')\n",
    "    print()    \n",
    "\n",
    "for i in range(2,n+1):\n",
    "    for j in range(i,n):\n",
    "        print(\" \",end=\" \")\n",
    "    for j in range(1,i+1):\n",
    "        print(i,end=\" \")\n",
    "    for j in range(2,i+1):\n",
    "        print(i,end=' ')     \n",
    "    print()    "
   ]
  },
  {
   "cell_type": "code",
   "execution_count": 112,
   "id": "7e8dd251-f42a-4500-b378-a9674aac8157",
   "metadata": {},
   "outputs": [
    {
     "name": "stdout",
     "output_type": "stream",
     "text": [
      "        2 2 \n",
      "      3 3 3 \n",
      "    4 4 4 4 \n",
      "  5 5 5 5 5 \n",
      "6 6 6 6 6 6 \n"
     ]
    }
   ],
   "source": [
    "n=5\n",
    "for i in range(2,n+2):\n",
    "    for j in range(i,n+1):\n",
    "        print(\" \",end=\" \")\n",
    "    for j in range(1,i+1):\n",
    "        if i==1:\n",
    "            continue\n",
    "        print(i,end=\" \")\n",
    "    print()    "
   ]
  },
  {
   "cell_type": "code",
   "execution_count": null,
   "id": "ff89df8a-a26d-4b6e-9991-738c3583e3c1",
   "metadata": {},
   "outputs": [],
   "source": []
  }
 ],
 "metadata": {
  "kernelspec": {
   "display_name": "Python 3 (ipykernel)",
   "language": "python",
   "name": "python3"
  },
  "language_info": {
   "codemirror_mode": {
    "name": "ipython",
    "version": 3
   },
   "file_extension": ".py",
   "mimetype": "text/x-python",
   "name": "python",
   "nbconvert_exporter": "python",
   "pygments_lexer": "ipython3",
   "version": "3.12.4"
  }
 },
 "nbformat": 4,
 "nbformat_minor": 5
}
