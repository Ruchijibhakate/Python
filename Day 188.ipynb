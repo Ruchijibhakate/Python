{
 "cells": [
  {
   "cell_type": "markdown",
   "id": "2493116a-71ed-4421-9815-9e9f6150e3a5",
   "metadata": {},
   "source": [
    "### Write a Python program to sum two given integers. However, if the sum is between 15 and 20 it will return 20."
   ]
  },
  {
   "cell_type": "code",
   "execution_count": 4,
   "id": "be48f088-7085-48dd-bb20-45c777c46e29",
   "metadata": {},
   "outputs": [
    {
     "name": "stdout",
     "output_type": "stream",
     "text": [
      "20\n",
      "99\n"
     ]
    }
   ],
   "source": [
    "def sum_numbers(a,b):\n",
    "    sum=a+b\n",
    "    if sum>=15 and sum<=20:\n",
    "        return 20\n",
    "    else:\n",
    "        return sum\n",
    "\n",
    "print(sum_numbers(10,7))\n",
    "print(sum_numbers(20,79))"
   ]
  },
  {
   "cell_type": "code",
   "execution_count": null,
   "id": "161510d3-28fe-4b48-9d94-d60ed2c68087",
   "metadata": {},
   "outputs": [],
   "source": []
  }
 ],
 "metadata": {
  "kernelspec": {
   "display_name": "Python 3 (ipykernel)",
   "language": "python",
   "name": "python3"
  },
  "language_info": {
   "codemirror_mode": {
    "name": "ipython",
    "version": 3
   },
   "file_extension": ".py",
   "mimetype": "text/x-python",
   "name": "python",
   "nbconvert_exporter": "python",
   "pygments_lexer": "ipython3",
   "version": "3.12.4"
  }
 },
 "nbformat": 4,
 "nbformat_minor": 5
}
