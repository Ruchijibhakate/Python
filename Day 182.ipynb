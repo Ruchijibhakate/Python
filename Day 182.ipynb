{
 "cells": [
  {
   "cell_type": "markdown",
   "id": "3e5c8b58-82fa-47fd-8509-9abaa7a60b8d",
   "metadata": {},
   "source": [
    "### Write a Python program that will accept the base and height of a triangle and compute its area."
   ]
  },
  {
   "cell_type": "code",
   "execution_count": 6,
   "id": "6c1592b9-17ed-4e29-9048-d3d19f6b5a74",
   "metadata": {},
   "outputs": [
    {
     "name": "stdin",
     "output_type": "stream",
     "text": [
      "Enter a Base of Triangle: 6.4\n",
      "Enter a Height of Triangle: 2.5\n"
     ]
    },
    {
     "name": "stdout",
     "output_type": "stream",
     "text": [
      "Area of Triangle : 8.0\n"
     ]
    }
   ],
   "source": [
    "base=float(input('Enter a Base of Triangle:'))\n",
    "height=float(input('Enter a Height of Triangle:'))\n",
    "area=(base*height)/2\n",
    "print('Area of Triangle :',area)"
   ]
  },
  {
   "cell_type": "code",
   "execution_count": null,
   "id": "b3ed4832-8e77-4b9a-b2b1-ed5ed6beaf44",
   "metadata": {},
   "outputs": [],
   "source": []
  }
 ],
 "metadata": {
  "kernelspec": {
   "display_name": "Python 3 (ipykernel)",
   "language": "python",
   "name": "python3"
  },
  "language_info": {
   "codemirror_mode": {
    "name": "ipython",
    "version": 3
   },
   "file_extension": ".py",
   "mimetype": "text/x-python",
   "name": "python",
   "nbconvert_exporter": "python",
   "pygments_lexer": "ipython3",
   "version": "3.12.4"
  }
 },
 "nbformat": 4,
 "nbformat_minor": 5
}
