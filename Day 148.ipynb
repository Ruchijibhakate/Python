{
 "cells": [
  {
   "cell_type": "markdown",
   "id": "3d158d74-68cb-4249-8424-da1be68fc38f",
   "metadata": {},
   "source": [
    "### 1. Print K Pattern"
   ]
  },
  {
   "cell_type": "code",
   "execution_count": 16,
   "id": "b05d6ad2-942c-4e4c-8bd7-fa97718aecc6",
   "metadata": {},
   "outputs": [
    {
     "name": "stdout",
     "output_type": "stream",
     "text": [
      "*   * \n",
      "*  *  \n",
      "* *   \n",
      "**    \n",
      "* *  \n",
      "*  * \n",
      "*   *\n"
     ]
    }
   ],
   "source": [
    "i=0\n",
    "j=4\n",
    "for row in range(7):\n",
    "    for col in range(5):\n",
    "        if col==0 or (row==col+2 and col>1):\n",
    "            print('*',end='')\n",
    "        elif (row==i and col==j):\n",
    "            print('*',end=' ')\n",
    "            i=i+1\n",
    "            j=j-1\n",
    "        else:\n",
    "            print(end=' ')\n",
    "    print()        \n",
    "            "
   ]
  },
  {
   "cell_type": "markdown",
   "id": "7d7b52d2-9edd-4594-81e4-1d7e7a675b48",
   "metadata": {},
   "source": [
    "### 2. Print L Pattern"
   ]
  },
  {
   "cell_type": "code",
   "execution_count": 20,
   "id": "ba46e1b1-3906-4954-b53f-6eb1100e7eaa",
   "metadata": {},
   "outputs": [
    {
     "name": "stdout",
     "output_type": "stream",
     "text": [
      "*     \n",
      "*     \n",
      "*     \n",
      "*     \n",
      "*     \n",
      "*     \n",
      "* * * * * \n"
     ]
    }
   ],
   "source": [
    "for row in range(7):\n",
    "    for col in range(5):\n",
    "        if col==0 or (col>0 and row==6):\n",
    "            print('*',end=' ')\n",
    "        else:\n",
    "            print(end=' ')\n",
    "    print()        "
   ]
  },
  {
   "cell_type": "code",
   "execution_count": null,
   "id": "a6abd8a6-8b98-462a-8f73-2ff3c437f158",
   "metadata": {},
   "outputs": [],
   "source": []
  }
 ],
 "metadata": {
  "kernelspec": {
   "display_name": "Python 3 (ipykernel)",
   "language": "python",
   "name": "python3"
  },
  "language_info": {
   "codemirror_mode": {
    "name": "ipython",
    "version": 3
   },
   "file_extension": ".py",
   "mimetype": "text/x-python",
   "name": "python",
   "nbconvert_exporter": "python",
   "pygments_lexer": "ipython3",
   "version": "3.12.4"
  }
 },
 "nbformat": 4,
 "nbformat_minor": 5
}
