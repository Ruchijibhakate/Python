{
 "cells": [
  {
   "cell_type": "markdown",
   "id": "d0ed1004-6c0f-4208-b00a-527b2ce40a26",
   "metadata": {},
   "source": [
    "### 1. Cross Pattern"
   ]
  },
  {
   "cell_type": "code",
   "execution_count": 18,
   "id": "ee5ef0b6-b6af-480a-8d81-223d272b0b00",
   "metadata": {},
   "outputs": [
    {
     "name": "stdout",
     "output_type": "stream",
     "text": [
      "*       * \n",
      "  *   *   \n",
      "    *     \n",
      "  *   *   \n",
      "*       * \n"
     ]
    }
   ],
   "source": [
    "n=5\n",
    "for i in range(n):\n",
    "    for j in range(n):\n",
    "        if (i==j or i+j==n-1):\n",
    "            print(\"*\",end=' ')\n",
    "        else :\n",
    "            print(' ',end=' ')\n",
    "    print()    "
   ]
  },
  {
   "cell_type": "markdown",
   "id": "baeb48b2-3ca9-4ab7-ab7e-69626655ab8f",
   "metadata": {},
   "source": [
    "### 2. Hollow square"
   ]
  },
  {
   "cell_type": "code",
   "execution_count": 21,
   "id": "e44ddcf6-e983-42bf-bdf8-577cb5cd7504",
   "metadata": {},
   "outputs": [
    {
     "name": "stdout",
     "output_type": "stream",
     "text": [
      "* * * * * \n",
      "*       * \n",
      "*       * \n",
      "*       * \n",
      "* * * * * \n"
     ]
    }
   ],
   "source": [
    "n=5\n",
    "for i in range(1,n+1):\n",
    "    for j in range(1,n+1):\n",
    "        if (i==1 or j==1 or i==n or j==n):\n",
    "            print('*',end=' ')\n",
    "        else:\n",
    "            print(' ',end=' ')\n",
    "    print()        "
   ]
  },
  {
   "cell_type": "code",
   "execution_count": null,
   "id": "88f73654-0433-42d4-ae74-eb9f205657fa",
   "metadata": {},
   "outputs": [],
   "source": []
  }
 ],
 "metadata": {
  "kernelspec": {
   "display_name": "Python 3 (ipykernel)",
   "language": "python",
   "name": "python3"
  },
  "language_info": {
   "codemirror_mode": {
    "name": "ipython",
    "version": 3
   },
   "file_extension": ".py",
   "mimetype": "text/x-python",
   "name": "python",
   "nbconvert_exporter": "python",
   "pygments_lexer": "ipython3",
   "version": "3.12.4"
  }
 },
 "nbformat": 4,
 "nbformat_minor": 5
}
