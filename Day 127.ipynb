{
 "cells": [
  {
   "cell_type": "markdown",
   "id": "61312f57-18a6-4be1-9aae-4add01b58fce",
   "metadata": {},
   "source": [
    "### 1. Swap first 2 chars of 2 strings"
   ]
  },
  {
   "cell_type": "code",
   "execution_count": 4,
   "id": "c6b49f64-9652-4f25-bc37-824e2b8a279d",
   "metadata": {},
   "outputs": [
    {
     "name": "stdout",
     "output_type": "stream",
     "text": [
      "xyc\n",
      "abz\n"
     ]
    }
   ],
   "source": [
    "s1='abc'\n",
    "s2='xyz'\n",
    "new_s1=s2[:2] + s1[2:]\n",
    "new_s2=s1[:2] + s2[2:] \n",
    "print(new_s1)\n",
    "print(new_s2)"
   ]
  },
  {
   "cell_type": "code",
   "execution_count": null,
   "id": "ff1ead9e-8024-4c6d-ae01-7b99f2d1cd99",
   "metadata": {},
   "outputs": [],
   "source": []
  }
 ],
 "metadata": {
  "kernelspec": {
   "display_name": "Python 3 (ipykernel)",
   "language": "python",
   "name": "python3"
  },
  "language_info": {
   "codemirror_mode": {
    "name": "ipython",
    "version": 3
   },
   "file_extension": ".py",
   "mimetype": "text/x-python",
   "name": "python",
   "nbconvert_exporter": "python",
   "pygments_lexer": "ipython3",
   "version": "3.12.4"
  }
 },
 "nbformat": 4,
 "nbformat_minor": 5
}
