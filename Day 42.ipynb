{
 "cells": [
  {
   "cell_type": "markdown",
   "id": "fdb6647b-4e89-4267-8389-6638121e7fc1",
   "metadata": {},
   "source": [
    "### 1. Write a numpy program to create an array with the values 1,7,13,105 and determined the size of memory occupied by the array"
   ]
  },
  {
   "cell_type": "code",
   "execution_count": 4,
   "id": "7ed7f9d4-c361-4231-b6a4-81ee6c2c47a1",
   "metadata": {},
   "outputs": [
    {
     "name": "stdout",
     "output_type": "stream",
     "text": [
      "Original Array [  1   7  13 105]\n",
      "Size of memory occupied by the array:\n",
      "16 bytes\n"
     ]
    }
   ],
   "source": [
    "import numpy as np\n",
    "x=np.array([1,7,13,105])\n",
    "print('Original Array',x)\n",
    "print(\"Size of memory occupied by the array:\")\n",
    "print(\"%d bytes\" % (x.size * x.itemsize))"
   ]
  },
  {
   "cell_type": "markdown",
   "id": "11dcde1f-38c7-41bd-9488-df19ecef3d5b",
   "metadata": {},
   "source": [
    "### 2. Write a numpy program to create an array of 10 zeros , 10 ones and 10 fives"
   ]
  },
  {
   "cell_type": "code",
   "execution_count": 9,
   "id": "21d1c523-363c-4fd9-81ff-9b34715c182b",
   "metadata": {},
   "outputs": [
    {
     "name": "stdout",
     "output_type": "stream",
     "text": [
      "An Array of 10 zeros: [0. 0. 0. 0. 0. 0. 0. 0. 0. 0.]\n",
      "An Array of 10 ones: [1. 1. 1. 1. 1. 1. 1. 1. 1. 1.]\n",
      "An Array of 10 fives: [5. 5. 5. 5. 5. 5. 5. 5. 5. 5.]\n"
     ]
    }
   ],
   "source": [
    "import numpy as np\n",
    "array=np.zeros(10)\n",
    "print('An Array of 10 zeros:',array)\n",
    "\n",
    "array=np.ones(10)\n",
    "print('An Array of 10 ones:',array)\n",
    "\n",
    "array=np.ones(10) * 5\n",
    "print('An Array of 10 fives:',array)"
   ]
  },
  {
   "cell_type": "markdown",
   "id": "6c95f6f8-80f1-4fab-a339-6506ccbd220b",
   "metadata": {},
   "source": [
    "### 3. Write a numpy program to create an array of integers from 30 to 70"
   ]
  },
  {
   "cell_type": "code",
   "execution_count": 16,
   "id": "e099cf04-9b71-427c-91bc-49456ea8c847",
   "metadata": {},
   "outputs": [
    {
     "name": "stdout",
     "output_type": "stream",
     "text": [
      "Array of Integers from 30 to 70 :\n",
      "[30 31 32 33 34 35 36 37 38 39 40 41 42 43 44 45 46 47 48 49 50 51 52 53\n",
      " 54 55 56 57 58 59 60 61 62 63 64 65 66 67 68 69 70]\n"
     ]
    }
   ],
   "source": [
    "import numpy as np\n",
    "array=np.arange(30,71)\n",
    "print('Array of Integers from 30 to 70 :')\n",
    "print(array)"
   ]
  },
  {
   "cell_type": "markdown",
   "id": "763d169a-8937-4457-beb5-510d08aee044",
   "metadata": {},
   "source": [
    "### 4. Write a numpy program to create an array of all even integers from 30 to 70"
   ]
  },
  {
   "cell_type": "code",
   "execution_count": 19,
   "id": "54cd6ad6-8954-4c02-bcd3-5f362898170f",
   "metadata": {},
   "outputs": [
    {
     "name": "stdout",
     "output_type": "stream",
     "text": [
      "Array of all even integers from 30 to 70 :\n",
      "[30 32 34 36 38 40 42 44 46 48 50 52 54 56 58 60 62 64 66 68 70]\n"
     ]
    }
   ],
   "source": [
    "import numpy as np\n",
    "array=np.arange(30,71,2)\n",
    "print(\"Array of all even integers from 30 to 70 :\")\n",
    "print(array)"
   ]
  },
  {
   "cell_type": "markdown",
   "id": "4327767a-a85e-494c-819a-67241ec0a12f",
   "metadata": {},
   "source": [
    "### 5. Write a numpy program to create an array of all odd integers from 50 to 100"
   ]
  },
  {
   "cell_type": "code",
   "execution_count": 22,
   "id": "7673ed60-990b-4f54-88ef-bd40b4467135",
   "metadata": {},
   "outputs": [
    {
     "name": "stdout",
     "output_type": "stream",
     "text": [
      "Array of all odd integers from 50 to 100 :\n",
      "[51 53 55 57 59 61 63 65 67 69 71 73 75 77 79 81 83 85 87 89 91 93 95 97\n",
      " 99]\n"
     ]
    }
   ],
   "source": [
    "import numpy as np\n",
    "array=np.arange(51,100,2)\n",
    "print('Array of all odd integers from 50 to 100 :')\n",
    "print(array)"
   ]
  },
  {
   "cell_type": "code",
   "execution_count": null,
   "id": "1e81aa3b-9283-49da-8e4e-5e6d03dfdc91",
   "metadata": {},
   "outputs": [],
   "source": []
  }
 ],
 "metadata": {
  "kernelspec": {
   "display_name": "Python 3 (ipykernel)",
   "language": "python",
   "name": "python3"
  },
  "language_info": {
   "codemirror_mode": {
    "name": "ipython",
    "version": 3
   },
   "file_extension": ".py",
   "mimetype": "text/x-python",
   "name": "python",
   "nbconvert_exporter": "python",
   "pygments_lexer": "ipython3",
   "version": "3.12.4"
  }
 },
 "nbformat": 4,
 "nbformat_minor": 5
}
