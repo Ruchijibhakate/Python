{
 "cells": [
  {
   "cell_type": "markdown",
   "id": "d9b4762b-89d7-432b-80cd-80243adfc231",
   "metadata": {},
   "source": [
    "### 1. Create the list with values ranging from 0 to 10."
   ]
  },
  {
   "cell_type": "code",
   "execution_count": 2,
   "id": "c37788e4-b080-455c-9c73-934ca7ade9de",
   "metadata": {},
   "outputs": [
    {
     "name": "stdout",
     "output_type": "stream",
     "text": [
      "[0, 1, 2, 3, 4, 5, 6, 7, 8, 9, 10]\n"
     ]
    }
   ],
   "source": [
    "list1=list(range(11))\n",
    "print(list1)"
   ]
  },
  {
   "cell_type": "markdown",
   "id": "636915fb-b7fa-4475-9d6a-10f320125da8",
   "metadata": {},
   "source": [
    "### 2. Convert list of integers to list of strings."
   ]
  },
  {
   "cell_type": "code",
   "execution_count": 8,
   "id": "c321fb86-4b15-4560-bee4-87693481ebc0",
   "metadata": {},
   "outputs": [
    {
     "name": "stdout",
     "output_type": "stream",
     "text": [
      "['1', '2', '3', '4', '5', '6']\n"
     ]
    }
   ],
   "source": [
    "list1=[1,2,3,4,5,6]\n",
    "list2=list(map(str,list1))\n",
    "print(list2)"
   ]
  },
  {
   "cell_type": "markdown",
   "id": "b87a3d41-17ee-4074-beb1-852a4d2c0b7d",
   "metadata": {},
   "source": [
    "### 3. Multiply all the elements in list by 2."
   ]
  },
  {
   "cell_type": "code",
   "execution_count": 11,
   "id": "27007f1a-8421-4709-b7c2-2b2287138c95",
   "metadata": {},
   "outputs": [
    {
     "name": "stdout",
     "output_type": "stream",
     "text": [
      "[20, 40, 60, 80, 100]\n"
     ]
    }
   ],
   "source": [
    "list1=[10,20,30,40,50]\n",
    "mul_list=list(map(lambda x : x*2 , list1))\n",
    "print(mul_list)"
   ]
  },
  {
   "cell_type": "markdown",
   "id": "98b0389e-c77c-400f-80d1-4c0ecff3f900",
   "metadata": {},
   "source": [
    "### 4. Extract all the odd numbers from list of integers."
   ]
  },
  {
   "cell_type": "code",
   "execution_count": 14,
   "id": "4586ee3c-3f73-4e26-8025-2edd6b83dae6",
   "metadata": {},
   "outputs": [
    {
     "name": "stdout",
     "output_type": "stream",
     "text": [
      "[1, 3, 5, 7, 9]\n"
     ]
    }
   ],
   "source": [
    "list1=[0, 1, 2, 3, 4, 5, 6, 7, 8, 9, 10]\n",
    "odd_num=list(filter(lambda x : x%2!=0 , list1))\n",
    "print(odd_num)"
   ]
  },
  {
   "cell_type": "markdown",
   "id": "c4dc3ed9-629e-4546-827c-fc4831b271d5",
   "metadata": {},
   "source": [
    "### 5. Replace all the odd numbers in the list with -1."
   ]
  },
  {
   "cell_type": "code",
   "execution_count": 17,
   "id": "c430781b-357a-4aa0-8b6b-56a89ff90e64",
   "metadata": {},
   "outputs": [
    {
     "name": "stdout",
     "output_type": "stream",
     "text": [
      "[0, -1, 2, -1, 4, -1, 6, -1, 8, -1, 10]\n"
     ]
    }
   ],
   "source": [
    "list1=[0, 1, 2, 3, 4, 5, 6, 7, 8, 9, 10]\n",
    "replace_list=[-1 if i%2!=0 else i for i in list1]\n",
    "print(replace_list)"
   ]
  },
  {
   "cell_type": "code",
   "execution_count": null,
   "id": "93083a23-ba7c-4d76-bc9a-414dedf592f8",
   "metadata": {},
   "outputs": [],
   "source": []
  }
 ],
 "metadata": {
  "kernelspec": {
   "display_name": "Python 3 (ipykernel)",
   "language": "python",
   "name": "python3"
  },
  "language_info": {
   "codemirror_mode": {
    "name": "ipython",
    "version": 3
   },
   "file_extension": ".py",
   "mimetype": "text/x-python",
   "name": "python",
   "nbconvert_exporter": "python",
   "pygments_lexer": "ipython3",
   "version": "3.12.4"
  }
 },
 "nbformat": 4,
 "nbformat_minor": 5
}
