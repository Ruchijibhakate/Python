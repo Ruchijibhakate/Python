{
 "cells": [
  {
   "cell_type": "markdown",
   "id": "0ee8f5b0-5a84-44ea-9921-9af74131d6f9",
   "metadata": {},
   "source": [
    "### 1. WAP to sum all the items in a list."
   ]
  },
  {
   "cell_type": "code",
   "execution_count": 2,
   "id": "5d70a6f3-0e19-4f98-a058-6a01c1792d17",
   "metadata": {},
   "outputs": [
    {
     "name": "stdout",
     "output_type": "stream",
     "text": [
      "Sum of all items in list : 107\n"
     ]
    }
   ],
   "source": [
    "list=[1,4,8,10,35,19,30]\n",
    "sum=0\n",
    "for i in list:\n",
    "    sum=sum+i\n",
    "print('Sum of all items in list :',sum)    "
   ]
  },
  {
   "cell_type": "markdown",
   "id": "8d9a45d4-57ba-4a75-98b6-69a272db8633",
   "metadata": {},
   "source": [
    "### 2. Multiply items in list."
   ]
  },
  {
   "cell_type": "code",
   "execution_count": 7,
   "id": "8f25272a-8359-4ba0-81a5-ccd2a84f8c4d",
   "metadata": {},
   "outputs": [
    {
     "name": "stdout",
     "output_type": "stream",
     "text": [
      "Sum of all items in list : 5040\n"
     ]
    }
   ],
   "source": [
    "list=[1,2,9,5,8,7]\n",
    "mult=1\n",
    "for i in list:\n",
    "    mult=mult*i\n",
    "print('Sum of all items in list :',mult)    "
   ]
  },
  {
   "cell_type": "code",
   "execution_count": null,
   "id": "08de8978-b816-4935-9d9b-987ddee5ed5f",
   "metadata": {},
   "outputs": [],
   "source": []
  }
 ],
 "metadata": {
  "kernelspec": {
   "display_name": "Python 3 (ipykernel)",
   "language": "python",
   "name": "python3"
  },
  "language_info": {
   "codemirror_mode": {
    "name": "ipython",
    "version": 3
   },
   "file_extension": ".py",
   "mimetype": "text/x-python",
   "name": "python",
   "nbconvert_exporter": "python",
   "pygments_lexer": "ipython3",
   "version": "3.12.4"
  }
 },
 "nbformat": 4,
 "nbformat_minor": 5
}
