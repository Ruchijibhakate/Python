{
 "cells": [
  {
   "cell_type": "markdown",
   "id": "00bc4c25-33b5-49db-befd-27625fe54668",
   "metadata": {},
   "source": [
    "### 1. WAP to remove the key from a dictionary"
   ]
  },
  {
   "cell_type": "code",
   "execution_count": 8,
   "id": "009d1a98-371e-42b5-9874-5220cca40491",
   "metadata": {},
   "outputs": [
    {
     "data": {
      "text/plain": [
       "{'Name': 'Radha', 'Age': 34, 'Sex': 'Female'}"
      ]
     },
     "execution_count": 8,
     "metadata": {},
     "output_type": "execute_result"
    }
   ],
   "source": [
    "def remove(dict,key):\n",
    "    new_dict={}\n",
    "    rem=dict.pop(key)\n",
    "    new_dict.update(dict)\n",
    "    return new_dict\n",
    "\n",
    "remove({'Name':'Radha','Age':34,'Sex':'Female','ID':'D023'},'ID')"
   ]
  },
  {
   "cell_type": "markdown",
   "id": "2ca13a70-dcab-405d-bb97-264ef150b8a6",
   "metadata": {},
   "source": [
    "### 2. WAP to map two lists into dictionary"
   ]
  },
  {
   "cell_type": "code",
   "execution_count": 2,
   "id": "858d1867-5c94-422c-950b-f01076bf8f89",
   "metadata": {},
   "outputs": [
    {
     "name": "stdout",
     "output_type": "stream",
     "text": [
      "{1: 'one', 2: 'two', 3: 'three', 4: 'four', 5: 'five', 6: 'six'}\n"
     ]
    }
   ],
   "source": [
    "keys=[1,2,3,4,5,6]\n",
    "values=['one','two','three','four','five','six']\n",
    "map_dict=dict(zip(keys,values))\n",
    "print(map_dict)"
   ]
  },
  {
   "cell_type": "markdown",
   "id": "2b937ab8-7b32-4f3a-a66e-224d0e0904d5",
   "metadata": {},
   "source": [
    "### 3. WAP to sort the given dictinary by key"
   ]
  },
  {
   "cell_type": "code",
   "execution_count": 17,
   "id": "8f1ecc76-76f6-4859-932d-4b9394521809",
   "metadata": {},
   "outputs": [
    {
     "name": "stdout",
     "output_type": "stream",
     "text": [
      "{'black': 2, 'blue': 6, 'red': 1, 'yellow': 3}\n"
     ]
    }
   ],
   "source": [
    "my_dict={'red':1 , 'blue':6 , 'yellow':3 , 'black':2}\n",
    "sort={key:my_dict[key] for key in sorted(my_dict)}\n",
    "print(sort)    "
   ]
  },
  {
   "cell_type": "markdown",
   "id": "eb74e177-eafd-4836-8450-6df9d889b738",
   "metadata": {},
   "source": [
    "### 4. WAP to check if a dictionary is empty or not"
   ]
  },
  {
   "cell_type": "code",
   "execution_count": 81,
   "id": "b4130bbf-e528-4708-8b3b-0b1578d46613",
   "metadata": {},
   "outputs": [
    {
     "name": "stdout",
     "output_type": "stream",
     "text": [
      "Dictionary is not empty\n"
     ]
    }
   ],
   "source": [
    "my_dict={1:'a'}\n",
    "if not bool(my_dict):\n",
    "    print(\"Dictionary is empty\")\n",
    "else:\n",
    "    print(\"Dictionary is not empty\")"
   ]
  },
  {
   "cell_type": "markdown",
   "id": "49b9234e-6660-4aca-a024-92bab1d7e166",
   "metadata": {},
   "source": [
    "### 5. WAP to combine two dictionary adding values for common keys"
   ]
  },
  {
   "cell_type": "code",
   "execution_count": 87,
   "id": "31d3a980-25a9-4f2d-8e41-b6eb23c91dda",
   "metadata": {},
   "outputs": [
    {
     "name": "stdout",
     "output_type": "stream",
     "text": [
      "Counter({'a': 300, 'c': 300, 'b': 250, 'd': 250})\n"
     ]
    }
   ],
   "source": [
    "dict1={'a':100,'b':200,'c':300}\n",
    "dict2={'a':200,'b':50, 'd':250}\n",
    "\n",
    "from collections import Counter\n",
    "dict=Counter(dict1)+Counter(dict2)\n",
    "print(dict)"
   ]
  },
  {
   "cell_type": "markdown",
   "id": "996520b5-6f10-4516-a5dc-986c34a1cdc1",
   "metadata": {},
   "source": [
    "### 6. WAP to print letter V in form of * pattern"
   ]
  },
  {
   "cell_type": "code",
   "execution_count": 95,
   "id": "537e42a3-b3f1-4662-881c-b5918173e93e",
   "metadata": {},
   "outputs": [
    {
     "name": "stdout",
     "output_type": "stream",
     "text": [
      "*     *\n",
      " *   * \n",
      "  * *  \n",
      "   *   \n"
     ]
    }
   ],
   "source": [
    "i=0\n",
    "j=6\n",
    "\n",
    "for row in range(4):\n",
    "    for col in range(7):\n",
    "        if row==col:\n",
    "            print(\"*\",end='')\n",
    "        elif row==i and col==j:\n",
    "            print(\"*\",end='')\n",
    "            i=i+1\n",
    "            j=j-1\n",
    "        else:\n",
    "            print(end=' ')\n",
    "    print()        "
   ]
  },
  {
   "cell_type": "markdown",
   "id": "03d43244-9297-471f-86d2-ed90c3f45174",
   "metadata": {},
   "source": [
    "### 7. WAP to print letter W in form of * pattern"
   ]
  },
  {
   "cell_type": "code",
   "execution_count": 106,
   "id": "08a4bd58-7472-4267-af26-572adbbeed4f",
   "metadata": {},
   "outputs": [
    {
     "name": "stdout",
     "output_type": "stream",
     "text": [
      "*  *  *\n",
      "* * * *\n",
      "**   **\n",
      "*     *\n"
     ]
    }
   ],
   "source": [
    "i=0\n",
    "j=3\n",
    "\n",
    "for row in range(4):\n",
    "    for col in range(7):\n",
    "        if (col==0 or col==6) or (col==5 and row==2) or (col==4 and row==1) :\n",
    "            print(\"*\",end='')\n",
    "        elif row==i and col==j:\n",
    "            print('*',end='')\n",
    "            i=i+1\n",
    "            j=j-1\n",
    "        elif row==i+1 and col==j+1:\n",
    "            print('*',end='')\n",
    "        else:\n",
    "            print(end=' ')\n",
    "    print()        "
   ]
  },
  {
   "cell_type": "markdown",
   "id": "b1b8680f-193f-49ec-90ee-f6b9e41ba871",
   "metadata": {},
   "source": [
    "### 8. WAP to print X in form of * pattern"
   ]
  },
  {
   "cell_type": "code",
   "execution_count": 125,
   "id": "74600f29-f7c0-41fa-a9c1-31a2413d0d59",
   "metadata": {},
   "outputs": [
    {
     "name": "stdout",
     "output_type": "stream",
     "text": [
      "*   *\n",
      " * * \n",
      "  *  \n",
      " * * \n",
      "*   *\n"
     ]
    }
   ],
   "source": [
    "i=0\n",
    "j=4\n",
    "for row in range(5):\n",
    "    for col in range(5):\n",
    "        if row==i and col==j:\n",
    "            print('*',end='')\n",
    "            i=i+1\n",
    "            j=j-1\n",
    "        elif row==col:\n",
    "            print('*',end='')\n",
    "        else:\n",
    "            print(end=' ')\n",
    "    print()        \n",
    "        "
   ]
  },
  {
   "cell_type": "markdown",
   "id": "92ddfe01-f047-48be-b916-308266659b6b",
   "metadata": {},
   "source": [
    "### 9. WAP to print Y in form of * pattern"
   ]
  },
  {
   "cell_type": "code",
   "execution_count": 17,
   "id": "2360f513-fa60-43c9-a2d5-3c0da93d9149",
   "metadata": {},
   "outputs": [
    {
     "name": "stdout",
     "output_type": "stream",
     "text": [
      "*   *\n",
      " * * \n",
      "  *  \n",
      "  *  \n",
      "  *  \n"
     ]
    }
   ],
   "source": [
    "i=0\n",
    "j=4\n",
    "for row in range(5):\n",
    "    for col in range(5):\n",
    "        if row==col and (row and col)<2:\n",
    "            print(\"*\",end='')\n",
    "        elif (row>=2 and col==2):\n",
    "            print(\"*\",end='')\n",
    "        elif row==i and col==j and i!=j:\n",
    "            print(\"*\",end='')\n",
    "            i=i+1\n",
    "            j=j-1\n",
    "        else:\n",
    "            print(end=' ')\n",
    "    print()       \n",
    "        "
   ]
  },
  {
   "cell_type": "markdown",
   "id": "74d424cf-0001-4c39-8836-3ef8e3c3d372",
   "metadata": {},
   "source": [
    "### 10. WAP to print Z in form of * pattern"
   ]
  },
  {
   "cell_type": "code",
   "execution_count": 22,
   "id": "49ee872f-691d-4844-8b3b-408f5e008029",
   "metadata": {},
   "outputs": [
    {
     "name": "stdout",
     "output_type": "stream",
     "text": [
      "******\n",
      "    * \n",
      "   *  \n",
      "  *   \n",
      " *    \n",
      "******\n"
     ]
    }
   ],
   "source": [
    "i=1\n",
    "j=4\n",
    "for row in range(6):\n",
    "    for col in range(6):\n",
    "        if row==0 or row==5:\n",
    "            print(\"*\",end='')\n",
    "        elif row==i and col==j:\n",
    "            print(\"*\",end='')\n",
    "            i=i+1\n",
    "            j=j-1\n",
    "        else:\n",
    "            print(end=' ')\n",
    "    print()        "
   ]
  },
  {
   "cell_type": "code",
   "execution_count": null,
   "id": "4e7ca737-cad6-407c-9309-46436d58efe6",
   "metadata": {},
   "outputs": [],
   "source": []
  }
 ],
 "metadata": {
  "kernelspec": {
   "display_name": "Python 3 (ipykernel)",
   "language": "python",
   "name": "python3"
  },
  "language_info": {
   "codemirror_mode": {
    "name": "ipython",
    "version": 3
   },
   "file_extension": ".py",
   "mimetype": "text/x-python",
   "name": "python",
   "nbconvert_exporter": "python",
   "pygments_lexer": "ipython3",
   "version": "3.12.4"
  }
 },
 "nbformat": 4,
 "nbformat_minor": 5
}
