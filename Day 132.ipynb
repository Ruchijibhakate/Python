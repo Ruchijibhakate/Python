{
 "cells": [
  {
   "cell_type": "markdown",
   "id": "19d21bd0-690e-4d7a-a889-9b771146c67e",
   "metadata": {},
   "source": [
    "### 1.Find a Factorial of given number"
   ]
  },
  {
   "cell_type": "code",
   "execution_count": 6,
   "id": "1a574ddf-c061-401e-b49f-5083e65d7ac2",
   "metadata": {},
   "outputs": [
    {
     "name": "stdin",
     "output_type": "stream",
     "text": [
      "Enter a number : 4\n"
     ]
    },
    {
     "name": "stdout",
     "output_type": "stream",
     "text": [
      "Factorial of 4 : 24\n"
     ]
    }
   ],
   "source": [
    "n=int(input('Enter a number :'))\n",
    "fact=1\n",
    "i=1\n",
    "while(i<=n):\n",
    "    fact=fact*i\n",
    "    i=i+1\n",
    "print(f'Factorial of {n} :',fact)    "
   ]
  },
  {
   "cell_type": "markdown",
   "id": "4953ffbe-663b-4f0f-8dbb-b33bdee7194c",
   "metadata": {},
   "source": [
    "### 2. Calculate cube of all the numbers from 1 to n"
   ]
  },
  {
   "cell_type": "code",
   "execution_count": 19,
   "id": "00929542-052c-4766-990d-4b5f7745f100",
   "metadata": {},
   "outputs": [
    {
     "name": "stdin",
     "output_type": "stream",
     "text": [
      "Enter a Number : 7\n"
     ]
    },
    {
     "name": "stdout",
     "output_type": "stream",
     "text": [
      "Number : Cube\n",
      "1 : 1\n",
      "2 : 8\n",
      "3 : 27\n",
      "4 : 64\n",
      "5 : 125\n",
      "6 : 216\n",
      "7 : 343\n"
     ]
    }
   ],
   "source": [
    "n=int(input('Enter a Number :'))\n",
    "i=1\n",
    "print('Number : Cube')\n",
    "while(i<=n):\n",
    "    print(i ,':', i**3)\n",
    "    i=i+1"
   ]
  },
  {
   "cell_type": "code",
   "execution_count": null,
   "id": "9071d09c-d3fb-42d0-b48c-c62c6d92686c",
   "metadata": {},
   "outputs": [],
   "source": []
  }
 ],
 "metadata": {
  "kernelspec": {
   "display_name": "Python 3 (ipykernel)",
   "language": "python",
   "name": "python3"
  },
  "language_info": {
   "codemirror_mode": {
    "name": "ipython",
    "version": 3
   },
   "file_extension": ".py",
   "mimetype": "text/x-python",
   "name": "python",
   "nbconvert_exporter": "python",
   "pygments_lexer": "ipython3",
   "version": "3.12.4"
  }
 },
 "nbformat": 4,
 "nbformat_minor": 5
}
