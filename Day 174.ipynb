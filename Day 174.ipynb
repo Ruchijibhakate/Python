{
 "cells": [
  {
   "cell_type": "markdown",
   "id": "ab7a935e-5d1c-4d41-8df7-bc5e2d9985e4",
   "metadata": {},
   "source": [
    "### Write a Python program to count the number 4 in a given list."
   ]
  },
  {
   "cell_type": "code",
   "execution_count": 8,
   "id": "83ce4df3-dfd4-4940-8058-3c21f2d191f0",
   "metadata": {},
   "outputs": [
    {
     "name": "stdout",
     "output_type": "stream",
     "text": [
      "Count of 4 in list : 3\n"
     ]
    }
   ],
   "source": [
    "list1=[2,0,4,1,7,10,4,40,4,20]\n",
    "print(f\"Count of 4 in list :\",list1.count(4))"
   ]
  },
  {
   "cell_type": "code",
   "execution_count": null,
   "id": "a692fb88-3f3a-4834-80df-15116fb66059",
   "metadata": {},
   "outputs": [],
   "source": []
  }
 ],
 "metadata": {
  "kernelspec": {
   "display_name": "Python 3 (ipykernel)",
   "language": "python",
   "name": "python3"
  },
  "language_info": {
   "codemirror_mode": {
    "name": "ipython",
    "version": 3
   },
   "file_extension": ".py",
   "mimetype": "text/x-python",
   "name": "python",
   "nbconvert_exporter": "python",
   "pygments_lexer": "ipython3",
   "version": "3.12.4"
  }
 },
 "nbformat": 4,
 "nbformat_minor": 5
}
