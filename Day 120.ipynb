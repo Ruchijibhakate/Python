{
 "cells": [
  {
   "cell_type": "markdown",
   "id": "d9cc713c-e392-4783-a203-643b3a34673a",
   "metadata": {},
   "source": [
    "### Character Pattern Program"
   ]
  },
  {
   "cell_type": "code",
   "execution_count": 6,
   "id": "2913babb-438a-4370-b6bf-9e997da88fca",
   "metadata": {},
   "outputs": [
    {
     "name": "stdout",
     "output_type": "stream",
     "text": [
      "          R \n",
      "        E E E \n",
      "      D D D D D \n",
      "    O O O O O O O \n",
      "  C C C C C C C C C \n"
     ]
    }
   ],
   "source": [
    "s='CODER'\n",
    "n=len(s)\n",
    "p=-1\n",
    "for i in range(n,0,-1):\n",
    "    for j in range(1,i+1):\n",
    "        print(' ',end=' ')\n",
    "    for j in range(i,n+1):\n",
    "        print(s[p],end=' ')\n",
    "    for j in range(i+1,n+1):\n",
    "        print(s[p],end=' ')\n",
    "    p=p-1\n",
    "    print()"
   ]
  },
  {
   "cell_type": "code",
   "execution_count": null,
   "id": "c723a40b-d743-4e42-a699-f6e515ba48a8",
   "metadata": {},
   "outputs": [],
   "source": []
  }
 ],
 "metadata": {
  "kernelspec": {
   "display_name": "Python 3 (ipykernel)",
   "language": "python",
   "name": "python3"
  },
  "language_info": {
   "codemirror_mode": {
    "name": "ipython",
    "version": 3
   },
   "file_extension": ".py",
   "mimetype": "text/x-python",
   "name": "python",
   "nbconvert_exporter": "python",
   "pygments_lexer": "ipython3",
   "version": "3.12.4"
  }
 },
 "nbformat": 4,
 "nbformat_minor": 5
}
