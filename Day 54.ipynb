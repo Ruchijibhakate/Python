{
 "cells": [
  {
   "cell_type": "markdown",
   "id": "f6bc1218-f65a-4977-8f4b-f66d6320e238",
   "metadata": {},
   "source": [
    "### 1. WAP to check whether number is positive , negative, or neutral."
   ]
  },
  {
   "cell_type": "code",
   "execution_count": 8,
   "id": "6cc9d554-3acb-47da-89aa-3155664c92ad",
   "metadata": {},
   "outputs": [
    {
     "name": "stdin",
     "output_type": "stream",
     "text": [
      "enter a number: -345\n"
     ]
    },
    {
     "name": "stdout",
     "output_type": "stream",
     "text": [
      "Number is Negative\n"
     ]
    }
   ],
   "source": [
    "num=int(input('enter a number:'))\n",
    "if num>0:\n",
    "    print('Number is Positive')\n",
    "elif num<0:\n",
    "    print('Number is Negative')\n",
    "else:\n",
    "    print('Number is Neutral')"
   ]
  },
  {
   "cell_type": "markdown",
   "id": "0935d912-5b25-483a-9092-d0ddd38fe397",
   "metadata": {},
   "source": [
    "### 2. WAP to check whether number is even or odd"
   ]
  },
  {
   "cell_type": "code",
   "execution_count": 12,
   "id": "5f18bfd5-973f-4463-93b0-10714d3892e5",
   "metadata": {},
   "outputs": [
    {
     "name": "stdin",
     "output_type": "stream",
     "text": [
      "Enter a Number: 45\n"
     ]
    },
    {
     "name": "stdout",
     "output_type": "stream",
     "text": [
      "Number is Odd\n"
     ]
    }
   ],
   "source": [
    "num=int(input('Enter a Number:'))\n",
    "if num%2==0:\n",
    "    print('Number is Even')\n",
    "else:\n",
    "    print('Number is Odd')"
   ]
  },
  {
   "cell_type": "markdown",
   "id": "151985ab-a5a8-4b81-9973-24fc48a1f372",
   "metadata": {},
   "source": [
    "### 3. WAP to print sum of digits in number"
   ]
  },
  {
   "cell_type": "code",
   "execution_count": 23,
   "id": "ce1de92c-f4d2-4c47-bc1f-8ddf8a80b721",
   "metadata": {},
   "outputs": [
    {
     "name": "stdin",
     "output_type": "stream",
     "text": [
      "Enter a Number: 121\n"
     ]
    },
    {
     "name": "stdout",
     "output_type": "stream",
     "text": [
      "4\n"
     ]
    }
   ],
   "source": [
    "num=int(input('Enter a Number:'))\n",
    "res=0\n",
    "while(num>0):\n",
    "    rem=num%10\n",
    "    res=res+rem\n",
    "    num=num//10\n",
    "print(res)    "
   ]
  },
  {
   "cell_type": "markdown",
   "id": "2bc6a0a1-6d29-4d23-a12f-98df1bd2c2b1",
   "metadata": {},
   "source": [
    "### 4. WAP to check whether number is palindrome or not"
   ]
  },
  {
   "cell_type": "code",
   "execution_count": 31,
   "id": "a5ab3013-2ba2-4d39-83c3-790874e61288",
   "metadata": {},
   "outputs": [
    {
     "name": "stdin",
     "output_type": "stream",
     "text": [
      "Enter a Number: 121\n"
     ]
    },
    {
     "name": "stdout",
     "output_type": "stream",
     "text": [
      "Number is Palindrome\n"
     ]
    }
   ],
   "source": [
    "num=int(input('Enter a Number:'))\n",
    "temp=num\n",
    "res=0\n",
    "while(temp>0):\n",
    "    rem=temp%10\n",
    "    res=res*10+rem\n",
    "    temp=temp//10\n",
    "if res==num:\n",
    "    print('Number is Palindrome')\n",
    "else:\n",
    "    print('Number is not Palindrome')"
   ]
  },
  {
   "cell_type": "markdown",
   "id": "f87aab85-5566-4aa9-879b-f85b8650f002",
   "metadata": {},
   "source": [
    "### 5. WAP to print n Prime number"
   ]
  },
  {
   "cell_type": "code",
   "execution_count": 42,
   "id": "5c1a98c4-2ad0-4736-b734-71b965154aa2",
   "metadata": {},
   "outputs": [
    {
     "name": "stdout",
     "output_type": "stream",
     "text": [
      "1\n",
      "2\n",
      "3\n",
      "5\n",
      "7\n",
      "11\n",
      "13\n",
      "17\n",
      "19\n",
      "23\n",
      "29\n",
      "31\n",
      "37\n",
      "41\n",
      "43\n",
      "47\n",
      "53\n",
      "59\n",
      "61\n",
      "67\n",
      "71\n",
      "73\n",
      "79\n",
      "83\n",
      "89\n",
      "97\n"
     ]
    }
   ],
   "source": [
    "for num in range(1,100):\n",
    "    for i in range(2,num):\n",
    "        if num%i==0:\n",
    "            break\n",
    "    else:\n",
    "        print(num)"
   ]
  },
  {
   "cell_type": "code",
   "execution_count": null,
   "id": "66b4e55f-f9be-4c3b-b3ba-d83e31139bea",
   "metadata": {},
   "outputs": [],
   "source": []
  }
 ],
 "metadata": {
  "kernelspec": {
   "display_name": "Python 3 (ipykernel)",
   "language": "python",
   "name": "python3"
  },
  "language_info": {
   "codemirror_mode": {
    "name": "ipython",
    "version": 3
   },
   "file_extension": ".py",
   "mimetype": "text/x-python",
   "name": "python",
   "nbconvert_exporter": "python",
   "pygments_lexer": "ipython3",
   "version": "3.12.4"
  }
 },
 "nbformat": 4,
 "nbformat_minor": 5
}
