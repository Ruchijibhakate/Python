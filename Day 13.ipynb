{
 "cells": [
  {
   "cell_type": "markdown",
   "id": "08c4ef92-1b39-481e-8151-da2523cb89a9",
   "metadata": {},
   "source": [
    "### 1. Convert decimal to binary"
   ]
  },
  {
   "cell_type": "code",
   "execution_count": 98,
   "id": "d3d644de-3453-4504-9126-bd5cbdbf625e",
   "metadata": {},
   "outputs": [
    {
     "name": "stdin",
     "output_type": "stream",
     "text": [
      "Enter a number : 25\n"
     ]
    },
    {
     "name": "stdout",
     "output_type": "stream",
     "text": [
      "[1, 0, 0, 1, 1]\n",
      "[1, 1, 0, 0, 1]\n",
      "11001"
     ]
    }
   ],
   "source": [
    "n=int(input(\"Enter a number :\"))\n",
    "list=[]\n",
    "while(n>0):\n",
    "    rem=n%2\n",
    "    list.append(rem)\n",
    "    n=int(n)//2  \n",
    "print(list)            #binary\n",
    "list1=list[::-1]\n",
    "print(list1)           #reverse of binary\n",
    "for i in list1:\n",
    "    print(i,end=\"\")\n",
    "    \n",
    "    "
   ]
  },
  {
   "cell_type": "markdown",
   "id": "a666ce3e-14ff-4308-b427-4ed36e804f68",
   "metadata": {},
   "source": [
    "### 2. Convert binary to decimal"
   ]
  },
  {
   "cell_type": "code",
   "execution_count": 107,
   "id": "182399cb-b539-45f9-8470-8c8c5c4e6b5d",
   "metadata": {},
   "outputs": [
    {
     "name": "stdin",
     "output_type": "stream",
     "text": [
      "enter a number 11001\n"
     ]
    },
    {
     "name": "stdout",
     "output_type": "stream",
     "text": [
      "25\n"
     ]
    }
   ],
   "source": [
    "str=input(\"enter a number\")\n",
    "n=len(str)\n",
    "sum=0\n",
    "for i in str:\n",
    "    res=int(i)*(2)**(n-1)          # if num=11001\n",
    "    sum=sum+res                    # indexing is [4,3,2,1,0]\n",
    "    n=n-1                          # 1*(2^4)+1*(2^3)+0*(2^2)+0*(2^1)+1*(2^0)\n",
    "print(sum)                         # sum=25"
   ]
  },
  {
   "cell_type": "markdown",
   "id": "19c7ca61-09c6-41f6-81cf-1a48ac6103d5",
   "metadata": {},
   "source": [
    "### 3. Convert decimal to octal"
   ]
  },
  {
   "cell_type": "code",
   "execution_count": 124,
   "id": "25e7a6d4-465e-4cee-a87b-66051f6db790",
   "metadata": {},
   "outputs": [
    {
     "name": "stdin",
     "output_type": "stream",
     "text": [
      "enter a number 15\n"
     ]
    },
    {
     "name": "stdout",
     "output_type": "stream",
     "text": [
      "[7, 1]\n",
      "[1, 7]\n",
      "17"
     ]
    }
   ],
   "source": [
    "num=int(input(\"enter a number\"))\n",
    "list=[]\n",
    "while(num>0):\n",
    "    rem=num%8\n",
    "    list.append(rem)\n",
    "    num=num//8\n",
    "print(list)\n",
    "list1=list[::-1]\n",
    "print(list1)\n",
    "for i in list1:\n",
    "    print(i,end=\"\")"
   ]
  },
  {
   "cell_type": "markdown",
   "id": "b5c5fb04-b4c4-450c-a335-ec9d0596a0c4",
   "metadata": {},
   "source": [
    "### 4. Convert Octal to Decimal"
   ]
  },
  {
   "cell_type": "code",
   "execution_count": 128,
   "id": "1123072e-ae1b-4528-8cd9-1de4c95fb0a9",
   "metadata": {},
   "outputs": [
    {
     "name": "stdin",
     "output_type": "stream",
     "text": [
      "Enter a number : 1246\n"
     ]
    },
    {
     "name": "stdout",
     "output_type": "stream",
     "text": [
      "678\n"
     ]
    }
   ],
   "source": [
    "num=input(\"Enter a number :\")\n",
    "n=len(num)\n",
    "sum=0\n",
    "for i in num:\n",
    "    res=int(i)*(8)**(n-1)\n",
    "    sum=sum+res\n",
    "    n=n-1\n",
    "print(sum)    "
   ]
  },
  {
   "cell_type": "markdown",
   "id": "f931630c-7f43-468a-9c7b-a961d9b693b0",
   "metadata": {},
   "source": [
    "### 5. Convert decimal to hexadecimal"
   ]
  },
  {
   "cell_type": "code",
   "execution_count": 141,
   "id": "bc8bc610-6e67-48a9-b400-4a548602f796",
   "metadata": {},
   "outputs": [
    {
     "name": "stdin",
     "output_type": "stream",
     "text": [
      "Enter a number : 314\n"
     ]
    },
    {
     "name": "stdout",
     "output_type": "stream",
     "text": [
      "['A', 3, 1]\n",
      "13A"
     ]
    }
   ],
   "source": [
    "num=int(input(\"Enter a number :\"))\n",
    "list=[]\n",
    "while(num>0):\n",
    "    rem=num%16\n",
    "    if rem==10:\n",
    "        rem='A'\n",
    "    elif rem==11:\n",
    "        rem='B'\n",
    "    elif rem==12:\n",
    "        rem='C'\n",
    "    elif rem==13:\n",
    "        rem='D'\n",
    "    elif rem==14:\n",
    "        rem='E'   \n",
    "    elif rem==15:\n",
    "        rem='F'\n",
    "    list.append(rem)\n",
    "    num=num//16\n",
    "print(list)\n",
    "list1=list[::-1]\n",
    "for i in list1:\n",
    "    print(i,end=\"\")"
   ]
  },
  {
   "cell_type": "markdown",
   "id": "857c988c-0efc-40f6-93b6-5dfc56f03e76",
   "metadata": {},
   "source": [
    "### 6. Convert hexadecimal to decimal"
   ]
  },
  {
   "cell_type": "code",
   "execution_count": 152,
   "id": "ae97e8d7-6467-468a-8b16-1a382b0e2bbd",
   "metadata": {},
   "outputs": [
    {
     "name": "stdin",
     "output_type": "stream",
     "text": [
      "Enter a number : 4B7\n"
     ]
    },
    {
     "name": "stdout",
     "output_type": "stream",
     "text": [
      "1207\n"
     ]
    }
   ],
   "source": [
    "num=input(\"Enter a number :\")\n",
    "n=len(num)\n",
    "sum=0\n",
    "list=[]\n",
    "for i in num:\n",
    "    if i=='A':\n",
    "        i=10\n",
    "    elif i=='B':\n",
    "        i=11\n",
    "    elif i=='c':\n",
    "        i=12\n",
    "    elif i=='D':\n",
    "        i=13\n",
    "    elif i=='E':\n",
    "        i=14\n",
    "    elif i=='F':\n",
    "        i=15    \n",
    "    res=int(i)*(16)**(n-1)\n",
    "    sum=sum+res\n",
    "    n=n-1\n",
    "print(sum)"
   ]
  },
  {
   "cell_type": "markdown",
   "id": "eebf95ad-a249-4c4e-9998-f9e839883570",
   "metadata": {},
   "source": [
    "### 7. Pattern"
   ]
  },
  {
   "cell_type": "code",
   "execution_count": 2,
   "id": "f84e8a01-880f-4b0b-9ce2-6f4f618947c1",
   "metadata": {},
   "outputs": [
    {
     "name": "stdin",
     "output_type": "stream",
     "text": [
      "Enter a number : 5\n"
     ]
    },
    {
     "name": "stdout",
     "output_type": "stream",
     "text": [
      "5 \n",
      "4 4 \n",
      "3 3 3 \n",
      "2 2 2 2 \n",
      "1 1 1 1 1 \n"
     ]
    }
   ],
   "source": [
    "n=int(input(\"Enter a number :\"))\n",
    "for i in range(n,0,-1):\n",
    "    for j in range(i,n+1):\n",
    "        print(i,end=\" \")\n",
    "    print()    "
   ]
  },
  {
   "cell_type": "markdown",
   "id": "b71c389f-3274-4cc1-80f6-48591ff3a1e1",
   "metadata": {},
   "source": [
    "### 8. Pattern"
   ]
  },
  {
   "cell_type": "code",
   "execution_count": 9,
   "id": "f9b73440-7b1f-41d9-9a90-a361d1f87090",
   "metadata": {},
   "outputs": [
    {
     "name": "stdin",
     "output_type": "stream",
     "text": [
      "Enter a number: 5\n"
     ]
    },
    {
     "name": "stdout",
     "output_type": "stream",
     "text": [
      "5 \n",
      "4 5 \n",
      "3 4 5 \n",
      "2 3 4 5 \n",
      "1 2 3 4 5 \n"
     ]
    }
   ],
   "source": [
    "n=int(input(\"Enter a number:\"))\n",
    "for i in range(n,0,-1):\n",
    "    for j in range(i,n+1):\n",
    "        print(j,end=' ')\n",
    "    print()    "
   ]
  },
  {
   "cell_type": "markdown",
   "id": "4be03f9c-543b-47fe-bd55-32375a99cae4",
   "metadata": {},
   "source": [
    "### 9. Pattern"
   ]
  },
  {
   "cell_type": "code",
   "execution_count": 16,
   "id": "75aa9c28-7f30-40b8-8c78-da2c84e0ee8e",
   "metadata": {},
   "outputs": [
    {
     "name": "stdin",
     "output_type": "stream",
     "text": [
      "Enter a number: 5\n"
     ]
    },
    {
     "name": "stdout",
     "output_type": "stream",
     "text": [
      "5 \n",
      "5 4 \n",
      "5 4 3 \n",
      "5 4 3 2 \n",
      "5 4 3 2 1 \n"
     ]
    }
   ],
   "source": [
    "n=int(input(\"Enter a number:\"))\n",
    "for i in range(n,0,-1):\n",
    "    for j in range(n,i-1,-1):\n",
    "        print(j,end=' ')\n",
    "    print()    "
   ]
  },
  {
   "cell_type": "markdown",
   "id": "b7f1b56d-d52c-4391-bc38-d0890bc0440e",
   "metadata": {},
   "source": [
    "### 10. Pattern"
   ]
  },
  {
   "cell_type": "code",
   "execution_count": 28,
   "id": "eab71a9b-8221-4fe9-9fe3-2d1b8f9b885f",
   "metadata": {},
   "outputs": [
    {
     "name": "stdin",
     "output_type": "stream",
     "text": [
      "Enter a number: 5\n"
     ]
    },
    {
     "name": "stdout",
     "output_type": "stream",
     "text": [
      "25  \n",
      "16  16  \n",
      "9  9  9  \n",
      "4  4  4  4  \n",
      "1  1  1  1  1  \n"
     ]
    }
   ],
   "source": [
    "n=int(input(\"Enter a number:\"))\n",
    "for i in range(n,0,-1):\n",
    "    for j in range(n,i-1,-1):\n",
    "        print(i*i,end=\"  \")\n",
    "    print()     "
   ]
  }
 ],
 "metadata": {
  "kernelspec": {
   "display_name": "Python 3 (ipykernel)",
   "language": "python",
   "name": "python3"
  },
  "language_info": {
   "codemirror_mode": {
    "name": "ipython",
    "version": 3
   },
   "file_extension": ".py",
   "mimetype": "text/x-python",
   "name": "python",
   "nbconvert_exporter": "python",
   "pygments_lexer": "ipython3",
   "version": "3.12.4"
  }
 },
 "nbformat": 4,
 "nbformat_minor": 5
}
