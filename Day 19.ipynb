{
 "cells": [
  {
   "cell_type": "markdown",
   "id": "8bc946f4-0f4d-4909-805d-3e3428fc8247",
   "metadata": {},
   "source": [
    "### 1. WAP to create the empty set"
   ]
  },
  {
   "cell_type": "code",
   "execution_count": 7,
   "id": "962c803c-f804-42db-9ade-c9063bc33388",
   "metadata": {},
   "outputs": [
    {
     "name": "stdout",
     "output_type": "stream",
     "text": [
      "set()\n",
      "<class 'set'>\n"
     ]
    }
   ],
   "source": [
    "s1=set()\n",
    "print(s1)\n",
    "print(type(s1))"
   ]
  },
  {
   "cell_type": "markdown",
   "id": "63748abf-d40d-407a-8a91-13374e77ac51",
   "metadata": {},
   "source": [
    "### 2. WAP to create the set"
   ]
  },
  {
   "cell_type": "code",
   "execution_count": 11,
   "id": "398a6132-77d9-4342-832f-be0dbc8d0012",
   "metadata": {},
   "outputs": [
    {
     "name": "stdout",
     "output_type": "stream",
     "text": [
      "{1, 2, 3, 4, 5}\n"
     ]
    }
   ],
   "source": [
    "myset={1,2,3,4,5}\n",
    "print(myset)"
   ]
  },
  {
   "cell_type": "markdown",
   "id": "16ca540f-ef98-4b20-a86c-ff4fe3357e44",
   "metadata": {},
   "source": [
    "### 3. WAP to iterate over set"
   ]
  },
  {
   "cell_type": "code",
   "execution_count": 13,
   "id": "ad23b4f7-030a-4338-aea3-92e548c5a9e1",
   "metadata": {},
   "outputs": [
    {
     "name": "stdout",
     "output_type": "stream",
     "text": [
      "50\n",
      "20\n",
      "40\n",
      "10\n",
      "60\n",
      "30\n"
     ]
    }
   ],
   "source": [
    "myset={10,20,30,40,50,60}\n",
    "for i in myset:\n",
    "    print(i)"
   ]
  },
  {
   "cell_type": "markdown",
   "id": "db5add78-4f1f-4d4a-94a8-ff10e6ece0f4",
   "metadata": {},
   "source": [
    "### 3. Add a list of elements into the given set"
   ]
  },
  {
   "cell_type": "code",
   "execution_count": 18,
   "id": "13613d96-6250-47a9-8cfd-c046e8e783f8",
   "metadata": {},
   "outputs": [
    {
     "data": {
      "text/plain": [
       "{'apple', 'banana', 'black', 'blue', 'grapes', 'kivi', 'mango', 'red'}"
      ]
     },
     "execution_count": 18,
     "metadata": {},
     "output_type": "execute_result"
    }
   ],
   "source": [
    "set={'apple','banana','grapes','kivi','mango'}\n",
    "list=['red','blue','black']\n",
    "set.update(list)\n",
    "set"
   ]
  },
  {
   "cell_type": "markdown",
   "id": "80604203-b885-4978-9c9a-c3c778a1a34f",
   "metadata": {},
   "source": [
    "### 4. Return a new set of identical items from two sets"
   ]
  },
  {
   "cell_type": "code",
   "execution_count": 27,
   "id": "8bb875cd-5e59-4460-84cd-234db8bbe586",
   "metadata": {},
   "outputs": [
    {
     "name": "stdout",
     "output_type": "stream",
     "text": [
      "{40, 10, 20}\n"
     ]
    }
   ],
   "source": [
    "set1={10,20,30,40,50,60}\n",
    "set2={10,40,20}\n",
    "\n",
    "new_set=set1.intersection(set2)\n",
    "print(new_set)"
   ]
  },
  {
   "cell_type": "markdown",
   "id": "9c60f0ce-32ce-49af-9607-90a53a28f876",
   "metadata": {},
   "source": [
    "### 5. WAP to get only unique items from the two sets "
   ]
  },
  {
   "cell_type": "code",
   "execution_count": 30,
   "id": "fdfd05e2-6eca-40e7-b21d-aa1f73281ef9",
   "metadata": {},
   "outputs": [
    {
     "name": "stdout",
     "output_type": "stream",
     "text": [
      "{100, 40, 10, 50, 20, 90, 60, 30}\n"
     ]
    }
   ],
   "source": [
    "set1={10,20,30,40,50,60}\n",
    "set2={10,40,20,90,50,100}\n",
    "\n",
    "new_set=set1.union(set2)\n",
    "print(new_set)"
   ]
  },
  {
   "cell_type": "markdown",
   "id": "0cc37716-b7c4-4aec-8704-743c1c779087",
   "metadata": {},
   "source": [
    "### 6. WAP t update the first set with items that donst exists in the second set"
   ]
  },
  {
   "cell_type": "code",
   "execution_count": 43,
   "id": "c2ec064a-72ee-4a9e-8bd3-df7b6592a915",
   "metadata": {},
   "outputs": [
    {
     "data": {
      "text/plain": [
       "{'blue', 'white'}"
      ]
     },
     "execution_count": 43,
     "metadata": {},
     "output_type": "execute_result"
    }
   ],
   "source": [
    "set1={\"red\",\"white\",\"blue\"}\n",
    "set2={\"pink\",\"red\",\"black\"}\n",
    "\n",
    "set1.difference_update(set2)\n",
    "set1"
   ]
  },
  {
   "cell_type": "markdown",
   "id": "8b99a9cd-5fa7-4232-8c5d-82e1242eb6db",
   "metadata": {},
   "source": [
    "### 7. WAP to remove the items from the set at once"
   ]
  },
  {
   "cell_type": "code",
   "execution_count": 55,
   "id": "52afa973-c450-4427-b842-48ef45b970d5",
   "metadata": {},
   "outputs": [
    {
     "data": {
      "text/plain": [
       "{4, 7, 8}"
      ]
     },
     "execution_count": 55,
     "metadata": {},
     "output_type": "execute_result"
    }
   ],
   "source": [
    "set={1,2,3,4,5,6,7,8}\n",
    "set.difference_update({1,5,3,6,2})\n",
    "set"
   ]
  },
  {
   "cell_type": "markdown",
   "id": "681a65a8-c88c-4fd2-aaed-e1db15e6694d",
   "metadata": {},
   "source": [
    "### 8. Return a set of elements present in the set A or B bt not both"
   ]
  },
  {
   "cell_type": "code",
   "execution_count": 58,
   "id": "4e90cc17-aa17-462e-b1b5-a9f6225b8da0",
   "metadata": {},
   "outputs": [
    {
     "name": "stdout",
     "output_type": "stream",
     "text": [
      "{1, 5, 9, 7}\n"
     ]
    }
   ],
   "source": [
    "A={1,2,3,4,5,6}\n",
    "B={3,2,6,4,9,7}\n",
    "\n",
    "union=A.union(B)\n",
    "inter=A.intersection(B)\n",
    "\n",
    "new_set=union-inter\n",
    "print(new_set)"
   ]
  },
  {
   "cell_type": "markdown",
   "id": "149a27f6-fa0a-4cf5-9971-3b3ddbe9cbf7",
   "metadata": {},
   "source": [
    "### 9. Check if two sets have any element in common"
   ]
  },
  {
   "cell_type": "code",
   "execution_count": 65,
   "id": "e26ee9fd-e876-482a-9d0c-6feb21c9630d",
   "metadata": {},
   "outputs": [
    {
     "name": "stdout",
     "output_type": "stream",
     "text": [
      "{40, 10, 30}\n"
     ]
    }
   ],
   "source": [
    "A={10,20,30,40,50,60}\n",
    "B={40,30,80,45,10}\n",
    "\n",
    "if A.isdisjoint(B)==False:\n",
    "    print(A.intersection(B))\n",
    "else:\n",
    "    print(\"There is no common element\")"
   ]
  },
  {
   "cell_type": "markdown",
   "id": "046fdc3a-8a4a-4c5d-8624-06578db672fe",
   "metadata": {},
   "source": [
    "### 10. Update set1 by adding the items from set2, except common elements"
   ]
  },
  {
   "cell_type": "code",
   "execution_count": 75,
   "id": "ff542944-240f-47fc-9aef-fc442d823abf",
   "metadata": {},
   "outputs": [
    {
     "name": "stdout",
     "output_type": "stream",
     "text": [
      "{40, 34, 83, 50}\n"
     ]
    },
    {
     "data": {
      "text/plain": [
       "{11, 19, 23, 29, 30, 34, 40, 45, 50, 67, 83}"
      ]
     },
     "execution_count": 75,
     "metadata": {},
     "output_type": "execute_result"
    }
   ],
   "source": [
    "set1={11,45,29,67,23,30,19}\n",
    "set2={34,11,67,40,50,83,30}\n",
    "\n",
    "a=set2.difference(set1)         #elements excepts the common elements from set2\n",
    "print(a)\n",
    "set1.update(a)     \n",
    "set1"
   ]
  },
  {
   "cell_type": "code",
   "execution_count": null,
   "id": "1d6ef79b-c293-4b6f-bf11-f453d54dd795",
   "metadata": {},
   "outputs": [],
   "source": []
  }
 ],
 "metadata": {
  "kernelspec": {
   "display_name": "Python 3 (ipykernel)",
   "language": "python",
   "name": "python3"
  },
  "language_info": {
   "codemirror_mode": {
    "name": "ipython",
    "version": 3
   },
   "file_extension": ".py",
   "mimetype": "text/x-python",
   "name": "python",
   "nbconvert_exporter": "python",
   "pygments_lexer": "ipython3",
   "version": "3.12.4"
  }
 },
 "nbformat": 4,
 "nbformat_minor": 5
}
