{
 "cells": [
  {
   "cell_type": "markdown",
   "id": "7749bc68-e461-4a2a-a492-838aa0681eb0",
   "metadata": {},
   "source": [
    "### Write a Python code to concatenate two strings"
   ]
  },
  {
   "cell_type": "code",
   "execution_count": 4,
   "id": "1d4514b0-94ad-48a6-9e9a-0baa94c0fbed",
   "metadata": {},
   "outputs": [
    {
     "name": "stdout",
     "output_type": "stream",
     "text": [
      "Great Choice\n"
     ]
    }
   ],
   "source": [
    "str1='Great'\n",
    "str2='Choice'\n",
    "str=str1+' '+str2\n",
    "print(str)"
   ]
  },
  {
   "cell_type": "code",
   "execution_count": null,
   "id": "730d32eb-d1ff-4b9c-8b32-c987439224be",
   "metadata": {},
   "outputs": [],
   "source": []
  }
 ],
 "metadata": {
  "kernelspec": {
   "display_name": "Python 3 (ipykernel)",
   "language": "python",
   "name": "python3"
  },
  "language_info": {
   "codemirror_mode": {
    "name": "ipython",
    "version": 3
   },
   "file_extension": ".py",
   "mimetype": "text/x-python",
   "name": "python",
   "nbconvert_exporter": "python",
   "pygments_lexer": "ipython3",
   "version": "3.12.4"
  }
 },
 "nbformat": 4,
 "nbformat_minor": 5
}
