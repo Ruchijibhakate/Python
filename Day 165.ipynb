{
 "cells": [
  {
   "cell_type": "markdown",
   "id": "8a7124d4-c58a-4ff3-952c-1bc1dda9b234",
   "metadata": {},
   "source": [
    "### 1. Write a Python program to get the volume of a sphere with radius six."
   ]
  },
  {
   "cell_type": "code",
   "execution_count": 6,
   "id": "913adda5-e7ef-4dca-8fe0-6c9e07ca3275",
   "metadata": {},
   "outputs": [
    {
     "name": "stdin",
     "output_type": "stream",
     "text": [
      "Enter a Radius of Sphere : 6\n"
     ]
    },
    {
     "name": "stdout",
     "output_type": "stream",
     "text": [
      "Volume of Sphere is 904.7786842338603\n"
     ]
    }
   ],
   "source": [
    "import math\n",
    "r=int(input('Enter a Radius of Sphere :'))\n",
    "volume_sphere=(4/3)*(math.pi)*(r**3)\n",
    "print('Volume of Sphere is',volume_sphere)"
   ]
  },
  {
   "cell_type": "markdown",
   "id": "b6f8b688-52f0-4991-b195-9fd65531023a",
   "metadata": {},
   "source": [
    "### 2. Write a Python program to calculate the difference between a given number and 17. If the number is greater than 17, return twice the absolute difference."
   ]
  },
  {
   "cell_type": "code",
   "execution_count": 11,
   "id": "b87fe400-9872-4fac-b451-c309c5fa2476",
   "metadata": {},
   "outputs": [
    {
     "name": "stdin",
     "output_type": "stream",
     "text": [
      "Enter a number : 20\n"
     ]
    },
    {
     "name": "stdout",
     "output_type": "stream",
     "text": [
      "Twice the absolute difference 6\n"
     ]
    }
   ],
   "source": [
    "num=int(input('Enter a number :'))\n",
    "dif=num-17\n",
    "if num>17:\n",
    "    print(\"Twice the absolute difference\",2*abs(dif))\n",
    "else:\n",
    "    print(\"Difference:\",dif)"
   ]
  },
  {
   "cell_type": "code",
   "execution_count": null,
   "id": "50602be3-2d1f-499e-9cad-95f75cb87154",
   "metadata": {},
   "outputs": [],
   "source": []
  }
 ],
 "metadata": {
  "kernelspec": {
   "display_name": "Python 3 (ipykernel)",
   "language": "python",
   "name": "python3"
  },
  "language_info": {
   "codemirror_mode": {
    "name": "ipython",
    "version": 3
   },
   "file_extension": ".py",
   "mimetype": "text/x-python",
   "name": "python",
   "nbconvert_exporter": "python",
   "pygments_lexer": "ipython3",
   "version": "3.12.4"
  }
 },
 "nbformat": 4,
 "nbformat_minor": 5
}
