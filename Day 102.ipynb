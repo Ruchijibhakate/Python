{
 "cells": [
  {
   "cell_type": "markdown",
   "id": "a57424fb-9dc3-4731-aaaa-689702c4ac0d",
   "metadata": {},
   "source": [
    "### 1. Print Alphabet Pattern "
   ]
  },
  {
   "cell_type": "code",
   "execution_count": 4,
   "id": "173eeb8d-ce78-416f-89d3-345510f8465d",
   "metadata": {},
   "outputs": [
    {
     "name": "stdout",
     "output_type": "stream",
     "text": [
      "  A A A A A \n",
      "    B B B B \n",
      "      C C C \n",
      "        D D \n",
      "          E \n"
     ]
    }
   ],
   "source": [
    "n=5\n",
    "p=65\n",
    "for i in range(1,n+1):\n",
    "    for j in range(1,i+1):\n",
    "        print(' ',end=' ')\n",
    "    for j in range(i,n+1):\n",
    "        print(chr(p),end=' ')\n",
    "    p=p+1    \n",
    "    print()    "
   ]
  },
  {
   "cell_type": "markdown",
   "id": "52550be4-57c7-48e3-8281-06beac9b0919",
   "metadata": {},
   "source": [
    "### 2. Print Alphabet Pattern"
   ]
  },
  {
   "cell_type": "code",
   "execution_count": 9,
   "id": "7ccbe77c-1235-442d-9cff-4cf0f189933a",
   "metadata": {},
   "outputs": [
    {
     "name": "stdout",
     "output_type": "stream",
     "text": [
      "  A B C D E \n",
      "    A B C D \n",
      "      A B C \n",
      "        A B \n",
      "          A \n"
     ]
    }
   ],
   "source": [
    "n=5\n",
    " \n",
    "for i in range(1,n+1):\n",
    "    p=65\n",
    "    for j in range(1,i+1):\n",
    "        print(' ',end=' ')\n",
    "    for j in range(i,n+1):\n",
    "        print(chr(p),end=' ')\n",
    "        p=p+1    \n",
    "    print()    "
   ]
  },
  {
   "cell_type": "code",
   "execution_count": null,
   "id": "4b8138ae-7329-46c6-b201-b191fb921109",
   "metadata": {},
   "outputs": [],
   "source": []
  }
 ],
 "metadata": {
  "kernelspec": {
   "display_name": "Python 3 (ipykernel)",
   "language": "python",
   "name": "python3"
  },
  "language_info": {
   "codemirror_mode": {
    "name": "ipython",
    "version": 3
   },
   "file_extension": ".py",
   "mimetype": "text/x-python",
   "name": "python",
   "nbconvert_exporter": "python",
   "pygments_lexer": "ipython3",
   "version": "3.12.4"
  }
 },
 "nbformat": 4,
 "nbformat_minor": 5
}
