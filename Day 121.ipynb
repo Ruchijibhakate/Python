{
 "cells": [
  {
   "cell_type": "markdown",
   "id": "e3af2357-d81b-4735-90c1-d83768cb70e1",
   "metadata": {},
   "source": [
    "### Character Pattern Program"
   ]
  },
  {
   "cell_type": "code",
   "execution_count": 8,
   "id": "8c876ab0-c03d-4dec-a446-07c0a0845d66",
   "metadata": {},
   "outputs": [
    {
     "name": "stdout",
     "output_type": "stream",
     "text": [
      "C \n",
      "C O \n",
      "C O D \n",
      "C O D E \n",
      "C O D E R \n"
     ]
    }
   ],
   "source": [
    "s='CODER'\n",
    "n=len(s)\n",
    "for i in range(1,n+1):\n",
    "    p=0\n",
    "    for j in range(1,i+1):\n",
    "        print(s[p],end=' ')\n",
    "        p=p+1\n",
    "    print()    \n",
    "        "
   ]
  },
  {
   "cell_type": "code",
   "execution_count": null,
   "id": "602c6e8c-9bfb-44ff-b0a1-9cf1563e0014",
   "metadata": {},
   "outputs": [],
   "source": []
  }
 ],
 "metadata": {
  "kernelspec": {
   "display_name": "Python 3 (ipykernel)",
   "language": "python",
   "name": "python3"
  },
  "language_info": {
   "codemirror_mode": {
    "name": "ipython",
    "version": 3
   },
   "file_extension": ".py",
   "mimetype": "text/x-python",
   "name": "python",
   "nbconvert_exporter": "python",
   "pygments_lexer": "ipython3",
   "version": "3.12.4"
  }
 },
 "nbformat": 4,
 "nbformat_minor": 5
}
