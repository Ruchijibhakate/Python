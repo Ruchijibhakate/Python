{
 "cells": [
  {
   "cell_type": "markdown",
   "id": "be22109a-ae87-40c6-9bb8-b1f538037092",
   "metadata": {},
   "source": [
    "### 1. Write a Python program to test whether a number is within 100 of 1000 or 2000."
   ]
  },
  {
   "cell_type": "code",
   "execution_count": 1,
   "id": "4e9a1e2b-d1a0-4945-ab19-23af1f4feab8",
   "metadata": {},
   "outputs": [
    {
     "name": "stdout",
     "output_type": "stream",
     "text": [
      "True\n",
      "True\n",
      "False\n",
      "False\n"
     ]
    }
   ],
   "source": [
    "def near_thousand(n):\n",
    "    return ((abs(1000 - n) <= 100) or (abs(2000 - n) <= 100))\n",
    "\n",
    "# Call the \"near_thousand\" function with the argument 2000 and print the result\n",
    "print(near_thousand(1000))\n",
    "\n",
    "# Call the \"near_thousand\" function with the argument 500 and print the result\n",
    "print(near_thousand(900))\n",
    "\n",
    "# Call the \"near_thousand\" function with the argument 200 and print the result\n",
    "print(near_thousand(800))\n",
    "\n",
    "# Call the \"near_thousand\" function with the argument 700 and print the result\n",
    "print(near_thousand(2200))"
   ]
  },
  {
   "cell_type": "markdown",
   "id": "137b1333-e55f-4372-90de-ac1fc9e8b9f2",
   "metadata": {},
   "source": [
    "### 2. Write a Python program to calculate the sum of three given numbers. If the values are equal, return three times their sum."
   ]
  },
  {
   "cell_type": "code",
   "execution_count": 5,
   "id": "3e313385-05fe-4139-8bee-d80f9cab9c41",
   "metadata": {},
   "outputs": [
    {
     "name": "stdin",
     "output_type": "stream",
     "text": [
      "Enter a First Number : 7\n",
      "Enter a Second Number : 10\n",
      "Enter a Third Number : 5\n"
     ]
    },
    {
     "name": "stdout",
     "output_type": "stream",
     "text": [
      "Sum of Three numbers : 22\n"
     ]
    }
   ],
   "source": [
    "a=int(input('Enter a First Number :'))\n",
    "b=int(input('Enter a Second Number :'))\n",
    "c=int(input('Enter a Third Number :'))\n",
    "if a==b==c :\n",
    "    sum=3*(a+b+c)\n",
    "    print('Sum of Three equal numbers :',sum)\n",
    "else:\n",
    "    sum=a+b+c\n",
    "    print('Sum of Three numbers :',sum)"
   ]
  },
  {
   "cell_type": "code",
   "execution_count": null,
   "id": "6932a02b-e527-4482-b0e0-97347c30b718",
   "metadata": {},
   "outputs": [],
   "source": []
  }
 ],
 "metadata": {
  "kernelspec": {
   "display_name": "Python 3 (ipykernel)",
   "language": "python",
   "name": "python3"
  },
  "language_info": {
   "codemirror_mode": {
    "name": "ipython",
    "version": 3
   },
   "file_extension": ".py",
   "mimetype": "text/x-python",
   "name": "python",
   "nbconvert_exporter": "python",
   "pygments_lexer": "ipython3",
   "version": "3.12.4"
  }
 },
 "nbformat": 4,
 "nbformat_minor": 5
}
