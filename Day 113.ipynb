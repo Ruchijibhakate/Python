{
 "cells": [
  {
   "cell_type": "markdown",
   "id": "c398bee8-41a7-4d1a-a217-e65933ee1652",
   "metadata": {},
   "source": [
    "### 1. Print Butterfly pattern of character"
   ]
  },
  {
   "cell_type": "code",
   "execution_count": 72,
   "id": "cef6b1d1-4cbd-4d27-8c65-4646e2faeefe",
   "metadata": {},
   "outputs": [
    {
     "name": "stdout",
     "output_type": "stream",
     "text": [
      "A               A \n",
      "A B           A B \n",
      "A B C       A B C \n",
      "A B C D   A B C D \n",
      "A B C D A B C D E \n",
      "A B C D   A B C D \n",
      "A B C       A B C \n",
      "A B           A B \n",
      "A               A \n"
     ]
    }
   ],
   "source": [
    "n=5\n",
    "for i in range(1,n+1):\n",
    "    p=65\n",
    "    for j in range(1,i+1):\n",
    "        if chr(p)=='E':\n",
    "            continue\n",
    "        else:    \n",
    "            print(chr(p),end=' ')\n",
    "        p=p+1\n",
    "    for j in range(i,n-1):\n",
    "        print(' ',end=' ')\n",
    "    for j in range(i,n):\n",
    "        print(' ',end=' ')\n",
    "    p=65    \n",
    "    for j in range(1,i+1):\n",
    "        print(chr(p),end=' ')\n",
    "        p=p+1  \n",
    "    print()   \n",
    "\n",
    "n=5\n",
    "for i in range(2,n+1):\n",
    "    p=65\n",
    "    for j in range(i,n+1):\n",
    "        print(chr(p),end=' ')\n",
    "        p=p+1\n",
    "    for j in range(1,i-1):\n",
    "        print(' ',end=' ')\n",
    "    for j in range(1,i):\n",
    "        print(' ',end=' ')\n",
    "    p=65    \n",
    "    for j in range(i,n+1):\n",
    "        print(chr(p),end=' ')\n",
    "        p=p+1\n",
    "    print()    "
   ]
  },
  {
   "cell_type": "code",
   "execution_count": null,
   "id": "b70af5cc-8d16-42d7-9da1-ca5573abe783",
   "metadata": {},
   "outputs": [],
   "source": []
  }
 ],
 "metadata": {
  "kernelspec": {
   "display_name": "Python 3 (ipykernel)",
   "language": "python",
   "name": "python3"
  },
  "language_info": {
   "codemirror_mode": {
    "name": "ipython",
    "version": 3
   },
   "file_extension": ".py",
   "mimetype": "text/x-python",
   "name": "python",
   "nbconvert_exporter": "python",
   "pygments_lexer": "ipython3",
   "version": "3.12.4"
  }
 },
 "nbformat": 4,
 "nbformat_minor": 5
}
