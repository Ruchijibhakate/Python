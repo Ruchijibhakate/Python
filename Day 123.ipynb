{
 "cells": [
  {
   "cell_type": "markdown",
   "id": "97684dde-644e-492a-84a7-d93970d945d4",
   "metadata": {},
   "source": [
    "### 1. WAP to calculate length of string"
   ]
  },
  {
   "cell_type": "code",
   "execution_count": 4,
   "id": "4bed0834-2ebe-49ff-bf64-23015c62792c",
   "metadata": {},
   "outputs": [
    {
     "name": "stdout",
     "output_type": "stream",
     "text": [
      "Length of String : 21\n"
     ]
    }
   ],
   "source": [
    "s='Hii, What is going on'\n",
    "count=0\n",
    "for i in s:\n",
    "    count=count+1\n",
    "\n",
    "print('Length of String :',count)"
   ]
  },
  {
   "cell_type": "markdown",
   "id": "ef68efb2-e449-459d-8c1d-3edd4795a645",
   "metadata": {},
   "source": [
    "### 2. Count Character frequency in string"
   ]
  },
  {
   "cell_type": "code",
   "execution_count": 15,
   "id": "40ea6c1c-b5aa-40e6-91fd-ca4889b52c73",
   "metadata": {},
   "outputs": [
    {
     "name": "stdout",
     "output_type": "stream",
     "text": [
      "{'g': 2, 'o': 3, 'l': 1, 'e': 1, '.': 1, 'c': 1, 'm': 1}\n"
     ]
    }
   ],
   "source": [
    "s='google.com'\n",
    "dict={}\n",
    "for i in s:\n",
    "    keys=dict.keys()\n",
    "    if i in keys:\n",
    "       dict[i]+=1\n",
    "    else:\n",
    "        dict[i]=1\n",
    "print(dict)        "
   ]
  },
  {
   "cell_type": "code",
   "execution_count": null,
   "id": "f94d0f31-d067-49f5-b10b-57d241fa8a75",
   "metadata": {},
   "outputs": [],
   "source": []
  }
 ],
 "metadata": {
  "kernelspec": {
   "display_name": "Python 3 (ipykernel)",
   "language": "python",
   "name": "python3"
  },
  "language_info": {
   "codemirror_mode": {
    "name": "ipython",
    "version": 3
   },
   "file_extension": ".py",
   "mimetype": "text/x-python",
   "name": "python",
   "nbconvert_exporter": "python",
   "pygments_lexer": "ipython3",
   "version": "3.12.4"
  }
 },
 "nbformat": 4,
 "nbformat_minor": 5
}
