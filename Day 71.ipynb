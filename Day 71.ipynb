{
 "cells": [
  {
   "cell_type": "markdown",
   "id": "0dfc7dc7-81b1-49d4-8361-79bca74b3e8e",
   "metadata": {},
   "source": [
    "### 1. Remove the duplicates from list"
   ]
  },
  {
   "cell_type": "code",
   "execution_count": 2,
   "id": "927bb3a9-e16b-4af7-8b9f-fc414156c260",
   "metadata": {},
   "outputs": [
    {
     "name": "stdout",
     "output_type": "stream",
     "text": [
      "[1, 2, 3, 4, 5]\n"
     ]
    }
   ],
   "source": [
    "L=[1,4,2,3,1,1,4,3,5,2]\n",
    "unique_list=list(set(L))\n",
    "print(unique_list)"
   ]
  },
  {
   "cell_type": "markdown",
   "id": "90f0ae38-b30a-4c96-ab43-9467860cedcd",
   "metadata": {},
   "source": [
    "### 2. Find length of longest word in given list"
   ]
  },
  {
   "cell_type": "code",
   "execution_count": 23,
   "id": "3cfeb391-fd47-4e20-91d5-825cc156dbae",
   "metadata": {},
   "outputs": [
    {
     "name": "stdin",
     "output_type": "stream",
     "text": [
      "Enter a sentence : hii, you are looking beautiful\n"
     ]
    },
    {
     "name": "stdout",
     "output_type": "stream",
     "text": [
      "Length of the longest word : 9\n"
     ]
    }
   ],
   "source": [
    "sentence=input('Enter a sentence :')\n",
    "words=sentence.split()\n",
    "max_length = max(len(word) for word in words)\n",
    "print('Length of the longest word :',max_length)"
   ]
  },
  {
   "cell_type": "markdown",
   "id": "75ca6654-ed8b-45a4-9a8f-a2686bb12d19",
   "metadata": {},
   "source": [
    "### 3. Check if given number is perfect square."
   ]
  },
  {
   "cell_type": "code",
   "execution_count": 2,
   "id": "ee1bd865-6a80-41c2-bdba-b77a7328bc6b",
   "metadata": {},
   "outputs": [
    {
     "name": "stdin",
     "output_type": "stream",
     "text": [
      "Enter a number : 64\n"
     ]
    },
    {
     "name": "stdout",
     "output_type": "stream",
     "text": [
      "Perfect Square\n"
     ]
    }
   ],
   "source": [
    "def is_perfect_square(num):\n",
    "    return int(num**0.5)**2==num\n",
    "\n",
    "num=int(input('Enter a number :'))\n",
    "if is_perfect_square(num):\n",
    "    print('Perfect Square')\n",
    "else:\n",
    "    print('Not a Perfect Square')    "
   ]
  },
  {
   "cell_type": "markdown",
   "id": "28887dfc-ba7c-497b-9806-197051a33d8c",
   "metadata": {},
   "source": [
    "### 4. Find common elements between two list"
   ]
  },
  {
   "cell_type": "code",
   "execution_count": 13,
   "id": "b505050b-b9dc-4acc-b7fb-f4d66d0678fe",
   "metadata": {},
   "outputs": [
    {
     "name": "stdout",
     "output_type": "stream",
     "text": [
      "Common Elements : [8, 4, 5, 7]\n"
     ]
    }
   ],
   "source": [
    "list1=[1,2,8,0,7,3,4,5]\n",
    "list2=[4,5,6,7,8]\n",
    "common_elements = list(set(list1).intersection(set(list2)))\n",
    "print('Common Elements :',common_elements)"
   ]
  },
  {
   "cell_type": "markdown",
   "id": "87d308d4-4f2d-4c38-9bf3-749e86ec572f",
   "metadata": {},
   "source": [
    "### 5. Capitalize first letter of each word in sentence"
   ]
  },
  {
   "cell_type": "code",
   "execution_count": 16,
   "id": "593de245-9e28-4ee1-9903-7641a317dac0",
   "metadata": {},
   "outputs": [
    {
     "name": "stdout",
     "output_type": "stream",
     "text": [
      "Hello World\n"
     ]
    }
   ],
   "source": [
    "sentence = 'hello world'\n",
    "capitalized_setence = sentence.title()\n",
    "print(capitalized_setence)"
   ]
  },
  {
   "cell_type": "code",
   "execution_count": null,
   "id": "c5d41b7d-86f0-4867-ad6a-527e05a2e24a",
   "metadata": {},
   "outputs": [],
   "source": []
  }
 ],
 "metadata": {
  "kernelspec": {
   "display_name": "Python 3 (ipykernel)",
   "language": "python",
   "name": "python3"
  },
  "language_info": {
   "codemirror_mode": {
    "name": "ipython",
    "version": 3
   },
   "file_extension": ".py",
   "mimetype": "text/x-python",
   "name": "python",
   "nbconvert_exporter": "python",
   "pygments_lexer": "ipython3",
   "version": "3.12.4"
  }
 },
 "nbformat": 4,
 "nbformat_minor": 5
}
