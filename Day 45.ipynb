{
 "cells": [
  {
   "cell_type": "markdown",
   "id": "89f6bcdf-9262-4af3-a01e-8d6623876eed",
   "metadata": {},
   "source": [
    "### 1. Find the second largest number in list"
   ]
  },
  {
   "cell_type": "code",
   "execution_count": 20,
   "id": "473fa6e0-989c-4087-8a84-b506421c11c2",
   "metadata": {},
   "outputs": [
    {
     "name": "stdout",
     "output_type": "stream",
     "text": [
      "9\n"
     ]
    }
   ],
   "source": [
    "def second_largest(numbers):\n",
    "    if len(numbers)<2:\n",
    "        return\n",
    "\n",
    "    if len(numbers)==2 and numbers[0]==number[1]:\n",
    "        return\n",
    "\n",
    "    dup_items=set(numbers)\n",
    "    unique_items=[]\n",
    "\n",
    "    for x in dup_items:\n",
    "        unique_items.append(x)\n",
    "        dup_items.add(x)\n",
    "\n",
    "    unique_items.sort()\n",
    "\n",
    "    return unique_items[-2]\n",
    "\n",
    "print(second_largest([4,9,1,0,10]))"
   ]
  },
  {
   "cell_type": "markdown",
   "id": "34cf8618-1520-40ed-8ca2-53b08b9f69f0",
   "metadata": {},
   "source": [
    "### 2. Find the second smallest number in list"
   ]
  },
  {
   "cell_type": "code",
   "execution_count": 29,
   "id": "7c51083e-33bb-41a1-8e42-954149a0b923",
   "metadata": {},
   "outputs": [
    {
     "name": "stdout",
     "output_type": "stream",
     "text": [
      "4\n"
     ]
    }
   ],
   "source": [
    "def second_largest(numbers):\n",
    "    if len(numbers)<2:\n",
    "        return\n",
    "\n",
    "    if len(numbers)==2 and numbers[0]==number[1]:\n",
    "        return\n",
    "\n",
    "    dup_items=set(numbers)\n",
    "    unique_items=[]\n",
    "\n",
    "    for x in dup_items:\n",
    "        unique_items.append(x)\n",
    "        dup_items.add(x)\n",
    "\n",
    "    unique_items.sort()\n",
    "\n",
    "    return unique_items[1]\n",
    "\n",
    "print(second_largest([4,9,5,0,10]))"
   ]
  },
  {
   "cell_type": "markdown",
   "id": "a5c9413d-6767-4ff7-8a58-907d2e4e45c5",
   "metadata": {},
   "source": [
    "### 3. Write a python programs to get the unique values from list"
   ]
  },
  {
   "cell_type": "code",
   "execution_count": 32,
   "id": "2dd1643e-bbec-451e-933e-aa5c06d8b2bf",
   "metadata": {},
   "outputs": [
    {
     "data": {
      "text/plain": [
       "[0, 4, 11, 20, 30, 6]"
      ]
     },
     "execution_count": 32,
     "metadata": {},
     "output_type": "execute_result"
    }
   ],
   "source": [
    "def unique_values(list):\n",
    "    unique_list=[]\n",
    "    for i in list:\n",
    "        if i not in unique_list:\n",
    "            unique_list.append(i)\n",
    "    return unique_list        \n",
    "\n",
    "unique_values([0,4,11,20,0,30,6,6,11])"
   ]
  },
  {
   "cell_type": "markdown",
   "id": "9b2bc2dd-90c1-467d-9dd0-7553594f2cc3",
   "metadata": {},
   "source": [
    "### 4. Write a python programs to get frequency of elements in a list"
   ]
  },
  {
   "cell_type": "code",
   "execution_count": 43,
   "id": "2676c872-44c3-4b8f-b847-a832b9d20f7c",
   "metadata": {},
   "outputs": [
    {
     "name": "stdout",
     "output_type": "stream",
     "text": [
      "Frequency of elements in list: Counter({20: 3, 10: 2, 30: 1, 60: 1})\n"
     ]
    }
   ],
   "source": [
    "import collections\n",
    "list=[10,20,10,30,20,60,20]\n",
    "ctr=collections.Counter(list)\n",
    "print('Frequency of elements in list:',ctr)"
   ]
  },
  {
   "cell_type": "markdown",
   "id": "8e9d8762-7b3b-4479-ae48-c9bcd4007c92",
   "metadata": {},
   "source": [
    "### 5. Count the number of elements in list within specified range"
   ]
  },
  {
   "cell_type": "code",
   "execution_count": 58,
   "id": "888db75f-c3f0-47dd-8315-8e36ddb29d3e",
   "metadata": {},
   "outputs": [
    {
     "name": "stdout",
     "output_type": "stream",
     "text": [
      "Elements within specified range : [1, 23, 30, 47, 5, 29, 42]\n",
      "Number of elements in list within specified range : 7\n"
     ]
    }
   ],
   "source": [
    "list=[1,84,23,55,30,47,5,29,101,75,2000,42]\n",
    "count=0\n",
    "new_list=[]\n",
    "for i in list:\n",
    "    if i in range(1,50):\n",
    "        new_list.append(i)\n",
    "        count=count+1\n",
    "print('Elements within specified range :',new_list)      \n",
    "print('Number of elements in list within specified range :',count)        "
   ]
  },
  {
   "cell_type": "code",
   "execution_count": null,
   "id": "df1e995d-14f2-42c7-b72b-996ebb46dbe9",
   "metadata": {},
   "outputs": [],
   "source": []
  }
 ],
 "metadata": {
  "kernelspec": {
   "display_name": "Python 3 (ipykernel)",
   "language": "python",
   "name": "python3"
  },
  "language_info": {
   "codemirror_mode": {
    "name": "ipython",
    "version": 3
   },
   "file_extension": ".py",
   "mimetype": "text/x-python",
   "name": "python",
   "nbconvert_exporter": "python",
   "pygments_lexer": "ipython3",
   "version": "3.12.4"
  }
 },
 "nbformat": 4,
 "nbformat_minor": 5
}
