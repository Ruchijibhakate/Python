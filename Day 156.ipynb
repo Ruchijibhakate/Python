{
 "cells": [
  {
   "cell_type": "markdown",
   "id": "7b8c2f93-4d0c-466f-b3df-7e4896956705",
   "metadata": {},
   "source": [
    "### 1. Get smallest number in list."
   ]
  },
  {
   "cell_type": "code",
   "execution_count": 4,
   "id": "bdf56018-a292-4f0d-92c4-3bfd68b4bd80",
   "metadata": {},
   "outputs": [
    {
     "name": "stdout",
     "output_type": "stream",
     "text": [
      "-5\n"
     ]
    }
   ],
   "source": [
    "List1=[45,7,-5,10,50,38]\n",
    "min=List1[0]\n",
    "for i in List1:\n",
    "    if i<min:\n",
    "        min=i\n",
    "print(min)        "
   ]
  },
  {
   "cell_type": "code",
   "execution_count": null,
   "id": "b29f7967-accf-46bc-82a9-a66d44b37c76",
   "metadata": {},
   "outputs": [],
   "source": []
  }
 ],
 "metadata": {
  "kernelspec": {
   "display_name": "Python 3 (ipykernel)",
   "language": "python",
   "name": "python3"
  },
  "language_info": {
   "codemirror_mode": {
    "name": "ipython",
    "version": 3
   },
   "file_extension": ".py",
   "mimetype": "text/x-python",
   "name": "python",
   "nbconvert_exporter": "python",
   "pygments_lexer": "ipython3",
   "version": "3.12.4"
  }
 },
 "nbformat": 4,
 "nbformat_minor": 5
}
