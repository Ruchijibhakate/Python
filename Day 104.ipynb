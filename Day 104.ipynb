{
 "cells": [
  {
   "cell_type": "markdown",
   "id": "ae4d5a73-398b-4317-886d-ac9bdc25dfab",
   "metadata": {},
   "source": [
    "### 1. Print Character pattern"
   ]
  },
  {
   "cell_type": "code",
   "execution_count": 2,
   "id": "a40f403b-1358-43a1-9811-655ec4badac5",
   "metadata": {},
   "outputs": [
    {
     "name": "stdout",
     "output_type": "stream",
     "text": [
      "E \n",
      "D D \n",
      "C C C \n",
      "B B B B \n",
      "A A A A A \n"
     ]
    }
   ],
   "source": [
    "n=5\n",
    "p=69\n",
    "for i in range(1,n+1):\n",
    "    for j in range(1,i+1):\n",
    "        print(chr(p),end=' ')\n",
    "    p=p-1\n",
    "    print()"
   ]
  },
  {
   "cell_type": "markdown",
   "id": "37304736-a196-46c1-b40d-ae427e10d481",
   "metadata": {},
   "source": [
    "### 2. Print Character Pattern"
   ]
  },
  {
   "cell_type": "code",
   "execution_count": 14,
   "id": "eb0eee75-fe05-40c1-bb4a-9c7d8d6c6cd9",
   "metadata": {},
   "outputs": [
    {
     "name": "stdout",
     "output_type": "stream",
     "text": [
      "a \n",
      "c c \n",
      "e e e \n",
      "g g g g \n",
      "i i i i i \n"
     ]
    }
   ],
   "source": [
    "n=5\n",
    "p=97\n",
    "for i in range(1,n+1):\n",
    "    for j in range(1,i+1):\n",
    "        print(chr(p),end=' ')\n",
    "    p=p+2\n",
    "    print()"
   ]
  },
  {
   "cell_type": "code",
   "execution_count": null,
   "id": "c8d6dc24-ec10-4986-990d-ad12ebd19d60",
   "metadata": {},
   "outputs": [],
   "source": []
  }
 ],
 "metadata": {
  "kernelspec": {
   "display_name": "Python 3 (ipykernel)",
   "language": "python",
   "name": "python3"
  },
  "language_info": {
   "codemirror_mode": {
    "name": "ipython",
    "version": 3
   },
   "file_extension": ".py",
   "mimetype": "text/x-python",
   "name": "python",
   "nbconvert_exporter": "python",
   "pygments_lexer": "ipython3",
   "version": "3.12.4"
  }
 },
 "nbformat": 4,
 "nbformat_minor": 5
}
