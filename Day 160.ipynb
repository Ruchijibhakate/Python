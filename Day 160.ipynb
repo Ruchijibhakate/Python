{
 "cells": [
  {
   "cell_type": "markdown",
   "id": "b7ae39b3-eb17-4f3c-b296-388640b40d28",
   "metadata": {},
   "source": [
    "### 1. Write a Python program that accepts a sequence of comma-separated numbers from the user and generates a list and a tuple of those numbers."
   ]
  },
  {
   "cell_type": "code",
   "execution_count": 2,
   "id": "0edffe70-e6e5-4821-882b-714faaba3393",
   "metadata": {},
   "outputs": [
    {
     "name": "stdin",
     "output_type": "stream",
     "text": [
      "Enter a number : 2\n",
      "Enter a number : 0\n",
      "Enter a number : 4\n",
      "Enter a number : 2\n",
      "Enter a number : 7\n"
     ]
    },
    {
     "name": "stdout",
     "output_type": "stream",
     "text": [
      "List : [2, 0, 4, 2, 7]\n",
      "Tuple : (2, 0, 4, 2, 7)\n"
     ]
    }
   ],
   "source": [
    "list1=[]\n",
    "for i in range(5):\n",
    "    num=int(input('Enter a number :'))\n",
    "    list1.append(num)\n",
    "tuple1=tuple(list1)\n",
    "print('List :',list1)\n",
    "print('Tuple :',tuple1)"
   ]
  },
  {
   "cell_type": "markdown",
   "id": "d358fa7e-9c9e-481d-a61d-2a7d32aec7b6",
   "metadata": {},
   "source": [
    "### 2. Write a Python program that accepts a filename from the user and prints the extension of the file.\n"
   ]
  },
  {
   "cell_type": "code",
   "execution_count": 6,
   "id": "5c4c68e6-baa8-4293-96ee-f3e7e7939b28",
   "metadata": {},
   "outputs": [
    {
     "name": "stdin",
     "output_type": "stream",
     "text": [
      "Enter a file name : abc.java\n"
     ]
    },
    {
     "name": "stdout",
     "output_type": "stream",
     "text": [
      "java\n"
     ]
    }
   ],
   "source": [
    "file_name=input('Enter a file name :')\n",
    "file_extension=file_name.split('.')\n",
    "print(file_extension[-1])"
   ]
  },
  {
   "cell_type": "code",
   "execution_count": null,
   "id": "74717848-e9f6-48de-8302-574eb35b1bb7",
   "metadata": {},
   "outputs": [],
   "source": []
  }
 ],
 "metadata": {
  "kernelspec": {
   "display_name": "Python 3 (ipykernel)",
   "language": "python",
   "name": "python3"
  },
  "language_info": {
   "codemirror_mode": {
    "name": "ipython",
    "version": 3
   },
   "file_extension": ".py",
   "mimetype": "text/x-python",
   "name": "python",
   "nbconvert_exporter": "python",
   "pygments_lexer": "ipython3",
   "version": "3.12.4"
  }
 },
 "nbformat": 4,
 "nbformat_minor": 5
}
