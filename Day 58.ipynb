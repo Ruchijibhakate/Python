{
 "cells": [
  {
   "cell_type": "markdown",
   "id": "c35e4da6-90e7-4ec2-9743-633705390fee",
   "metadata": {},
   "source": [
    "### 1. Print the first 10 natural numbers using for loop"
   ]
  },
  {
   "cell_type": "code",
   "execution_count": 2,
   "id": "33ed75e1-be8c-4485-a9f7-0c7455f3ed7e",
   "metadata": {},
   "outputs": [
    {
     "name": "stdout",
     "output_type": "stream",
     "text": [
      "1\n",
      "2\n",
      "3\n",
      "4\n",
      "5\n",
      "6\n",
      "7\n",
      "8\n",
      "9\n",
      "10\n"
     ]
    }
   ],
   "source": [
    "for i in range(1,11,1):\n",
    "    print(i)"
   ]
  },
  {
   "cell_type": "markdown",
   "id": "37bfc0f1-5228-4482-841c-a77c3cef46f4",
   "metadata": {},
   "source": [
    "### 2. Print all even numbers within given range."
   ]
  },
  {
   "cell_type": "code",
   "execution_count": 8,
   "id": "3b2248b1-57ce-4fb5-adf6-0bd87cf9217d",
   "metadata": {},
   "outputs": [
    {
     "name": "stdout",
     "output_type": "stream",
     "text": [
      "All the Even Number:\n",
      "2\n",
      "4\n",
      "6\n",
      "8\n",
      "10\n",
      "12\n",
      "14\n",
      "16\n",
      "18\n",
      "20\n",
      "22\n",
      "24\n"
     ]
    }
   ],
   "source": [
    "print('All the Even Number:')\n",
    "for i in range(1,25):\n",
    "    if i%2==0:\n",
    "        print(i)"
   ]
  },
  {
   "cell_type": "markdown",
   "id": "6f4d8c47-3e4a-4b02-8c12-e16812927b2f",
   "metadata": {},
   "source": [
    "### 3. WAP to calculate sum of all numbers from 1 to given number"
   ]
  },
  {
   "cell_type": "code",
   "execution_count": 16,
   "id": "d40952e9-ea13-4a16-a8bc-1f631c83fbd9",
   "metadata": {},
   "outputs": [
    {
     "name": "stdin",
     "output_type": "stream",
     "text": [
      "Enter a Number: 40\n"
     ]
    },
    {
     "name": "stdout",
     "output_type": "stream",
     "text": [
      "Sum of all numbers is : 820\n"
     ]
    }
   ],
   "source": [
    "num=int(input('Enter a Number:'))\n",
    "sum=0\n",
    "for i in range(1,num+1):\n",
    "    sum=sum+i\n",
    "print('Sum of all numbers is :',sum)    "
   ]
  },
  {
   "cell_type": "markdown",
   "id": "93eac37a-cb14-46b2-9720-008960bff30f",
   "metadata": {},
   "source": [
    "### 4. WAP to find sum of all odd numbers within given range."
   ]
  },
  {
   "cell_type": "code",
   "execution_count": 25,
   "id": "4c2c3b39-cc47-40d8-9bfc-685259f841bf",
   "metadata": {},
   "outputs": [
    {
     "name": "stdout",
     "output_type": "stream",
     "text": [
      "Sum of all Odd numbers is : 625\n"
     ]
    }
   ],
   "source": [
    "sum=0\n",
    "for i in range(1,50):\n",
    "    if i%2!=0:\n",
    "        sum=sum+i\n",
    "print('Sum of all Odd numbers is :',sum)        "
   ]
  },
  {
   "cell_type": "markdown",
   "id": "e6396a34-acc5-46bb-9f48-1b1ac82aa26c",
   "metadata": {},
   "source": [
    "### 5. WAP to print Multiplication table of given number"
   ]
  },
  {
   "cell_type": "code",
   "execution_count": 28,
   "id": "64d5a0d0-a44a-4f80-a7c4-e171b2ac0bfa",
   "metadata": {},
   "outputs": [
    {
     "name": "stdin",
     "output_type": "stream",
     "text": [
      "Enter a number : 5\n"
     ]
    },
    {
     "name": "stdout",
     "output_type": "stream",
     "text": [
      "5\n",
      "10\n",
      "15\n",
      "20\n",
      "25\n",
      "30\n",
      "35\n",
      "40\n",
      "45\n",
      "50\n"
     ]
    }
   ],
   "source": [
    "num=int(input('Enter a number :'))\n",
    "for i in range(1,11):\n",
    "    print(num*i)"
   ]
  },
  {
   "cell_type": "code",
   "execution_count": null,
   "id": "1a0bb986-40d0-4288-9465-b3ef14beee93",
   "metadata": {},
   "outputs": [],
   "source": []
  }
 ],
 "metadata": {
  "kernelspec": {
   "display_name": "Python 3 (ipykernel)",
   "language": "python",
   "name": "python3"
  },
  "language_info": {
   "codemirror_mode": {
    "name": "ipython",
    "version": 3
   },
   "file_extension": ".py",
   "mimetype": "text/x-python",
   "name": "python",
   "nbconvert_exporter": "python",
   "pygments_lexer": "ipython3",
   "version": "3.12.4"
  }
 },
 "nbformat": 4,
 "nbformat_minor": 5
}
