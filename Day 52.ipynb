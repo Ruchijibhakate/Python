{
 "cells": [
  {
   "cell_type": "markdown",
   "id": "48dfd034-88c4-4327-9f27-2f6ef4353119",
   "metadata": {},
   "source": [
    "### 1. Print Pattern"
   ]
  },
  {
   "cell_type": "code",
   "execution_count": 4,
   "id": "ce31c036-f6a8-48b6-8ea5-ebf05a3241b4",
   "metadata": {},
   "outputs": [
    {
     "name": "stdout",
     "output_type": "stream",
     "text": [
      "1 \n",
      "2 4 \n",
      "3 6 9 \n",
      "4 8 12 16 \n",
      "5 10 15 20 25 \n",
      "6 12 18 24 30 36 \n",
      "7 14 21 28 35 42 49 \n",
      "8 16 24 32 40 48 56 64 \n",
      "9 18 27 36 45 54 63 72 81 \n",
      "10 20 30 40 50 60 70 80 90 100 \n"
     ]
    }
   ],
   "source": [
    "for row in range(1,11):\n",
    "    for col in range(1,row+1):\n",
    "        print(row*col,end=' ')\n",
    "    print()    "
   ]
  },
  {
   "cell_type": "markdown",
   "id": "06f21f38-b3ba-446c-8001-387a95a5bb06",
   "metadata": {},
   "source": [
    "### 2. Print Pattern"
   ]
  },
  {
   "cell_type": "code",
   "execution_count": 15,
   "id": "42c16933-f733-4050-bf61-cd9a5027d40c",
   "metadata": {},
   "outputs": [
    {
     "name": "stdout",
     "output_type": "stream",
     "text": [
      "1 \n",
      "2 1 \n",
      "4 2 1 \n",
      "8 4 2 1 \n",
      "16 8 4 2 1 \n",
      "32 16 8 4 2 1 \n",
      "64 32 16 8 4 2 1 \n",
      "128 64 32 16 8 4 2 1 \n"
     ]
    }
   ],
   "source": [
    "rows=9\n",
    "for i in range(1,rows):\n",
    "    for  j in range(-1+i,-1,-1):\n",
    "        print(2**j, end=' ')\n",
    "    print()     "
   ]
  },
  {
   "cell_type": "markdown",
   "id": "caafa1f7-9804-4a9e-9557-d451f5ad3726",
   "metadata": {},
   "source": [
    "### 3.Print Pattern"
   ]
  },
  {
   "cell_type": "code",
   "execution_count": 32,
   "id": "b4312258-832f-4b08-af6d-5307f5f4d946",
   "metadata": {},
   "outputs": [
    {
     "name": "stdout",
     "output_type": "stream",
     "text": [
      "\n",
      "1 \n",
      "2 3 \n",
      "4 5 6 \n",
      "7 8 9 10 \n"
     ]
    }
   ],
   "source": [
    "current_num=1\n",
    "stop=1\n",
    "rows=5\n",
    "\n",
    "for i in range(rows):\n",
    "    for j in range(1,stop):\n",
    "        print(current_num, end=' ')\n",
    "        current_num+=1\n",
    "    print()\n",
    "    stop+=1"
   ]
  },
  {
   "cell_type": "markdown",
   "id": "0f067306-2037-4ef4-9ce6-0a27ba572386",
   "metadata": {},
   "source": [
    "#### 4. Print Pattern"
   ]
  },
  {
   "cell_type": "code",
   "execution_count": 26,
   "id": "d369df8a-c702-441c-87d0-54bd632e90d4",
   "metadata": {},
   "outputs": [
    {
     "name": "stdout",
     "output_type": "stream",
     "text": [
      "1 \n",
      "2 3 4 \n",
      "5 6 7 8 9 \n"
     ]
    }
   ],
   "source": [
    "current_num=1\n",
    "stop=2\n",
    "rows=3\n",
    "\n",
    "for i in range(rows):\n",
    "    for j in range(1,stop):\n",
    "        print(current_num,end=' ')\n",
    "        current_num+=1\n",
    "    print()    \n",
    "    stop+=2"
   ]
  },
  {
   "cell_type": "markdown",
   "id": "3523d9af-121e-463c-9228-a7f180627327",
   "metadata": {},
   "source": [
    "### 5.Print Pattern"
   ]
  },
  {
   "cell_type": "code",
   "execution_count": null,
   "id": "ed28bb40-1b73-4c7a-92a1-a458e045a9ce",
   "metadata": {},
   "outputs": [],
   "source": []
  }
 ],
 "metadata": {
  "kernelspec": {
   "display_name": "Python 3 (ipykernel)",
   "language": "python",
   "name": "python3"
  },
  "language_info": {
   "codemirror_mode": {
    "name": "ipython",
    "version": 3
   },
   "file_extension": ".py",
   "mimetype": "text/x-python",
   "name": "python",
   "nbconvert_exporter": "python",
   "pygments_lexer": "ipython3",
   "version": "3.12.4"
  }
 },
 "nbformat": 4,
 "nbformat_minor": 5
}
