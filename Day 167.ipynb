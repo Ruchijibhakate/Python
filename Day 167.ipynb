{
 "cells": [
  {
   "cell_type": "markdown",
   "id": "81f7a737-c4b7-4e7a-a4f5-7574e473d46a",
   "metadata": {},
   "source": [
    "### 1. Write a Python program that returns a string that is n (non-negative integer) copies of a given string."
   ]
  },
  {
   "cell_type": "code",
   "execution_count": 2,
   "id": "a4c6ec4e-4e6b-4e94-9e76-ede9b98cdc21",
   "metadata": {},
   "outputs": [
    {
     "name": "stdout",
     "output_type": "stream",
     "text": [
      "abcabc\n",
      ".py.py.py\n"
     ]
    }
   ],
   "source": [
    "# Define a function named \"larger_string\" that takes two parameters, \"text\" and \"n\"\n",
    "def larger_string(text, n):\n",
    "    # Initialize an empty string variable named \"result\"\n",
    "    result = \"\"\n",
    "\n",
    "    # Use a for loop to repeat the \"text\" \"n\" times and concatenate it to the \"result\"\n",
    "    for i in range(n):\n",
    "        result = result + text\n",
    "\n",
    "    # Return the final \"result\" string\n",
    "    return result\n",
    "\n",
    "# Call the \"larger_string\" function with the arguments 'abc' and 2, then print the result\n",
    "print(larger_string('abc', 2))\n",
    "\n",
    "# Call the \"larger_string\" function with the arguments '.py' and 3, then print the result\n",
    "print(larger_string('.py', 3))"
   ]
  },
  {
   "cell_type": "code",
   "execution_count": null,
   "id": "4f682ae5-e406-41e9-936e-84e4f47bf064",
   "metadata": {},
   "outputs": [],
   "source": []
  }
 ],
 "metadata": {
  "kernelspec": {
   "display_name": "Python 3 (ipykernel)",
   "language": "python",
   "name": "python3"
  },
  "language_info": {
   "codemirror_mode": {
    "name": "ipython",
    "version": 3
   },
   "file_extension": ".py",
   "mimetype": "text/x-python",
   "name": "python",
   "nbconvert_exporter": "python",
   "pygments_lexer": "ipython3",
   "version": "3.12.4"
  }
 },
 "nbformat": 4,
 "nbformat_minor": 5
}
