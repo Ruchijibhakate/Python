{
 "cells": [
  {
   "cell_type": "markdown",
   "id": "87e086f4-e934-41c6-8d9b-9c6d6995e701",
   "metadata": {},
   "source": [
    "### 1. WAP to print the following series"
   ]
  },
  {
   "cell_type": "code",
   "execution_count": 4,
   "id": "7c676ac4-77da-4779-b3f1-570b229b8d51",
   "metadata": {},
   "outputs": [
    {
     "name": "stdin",
     "output_type": "stream",
     "text": [
      "Enter a number : 10\n"
     ]
    },
    {
     "name": "stdout",
     "output_type": "stream",
     "text": [
      "1\n",
      "4\n",
      "9\n",
      "16\n",
      "25\n",
      "36\n",
      "49\n",
      "64\n",
      "81\n",
      "100\n"
     ]
    }
   ],
   "source": [
    "# 1 4 9 16 25 ---- n\n",
    "\n",
    "n=int(input('Enter a number :'))\n",
    "i=1\n",
    "while(i<=n):\n",
    "    print(i**2)\n",
    "    i=i+1"
   ]
  },
  {
   "cell_type": "markdown",
   "id": "20ed62a2-49bb-4bb1-9232-331a22239d20",
   "metadata": {},
   "source": [
    "### 2. WAP to find the sum of following series (accept value of x and n from user)"
   ]
  },
  {
   "cell_type": "code",
   "execution_count": 3,
   "id": "5cd94c97-c567-41a1-b00d-c23c01defa9d",
   "metadata": {},
   "outputs": [
    {
     "name": "stdin",
     "output_type": "stream",
     "text": [
      "Enter the value of n: 5\n",
      "Enter the value of x: 3\n"
     ]
    },
    {
     "name": "stdout",
     "output_type": "stream",
     "text": [
      "16.375\n"
     ]
    }
   ],
   "source": [
    "# 1+(x/1!)+(x^2/2!)+---(x^n/n!)\n",
    "\n",
    "n=int(input('Enter the value of n:'))\n",
    "x=int(input('Enter the value of x:'))\n",
    "fact=1\n",
    "i=1\n",
    "sum=1\n",
    "while(i<n):\n",
    "    fact=fact*i\n",
    "    sum=sum+((x**i)/fact)\n",
    "    i=i+1\n",
    "print(sum)    "
   ]
  },
  {
   "cell_type": "markdown",
   "id": "965da743-0210-4bf3-9b2f-8b2090748682",
   "metadata": {},
   "source": [
    "### 3. WAP to print following series"
   ]
  },
  {
   "cell_type": "code",
   "execution_count": 11,
   "id": "2d836641-65c9-4d29-b909-09538a13e4f3",
   "metadata": {},
   "outputs": [
    {
     "name": "stdin",
     "output_type": "stream",
     "text": [
      "Enter a value of n: 5\n"
     ]
    },
    {
     "name": "stdout",
     "output_type": "stream",
     "text": [
      "2,22,222,2222,22222,"
     ]
    }
   ],
   "source": [
    "# 2,22,222,2222---n terms\n",
    "n=int(input('Enter a value of n:'))\n",
    "str='2'\n",
    "i=1\n",
    "while(i<=n):\n",
    "    print(str*i,end=',')\n",
    "    i=i+1\n",
    "    "
   ]
  },
  {
   "cell_type": "markdown",
   "id": "29f80d1c-35ab-46a2-bea9-85b2620a941c",
   "metadata": {},
   "source": [
    "### 4. WAP to display all the numbers which are divisible by 13 but not by 3 between 100 and 500"
   ]
  },
  {
   "cell_type": "code",
   "execution_count": 16,
   "id": "43366e22-0cd4-4f02-b4b8-a63256f60d4a",
   "metadata": {},
   "outputs": [
    {
     "name": "stdout",
     "output_type": "stream",
     "text": [
      "104\n",
      "130\n",
      "143\n",
      "169\n",
      "182\n",
      "208\n",
      "221\n",
      "247\n",
      "260\n",
      "286\n",
      "299\n",
      "325\n",
      "338\n",
      "364\n",
      "377\n",
      "403\n",
      "416\n",
      "442\n",
      "455\n",
      "481\n",
      "494\n"
     ]
    }
   ],
   "source": [
    "i=101\n",
    "while(i<500):\n",
    "    if (i%13==0 and i%3!=0):\n",
    "        print(i)\n",
    "    i=i+1    "
   ]
  },
  {
   "cell_type": "markdown",
   "id": "dac57dca-d959-4a35-b9a6-62c48dda6fc5",
   "metadata": {},
   "source": [
    "### 5. WAP to sum the sequence"
   ]
  },
  {
   "cell_type": "code",
   "execution_count": 37,
   "id": "42775042-3789-4ee5-8080-7a3203e4bce5",
   "metadata": {},
   "outputs": [
    {
     "name": "stdin",
     "output_type": "stream",
     "text": [
      "Enter value of n: 6\n"
     ]
    },
    {
     "name": "stdout",
     "output_type": "stream",
     "text": [
      "sum= 2.7180555555555554\n"
     ]
    }
   ],
   "source": [
    "## 1+ 1/1! + 1/2! ----1/n!\n",
    "\n",
    "n=int(input('Enter value of n:'))\n",
    "i=1\n",
    "fact=1\n",
    "sum=1\n",
    "while(i<=n):\n",
    "    fact=fact*i\n",
    "    sum=sum + (1/fact)\n",
    "    i=i+1\n",
    "print('sum=',sum)    "
   ]
  },
  {
   "cell_type": "markdown",
   "id": "6df4c302-0e4b-43e8-8f89-dbae8361c48d",
   "metadata": {},
   "source": [
    "### 6. WAP to print the pattern"
   ]
  },
  {
   "cell_type": "code",
   "execution_count": 11,
   "id": "5a78e0f8-2c27-47a2-9485-f4a1cc0ff8a2",
   "metadata": {},
   "outputs": [
    {
     "name": "stdout",
     "output_type": "stream",
     "text": [
      "0 \n",
      "2 2 \n",
      "4 4 4 \n",
      "6 6 6 6 \n",
      "8 8 8 8 8 \n"
     ]
    }
   ],
   "source": [
    "n=5\n",
    "p=0\n",
    "for i in range(0,n):\n",
    "    for j in range(i+1):\n",
    "        print(p,end=' ')\n",
    "    p=p+2    \n",
    "    print()        \n",
    "        "
   ]
  },
  {
   "cell_type": "markdown",
   "id": "26f833d3-9690-4f34-8412-a18f5d97aacb",
   "metadata": {},
   "source": [
    "### 7. WAP to print the pattern"
   ]
  },
  {
   "cell_type": "code",
   "execution_count": 14,
   "id": "0d88ab01-b969-47e2-90f0-9fe2a462c29b",
   "metadata": {},
   "outputs": [
    {
     "name": "stdout",
     "output_type": "stream",
     "text": [
      "1 \n",
      "2 2 \n",
      "1 1 1 \n",
      "2 2 2 2 \n",
      "1 1 1 1 1 \n"
     ]
    }
   ],
   "source": [
    "n=5\n",
    "for i in range(1,n+1):\n",
    "    for j in range(1,i+1):\n",
    "        if i%2!=0:\n",
    "            print('1',end=' ')\n",
    "        else:\n",
    "            print('2',end=' ')\n",
    "    print()        "
   ]
  },
  {
   "cell_type": "markdown",
   "id": "6e8398e0-2831-4092-850e-4df647754430",
   "metadata": {},
   "source": [
    "### 8. WAP to print the pattern"
   ]
  },
  {
   "cell_type": "code",
   "execution_count": 17,
   "id": "6e3c2008-4e27-4f4b-8e0f-a8962cc3e8ea",
   "metadata": {},
   "outputs": [
    {
     "name": "stdout",
     "output_type": "stream",
     "text": [
      "  # # # # # \n",
      "    $ $ $ $ \n",
      "      # # # \n",
      "        $ $ \n",
      "          # \n"
     ]
    }
   ],
   "source": [
    "n=5\n",
    "for i in range(1,n+1):\n",
    "    for j in range(1,i+1):\n",
    "        print(' ',end=' ')\n",
    "    for j in range(i,n+1):\n",
    "        if i%2!=0:\n",
    "            print('#',end=' ')\n",
    "        else:\n",
    "            print('$',end=' ')\n",
    "    print()        \n",
    "    "
   ]
  },
  {
   "cell_type": "markdown",
   "id": "b7126475-6e81-4830-8812-69d627c323f7",
   "metadata": {},
   "source": [
    "### 9. WAP to print the pattern"
   ]
  },
  {
   "cell_type": "code",
   "execution_count": 22,
   "id": "e30e125f-5ccd-48e1-babd-5b1caf20da3a",
   "metadata": {},
   "outputs": [
    {
     "name": "stdout",
     "output_type": "stream",
     "text": [
      "          a \n",
      "        b b \n",
      "      a a a \n",
      "    b b b b \n",
      "  a a a a a \n"
     ]
    }
   ],
   "source": [
    "n=5\n",
    "for i in range(1,n+1):\n",
    "    for j in range(i,n+1):\n",
    "        print(' ',end=' ')\n",
    "    for j in range(1,i+1):\n",
    "        if i%2!=0:\n",
    "            print('a',end=' ')\n",
    "        else:\n",
    "            print('b',end=' ')\n",
    "    print()        "
   ]
  },
  {
   "cell_type": "markdown",
   "id": "24c7c477-b3c1-4805-8ba7-7697a40533a0",
   "metadata": {},
   "source": [
    "### 10. WAP to print the pattern¶"
   ]
  },
  {
   "cell_type": "code",
   "execution_count": 31,
   "id": "d1cb50c2-4517-4287-8132-df9d2c0b2edf",
   "metadata": {},
   "outputs": [
    {
     "name": "stdout",
     "output_type": "stream",
     "text": [
      "          a \n",
      "        b b b \n",
      "      a a a a a \n",
      "    b b b b b b b \n",
      "  a a a a a a a a a \n"
     ]
    }
   ],
   "source": [
    "n=5\n",
    "for i in range(1,n+1):\n",
    "    for j in range(i,n+1):\n",
    "        print(' ',end=' ')\n",
    "    for j in range(1,i+1):\n",
    "        if i%2!=0:\n",
    "            print('a',end=' ')\n",
    "        else:\n",
    "            print('b',end=' ')\n",
    "\n",
    "    for j in range(2,i+1):\n",
    "       \n",
    "        if i%2!=0:\n",
    "            print('a',end=' ')\n",
    "        else:\n",
    "            print('b',end=' ')\n",
    "\n",
    "    print()        "
   ]
  },
  {
   "cell_type": "code",
   "execution_count": null,
   "id": "d8338884-9888-4fcb-a8ad-ae1ee5f3a789",
   "metadata": {},
   "outputs": [],
   "source": []
  }
 ],
 "metadata": {
  "kernelspec": {
   "display_name": "Python 3 (ipykernel)",
   "language": "python",
   "name": "python3"
  },
  "language_info": {
   "codemirror_mode": {
    "name": "ipython",
    "version": 3
   },
   "file_extension": ".py",
   "mimetype": "text/x-python",
   "name": "python",
   "nbconvert_exporter": "python",
   "pygments_lexer": "ipython3",
   "version": "3.12.4"
  }
 },
 "nbformat": 4,
 "nbformat_minor": 5
}
