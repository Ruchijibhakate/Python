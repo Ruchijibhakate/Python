{
 "cells": [
  {
   "cell_type": "markdown",
   "id": "22ab82cf-83bd-4fb4-b00e-9ca1cfe75190",
   "metadata": {},
   "source": [
    "### Write a Python program to sum three given integers. However, if two values are equal, the sum will be zero.\n"
   ]
  },
  {
   "cell_type": "code",
   "execution_count": 4,
   "id": "fb6a20a3-ed3b-412a-a3c3-d8acb3c9b83d",
   "metadata": {},
   "outputs": [
    {
     "name": "stdin",
     "output_type": "stream",
     "text": [
      "Enter a first number : 8\n",
      "Enter a second number : 9\n",
      "Enter a third number : 10\n"
     ]
    },
    {
     "name": "stdout",
     "output_type": "stream",
     "text": [
      "Sum of Three Numbers : 27\n"
     ]
    }
   ],
   "source": [
    "num1=int(input('Enter a first number :'))\n",
    "num2=int(input('Enter a second number :'))\n",
    "num3=int(input('Enter a third number :'))\n",
    "\n",
    "if num1==num2 or num2==num3 or num1==num3:\n",
    "    sum=0\n",
    "else:\n",
    "    sum=num1+num2+num3\n",
    "\n",
    "print('Sum of Three Numbers :',sum)"
   ]
  },
  {
   "cell_type": "code",
   "execution_count": null,
   "id": "624ea004-4bd6-4fb5-8a18-dda054879b9c",
   "metadata": {},
   "outputs": [],
   "source": []
  }
 ],
 "metadata": {
  "kernelspec": {
   "display_name": "Python 3 (ipykernel)",
   "language": "python",
   "name": "python3"
  },
  "language_info": {
   "codemirror_mode": {
    "name": "ipython",
    "version": 3
   },
   "file_extension": ".py",
   "mimetype": "text/x-python",
   "name": "python",
   "nbconvert_exporter": "python",
   "pygments_lexer": "ipython3",
   "version": "3.12.4"
  }
 },
 "nbformat": 4,
 "nbformat_minor": 5
}
