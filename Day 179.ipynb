{
 "cells": [
  {
   "cell_type": "markdown",
   "id": "59aa2df0-11d3-48b2-94e4-f0187efd49a2",
   "metadata": {},
   "source": [
    "### Write a Python program that concatenates all elements in a list into a string and returns it."
   ]
  },
  {
   "cell_type": "code",
   "execution_count": 4,
   "id": "3e460112-42a3-4a65-a2d6-a52ad9390f4e",
   "metadata": {},
   "outputs": [
    {
     "name": "stdout",
     "output_type": "stream",
     "text": [
      "126037\n"
     ]
    }
   ],
   "source": [
    "result=\"\"\n",
    "list1=[1,2,6,0,37]\n",
    "for i in list1:\n",
    "    result=result+str(i)\n",
    "print(result)    "
   ]
  },
  {
   "cell_type": "code",
   "execution_count": null,
   "id": "2e8f63e8-24e6-47f7-8227-af7b758a122f",
   "metadata": {},
   "outputs": [],
   "source": []
  }
 ],
 "metadata": {
  "kernelspec": {
   "display_name": "Python 3 (ipykernel)",
   "language": "python",
   "name": "python3"
  },
  "language_info": {
   "codemirror_mode": {
    "name": "ipython",
    "version": 3
   },
   "file_extension": ".py",
   "mimetype": "text/x-python",
   "name": "python",
   "nbconvert_exporter": "python",
   "pygments_lexer": "ipython3",
   "version": "3.12.4"
  }
 },
 "nbformat": 4,
 "nbformat_minor": 5
}
