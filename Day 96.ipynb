{
 "cells": [
  {
   "cell_type": "markdown",
   "id": "21d0032c-bae2-4a1b-880f-7e59d6c84faa",
   "metadata": {},
   "source": [
    "### 1. Print Square Parallel Bar Pattern"
   ]
  },
  {
   "cell_type": "code",
   "execution_count": 8,
   "id": "41f93576-ed5c-486d-bdd2-e6dff3c30c35",
   "metadata": {},
   "outputs": [
    {
     "name": "stdout",
     "output_type": "stream",
     "text": [
      "*       * \n",
      "*       * \n",
      "*       * \n",
      "*       * \n",
      "*       * \n"
     ]
    }
   ],
   "source": [
    "n=5\n",
    "for i in range(n):\n",
    "    for j in range(n):\n",
    "        if (j==0 or j==n-1):\n",
    "            print(\"*\",end=' ')\n",
    "        else:\n",
    "            print(' ',end=' ')\n",
    "    print()        "
   ]
  },
  {
   "cell_type": "markdown",
   "id": "fff63a6f-4751-48f4-ab26-4a2d9e9eac9e",
   "metadata": {},
   "source": [
    "### 2. Print Square Plus Pattern"
   ]
  },
  {
   "cell_type": "code",
   "execution_count": 14,
   "id": "d469af71-7aef-40a7-9355-f8754eaac6e0",
   "metadata": {},
   "outputs": [
    {
     "name": "stdout",
     "output_type": "stream",
     "text": [
      "    *     \n",
      "    *     \n",
      "* * * * * \n",
      "    *     \n",
      "    *     \n"
     ]
    }
   ],
   "source": [
    "n=5\n",
    "for i in range(n):\n",
    "    for j in range(n):\n",
    "        if (i==2 or j==2):\n",
    "            print(\"*\",end=' ')\n",
    "        else:\n",
    "            print(' ',end=' ')\n",
    "    print()        "
   ]
  },
  {
   "cell_type": "code",
   "execution_count": null,
   "id": "0ab5033d-faea-4f63-a8a5-5290198a08a6",
   "metadata": {},
   "outputs": [],
   "source": []
  }
 ],
 "metadata": {
  "kernelspec": {
   "display_name": "Python 3 (ipykernel)",
   "language": "python",
   "name": "python3"
  },
  "language_info": {
   "codemirror_mode": {
    "name": "ipython",
    "version": 3
   },
   "file_extension": ".py",
   "mimetype": "text/x-python",
   "name": "python",
   "nbconvert_exporter": "python",
   "pygments_lexer": "ipython3",
   "version": "3.12.4"
  }
 },
 "nbformat": 4,
 "nbformat_minor": 5
}
