{
 "cells": [
  {
   "cell_type": "markdown",
   "id": "959db6a7-c217-4d73-8b9f-8dc0b204df6b",
   "metadata": {},
   "source": [
    "### 1. Character Pattern Program."
   ]
  },
  {
   "cell_type": "code",
   "execution_count": 20,
   "id": "0ffdc36c-94c9-4cf7-af99-0477797ed569",
   "metadata": {},
   "outputs": [
    {
     "name": "stdout",
     "output_type": "stream",
     "text": [
      "          A \n",
      "        A B A \n",
      "      A B C B A \n",
      "    A B C D C B A \n",
      "  A B C D E D C B A \n"
     ]
    }
   ],
   "source": [
    "n=5\n",
    "for i in range(1,n+1):\n",
    "    p=65 \n",
    "    for j in range(i,n+1):\n",
    "        print(' ',end=' ')\n",
    "    for j in range(1,i):\n",
    "        print(chr(p),end=' ')\n",
    "        p=p+1 \n",
    "    for j in range(1,i+1):\n",
    "        print(chr(p),end=' ')\n",
    "        p=p-1\n",
    "    print()    "
   ]
  },
  {
   "cell_type": "code",
   "execution_count": null,
   "id": "187205cf-2265-4524-bf20-a42a5d282cf0",
   "metadata": {},
   "outputs": [],
   "source": []
  }
 ],
 "metadata": {
  "kernelspec": {
   "display_name": "Python 3 (ipykernel)",
   "language": "python",
   "name": "python3"
  },
  "language_info": {
   "codemirror_mode": {
    "name": "ipython",
    "version": 3
   },
   "file_extension": ".py",
   "mimetype": "text/x-python",
   "name": "python",
   "nbconvert_exporter": "python",
   "pygments_lexer": "ipython3",
   "version": "3.12.4"
  }
 },
 "nbformat": 4,
 "nbformat_minor": 5
}
