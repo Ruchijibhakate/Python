{
 "cells": [
  {
   "cell_type": "markdown",
   "id": "211c9acb-f3c3-4668-89a4-2d8ee828f00f",
   "metadata": {},
   "source": [
    "### 1. Print increasing Alphabet Pattern"
   ]
  },
  {
   "cell_type": "code",
   "execution_count": 2,
   "id": "00dfcce6-b0e6-4be5-b74b-58f0a445b128",
   "metadata": {},
   "outputs": [
    {
     "name": "stdout",
     "output_type": "stream",
     "text": [
      "A \n",
      "B B \n",
      "C C C \n",
      "D D D D \n",
      "E E E E E \n"
     ]
    }
   ],
   "source": [
    "n=5\n",
    "p=65\n",
    "for i in range(1,n+1):\n",
    "    for j in range(1,i+1):\n",
    "        print(chr(p),end=' ')\n",
    "    p=p+1\n",
    "    print()"
   ]
  },
  {
   "cell_type": "markdown",
   "id": "547b7952-e426-466d-8f8f-b172df2a03d4",
   "metadata": {},
   "source": [
    "### 2. Print decreasing Alphabet Pattern"
   ]
  },
  {
   "cell_type": "code",
   "execution_count": 8,
   "id": "4a876eb9-a878-44b5-aa45-5556219c540b",
   "metadata": {},
   "outputs": [
    {
     "name": "stdout",
     "output_type": "stream",
     "text": [
      "A A A A A \n",
      "B B B B \n",
      "C C C \n",
      "D D \n",
      "E \n"
     ]
    }
   ],
   "source": [
    "n=5\n",
    "p=ord('A')\n",
    "for i in range(1,n+1):\n",
    "    for j in range(i,n+1):\n",
    "        print(chr(p),end=' ')\n",
    "    p=p+1\n",
    "    print()    "
   ]
  },
  {
   "cell_type": "code",
   "execution_count": null,
   "id": "48941ff3-9028-42cd-9699-d1d1007ca3b2",
   "metadata": {},
   "outputs": [],
   "source": []
  }
 ],
 "metadata": {
  "kernelspec": {
   "display_name": "Python 3 (ipykernel)",
   "language": "python",
   "name": "python3"
  },
  "language_info": {
   "codemirror_mode": {
    "name": "ipython",
    "version": 3
   },
   "file_extension": ".py",
   "mimetype": "text/x-python",
   "name": "python",
   "nbconvert_exporter": "python",
   "pygments_lexer": "ipython3",
   "version": "3.12.4"
  }
 },
 "nbformat": 4,
 "nbformat_minor": 5
}
