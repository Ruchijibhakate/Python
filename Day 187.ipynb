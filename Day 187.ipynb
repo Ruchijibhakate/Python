{
 "cells": [
  {
   "cell_type": "markdown",
   "id": "96b0f993-5d71-49f0-bbc6-b019eebe4ccf",
   "metadata": {},
   "source": [
    "### Write program to check whether a number is Palindrome or not"
   ]
  },
  {
   "cell_type": "code",
   "execution_count": 8,
   "id": "9c380be6-836f-4ed0-a53c-0dcf52e1879e",
   "metadata": {},
   "outputs": [
    {
     "name": "stdin",
     "output_type": "stream",
     "text": [
      "Enter a Number : 12321\n"
     ]
    },
    {
     "name": "stdout",
     "output_type": "stream",
     "text": [
      "Palindrome\n"
     ]
    }
   ],
   "source": [
    "num=int(input('Enter a Number :'))\n",
    "temp=num\n",
    "res=0\n",
    "while temp>0:\n",
    "    rem=temp%10\n",
    "    res=(res*10)+rem\n",
    "    temp=temp//10\n",
    "\n",
    "if res==num:\n",
    "    print(\"Palindrome\")\n",
    "else:\n",
    "    print('Not Palindrome')"
   ]
  },
  {
   "cell_type": "code",
   "execution_count": null,
   "id": "269a7ab7-6e57-4616-966e-832759a8d028",
   "metadata": {},
   "outputs": [],
   "source": []
  }
 ],
 "metadata": {
  "kernelspec": {
   "display_name": "Python 3 (ipykernel)",
   "language": "python",
   "name": "python3"
  },
  "language_info": {
   "codemirror_mode": {
    "name": "ipython",
    "version": 3
   },
   "file_extension": ".py",
   "mimetype": "text/x-python",
   "name": "python",
   "nbconvert_exporter": "python",
   "pygments_lexer": "ipython3",
   "version": "3.12.4"
  }
 },
 "nbformat": 4,
 "nbformat_minor": 5
}
