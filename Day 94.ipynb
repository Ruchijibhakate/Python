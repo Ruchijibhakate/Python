{
 "cells": [
  {
   "cell_type": "markdown",
   "id": "19d3c739-2b7f-4e7d-a138-97745d68c343",
   "metadata": {},
   "source": [
    "### 1. WAP to check whether string is palindrome or not"
   ]
  },
  {
   "cell_type": "code",
   "execution_count": 6,
   "id": "e9ce5eec-df43-4969-9727-054fa82b0898",
   "metadata": {},
   "outputs": [
    {
     "name": "stdin",
     "output_type": "stream",
     "text": [
      "Enter a String : racecar\n"
     ]
    },
    {
     "name": "stdout",
     "output_type": "stream",
     "text": [
      "String is Palindrome\n"
     ]
    }
   ],
   "source": [
    "str=input('Enter a String :')\n",
    "rev_str=str[::-1]\n",
    "if rev_str==str:\n",
    "    print('String is Palindrome')\n",
    "else:\n",
    "    print('String is not palindrome')"
   ]
  },
  {
   "cell_type": "markdown",
   "id": "8a020cd9-3675-47e9-868e-a8a812b64430",
   "metadata": {},
   "source": [
    "### 2.Reverse a words in given string "
   ]
  },
  {
   "cell_type": "code",
   "execution_count": 19,
   "id": "5af89991-5944-40c9-87a2-586e1e6f11a6",
   "metadata": {},
   "outputs": [
    {
     "name": "stdin",
     "output_type": "stream",
     "text": [
      "Enter a String : Hii my name is Ruchi\n"
     ]
    },
    {
     "name": "stdout",
     "output_type": "stream",
     "text": [
      "Ruchi is name my Hii\n"
     ]
    }
   ],
   "source": [
    "str=input('Enter a String :')\n",
    "rev=str.split()[::-1]\n",
    "print(\" \".join(rev))"
   ]
  },
  {
   "cell_type": "code",
   "execution_count": null,
   "id": "81e1deec-7bf5-432c-ab9b-b045400705c7",
   "metadata": {},
   "outputs": [],
   "source": []
  }
 ],
 "metadata": {
  "kernelspec": {
   "display_name": "Python 3 (ipykernel)",
   "language": "python",
   "name": "python3"
  },
  "language_info": {
   "codemirror_mode": {
    "name": "ipython",
    "version": 3
   },
   "file_extension": ".py",
   "mimetype": "text/x-python",
   "name": "python",
   "nbconvert_exporter": "python",
   "pygments_lexer": "ipython3",
   "version": "3.12.4"
  }
 },
 "nbformat": 4,
 "nbformat_minor": 5
}
