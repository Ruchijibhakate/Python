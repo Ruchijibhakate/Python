{
 "cells": [
  {
   "cell_type": "markdown",
   "id": "5782e47f-4cd2-4227-a219-0ab62b1ed196",
   "metadata": {},
   "source": [
    "### Find the index of the maximum value in a list."
   ]
  },
  {
   "cell_type": "code",
   "execution_count": 2,
   "id": "05e0f3f0-9bc8-4cb7-9df3-54b8440f7e25",
   "metadata": {},
   "outputs": [
    {
     "name": "stdout",
     "output_type": "stream",
     "text": [
      "2\n"
     ]
    }
   ],
   "source": [
    "list=[1,2,9,4,6]\n",
    "index=list.index(max(list))\n",
    "print(index)"
   ]
  },
  {
   "cell_type": "markdown",
   "id": "5a20b21a-0513-4ee4-9037-38566be520a3",
   "metadata": {},
   "source": [
    "### Count the number of elements in a list within a specific range."
   ]
  },
  {
   "cell_type": "code",
   "execution_count": 5,
   "id": "a575de3e-be0e-45af-bfb6-41111febe5fa",
   "metadata": {},
   "outputs": [
    {
     "name": "stdout",
     "output_type": "stream",
     "text": [
      "[False, True, False, False, True, True, False, False, False, False]\n"
     ]
    }
   ],
   "source": [
    "list=[8,10,4,90,33,26,0,5,71,9]\n",
    "num_element=[10<=x<=70 for x in list]\n",
    "print(num_element)"
   ]
  },
  {
   "cell_type": "code",
   "execution_count": null,
   "id": "1e08f4eb-ef6b-45f3-a063-e7f6042e9f14",
   "metadata": {},
   "outputs": [],
   "source": []
  }
 ],
 "metadata": {
  "kernelspec": {
   "display_name": "Python 3 (ipykernel)",
   "language": "python",
   "name": "python3"
  },
  "language_info": {
   "codemirror_mode": {
    "name": "ipython",
    "version": 3
   },
   "file_extension": ".py",
   "mimetype": "text/x-python",
   "name": "python",
   "nbconvert_exporter": "python",
   "pygments_lexer": "ipython3",
   "version": "3.12.4"
  }
 },
 "nbformat": 4,
 "nbformat_minor": 5
}
