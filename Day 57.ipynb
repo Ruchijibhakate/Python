{
 "cells": [
  {
   "cell_type": "markdown",
   "id": "27a1412e-2568-4a17-adc2-94f21045948c",
   "metadata": {},
   "source": [
    "### 1. Find length of string without using function."
   ]
  },
  {
   "cell_type": "code",
   "execution_count": 2,
   "id": "6398948b-cb15-46b2-bc77-b274a22b5672",
   "metadata": {},
   "outputs": [
    {
     "name": "stdout",
     "output_type": "stream",
     "text": [
      "Length of String : 12\n"
     ]
    }
   ],
   "source": [
    "str='hello world!'\n",
    "count=0\n",
    "for i in str:\n",
    "    count=count+1\n",
    "print('Length of String :',count)    "
   ]
  },
  {
   "cell_type": "markdown",
   "id": "0a530dfe-cb95-45a7-a832-232b41228aec",
   "metadata": {},
   "source": [
    "### 2. Remove unwanted spaces from string."
   ]
  },
  {
   "cell_type": "code",
   "execution_count": 13,
   "id": "dab69844-9666-4e72-a058-4c39fbf7cc33",
   "metadata": {},
   "outputs": [
    {
     "name": "stdout",
     "output_type": "stream",
     "text": [
      "Original String is : GfG is good        website\n",
      "The string after extra spacec removal : GfG is good website\n"
     ]
    }
   ],
   "source": [
    "import re\n",
    "test_str='GfG is good        website'\n",
    "print('Original String is : '+ test_str)\n",
    "res=re.sub(' +',' ',test_str)\n",
    "print('The string after extra spacec removal : ' + res)"
   ]
  },
  {
   "cell_type": "markdown",
   "id": "28c0bdba-9804-46b6-87b8-4dc72a8adecf",
   "metadata": {},
   "source": [
    "### 3. Print even length words in string."
   ]
  },
  {
   "cell_type": "code",
   "execution_count": 22,
   "id": "76f05d1f-2105-47a5-afff-578fb015126b",
   "metadata": {},
   "outputs": [
    {
     "name": "stdout",
     "output_type": "stream",
     "text": [
      "It\n",
      "is\n",
      "just\n",
      "like\n"
     ]
    }
   ],
   "source": [
    "str='It is just like a wow'\n",
    "s=str.split(' ')\n",
    "for i in s:\n",
    "    if len(i)%2==0:\n",
    "        print(i)"
   ]
  },
  {
   "cell_type": "markdown",
   "id": "aa8fca76-9913-4433-ae37-e1ed697a20ed",
   "metadata": {},
   "source": [
    "### 4. WAP to uppercase half string."
   ]
  },
  {
   "cell_type": "code",
   "execution_count": 30,
   "id": "79dc3314-0e8e-4919-a3f2-ac761bbd27c9",
   "metadata": {},
   "outputs": [
    {
     "name": "stdout",
     "output_type": "stream",
     "text": [
      "The Original String is : maharashtra\n",
      "The resultant string:  maharASHTRA\n"
     ]
    }
   ],
   "source": [
    "str='maharashtra'\n",
    "print('The Original String is : '+ str)\n",
    "hlf_idx=len(str)//2\n",
    "res=' '\n",
    "for idx in range(len(str)):\n",
    "    if idx>=hlf_idx:\n",
    "        res=res+str[idx].upper()\n",
    "    else:\n",
    "        res=res+str[idx]\n",
    "\n",
    "print('The resultant string: ' + res)"
   ]
  },
  {
   "cell_type": "markdown",
   "id": "7150d08e-28d6-4c9d-85dd-16b77b1f26a4",
   "metadata": {},
   "source": [
    "### 5. WAP to Capitalize first and last character of each word of string."
   ]
  },
  {
   "cell_type": "code",
   "execution_count": 74,
   "id": "122a1e55-6d0d-4676-866e-3c8a7423f35e",
   "metadata": {},
   "outputs": [
    {
     "name": "stdout",
     "output_type": "stream",
     "text": [
      "String before: welcome to youtube\n",
      "['welcome', 'to', 'youtube']\n",
      "string after: WelcomE TO YoutubE\n"
     ]
    }
   ],
   "source": [
    "s='welcome to youtube'\n",
    "print('String before:',s)\n",
    "a=s.split()\n",
    "print(a)\n",
    "res=[]\n",
    "for i in a:\n",
    "    x=i[0].upper() + i[1:len(i)-1]+ i[-1].upper()\n",
    "    res.append(x)\n",
    "res=' '.join(res)    \n",
    "print('string after:', res)"
   ]
  },
  {
   "cell_type": "code",
   "execution_count": null,
   "id": "5bcd2cea-5b1f-4e8a-b783-fc42cc7a8af9",
   "metadata": {},
   "outputs": [],
   "source": []
  }
 ],
 "metadata": {
  "kernelspec": {
   "display_name": "Python 3 (ipykernel)",
   "language": "python",
   "name": "python3"
  },
  "language_info": {
   "codemirror_mode": {
    "name": "ipython",
    "version": 3
   },
   "file_extension": ".py",
   "mimetype": "text/x-python",
   "name": "python",
   "nbconvert_exporter": "python",
   "pygments_lexer": "ipython3",
   "version": "3.12.4"
  }
 },
 "nbformat": 4,
 "nbformat_minor": 5
}
