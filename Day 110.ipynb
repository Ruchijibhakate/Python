{
 "cells": [
  {
   "cell_type": "markdown",
   "id": "f6a7e7f0-c541-4b65-855a-073f08d07d72",
   "metadata": {},
   "source": [
    "### 1. Print the Character Pattern"
   ]
  },
  {
   "cell_type": "code",
   "execution_count": 2,
   "id": "bc65aa28-b0f5-41bc-b3c0-5a5cc063214f",
   "metadata": {},
   "outputs": [
    {
     "name": "stdout",
     "output_type": "stream",
     "text": [
      "A \n",
      "A B \n",
      "A B C \n",
      "A B C D \n",
      "A B C D E \n"
     ]
    }
   ],
   "source": [
    "n=5\n",
    "for i in range(1,n+1):\n",
    "    p=65\n",
    "    for j in range(1,i+1):\n",
    "        print(chr(p),end=' ')\n",
    "        p=p+1\n",
    "    print()    "
   ]
  },
  {
   "cell_type": "markdown",
   "id": "79b1224b-4fa7-430c-83ce-15c0c29655b5",
   "metadata": {},
   "source": [
    "### 2. Print the Character Pattern."
   ]
  },
  {
   "cell_type": "code",
   "execution_count": 5,
   "id": "e4921b6c-a1e7-4a9d-9c0d-f1555e38f7de",
   "metadata": {},
   "outputs": [
    {
     "name": "stdout",
     "output_type": "stream",
     "text": [
      "  A B C D E \n",
      "    A B C D \n",
      "      A B C \n",
      "        A B \n",
      "          A \n"
     ]
    }
   ],
   "source": [
    "n=5\n",
    "for i in range(1,n+1):\n",
    "    for j in range(1,i+1):\n",
    "        print(' ',end=' ')\n",
    "    p=65\n",
    "    for j in range(i,n+1):\n",
    "        print(chr(p),end=' ')\n",
    "        p=p+1\n",
    "    print()    "
   ]
  },
  {
   "cell_type": "code",
   "execution_count": null,
   "id": "e4db557d-4625-41c1-bdec-ea61d70963c3",
   "metadata": {},
   "outputs": [],
   "source": []
  }
 ],
 "metadata": {
  "kernelspec": {
   "display_name": "Python 3 (ipykernel)",
   "language": "python",
   "name": "python3"
  },
  "language_info": {
   "codemirror_mode": {
    "name": "ipython",
    "version": 3
   },
   "file_extension": ".py",
   "mimetype": "text/x-python",
   "name": "python",
   "nbconvert_exporter": "python",
   "pygments_lexer": "ipython3",
   "version": "3.12.4"
  }
 },
 "nbformat": 4,
 "nbformat_minor": 5
}
