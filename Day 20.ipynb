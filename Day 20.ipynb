{
 "cells": [
  {
   "cell_type": "markdown",
   "id": "0d584bb9-3207-4437-ac06-8c1d5deea932",
   "metadata": {},
   "source": [
    "### 1. Check if all the keys exists in dictionary"
   ]
  },
  {
   "cell_type": "code",
   "execution_count": 13,
   "id": "9fe762b6-6142-4c4e-ad62-21e8ccbbd63c",
   "metadata": {},
   "outputs": [
    {
     "name": "stdout",
     "output_type": "stream",
     "text": [
      "No\n",
      "Yes\n",
      "Yes\n",
      "Yes\n"
     ]
    }
   ],
   "source": [
    "mydict={'name':'Ritika','age':20,'city':'pune'}\n",
    "\n",
    "def check_key(x):\n",
    "    if x in mydict:\n",
    "        print(\"Yes\")\n",
    "    else:\n",
    "        print(\"No\")\n",
    "\n",
    "check_key('color')\n",
    "check_key('name')\n",
    "check_key('city')\n",
    "check_key('age')"
   ]
  },
  {
   "cell_type": "markdown",
   "id": "a8965f64-9a2f-43ef-aa7c-7b1673e523b6",
   "metadata": {},
   "source": [
    "### 2. Print the pattern"
   ]
  },
  {
   "cell_type": "code",
   "execution_count": 192,
   "id": "48278eb5-abb5-4194-8bac-e666ffb7e6fa",
   "metadata": {},
   "outputs": [
    {
     "name": "stdin",
     "output_type": "stream",
     "text": [
      "Enter a number 5\n"
     ]
    },
    {
     "name": "stdout",
     "output_type": "stream",
     "text": [
      "            A \n",
      "          A B A \n",
      "        A B C B A \n",
      "      A B C D C B A \n",
      "    A B C D E D C B A \n"
     ]
    }
   ],
   "source": [
    "n=int(input(\"Enter a number\"))\n",
    "for i in range(n):\n",
    "    for j in range(i,n+1):\n",
    "        print(\" \",end=\" \")\n",
    "    \n",
    "    for j in range(i+1):\n",
    "        print(chr(65+j),end=\" \")\n",
    "       \n",
    "    for j in range(i-1,-1,-1):\n",
    "        print(chr(65+j),end=' ')\n",
    "\n",
    "    print() \n"
   ]
  },
  {
   "cell_type": "markdown",
   "id": "894bb402-9f09-4a1c-8ce5-d51d026e9a14",
   "metadata": {},
   "source": [
    "### 3. Print pattern"
   ]
  },
  {
   "cell_type": "code",
   "execution_count": 222,
   "id": "375fe911-1eb8-40fa-8f5c-6d93680b1fd9",
   "metadata": {},
   "outputs": [
    {
     "name": "stdout",
     "output_type": "stream",
     "text": [
      "p \n",
      "p y \n",
      "p y t \n",
      "p y t h \n",
      "p y t h o \n",
      "p y t h o n \n"
     ]
    }
   ],
   "source": [
    "str='python'\n",
    "n=len(str)\n",
    "for i in range(n):\n",
    "    for j in range(i+1):\n",
    "        print(str[j],end=' ')\n",
    "    \n",
    "    print()"
   ]
  },
  {
   "cell_type": "markdown",
   "id": "871c5f1f-1e91-4dc3-ba98-a5ac175a52e6",
   "metadata": {},
   "source": [
    "### 4. Print Pattern"
   ]
  },
  {
   "cell_type": "code",
   "execution_count": 255,
   "id": "41d2b6e7-b820-4913-9d82-ebda08772be9",
   "metadata": {},
   "outputs": [
    {
     "name": "stdin",
     "output_type": "stream",
     "text": [
      "Enter a string : python\n"
     ]
    },
    {
     "name": "stdout",
     "output_type": "stream",
     "text": [
      "            p \n",
      "          p y \n",
      "        p y t \n",
      "      p y t h \n",
      "    p y t h o \n",
      "  p y t h o n \n"
     ]
    }
   ],
   "source": [
    "string=input(\"Enter a string :\")\n",
    "n=len(string)\n",
    "for i in range(n):\n",
    "    for j in range(i,n):\n",
    "        print(\" \",end=\" \")\n",
    "    for j in range(i+1):\n",
    "        print(string[j],end=' ')\n",
    "    print()    \n",
    "    "
   ]
  },
  {
   "cell_type": "markdown",
   "id": "7237afdb-4186-4db2-8ea2-82f5dd134862",
   "metadata": {},
   "source": [
    "### 5. Print pattern"
   ]
  },
  {
   "cell_type": "code",
   "execution_count": 257,
   "id": "2bfac610-a962-4247-a7ea-2ada1346ebda",
   "metadata": {},
   "outputs": [
    {
     "name": "stdin",
     "output_type": "stream",
     "text": [
      "Enter a string : python\n"
     ]
    },
    {
     "name": "stdout",
     "output_type": "stream",
     "text": [
      "p y t h o n \n",
      "y t h o n \n",
      "t h o n \n",
      "h o n \n",
      "o n \n",
      "n \n"
     ]
    }
   ],
   "source": [
    "string=input(\"Enter a string :\")\n",
    "n=len(string)\n",
    "for i in range(n):\n",
    "    for j in range(i,n):\n",
    "        print(string[j],end=\" \")\n",
    "    print()    "
   ]
  },
  {
   "cell_type": "markdown",
   "id": "16b2a7c9-77da-4038-9c84-3a2b0383937f",
   "metadata": {},
   "source": [
    "### 6. Print the Pattern"
   ]
  },
  {
   "cell_type": "code",
   "execution_count": 259,
   "id": "b7da4cff-8b97-4803-8546-bd91d0bda0a6",
   "metadata": {},
   "outputs": [
    {
     "name": "stdin",
     "output_type": "stream",
     "text": [
      "Enter a string : python\n"
     ]
    },
    {
     "name": "stdout",
     "output_type": "stream",
     "text": [
      "      p \n",
      "     p y \n",
      "    p y t \n",
      "   p y t h \n",
      "  p y t h o \n",
      " p y t h o n \n"
     ]
    }
   ],
   "source": [
    "string=input(\"Enter a string :\")\n",
    "n=len(string)\n",
    "for i in range(n):\n",
    "    for j in range(i,n):\n",
    "        print(\" \",end=\"\")\n",
    "    for j in range(i+1):\n",
    "        print(string[j],end=\" \")\n",
    "        \n",
    "    print()    "
   ]
  },
  {
   "cell_type": "markdown",
   "id": "1ddf56fa-1233-4568-8341-0f375d20d895",
   "metadata": {},
   "source": [
    "### 7. Print the pattern"
   ]
  },
  {
   "cell_type": "code",
   "execution_count": 261,
   "id": "0ba4f31d-f810-4739-92cd-c5d7d0854d3b",
   "metadata": {},
   "outputs": [
    {
     "name": "stdin",
     "output_type": "stream",
     "text": [
      "Enter string : python\n"
     ]
    },
    {
     "name": "stdout",
     "output_type": "stream",
     "text": [
      "      p \n",
      "     y y \n",
      "    t t t \n",
      "   h h h h \n",
      "  o o o o o \n",
      " n n n n n n \n"
     ]
    }
   ],
   "source": [
    "string=input(\"Enter string :\")\n",
    "n=len(string)\n",
    "for i in range(n):\n",
    "    for j in range(i,n):\n",
    "        print(\" \",end=\"\")\n",
    "    for j in range(i+1):\n",
    "        print(string[i],end=' ')\n",
    "    print()    "
   ]
  },
  {
   "cell_type": "markdown",
   "id": "86e77f5d-c4c3-4a79-8680-ec03f0ebb781",
   "metadata": {},
   "source": [
    "### 8. Print the pattern"
   ]
  },
  {
   "cell_type": "code",
   "execution_count": 266,
   "id": "5ac554c9-2d9c-408a-9563-b5227e1776fd",
   "metadata": {},
   "outputs": [
    {
     "name": "stdin",
     "output_type": "stream",
     "text": [
      "Enter the string: python\n"
     ]
    },
    {
     "name": "stdout",
     "output_type": "stream",
     "text": [
      "            p \n",
      "          y y \n",
      "        t t t \n",
      "      h h h h \n",
      "    o o o o o \n",
      "  n n n n n n \n"
     ]
    }
   ],
   "source": [
    "string=input(\"Enter the string:\")\n",
    "n=len(string)\n",
    "for i in range(n):\n",
    "    for j in range(i,n):\n",
    "        print(\" \",end=\" \")\n",
    "    for j in range(i+1):\n",
    "        print(string[i],end=' ')\n",
    "    print()    "
   ]
  },
  {
   "cell_type": "markdown",
   "id": "bf2b0ff1-3bbc-4020-a327-abca29f99b73",
   "metadata": {},
   "source": [
    "### 9. Print the pattern"
   ]
  },
  {
   "cell_type": "code",
   "execution_count": 274,
   "id": "15921fa2-455a-40cc-b53e-79c59fa81173",
   "metadata": {},
   "outputs": [
    {
     "name": "stdin",
     "output_type": "stream",
     "text": [
      "Enter a string : python\n"
     ]
    },
    {
     "name": "stdout",
     "output_type": "stream",
     "text": [
      "  p y t h o n \n",
      "    y t h o n \n",
      "      t h o n \n",
      "        h o n \n",
      "          o n \n",
      "            n \n"
     ]
    }
   ],
   "source": [
    "string=input(\"Enter a string :\")\n",
    "n=len(string)\n",
    "for i in range(n):\n",
    "    for j in range(i+1):\n",
    "        print(\" \",end=\" \")\n",
    "    for j in range(i,n):\n",
    "        print(string[j],end=\" \")\n",
    "    print()    "
   ]
  },
  {
   "cell_type": "markdown",
   "id": "957485ae-29aa-46a1-a048-a59aa96f3eac",
   "metadata": {},
   "source": [
    "### 10. Print Pattern"
   ]
  },
  {
   "cell_type": "code",
   "execution_count": 277,
   "id": "650fb1da-e9d9-42b8-886b-a71a09b453a6",
   "metadata": {},
   "outputs": [
    {
     "name": "stdin",
     "output_type": "stream",
     "text": [
      "Enter a string : python\n"
     ]
    },
    {
     "name": "stdout",
     "output_type": "stream",
     "text": [
      " p y t h o n \n",
      "  y t h o n \n",
      "   t h o n \n",
      "    h o n \n",
      "     o n \n",
      "      n \n"
     ]
    }
   ],
   "source": [
    "string=input(\"Enter a string :\")\n",
    "n=len(string)\n",
    "for i in range(n):\n",
    "    for j in range(i+1):\n",
    "        print(\" \",end=\"\")\n",
    "    for j in range(i,n):\n",
    "        print(string[j],end=\" \")\n",
    "    print()    "
   ]
  },
  {
   "cell_type": "code",
   "execution_count": null,
   "id": "182ff382-a13c-4233-984c-d2dd231f7ee4",
   "metadata": {},
   "outputs": [],
   "source": []
  }
 ],
 "metadata": {
  "kernelspec": {
   "display_name": "Python 3 (ipykernel)",
   "language": "python",
   "name": "python3"
  },
  "language_info": {
   "codemirror_mode": {
    "name": "ipython",
    "version": 3
   },
   "file_extension": ".py",
   "mimetype": "text/x-python",
   "name": "python",
   "nbconvert_exporter": "python",
   "pygments_lexer": "ipython3",
   "version": "3.12.4"
  }
 },
 "nbformat": 4,
 "nbformat_minor": 5
}
