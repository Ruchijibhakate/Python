{
 "cells": [
  {
   "cell_type": "markdown",
   "id": "576bb87c-428c-41de-ae7a-3fd75b2bf498",
   "metadata": {},
   "source": [
    "### 1. WAP to count total number of digits in a number"
   ]
  },
  {
   "cell_type": "code",
   "execution_count": 4,
   "id": "f872ad28-69cd-4974-9063-209728ecf7c1",
   "metadata": {},
   "outputs": [
    {
     "name": "stdin",
     "output_type": "stream",
     "text": [
      "Enter a numbers: 142613889\n"
     ]
    },
    {
     "name": "stdout",
     "output_type": "stream",
     "text": [
      "Total Number of Digits in a number : 9\n"
     ]
    }
   ],
   "source": [
    "num=input('Enter a numbers:')\n",
    "count=0\n",
    "for i in num:\n",
    "    count=count+1\n",
    "\n",
    "print('Total Number of Digits in a number :',count)"
   ]
  },
  {
   "cell_type": "markdown",
   "id": "d920821b-8da0-4c3c-8d99-752e462d2cf6",
   "metadata": {},
   "source": [
    "### 2. WAP to find given number is an Armstrong Number"
   ]
  },
  {
   "cell_type": "code",
   "execution_count": 15,
   "id": "beaf77a7-d489-49ff-8451-205f59d58429",
   "metadata": {},
   "outputs": [
    {
     "name": "stdin",
     "output_type": "stream",
     "text": [
      "Enter a Number : 153\n"
     ]
    },
    {
     "name": "stdout",
     "output_type": "stream",
     "text": [
      "Number is Armstrong\n"
     ]
    }
   ],
   "source": [
    "num=input('Enter a Number :')\n",
    "temp=int(num)\n",
    "sum=0\n",
    "for i in num:\n",
    "    n=int(i)\n",
    "    sum=sum+(n**3)\n",
    "if sum==temp:\n",
    "    print('Number is Armstrong')\n",
    "else:\n",
    "    print('Number is not Armstrong')"
   ]
  },
  {
   "cell_type": "code",
   "execution_count": null,
   "id": "b95de0de-83fe-4269-9d7d-d6321aefc808",
   "metadata": {},
   "outputs": [],
   "source": []
  }
 ],
 "metadata": {
  "kernelspec": {
   "display_name": "Python 3 (ipykernel)",
   "language": "python",
   "name": "python3"
  },
  "language_info": {
   "codemirror_mode": {
    "name": "ipython",
    "version": 3
   },
   "file_extension": ".py",
   "mimetype": "text/x-python",
   "name": "python",
   "nbconvert_exporter": "python",
   "pygments_lexer": "ipython3",
   "version": "3.12.4"
  }
 },
 "nbformat": 4,
 "nbformat_minor": 5
}
