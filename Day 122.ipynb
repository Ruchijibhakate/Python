{
 "cells": [
  {
   "cell_type": "markdown",
   "id": "eaae5ef9-1438-4988-afee-1252be71d55e",
   "metadata": {},
   "source": [
    "### Character Program Pattern."
   ]
  },
  {
   "cell_type": "code",
   "execution_count": 7,
   "id": "a0f96a36-2fa0-4689-9205-bf779be1dd3d",
   "metadata": {},
   "outputs": [
    {
     "name": "stdout",
     "output_type": "stream",
     "text": [
      "          C \n",
      "        C O \n",
      "      C O D \n",
      "    C O D E \n",
      "  C O D E R \n"
     ]
    }
   ],
   "source": [
    "s='CODER'\n",
    "n=len(s)\n",
    "for i in range(1,n+1):\n",
    "    p=0\n",
    "    for j in range(i,n+1):\n",
    "        print(' ',end=' ')\n",
    "    for j in range(1,i+1):\n",
    "        print(s[p],end=' ')\n",
    "        p=p+1\n",
    "    print()"
   ]
  },
  {
   "cell_type": "code",
   "execution_count": null,
   "id": "fdfa4a81-5d27-428b-be1c-ae370560dbf8",
   "metadata": {},
   "outputs": [],
   "source": []
  }
 ],
 "metadata": {
  "kernelspec": {
   "display_name": "Python 3 (ipykernel)",
   "language": "python",
   "name": "python3"
  },
  "language_info": {
   "codemirror_mode": {
    "name": "ipython",
    "version": 3
   },
   "file_extension": ".py",
   "mimetype": "text/x-python",
   "name": "python",
   "nbconvert_exporter": "python",
   "pygments_lexer": "ipython3",
   "version": "3.12.4"
  }
 },
 "nbformat": 4,
 "nbformat_minor": 5
}
