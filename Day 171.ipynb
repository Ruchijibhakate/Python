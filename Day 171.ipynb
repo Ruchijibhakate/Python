{
 "cells": [
  {
   "cell_type": "markdown",
   "id": "aaf98a88-12f7-49c0-a2d7-77690dfac1e7",
   "metadata": {},
   "source": [
    "### Write a Python program to get a newly-generated string from a given string where \"Is\" has been added to the front. Return the string unchanged if the given string already begins with \"Is\"."
   ]
  },
  {
   "cell_type": "code",
   "execution_count": 4,
   "id": "21487634-25e4-472b-ac28-4e03f43005cd",
   "metadata": {},
   "outputs": [
    {
     "name": "stdin",
     "output_type": "stream",
     "text": [
      "Enter a string : Engel\n"
     ]
    },
    {
     "name": "stdout",
     "output_type": "stream",
     "text": [
      "IsEngel\n"
     ]
    }
   ],
   "source": [
    "str=input('Enter a string :')\n",
    "if len(str)>2 and str[:2]=='Is':\n",
    "    print(str)\n",
    "else:\n",
    "    print('Is'+str)"
   ]
  },
  {
   "cell_type": "code",
   "execution_count": null,
   "id": "15bb7565-a17f-4d55-93ce-0758460c0d95",
   "metadata": {},
   "outputs": [],
   "source": []
  }
 ],
 "metadata": {
  "kernelspec": {
   "display_name": "Python 3 (ipykernel)",
   "language": "python",
   "name": "python3"
  },
  "language_info": {
   "codemirror_mode": {
    "name": "ipython",
    "version": 3
   },
   "file_extension": ".py",
   "mimetype": "text/x-python",
   "name": "python",
   "nbconvert_exporter": "python",
   "pygments_lexer": "ipython3",
   "version": "3.12.4"
  }
 },
 "nbformat": 4,
 "nbformat_minor": 5
}
