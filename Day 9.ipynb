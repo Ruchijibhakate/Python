{
 "cells": [
  {
   "cell_type": "markdown",
   "id": "c2340339-8c5f-4bd3-b6dd-fa89329e32d4",
   "metadata": {},
   "source": [
    "### 1. WAP to print first 10 natural numbers using for loop"
   ]
  },
  {
   "cell_type": "code",
   "execution_count": 2,
   "id": "6f41d1d9-5573-475b-a66b-e76d8e130e55",
   "metadata": {},
   "outputs": [
    {
     "name": "stdout",
     "output_type": "stream",
     "text": [
      "1\n",
      "2\n",
      "3\n",
      "4\n",
      "5\n",
      "6\n",
      "7\n",
      "8\n",
      "9\n",
      "10\n"
     ]
    }
   ],
   "source": [
    "for i in range(1,11,1):\n",
    "    print(i)"
   ]
  },
  {
   "cell_type": "markdown",
   "id": "7b284e27-b45a-41fc-a529-424fc78e6c54",
   "metadata": {},
   "source": [
    "### 2. WAP to print numbers from the list using for loop"
   ]
  },
  {
   "cell_type": "code",
   "execution_count": 12,
   "id": "3904faf5-01f4-414b-a114-0f8934b0f339",
   "metadata": {},
   "outputs": [
    {
     "name": "stdout",
     "output_type": "stream",
     "text": [
      "10\n",
      "2\n",
      "1\n",
      "5\n",
      "19\n",
      "23\n",
      "17\n"
     ]
    }
   ],
   "source": [
    "list=[10,2,1,5,19,23,17]\n",
    "for i in list:\n",
    "    print(i)"
   ]
  },
  {
   "cell_type": "markdown",
   "id": "abad85be-bc6e-4c7d-9850-ceb3d0acb5d3",
   "metadata": {},
   "source": [
    "### 3. WAP to print characters in word"
   ]
  },
  {
   "cell_type": "code",
   "execution_count": 9,
   "id": "0e105a17-6410-4355-885e-49a6ffa5f602",
   "metadata": {},
   "outputs": [
    {
     "name": "stdout",
     "output_type": "stream",
     "text": [
      "P\n",
      "y\n",
      "t\n",
      "h\n",
      "o\n",
      "n\n"
     ]
    }
   ],
   "source": [
    "language=\"Python\"\n",
    "for i in language:\n",
    "    print(i)"
   ]
  },
  {
   "cell_type": "markdown",
   "id": "2274aae6-e9f5-49df-b38c-194d7ade23cf",
   "metadata": {},
   "source": [
    "### 4. WAP to count the total numbers of digit in number"
   ]
  },
  {
   "cell_type": "code",
   "execution_count": 25,
   "id": "1ef5b94c-86db-44b4-9959-62fb28d43d6d",
   "metadata": {},
   "outputs": [
    {
     "name": "stdin",
     "output_type": "stream",
     "text": [
      "Enter a number 354\n"
     ]
    },
    {
     "name": "stdout",
     "output_type": "stream",
     "text": [
      "3\n"
     ]
    }
   ],
   "source": [
    "num=(input(\"Enter a number\"))\n",
    "count=0\n",
    "for i in num:\n",
    "    count=count+len(i)\n",
    "print(count)    \n",
    "    "
   ]
  },
  {
   "cell_type": "markdown",
   "id": "b2882196-d27d-460c-82c2-fcc125059e78",
   "metadata": {},
   "source": [
    "### 5. WAP Print the list in reverse order using loop"
   ]
  },
  {
   "cell_type": "code",
   "execution_count": 45,
   "id": "1c4176c7-db6a-4e2e-8362-35b835bb6ded",
   "metadata": {},
   "outputs": [
    {
     "data": {
      "text/plain": [
       "[17, 24, 30, 18, 25, 80, 10]"
      ]
     },
     "execution_count": 45,
     "metadata": {},
     "output_type": "execute_result"
    }
   ],
   "source": [
    "list1=[10,80,25,18,30,24,17]\n",
    "list2=[]\n",
    "for i in range(len(list1)-1,-1,-1):\n",
    "    list2.append(list1[i])   \n",
    "list2"
   ]
  },
  {
   "cell_type": "markdown",
   "id": "665df844-45fe-4823-bb88-5df3d3ace2e3",
   "metadata": {},
   "source": [
    "### 6. WAP to print all the even numbers within range"
   ]
  },
  {
   "cell_type": "code",
   "execution_count": 59,
   "id": "bda8f7e0-3850-461b-86fa-f7a560615fb5",
   "metadata": {},
   "outputs": [
    {
     "name": "stdin",
     "output_type": "stream",
     "text": [
      "Enter the value of n: 40\n"
     ]
    },
    {
     "name": "stdout",
     "output_type": "stream",
     "text": [
      "0  2  4  6  8  10  12  14  16  18  20  22  24  26  28  30  32  34  36  38  "
     ]
    }
   ],
   "source": [
    "n=int(input(\"Enter the value of n:\"))\n",
    "for i in range(n):\n",
    "    if i%2==0:\n",
    "        print(i,end=\"  \")"
   ]
  },
  {
   "cell_type": "markdown",
   "id": "dae780f0-5a41-4b33-8891-00c2b7017f67",
   "metadata": {},
   "source": [
    "### 7. WAP to print all the odd numbers within range"
   ]
  },
  {
   "cell_type": "code",
   "execution_count": 64,
   "id": "72b1ba91-aea4-493f-981a-5abaad5627cc",
   "metadata": {},
   "outputs": [
    {
     "name": "stdin",
     "output_type": "stream",
     "text": [
      "Enter the value of n: 40\n"
     ]
    },
    {
     "name": "stdout",
     "output_type": "stream",
     "text": [
      "1  3  5  7  9  11  13  15  17  19  21  23  25  27  29  31  33  35  37  39  "
     ]
    }
   ],
   "source": [
    "n=int(input(\"Enter the value of n:\"))\n",
    "for i in range(n):\n",
    "    if i%2!=0:\n",
    "        print(i,end=\"  \")"
   ]
  },
  {
   "cell_type": "markdown",
   "id": "981d75d1-6f5d-45bd-9298-b45821accd23",
   "metadata": {},
   "source": [
    "### 8. WAP to print sum of all the numbers from 1 to given number"
   ]
  },
  {
   "cell_type": "code",
   "execution_count": 75,
   "id": "08d9c576-2356-4500-b7c3-a6032d3862dd",
   "metadata": {},
   "outputs": [
    {
     "name": "stdin",
     "output_type": "stream",
     "text": [
      "Enter the value of n : 11\n"
     ]
    },
    {
     "name": "stdout",
     "output_type": "stream",
     "text": [
      "Sum = 55\n"
     ]
    }
   ],
   "source": [
    "n=int(input(\"Enter the value of n :\"))\n",
    "sum=0\n",
    "for i in range(1,n):\n",
    "    sum=sum+i\n",
    "print(\"Sum =\",sum)    \n",
    "    "
   ]
  },
  {
   "cell_type": "markdown",
   "id": "163ae883-7c1c-4dc9-aebb-b782b6e6b03f",
   "metadata": {},
   "source": [
    "### 9. WAP to print sum of all odd  numbers from 1 to given number"
   ]
  },
  {
   "cell_type": "code",
   "execution_count": 3,
   "id": "453c4903-2dd7-48f7-a01e-6563877b6a5c",
   "metadata": {},
   "outputs": [
    {
     "name": "stdin",
     "output_type": "stream",
     "text": [
      "Enter the value of n : 20\n"
     ]
    },
    {
     "name": "stdout",
     "output_type": "stream",
     "text": [
      "Sum =  100\n"
     ]
    }
   ],
   "source": [
    "n=int(input(\"Enter the value of n :\"))\n",
    "sum=0\n",
    "for i in range(1,n):\n",
    "    if i%2!=0:\n",
    "        sum=sum+i\n",
    "print(\"Sum = \",sum)        \n",
    "        "
   ]
  },
  {
   "cell_type": "markdown",
   "id": "a58cc399-c40d-4752-8a93-e7f1cb3df4be",
   "metadata": {},
   "source": [
    "### 10. WAP to print multiplication table of given number"
   ]
  },
  {
   "cell_type": "code",
   "execution_count": 9,
   "id": "c7eb3f80-f7d5-4d9f-9f7e-df7fed16e719",
   "metadata": {},
   "outputs": [
    {
     "name": "stdin",
     "output_type": "stream",
     "text": [
      "Enter a number :  5\n"
     ]
    },
    {
     "name": "stdout",
     "output_type": "stream",
     "text": [
      "5\n",
      "10\n",
      "15\n",
      "20\n",
      "25\n",
      "30\n",
      "35\n",
      "40\n",
      "45\n",
      "50\n"
     ]
    }
   ],
   "source": [
    "num=int(input(\"Enter a number : \"))\n",
    "for i in range(1,11):\n",
    "    print(i*num)"
   ]
  },
  {
   "cell_type": "code",
   "execution_count": null,
   "id": "a9d5d765-cbb5-402b-8ac7-7c0d8dac2b4a",
   "metadata": {},
   "outputs": [],
   "source": []
  }
 ],
 "metadata": {
  "kernelspec": {
   "display_name": "Python 3 (ipykernel)",
   "language": "python",
   "name": "python3"
  },
  "language_info": {
   "codemirror_mode": {
    "name": "ipython",
    "version": 3
   },
   "file_extension": ".py",
   "mimetype": "text/x-python",
   "name": "python",
   "nbconvert_exporter": "python",
   "pygments_lexer": "ipython3",
   "version": "3.12.4"
  }
 },
 "nbformat": 4,
 "nbformat_minor": 5
}
