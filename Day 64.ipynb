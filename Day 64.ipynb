{
 "cells": [
  {
   "cell_type": "markdown",
   "id": "417211b1-ab8e-40db-8fd1-13748ac87c3b",
   "metadata": {},
   "source": [
    "### 1. WAP to find the numbers divisible by 19 or 13 from list of numbers using lambda"
   ]
  },
  {
   "cell_type": "code",
   "execution_count": 10,
   "id": "8db52dbc-81e3-450d-b78b-35113442e1f7",
   "metadata": {},
   "outputs": [
    {
     "name": "stdout",
     "output_type": "stream",
     "text": [
      "[19, 65, 57, 39, 152, 190]\n"
     ]
    }
   ],
   "source": [
    "L=[19,65,57,39,152,639,121,44,90,190]\n",
    "print(list(filter(lambda x : x%19==0 or x%13==0, L)))"
   ]
  },
  {
   "cell_type": "markdown",
   "id": "df953870-0233-4320-910e-7cedc7744a21",
   "metadata": {},
   "source": [
    "### 2. WAP to find palindromes in given list of strings using lambda."
   ]
  },
  {
   "cell_type": "code",
   "execution_count": 13,
   "id": "2071576c-19be-437e-9e71-d41ec361e807",
   "metadata": {},
   "outputs": [
    {
     "name": "stdout",
     "output_type": "stream",
     "text": [
      "['php', 'wow', 'aaa']\n"
     ]
    }
   ],
   "source": [
    "L=['bcda','php','python','wow','java','aaa']\n",
    "print(list(filter(lambda x : x[::]==x[::-1], L)))"
   ]
  },
  {
   "cell_type": "markdown",
   "id": "9b973426-9b48-462e-8081-50604d46056c",
   "metadata": {},
   "source": [
    "### 3. WAP to finda all anagrams of string in given list of strings using lambda."
   ]
  },
  {
   "cell_type": "code",
   "execution_count": 20,
   "id": "9a45eab9-db07-44cc-8f3a-fdeb06b3c8ba",
   "metadata": {},
   "outputs": [
    {
     "name": "stdout",
     "output_type": "stream",
     "text": [
      "['bcda', 'abcd', 'cadb', 'cbda', 'adcb']\n"
     ]
    }
   ],
   "source": [
    "from collections import Counter\n",
    "texts=['bcda','abcd','cadb','cbda','abce','cbea','adcb']\n",
    "str='abcd'\n",
    "print(list(filter(lambda x : Counter(str)==Counter(x) , texts)))"
   ]
  },
  {
   "cell_type": "markdown",
   "id": "ff74304c-9717-4d90-95be-ca29e72a8cdd",
   "metadata": {},
   "source": [
    "### 4.  WAP to find the numbers in a given string and store them in a list. Afterward, display the numbers that are longer than the length of the list in sorted form. Use the lambda function to solve the problem."
   ]
  },
  {
   "cell_type": "code",
   "execution_count": 51,
   "id": "83c53fbf-836c-458d-b127-b9f66fd57a5c",
   "metadata": {},
   "outputs": [
    {
     "name": "stdout",
     "output_type": "stream",
     "text": [
      "length of string : 10\n",
      "Numbers in Sorted form :\n",
      "[5, 5, 20, 23, 56]\n",
      "Numbers that are longer than length of list:\n",
      "20 23 56 "
     ]
    }
   ],
   "source": [
    "str='sdf 23 safs8 5 sdfsd8 sdfs 56 21sfs 20 5'\n",
    "str_num=[i for i in str.split(' ')]\n",
    "length=len(str_num)\n",
    "print('length of string :',length)\n",
    "numbers=sorted([int(x) for x in str_num if x.isdigit()])\n",
    "print('Numbers in Sorted form :')\n",
    "print(numbers)\n",
    "print('Numbers that are longer than length of list:')\n",
    "for i in (list(filter(lambda x : x>length,numbers))):\n",
    "    print(i,end=' ')"
   ]
  },
  {
   "cell_type": "markdown",
   "id": "53eff44e-1107-4536-a7e2-c39933687035",
   "metadata": {},
   "source": [
    "### 5. WAP that multiplies each number in list with given number using lambda function."
   ]
  },
  {
   "cell_type": "code",
   "execution_count": 58,
   "id": "f3acb82a-d6d7-4837-acc2-a812ba4530ad",
   "metadata": {},
   "outputs": [
    {
     "name": "stdout",
     "output_type": "stream",
     "text": [
      "[4, 8, 12, 18, 22]\n"
     ]
    }
   ],
   "source": [
    "L=[2,4,6,9,11]\n",
    "given_number=2\n",
    "print(list(map(lambda x : x*given_number, L)))"
   ]
  },
  {
   "cell_type": "code",
   "execution_count": null,
   "id": "1e6b8a03-933e-4cf8-ab94-9addd374de98",
   "metadata": {},
   "outputs": [],
   "source": []
  }
 ],
 "metadata": {
  "kernelspec": {
   "display_name": "Python 3 (ipykernel)",
   "language": "python",
   "name": "python3"
  },
  "language_info": {
   "codemirror_mode": {
    "name": "ipython",
    "version": 3
   },
   "file_extension": ".py",
   "mimetype": "text/x-python",
   "name": "python",
   "nbconvert_exporter": "python",
   "pygments_lexer": "ipython3",
   "version": "3.12.4"
  }
 },
 "nbformat": 4,
 "nbformat_minor": 5
}
