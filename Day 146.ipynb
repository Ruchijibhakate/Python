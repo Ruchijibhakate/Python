{
 "cells": [
  {
   "cell_type": "markdown",
   "id": "5793c4d3-45b0-4854-8cfc-ad5d67ca2ae5",
   "metadata": {},
   "source": [
    "### 1. Print E pattern"
   ]
  },
  {
   "cell_type": "code",
   "execution_count": 4,
   "id": "b6ac6524-f218-49c6-b51a-e557c2e123f3",
   "metadata": {},
   "outputs": [
    {
     "name": "stdout",
     "output_type": "stream",
     "text": [
      "* * * * * \n",
      "*     \n",
      "*     \n",
      "* * * * * \n",
      "*     \n",
      "*     \n",
      "* * * * * \n"
     ]
    }
   ],
   "source": [
    "for row in range(7):\n",
    "    for col in range(5):\n",
    "        if col==0 or (row==0 or row==3 or row==6 and (col>0)):\n",
    "            print('*',end=' ')\n",
    "        else:\n",
    "            print(end=' ')\n",
    "    print()        "
   ]
  },
  {
   "cell_type": "markdown",
   "id": "d58472cc-4c81-474b-b17a-02beb4582b85",
   "metadata": {},
   "source": [
    "### 2. Print F pattern"
   ]
  },
  {
   "cell_type": "code",
   "execution_count": 7,
   "id": "f1d7caf3-6943-4df1-a77f-9d4142c764f4",
   "metadata": {},
   "outputs": [
    {
     "name": "stdout",
     "output_type": "stream",
     "text": [
      "* * * * * \n",
      "*     \n",
      "*     \n",
      "* * * * * \n",
      "*     \n",
      "*     \n",
      "*     \n"
     ]
    }
   ],
   "source": [
    "for row in range(7):\n",
    "    for col in range(5):\n",
    "        if col==0 or (row==0 or row==3 and (col>0)):\n",
    "            print('*',end=' ')\n",
    "        else:\n",
    "            print(end=' ')\n",
    "    print()        "
   ]
  },
  {
   "cell_type": "code",
   "execution_count": null,
   "id": "ecaa63fa-d8c8-418f-812a-1c6911265711",
   "metadata": {},
   "outputs": [],
   "source": []
  }
 ],
 "metadata": {
  "kernelspec": {
   "display_name": "Python 3 (ipykernel)",
   "language": "python",
   "name": "python3"
  },
  "language_info": {
   "codemirror_mode": {
    "name": "ipython",
    "version": 3
   },
   "file_extension": ".py",
   "mimetype": "text/x-python",
   "name": "python",
   "nbconvert_exporter": "python",
   "pygments_lexer": "ipython3",
   "version": "3.12.4"
  }
 },
 "nbformat": 4,
 "nbformat_minor": 5
}
