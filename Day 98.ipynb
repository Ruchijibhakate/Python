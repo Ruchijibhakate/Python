{
 "cells": [
  {
   "cell_type": "markdown",
   "id": "6edbb2fe-0fd4-4d31-9901-f7833ef8ce11",
   "metadata": {},
   "source": [
    "### 1. Hollow Increasing Triangle Pattern"
   ]
  },
  {
   "cell_type": "code",
   "execution_count": 18,
   "id": "74a6d180-c4ed-47c4-ba00-fb32a4061a0d",
   "metadata": {},
   "outputs": [
    {
     "name": "stdout",
     "output_type": "stream",
     "text": [
      "* \n",
      "* * \n",
      "*   * \n",
      "*     * \n",
      "* * * * * \n"
     ]
    }
   ],
   "source": [
    "n=5\n",
    "for i in range(n):\n",
    "    for j in range(i+1):\n",
    "        if i==n-1 or j==i or j==0:\n",
    "            print(\"*\",end=' ')\n",
    "        else:\n",
    "            print(' ',end=' ')\n",
    "    print()    "
   ]
  },
  {
   "cell_type": "markdown",
   "id": "5cc7d9e4-bccd-4fda-8c79-47dfc3312361",
   "metadata": {},
   "source": [
    "### 2. Hollow Decreasing Triangle Pattern"
   ]
  },
  {
   "cell_type": "code",
   "execution_count": 33,
   "id": "f6f24e72-4531-4cbd-843b-2b8cb0ccf9e4",
   "metadata": {},
   "outputs": [
    {
     "name": "stdout",
     "output_type": "stream",
     "text": [
      "* * * * * \n",
      "*     * \n",
      "*   * \n",
      "* * \n",
      "* \n"
     ]
    }
   ],
   "source": [
    "n=5\n",
    "for i in range(1,n+1):\n",
    "    for j in range(i,n+1):\n",
    "        if i==j or i==1 or j==n:\n",
    "            print('*',end=' ')\n",
    "        else:\n",
    "            print(\" \",end=' ')\n",
    "    print()    "
   ]
  },
  {
   "cell_type": "code",
   "execution_count": null,
   "id": "71f5d402-60c8-4ed4-9fb8-b1586c6eaa67",
   "metadata": {},
   "outputs": [],
   "source": []
  }
 ],
 "metadata": {
  "kernelspec": {
   "display_name": "Python 3 (ipykernel)",
   "language": "python",
   "name": "python3"
  },
  "language_info": {
   "codemirror_mode": {
    "name": "ipython",
    "version": 3
   },
   "file_extension": ".py",
   "mimetype": "text/x-python",
   "name": "python",
   "nbconvert_exporter": "python",
   "pygments_lexer": "ipython3",
   "version": "3.12.4"
  }
 },
 "nbformat": 4,
 "nbformat_minor": 5
}
