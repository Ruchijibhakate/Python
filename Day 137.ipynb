{
 "cells": [
  {
   "cell_type": "markdown",
   "id": "c00b9bd8-230c-4a5b-af31-8a557a79d4ec",
   "metadata": {},
   "source": [
    "### 1. WAP to create a tuple."
   ]
  },
  {
   "cell_type": "code",
   "execution_count": 2,
   "id": "b7ba2b31-85a2-4155-875c-d9ae5c4c9de5",
   "metadata": {},
   "outputs": [
    {
     "name": "stdout",
     "output_type": "stream",
     "text": [
      "()\n"
     ]
    }
   ],
   "source": [
    "t1=tuple()\n",
    "print(t1)"
   ]
  },
  {
   "cell_type": "markdown",
   "id": "df6dc1d3-006f-4b97-88fd-931bf0c0c979",
   "metadata": {},
   "source": [
    "### 2. WAP to create a tuple with different data types"
   ]
  },
  {
   "cell_type": "code",
   "execution_count": 9,
   "id": "587711bf-dd88-460d-89e7-16076f17e196",
   "metadata": {},
   "outputs": [
    {
     "name": "stdout",
     "output_type": "stream",
     "text": [
      "('Riya', 0.1, True, 90)\n"
     ]
    }
   ],
   "source": [
    "tuple1=('Riya',0.1,True,90)\n",
    "print(tuple1)"
   ]
  },
  {
   "cell_type": "markdown",
   "id": "445ccc96-0745-4451-a928-c087d8fc4fb4",
   "metadata": {},
   "source": [
    "### 3. Create a tuple with numbers and display a member"
   ]
  },
  {
   "cell_type": "code",
   "execution_count": 12,
   "id": "e0384490-1824-42e6-81c9-d4d900a5d718",
   "metadata": {},
   "outputs": [
    {
     "name": "stdout",
     "output_type": "stream",
     "text": [
      "(3, 8, 11, 4, -5)\n"
     ]
    }
   ],
   "source": [
    "tuple2=(3,8,11,4,-5)\n",
    "print(tuple2)"
   ]
  },
  {
   "cell_type": "code",
   "execution_count": null,
   "id": "ce2c6adf-87f9-4360-8568-40db750f42df",
   "metadata": {},
   "outputs": [],
   "source": []
  }
 ],
 "metadata": {
  "kernelspec": {
   "display_name": "Python 3 (ipykernel)",
   "language": "python",
   "name": "python3"
  },
  "language_info": {
   "codemirror_mode": {
    "name": "ipython",
    "version": 3
   },
   "file_extension": ".py",
   "mimetype": "text/x-python",
   "name": "python",
   "nbconvert_exporter": "python",
   "pygments_lexer": "ipython3",
   "version": "3.12.4"
  }
 },
 "nbformat": 4,
 "nbformat_minor": 5
}
