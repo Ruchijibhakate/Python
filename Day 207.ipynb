{
 "cells": [
  {
   "cell_type": "markdown",
   "id": "6e5a6f03-3276-4564-b1ef-29bb975b7187",
   "metadata": {},
   "source": [
    "### Check if all elements in a list are non-zero."
   ]
  },
  {
   "cell_type": "code",
   "execution_count": 2,
   "id": "caeb2311-711c-4dbd-8337-f78a28f1a3cd",
   "metadata": {},
   "outputs": [
    {
     "name": "stdout",
     "output_type": "stream",
     "text": [
      "True\n"
     ]
    }
   ],
   "source": [
    "list=[1,2,3,4]\n",
    "check_list=all(list)\n",
    "print(check_list)"
   ]
  },
  {
   "cell_type": "markdown",
   "id": "617b451b-8350-4936-b37c-aa5328609e7c",
   "metadata": {},
   "source": [
    "### Compute the sum of diagonal elements in a 2D list."
   ]
  },
  {
   "cell_type": "code",
   "execution_count": 15,
   "id": "794589c2-9961-4def-8628-ab0549d861dd",
   "metadata": {},
   "outputs": [
    {
     "name": "stdout",
     "output_type": "stream",
     "text": [
      "1.4827543023565648\n"
     ]
    }
   ],
   "source": [
    "import random\n",
    "matrix=[[random.random() for _ in range(3)] for _ in range(3)]\n",
    "sum=sum(matrix[i][i] for i in range(3))\n",
    "print(sum)"
   ]
  },
  {
   "cell_type": "code",
   "execution_count": null,
   "id": "40d80afa-5cdc-48da-84be-e6c4bd5fe0c5",
   "metadata": {},
   "outputs": [],
   "source": []
  }
 ],
 "metadata": {
  "kernelspec": {
   "display_name": "Python 3 (ipykernel)",
   "language": "python",
   "name": "python3"
  },
  "language_info": {
   "codemirror_mode": {
    "name": "ipython",
    "version": 3
   },
   "file_extension": ".py",
   "mimetype": "text/x-python",
   "name": "python",
   "nbconvert_exporter": "python",
   "pygments_lexer": "ipython3",
   "version": "3.12.4"
  }
 },
 "nbformat": 4,
 "nbformat_minor": 5
}
