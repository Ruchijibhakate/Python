{
 "cells": [
  {
   "cell_type": "markdown",
   "id": "fd1dab03-b71a-47ff-8e37-1db3994c4069",
   "metadata": {},
   "source": [
    "### 1. WAP to shuffle the deck of card"
   ]
  },
  {
   "cell_type": "code",
   "execution_count": 12,
   "id": "16af5bd2-557e-42f6-8df6-75860dc5251f",
   "metadata": {},
   "outputs": [
    {
     "name": "stdout",
     "output_type": "stream",
     "text": [
      "You Got :\n",
      "12 of Heart\n",
      "13 of Diamond\n",
      "6 of Heart\n",
      "11 of Diamond\n",
      "2 of Club\n"
     ]
    }
   ],
   "source": [
    "import itertools, random\n",
    "deck = list(itertools.product(range(1,14),['Spade','Heart','Diamond','Club']))\n",
    "random.shuffle(deck)\n",
    "print('You Got :')\n",
    "for i in range(5):\n",
    "    print(deck[i][0], 'of', deck[i][1])"
   ]
  },
  {
   "cell_type": "markdown",
   "id": "5119dd9f-f870-4580-8d19-5e92b094c1e4",
   "metadata": {},
   "source": [
    "### 2. WAP to display a calender "
   ]
  },
  {
   "cell_type": "code",
   "execution_count": 19,
   "id": "cebf7ce9-4990-48bd-9687-738161ac9d40",
   "metadata": {},
   "outputs": [
    {
     "name": "stdin",
     "output_type": "stream",
     "text": [
      "Enter Year : 2017\n",
      "Enter Month : 12\n"
     ]
    },
    {
     "name": "stdout",
     "output_type": "stream",
     "text": [
      "   December 2017\n",
      "Mo Tu We Th Fr Sa Su\n",
      "             1  2  3\n",
      " 4  5  6  7  8  9 10\n",
      "11 12 13 14 15 16 17\n",
      "18 19 20 21 22 23 24\n",
      "25 26 27 28 29 30 31\n",
      "\n"
     ]
    }
   ],
   "source": [
    "import calendar\n",
    "yy = int(input('Enter Year :'))\n",
    "mm = int(input('Enter Month :'))\n",
    "print(calendar.month(yy,mm))"
   ]
  },
  {
   "cell_type": "markdown",
   "id": "305a601f-d756-4813-8466-8d2c68e4507a",
   "metadata": {},
   "source": [
    "### 3. Find the factorial of number using recursion"
   ]
  },
  {
   "cell_type": "code",
   "execution_count": 26,
   "id": "36152d08-e68f-4caf-afd5-04ddf5c057b4",
   "metadata": {},
   "outputs": [
    {
     "name": "stdout",
     "output_type": "stream",
     "text": [
      "The factorial of 8 is 40320\n"
     ]
    }
   ],
   "source": [
    "def recur_factorial(n):\n",
    "    if n==1:\n",
    "        return n\n",
    "    else:\n",
    "        return n*recur_factorial(n-1)\n",
    "\n",
    "num = 8\n",
    "if num < 0:\n",
    "    print('Sorry, factorial does not esist for negative numbers')\n",
    "elif num == 0:\n",
    "    print('The factorial of 0 is 1')\n",
    "else:\n",
    "    print('The factorial of', num, 'is', recur_factorial(num))"
   ]
  },
  {
   "cell_type": "markdown",
   "id": "df26c1ff-f273-43c7-a192-ba39443274dd",
   "metadata": {},
   "source": [
    "### 4. Find the sum of natual numbers using recursion function"
   ]
  },
  {
   "cell_type": "code",
   "execution_count": 35,
   "id": "c11f66f0-969c-41ad-b8c7-2a8c98736da6",
   "metadata": {},
   "outputs": [
    {
     "name": "stdin",
     "output_type": "stream",
     "text": [
      "Enter a number : 18\n"
     ]
    },
    {
     "name": "stdout",
     "output_type": "stream",
     "text": [
      "The Sum of 18 natural numbers is 171\n"
     ]
    }
   ],
   "source": [
    "def recur_sum(n):\n",
    "    if n<=1:\n",
    "        return n\n",
    "    else:\n",
    "        return n+recur_sum(n-1)\n",
    "\n",
    "num=int(input('Enter a number :'))\n",
    "if num<0:\n",
    "    print('Enter a positive number')\n",
    "else:\n",
    "    print('The Sum of',num,'natural numbers is',recur_sum(num) )"
   ]
  },
  {
   "cell_type": "markdown",
   "id": "81d5832a-0027-4099-901d-6e901d16e137",
   "metadata": {},
   "source": [
    "### 5. Convert Decimal to binary using recursion"
   ]
  },
  {
   "cell_type": "code",
   "execution_count": 39,
   "id": "a6d1c701-aa81-4d39-981c-c6f35c945b7c",
   "metadata": {},
   "outputs": [
    {
     "name": "stdout",
     "output_type": "stream",
     "text": [
      "100010"
     ]
    }
   ],
   "source": [
    "def convertToBinary(n):\n",
    "    if n>1:\n",
    "        convertToBinary(n//2)\n",
    "    print(n%2, end='')\n",
    "\n",
    "convertToBinary(34)"
   ]
  },
  {
   "cell_type": "code",
   "execution_count": null,
   "id": "71fff50b-38a3-4910-9b26-4cf559a081f1",
   "metadata": {},
   "outputs": [],
   "source": []
  }
 ],
 "metadata": {
  "kernelspec": {
   "display_name": "Python 3 (ipykernel)",
   "language": "python",
   "name": "python3"
  },
  "language_info": {
   "codemirror_mode": {
    "name": "ipython",
    "version": 3
   },
   "file_extension": ".py",
   "mimetype": "text/x-python",
   "name": "python",
   "nbconvert_exporter": "python",
   "pygments_lexer": "ipython3",
   "version": "3.12.4"
  }
 },
 "nbformat": 4,
 "nbformat_minor": 5
}
