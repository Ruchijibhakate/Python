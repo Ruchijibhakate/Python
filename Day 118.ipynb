{
 "cells": [
  {
   "cell_type": "markdown",
   "id": "ded0f2c8-6655-4bb2-be4a-99b993ca446b",
   "metadata": {},
   "source": [
    "### Character Pattern Program"
   ]
  },
  {
   "cell_type": "code",
   "execution_count": 6,
   "id": "54b033ed-6d21-454b-82cb-5407665c5275",
   "metadata": {},
   "outputs": [
    {
     "name": "stdout",
     "output_type": "stream",
     "text": [
      "R \n",
      "E E \n",
      "D D D \n",
      "O O O O \n",
      "C C C C C \n"
     ]
    }
   ],
   "source": [
    "s='CODER'\n",
    "n=len(s)\n",
    "p=-1\n",
    "for i in range(n,0,-1):\n",
    "    for j in range(i,n+1):\n",
    "        print(s[p],end=' ')\n",
    "    p=p-1\n",
    "    print()    "
   ]
  },
  {
   "cell_type": "code",
   "execution_count": null,
   "id": "5198d066-fe71-4c2f-9730-949889e86cbc",
   "metadata": {},
   "outputs": [],
   "source": []
  }
 ],
 "metadata": {
  "kernelspec": {
   "display_name": "Python 3 (ipykernel)",
   "language": "python",
   "name": "python3"
  },
  "language_info": {
   "codemirror_mode": {
    "name": "ipython",
    "version": 3
   },
   "file_extension": ".py",
   "mimetype": "text/x-python",
   "name": "python",
   "nbconvert_exporter": "python",
   "pygments_lexer": "ipython3",
   "version": "3.12.4"
  }
 },
 "nbformat": 4,
 "nbformat_minor": 5
}
