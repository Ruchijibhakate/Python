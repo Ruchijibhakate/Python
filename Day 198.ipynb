{
 "cells": [
  {
   "cell_type": "markdown",
   "id": "9dcff203-105f-47ee-9761-db2df2407294",
   "metadata": {},
   "source": [
    "### Create a list with values ranging from 0 to 9."
   ]
  },
  {
   "cell_type": "code",
   "execution_count": 2,
   "id": "2d8f6a9d-9549-400f-a172-27a18790d13f",
   "metadata": {},
   "outputs": [
    {
     "name": "stdout",
     "output_type": "stream",
     "text": [
      "[0, 1, 2, 3, 4, 5, 6, 7, 8, 9]\n"
     ]
    }
   ],
   "source": [
    "list1=list(range(0,10))\n",
    "print(list1)"
   ]
  },
  {
   "cell_type": "markdown",
   "id": "324cf637-1520-4403-93b2-c3009b54133c",
   "metadata": {},
   "source": [
    "### Convert a list of integers to a list of strings."
   ]
  },
  {
   "cell_type": "code",
   "execution_count": 9,
   "id": "2422e1fb-8ca6-49a4-8d2e-70fe72a71fe1",
   "metadata": {},
   "outputs": [
    {
     "name": "stdout",
     "output_type": "stream",
     "text": [
      "['1', '2', '3', '4', '5']\n"
     ]
    }
   ],
   "source": [
    "list_int=[1,2,3,4,5]\n",
    "\n",
    "str_list=[]\n",
    "for i in list_int:\n",
    "    str_list.append(str(i))\n",
    "\n",
    "print(str_list)\n"
   ]
  },
  {
   "cell_type": "code",
   "execution_count": null,
   "id": "a35fb1d5-af62-4a97-b0c3-14f394bca701",
   "metadata": {},
   "outputs": [],
   "source": []
  }
 ],
 "metadata": {
  "kernelspec": {
   "display_name": "Python 3 (ipykernel)",
   "language": "python",
   "name": "python3"
  },
  "language_info": {
   "codemirror_mode": {
    "name": "ipython",
    "version": 3
   },
   "file_extension": ".py",
   "mimetype": "text/x-python",
   "name": "python",
   "nbconvert_exporter": "python",
   "pygments_lexer": "ipython3",
   "version": "3.12.4"
  }
 },
 "nbformat": 4,
 "nbformat_minor": 5
}
