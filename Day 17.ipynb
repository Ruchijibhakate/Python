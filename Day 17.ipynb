{
 "cells": [
  {
   "cell_type": "markdown",
   "id": "55894ac2-a13d-43e8-b1f0-7a93c3b58e1a",
   "metadata": {},
   "source": [
    "### 1. WAP to remove the duplicates from the list"
   ]
  },
  {
   "cell_type": "code",
   "execution_count": 15,
   "id": "cdb2bab0-15c8-47cf-af5e-7bd3568149a4",
   "metadata": {},
   "outputs": [
    {
     "name": "stdout",
     "output_type": "stream",
     "text": [
      "[1, 2, 3, 4, 5, 6]\n"
     ]
    }
   ],
   "source": [
    "list=[1,2,3,2,4,1,5,6,5]\n",
    "unique_item=[]\n",
    "for i in list:\n",
    "    if i not in unique_item:\n",
    "        unique_item.append(i)\n",
    "print(unique_item)        "
   ]
  },
  {
   "cell_type": "markdown",
   "id": "e43b041d-49ed-48e4-a783-075880814cee",
   "metadata": {},
   "source": [
    "### 2. WAP to check if list is empty or not"
   ]
  },
  {
   "cell_type": "code",
   "execution_count": 38,
   "id": "f314ab3f-bf0a-463b-8d75-3ee2b99440ab",
   "metadata": {},
   "outputs": [
    {
     "name": "stdout",
     "output_type": "stream",
     "text": [
      "List is not empty\n"
     ]
    }
   ],
   "source": [
    "list=[1,2,3]\n",
    "if len(list)==0:\n",
    "    print(\"list is empty\")\n",
    "else:\n",
    "    print(\"List is not empty\")"
   ]
  },
  {
   "cell_type": "markdown",
   "id": "8a3b6341-0658-4fe6-bd0f-f82af96c1d16",
   "metadata": {},
   "source": [
    "### 3. WAP to copy a list"
   ]
  },
  {
   "cell_type": "code",
   "execution_count": 26,
   "id": "20435764-663e-47fd-93c1-3ab50d6cc097",
   "metadata": {},
   "outputs": [
    {
     "name": "stdout",
     "output_type": "stream",
     "text": [
      "[10, 20, 30, 40, 50]\n"
     ]
    }
   ],
   "source": [
    "original_list=[10,20,30,40,50]\n",
    "new_list=[]\n",
    "for i in original_list:\n",
    "    new_list.append(i)\n",
    "print(new_list)    \n"
   ]
  },
  {
   "cell_type": "markdown",
   "id": "53138c7d-0764-4e10-81aa-8ddd2d56b4bb",
   "metadata": {},
   "source": [
    "### 4. WAP to to find the list of the words that are longer than n from the given list of the words"
   ]
  },
  {
   "cell_type": "code",
   "execution_count": 36,
   "id": "8a5bc292-b934-41ed-87cc-56f6bdb6aaf9",
   "metadata": {},
   "outputs": [
    {
     "name": "stdout",
     "output_type": "stream",
     "text": [
      "['good', 'beauty', 'never', 'hello']\n"
     ]
    }
   ],
   "source": [
    "list=['hii','good','beauty','never','to','hello']\n",
    "n=3\n",
    "new_list=[]\n",
    "for i in list:\n",
    "    if len(i)>n:\n",
    "        new_list.append(i)\n",
    "print(new_list)        \n",
    "        "
   ]
  },
  {
   "cell_type": "markdown",
   "id": "d9c1be1a-5692-46e7-93a6-0e247256b121",
   "metadata": {},
   "source": [
    "### 5. Write a python function that takes a two lists and returns True if they have at least one common value"
   ]
  },
  {
   "cell_type": "code",
   "execution_count": 49,
   "id": "9693ff50-e075-4965-949c-87a9f9dff88c",
   "metadata": {},
   "outputs": [
    {
     "data": {
      "text/plain": [
       "True"
      ]
     },
     "execution_count": 49,
     "metadata": {},
     "output_type": "execute_result"
    }
   ],
   "source": [
    "def common_member(list1,list2):\n",
    "    for i in list1:\n",
    "        for j in list2:\n",
    "            if i==j:\n",
    "                return True\n",
    "\n",
    "common_member([1,2,3,4],[2,5,7,1])"
   ]
  },
  {
   "cell_type": "markdown",
   "id": "06a90fb8-8c2c-4668-a6a6-7bbf2417a2e9",
   "metadata": {},
   "source": [
    "### 6. WAP in python to print the elements with the frequency greater than a given value k"
   ]
  },
  {
   "cell_type": "code",
   "execution_count": 84,
   "id": "9130871f-7310-45ed-8acd-28ada63536b8",
   "metadata": {},
   "outputs": [
    {
     "name": "stdout",
     "output_type": "stream",
     "text": [
      "[2, 6, 3]\n"
     ]
    }
   ],
   "source": [
    "list=[2,2,2,8,4,6,1,5,7,4,6,5,3,3,6,6,3,1]\n",
    "new_list=[]\n",
    "k=2\n",
    "for i in list:\n",
    "    if list.count(i)>k and i not in new_list :\n",
    "        new_list.append(i)\n",
    "print(new_list)"
   ]
  },
  {
   "cell_type": "markdown",
   "id": "ed5387cc-166d-46b2-b0a1-55933990dae1",
   "metadata": {},
   "source": [
    "### 7. WAP to square each element of the list and print the list in reverse order"
   ]
  },
  {
   "cell_type": "code",
   "execution_count": 92,
   "id": "5d045c25-92ac-48f9-a727-f483bad0b4dc",
   "metadata": {},
   "outputs": [
    {
     "name": "stdout",
     "output_type": "stream",
     "text": [
      "[100, 400, 900, 1600, 2500, 3600, 4900, 6400, 8100]\n",
      "[8100, 6400, 4900, 3600, 2500, 1600, 900, 400, 100]\n"
     ]
    }
   ],
   "source": [
    "list=[10,20,30,40,50,60,70,80,90]\n",
    "Sq_list=[]\n",
    "for i in list:\n",
    "    sq=i**2\n",
    "    Sq_list.append(sq)\n",
    "print(Sq_list)                    #original order\n",
    "print(Sq_list[::-1])              #reverse order"
   ]
  },
  {
   "cell_type": "markdown",
   "id": "105c2faf-e3f1-4658-b5fd-0f1324fa5ae6",
   "metadata": {},
   "source": [
    "### 8. WAP to print pattern"
   ]
  },
  {
   "cell_type": "code",
   "execution_count": 103,
   "id": "83704b33-0801-424f-9402-55d1978442bb",
   "metadata": {},
   "outputs": [
    {
     "name": "stdin",
     "output_type": "stream",
     "text": [
      "Enter a number 5\n"
     ]
    },
    {
     "name": "stdout",
     "output_type": "stream",
     "text": [
      "A \n",
      "A B \n",
      "A B C \n",
      "A B C D \n",
      "A B C D E \n"
     ]
    }
   ],
   "source": [
    "n=int(input(\"Enter a number\"))\n",
    "for i in range(1,n+1):\n",
    "    k=ord(\"A\") \n",
    "    for j in range(1,i+1):\n",
    "        print(chr(k),end=\" \")\n",
    "        k=k+1    \n",
    "    print()    "
   ]
  },
  {
   "cell_type": "markdown",
   "id": "2811b68c-07f1-48ee-96d3-ed84b218c441",
   "metadata": {},
   "source": [
    "### 9. WAP to print pattern"
   ]
  },
  {
   "cell_type": "code",
   "execution_count": 119,
   "id": "4a689f40-f5ee-4a5f-a8a1-0f9d0d47e298",
   "metadata": {},
   "outputs": [
    {
     "name": "stdin",
     "output_type": "stream",
     "text": [
      "Enter a number: 5\n"
     ]
    },
    {
     "name": "stdout",
     "output_type": "stream",
     "text": [
      "a b c d e \n",
      "a b c d \n",
      "a b c \n",
      "a b \n",
      "a \n"
     ]
    }
   ],
   "source": [
    "n=int(input(\"Enter a number:\"))\n",
    "for i in range(1,n+1):\n",
    "    k=ord(\"a\")\n",
    "    for j in range(i,n+1):\n",
    "        print(chr(k),end=\" \")\n",
    "        k=k+1\n",
    "    print()    "
   ]
  },
  {
   "cell_type": "markdown",
   "id": "c02305aa-64d1-44a0-9831-e0b19cbb5d2f",
   "metadata": {},
   "source": [
    "### 10. WAP to print pattern"
   ]
  },
  {
   "cell_type": "code",
   "execution_count": 123,
   "id": "aa168acb-afa7-4359-8565-2cecbe4974c9",
   "metadata": {},
   "outputs": [
    {
     "name": "stdin",
     "output_type": "stream",
     "text": [
      "Enter a number: 5\n"
     ]
    },
    {
     "name": "stdout",
     "output_type": "stream",
     "text": [
      "E D C B A \n",
      "E D C B \n",
      "E D C \n",
      "E D \n",
      "E \n"
     ]
    }
   ],
   "source": [
    "n=int(input(\"Enter a number:\"))\n",
    "for i in range(1,n+1):\n",
    "    k=ord(\"E\")\n",
    "    for j in range(i,n+1):\n",
    "        print(chr(k),end=\" \")\n",
    "        k=k-1\n",
    "    print()    "
   ]
  },
  {
   "cell_type": "code",
   "execution_count": null,
   "id": "48638363-b05c-4ed3-b10f-d588c5b98174",
   "metadata": {},
   "outputs": [],
   "source": []
  }
 ],
 "metadata": {
  "kernelspec": {
   "display_name": "Python 3 (ipykernel)",
   "language": "python",
   "name": "python3"
  },
  "language_info": {
   "codemirror_mode": {
    "name": "ipython",
    "version": 3
   },
   "file_extension": ".py",
   "mimetype": "text/x-python",
   "name": "python",
   "nbconvert_exporter": "python",
   "pygments_lexer": "ipython3",
   "version": "3.12.4"
  }
 },
 "nbformat": 4,
 "nbformat_minor": 5
}
