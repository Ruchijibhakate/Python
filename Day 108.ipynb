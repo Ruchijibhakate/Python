{
 "cells": [
  {
   "cell_type": "markdown",
   "id": "8a01099b-e263-49aa-a862-f7ab1722d470",
   "metadata": {},
   "source": [
    "### 1. Character Pattern Program."
   ]
  },
  {
   "cell_type": "code",
   "execution_count": 10,
   "id": "0a09f18d-0393-423e-af75-27b130d156ae",
   "metadata": {},
   "outputs": [
    {
     "name": "stdout",
     "output_type": "stream",
     "text": [
      "          A \n",
      "        B B B \n",
      "      C C C C C \n",
      "    D D D D D D D \n",
      "  A A A A A A A A A \n",
      "    B B B B B B B \n",
      "      C C C C C \n",
      "        D D D \n",
      "          E \n"
     ]
    }
   ],
   "source": [
    "n=5\n",
    "p=65\n",
    "for i in range(1,n):\n",
    "    for j in range(i,n+1):\n",
    "        print(' ',end=' ')\n",
    "    for j in range(1,i+1):\n",
    "        print(chr(p),end=' ')\n",
    "    for j in range(2,i+1):\n",
    "        print(chr(p),end=' ')\n",
    "    p=p+1    \n",
    "    print()\n",
    "\n",
    "p=65    \n",
    "for i in range(1,n+1):\n",
    "    for j in range(1,i+1):\n",
    "        print(' ',end=' ')\n",
    "    for j in range(i,n+1):\n",
    "        print(chr(p),end=' ')\n",
    "    for j in range(i+1,n+1):\n",
    "        print(chr(p),end=' ')\n",
    "    p=p+1    \n",
    "    print()    "
   ]
  },
  {
   "cell_type": "code",
   "execution_count": null,
   "id": "3dd9992f-449a-4aae-98fe-d7ea9e1a947e",
   "metadata": {},
   "outputs": [],
   "source": []
  }
 ],
 "metadata": {
  "kernelspec": {
   "display_name": "Python 3 (ipykernel)",
   "language": "python",
   "name": "python3"
  },
  "language_info": {
   "codemirror_mode": {
    "name": "ipython",
    "version": 3
   },
   "file_extension": ".py",
   "mimetype": "text/x-python",
   "name": "python",
   "nbconvert_exporter": "python",
   "pygments_lexer": "ipython3",
   "version": "3.12.4"
  }
 },
 "nbformat": 4,
 "nbformat_minor": 5
}
