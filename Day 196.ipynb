{
 "cells": [
  {
   "cell_type": "markdown",
   "id": "25a3af22-1d9d-47ab-b55e-14770f42b5fa",
   "metadata": {},
   "source": [
    "### Write a Python function to find the maximum of three numbers."
   ]
  },
  {
   "cell_type": "code",
   "execution_count": 16,
   "id": "47d9507f-ac87-4e29-822c-d2b877a9f055",
   "metadata": {},
   "outputs": [
    {
     "name": "stdout",
     "output_type": "stream",
     "text": [
      "Maximum Number is : 12\n",
      "Maximum Number is :100\n",
      "Maximum Number is : 40\n"
     ]
    }
   ],
   "source": [
    "def max_num(a,b,c):\n",
    "    if a>b or a>c:\n",
    "        return f\"Maximum Number is : {a}\" \n",
    "    elif b>a or b>c:\n",
    "        return f'Maximum Number is :{b}'\n",
    "    else:\n",
    "        return f'Maximum Number is :{c}',\n",
    "\n",
    "print(max_num(12,0,4))\n",
    "print(max_num(-6,100,38))\n",
    "print(max_num(40,17,50))"
   ]
  },
  {
   "cell_type": "code",
   "execution_count": null,
   "id": "c6813f88-18c5-4617-bd89-a020dd75bb50",
   "metadata": {},
   "outputs": [],
   "source": []
  }
 ],
 "metadata": {
  "kernelspec": {
   "display_name": "Python 3 (ipykernel)",
   "language": "python",
   "name": "python3"
  },
  "language_info": {
   "codemirror_mode": {
    "name": "ipython",
    "version": 3
   },
   "file_extension": ".py",
   "mimetype": "text/x-python",
   "name": "python",
   "nbconvert_exporter": "python",
   "pygments_lexer": "ipython3",
   "version": "3.12.4"
  }
 },
 "nbformat": 4,
 "nbformat_minor": 5
}
