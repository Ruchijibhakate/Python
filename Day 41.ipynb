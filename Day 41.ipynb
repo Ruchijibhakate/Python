{
 "cells": [
  {
   "cell_type": "markdown",
   "id": "f0086629-a348-4dd6-9da8-54f5e6724563",
   "metadata": {},
   "source": [
    "### 1. Write a numpy programm to Test element wise for positive or negative infinity"
   ]
  },
  {
   "cell_type": "code",
   "execution_count": 2,
   "id": "b02897e3-2147-45d0-abd2-7ad14b8a881b",
   "metadata": {},
   "outputs": [
    {
     "name": "stdout",
     "output_type": "stream",
     "text": [
      "Element wise positive infinity check: [False False  True False False False]\n",
      "Element wise negative infinity check: [False False False  True False False]\n"
     ]
    }
   ],
   "source": [
    "import numpy as np\n",
    "x=np.array([1, -2, np.inf, -np.inf, 1.4, 0])\n",
    "pos_inf=np.isposinf(x)\n",
    "neg_inf=np.isneginf(x)\n",
    "\n",
    "print(\"Element wise positive infinity check:\",pos_inf)\n",
    "print(\"Element wise negative infinity check:\",neg_inf)\n"
   ]
  },
  {
   "cell_type": "markdown",
   "id": "05f83cfe-5190-4126-90d1-2f2a497511b7",
   "metadata": {},
   "source": [
    "### 2. Write a numpy program to test element-wise for complex number, real number of given array. Also test whether given number is scalar type or not"
   ]
  },
  {
   "cell_type": "code",
   "execution_count": 8,
   "id": "63668bb5-a222-4974-9d6f-7251b1328d8d",
   "metadata": {},
   "outputs": [
    {
     "name": "stdout",
     "output_type": "stream",
     "text": [
      "Original Array [1. +2.j 1. +0.j 4.5+0.j 3. +0.j 2. +0.j 0. +2.j]\n",
      "Checking For Complex Number:\n",
      "[ True False False False False  True]\n",
      "Checking For Real Numbers:\n",
      "[False  True  True  True  True False]\n",
      "Checking for Scalar type:\n",
      "True\n",
      "False\n"
     ]
    }
   ],
   "source": [
    "import numpy as np\n",
    "a=np.array([1+2j,  1+0j,  4.5,  3,  2,  2j])\n",
    "print(\"Original Array\",a)\n",
    "print('Checking For Complex Number:')\n",
    "print(np.iscomplex(a))\n",
    "print('Checking For Real Numbers:')\n",
    "print(np.isreal(a))\n",
    "print('Checking for Scalar type:')\n",
    "print(np.isscalar(3.1))\n",
    "print(np.isscalar([3.1]))         # It is not a scalar"
   ]
  },
  {
   "cell_type": "markdown",
   "id": "292bfc44-b4a3-4d6c-bde0-f78617f387f5",
   "metadata": {},
   "source": [
    "### 3. Write a Numpy program to test element wise for Nan of given array"
   ]
  },
  {
   "cell_type": "code",
   "execution_count": 11,
   "id": "b71de1e7-7cfd-4f76-a7bb-c1f6d342ca33",
   "metadata": {},
   "outputs": [
    {
     "name": "stdout",
     "output_type": "stream",
     "text": [
      "Original array [ 1.  0. nan inf]\n",
      "[False False  True False]\n"
     ]
    }
   ],
   "source": [
    "import numpy as np\n",
    "a=np.array([1, 0, np.nan, np.inf])\n",
    "print('Original array',a)\n",
    "print(np.isnan(a))"
   ]
  },
  {
   "cell_type": "markdown",
   "id": "a9ff2305-5b39-4691-a471-4bec392173ad",
   "metadata": {},
   "source": [
    "### 4. Test whether two arrays are element-wise equal within tolerance"
   ]
  },
  {
   "cell_type": "code",
   "execution_count": 16,
   "id": "d64f1b24-81c8-409d-ad7c-2f7c837de616",
   "metadata": {},
   "outputs": [
    {
     "name": "stdout",
     "output_type": "stream",
     "text": [
      "Test if two arrays are element-wise equal within a tolerance:\n",
      "False\n",
      "True\n",
      "False\n",
      "False\n",
      "True\n"
     ]
    }
   ],
   "source": [
    "import numpy as np\n",
    "print('Test if two arrays are element-wise equal within a tolerance:')\n",
    "print(np.allclose([1e10,1e-7],[1.00001e10,1e-8]))\n",
    "print(np.allclose([1e10,1e-8],[1.00001e10,1e-9]))\n",
    "print(np.allclose([1e10,1e-8],[1.0001e10,1e-9]))\n",
    "\n",
    "print(np.allclose([1.0, np.nan], [1.0, np.nan]))\n",
    "print(np.allclose([1.0, np.nan], [1.0, np.nan], equal_nan=True))"
   ]
  },
  {
   "cell_type": "markdown",
   "id": "58c80766-f1f7-46fd-9a3e-c993edf87823",
   "metadata": {},
   "source": [
    "### 10. Write a numpy programm to create an element-wise comparision (greater, greater_equal, less and less_equal) of two given arrays."
   ]
  },
  {
   "cell_type": "code",
   "execution_count": 21,
   "id": "b71e7155-ba1c-46f5-9085-27e487c590d3",
   "metadata": {},
   "outputs": [
    {
     "name": "stdout",
     "output_type": "stream",
     "text": [
      "Original Array :\n",
      "[3 5]\n",
      "[2 5]\n",
      "Comparision-greater\n",
      "[ True False]\n",
      "Comparision-greater_equal\n",
      "[ True  True]\n",
      "Comparision-less\n",
      "[False False]\n",
      "Comparision-less_equal\n",
      "[False  True]\n"
     ]
    }
   ],
   "source": [
    "import numpy as np\n",
    "x=np.array([3,5])\n",
    "y=np.array([2,5])\n",
    "\n",
    "print('Original Array :')\n",
    "print(x)\n",
    "print(y)\n",
    "\n",
    "print('Comparision-greater')\n",
    "print(np.greater(x,y))\n",
    "\n",
    "print('Comparision-greater_equal')\n",
    "print(np.greater_equal(x,y))\n",
    "\n",
    "print('Comparision-less')\n",
    "print(np.less(x,y))\n",
    "\n",
    "print('Comparision-less_equal')\n",
    "print(np.less_equal(x,y))"
   ]
  },
  {
   "cell_type": "code",
   "execution_count": null,
   "id": "4a0f41ed-dec9-4d63-a19b-6b0d95ba4873",
   "metadata": {},
   "outputs": [],
   "source": []
  }
 ],
 "metadata": {
  "kernelspec": {
   "display_name": "Python 3 (ipykernel)",
   "language": "python",
   "name": "python3"
  },
  "language_info": {
   "codemirror_mode": {
    "name": "ipython",
    "version": 3
   },
   "file_extension": ".py",
   "mimetype": "text/x-python",
   "name": "python",
   "nbconvert_exporter": "python",
   "pygments_lexer": "ipython3",
   "version": "3.12.4"
  }
 },
 "nbformat": 4,
 "nbformat_minor": 5
}
