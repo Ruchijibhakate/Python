{
 "cells": [
  {
   "cell_type": "markdown",
   "id": "5db754ad-1062-4be8-9624-9e4895209374",
   "metadata": {},
   "source": [
    "### 1. Count the number of occurences of specific value in list."
   ]
  },
  {
   "cell_type": "code",
   "execution_count": 2,
   "id": "4cf45615-4e4a-4ed5-9c97-110b9c3d25e2",
   "metadata": {},
   "outputs": [
    {
     "name": "stdout",
     "output_type": "stream",
     "text": [
      "2\n"
     ]
    }
   ],
   "source": [
    "list1=[35,10,67,20,46,20,16,50]\n",
    "print(list1.count(20))"
   ]
  },
  {
   "cell_type": "markdown",
   "id": "7271c292-9ab8-4312-8f0c-31640845762e",
   "metadata": {},
   "source": [
    "### 2. Replace all the values in a list with the mean of the list."
   ]
  },
  {
   "cell_type": "code",
   "execution_count": 40,
   "id": "3d641bb7-149d-44df-8bc1-4f4cd8423c6c",
   "metadata": {},
   "outputs": [
    {
     "name": "stdout",
     "output_type": "stream",
     "text": [
      "[8.7143, 8.7143, 8.7143, 8.7143, 8.7143, 8.7143, 8.7143]\n"
     ]
    }
   ],
   "source": [
    "list1=[2,8,4,19,3,15,10]\n",
    "mean_val=sum(list1)/len(list1)\n",
    "list1=[mean_val] * len(list1)\n",
    "new_list=[round(x,4) for x in list1]\n",
    "print(new_list)"
   ]
  },
  {
   "cell_type": "markdown",
   "id": "65a2f948-274e-4f99-a557-1dc8ddf83141",
   "metadata": {},
   "source": [
    "### 3. Find indices of maximum and minimum value in list."
   ]
  },
  {
   "cell_type": "code",
   "execution_count": 20,
   "id": "6f7cd81a-c554-4bf2-b30a-612ad0ad410a",
   "metadata": {},
   "outputs": [
    {
     "name": "stdout",
     "output_type": "stream",
     "text": [
      "Index of Maximum value : 4\n",
      "Index of Minimum value : 1\n"
     ]
    }
   ],
   "source": [
    "list1=[35,10,20,46,67,20,16,50]\n",
    "max_val_ind=list1.index(max(list1))\n",
    "min_val_ind=list1.index(min(list1))\n",
    "print('Index of Maximum value :',max_val_ind)\n",
    "print('Index of Minimum value :',min_val_ind)"
   ]
  },
  {
   "cell_type": "markdown",
   "id": "8454d489-b370-4ca0-bea3-2bf96d38d756",
   "metadata": {},
   "source": [
    "### 4. Find the unique values and their count in the list."
   ]
  },
  {
   "cell_type": "code",
   "execution_count": 23,
   "id": "b4e7fbb2-bd1a-428a-9103-5d84a20d0102",
   "metadata": {},
   "outputs": [
    {
     "name": "stdout",
     "output_type": "stream",
     "text": [
      "[0, 1, 2, 3, 4, 6, 8, 9]\n",
      "{4: 2, 0: 2, 1: 2, 8: 2, 2: 2, 9: 1, 3: 1, 6: 1}\n"
     ]
    }
   ],
   "source": [
    "list1=[4,0,1,8,2,4,9,3,6,2,0,1,8]\n",
    "unique_val=list(set(list1))\n",
    "count_unique_val={x: list1.count(x) for x in list1}\n",
    "print(unique_val)\n",
    "print(count_unique_val)"
   ]
  },
  {
   "cell_type": "markdown",
   "id": "0c4f2361-a3fa-416d-8e97-af2bde132997",
   "metadata": {},
   "source": [
    "### 5. Calculate the exponential of allthe elements in list."
   ]
  },
  {
   "cell_type": "code",
   "execution_count": 28,
   "id": "d5b339da-98aa-405b-8915-39f2ebcc3185",
   "metadata": {},
   "outputs": [
    {
     "name": "stdout",
     "output_type": "stream",
     "text": [
      "[2.7183, 7.3891, 20.0855, 54.5982, 148.4132]\n"
     ]
    }
   ],
   "source": [
    "import math\n",
    "list1=[1,2,3,4,5]\n",
    "exp_list=[round(math.exp(x),4) for x in list1]\n",
    "print(exp_list)"
   ]
  },
  {
   "cell_type": "code",
   "execution_count": null,
   "id": "3218e3b9-a030-4cf0-b422-499e9af71527",
   "metadata": {},
   "outputs": [],
   "source": []
  }
 ],
 "metadata": {
  "kernelspec": {
   "display_name": "Python 3 (ipykernel)",
   "language": "python",
   "name": "python3"
  },
  "language_info": {
   "codemirror_mode": {
    "name": "ipython",
    "version": 3
   },
   "file_extension": ".py",
   "mimetype": "text/x-python",
   "name": "python",
   "nbconvert_exporter": "python",
   "pygments_lexer": "ipython3",
   "version": "3.12.4"
  }
 },
 "nbformat": 4,
 "nbformat_minor": 5
}
