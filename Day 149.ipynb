{
 "cells": [
  {
   "cell_type": "markdown",
   "id": "94550ef3-a543-461f-a3a3-6270cf921567",
   "metadata": {},
   "source": [
    "### 1. Write M Pattern"
   ]
  },
  {
   "cell_type": "code",
   "execution_count": 8,
   "id": "24105aac-1328-4310-913c-6c32733973a1",
   "metadata": {},
   "outputs": [
    {
     "name": "stdout",
     "output_type": "stream",
     "text": [
      "*     *\n",
      "**   **\n",
      "* * * *\n",
      "*  *  *\n",
      "*     *\n",
      "*     *\n",
      "*     *\n"
     ]
    }
   ],
   "source": [
    "for row in range(7):\n",
    "    for col in range(7):\n",
    "        if (col==0 or col==6) or ((row==col) and (col>0 and col<4)) or (row==1 and col==5) or (row==2 and col==4):\n",
    "            print('*',end='')\n",
    "        else:\n",
    "            print(end=' ')\n",
    "    print()        "
   ]
  },
  {
   "cell_type": "code",
   "execution_count": null,
   "id": "f6ef4a67-d468-4186-be31-52156a134a70",
   "metadata": {},
   "outputs": [],
   "source": []
  }
 ],
 "metadata": {
  "kernelspec": {
   "display_name": "Python 3 (ipykernel)",
   "language": "python",
   "name": "python3"
  },
  "language_info": {
   "codemirror_mode": {
    "name": "ipython",
    "version": 3
   },
   "file_extension": ".py",
   "mimetype": "text/x-python",
   "name": "python",
   "nbconvert_exporter": "python",
   "pygments_lexer": "ipython3",
   "version": "3.12.4"
  }
 },
 "nbformat": 4,
 "nbformat_minor": 5
}
