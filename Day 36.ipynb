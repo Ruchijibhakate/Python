{
 "cells": [
  {
   "cell_type": "markdown",
   "id": "64f6668b-ec74-4a4d-8eb3-6e22014dd12f",
   "metadata": {},
   "source": [
    "### 1.WAP to print the following string in specific format"
   ]
  },
  {
   "cell_type": "code",
   "execution_count": 2,
   "id": "82635693-c5fa-43d1-bd66-67653943fabc",
   "metadata": {},
   "outputs": [
    {
     "name": "stdout",
     "output_type": "stream",
     "text": [
      "Twinkle, Twinkle, little star, \n",
      "\tHow I wonder what you are! \n",
      "\t\tUp above the world so high, \n",
      "\t\tLike a diamond in the sky. \n",
      " Twinkle, Twinkle, little star, \n",
      "\tHow I wonder what you are!\n"
     ]
    }
   ],
   "source": [
    "print(\"Twinkle, Twinkle, little star, \\n\\tHow I wonder what you are! \\n\\t\\tUp above the world so high, \\n\\t\\tLike a diamond in the sky. \\n Twinkle, Twinkle, little star, \\n\\tHow I wonder what you are!\")"
   ]
  },
  {
   "cell_type": "markdown",
   "id": "5eb38593-48a4-49c9-a562-ab4e2290e498",
   "metadata": {},
   "source": [
    "### 2. WAP that calculates the area of circle based on radius enterd by user"
   ]
  },
  {
   "cell_type": "code",
   "execution_count": 5,
   "id": "20f58f40-2dfa-4804-b8f7-87001b878f86",
   "metadata": {},
   "outputs": [
    {
     "data": {
      "text/plain": [
       "84.9056"
      ]
     },
     "execution_count": 5,
     "metadata": {},
     "output_type": "execute_result"
    }
   ],
   "source": [
    "def area_of_circle(radius):\n",
    "    pi=3.14\n",
    "    area=pi*(radius**2)\n",
    "    return area\n",
    "\n",
    "area_of_circle(5.20)"
   ]
  },
  {
   "cell_type": "markdown",
   "id": "25e24cfd-e7ad-496d-9c31-7f035b246b11",
   "metadata": {},
   "source": [
    "### 3. WAP to print the first and last name in reverse order with a space between them"
   ]
  },
  {
   "cell_type": "code",
   "execution_count": 10,
   "id": "48fece98-2f37-482c-9438-ea336f69ff94",
   "metadata": {},
   "outputs": [
    {
     "name": "stdin",
     "output_type": "stream",
     "text": [
      "Enter a first name : Ruchi\n",
      "Enter a last name : Jibhakate\n"
     ]
    },
    {
     "name": "stdout",
     "output_type": "stream",
     "text": [
      "Jibhakate Ruchi\n"
     ]
    }
   ],
   "source": [
    "first_name=input('Enter a first name :')\n",
    "last_name=input('Enter a last name :')\n",
    "name=last_name+' '+first_name\n",
    "print(name)"
   ]
  },
  {
   "cell_type": "markdown",
   "id": "c1bfdc07-8832-490a-b129-d1c9aed03386",
   "metadata": {},
   "source": [
    "### 4. WAP that accepts a sequence of comma-separated numbers from the user and generates a list and tuple of those numbers"
   ]
  },
  {
   "cell_type": "code",
   "execution_count": 24,
   "id": "b008f9bd-4035-4c8a-ae77-d9e8453d6b5c",
   "metadata": {},
   "outputs": [
    {
     "name": "stdin",
     "output_type": "stream",
     "text": [
      "Enter a comma-separated numbers : 34,16,3,85,4\n"
     ]
    },
    {
     "name": "stdout",
     "output_type": "stream",
     "text": [
      "List : ['34', '16', '3', '85', '4']\n",
      "Tuple : ('34', '16', '3', '85', '4')\n"
     ]
    }
   ],
   "source": [
    "sequence_of_numbers=input(\"Enter a comma-separated numbers :\")\n",
    "list=sequence_of_numbers.split(\",\")\n",
    "tuple=tuple(list)\n",
    "print(\"List :\",list)\n",
    "print(\"Tuple :\",tuple)\n"
   ]
  },
  {
   "cell_type": "markdown",
   "id": "86086c1f-e570-486d-b35d-57d6a9b8b6d1",
   "metadata": {},
   "source": [
    "### 5. WAP that accepts a filename from the user and prints the extention of the file"
   ]
  },
  {
   "cell_type": "code",
   "execution_count": 27,
   "id": "086e6edf-3e89-45c9-bebb-fde0deb0b3cd",
   "metadata": {},
   "outputs": [
    {
     "name": "stdin",
     "output_type": "stream",
     "text": [
      "Enter a File name : abc.csv\n"
     ]
    },
    {
     "name": "stdout",
     "output_type": "stream",
     "text": [
      "csv\n"
     ]
    }
   ],
   "source": [
    "file_name=input(\"Enter a File name :\")\n",
    "file_extension=file_name.split('.')\n",
    "print(file_extension[-1])"
   ]
  },
  {
   "cell_type": "markdown",
   "id": "56271759-84d4-428b-a7f0-fb66fb0fa4a5",
   "metadata": {},
   "source": [
    "### 6. WAP to display first and last colors from the following list"
   ]
  },
  {
   "cell_type": "code",
   "execution_count": 5,
   "id": "f19ea47c-02c9-4267-bf7d-e4f03f91d11e",
   "metadata": {},
   "outputs": [
    {
     "name": "stdout",
     "output_type": "stream",
     "text": [
      "Red\n",
      "Black\n"
     ]
    }
   ],
   "source": [
    "color_list=['Red','Green','White','Black']\n",
    "print(color_list[0])\n",
    "print(color_list[-1])"
   ]
  },
  {
   "cell_type": "markdown",
   "id": "15a96dd8-31e5-45e7-9dc7-16bb6baeee4c",
   "metadata": {},
   "source": [
    "### 7. WAP to display the examination schedule."
   ]
  },
  {
   "cell_type": "code",
   "execution_count": 39,
   "id": "ffbb18e5-7dac-41f4-8d1b-6e9bbacbabc5",
   "metadata": {},
   "outputs": [
    {
     "name": "stdout",
     "output_type": "stream",
     "text": [
      "Examination will start from: 11/12/2014\n"
     ]
    }
   ],
   "source": [
    "exam_start_date=(11,12,2014)\n",
    "print(\"Examination will start from: %i/%i/%i\"%exam_start_date)"
   ]
  },
  {
   "cell_type": "markdown",
   "id": "446a2626-83d2-464e-95de-05d962e5b829",
   "metadata": {},
   "source": [
    "### 8. WAP that accepts integer (n) and computes the value of n+nn+nnn"
   ]
  },
  {
   "cell_type": "code",
   "execution_count": 3,
   "id": "c9679a8b-4aab-4d59-b507-696900fb674f",
   "metadata": {},
   "outputs": [
    {
     "name": "stdin",
     "output_type": "stream",
     "text": [
      "Enter a value of n : 5\n"
     ]
    },
    {
     "name": "stdout",
     "output_type": "stream",
     "text": [
      "615\n"
     ]
    }
   ],
   "source": [
    "n=int(input(\"Enter a value of n :\"))\n",
    "n1=int('%s' % n)\n",
    "n2=int('%s%s' % (n,n))\n",
    "n3=int('%s%s%s' % (n,n,n))\n",
    "print(n1+n2+n3)"
   ]
  },
  {
   "cell_type": "markdown",
   "id": "dc660dfd-190a-4f0b-874b-b62ae59dd8a9",
   "metadata": {},
   "source": [
    "### 9. WAP to print the documents (syntax,description etc) of  python built-in functions"
   ]
  },
  {
   "cell_type": "code",
   "execution_count": 8,
   "id": "23d684ac-e70b-40b7-9c41-11fc856a76a5",
   "metadata": {},
   "outputs": [
    {
     "name": "stdout",
     "output_type": "stream",
     "text": [
      "Return the absolute value of the argument.\n"
     ]
    }
   ],
   "source": [
    "print(abs.__doc__)"
   ]
  },
  {
   "cell_type": "code",
   "execution_count": 12,
   "id": "c3902221-92cf-4ea8-bf24-cc2955371d51",
   "metadata": {},
   "outputs": [
    {
     "name": "stdout",
     "output_type": "stream",
     "text": [
      "map(func, *iterables) --> map object\n",
      "\n",
      "Make an iterator that computes the function using arguments from\n",
      "each of the iterables.  Stops when the shortest iterable is exhausted.\n"
     ]
    }
   ],
   "source": [
    "print(map.__doc__)"
   ]
  },
  {
   "cell_type": "code",
   "execution_count": 16,
   "id": "38e70dd8-c53a-45dc-8d01-e3624ff1c198",
   "metadata": {},
   "outputs": [
    {
     "name": "stdout",
     "output_type": "stream",
     "text": [
      "Return the number of items in a container.\n"
     ]
    }
   ],
   "source": [
    "print(len.__doc__)"
   ]
  },
  {
   "cell_type": "code",
   "execution_count": 20,
   "id": "5fbba489-fbb3-4844-8360-df54f73d5386",
   "metadata": {},
   "outputs": [
    {
     "name": "stdout",
     "output_type": "stream",
     "text": [
      "max(iterable, *[, default=obj, key=func]) -> value\n",
      "max(arg1, arg2, *args, *[, key=func]) -> value\n",
      "\n",
      "With a single iterable argument, return its biggest item. The\n",
      "default keyword-only argument specifies an object to return if\n",
      "the provided iterable is empty.\n",
      "With two or more arguments, return the largest argument.\n"
     ]
    }
   ],
   "source": [
    "print(max.__doc__)"
   ]
  },
  {
   "cell_type": "markdown",
   "id": "9b63d276-dc6a-4f0b-a21b-986535e808c8",
   "metadata": {},
   "source": [
    "### 10. WAP to print the calendar of for given month and year"
   ]
  },
  {
   "cell_type": "code",
   "execution_count": 25,
   "id": "19d879fe-c551-4904-b373-ddefdb68b508",
   "metadata": {},
   "outputs": [
    {
     "name": "stdin",
     "output_type": "stream",
     "text": [
      "Enter the year : 2020\n",
      "Enter the month : 12\n"
     ]
    },
    {
     "name": "stdout",
     "output_type": "stream",
     "text": [
      "   December 2020\n",
      "Mo Tu We Th Fr Sa Su\n",
      "    1  2  3  4  5  6\n",
      " 7  8  9 10 11 12 13\n",
      "14 15 16 17 18 19 20\n",
      "21 22 23 24 25 26 27\n",
      "28 29 30 31\n",
      "\n"
     ]
    }
   ],
   "source": [
    "import calendar\n",
    "year=int(input(\"Enter the year :\"))\n",
    "month=int(input(\"Enter the month :\"))\n",
    "print(calendar.month(year,month))"
   ]
  },
  {
   "cell_type": "code",
   "execution_count": null,
   "id": "966aceb1-b6e5-45bf-b9b8-5d3a7ec2022f",
   "metadata": {},
   "outputs": [],
   "source": []
  }
 ],
 "metadata": {
  "kernelspec": {
   "display_name": "Python 3 (ipykernel)",
   "language": "python",
   "name": "python3"
  },
  "language_info": {
   "codemirror_mode": {
    "name": "ipython",
    "version": 3
   },
   "file_extension": ".py",
   "mimetype": "text/x-python",
   "name": "python",
   "nbconvert_exporter": "python",
   "pygments_lexer": "ipython3",
   "version": "3.12.4"
  }
 },
 "nbformat": 4,
 "nbformat_minor": 5
}
