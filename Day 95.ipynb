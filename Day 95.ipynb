{
 "cells": [
  {
   "cell_type": "markdown",
   "id": "5a41c158-e52a-4bd2-87a4-5a802943911b",
   "metadata": {},
   "source": [
    "### 1. Print the Pattern"
   ]
  },
  {
   "cell_type": "code",
   "execution_count": 14,
   "id": "bed57360-4f6c-46c6-9b8a-8c5eff3d15cd",
   "metadata": {},
   "outputs": [
    {
     "name": "stdin",
     "output_type": "stream",
     "text": [
      "Enter a number of rows : 5\n"
     ]
    },
    {
     "name": "stdout",
     "output_type": "stream",
     "text": [
      "A \n",
      "A B \n",
      "A B C \n",
      "A B C D \n",
      "A B C D E \n"
     ]
    }
   ],
   "source": [
    "n= int(input('Enter a number of rows :'))\n",
    "for i in range(1,n+1):\n",
    "    k=ord('A')\n",
    "    for j in range(1,i+1):\n",
    "        print(chr(k),end=' ')\n",
    "        k=k+1\n",
    "    print()    "
   ]
  },
  {
   "cell_type": "markdown",
   "id": "16c47f1d-cf9e-4c66-a663-55e61504c969",
   "metadata": {},
   "source": [
    "### 2. Print Pattern"
   ]
  },
  {
   "cell_type": "code",
   "execution_count": 12,
   "id": "36dac660-f456-4f2d-8536-1f4f48895b10",
   "metadata": {},
   "outputs": [
    {
     "name": "stdin",
     "output_type": "stream",
     "text": [
      "Enter a number of rows : 5\n"
     ]
    },
    {
     "name": "stdout",
     "output_type": "stream",
     "text": [
      "A \n",
      "B C \n",
      "D E F \n",
      "G H I J \n",
      "K L M N O \n"
     ]
    }
   ],
   "source": [
    "n= int(input('Enter a number of rows :'))\n",
    "k=ord('A')  \n",
    "for i in range(1,n+1):\n",
    "    for j in range(1,i+1):\n",
    "        print(chr(k),end=' ')\n",
    "        k=k+1\n",
    "    print()    "
   ]
  },
  {
   "cell_type": "code",
   "execution_count": 21,
   "id": "fb99e614-59a1-44b4-a84c-b28732509746",
   "metadata": {},
   "outputs": [
    {
     "name": "stdin",
     "output_type": "stream",
     "text": [
      "Enter a number of rows : 5\n"
     ]
    },
    {
     "name": "stdout",
     "output_type": "stream",
     "text": [
      "          A \n",
      "        A B \n",
      "      A B C \n",
      "    A B C D \n",
      "  A B C D E \n"
     ]
    }
   ],
   "source": [
    "n= int(input('Enter a number of rows :')) \n",
    "k=ord('A')\n",
    "for i in range(1,n+1):\n",
    "    \n",
    "    for j in range(i,n+1):\n",
    "        print(' ',end=' ')\n",
    "    for j in range(1,i+1):\n",
    "        print(chr(k),end=' ')\n",
    "        k=k+1\n",
    "    print()    "
   ]
  },
  {
   "cell_type": "code",
   "execution_count": null,
   "id": "4b5035c1-7e17-497e-b20d-b91edd46c2e2",
   "metadata": {},
   "outputs": [],
   "source": []
  }
 ],
 "metadata": {
  "kernelspec": {
   "display_name": "Python 3 (ipykernel)",
   "language": "python",
   "name": "python3"
  },
  "language_info": {
   "codemirror_mode": {
    "name": "ipython",
    "version": 3
   },
   "file_extension": ".py",
   "mimetype": "text/x-python",
   "name": "python",
   "nbconvert_exporter": "python",
   "pygments_lexer": "ipython3",
   "version": "3.12.4"
  }
 },
 "nbformat": 4,
 "nbformat_minor": 5
}
