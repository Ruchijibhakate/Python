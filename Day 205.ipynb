{
 "cells": [
  {
   "cell_type": "markdown",
   "id": "f9ac61f9-8758-40a4-a4d5-bdf2fe21f3d8",
   "metadata": {},
   "source": [
    "### Find the indices of the maximum and minimum values in a list."
   ]
  },
  {
   "cell_type": "code",
   "execution_count": 1,
   "id": "d17b9421-5a68-49f2-aeca-966919dec30c",
   "metadata": {},
   "outputs": [
    {
     "name": "stdout",
     "output_type": "stream",
     "text": [
      "Index of Maximum value in a list : 5\n",
      "Index of Minimum value in a list : 2\n"
     ]
    }
   ],
   "source": [
    "list=[36,9,-4,15,75,101,8,56]\n",
    "max=list.index(max(list))\n",
    "min=list.index(min(list))\n",
    "print('Index of Maximum value in a list :',max)\n",
    "print('Index of Minimum value in a list :',min)"
   ]
  },
  {
   "cell_type": "code",
   "execution_count": null,
   "id": "df23a77f-2136-4f20-953c-ed3a89beded1",
   "metadata": {},
   "outputs": [],
   "source": []
  }
 ],
 "metadata": {
  "kernelspec": {
   "display_name": "Python 3 (ipykernel)",
   "language": "python",
   "name": "python3"
  },
  "language_info": {
   "codemirror_mode": {
    "name": "ipython",
    "version": 3
   },
   "file_extension": ".py",
   "mimetype": "text/x-python",
   "name": "python",
   "nbconvert_exporter": "python",
   "pygments_lexer": "ipython3",
   "version": "3.12.4"
  }
 },
 "nbformat": 4,
 "nbformat_minor": 5
}
