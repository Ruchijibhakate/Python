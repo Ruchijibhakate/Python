{
 "cells": [
  {
   "cell_type": "markdown",
   "id": "d9279a57-1285-41b0-9a3b-46483b8d13a2",
   "metadata": {},
   "source": [
    "### 1. WAP to generate and print a dictionary that contains a number between (1 and n) in the form of (x,x*x)"
   ]
  },
  {
   "cell_type": "code",
   "execution_count": 64,
   "id": "a718f939-55d9-4557-90e6-598d48c2e764",
   "metadata": {},
   "outputs": [
    {
     "name": "stdout",
     "output_type": "stream",
     "text": [
      "{1: 1, 2: 4, 3: 9, 4: 16, 5: 25}\n"
     ]
    }
   ],
   "source": [
    "n=5\n",
    "dict={}\n",
    "i=1\n",
    "while(i<=n):\n",
    "    dict.update({i:i*i})\n",
    "    i=i+1\n",
    "print(dict)    \n",
    "    "
   ]
  },
  {
   "cell_type": "markdown",
   "id": "aa391aeb-2e19-411b-b537-ae1a8999d312",
   "metadata": {},
   "source": [
    "### 2. WAP to merge the two python dictionaries"
   ]
  },
  {
   "cell_type": "code",
   "execution_count": 72,
   "id": "8090ba20-ac76-4c0c-8261-11c97d03c8e5",
   "metadata": {},
   "outputs": [
    {
     "data": {
      "text/plain": [
       "{1: 'Aman', 2: 'Virat', 3: 'Rohit', 'color': ['pink', 'red', 'back']}"
      ]
     },
     "execution_count": 72,
     "metadata": {},
     "output_type": "execute_result"
    }
   ],
   "source": [
    "def merge(d1,d2):\n",
    "    merge_dict=d1.copy()\n",
    "    merge_dict.update(d2)\n",
    "    return merge_dict\n",
    "    \n",
    "merge({1:'Aman',2:'Virat',3:'Rohit'},{'color':['pink','red','back']})"
   ]
  },
  {
   "cell_type": "markdown",
   "id": "b1e90f82-c5b9-40f4-a032-fd645399ec34",
   "metadata": {},
   "source": [
    "### 3. WAP to iterate over dictionaries using for loop"
   ]
  },
  {
   "cell_type": "code",
   "execution_count": 79,
   "id": "efbccac0-1165-42e8-9542-8bb65306ea86",
   "metadata": {},
   "outputs": [
    {
     "name": "stdout",
     "output_type": "stream",
     "text": [
      "1 corresponds to Red\n",
      "2 corresponds to White\n",
      "3 corresponds to Black\n",
      "4 corresponds to Green\n"
     ]
    }
   ],
   "source": [
    "dict={1:'Red',2:'White',3:'Black',4:'Green'}\n",
    "for key,value in dict.items():\n",
    "    print(key,'corresponds to',value)"
   ]
  },
  {
   "cell_type": "markdown",
   "id": "81ec8b5a-f8a9-4d69-9d6f-3c161d7ada56",
   "metadata": {},
   "source": [
    "### 4. WAP to sum all the items in dictionary"
   ]
  },
  {
   "cell_type": "code",
   "execution_count": 104,
   "id": "3bd25c8f-3368-4d2e-aa4c-5f7dc88c9040",
   "metadata": {},
   "outputs": [
    {
     "name": "stdout",
     "output_type": "stream",
     "text": [
      "dict_values([100, 75, 60])\n",
      "Sum of all the values is 235\n"
     ]
    }
   ],
   "source": [
    "def sum_value(dict):\n",
    "    \n",
    "    values=dict.values()\n",
    "    print(values)\n",
    "\n",
    "    sum=0\n",
    "    for val in values:\n",
    "        sum=sum+val\n",
    "\n",
    "    print('Sum of all the values is',sum)\n",
    "\n",
    "sum_value({'a':100, 'b':75 , 'c':60})"
   ]
  },
  {
   "cell_type": "markdown",
   "id": "3c6fce5e-c445-46c3-8454-66c65dd0bbe3",
   "metadata": {},
   "source": [
    "### 5. WAP to multiply all the items in dictionary"
   ]
  },
  {
   "cell_type": "code",
   "execution_count": 111,
   "id": "98c558ac-0cbd-4f63-9564-85542b62911c",
   "metadata": {},
   "outputs": [
    {
     "name": "stdout",
     "output_type": "stream",
     "text": [
      "dict_values([20, 40, 10])\n",
      "Multiplication of all values is 8000\n"
     ]
    }
   ],
   "source": [
    "def multiply_value(dict):\n",
    "    values=dict.values()\n",
    "    print(values)\n",
    "\n",
    "    res=1\n",
    "    for val in values:\n",
    "        res=res*val\n",
    "    print(\"Multiplication of all values is\",res) \n",
    "\n",
    "multiply_value({'data1':20,'data2':40,'data3':10})"
   ]
  },
  {
   "cell_type": "markdown",
   "id": "c9a19d0a-d59a-438e-9e88-40f1c053d556",
   "metadata": {},
   "source": [
    "### 6. Print the letter Q in the form of * pattern"
   ]
  },
  {
   "cell_type": "code",
   "execution_count": 26,
   "id": "0727fa9a-4495-4df6-b544-a5ccd86f3f56",
   "metadata": {},
   "outputs": [
    {
     "name": "stdout",
     "output_type": "stream",
     "text": [
      " *** \n",
      "*   *\n",
      "*   *\n",
      "*   *\n",
      "*   *\n",
      "**  *\n",
      " *** \n",
      "   * \n"
     ]
    }
   ],
   "source": [
    "for row in range(8):\n",
    "    for col in range(5):\n",
    "        if (((col==0 or col==4) and (row!=0 and row!=6)) and row!=7) or ((row==0  or row==6) and (col>0 and col<4)) or (row==5 and col==1) or (row==7 and col==3):\n",
    "            print('*',end='')\n",
    "        else:\n",
    "            print(end=' ')\n",
    "    print()        "
   ]
  },
  {
   "cell_type": "markdown",
   "id": "0abab731-228c-4295-b338-bc46a633f026",
   "metadata": {},
   "source": [
    "### 7. Print the letter R in the form of * pattern"
   ]
  },
  {
   "cell_type": "code",
   "execution_count": 23,
   "id": "6255e539-4f92-40a2-b2e3-1a5736a47aaa",
   "metadata": {},
   "outputs": [
    {
     "name": "stdout",
     "output_type": "stream",
     "text": [
      "**** \n",
      "*   *\n",
      "*   *\n",
      "**** \n",
      "*   *\n",
      "*   *\n",
      "*   *\n"
     ]
    }
   ],
   "source": [
    "for row in range(7):\n",
    "    for col in range(5):\n",
    "        if (col==0) or (row==3 and col!=4) or (row==0 and (col>0 and col<4)) or (col==4 and (row!=0 and row!=3)):\n",
    "            print('*',end='')\n",
    "        else:\n",
    "            print(end=' ')\n",
    "    print()        "
   ]
  },
  {
   "cell_type": "markdown",
   "id": "0ab8be64-20ce-4832-8e95-5430ed009e79",
   "metadata": {},
   "source": [
    "### 8. print the letter S in the form of * pattern "
   ]
  },
  {
   "cell_type": "code",
   "execution_count": 36,
   "id": "442df9de-bd56-4763-9577-bd98f1b0fe07",
   "metadata": {},
   "outputs": [
    {
     "name": "stdout",
     "output_type": "stream",
     "text": [
      " *** \n",
      "*    \n",
      "*    \n",
      " *** \n",
      "    *\n",
      "    *\n",
      " *** \n"
     ]
    }
   ],
   "source": [
    "for row in range(7):\n",
    "    for col in range(5):\n",
    "        if ((row==0 or row==3 or row==6 ) and (col>0 and col<4)) or (col==0 and (row==1 or row==2)) or (col==4 and (row==4 or row==5)):\n",
    "            print('*',end='')\n",
    "        else:   \n",
    "            print(end=' ')\n",
    "    print()        "
   ]
  },
  {
   "cell_type": "markdown",
   "id": "58b4996d-3ae2-4037-8c59-2f87a07ec8d2",
   "metadata": {},
   "source": [
    "### 9 print the letter T in the form of * pattern"
   ]
  },
  {
   "cell_type": "code",
   "execution_count": 43,
   "id": "8d4f9bf4-01d5-4a95-8702-ccc9a2050539",
   "metadata": {},
   "outputs": [
    {
     "name": "stdout",
     "output_type": "stream",
     "text": [
      "*****\n",
      "  *  \n",
      "  *  \n",
      "  *  \n",
      "  *  \n",
      "  *  \n",
      "  *  \n"
     ]
    }
   ],
   "source": [
    "for row in range(7):\n",
    "    for col in range(5):\n",
    "        if (row==0) or (col==2 and row!=0):\n",
    "            print('*',end='')\n",
    "        else:\n",
    "            print(end=' ')\n",
    "    print()        "
   ]
  },
  {
   "cell_type": "markdown",
   "id": "a88d6373-c1b4-4648-842d-072cbcb9c9bc",
   "metadata": {},
   "source": [
    "### 10. Print the letter T in the form of * pattern"
   ]
  },
  {
   "cell_type": "code",
   "execution_count": 52,
   "id": "4b9bf1b6-5215-4e22-ae07-5071ad36af0e",
   "metadata": {},
   "outputs": [
    {
     "name": "stdout",
     "output_type": "stream",
     "text": [
      "*   *\n",
      "*   *\n",
      "*   *\n",
      "*   *\n",
      "*   *\n",
      "*   *\n",
      " *** \n"
     ]
    }
   ],
   "source": [
    "for row in range(7):\n",
    "    for col in range(5):\n",
    "        if ((col==0 or col==4) and (row!=6)) or (row==6 and (col>0 and col<4)):\n",
    "            print(\"*\",end='')\n",
    "        else:\n",
    "            print(end=' ')\n",
    "    print()        "
   ]
  },
  {
   "cell_type": "code",
   "execution_count": null,
   "id": "9b6379ef-4c15-4dbc-8bcd-7be0b3c2b077",
   "metadata": {},
   "outputs": [],
   "source": []
  }
 ],
 "metadata": {
  "kernelspec": {
   "display_name": "Python 3 (ipykernel)",
   "language": "python",
   "name": "python3"
  },
  "language_info": {
   "codemirror_mode": {
    "name": "ipython",
    "version": 3
   },
   "file_extension": ".py",
   "mimetype": "text/x-python",
   "name": "python",
   "nbconvert_exporter": "python",
   "pygments_lexer": "ipython3",
   "version": "3.12.4"
  }
 },
 "nbformat": 4,
 "nbformat_minor": 5
}
