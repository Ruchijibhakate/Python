{
 "cells": [
  {
   "cell_type": "markdown",
   "id": "360b0bb4-40a2-4c56-9e17-fd891ab0b748",
   "metadata": {},
   "source": [
    "### 1. Write a python function to check whether the number is perfect or not"
   ]
  },
  {
   "cell_type": "code",
   "execution_count": 26,
   "id": "5aaa5791-1e24-4bb1-af09-dfb3f47311dd",
   "metadata": {},
   "outputs": [
    {
     "name": "stdout",
     "output_type": "stream",
     "text": [
      "Sum of factors of 28 is 28\n",
      "28 is perfect number\n"
     ]
    }
   ],
   "source": [
    "def perfect_number(num):\n",
    "    sum=0\n",
    "    for i in range(1,num):\n",
    "        if num%i==0:\n",
    "            sum=sum+i\n",
    "    print('Sum of factors of',num,'is',sum)        # num is excluded in sum\n",
    "    if sum==num:\n",
    "        print(num,'is perfect number')\n",
    "    else:\n",
    "        print(num,'is not perfect nuber')\n",
    "\n",
    "perfect_number(28)            "
   ]
  },
  {
   "cell_type": "markdown",
   "id": "8e704453-7263-4170-8bf7-e0303a9b956d",
   "metadata": {},
   "source": [
    "### 2. Write a python function that checks whether a passed string is palindrome or not"
   ]
  },
  {
   "cell_type": "code",
   "execution_count": 33,
   "id": "f70b8d8f-7c66-4c90-89bb-764a32fb6e12",
   "metadata": {},
   "outputs": [
    {
     "name": "stdout",
     "output_type": "stream",
     "text": [
      "Given string is Palindome\n"
     ]
    }
   ],
   "source": [
    "def palindrome(str):\n",
    "    rev_str=str[::-1]\n",
    "    if str==rev_str:\n",
    "        print('Given string is Palindome')\n",
    "    else:\n",
    "        print('Given string is not Palindome')\n",
    "\n",
    "palindrome('wow')"
   ]
  },
  {
   "cell_type": "markdown",
   "id": "ffed67d6-7aba-4063-bb73-82d588b39f8d",
   "metadata": {},
   "source": [
    "### 3. Write a python function to create and print the list where the values are the squares of numbers between 1 to 30 (both included)"
   ]
  },
  {
   "cell_type": "code",
   "execution_count": 45,
   "id": "40f42138-e47a-4945-8a9c-ea93ad9d880b",
   "metadata": {},
   "outputs": [
    {
     "data": {
      "text/plain": [
       "[1,\n",
       " 4,\n",
       " 9,\n",
       " 16,\n",
       " 25,\n",
       " 36,\n",
       " 49,\n",
       " 64,\n",
       " 81,\n",
       " 100,\n",
       " 121,\n",
       " 144,\n",
       " 169,\n",
       " 196,\n",
       " 225,\n",
       " 256,\n",
       " 289,\n",
       " 324,\n",
       " 361,\n",
       " 400,\n",
       " 441,\n",
       " 484,\n",
       " 529,\n",
       " 576,\n",
       " 625,\n",
       " 676,\n",
       " 729,\n",
       " 784,\n",
       " 841,\n",
       " 900]"
      ]
     },
     "execution_count": 45,
     "metadata": {},
     "output_type": "execute_result"
    }
   ],
   "source": [
    "def square_list():\n",
    "    square_list=[]\n",
    "    for i in range(1,31):\n",
    "        square_list.append(i*i)\n",
    "    return square_list\n",
    "\n",
    "square_list()"
   ]
  },
  {
   "cell_type": "markdown",
   "id": "1861640a-d549-476a-bdbe-81d199981a5a",
   "metadata": {},
   "source": [
    "### 4. Write a python program to access a function inside a function"
   ]
  },
  {
   "cell_type": "code",
   "execution_count": 52,
   "id": "1187b8f6-7280-4ca2-a3df-791f9b6d669f",
   "metadata": {},
   "outputs": [
    {
     "name": "stdout",
     "output_type": "stream",
     "text": [
      "9\n"
     ]
    }
   ],
   "source": [
    "def test(a):\n",
    "    def add(b):\n",
    "        nonlocal a\n",
    "        a=a+1\n",
    "        return a+b\n",
    "    return add\n",
    "func=test(4)\n",
    "print(func(4))"
   ]
  },
  {
   "cell_type": "markdown",
   "id": "f5ac2862-3d1f-4349-9b06-120431b2e1c5",
   "metadata": {},
   "source": [
    "### 5. Write a python programm to detect the number of local variables declared in the function"
   ]
  },
  {
   "cell_type": "code",
   "execution_count": 55,
   "id": "feda8165-f0b4-4376-8f9e-a01758b97709",
   "metadata": {},
   "outputs": [
    {
     "name": "stdout",
     "output_type": "stream",
     "text": [
      "3\n"
     ]
    }
   ],
   "source": [
    "def count():\n",
    "    a=1\n",
    "    b=3\n",
    "    c='ruchi'\n",
    "\n",
    "print(count.__code__.co_nlocals)"
   ]
  },
  {
   "cell_type": "markdown",
   "id": "8288d7d6-cba2-4bb5-9820-9e141860d464",
   "metadata": {},
   "source": [
    "### 6. Print the Pattern"
   ]
  },
  {
   "cell_type": "code",
   "execution_count": 74,
   "id": "c238534c-be52-45e4-b095-9955dffbf17d",
   "metadata": {},
   "outputs": [
    {
     "name": "stdout",
     "output_type": "stream",
     "text": [
      "          1 \n",
      "        2 2 2 \n",
      "      3 3 3 3 3 \n",
      "    4 4 4 4 4 4 4 \n",
      "  5 5 5 5 5 5 5 5 5 \n",
      "    6 6 6 6 6 6 6 \n",
      "      7 7 7 7 7 \n",
      "        8 8 8 \n",
      "          9 \n"
     ]
    }
   ],
   "source": [
    "n=5\n",
    "for i in range(1,n+1):\n",
    "    for j in range(i,n+1):\n",
    "        print(' ',end=' ')\n",
    "    for j in range(1,i+1):\n",
    "        print(i,end=' ')\n",
    "    for j in range(2,i+1):\n",
    "        print(i,end=' ')\n",
    "    print()\n",
    "p=6    \n",
    "for i in range(2,n+1):\n",
    "    for j in range(1,i+1):\n",
    "        print(' ',end=' ')\n",
    "    for j in range(i,n+1):\n",
    "        print(p,end=' ')\n",
    "    for j in range(i,n):\n",
    "        print(p,end=' ')\n",
    "    p=p+1\n",
    "    print()"
   ]
  },
  {
   "cell_type": "markdown",
   "id": "50b48d15-edb1-492b-8211-43b5081c8940",
   "metadata": {},
   "source": [
    "### 7. Print the pattern"
   ]
  },
  {
   "cell_type": "code",
   "execution_count": 86,
   "id": "6eb36966-a0d8-4eb1-9f41-866c4a1039e5",
   "metadata": {},
   "outputs": [
    {
     "name": "stdout",
     "output_type": "stream",
     "text": [
      "        1 \n",
      "      2 2 2 \n",
      "    3 3 3 3 3 \n",
      "  4 4 4 4 4 4 4 \n",
      "1 1 1 1 1 1 1 1 1 \n",
      "  2 2 2 2 2 2 2 \n",
      "    3 3 3 3 3 \n",
      "      4 4 4 \n",
      "        5 \n"
     ]
    }
   ],
   "source": [
    "n=4\n",
    "p=1\n",
    "for i in range(1,n+1):\n",
    "    for j in range(i,n+1):\n",
    "        print(' ',end=' ')\n",
    "    for j in range(1,i+1):\n",
    "        print(p,end=' ')\n",
    "    for j in range(2,i+1):\n",
    "        print(p,end=' ')\n",
    "    p=p+1\n",
    "    print()\n",
    "p=1\n",
    "for i in range(n+1):\n",
    "    for j in range(1,i+1):\n",
    "        print(' ',end=' ')\n",
    "    for j in range(i,n+1):\n",
    "        print(p,end=' ')\n",
    "    for j in range(i,n):\n",
    "        print(p,end=' ')\n",
    "    p=p+1\n",
    "    print()"
   ]
  },
  {
   "cell_type": "markdown",
   "id": "0280e384-41f7-4c8a-aefa-b9b28972dcbe",
   "metadata": {},
   "source": [
    "### 8. Print the pattern"
   ]
  },
  {
   "cell_type": "code",
   "execution_count": 89,
   "id": "e5301897-7ea9-4008-9fa9-f6b9c11a5b24",
   "metadata": {},
   "outputs": [
    {
     "name": "stdout",
     "output_type": "stream",
     "text": [
      "        1 \n",
      "      2 2 2 \n",
      "    3 3 3 3 3 \n",
      "  4 4 4 4 4 4 4 \n",
      "5 5 5 5 5 5 5 5 5 \n",
      "  4 4 4 4 4 4 4 \n",
      "    3 3 3 3 3 \n",
      "      2 2 2 \n",
      "        1 \n"
     ]
    }
   ],
   "source": [
    "n=4\n",
    "p=1\n",
    "for i in range(1,n+1):\n",
    "    for j in range(i,n+1):\n",
    "        print(' ',end=' ')\n",
    "    for j in range(1,i+1):\n",
    "        print(p,end=' ')\n",
    "    for j in range(2,i+1):\n",
    "        print(p,end=' ')\n",
    "    p=p+1\n",
    "    print()\n",
    "p=5\n",
    "for i in range(n+1):\n",
    "    for j in range(1,i+1):\n",
    "        print(' ',end=' ')\n",
    "    for j in range(i,n+1):\n",
    "        print(p,end=' ')\n",
    "    for j in range(i,n):\n",
    "        print(p,end=' ')\n",
    "    p=p-1\n",
    "    print()"
   ]
  },
  {
   "cell_type": "markdown",
   "id": "4fc96d7b-890f-4828-ac69-f2b53497cf0f",
   "metadata": {},
   "source": [
    "### 9. Print the pattern"
   ]
  },
  {
   "cell_type": "code",
   "execution_count": 102,
   "id": "26170f05-4849-48a5-9bfe-b0329bb9384a",
   "metadata": {},
   "outputs": [
    {
     "name": "stdout",
     "output_type": "stream",
     "text": [
      "          1 \n",
      "        1 2 3 \n",
      "      1 2 3 4 5 \n",
      "    1 2 3 4 5 6 7 \n",
      "  1 2 3 4 5 6 7 8 9 \n"
     ]
    }
   ],
   "source": [
    "n=5\n",
    "for i in range(1,n+1):\n",
    "    p=1\n",
    "    for j in range(i,n+1):\n",
    "        print(' ',end=' ')\n",
    "    for j in range(1,i+1):\n",
    "        print(p,end=' ')\n",
    "        p=p+1   \n",
    "    for j in range(1,i):\n",
    "        print(p,end=' ')\n",
    "        p=p+1\n",
    "    print()    "
   ]
  },
  {
   "cell_type": "markdown",
   "id": "a2b8c4f8-c653-4468-ade7-1cedb88c7d3d",
   "metadata": {},
   "source": [
    "### 10. Print the pattern"
   ]
  },
  {
   "cell_type": "code",
   "execution_count": 109,
   "id": "753f0a88-3022-4a5c-acb0-31c9ca6b0c79",
   "metadata": {},
   "outputs": [
    {
     "name": "stdout",
     "output_type": "stream",
     "text": [
      "          1 \n",
      "        1 2 3 \n",
      "      1 2 3 4 5 \n",
      "    1 2 3 4 5 6 7 \n",
      "  1 2 3 4 5 6 7 8 9 \n",
      "    1 2 3 4 5 6 7 \n",
      "      1 2 3 4 5 \n",
      "        1 2 3 \n",
      "          1 \n"
     ]
    }
   ],
   "source": [
    "n=5\n",
    "for i in range(1,n+1):\n",
    "    p=1\n",
    "    for j in range(i,n+1):\n",
    "        print(' ',end=' ')\n",
    "    for j in range(1,i+1):\n",
    "        print(p,end=' ')\n",
    "        p=p+1   \n",
    "    for j in range(1,i):\n",
    "        print(p,end=' ')\n",
    "        p=p+1\n",
    "    print()    \n",
    "\n",
    "for i in range(2,n+1):\n",
    "    p=1\n",
    "    for j in range(1,i+1):\n",
    "        print(' ',end=' ')\n",
    "    for j in range(i,n+1):\n",
    "        print(p,end=' ')\n",
    "        p=p+1\n",
    "    for j in range(i,n):\n",
    "        print(p,end=' ')\n",
    "        p=p+1\n",
    "    print()    \n",
    "        "
   ]
  },
  {
   "cell_type": "code",
   "execution_count": null,
   "id": "76385b2f-57bb-4620-a397-7e16bdf225cc",
   "metadata": {},
   "outputs": [],
   "source": []
  }
 ],
 "metadata": {
  "kernelspec": {
   "display_name": "Python 3 (ipykernel)",
   "language": "python",
   "name": "python3"
  },
  "language_info": {
   "codemirror_mode": {
    "name": "ipython",
    "version": 3
   },
   "file_extension": ".py",
   "mimetype": "text/x-python",
   "name": "python",
   "nbconvert_exporter": "python",
   "pygments_lexer": "ipython3",
   "version": "3.12.4"
  }
 },
 "nbformat": 4,
 "nbformat_minor": 5
}
