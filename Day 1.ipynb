{
 "cells": [
  {
   "cell_type": "markdown",
   "id": "716ab107-8f4b-4f72-9332-cb948e576967",
   "metadata": {},
   "source": [
    "1. WAP to print addition of two numbers"
   ]
  },
  {
   "cell_type": "code",
   "execution_count": 1,
   "id": "73fbe86f-9a4a-487c-a737-36ddb955c9c3",
   "metadata": {},
   "outputs": [
    {
     "name": "stdin",
     "output_type": "stream",
     "text": [
      "Enter first number: 457\n",
      "Enter second number: 189\n"
     ]
    },
    {
     "name": "stdout",
     "output_type": "stream",
     "text": [
      "Addition of two number= 646\n"
     ]
    }
   ],
   "source": [
    "n1=int(input(\"Enter first number:\"))\n",
    "n2=int(input(\"Enter second number:\"))\n",
    "Add=n1+n2\n",
    "print(\"Addition of two number=\",Add)"
   ]
  },
  {
   "cell_type": "markdown",
   "id": "e0748ba5-6562-4e0d-a817-b55748532cfd",
   "metadata": {},
   "source": [
    "2. WAP to print substraction of two number"
   ]
  },
  {
   "cell_type": "code",
   "execution_count": 3,
   "id": "af5780be-c7f6-430a-8a6d-cedad5b4d6b4",
   "metadata": {},
   "outputs": [
    {
     "name": "stdin",
     "output_type": "stream",
     "text": [
      "Enter first number: 35.07\n",
      "Enter second number: 571.3\n"
     ]
    },
    {
     "name": "stdout",
     "output_type": "stream",
     "text": [
      "Substraction of two number= -536.2299999999999\n"
     ]
    }
   ],
   "source": [
    "n1=float(input(\"Enter first number:\"))\n",
    "n2=float(input(\"Enter second number:\"))\n",
    "sub=n1-n2\n",
    "print(\"Substraction of two number=\",sub)"
   ]
  },
  {
   "cell_type": "markdown",
   "id": "c1678445-0d2f-4469-bc18-e27c585dde79",
   "metadata": {},
   "source": [
    "3. WAP to print multiplication of three number"
   ]
  },
  {
   "cell_type": "code",
   "execution_count": 5,
   "id": "23405f84-e2e5-49c1-8311-e6514ae93766",
   "metadata": {},
   "outputs": [
    {
     "name": "stdin",
     "output_type": "stream",
     "text": [
      "Enter first number: 23\n",
      "Enter second number: 9\n",
      "Enter third number: 17\n"
     ]
    },
    {
     "name": "stdout",
     "output_type": "stream",
     "text": [
      "Multiplication of three number= 3519\n"
     ]
    }
   ],
   "source": [
    "n1=int(input(\"Enter first number:\"))\n",
    "n2=int(input(\"Enter second number:\"))\n",
    "n3=int(input(\"Enter third number:\"))\n",
    "multi=n1*n2*n3\n",
    "print(\"Multiplication of three number=\",multi)"
   ]
  },
  {
   "cell_type": "markdown",
   "id": "6dc86c9a-bbe9-4d81-aa21-56bab1da91f4",
   "metadata": {},
   "source": [
    "4. WAP to print division of two number"
   ]
  },
  {
   "cell_type": "code",
   "execution_count": 11,
   "id": "63559610-a809-4fc4-97e3-276e4ff837ab",
   "metadata": {},
   "outputs": [
    {
     "name": "stdin",
     "output_type": "stream",
     "text": [
      "Enter dividend: 546\n",
      "Enter divisor: 28\n"
     ]
    },
    {
     "name": "stdout",
     "output_type": "stream",
     "text": [
      "Division of two number: 19.5\n"
     ]
    }
   ],
   "source": [
    "n1=int(input(\"Enter dividend:\"))\n",
    "n2=int(input(\"Enter divisor:\"))\n",
    "div=n1/n2\n",
    "print(\"Division of two number:\",div)"
   ]
  },
  {
   "cell_type": "markdown",
   "id": "8405fc36-0e78-482b-8a73-3aaaf4dfe9a4",
   "metadata": {},
   "source": [
    "5. WAP to print remainder of division"
   ]
  },
  {
   "cell_type": "code",
   "execution_count": 13,
   "id": "2150f71d-ad59-40ae-b948-f5b9937d7385",
   "metadata": {},
   "outputs": [
    {
     "name": "stdin",
     "output_type": "stream",
     "text": [
      "Enter dividend: 652\n",
      "Enter divisor: 73\n"
     ]
    },
    {
     "name": "stdout",
     "output_type": "stream",
     "text": [
      "Remainder: 68\n"
     ]
    }
   ],
   "source": [
    "n1=int(input(\"Enter dividend:\"))\n",
    "n2=int(input(\"Enter divisor:\"))\n",
    "rem=n1%n2\n",
    "print(\"Remainder:\",rem)"
   ]
  },
  {
   "cell_type": "markdown",
   "id": "aa39fc9e-c4d9-4abc-be68-2743c67cf458",
   "metadata": {},
   "source": [
    "6.WAP to print quotient of division"
   ]
  },
  {
   "cell_type": "code",
   "execution_count": 15,
   "id": "8069a9cd-5c98-4fde-899f-e83117e4bfd7",
   "metadata": {},
   "outputs": [
    {
     "name": "stdin",
     "output_type": "stream",
     "text": [
      "Enter dividend 63\n",
      "Enter divisor 37\n"
     ]
    },
    {
     "name": "stdout",
     "output_type": "stream",
     "text": [
      "Quotient= 1\n"
     ]
    }
   ],
   "source": [
    "n1=int(input(\"Enter dividend\"))\n",
    "n2=int(input(\"Enter divisor\"))\n",
    "quot=n1//n2\n",
    "print(\"Quotient=\",quot)"
   ]
  },
  {
   "cell_type": "markdown",
   "id": "ced5a15c-8784-4343-a58c-04a02856f98f",
   "metadata": {},
   "source": [
    "7.WAP to print power of number"
   ]
  },
  {
   "cell_type": "code",
   "execution_count": 17,
   "id": "996b0231-09da-4d1e-a9e2-f480eea9777b",
   "metadata": {},
   "outputs": [
    {
     "name": "stdin",
     "output_type": "stream",
     "text": [
      "Enter a number: 6\n"
     ]
    },
    {
     "name": "stdout",
     "output_type": "stream",
     "text": [
      "Power= 36\n"
     ]
    }
   ],
   "source": [
    "num=int(input(\"Enter a number:\"))\n",
    "pow=num**2\n",
    "print(\"Power=\",pow)"
   ]
  },
  {
   "cell_type": "markdown",
   "id": "2421b894-2b9a-4d0d-b967-9f29e77e947f",
   "metadata": {},
   "source": [
    "8.WAP to print area of circle"
   ]
  },
  {
   "cell_type": "code",
   "execution_count": 21,
   "id": "7c4ec5be-9593-4843-824c-410e9ff13b87",
   "metadata": {},
   "outputs": [
    {
     "name": "stdin",
     "output_type": "stream",
     "text": [
      "Enter the radius: 5\n"
     ]
    },
    {
     "name": "stdout",
     "output_type": "stream",
     "text": [
      "Area of circle= 78.5\n"
     ]
    }
   ],
   "source": [
    "radius=int(input(\"Enter the radius:\"))\n",
    "area_circle=3.14*radius**2\n",
    "print(\"Area of circle=\",area_circle)"
   ]
  },
  {
   "cell_type": "markdown",
   "id": "90f8f5dc-b0aa-42ed-a208-755bdd42bb97",
   "metadata": {},
   "source": [
    "9.WAP to print area of triangle"
   ]
  },
  {
   "cell_type": "code",
   "execution_count": 25,
   "id": "abaa79b0-caaf-4eec-90f3-f75bdf9fd437",
   "metadata": {},
   "outputs": [
    {
     "name": "stdin",
     "output_type": "stream",
     "text": [
      "Enter the base: 16\n",
      "Enter the height: 25\n"
     ]
    },
    {
     "name": "stdout",
     "output_type": "stream",
     "text": [
      "Area of triangle= 200.0\n"
     ]
    }
   ],
   "source": [
    "base=int(input(\"Enter the base:\"))\n",
    "height=int(input(\"Enter the height:\"))\n",
    "area_triangle=(base*height)/2\n",
    "print(\"Area of triangle=\",area_triangle)"
   ]
  },
  {
   "cell_type": "markdown",
   "id": "02ed42b8-0d11-4a7a-a50b-ce65aec0a9a0",
   "metadata": {},
   "source": [
    "10.WAP to print area of square"
   ]
  },
  {
   "cell_type": "code",
   "execution_count": 27,
   "id": "a3ce0c6a-b6f7-46d3-a234-5a0cac27e744",
   "metadata": {},
   "outputs": [
    {
     "name": "stdin",
     "output_type": "stream",
     "text": [
      "Enter side of square: 9\n"
     ]
    },
    {
     "name": "stdout",
     "output_type": "stream",
     "text": [
      "Area of square= 81\n"
     ]
    }
   ],
   "source": [
    "side=int(input(\"Enter side of square:\"))\n",
    "area_square=side*side\n",
    "print(\"Area of square=\",area_square)"
   ]
  },
  {
   "cell_type": "code",
   "execution_count": null,
   "id": "3e014266-e52b-4a9e-83ce-fa1d08fa067f",
   "metadata": {},
   "outputs": [],
   "source": []
  }
 ],
 "metadata": {
  "kernelspec": {
   "display_name": "Python 3 (ipykernel)",
   "language": "python",
   "name": "python3"
  },
  "language_info": {
   "codemirror_mode": {
    "name": "ipython",
    "version": 3
   },
   "file_extension": ".py",
   "mimetype": "text/x-python",
   "name": "python",
   "nbconvert_exporter": "python",
   "pygments_lexer": "ipython3",
   "version": "3.12.4"
  }
 },
 "nbformat": 4,
 "nbformat_minor": 5
}
