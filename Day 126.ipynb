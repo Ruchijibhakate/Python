{
 "cells": [
  {
   "cell_type": "markdown",
   "id": "b1fa8c25-1a29-4836-9221-9c5766a8eeaf",
   "metadata": {},
   "source": [
    "### 1. Get Largest number in List"
   ]
  },
  {
   "cell_type": "code",
   "execution_count": 5,
   "id": "4e561dd1-2d54-40d5-b1a5-8d66cdffacfc",
   "metadata": {},
   "outputs": [
    {
     "name": "stdout",
     "output_type": "stream",
     "text": [
      "100\n"
     ]
    }
   ],
   "source": [
    "L=[4,0,8,20,100,36]\n",
    "max=L[0]\n",
    "for i in L:\n",
    "    if i>max:\n",
    "        max=i\n",
    "print(max)        "
   ]
  },
  {
   "cell_type": "markdown",
   "id": "9287c0fb-8f41-4332-b04a-3be3599d407e",
   "metadata": {},
   "source": [
    "### 2. Get Smallest number in List"
   ]
  },
  {
   "cell_type": "code",
   "execution_count": 9,
   "id": "953982dc-44cf-4b49-a043-fc3c35dd3754",
   "metadata": {},
   "outputs": [
    {
     "name": "stdout",
     "output_type": "stream",
     "text": [
      "3\n"
     ]
    }
   ],
   "source": [
    "L=[10,15,3,90,6,26]\n",
    "min=L[0]\n",
    "for i in L:\n",
    "    if i<min:\n",
    "        min=i\n",
    "print(min)        "
   ]
  },
  {
   "cell_type": "code",
   "execution_count": null,
   "id": "810f1040-8147-4ab6-a31e-f9b2412890cf",
   "metadata": {},
   "outputs": [],
   "source": []
  }
 ],
 "metadata": {
  "kernelspec": {
   "display_name": "Python 3 (ipykernel)",
   "language": "python",
   "name": "python3"
  },
  "language_info": {
   "codemirror_mode": {
    "name": "ipython",
    "version": 3
   },
   "file_extension": ".py",
   "mimetype": "text/x-python",
   "name": "python",
   "nbconvert_exporter": "python",
   "pygments_lexer": "ipython3",
   "version": "3.12.4"
  }
 },
 "nbformat": 4,
 "nbformat_minor": 5
}
