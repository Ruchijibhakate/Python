{
 "cells": [
  {
   "cell_type": "markdown",
   "id": "dbc77e90-363d-48f8-8231-beb6d1446215",
   "metadata": {},
   "source": [
    "### 1. WAP to print index of character in string"
   ]
  },
  {
   "cell_type": "code",
   "execution_count": 12,
   "id": "cea90884-78b4-4a24-9b44-160c19d93c6b",
   "metadata": {},
   "outputs": [
    {
     "name": "stdout",
     "output_type": "stream",
     "text": [
      "Index of w : 0\n",
      "Index of e : 1\n",
      "Index of a : 2\n",
      "Index of t : 3\n",
      "Index of h : 4\n",
      "Index of e : 1\n",
      "Index of r : 6\n",
      "Index of ! : 7\n"
     ]
    }
   ],
   "source": [
    "str='weather!'\n",
    "for i in str:\n",
    "    print('Index of',i,':',str.index(i))"
   ]
  },
  {
   "cell_type": "markdown",
   "id": "a84447b6-5c1d-43b6-9288-d73056e98b41",
   "metadata": {},
   "source": [
    "### 2. WAP to split a string on the last occurrence of delimiter"
   ]
  },
  {
   "cell_type": "code",
   "execution_count": 17,
   "id": "508ecdfa-a3d1-4c9d-8746-7b7a77b51555",
   "metadata": {},
   "outputs": [
    {
     "name": "stdout",
     "output_type": "stream",
     "text": [
      "['r,e,s,o,u,r,c,e', 's']\n",
      "['r,e,s,o,u,r,c', 'e', 's']\n",
      "['r,e,s,o,u,r', 'c', 'e', 's']\n"
     ]
    }
   ],
   "source": [
    "str='r,e,s,o,u,r,c,e,s'\n",
    "print(str.rsplit(',',1))\n",
    "print(str.rsplit(',',2))\n",
    "print(str.rsplit(',',3))"
   ]
  },
  {
   "cell_type": "markdown",
   "id": "728fb021-142a-4eda-82fc-828a5ad2b6e9",
   "metadata": {},
   "source": [
    "### 3. WAP to find first non repeating character in given string"
   ]
  },
  {
   "cell_type": "code",
   "execution_count": 26,
   "id": "bab63f27-4586-4f06-aff5-9fb381c2ce85",
   "metadata": {},
   "outputs": [
    {
     "name": "stdout",
     "output_type": "stream",
     "text": [
      "a\n",
      "c\n",
      "None\n"
     ]
    }
   ],
   "source": [
    "def first_non_rep_char(str1):\n",
    "    char_order=[]\n",
    "    ctr={}\n",
    "    for c in str1:\n",
    "        if c in ctr:\n",
    "            ctr[c]+=1\n",
    "        else:\n",
    "            ctr[c]=1\n",
    "            char_order.append(c)\n",
    "\n",
    "    for c in char_order:\n",
    "        if ctr[c]==1:\n",
    "            return c\n",
    "    return None\n",
    "\n",
    "print(first_non_rep_char('abcdef'))\n",
    "print(first_non_rep_char('abcabedf'))\n",
    "print(first_non_rep_char('xxxyyy'))"
   ]
  },
  {
   "cell_type": "markdown",
   "id": "4c56fac6-968c-4c33-bc58-9643c233ec72",
   "metadata": {},
   "source": [
    "### 4. WAP to find first repeated charachters in string"
   ]
  },
  {
   "cell_type": "code",
   "execution_count": 31,
   "id": "25fb91d6-0a77-4192-8f85-7acdee667c61",
   "metadata": {},
   "outputs": [
    {
     "name": "stdout",
     "output_type": "stream",
     "text": [
      "a\n",
      "f\n"
     ]
    }
   ],
   "source": [
    "def first_rep_char(str1):\n",
    "    for index, c in enumerate(str1):\n",
    "        if str1[:index+1].count(c)>1:\n",
    "            return c\n",
    "    return None\n",
    "\n",
    "print(first_rep_char('abcarfg'))\n",
    "print(first_rep_char('affgjd'))"
   ]
  },
  {
   "cell_type": "markdown",
   "id": "8de8385d-c5fa-4a26-9274-9c93ceb66393",
   "metadata": {},
   "source": [
    " ### 5. WAP to find the first repeated character in given string where the index of first occurence is smallest"
   ]
  },
  {
   "cell_type": "code",
   "execution_count": 36,
   "id": "d0253d16-1c53-4df0-825a-6d22a2389f58",
   "metadata": {},
   "outputs": [
    {
     "name": "stdout",
     "output_type": "stream",
     "text": [
      "('s', 0)\n",
      "('v', 0)\n",
      "('o', 2)\n"
     ]
    }
   ],
   "source": [
    "def first_rep_char_small_dist(str1):\n",
    "    temp={}\n",
    "    for ch in str1:\n",
    "        if ch in temp:\n",
    "            return ch, str1.index(ch)\n",
    "        else:\n",
    "            temp[ch]=0\n",
    "    return None\n",
    "print(first_rep_char_small_dist('sdgshjl'))\n",
    "print(first_rep_char_small_dist('vvznoesv'))\n",
    "print(first_rep_char_small_dist('lwooapfdg'))"
   ]
  },
  {
   "cell_type": "code",
   "execution_count": null,
   "id": "941e6da8-f857-449e-87b1-54b5dbaba7e4",
   "metadata": {},
   "outputs": [],
   "source": []
  }
 ],
 "metadata": {
  "kernelspec": {
   "display_name": "Python 3 (ipykernel)",
   "language": "python",
   "name": "python3"
  },
  "language_info": {
   "codemirror_mode": {
    "name": "ipython",
    "version": 3
   },
   "file_extension": ".py",
   "mimetype": "text/x-python",
   "name": "python",
   "nbconvert_exporter": "python",
   "pygments_lexer": "ipython3",
   "version": "3.12.4"
  }
 },
 "nbformat": 4,
 "nbformat_minor": 5
}
