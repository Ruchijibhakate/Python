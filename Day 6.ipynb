{
 "cells": [
  {
   "cell_type": "markdown",
   "id": "512996e8-7717-4b64-a375-9e883174247d",
   "metadata": {},
   "source": [
    "### 1. Accept the following from user and calculate percentage of class attendend:\n",
    "###    a. Total number of working days\n",
    "###    b. Total number of days absent \n",
    "### After calculating percentage show that , if the % is less than 75, then student will not be able to sit in exam"
   ]
  },
  {
   "cell_type": "code",
   "execution_count": 7,
   "id": "5e370682-0972-4aed-862d-066567897c21",
   "metadata": {},
   "outputs": [
    {
     "name": "stdin",
     "output_type": "stream",
     "text": [
      "Enter a Total number of working days 30\n",
      "Enter a Total number of absent days 10\n"
     ]
    },
    {
     "name": "stdout",
     "output_type": "stream",
     "text": [
      "66.66666666666666\n",
      "Student will not be able to sit in exam\n"
     ]
    }
   ],
   "source": [
    "w_days=int(input(\"Enter a Total number of working days\"))\n",
    "a_days=int(input(\"Enter a Total number of absent days\"))\n",
    "per=((w_days-a_days)/w_days)*100\n",
    "print(per)\n",
    "if (per<75):\n",
    "    print(\"Student will not be able to sit in exam\")\n",
    "else:\n",
    "    print(\"Student will be able to sit in exam\")"
   ]
  },
  {
   "cell_type": "markdown",
   "id": "c0631df6-6a31-4ea7-9086-cff8abd892e9",
   "metadata": {},
   "source": [
    "### 2.Accept the percentage from user and display the grade according to following criteria"
   ]
  },
  {
   "cell_type": "code",
   "execution_count": 17,
   "id": "eb4c347b-31cd-429e-9267-ca9e8d2249d4",
   "metadata": {},
   "outputs": [
    {
     "name": "stdin",
     "output_type": "stream",
     "text": [
      "Enter a percentage 60.68\n"
     ]
    },
    {
     "name": "stdout",
     "output_type": "stream",
     "text": [
      "A Grade\n"
     ]
    }
   ],
   "source": [
    "per=float(input(\"Enter a percentage\"))\n",
    "if(per>80):\n",
    "    print(\"A+ Grade\")\n",
    "elif(60<per<=80):\n",
    "    print(\"A Grade\")\n",
    "elif(50<per<=60):\n",
    "    print(\"B+ Grade\")\n",
    "elif(45<per<=50):\n",
    "    print(\"B Grade\")\n",
    "elif(25<per<=45):\n",
    "    print(\"C Grade\")\n",
    "else:\n",
    "    print(\"Grade D\")"
   ]
  },
  {
   "cell_type": "markdown",
   "id": "26e68a87-ab9c-459d-b3c4-785b3fb16606",
   "metadata": {},
   "source": [
    "### 3. A company decided to give a bonus to employ according to following criteria"
   ]
  },
  {
   "cell_type": "code",
   "execution_count": 25,
   "id": "122cd9b2-7785-4064-9b7b-fbc60c9724f6",
   "metadata": {},
   "outputs": [
    {
     "name": "stdin",
     "output_type": "stream",
     "text": [
      "Enter a time period of service  20\n",
      "Enter a salary  25000\n"
     ]
    },
    {
     "name": "stdout",
     "output_type": "stream",
     "text": [
      "2500.0\n"
     ]
    }
   ],
   "source": [
    "period=int(input(\"Enter a time period of service \"))    #in years\n",
    "sal=int(input(\"Enter a salary \"))\n",
    "if(period>10):\n",
    "    bonus=(10/100)*sal           # 10% bonus\n",
    "    print(bonus)\n",
    "elif(period>=6 and period<=10):\n",
    "    bonus=(8/100)*sal           # 8% bonus\n",
    "    print(bonus)\n",
    "else:\n",
    "    bonus=(5/100)*sal            # 5% bonus\n",
    "    print(bonus)"
   ]
  },
  {
   "cell_type": "markdown",
   "id": "103f2f6e-4358-4a45-a53d-c2d7926aaa88",
   "metadata": {},
   "source": [
    "### 4. Accept the market price from user and calculate the et amount as (Market price-Discount)to pay according to following criteria"
   ]
  },
  {
   "cell_type": "code",
   "execution_count": 33,
   "id": "61124817-c08b-474d-8b64-cb852fcd510f",
   "metadata": {},
   "outputs": [
    {
     "name": "stdin",
     "output_type": "stream",
     "text": [
      "Enter a market price 15000\n"
     ]
    },
    {
     "name": "stdout",
     "output_type": "stream",
     "text": [
      "Net amount to pay 12000.0\n"
     ]
    }
   ],
   "source": [
    "price=int(input(\"Enter a market price\"))\n",
    "if(price>10000):               \n",
    "    dis=(20/100)*price       # 20% dis\n",
    "    amt=price-dis\n",
    "    print(\"Net amount to pay\",amt)\n",
    "elif(price>7000 and price<=10000):\n",
    "    dis=(15/100)*price       # 15 % dis\n",
    "    amt=price-dis\n",
    "    print(\"Net amount to pay\",amt)     \n",
    "else:                  # for less than 7000\n",
    "    dis=(10/100)*price       # 10 % dis\n",
    "    amt=price-dis\n",
    "    print(\"Net amount to pay\",amt) "
   ]
  },
  {
   "cell_type": "markdown",
   "id": "fa122e75-8bab-40c4-a7c2-c77bfb4ccea0",
   "metadata": {},
   "source": [
    "### 5. WAP to accept percentage and display the categoryaccording to following crteria"
   ]
  },
  {
   "cell_type": "code",
   "execution_count": 37,
   "id": "0dd1ab18-3bd8-4d17-b46d-83e7dd975af2",
   "metadata": {},
   "outputs": [
    {
     "name": "stdin",
     "output_type": "stream",
     "text": [
      "Enter a percentage 74\n"
     ]
    },
    {
     "name": "stdout",
     "output_type": "stream",
     "text": [
      "Excellent\n"
     ]
    }
   ],
   "source": [
    "per=int(input(\"Enter a percentage\"))\n",
    "if(per<40):\n",
    "    print(\"Failed\")\n",
    "elif(per>=40 and per<55):\n",
    "    print(\"Fair\")\n",
    "elif(per>=55 and per<65):\n",
    "    print(\"Good\")\n",
    "elif(per>=65):\n",
    "    print(\"Excellent\")    "
   ]
  },
  {
   "cell_type": "markdown",
   "id": "c265e842-eba1-47fc-81e9-e3eabc2066b3",
   "metadata": {},
   "source": [
    "### 6.Accept three sides of a triangle and check whether its is an equilateral , isosceles or scalar triangle"
   ]
  },
  {
   "cell_type": "code",
   "execution_count": 5,
   "id": "30e68a2c-4d52-4061-a9fc-4871b89eba08",
   "metadata": {},
   "outputs": [
    {
     "name": "stdin",
     "output_type": "stream",
     "text": [
      "Enter the 1st side of traingle 4\n",
      "Enter the 2nd side of traingle 4\n",
      "Enter the 3rd side of traingle 5\n"
     ]
    },
    {
     "name": "stdout",
     "output_type": "stream",
     "text": [
      "It is an Isosceles triangle\n"
     ]
    }
   ],
   "source": [
    "a=int(input(\"Enter the 1st side of traingle\"))\n",
    "b=int(input(\"Enter the 2nd side of traingle\"))\n",
    "c=int(input(\"Enter the 3rd side of traingle\"))\n",
    "if(a==b==c):\n",
    "    print(\"It is an equilateral triangle\")\n",
    "elif(a==b or b==c or a==c):\n",
    "    print(\"It is an Isosceles triangle\")\n",
    "elif(a!=b!=c):\n",
    "    print(\"It is a scalar triangle\")\n",
    "\n"
   ]
  },
  {
   "cell_type": "markdown",
   "id": "19078541-ed38-490e-b224-930ff5a4b9a5",
   "metadata": {},
   "source": [
    "### 7. WAP to accept two numbers and mathematical operators and perform operation accordingly"
   ]
  },
  {
   "cell_type": "code",
   "execution_count": 21,
   "id": "b0109761-89d5-4900-a6c7-2e0ac0052231",
   "metadata": {},
   "outputs": [
    {
     "name": "stdin",
     "output_type": "stream",
     "text": [
      "Enter a 1st number 6\n",
      "Enter a 2nd number 8\n",
      "Enter a operator !\n"
     ]
    },
    {
     "name": "stdout",
     "output_type": "stream",
     "text": [
      "Enter the correct operator\n"
     ]
    }
   ],
   "source": [
    "a=int(input(\"Enter a 1st number\"))\n",
    "b=int(input(\"Enter a 2nd number\"))\n",
    "op=input(\"Enter a operator\")\n",
    "\n",
    "if(op==\"+\"):\n",
    "    print(a+b)\n",
    "elif(op==\"-\"):\n",
    "    print(a-b) \n",
    "elif(op==\"*\"):\n",
    "    print(a*b)\n",
    "elif(op==\"/\"):\n",
    "    print(a/b)\n",
    "elif(op==\"**\"):\n",
    "    print(a**b)\n",
    "elif(op==\"//\"):\n",
    "    print(a//b)\n",
    "elif(op==\"%\"):\n",
    "    print(a%b) \n",
    "else:\n",
    "    print(\"Enter the correct operator\")\n",
    "    "
   ]
  },
  {
   "cell_type": "markdown",
   "id": "b35acc2a-02c9-4b8a-b539-3fea1658ce60",
   "metadata": {},
   "source": [
    "### 8.WAP to accept the age, sex(M,F), number of days and display the wages accordingly "
   ]
  },
  {
   "cell_type": "code",
   "execution_count": 31,
   "id": "bcd55a32-c968-4004-9e7f-12f2742b47b9",
   "metadata": {},
   "outputs": [
    {
     "name": "stdin",
     "output_type": "stream",
     "text": [
      "Enter the age 28\n",
      "Enter the sex(M/F) Male\n",
      "Enter the number of days 60\n"
     ]
    },
    {
     "name": "stdout",
     "output_type": "stream",
     "text": [
      "Total wages are 42000\n"
     ]
    }
   ],
   "source": [
    "age=int(input(\"Enter the age\"))\n",
    "sex=input(\"Enter the sex(M/F)\")\n",
    "days=int(input(\"Enter the number of days\"))\n",
    "if(age>=18 and age<30):\n",
    "    if(sex==\"Male\"):\n",
    "        wages=700*days          #700 per days\n",
    "    if(sex==\"Female\"):\n",
    "        wages=750*days           # 750 per day\n",
    "    print(\"Total wages are\",wages) \n",
    "elif(age>=30 and age<=40):\n",
    "    if(sex==\"Male\"):\n",
    "        wages=800*days          #800 per days\n",
    "    if(sex==\"Female\"):\n",
    "        wages=850*days          #850 per day\n",
    "    print(\"Total wages are\",wages) \n",
    "else:\n",
    "    print(\"Enter the correct information\")\n",
    "    \n",
    "    "
   ]
  },
  {
   "cell_type": "markdown",
   "id": "7bf75194-d3ae-4947-baa2-4f6238239503",
   "metadata": {},
   "source": [
    "### 9.Accept three numbers from user and accept second largest number "
   ]
  },
  {
   "cell_type": "code",
   "execution_count": 9,
   "id": "eb0aadb4-2283-406e-9c1d-913a1c881539",
   "metadata": {},
   "outputs": [
    {
     "name": "stdin",
     "output_type": "stream",
     "text": [
      "Enter a 1st number 7\n",
      "Enter a 2nd number 8\n",
      "Enter a 3rd number 6\n"
     ]
    },
    {
     "name": "stdout",
     "output_type": "stream",
     "text": [
      "Second largest number is 7\n"
     ]
    }
   ],
   "source": [
    "num1=int(input(\"Enter a 1st number\"))\n",
    "num2=int(input(\"Enter a 2nd number\"))\n",
    "num3=int(input(\"Enter a 3rd number\"))\n",
    "\n",
    "if(num1>num2 and num1<num3)or(num1<num2 and num1>num3):\n",
    "    print(\"Second largest number is\",num1)\n",
    "elif(num2>num1 and num2<num3)or(num2<num1 and num2>num3):\n",
    "    print(\"Second largest number is\",num2)\n",
    "else:\n",
    "    print(\"Second largest number is\",num3)"
   ]
  },
  {
   "cell_type": "markdown",
   "id": "b533ba82-00cf-4db8-ba7d-b7264bedd534",
   "metadata": {},
   "source": [
    "### 10.Accept three sides of triangle and check whether the triangle is possible or not\n",
    "### (triangle is possible only when sum of any two sides is greater than 3rd side )"
   ]
  },
  {
   "cell_type": "code",
   "execution_count": 25,
   "id": "b07a1a42-4b6b-4b00-8799-49715ea7b52c",
   "metadata": {},
   "outputs": [
    {
     "name": "stdin",
     "output_type": "stream",
     "text": [
      "Enter the first number 10\n",
      "Enter the second number 13\n",
      "Enter the third number 9\n"
     ]
    },
    {
     "name": "stdout",
     "output_type": "stream",
     "text": [
      "triangle is possible\n"
     ]
    }
   ],
   "source": [
    "a=int(input(\"Enter the first number\"))\n",
    "b=int(input(\"Enter the second number\"))\n",
    "c=int(input(\"Enter the third number\"))\n",
    "sum1=a+b\n",
    "sum2=b+c\n",
    "sum3=a+c\n",
    "if(sum1>c and sum2>a and sum3>b):\n",
    "    print(\"triangle is possible\")\n",
    "else:\n",
    "    print(\"Triangle is not possible\")\n",
    "    "
   ]
  },
  {
   "cell_type": "code",
   "execution_count": null,
   "id": "bd9d3f75-1163-4448-97fd-509f038f8af7",
   "metadata": {},
   "outputs": [],
   "source": []
  }
 ],
 "metadata": {
  "kernelspec": {
   "display_name": "Python 3 (ipykernel)",
   "language": "python",
   "name": "python3"
  },
  "language_info": {
   "codemirror_mode": {
    "name": "ipython",
    "version": 3
   },
   "file_extension": ".py",
   "mimetype": "text/x-python",
   "name": "python",
   "nbconvert_exporter": "python",
   "pygments_lexer": "ipython3",
   "version": "3.12.4"
  }
 },
 "nbformat": 4,
 "nbformat_minor": 5
}
