{
 "cells": [
  {
   "cell_type": "markdown",
   "id": "5b6704e8-63e3-43f9-80f9-d4e4cfc2f299",
   "metadata": {},
   "source": [
    "### Print the prime numbers within a range"
   ]
  },
  {
   "cell_type": "code",
   "execution_count": 12,
   "id": "43b65673-7720-4e60-821e-e2b5e1700db3",
   "metadata": {},
   "outputs": [
    {
     "name": "stdout",
     "output_type": "stream",
     "text": [
      "1\n",
      "2\n",
      "3\n",
      "5\n",
      "7\n",
      "11\n",
      "13\n",
      "17\n",
      "19\n",
      "23\n",
      "29\n",
      "31\n",
      "37\n",
      "41\n",
      "43\n",
      "47\n"
     ]
    }
   ],
   "source": [
    "for num in range(1,50):\n",
    "    for i in range(2,num):\n",
    "        if num%i==0:\n",
    "            break\n",
    "    else: \n",
    "        print(num)"
   ]
  },
  {
   "cell_type": "code",
   "execution_count": null,
   "id": "7794b36c-77be-4c03-9217-34fb208a73f0",
   "metadata": {},
   "outputs": [],
   "source": []
  }
 ],
 "metadata": {
  "kernelspec": {
   "display_name": "Python 3 (ipykernel)",
   "language": "python",
   "name": "python3"
  },
  "language_info": {
   "codemirror_mode": {
    "name": "ipython",
    "version": 3
   },
   "file_extension": ".py",
   "mimetype": "text/x-python",
   "name": "python",
   "nbconvert_exporter": "python",
   "pygments_lexer": "ipython3",
   "version": "3.12.4"
  }
 },
 "nbformat": 4,
 "nbformat_minor": 5
}
