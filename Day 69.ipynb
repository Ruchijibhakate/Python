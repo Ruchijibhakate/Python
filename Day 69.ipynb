{
 "cells": [
  {
   "cell_type": "markdown",
   "id": "a5af4858-5bab-404f-9bbc-38dccd554bb4",
   "metadata": {},
   "source": [
    "### 1. Check if given number is prime"
   ]
  },
  {
   "cell_type": "code",
   "execution_count": 4,
   "id": "350370b4-bcb3-4154-9e5d-1522c5e7808f",
   "metadata": {},
   "outputs": [
    {
     "name": "stdin",
     "output_type": "stream",
     "text": [
      "Enter a number : 11\n"
     ]
    },
    {
     "name": "stdout",
     "output_type": "stream",
     "text": [
      "Prime\n"
     ]
    }
   ],
   "source": [
    "def is_prime(num):\n",
    "    if num<=1:\n",
    "        return False\n",
    "    for i in range(2,num):\n",
    "        if num%i==0:\n",
    "            return False\n",
    "    return True\n",
    "\n",
    "num=int(input('Enter a number :'))\n",
    "if is_prime(num):\n",
    "    print('Prime')\n",
    "else:\n",
    "    print('Not Prime')"
   ]
  },
  {
   "cell_type": "markdown",
   "id": "a7d5e89e-6a14-40b2-a3eb-825f23ebdffb",
   "metadata": {},
   "source": [
    "### 2. Convert string to upper case"
   ]
  },
  {
   "cell_type": "code",
   "execution_count": 16,
   "id": "164bbcfc-4bd0-4028-b6bb-38e30d3d9ab4",
   "metadata": {},
   "outputs": [
    {
     "name": "stdout",
     "output_type": "stream",
     "text": [
      "HELLO WORLD\n"
     ]
    }
   ],
   "source": [
    "str='hello world'\n",
    "upper_string= str.upper()\n",
    "print(upper_string)"
   ]
  },
  {
   "cell_type": "markdown",
   "id": "47ff6620-142c-4307-b0de-7b613852312f",
   "metadata": {},
   "source": [
    "### 3. Convert String to lower case"
   ]
  },
  {
   "cell_type": "code",
   "execution_count": 20,
   "id": "ea7a66f1-34e6-478e-8ed3-f1ed280fbf47",
   "metadata": {},
   "outputs": [
    {
     "name": "stdout",
     "output_type": "stream",
     "text": [
      "hello world\n"
     ]
    }
   ],
   "source": [
    "str='HELLO WORLD'\n",
    "lower_string=str.lower()\n",
    "print(lower_string)"
   ]
  },
  {
   "cell_type": "markdown",
   "id": "b6db9bde-30fb-4337-8491-c0b2576b10b9",
   "metadata": {},
   "source": [
    "### 4. Calculate area of circle with given radius"
   ]
  },
  {
   "cell_type": "code",
   "execution_count": 23,
   "id": "51fa1ac3-c86a-4705-8cc6-d3db09182012",
   "metadata": {},
   "outputs": [
    {
     "name": "stdin",
     "output_type": "stream",
     "text": [
      "Enter a Radius of Circle : 5.5\n"
     ]
    },
    {
     "name": "stdout",
     "output_type": "stream",
     "text": [
      "Area of Circle is : 95.03317777109125\n"
     ]
    }
   ],
   "source": [
    "import math\n",
    "radius=float(input('Enter a Radius of Circle :'))\n",
    "area=math.pi*radius**2\n",
    "print('Area of Circle is :',area)"
   ]
  },
  {
   "cell_type": "markdown",
   "id": "34fbc15d-a222-4a32-9134-a6630ef18f4b",
   "metadata": {},
   "source": [
    "### 5. Replace all occurences of character in string"
   ]
  },
  {
   "cell_type": "code",
   "execution_count": 26,
   "id": "c16cf9e7-3d38-4185-aa64-bd27aac349ce",
   "metadata": {},
   "outputs": [
    {
     "name": "stdout",
     "output_type": "stream",
     "text": [
      "heLLo worLd\n"
     ]
    }
   ],
   "source": [
    "str='hello world'\n",
    "new_str=str.replace('l','L')\n",
    "print(new_str)"
   ]
  },
  {
   "cell_type": "code",
   "execution_count": null,
   "id": "ed72f8bb-9b8d-4fe5-a26c-81de1da9af75",
   "metadata": {},
   "outputs": [],
   "source": []
  }
 ],
 "metadata": {
  "kernelspec": {
   "display_name": "Python 3 (ipykernel)",
   "language": "python",
   "name": "python3"
  },
  "language_info": {
   "codemirror_mode": {
    "name": "ipython",
    "version": 3
   },
   "file_extension": ".py",
   "mimetype": "text/x-python",
   "name": "python",
   "nbconvert_exporter": "python",
   "pygments_lexer": "ipython3",
   "version": "3.12.4"
  }
 },
 "nbformat": 4,
 "nbformat_minor": 5
}
