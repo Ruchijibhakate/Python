{
 "cells": [
  {
   "cell_type": "markdown",
   "id": "7d383287-576b-44aa-a0eb-ae8e541eabb2",
   "metadata": {},
   "source": [
    "### 1. WAP to accept 10 numbers from the user and display the largest and smallest number "
   ]
  },
  {
   "cell_type": "code",
   "execution_count": 28,
   "id": "4240e8f1-42b3-47c3-9ebd-60826551c30d",
   "metadata": {},
   "outputs": [
    {
     "name": "stdin",
     "output_type": "stream",
     "text": [
      "Enter a number : 32\n",
      "Enter a number : 46\n",
      "Enter a number : 29\n",
      "Enter a number : 49\n",
      "Enter a number : 30\n",
      "Enter a number : 59\n",
      "Enter a number : 76\n",
      "Enter a number : 45\n",
      "Enter a number : 38\n",
      "Enter a number : 88\n"
     ]
    },
    {
     "name": "stdout",
     "output_type": "stream",
     "text": [
      "Largest number is  88\n",
      "Smallest number is  29\n"
     ]
    }
   ],
   "source": [
    "list=[]\n",
    "i=1\n",
    "while(i<=10):\n",
    "    num=int(input(\"Enter a number :\"))\n",
    "    list.append(num)\n",
    "    i=i+1\n",
    "list.sort()\n",
    "print(\"Largest number is \",list[-1])\n",
    "print(\"Smallest number is \",list[0])"
   ]
  },
  {
   "cell_type": "markdown",
   "id": "b726e8ed-d1d2-431a-88cc-82808761114d",
   "metadata": {},
   "source": [
    "### 2. WAP to print the number of vowels in the given string"
   ]
  },
  {
   "cell_type": "code",
   "execution_count": 11,
   "id": "087e94f4-0482-43c4-8006-136e33dbb54e",
   "metadata": {},
   "outputs": [
    {
     "name": "stdin",
     "output_type": "stream",
     "text": [
      "enter a number: beautiful\n"
     ]
    },
    {
     "name": "stdout",
     "output_type": "stream",
     "text": [
      "5\n"
     ]
    }
   ],
   "source": [
    "str=input(\"enter a number:\")\n",
    "count=0\n",
    "for j in str:\n",
    "    if j=='a':\n",
    "        count=count+1\n",
    "    elif j=='e':\n",
    "        count=count+1\n",
    "    elif j=='i':\n",
    "        count=count+1\n",
    "    elif j=='o':\n",
    "        count=count+1\n",
    "    elif j=='u':\n",
    "        count=count+1\n",
    "print(count)        "
   ]
  },
  {
   "cell_type": "markdown",
   "id": "b2f1ed94-5493-4d0b-9148-e6b880b223e0",
   "metadata": {},
   "source": [
    "### 3. WAP to accept the number of days from the user and calculate the charge for the library according to given criteria"
   ]
  },
  {
   "cell_type": "code",
   "execution_count": 23,
   "id": "c1e7f0ef-4c08-4614-a82d-ef229924f422",
   "metadata": {},
   "outputs": [
    {
     "name": "stdin",
     "output_type": "stream",
     "text": [
      "Enter the number of days : 10\n"
     ]
    },
    {
     "name": "stdout",
     "output_type": "stream",
     "text": [
      "Total charge for the library is 30\n"
     ]
    }
   ],
   "source": [
    "days=int(input(\"Enter the number of days :\"))\n",
    "if (0<days<=5):\n",
    "    charge=days*2         # 2Rs per day\n",
    "elif (6<=days<=10):\n",
    "    charge=days*3    # 3Rs per days\n",
    "elif(11<=days<=15):\n",
    "    charge=days*4     # 4 rs per days\n",
    "else:\n",
    "    charge=days*5   # 5 Rs per day\n",
    "    \n",
    "print(\"Total charge for the library is\",charge)    \n",
    "    "
   ]
  },
  {
   "cell_type": "markdown",
   "id": "f059f92b-4be2-4924-84a8-d7688da453f9",
   "metadata": {},
   "source": [
    "### 4. Consider the following code \n",
    "###  What will the below code print if the variables i,j,k have the following values "
   ]
  },
  {
   "cell_type": "code",
   "execution_count": 5,
   "id": "b207071a-8f6c-4e10-ac28-ff03377748b3",
   "metadata": {},
   "outputs": [],
   "source": [
    "def values(i,j,k):\n",
    "    if (i<j):\n",
    "        if (j<k):\n",
    "            i=j\n",
    "        else:\n",
    "            j=k\n",
    "    else:\n",
    "        if j>k:\n",
    "            j=i\n",
    "        else:\n",
    "            i=k\n",
    "    return(i,j,k)        "
   ]
  },
  {
   "cell_type": "code",
   "execution_count": 7,
   "id": "60531afd-abe8-4f42-bf0c-37089defa75c",
   "metadata": {},
   "outputs": [
    {
     "data": {
      "text/plain": [
       "(5, 5, 7)"
      ]
     },
     "execution_count": 7,
     "metadata": {},
     "output_type": "execute_result"
    }
   ],
   "source": [
    "a=values(3,5,7)\n",
    "a"
   ]
  },
  {
   "cell_type": "code",
   "execution_count": 9,
   "id": "9083bb97-3cce-4d4b-bb68-8b4aa500a06f",
   "metadata": {},
   "outputs": [
    {
     "data": {
      "text/plain": [
       "(9, -5, 9)"
      ]
     },
     "execution_count": 9,
     "metadata": {},
     "output_type": "execute_result"
    }
   ],
   "source": [
    "b=values(-2,-5,9)\n",
    "b"
   ]
  },
  {
   "cell_type": "code",
   "execution_count": 11,
   "id": "191fe2fe-fac8-4c72-a31f-f81950cd3ad6",
   "metadata": {},
   "outputs": [
    {
     "data": {
      "text/plain": [
       "(8, 12, 12)"
      ]
     },
     "execution_count": 11,
     "metadata": {},
     "output_type": "execute_result"
    }
   ],
   "source": [
    "c=values(8,15,12)\n",
    "c"
   ]
  },
  {
   "cell_type": "code",
   "execution_count": 13,
   "id": "643ba5f9-2537-4b2f-a1b5-2ed7519a08ea",
   "metadata": {},
   "outputs": [
    {
     "data": {
      "text/plain": [
       "(13, 13, 13)"
      ]
     },
     "execution_count": 13,
     "metadata": {},
     "output_type": "execute_result"
    }
   ],
   "source": [
    "d=values(13,15,13)\n",
    "d"
   ]
  },
  {
   "cell_type": "code",
   "execution_count": 15,
   "id": "365b51d0-f499-45d0-8706-a27c511810db",
   "metadata": {},
   "outputs": [
    {
     "data": {
      "text/plain": [
       "(5, 5, 17)"
      ]
     },
     "execution_count": 15,
     "metadata": {},
     "output_type": "execute_result"
    }
   ],
   "source": [
    "e=values(3,5,17)\n",
    "e"
   ]
  },
  {
   "cell_type": "code",
   "execution_count": 19,
   "id": "b50585e9-c205-4e0c-8e5d-7539c8bad8bc",
   "metadata": {},
   "outputs": [
    {
     "data": {
      "text/plain": [
       "(17, 15, 17)"
      ]
     },
     "execution_count": 19,
     "metadata": {},
     "output_type": "execute_result"
    }
   ],
   "source": [
    "f=values(25,15,17)\n",
    "f"
   ]
  },
  {
   "cell_type": "markdown",
   "id": "ca9d1878-0d19-4298-aade-3944e526611a",
   "metadata": {},
   "source": [
    "### 5. Accept the kilometers covered and calculate the bill according to following criteria"
   ]
  },
  {
   "cell_type": "code",
   "execution_count": 34,
   "id": "b4687b0a-9c17-49db-9bfb-6de5a6b55a29",
   "metadata": {},
   "outputs": [
    {
     "name": "stdin",
     "output_type": "stream",
     "text": [
      "Enter a kilometers covered : 68\n"
     ]
    },
    {
     "name": "stdout",
     "output_type": "stream",
     "text": [
      "Total bill is 690\n"
     ]
    }
   ],
   "source": [
    "km=int(input(\"Enter a kilometers covered :\"))\n",
    "if km<=10:\n",
    "    bill=km*11      #Rs 11/km\n",
    "elif 10<km<=100:\n",
    "    bill=110+(km-10)*10     # Rs 10/km\n",
    "else:\n",
    "    bill=1010+(km-100)*9 # Rs 9/km\n",
    "print(\"Total bill is\",bill)"
   ]
  },
  {
   "cell_type": "markdown",
   "id": "91b307f4-5c91-4726-91e4-ebc9ab6c0779",
   "metadata": {},
   "source": [
    "### 6. Accept the marks of english, math, science, social studies subjects and display the stream allotted according to the following criteria"
   ]
  },
  {
   "cell_type": "code",
   "execution_count": 38,
   "id": "5ae15e52-9c86-463d-8d57-c5bff7da9eca",
   "metadata": {},
   "outputs": [
    {
     "name": "stdin",
     "output_type": "stream",
     "text": [
      "Enter the marks of english : 90\n",
      "Enter the marks of math : 60\n",
      "Enter the marks of science : 68\n",
      "Enter the marks of social studies : 30\n"
     ]
    },
    {
     "name": "stdout",
     "output_type": "stream",
     "text": [
      "Commerce Stream is alloted\n"
     ]
    }
   ],
   "source": [
    "Em=int(input(\"Enter the marks of english :\"))\n",
    "Mm=int(input(\"Enter the marks of math :\"))\n",
    "Sm=int(input(\"Enter the marks of science :\"))\n",
    "SSm=int(input(\"Enter the marks of social studies :\"))\n",
    "\n",
    "if (Em>80 and Mm>80 and Sm>80 and SSm>80):\n",
    "    print(\"Science Stream ia alloted\")\n",
    "elif (Em>80 and Mm>50 and Sm>50):\n",
    "    print(\"Commerce Stream is alloted\")\n",
    "elif (Em>80 and SSm>80):\n",
    "    print(\"Humanities is alloted\")\n",
    "else:\n",
    "    print(\"Enter the correct information\")\n"
   ]
  },
  {
   "cell_type": "markdown",
   "id": "d5e1e4f3-2558-4bcd-abe5-f71393159218",
   "metadata": {},
   "source": [
    "### 7. Evaluate the following statements"
   ]
  },
  {
   "cell_type": "code",
   "execution_count": 43,
   "id": "3a65af13-2c2f-40c1-9c1e-87b8502708a6",
   "metadata": {},
   "outputs": [],
   "source": [
    "a=True\n",
    "b=True\n",
    "c=True \n",
    "d=True"
   ]
  },
  {
   "cell_type": "code",
   "execution_count": 45,
   "id": "6b0a280e-609a-4000-a587-958ceb251cd9",
   "metadata": {},
   "outputs": [
    {
     "name": "stdout",
     "output_type": "stream",
     "text": [
      "False\n"
     ]
    }
   ],
   "source": [
    "print(not a)"
   ]
  },
  {
   "cell_type": "code",
   "execution_count": 47,
   "id": "d3640f4d-7ee0-4c39-a9ff-5045e5fa925b",
   "metadata": {},
   "outputs": [
    {
     "name": "stdout",
     "output_type": "stream",
     "text": [
      "True\n"
     ]
    }
   ],
   "source": [
    "print(b)"
   ]
  },
  {
   "cell_type": "code",
   "execution_count": 49,
   "id": "51d159a7-eb1f-43ba-ad54-9db2d408658c",
   "metadata": {},
   "outputs": [
    {
     "name": "stdout",
     "output_type": "stream",
     "text": [
      "False\n"
     ]
    }
   ],
   "source": [
    "print(not a and b and c)"
   ]
  },
  {
   "cell_type": "code",
   "execution_count": 51,
   "id": "6618dc04-8360-4511-9b72-83b0d33d35de",
   "metadata": {},
   "outputs": [
    {
     "name": "stdout",
     "output_type": "stream",
     "text": [
      "False\n"
     ]
    }
   ],
   "source": [
    "print(not a and not b and not c)"
   ]
  },
  {
   "cell_type": "code",
   "execution_count": 53,
   "id": "9870dcf6-5d74-431c-90a5-f601bdf3df35",
   "metadata": {},
   "outputs": [
    {
     "name": "stdout",
     "output_type": "stream",
     "text": [
      "True\n"
     ]
    }
   ],
   "source": [
    "print(a and b and c)"
   ]
  },
  {
   "cell_type": "code",
   "execution_count": 55,
   "id": "bbc7fa64-018f-456d-b7af-832a5e0597b4",
   "metadata": {},
   "outputs": [
    {
     "name": "stdout",
     "output_type": "stream",
     "text": [
      "False\n"
     ]
    }
   ],
   "source": [
    "print(b and not c)"
   ]
  },
  {
   "cell_type": "markdown",
   "id": "a4839863-1011-4c5b-9335-9ff1078e4a36",
   "metadata": {},
   "source": [
    "### 8. Pattern"
   ]
  },
  {
   "cell_type": "code",
   "execution_count": 68,
   "id": "91f2469e-188b-404d-933b-59cf82bbab8a",
   "metadata": {},
   "outputs": [
    {
     "name": "stdin",
     "output_type": "stream",
     "text": [
      "enter a number : 5\n"
     ]
    },
    {
     "name": "stdout",
     "output_type": "stream",
     "text": [
      "1 \n",
      "2 1 \n",
      "3 2 1 \n",
      "4 3 2 1 \n",
      "5 4 3 2 1 \n"
     ]
    }
   ],
   "source": [
    "n=int(input(\"enter a number :\"))\n",
    "for i in range(1,n+1):\n",
    "    for j in range(i,0,-1):\n",
    "        print(j,end=\" \")\n",
    "    print()    "
   ]
  },
  {
   "cell_type": "markdown",
   "id": "7ae78bba-34b3-4d2d-b1e1-c7261d7e88c7",
   "metadata": {},
   "source": [
    "### 9. Pattern"
   ]
  },
  {
   "cell_type": "code",
   "execution_count": 85,
   "id": "89faa8e5-bf26-4e8b-a7e8-af7ede5ef36e",
   "metadata": {},
   "outputs": [
    {
     "name": "stdin",
     "output_type": "stream",
     "text": [
      "Enter a number: 5\n"
     ]
    },
    {
     "name": "stdout",
     "output_type": "stream",
     "text": [
      "1 2 3 4 5 \n",
      "1 2 3 4 \n",
      "1 2 3 \n",
      "1 2 \n",
      "1 \n"
     ]
    }
   ],
   "source": [
    "n=int(input(\"Enter a number:\"))\n",
    "for i in range(n,0,-1):\n",
    "    for j in range(1,i+1):\n",
    "        print(j,end=\" \")\n",
    "    print()    "
   ]
  },
  {
   "cell_type": "markdown",
   "id": "39624db7-cdd0-499f-804b-59be78dd27f7",
   "metadata": {},
   "source": [
    "### 10. Pattern"
   ]
  },
  {
   "cell_type": "code",
   "execution_count": 95,
   "id": "813873b0-87fc-4aae-910f-03b3724de885",
   "metadata": {},
   "outputs": [
    {
     "name": "stdin",
     "output_type": "stream",
     "text": [
      "Enter a number: 5\n"
     ]
    },
    {
     "name": "stdout",
     "output_type": "stream",
     "text": [
      "5 4 3 2 1 \n",
      "4 3 2 1 \n",
      "3 2 1 \n",
      "2 1 \n",
      "1 \n"
     ]
    }
   ],
   "source": [
    "n=int(input(\"Enter a number:\"))\n",
    "for i in range(n,0,-1):\n",
    "    for j in range(i,0,-1):\n",
    "        print(j,end=\" \")\n",
    "    print()    "
   ]
  }
 ],
 "metadata": {
  "kernelspec": {
   "display_name": "Python 3 (ipykernel)",
   "language": "python",
   "name": "python3"
  },
  "language_info": {
   "codemirror_mode": {
    "name": "ipython",
    "version": 3
   },
   "file_extension": ".py",
   "mimetype": "text/x-python",
   "name": "python",
   "nbconvert_exporter": "python",
   "pygments_lexer": "ipython3",
   "version": "3.12.4"
  }
 },
 "nbformat": 4,
 "nbformat_minor": 5
}
