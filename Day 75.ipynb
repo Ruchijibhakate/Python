{
 "cells": [
  {
   "cell_type": "markdown",
   "id": "94664567-8558-45f7-a6c6-c31dab9a9178",
   "metadata": {},
   "source": [
    "### 1. Convert list of integers to list of booleans where all non zero values becomes True"
   ]
  },
  {
   "cell_type": "code",
   "execution_count": 3,
   "id": "f5238e92-0a9b-486e-849e-1e6351157232",
   "metadata": {},
   "outputs": [
    {
     "name": "stdout",
     "output_type": "stream",
     "text": [
      "[True, False, True, True, True, True, False, True]\n"
     ]
    }
   ],
   "source": [
    "list1=[1,0,-5,3,-7,8,0,10]\n",
    "bool_list=[bool(x) for x in list1]\n",
    "print(bool_list)"
   ]
  },
  {
   "cell_type": "markdown",
   "id": "973c9641-0070-4d5f-847a-f3fd30134259",
   "metadata": {},
   "source": [
    "### 2. Replace all the even numbers in list with their negative"
   ]
  },
  {
   "cell_type": "code",
   "execution_count": 8,
   "id": "5719d9e5-e6b8-4eff-90e4-9bff1e3a33e6",
   "metadata": {},
   "outputs": [
    {
     "name": "stdout",
     "output_type": "stream",
     "text": [
      "[-20, 33, 95, -60, -82, -18, 45]\n"
     ]
    }
   ],
   "source": [
    "list1=[20,33,95,60,82,18,45]\n",
    "rep_list=[-x if x%2==0 else x for x in list1]\n",
    "print(rep_list)"
   ]
  },
  {
   "cell_type": "markdown",
   "id": "08d7bdd9-6480-4c36-9922-3dcdd427e38f",
   "metadata": {},
   "source": [
    "### 3. Create 3*3 list of lists withrandom values and normalize it."
   ]
  },
  {
   "cell_type": "code",
   "execution_count": 13,
   "id": "fa180029-6616-4e3c-a253-3bd40e0698f9",
   "metadata": {},
   "outputs": [
    {
     "name": "stdout",
     "output_type": "stream",
     "text": [
      "[[368918.20948195027, -194337.86523784563, -47504.41750800544], [22265.08821438887, -167910.27748441344, -282134.5768117691], [140562.99806979936, 385376.3997917148, -225235.55851581992]]\n"
     ]
    }
   ],
   "source": [
    "import random\n",
    "matrix=[[random.random() for _ in range(3)] for _ in range(3)]\n",
    "mean = sum(sum(row) for row in matrix) / 9\n",
    "std = (sum((x-mean) ** 2 for row in matrix for x in row) / 9) ** 5\n",
    "normalized_matrix=[[(x-mean) / std for x in row] for row in matrix]\n",
    "print(normalized_matrix)"
   ]
  },
  {
   "cell_type": "markdown",
   "id": "aa08dc9c-a7a7-45b6-8abd-a6ad76f52347",
   "metadata": {},
   "source": [
    "### 4. Calculate the sum of the diagonal elements of 3*3 matrix (list of lists)"
   ]
  },
  {
   "cell_type": "code",
   "execution_count": 16,
   "id": "83987b17-3829-424a-81c1-7342c24fb320",
   "metadata": {},
   "outputs": [
    {
     "name": "stdout",
     "output_type": "stream",
     "text": [
      "15\n"
     ]
    }
   ],
   "source": [
    "matrix = [[1,2,3], [4,5,6], [7,8,9]]\n",
    "diagonal_sum=sum(matrix[i][i] for i in range(3))\n",
    "print(diagonal_sum)"
   ]
  },
  {
   "cell_type": "markdown",
   "id": "c0317643-4565-4091-a033-eb0e1ef3e2b9",
   "metadata": {},
   "source": [
    "### 5. Find Indices of non zero elements in list."
   ]
  },
  {
   "cell_type": "code",
   "execution_count": 19,
   "id": "acbcdeab-029a-4930-b0f7-6b5b64da1239",
   "metadata": {},
   "outputs": [
    {
     "name": "stdout",
     "output_type": "stream",
     "text": [
      "[0, 1, 3, 4, 5, 6, 9]\n"
     ]
    }
   ],
   "source": [
    "list1=[3,-4,0,2,1,58,39,0,0,-9]\n",
    "non_zero_indices = [i for i, x in enumerate(list1) if x!=0]\n",
    "print(non_zero_indices)"
   ]
  },
  {
   "cell_type": "code",
   "execution_count": null,
   "id": "edb72d9f-5bb3-4c96-aa5a-413dc89f9e96",
   "metadata": {},
   "outputs": [],
   "source": []
  }
 ],
 "metadata": {
  "kernelspec": {
   "display_name": "Python 3 (ipykernel)",
   "language": "python",
   "name": "python3"
  },
  "language_info": {
   "codemirror_mode": {
    "name": "ipython",
    "version": 3
   },
   "file_extension": ".py",
   "mimetype": "text/x-python",
   "name": "python",
   "nbconvert_exporter": "python",
   "pygments_lexer": "ipython3",
   "version": "3.12.4"
  }
 },
 "nbformat": 4,
 "nbformat_minor": 5
}
