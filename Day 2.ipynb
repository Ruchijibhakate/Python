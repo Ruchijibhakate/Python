{
 "cells": [
  {
   "cell_type": "markdown",
   "id": "742eebdc-8ee9-449a-92e4-42031536c53e",
   "metadata": {},
   "source": [
    "### 1.WAP to print circumference of circle"
   ]
  },
  {
   "cell_type": "code",
   "execution_count": 1,
   "id": "bbb4f343-ae26-4bab-ac87-ce5fafb7e97e",
   "metadata": {},
   "outputs": [
    {
     "name": "stdin",
     "output_type": "stream",
     "text": [
      "Enter the radius of circle 7\n"
     ]
    },
    {
     "name": "stdout",
     "output_type": "stream",
     "text": [
      "Circumference= 43.96\n"
     ]
    }
   ],
   "source": [
    "r=int(input(\"Enter the radius of circle\"))\n",
    "circf=2*3.14*r\n",
    "print(\"Circumference=\",circf)"
   ]
  },
  {
   "cell_type": "markdown",
   "id": "edaf1545-47e4-4a2d-aac6-086a79a07532",
   "metadata": {},
   "source": [
    "### 2.WAP to print surface area of cube"
   ]
  },
  {
   "cell_type": "code",
   "execution_count": 5,
   "id": "ad5f97a1-fdc5-4528-88be-98b81126a303",
   "metadata": {},
   "outputs": [
    {
     "name": "stdin",
     "output_type": "stream",
     "text": [
      "Enter side of cube 5\n"
     ]
    },
    {
     "name": "stdout",
     "output_type": "stream",
     "text": [
      "Surface area of cube= 150\n"
     ]
    }
   ],
   "source": [
    "side=int(input(\"Enter side of cube\"))\n",
    "s_area=6*(side**2)\n",
    "print(\"Surface area of cube=\",s_area)\n"
   ]
  },
  {
   "cell_type": "markdown",
   "id": "e749c910-03a8-4703-acad-ca8490ad559f",
   "metadata": {},
   "source": [
    "### 3.WAP to print surface area of cone "
   ]
  },
  {
   "cell_type": "code",
   "execution_count": 1,
   "id": "1050e698-432a-4807-b744-571d0a525873",
   "metadata": {},
   "outputs": [
    {
     "name": "stdin",
     "output_type": "stream",
     "text": [
      "Enter the radius of cone 6\n",
      "Enter the length of cone 12\n"
     ]
    },
    {
     "name": "stdout",
     "output_type": "stream",
     "text": [
      "Surface area of cone= 226.07999999999998\n"
     ]
    }
   ],
   "source": [
    "r=int(input(\"Enter the radius of cone\"))\n",
    "l=int(input(\"Enter the length of cone\"))\n",
    "s_area=3.14*r*l\n",
    "print(\"Surface area of cone=\",s_area)"
   ]
  },
  {
   "cell_type": "markdown",
   "id": "8eec3416-2199-4da1-885f-4751af5b92d8",
   "metadata": {},
   "source": [
    "### 4.WAP to print surface area of cylinder"
   ]
  },
  {
   "cell_type": "code",
   "execution_count": 3,
   "id": "21d86abe-3e95-47ec-914b-25aad56581b6",
   "metadata": {},
   "outputs": [
    {
     "name": "stdin",
     "output_type": "stream",
     "text": [
      "Enter the radius of cylinder 4\n",
      "Enter the height of cylinder 6\n"
     ]
    },
    {
     "name": "stdout",
     "output_type": "stream",
     "text": [
      "Surface area of cylinder= 150.72\n"
     ]
    }
   ],
   "source": [
    "r=int(input(\"Enter the radius of cylinder\"))\n",
    "h=int(input(\"Enter the height of cylinder\"))\n",
    "s_area=2*3.14*r*h\n",
    "print(\"Surface area of cylinder=\",s_area)"
   ]
  },
  {
   "cell_type": "markdown",
   "id": "525f89e1-6fb9-4557-b651-1a4b48c3a80d",
   "metadata": {},
   "source": [
    "### 5.WAP to print surface area of sphere"
   ]
  },
  {
   "cell_type": "code",
   "execution_count": 1,
   "id": "ad73187a-133c-41c9-8341-789c7362a1e5",
   "metadata": {},
   "outputs": [
    {
     "name": "stdin",
     "output_type": "stream",
     "text": [
      "Enter the radius of sphere 5\n"
     ]
    },
    {
     "name": "stdout",
     "output_type": "stream",
     "text": [
      "Surface area of sphere= 314.0\n"
     ]
    }
   ],
   "source": [
    "r=int(input(\"Enter the radius of sphere\"))\n",
    "s_area=4*3.14*(r**2)\n",
    "print(\"Surface area of sphere=\",s_area)"
   ]
  },
  {
   "cell_type": "markdown",
   "id": "2a0f262e-d1b2-4be6-9109-1507ff0000cf",
   "metadata": {},
   "source": [
    "### 6.WAP to print volume of sphere"
   ]
  },
  {
   "cell_type": "code",
   "execution_count": 3,
   "id": "d08eac0b-b896-4dff-ace3-55fb20797963",
   "metadata": {},
   "outputs": [
    {
     "name": "stdin",
     "output_type": "stream",
     "text": [
      "Enter the radius of sphere 6\n"
     ]
    },
    {
     "name": "stdout",
     "output_type": "stream",
     "text": [
      "Volume of sphere= 904.3199999999999\n"
     ]
    }
   ],
   "source": [
    "r=int(input(\"Enter the radius of sphere\"))\n",
    "volume=(4/3)*3.14*r**3\n",
    "print(\"Volume of sphere=\",volume)"
   ]
  },
  {
   "cell_type": "markdown",
   "id": "ef41b74d-d71a-4610-aea8-133c76b99731",
   "metadata": {},
   "source": [
    "### 7.WAP to print volume of cylinder"
   ]
  },
  {
   "cell_type": "code",
   "execution_count": 5,
   "id": "7a6d44af-8558-49fd-af91-ce1e52c29799",
   "metadata": {},
   "outputs": [
    {
     "name": "stdin",
     "output_type": "stream",
     "text": [
      "Enter the radius of cylinder 4\n",
      "Enter the height of cylinder 5\n"
     ]
    },
    {
     "name": "stdout",
     "output_type": "stream",
     "text": [
      "volume of cylinder= 251.20000000000002\n"
     ]
    }
   ],
   "source": [
    "r=int(input(\"Enter the radius of cylinder\"))\n",
    "h=int(input(\"Enter the height of cylinder\"))\n",
    "volume=3.14*(r**2)*h\n",
    "print(\"volume of cylinder=\",volume)"
   ]
  },
  {
   "cell_type": "markdown",
   "id": "1960d5f1-9476-408b-ade0-1e5970e11393",
   "metadata": {},
   "source": [
    "### 8.WAP to print volume of cone"
   ]
  },
  {
   "cell_type": "code",
   "execution_count": 7,
   "id": "0b4998d4-8286-4fd0-82f3-71eb9e062bd4",
   "metadata": {},
   "outputs": [
    {
     "name": "stdin",
     "output_type": "stream",
     "text": [
      "Enter the radius of cone 3\n",
      "Enter the height of cone 4\n"
     ]
    },
    {
     "name": "stdout",
     "output_type": "stream",
     "text": [
      "Volume of cone= 37.68\n"
     ]
    }
   ],
   "source": [
    "r=int(input(\"Enter the radius of cone\"))\n",
    "h=int(input(\"Enter the height of cone\"))\n",
    "volume=(3.14*(r**2)*h)/3\n",
    "print(\"Volume of cone=\",volume)"
   ]
  },
  {
   "cell_type": "markdown",
   "id": "23f18d74-5f96-489b-95ba-5459fc14f9a4",
   "metadata": {},
   "source": [
    "### 9.WAP to print area of parallelogram"
   ]
  },
  {
   "cell_type": "code",
   "execution_count": 9,
   "id": "d0fef614-03e7-4381-bd88-c4ef1567b038",
   "metadata": {},
   "outputs": [
    {
     "name": "stdin",
     "output_type": "stream",
     "text": [
      "Enter the breadth 4\n",
      "Enter the height 7\n"
     ]
    },
    {
     "name": "stdout",
     "output_type": "stream",
     "text": [
      "Area of parallelogram= 28\n"
     ]
    }
   ],
   "source": [
    "b=int(input(\"Enter the breadth\"))\n",
    "h=int(input(\"Enter the height\"))\n",
    "area=b*h\n",
    "print(\"Area of parallelogram=\",area)"
   ]
  },
  {
   "cell_type": "markdown",
   "id": "3bcf5531-6b76-4b77-8086-8602ef2dff01",
   "metadata": {},
   "source": [
    "### 10. WAP to print enter area of right angle triangle"
   ]
  },
  {
   "cell_type": "code",
   "execution_count": 11,
   "id": "2884345b-8fc7-4bd3-9e7a-88405b3c38b8",
   "metadata": {},
   "outputs": [
    {
     "name": "stdin",
     "output_type": "stream",
     "text": [
      "Enter a value 4\n",
      "Enter a value 2\n"
     ]
    },
    {
     "name": "stdout",
     "output_type": "stream",
     "text": [
      "Area of triangle= 4.0\n"
     ]
    }
   ],
   "source": [
    "a=int(input(\"Enter a value\"))\n",
    "b=int(input(\"Enter a value\"))\n",
    "area=(a*b)/2\n",
    "print(\"Area of triangle=\",area)\n"
   ]
  },
  {
   "cell_type": "code",
   "execution_count": null,
   "id": "42ab7c63-c014-4daf-82e0-5d9f3c5b7643",
   "metadata": {},
   "outputs": [],
   "source": []
  }
 ],
 "metadata": {
  "kernelspec": {
   "display_name": "Python 3 (ipykernel)",
   "language": "python",
   "name": "python3"
  },
  "language_info": {
   "codemirror_mode": {
    "name": "ipython",
    "version": 3
   },
   "file_extension": ".py",
   "mimetype": "text/x-python",
   "name": "python",
   "nbconvert_exporter": "python",
   "pygments_lexer": "ipython3",
   "version": "3.12.4"
  }
 },
 "nbformat": 4,
 "nbformat_minor": 5
}
