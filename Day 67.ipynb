{
 "cells": [
  {
   "cell_type": "markdown",
   "id": "2eab6166-da62-4302-b251-a9e4b7c8df06",
   "metadata": {},
   "source": [
    "### 1. WAP to sort (ascending and descending) a dictionary by value."
   ]
  },
  {
   "cell_type": "code",
   "execution_count": 6,
   "id": "bf3748c5-d0e1-4aac-92ed-5c85178c48a0",
   "metadata": {},
   "outputs": [
    {
     "name": "stdout",
     "output_type": "stream",
     "text": [
      "Original Dictionary {1: 2, 3: 4, 4: 3, 2: 1, 0: 0}\n",
      " \n",
      "Dictionary in ascending order by value : {0: 0, 2: 1, 1: 2, 4: 3, 3: 4}\n",
      " \n",
      "Dictionary in descending order by value : {3: 4, 4: 3, 1: 2, 2: 1, 0: 0}\n"
     ]
    }
   ],
   "source": [
    "import operator\n",
    "d={1:2, 3:4, 4:3, 2:1, 0:0}\n",
    "print(\"Original Dictionary\",d)\n",
    "print(' ')\n",
    "sorted_dict=dict(sorted(d.items(), key=operator.itemgetter(1)))\n",
    "print(\"Dictionary in ascending order by value :\",sorted_dict)\n",
    "print(' ')\n",
    "sorted_dict=dict(sorted(d.items(), key=operator.itemgetter(1), reverse=True))\n",
    "print(\"Dictionary in descending order by value :\",sorted_dict)"
   ]
  },
  {
   "cell_type": "markdown",
   "id": "aa5e1c7e-13a0-475a-a848-812569b726c6",
   "metadata": {},
   "source": [
    "### 2. WAP to add a key to dictionary"
   ]
  },
  {
   "cell_type": "code",
   "execution_count": 11,
   "id": "019ffebb-3787-4900-ae17-b3904dabee4e",
   "metadata": {},
   "outputs": [
    {
     "name": "stdout",
     "output_type": "stream",
     "text": [
      "{0: 10, 1: 20, 2: 30, 3: 40}\n"
     ]
    }
   ],
   "source": [
    "mydict={0:10, 1:20, 2:30}\n",
    "mydict.update({3:40})\n",
    "print(mydict)"
   ]
  },
  {
   "cell_type": "markdown",
   "id": "354c0f15-66d8-4188-9370-55f41301c2d8",
   "metadata": {},
   "source": [
    "### 3. WAP to cancatenate following dictionaries to create one."
   ]
  },
  {
   "cell_type": "code",
   "execution_count": 20,
   "id": "ae51cc0f-e311-4836-b1c5-c991d67763a0",
   "metadata": {},
   "outputs": [
    {
     "name": "stdout",
     "output_type": "stream",
     "text": [
      "{1: 10, 2: 20, 3: 30, 4: 40, 5: 50, 6: 60}\n"
     ]
    }
   ],
   "source": [
    "dict1={1:10, 2:20}\n",
    "dict2={3:30, 4:40}\n",
    "dict3={5:50, 6:60}\n",
    "dict4={} \n",
    "\n",
    "for d in (dict1, dict2, dict3):\n",
    "    dict4.update(d)\n",
    "\n",
    "print(dict4)"
   ]
  },
  {
   "cell_type": "markdown",
   "id": "e023deef-20a7-4057-b3f0-24c494d7d976",
   "metadata": {},
   "source": [
    "### 4. WAP to check whether given key already exists in dictionary."
   ]
  },
  {
   "cell_type": "code",
   "execution_count": 25,
   "id": "885bdb3a-c4b0-4664-b379-c01422db205e",
   "metadata": {},
   "outputs": [
    {
     "name": "stdout",
     "output_type": "stream",
     "text": [
      "Key is present in dictionary\n",
      "Key is not present in dictionary\n"
     ]
    }
   ],
   "source": [
    "d={1: 10, 2: 20, 3: 30, 4: 40, 5: 50, 6: 60}\n",
    "\n",
    "def is_key_present(x):\n",
    "    if x in d:\n",
    "        print(\"Key is present in dictionary\")\n",
    "    else:\n",
    "        print(\"Key is not present in dictionary\")\n",
    "\n",
    "is_key_present(5)\n",
    "is_key_present(9)"
   ]
  },
  {
   "cell_type": "markdown",
   "id": "6a58e789-c5e8-40c6-b27a-7af1513d50f9",
   "metadata": {},
   "source": [
    "### 5. WAP to iterate over dictionaries using for loop"
   ]
  },
  {
   "cell_type": "code",
   "execution_count": 30,
   "id": "5a584c47-0c95-4595-9a2b-3fef900faf22",
   "metadata": {},
   "outputs": [
    {
     "name": "stdout",
     "output_type": "stream",
     "text": [
      "1 - 10\n",
      "2 - 20\n",
      "3 - 30\n",
      "4 - 40\n",
      "5 - 50\n",
      "6 - 60\n"
     ]
    }
   ],
   "source": [
    "d={1: 10, 2: 20, 3: 30, 4: 40, 5: 50, 6: 60}\n",
    "for dict_key, dict_val in d.items():\n",
    "    print(dict_key,'-',dict_val)"
   ]
  },
  {
   "cell_type": "code",
   "execution_count": null,
   "id": "f3516b1b-1c51-4dbe-b496-11e20635891c",
   "metadata": {},
   "outputs": [],
   "source": []
  }
 ],
 "metadata": {
  "kernelspec": {
   "display_name": "Python 3 (ipykernel)",
   "language": "python",
   "name": "python3"
  },
  "language_info": {
   "codemirror_mode": {
    "name": "ipython",
    "version": 3
   },
   "file_extension": ".py",
   "mimetype": "text/x-python",
   "name": "python",
   "nbconvert_exporter": "python",
   "pygments_lexer": "ipython3",
   "version": "3.12.4"
  }
 },
 "nbformat": 4,
 "nbformat_minor": 5
}
