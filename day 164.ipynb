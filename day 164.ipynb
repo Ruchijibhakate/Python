{
 "cells": [
  {
   "cell_type": "markdown",
   "id": "1a7c2df6-6ad5-417f-b648-1098229c0568",
   "metadata": {},
   "source": [
    "### Write a Python program to calculate the number of days between two dates."
   ]
  },
  {
   "cell_type": "code",
   "execution_count": null,
   "id": "bea28fdd-2e69-4606-8047-4c08872b6f6d",
   "metadata": {},
   "outputs": [],
   "source": [
    "from datetime import date\n",
    "f_date=date(2015,7,4)\n",
    "l_date=date(2015,7,25)"
   ]
  }
 ],
 "metadata": {
  "kernelspec": {
   "display_name": "Python 3 (ipykernel)",
   "language": "python",
   "name": "python3"
  },
  "language_info": {
   "codemirror_mode": {
    "name": "ipython",
    "version": 3
   },
   "file_extension": ".py",
   "mimetype": "text/x-python",
   "name": "python",
   "nbconvert_exporter": "python",
   "pygments_lexer": "ipython3",
   "version": "3.12.4"
  }
 },
 "nbformat": 4,
 "nbformat_minor": 5
}
