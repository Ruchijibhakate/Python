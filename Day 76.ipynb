{
 "cells": [
  {
   "cell_type": "markdown",
   "id": "44fcd58a-a989-4ea2-8be7-70e9273ec210",
   "metadata": {},
   "source": [
    "### 1. Reverse a list"
   ]
  },
  {
   "cell_type": "code",
   "execution_count": 2,
   "id": "2b7c516b-3322-4975-b339-68b3eac04874",
   "metadata": {},
   "outputs": [
    {
     "name": "stdout",
     "output_type": "stream",
     "text": [
      "[70, 65, 44, 36, 94, 29, 11, 48, 20, 67]\n"
     ]
    }
   ],
   "source": [
    "list=[67,20,48,11,29,94,36,44,65,70]\n",
    "print(list[::-1])"
   ]
  },
  {
   "cell_type": "markdown",
   "id": "31d3daa5-7286-4823-9f01-c20d6b799251",
   "metadata": {},
   "source": [
    "### 2. Print 3*3 identity matrix as a list of lists."
   ]
  },
  {
   "cell_type": "code",
   "execution_count": 7,
   "id": "f6a67295-81d4-4e6b-bf9c-6bc0d28650d6",
   "metadata": {},
   "outputs": [
    {
     "name": "stdout",
     "output_type": "stream",
     "text": [
      "[[1, 0, 0], [0, 1, 0], [0, 0, 1]]\n"
     ]
    }
   ],
   "source": [
    "identity_marix=[[1 if i==j else 0 for j in range(3)] for i in range(3)]\n",
    "print(identity_marix)"
   ]
  },
  {
   "cell_type": "markdown",
   "id": "d4d1ce63-9eea-4a8f-91ed-bd497603ab13",
   "metadata": {},
   "source": [
    "### 3. Reshape 1D list to 2D list with 2 rows"
   ]
  },
  {
   "cell_type": "code",
   "execution_count": 1,
   "id": "22ebf22a-1516-4e62-8330-d01b69fbf8ba",
   "metadata": {},
   "outputs": [
    {
     "name": "stdout",
     "output_type": "stream",
     "text": [
      "[[0, 1, 2, 3, 4], [5, 6, 7, 8, 9]]\n"
     ]
    }
   ],
   "source": [
    "list1=list(range(10))\n",
    "reshaped_list=[list1[:5], list1[5:]]\n",
    "print(reshaped_list)"
   ]
  },
  {
   "cell_type": "markdown",
   "id": "0d25e986-27b9-4495-9e1d-ad4d05d36feb",
   "metadata": {},
   "source": [
    "### 4. Stack two lists vertically."
   ]
  },
  {
   "cell_type": "code",
   "execution_count": 4,
   "id": "1325c7f2-71c0-43e4-8539-2fb35333a2f3",
   "metadata": {},
   "outputs": [
    {
     "name": "stdout",
     "output_type": "stream",
     "text": [
      "[[1, 2, 3], [4, 5, 6]]\n"
     ]
    }
   ],
   "source": [
    "list1=[1,2,3]\n",
    "list2=[4,5,6]\n",
    "stacked_list=[list1,list2]\n",
    "print(stacked_list)"
   ]
  },
  {
   "cell_type": "markdown",
   "id": "2e95ec87-ba73-4191-9cc0-86db50876e33",
   "metadata": {},
   "source": [
    "### 5. Get the common items between two lists."
   ]
  },
  {
   "cell_type": "code",
   "execution_count": 9,
   "id": "404c5285-362a-48e2-94a6-d3cca5e0a400",
   "metadata": {},
   "outputs": [
    {
     "name": "stdout",
     "output_type": "stream",
     "text": [
      "[3, 4, 5]\n"
     ]
    }
   ],
   "source": [
    "list1=[1,2,3,4,5]\n",
    "list2=[3,4,5,6,7]\n",
    "common_items=list(set(list1).intersection(set(list2)))\n",
    "print(common_items)"
   ]
  },
  {
   "cell_type": "code",
   "execution_count": null,
   "id": "972397a2-1a58-4b42-823f-9c2f2a085c14",
   "metadata": {},
   "outputs": [],
   "source": []
  }
 ],
 "metadata": {
  "kernelspec": {
   "display_name": "Python 3 (ipykernel)",
   "language": "python",
   "name": "python3"
  },
  "language_info": {
   "codemirror_mode": {
    "name": "ipython",
    "version": 3
   },
   "file_extension": ".py",
   "mimetype": "text/x-python",
   "name": "python",
   "nbconvert_exporter": "python",
   "pygments_lexer": "ipython3",
   "version": "3.12.4"
  }
 },
 "nbformat": 4,
 "nbformat_minor": 5
}
