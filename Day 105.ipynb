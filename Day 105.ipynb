{
 "cells": [
  {
   "cell_type": "markdown",
   "id": "c4f91aa7-2142-4aef-8ed6-65b661be984f",
   "metadata": {},
   "source": [
    "### 1. Print the character pattern."
   ]
  },
  {
   "cell_type": "code",
   "execution_count": 2,
   "id": "f51cf5c2-5364-4fc6-a2e3-e73082b023c1",
   "metadata": {},
   "outputs": [
    {
     "name": "stdout",
     "output_type": "stream",
     "text": [
      "A \n",
      "B B \n",
      "A A A \n",
      "B B B B \n",
      "A A A A A \n"
     ]
    }
   ],
   "source": [
    "n=5\n",
    "for i in range(1,n+1):\n",
    "    for j in range(1,i+1):\n",
    "        if i%2!=0:\n",
    "            print(chr(65),end=' ')\n",
    "        else:\n",
    "            print(chr(66),end=' ')\n",
    "    print()        "
   ]
  },
  {
   "cell_type": "markdown",
   "id": "646be89b-2566-4cc5-b6ff-61a2ca177f33",
   "metadata": {},
   "source": [
    "### 2. Print Character Pattern."
   ]
  },
  {
   "cell_type": "code",
   "execution_count": 7,
   "id": "840330b4-e5e1-4ce5-a7f0-4ee36f8b83d2",
   "metadata": {},
   "outputs": [
    {
     "name": "stdout",
     "output_type": "stream",
     "text": [
      "  Z Z Z Z Z \n",
      "    O O O O \n",
      "      Z Z Z \n",
      "        O O \n",
      "          Z \n"
     ]
    }
   ],
   "source": [
    "n=5\n",
    "for i in range(1,n+1):\n",
    "    for j in range(1,i+1):\n",
    "        print(' ',end=' ')\n",
    "    for j in range(i,n+1):\n",
    "        if i%2!=0:\n",
    "            print('Z',end=' ')\n",
    "        else:\n",
    "            print('O',end=' ')\n",
    "    print()         "
   ]
  },
  {
   "cell_type": "code",
   "execution_count": null,
   "id": "26bae8e2-2c8c-4933-8856-5c84ee2ce753",
   "metadata": {},
   "outputs": [],
   "source": []
  }
 ],
 "metadata": {
  "kernelspec": {
   "display_name": "Python 3 (ipykernel)",
   "language": "python",
   "name": "python3"
  },
  "language_info": {
   "codemirror_mode": {
    "name": "ipython",
    "version": 3
   },
   "file_extension": ".py",
   "mimetype": "text/x-python",
   "name": "python",
   "nbconvert_exporter": "python",
   "pygments_lexer": "ipython3",
   "version": "3.12.4"
  }
 },
 "nbformat": 4,
 "nbformat_minor": 5
}
