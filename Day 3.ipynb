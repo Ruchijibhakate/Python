{
 "cells": [
  {
   "cell_type": "markdown",
   "id": "40c8d628-2673-493a-b2d6-4708e9c452da",
   "metadata": {},
   "source": [
    "### 1.WAP to check wether the number is palindrome or not"
   ]
  },
  {
   "cell_type": "code",
   "execution_count": 3,
   "id": "e379c166-a90c-463d-8d5c-74cdc84850c3",
   "metadata": {},
   "outputs": [
    {
     "name": "stdin",
     "output_type": "stream",
     "text": [
      "Enter a number 12321\n"
     ]
    },
    {
     "name": "stdout",
     "output_type": "stream",
     "text": [
      "12321 is Palindrome number\n"
     ]
    }
   ],
   "source": [
    "num=int(input(\"Enter a number\"))\n",
    "temp=num\n",
    "rev=0\n",
    "while(temp>0):\n",
    "    rem=temp%10\n",
    "    rev=rev*10+rem\n",
    "    temp=temp//10\n",
    "if(rev==num):\n",
    "    print(num,\"is Palindrome number\")\n",
    "else:\n",
    "    print(num,\"is not palindrome number\")"
   ]
  },
  {
   "cell_type": "markdown",
   "id": "83286d93-6521-40e7-82f7-4a91f2bf7509",
   "metadata": {},
   "source": [
    "### 2.WAP to to print power of number without using power operator"
   ]
  },
  {
   "cell_type": "code",
   "execution_count": 11,
   "id": "68a387db-222f-4411-842a-245702b4346b",
   "metadata": {},
   "outputs": [
    {
     "name": "stdin",
     "output_type": "stream",
     "text": [
      "Enter a base 2\n",
      "Enter a power 3\n"
     ]
    },
    {
     "name": "stdout",
     "output_type": "stream",
     "text": [
      "8\n"
     ]
    }
   ],
   "source": [
    "base=int(input(\"Enter a base\"))\n",
    "power=int(input(\"Enter a power\"))\n",
    "a=1\n",
    "result=1\n",
    "while(a<=power):\n",
    "    result=result*base\n",
    "    a=a+1\n",
    "print(result)"
   ]
  },
  {
   "cell_type": "markdown",
   "id": "ded31148-cc0a-41b3-a70f-16b9abd8442f",
   "metadata": {},
   "source": [
    "### 3.WAP to reverse the number"
   ]
  },
  {
   "cell_type": "code",
   "execution_count": 1,
   "id": "7bb84913-0234-4b93-8bf5-8b1217d7bd43",
   "metadata": {},
   "outputs": [
    {
     "name": "stdin",
     "output_type": "stream",
     "text": [
      "Enter a number 123\n"
     ]
    },
    {
     "name": "stdout",
     "output_type": "stream",
     "text": [
      "321"
     ]
    }
   ],
   "source": [
    "num=int(input(\"Enter a number\"))\n",
    "while(num>0):\n",
    "    rem=num%10\n",
    "    print(rem,end=\"\")\n",
    "    num=num//10"
   ]
  },
  {
   "cell_type": "markdown",
   "id": "8a8ac92f-5a52-40ee-9876-84453cf031a5",
   "metadata": {},
   "source": [
    "### 4.WAP to check whether number is Armtrong or not"
   ]
  },
  {
   "cell_type": "code",
   "execution_count": null,
   "id": "9423634f-72a7-4e51-a387-d12b0dcba388",
   "metadata": {},
   "outputs": [],
   "source": [
    "num=int(input(\"Enter a number\"))\n",
    "temp=num\n",
    "\n",
    "while(temp>0):\n",
    "    rem=temp%10\n",
    "    res=res+rem**3\n",
    "    temp=temp//10\n",
    "print(res)    "
   ]
  },
  {
   "cell_type": "markdown",
   "id": "4df927bd-b56b-43dd-9004-25bda25cf3a2",
   "metadata": {},
   "source": [
    "### 5.WAP to print first 10 even number"
   ]
  },
  {
   "cell_type": "code",
   "execution_count": 1,
   "id": "6a8dbba9-3261-4dfa-9be5-eb0327390634",
   "metadata": {},
   "outputs": [
    {
     "name": "stdout",
     "output_type": "stream",
     "text": [
      "2\n",
      "4\n",
      "6\n",
      "8\n",
      "10\n",
      "12\n",
      "14\n",
      "16\n",
      "18\n",
      "20\n"
     ]
    }
   ],
   "source": [
    "i=1\n",
    "while(i<=20):\n",
    "    if(i%2==0):\n",
    "        print(i)\n",
    "    i=i+1    "
   ]
  },
  {
   "cell_type": "markdown",
   "id": "258366a6-c0aa-4eda-852b-0ba8bff3e965",
   "metadata": {},
   "source": [
    "### 6.WAP to print first 10 odd number"
   ]
  },
  {
   "cell_type": "code",
   "execution_count": 3,
   "id": "bde04c6f-681f-4010-843c-b20617b65b11",
   "metadata": {},
   "outputs": [
    {
     "name": "stdout",
     "output_type": "stream",
     "text": [
      "1\n",
      "3\n",
      "5\n",
      "7\n",
      "9\n",
      "11\n",
      "13\n",
      "15\n",
      "17\n",
      "19\n"
     ]
    }
   ],
   "source": [
    "i=1\n",
    "while(i<=20):\n",
    "    if(i%2!=0):\n",
    "        print(i)\n",
    "    i=i+1   "
   ]
  },
  {
   "cell_type": "markdown",
   "id": "4f85de5c-89e8-4b0a-a69f-185d2d4ff94c",
   "metadata": {},
   "source": [
    "### 7.WAP to print print first 10 natural numbers"
   ]
  },
  {
   "cell_type": "code",
   "execution_count": 5,
   "id": "fd04d1d9-08df-4221-af31-e17a039e6daa",
   "metadata": {},
   "outputs": [
    {
     "name": "stdout",
     "output_type": "stream",
     "text": [
      "1\n",
      "2\n",
      "3\n",
      "4\n",
      "5\n",
      "6\n",
      "7\n",
      "8\n",
      "9\n",
      "10\n"
     ]
    }
   ],
   "source": [
    "i=1\n",
    "while(i<=10):\n",
    "    print(i)\n",
    "    i=i+1"
   ]
  },
  {
   "cell_type": "markdown",
   "id": "2e78373a-f7f0-4d2a-9b5c-c777298f2331",
   "metadata": {},
   "source": [
    "### 8.WAP to print first 10 integers and their squares using while loop"
   ]
  },
  {
   "cell_type": "code",
   "execution_count": 25,
   "id": "dd6de04a-4319-4f46-9327-7a65a7f9fa91",
   "metadata": {},
   "outputs": [
    {
     "name": "stdout",
     "output_type": "stream",
     "text": [
      "Number \t Square\n",
      "1 \t 1\n",
      "2 \t 4\n",
      "3 \t 9\n",
      "4 \t 16\n",
      "5 \t 25\n",
      "6 \t 36\n",
      "7 \t 49\n",
      "8 \t 64\n",
      "9 \t 81\n",
      "10 \t 100\n"
     ]
    }
   ],
   "source": [
    "i=1\n",
    "print(\"Number\",\"\\t\",\"Square\")\n",
    "while(i<=10):\n",
    "    print(i,\"\\t\",i*i)\n",
    "    i=i+1"
   ]
  },
  {
   "cell_type": "markdown",
   "id": "374e1193-c329-4095-bd24-d57aa68aa302",
   "metadata": {},
   "source": [
    "### 9.WAP to print following series  10,20,30,-----300"
   ]
  },
  {
   "cell_type": "code",
   "execution_count": 33,
   "id": "1e31c337-83cd-410d-86d7-f96bd7a0fe7d",
   "metadata": {},
   "outputs": [
    {
     "name": "stdout",
     "output_type": "stream",
     "text": [
      "10 20 30 40 50 60 70 80 90 100 110 120 130 140 150 160 170 180 190 200 210 220 230 240 250 260 270 280 290 300 "
     ]
    }
   ],
   "source": [
    "i=1\n",
    "while(i<=30):\n",
    "    print(i*10,end=\" \")\n",
    "    i=i+1"
   ]
  },
  {
   "cell_type": "markdown",
   "id": "188b6f0d-b270-4f84-9586-894a03af413e",
   "metadata": {},
   "source": [
    "### 10.WAP to print following series 105 98 91 ------14 7"
   ]
  },
  {
   "cell_type": "code",
   "execution_count": 37,
   "id": "206cd373-ab5e-4975-af6c-df330cdf00d2",
   "metadata": {},
   "outputs": [
    {
     "name": "stdout",
     "output_type": "stream",
     "text": [
      "105 98 91 84 77 70 63 56 49 42 35 28 21 14 7 "
     ]
    }
   ],
   "source": [
    "i=105\n",
    "while(i>=7):\n",
    "    print(i,end=\" \")\n",
    "    i=i-7"
   ]
  }
 ],
 "metadata": {
  "kernelspec": {
   "display_name": "Python 3 (ipykernel)",
   "language": "python",
   "name": "python3"
  },
  "language_info": {
   "codemirror_mode": {
    "name": "ipython",
    "version": 3
   },
   "file_extension": ".py",
   "mimetype": "text/x-python",
   "name": "python",
   "nbconvert_exporter": "python",
   "pygments_lexer": "ipython3",
   "version": "3.12.4"
  }
 },
 "nbformat": 4,
 "nbformat_minor": 5
}
