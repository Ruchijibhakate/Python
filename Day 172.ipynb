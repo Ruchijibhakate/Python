{
 "cells": [
  {
   "cell_type": "markdown",
   "id": "d33180f7-4054-4e95-8aea-7e41969f2d81",
   "metadata": {},
   "source": [
    "### Write a Python program that returns a string that is n (non-negative integer) copies of a given string."
   ]
  },
  {
   "cell_type": "code",
   "execution_count": 4,
   "id": "96e175c5-f724-471e-a42e-dc57d1f5ac6b",
   "metadata": {},
   "outputs": [
    {
     "name": "stdin",
     "output_type": "stream",
     "text": [
      "Enter a value of n: 4\n",
      "Enter a string: item.\n"
     ]
    },
    {
     "name": "stdout",
     "output_type": "stream",
     "text": [
      "item.item.item.item.\n"
     ]
    }
   ],
   "source": [
    "n=int(input('Enter a value of n:'))\n",
    "str=input('Enter a string:')\n",
    "print(str*n)"
   ]
  },
  {
   "cell_type": "code",
   "execution_count": null,
   "id": "9cb8bc02-ca7f-4269-b96a-3d58f94f8918",
   "metadata": {},
   "outputs": [],
   "source": []
  }
 ],
 "metadata": {
  "kernelspec": {
   "display_name": "Python 3 (ipykernel)",
   "language": "python",
   "name": "python3"
  },
  "language_info": {
   "codemirror_mode": {
    "name": "ipython",
    "version": 3
   },
   "file_extension": ".py",
   "mimetype": "text/x-python",
   "name": "python",
   "nbconvert_exporter": "python",
   "pygments_lexer": "ipython3",
   "version": "3.12.4"
  }
 },
 "nbformat": 4,
 "nbformat_minor": 5
}
