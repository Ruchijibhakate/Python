{
 "cells": [
  {
   "cell_type": "markdown",
   "id": "f7595468-2a3b-41cf-8e95-f489000bc9f0",
   "metadata": {},
   "source": [
    "### 1. Write a function prodDigits() that inputs a number and returns the product of digits of that number"
   ]
  },
  {
   "cell_type": "code",
   "execution_count": 14,
   "id": "4c9aaa0f-71dd-40ae-922a-2c77798cf3b5",
   "metadata": {},
   "outputs": [
    {
     "name": "stdout",
     "output_type": "stream",
     "text": [
      "Product of all the digits of 127 is 14\n"
     ]
    }
   ],
   "source": [
    "def prodDigits(num):\n",
    "    prod=1\n",
    "    while(num>0):\n",
    "        rem=num%10\n",
    "        prod=prod*rem\n",
    "        num=num//10\n",
    "    return prod\n",
    "\n",
    "num=127\n",
    "print('Product of all the digits of',num,'is',prodDigits(num))\n"
   ]
  },
  {
   "cell_type": "markdown",
   "id": "8c88dab1-7dd2-46e3-a814-87a3b0859225",
   "metadata": {},
   "source": [
    "### 2. Write a function sumPdivisors() that finds the sum of proper divisors of number. "
   ]
  },
  {
   "cell_type": "code",
   "execution_count": 1,
   "id": "df242c97-032d-4ed2-8fa6-6d0d0633e7bc",
   "metadata": {},
   "outputs": [
    {
     "name": "stdout",
     "output_type": "stream",
     "text": [
      "[1, 2, 3, 4, 6, 9, 12, 18]\n",
      "Sum of all divisors of 36 is 55\n"
     ]
    }
   ],
   "source": [
    "def sumPdivisors(num):\n",
    "    divisors=[]\n",
    "    sum=0\n",
    "    for i in range(1,num):\n",
    "        if num%i==0:\n",
    "            divisors.append(i)\n",
    "    print(divisors)        \n",
    "    for j in divisors:\n",
    "        sum=sum+j\n",
    "    return sum\n",
    "\n",
    "num=36\n",
    "print('Sum of all divisors of',num,'is',sumPdivisors(num))"
   ]
  },
  {
   "cell_type": "markdown",
   "id": "8418cde2-64a6-42ca-9812-8c265251943d",
   "metadata": {},
   "source": [
    "### 3. WAP to find sum of two numbers using lambda function"
   ]
  },
  {
   "cell_type": "code",
   "execution_count": 27,
   "id": "972bd972-ff83-4cac-953f-8721df9d2b76",
   "metadata": {},
   "outputs": [
    {
     "name": "stdout",
     "output_type": "stream",
     "text": [
      "Sum of two numbers is 3\n"
     ]
    }
   ],
   "source": [
    "add=lambda a,b: a+b\n",
    "print(\"Sum of two numbers is\",add(1,2))"
   ]
  },
  {
   "cell_type": "markdown",
   "id": "0cbfad35-af77-47e8-a8ae-d9fca1196ce7",
   "metadata": {},
   "source": [
    "### 4. WAP to print square of number using lambda function"
   ]
  },
  {
   "cell_type": "code",
   "execution_count": 38,
   "id": "6f5460f7-97e1-428c-9082-6155b3c1fe32",
   "metadata": {},
   "outputs": [
    {
     "name": "stdout",
     "output_type": "stream",
     "text": [
      "Square of 5 is 25\n"
     ]
    }
   ],
   "source": [
    "square=lambda x: x**2\n",
    "print(\"Square of 5 is\",square(5))"
   ]
  },
  {
   "cell_type": "markdown",
   "id": "ebb7bfed-03ae-418a-bf37-5a93c186e6ff",
   "metadata": {},
   "source": [
    "### 5. WAP to check whether number is even or odd using lambda function"
   ]
  },
  {
   "cell_type": "code",
   "execution_count": 41,
   "id": "6a75d03e-f0fb-42c9-84fa-67a7dc16d5f5",
   "metadata": {},
   "outputs": [
    {
     "data": {
      "text/plain": [
       "'Odd'"
      ]
     },
     "execution_count": 41,
     "metadata": {},
     "output_type": "execute_result"
    }
   ],
   "source": [
    "even_odd=lambda x: 'Even' if x%2==0 else 'Odd'\n",
    "even_odd(13)"
   ]
  },
  {
   "cell_type": "markdown",
   "id": "f4c34231-3819-4528-afd8-75ed86d656b0",
   "metadata": {},
   "source": [
    "### 6 WAP to check whether number is positive or negative using lambda function\n"
   ]
  },
  {
   "cell_type": "code",
   "execution_count": 47,
   "id": "83a8a264-5c63-4e22-9a31-8140586407a3",
   "metadata": {},
   "outputs": [
    {
     "data": {
      "text/plain": [
       "'Positive'"
      ]
     },
     "execution_count": 47,
     "metadata": {},
     "output_type": "execute_result"
    }
   ],
   "source": [
    "pos_neg=lambda x : 'Positive' if x>0 else 'Negative'\n",
    "pos_neg(5)"
   ]
  },
  {
   "cell_type": "markdown",
   "id": "5977d0db-e0b6-4ba8-ac7f-94ea35130f10",
   "metadata": {},
   "source": [
    "### 7. WAP to find even numbers from a list using lambda function\n"
   ]
  },
  {
   "cell_type": "code",
   "execution_count": 2,
   "id": "4517d3b9-2d35-48bd-a56f-5137a6d253a8",
   "metadata": {},
   "outputs": [
    {
     "name": "stdout",
     "output_type": "stream",
     "text": [
      "Even numbers [10, 28, 56, 62, 54]\n"
     ]
    }
   ],
   "source": [
    "numbers=[10,13,5,28,56,9,62,54]\n",
    "\n",
    "even=list(filter(lambda x: x%2==0 , numbers))\n",
    "print(\"Even numbers\",even)"
   ]
  },
  {
   "cell_type": "markdown",
   "id": "febd8ecd-ae93-4cae-a7f1-9f2a92db0a83",
   "metadata": {},
   "source": [
    "### 8. WAP to find odd numbers from a list using lambda function"
   ]
  },
  {
   "cell_type": "code",
   "execution_count": 4,
   "id": "bd4fd25c-dda7-4425-ba66-2838b84aeddb",
   "metadata": {},
   "outputs": [
    {
     "data": {
      "text/plain": [
       "[13, 5, 65, 33]"
      ]
     },
     "execution_count": 4,
     "metadata": {},
     "output_type": "execute_result"
    }
   ],
   "source": [
    "numbers=[10,13,5,28,56,65,34,33]\n",
    "\n",
    "odd=list(filter(lambda x: x%2!=0, numbers))\n",
    "odd"
   ]
  },
  {
   "cell_type": "markdown",
   "id": "fd25880c-11e2-4aa0-829d-8cce4e786be1",
   "metadata": {},
   "source": [
    "### 9. WAP to sort a list based on length of words using lambda function"
   ]
  },
  {
   "cell_type": "code",
   "execution_count": 10,
   "id": "74309b97-fc03-41d5-9e58-21293c47077b",
   "metadata": {},
   "outputs": [
    {
     "name": "stdout",
     "output_type": "stream",
     "text": [
      "['Pune', 'Kota', 'Delhi', 'Mumbai', 'Airoli', 'Nagpur', 'Kharadi']\n"
     ]
    }
   ],
   "source": [
    "city=['Pune','Delhi','Mumbai','Airoli','Kharadi','Kota','Nagpur']\n",
    "\n",
    "sorted_list=sorted(city, key=lambda x: len(x))\n",
    "print(sorted_list)"
   ]
  },
  {
   "cell_type": "code",
   "execution_count": 15,
   "id": "ce31e1c6-b044-413d-b342-76765c6ffcce",
   "metadata": {},
   "outputs": [
    {
     "name": "stdout",
     "output_type": "stream",
     "text": [
      "['Kharadi', 'Mumbai', 'Airoli', 'Nagpur', 'Delhi', 'Pune', 'Kota']\n"
     ]
    }
   ],
   "source": [
    "city=['Pune','Delhi','Mumbai','Airoli','Kharadi','Kota','Nagpur']\n",
    "\n",
    "sorted_list=sorted(city, key=lambda x: len(x),reverse=True)\n",
    "print(sorted_list)"
   ]
  },
  {
   "cell_type": "markdown",
   "id": "80c29b1b-f965-4815-80fa-7a8b1468a120",
   "metadata": {},
   "source": [
    "### 10. Write a program to find area of square using lambda function"
   ]
  },
  {
   "cell_type": "code",
   "execution_count": 63,
   "id": "ba5a38f0-339c-42c0-af01-ae3d82406f70",
   "metadata": {},
   "outputs": [
    {
     "name": "stdout",
     "output_type": "stream",
     "text": [
      "Area of square is 68.89\n"
     ]
    }
   ],
   "source": [
    "area = lambda side : side**2\n",
    "print('Area of square is',(round(area(8.3),2)))"
   ]
  },
  {
   "cell_type": "code",
   "execution_count": null,
   "id": "31e7707f-6198-4f76-bccf-13a0729df131",
   "metadata": {},
   "outputs": [],
   "source": []
  }
 ],
 "metadata": {
  "kernelspec": {
   "display_name": "Python 3 (ipykernel)",
   "language": "python",
   "name": "python3"
  },
  "language_info": {
   "codemirror_mode": {
    "name": "ipython",
    "version": 3
   },
   "file_extension": ".py",
   "mimetype": "text/x-python",
   "name": "python",
   "nbconvert_exporter": "python",
   "pygments_lexer": "ipython3",
   "version": "3.12.4"
  }
 },
 "nbformat": 4,
 "nbformat_minor": 5
}
