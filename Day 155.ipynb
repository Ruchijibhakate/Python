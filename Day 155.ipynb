{
 "cells": [
  {
   "cell_type": "markdown",
   "id": "a5c99d5e-89f6-4160-9966-1fe6069a7833",
   "metadata": {},
   "source": [
    "### 1. Access the third item in the list."
   ]
  },
  {
   "cell_type": "code",
   "execution_count": 6,
   "id": "c6f0cd35-6cd6-4643-8552-b6888d736c1e",
   "metadata": {},
   "outputs": [
    {
     "name": "stdout",
     "output_type": "stream",
     "text": [
      "2\n"
     ]
    }
   ],
   "source": [
    "L1=[1,2,3,9,0,4,5]\n",
    "print(L1[1])"
   ]
  },
  {
   "cell_type": "code",
   "execution_count": null,
   "id": "86b69ce5-0ab1-4d46-8b48-69538e3e155d",
   "metadata": {},
   "outputs": [],
   "source": []
  }
 ],
 "metadata": {
  "kernelspec": {
   "display_name": "Python 3 (ipykernel)",
   "language": "python",
   "name": "python3"
  },
  "language_info": {
   "codemirror_mode": {
    "name": "ipython",
    "version": 3
   },
   "file_extension": ".py",
   "mimetype": "text/x-python",
   "name": "python",
   "nbconvert_exporter": "python",
   "pygments_lexer": "ipython3",
   "version": "3.12.4"
  }
 },
 "nbformat": 4,
 "nbformat_minor": 5
}
