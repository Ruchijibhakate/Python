{
 "cells": [
  {
   "cell_type": "markdown",
   "id": "077b26fa-d1c3-4de7-92bd-ab279ed97eec",
   "metadata": {},
   "source": [
    "### 1. Create the colon of a tuple."
   ]
  },
  {
   "cell_type": "code",
   "execution_count": 10,
   "id": "f75abdf2-9dff-4c9d-8a30-d7fe1db9f973",
   "metadata": {},
   "outputs": [
    {
     "name": "stdout",
     "output_type": "stream",
     "text": [
      "('Go', [], (), 4, True)\n",
      "('Go', [10], (), 4, True)\n",
      "('Go', [], (), 4, True)\n"
     ]
    }
   ],
   "source": [
    "from copy import deepcopy\n",
    "\n",
    "t1=('Go',[],(),4,True)\n",
    "print(t1)\n",
    "\n",
    "t1_colon=deepcopy(t1)\n",
    "t1_colon[1].append(10)\n",
    "print(t1_colon)\n",
    "\n",
    "print(t1)"
   ]
  },
  {
   "cell_type": "markdown",
   "id": "5c017da2-217b-4381-8e45-2e354bea57ed",
   "metadata": {},
   "source": [
    "### 2. Write a Python program to find repeated items in a tuple."
   ]
  },
  {
   "cell_type": "code",
   "execution_count": 23,
   "id": "aa3ed378-cc7e-4917-b893-c404aee466d4",
   "metadata": {},
   "outputs": [
    {
     "name": "stdout",
     "output_type": "stream",
     "text": [
      "(2, 10, 3, 4, 2, 10, 6, 9, 10, 3)\n",
      "2 : 2\n",
      "10 : 3\n",
      "3 : 2\n"
     ]
    }
   ],
   "source": [
    "t1=(2,10,3,4,2,10,6,9,10,3)\n",
    "print(t1)\n",
    "t2=[]\n",
    "for i in t1:\n",
    "    if i not in t2:\n",
    "        count=t1.count(i)\n",
    "        t2.append(i)\n",
    "        if count>1:\n",
    "            print(i,':',count)\n",
    "        "
   ]
  },
  {
   "cell_type": "code",
   "execution_count": null,
   "id": "7149111c-0182-46d1-94d4-fa80e0e84ee7",
   "metadata": {},
   "outputs": [],
   "source": []
  }
 ],
 "metadata": {
  "kernelspec": {
   "display_name": "Python 3 (ipykernel)",
   "language": "python",
   "name": "python3"
  },
  "language_info": {
   "codemirror_mode": {
    "name": "ipython",
    "version": 3
   },
   "file_extension": ".py",
   "mimetype": "text/x-python",
   "name": "python",
   "nbconvert_exporter": "python",
   "pygments_lexer": "ipython3",
   "version": "3.12.4"
  }
 },
 "nbformat": 4,
 "nbformat_minor": 5
}
