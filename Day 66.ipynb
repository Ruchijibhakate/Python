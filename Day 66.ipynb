{
 "cells": [
  {
   "cell_type": "markdown",
   "id": "bfaea109-2b75-4e3d-9eb2-63d89b4eea6b",
   "metadata": {},
   "source": [
    "### 1. WAP to sort given list of lists by length and value using lambda."
   ]
  },
  {
   "cell_type": "code",
   "execution_count": 6,
   "id": "b584d94a-cfb5-4352-84db-36bbda56871d",
   "metadata": {},
   "outputs": [
    {
     "name": "stdout",
     "output_type": "stream",
     "text": [
      "Original list : [[2], [0], [1, 3], [0, 7], [9, 11], [13, 15, 17]]\n",
      "Sorted List : [[0], [2], [0, 7], [1, 3], [9, 11], [13, 15, 17]]\n"
     ]
    }
   ],
   "source": [
    "def sort_sublists(input_list):\n",
    "    result=sorted(input_list, key=lambda l : (len(l),l))\n",
    "    return result\n",
    "\n",
    "list1=[[2], [0], [1,3], [0,7], [9,11], [13,15,17]]\n",
    "print('Original list :',list1)\n",
    "print('Sorted List :',sort_sublists(list1))"
   ]
  },
  {
   "cell_type": "markdown",
   "id": "bc3cad3f-addc-4809-9e63-8d427bc9d34d",
   "metadata": {},
   "source": [
    "### 2. WAP to find maximum value in given heterogeneous list using lambda."
   ]
  },
  {
   "cell_type": "code",
   "execution_count": 17,
   "id": "b73da8cc-c85a-46e1-96c7-35fa671a78e1",
   "metadata": {},
   "outputs": [
    {
     "name": "stdout",
     "output_type": "stream",
     "text": [
      "['python', 3, 2, 4, 5, 'version']\n",
      "Maximum value in list: 5\n"
     ]
    }
   ],
   "source": [
    "def max_val(list_val):\n",
    "    max_val=max(list_val, key=lambda i : (isinstance(i,int), i))\n",
    "    return max_val\n",
    "\n",
    "list_val = ['python',3,2,4,5,'version']\n",
    "print(list_val)\n",
    "print('Maximum value in list:',max_val(list_val))"
   ]
  },
  {
   "cell_type": "markdown",
   "id": "38e430dc-cd68-4f00-a584-4d68f1ed6a13",
   "metadata": {},
   "source": [
    "### 3. WAP to sort a given matrix in ascending order according to sum of its rows using lambda."
   ]
  },
  {
   "cell_type": "code",
   "execution_count": 23,
   "id": "26ee0890-ec60-48dd-9ece-e4b699145883",
   "metadata": {},
   "outputs": [
    {
     "name": "stdout",
     "output_type": "stream",
     "text": [
      "Original Matrix : [[1, 2, 3], [2, 4, 5], [1, 1, 1]]\n",
      "[[1, 1, 1], [1, 2, 3], [2, 4, 5]]\n",
      " \n",
      "Original Matrix : [[1, 2, 3], [-2, 4, -5], [1, -1, 1]]\n",
      "[[-2, 4, -5], [1, -1, 1], [1, 2, 3]]\n"
     ]
    }
   ],
   "source": [
    "def sort_matrix(matrix):\n",
    "    result=sorted(matrix, key=lambda matrix_row : sum(matrix_row))\n",
    "    return result\n",
    "\n",
    "matrix1=[[1,2,3], [2,4,5], [1,1,1]]\n",
    "matrix2=[[1,2,3], [-2,4,-5],[1,-1,1]]\n",
    "\n",
    "print('Original Matrix :',matrix1)\n",
    "print(sort_matrix(matrix1))\n",
    "print(' ')\n",
    "\n",
    "print('Original Matrix :',matrix2)\n",
    "print(sort_matrix(matrix2))"
   ]
  },
  {
   "cell_type": "markdown",
   "id": "f91dae7a-347d-4b9d-b295-59c8066a8c50",
   "metadata": {},
   "source": [
    "### 4. WAP to extract sepcified size of strings from a given list of string values using lambda"
   ]
  },
  {
   "cell_type": "code",
   "execution_count": 44,
   "id": "c5fc704f-52e7-4e2f-94d0-0c65c8f22494",
   "metadata": {},
   "outputs": [
    {
     "name": "stdout",
     "output_type": "stream",
     "text": [
      "Original List : ['python', 'list', 'exercises', 'practice', 'solution']\n",
      "After extracting the string of specified size :\n",
      "['practice', 'solution']\n"
     ]
    }
   ],
   "source": [
    "def extract_strings(str_list, l):\n",
    "    result= list(filter(lambda e : len(e)==l, str_list))\n",
    "    return result\n",
    "\n",
    "str_list1=['python','list','exercises','practice','solution']\n",
    "print('Original List :',str_list1)\n",
    "length=8\n",
    "print('After extracting the string of specified size :')\n",
    "print(extract_strings(['python','list','exercises','practice','solution'],8))"
   ]
  },
  {
   "cell_type": "markdown",
   "id": "07583482-cbc0-46d0-a990-0cb7e46532db",
   "metadata": {},
   "source": [
    "### 5. WAP to count a float value in mixed list using lambda. "
   ]
  },
  {
   "cell_type": "code",
   "execution_count": 49,
   "id": "a6120a34-9522-493d-b99a-d8f600f0e626",
   "metadata": {},
   "outputs": [
    {
     "name": "stdout",
     "output_type": "stream",
     "text": [
      "Original list : [1, 'abcd', 3.45, 12, 10, 90.4, 'sbdn', 0.1]\n",
      "Count of float value in list : 3\n"
     ]
    }
   ],
   "source": [
    "def count_float(list1):\n",
    "    ert=list(map(lambda i : isinstance(i,float),list1))\n",
    "    result = len([e for e in ert if e])\n",
    "    return result\n",
    "\n",
    "list2=[1, 'abcd', 3.45,12, 10,90.4,'sbdn',0.1] \n",
    "print('Original list :',list2)\n",
    "print('Count of float value in list :',count_float(list2))"
   ]
  },
  {
   "cell_type": "code",
   "execution_count": null,
   "id": "137a373f-c70e-486d-a36d-110069391935",
   "metadata": {},
   "outputs": [],
   "source": []
  }
 ],
 "metadata": {
  "kernelspec": {
   "display_name": "Python 3 (ipykernel)",
   "language": "python",
   "name": "python3"
  },
  "language_info": {
   "codemirror_mode": {
    "name": "ipython",
    "version": 3
   },
   "file_extension": ".py",
   "mimetype": "text/x-python",
   "name": "python",
   "nbconvert_exporter": "python",
   "pygments_lexer": "ipython3",
   "version": "3.12.4"
  }
 },
 "nbformat": 4,
 "nbformat_minor": 5
}
