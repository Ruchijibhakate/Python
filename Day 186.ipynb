{
 "cells": [
  {
   "cell_type": "markdown",
   "id": "7af48246-7cdd-47d7-b29a-e556eef9cc36",
   "metadata": {},
   "source": [
    "### Write program to check whether a number is Armstrong or not "
   ]
  },
  {
   "cell_type": "code",
   "execution_count": 8,
   "id": "3f4ba1b9-3e13-465d-8470-64a7b4e17619",
   "metadata": {},
   "outputs": [
    {
     "name": "stdin",
     "output_type": "stream",
     "text": [
      "Enter a Number : 153\n"
     ]
    },
    {
     "name": "stdout",
     "output_type": "stream",
     "text": [
      "Armstrong\n"
     ]
    }
   ],
   "source": [
    "num=int(input('Enter a Number :'))\n",
    "temp=num\n",
    "sum=0\n",
    "while temp>0:\n",
    "    rem=temp%10\n",
    "    sum=sum+(rem**3)\n",
    "    temp=temp//10\n",
    "\n",
    "if sum==num:\n",
    "    print('Armstrong')\n",
    "else:\n",
    "    print('Not Armstrong')"
   ]
  },
  {
   "cell_type": "code",
   "execution_count": null,
   "id": "148783b2-26b1-44f5-ab3d-ac95f3bf6772",
   "metadata": {},
   "outputs": [],
   "source": []
  }
 ],
 "metadata": {
  "kernelspec": {
   "display_name": "Python 3 (ipykernel)",
   "language": "python",
   "name": "python3"
  },
  "language_info": {
   "codemirror_mode": {
    "name": "ipython",
    "version": 3
   },
   "file_extension": ".py",
   "mimetype": "text/x-python",
   "name": "python",
   "nbconvert_exporter": "python",
   "pygments_lexer": "ipython3",
   "version": "3.12.4"
  }
 },
 "nbformat": 4,
 "nbformat_minor": 5
}
