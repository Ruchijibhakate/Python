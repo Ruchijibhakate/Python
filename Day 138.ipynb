{
 "cells": [
  {
   "cell_type": "markdown",
   "id": "6ec7d859-b9eb-4a16-af54-20a34bbeb8c1",
   "metadata": {},
   "source": [
    "### 1. Write a python program to unpack a tuple into sevaral variables."
   ]
  },
  {
   "cell_type": "code",
   "execution_count": 4,
   "id": "0ca159e9-0108-4852-b4b1-ad9b4ca5d1d0",
   "metadata": {},
   "outputs": [
    {
     "name": "stdout",
     "output_type": "stream",
     "text": [
      "(3, 7, 8)\n",
      "3 , 7 , 8\n"
     ]
    }
   ],
   "source": [
    "t1= (3,7,8)\n",
    "print(t1)\n",
    "\n",
    "n1,n2,n3=t1\n",
    "print(n1,',',n2,',',n3)"
   ]
  },
  {
   "cell_type": "markdown",
   "id": "90117e24-95eb-4707-bb9f-21a30da79113",
   "metadata": {},
   "source": [
    "### 2. Write a python program to add an item to a tuple."
   ]
  },
  {
   "cell_type": "code",
   "execution_count": 13,
   "id": "9e38606d-9344-4fa3-b755-f2c5214a7b1c",
   "metadata": {},
   "outputs": [
    {
     "name": "stdout",
     "output_type": "stream",
     "text": [
      "(3, 0, 4, 6, 1, 9, 5)\n",
      "(3, 0, 4, 6, 1, 9, 5, 18)\n"
     ]
    }
   ],
   "source": [
    "t1=(3,0,4,6,1,9,5)\n",
    "print(t1)\n",
    "\n",
    "t2=t1+(18,)\n",
    "print(t2)"
   ]
  },
  {
   "cell_type": "code",
   "execution_count": null,
   "id": "2b125853-c803-4e94-b789-c9e957498d99",
   "metadata": {},
   "outputs": [],
   "source": []
  }
 ],
 "metadata": {
  "kernelspec": {
   "display_name": "Python 3 (ipykernel)",
   "language": "python",
   "name": "python3"
  },
  "language_info": {
   "codemirror_mode": {
    "name": "ipython",
    "version": 3
   },
   "file_extension": ".py",
   "mimetype": "text/x-python",
   "name": "python",
   "nbconvert_exporter": "python",
   "pygments_lexer": "ipython3",
   "version": "3.12.4"
  }
 },
 "nbformat": 4,
 "nbformat_minor": 5
}
