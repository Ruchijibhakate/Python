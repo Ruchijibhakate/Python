{
 "cells": [
  {
   "cell_type": "markdown",
   "id": "bb59abb3-e499-4b00-940f-543def8c5d4f",
   "metadata": {},
   "source": [
    "### 1. Write a Python program that calculates the area of a circle based on the radius entered by the user."
   ]
  },
  {
   "cell_type": "code",
   "execution_count": 6,
   "id": "16aa1848-10cc-4401-9c93-0b580052a940",
   "metadata": {},
   "outputs": [
    {
     "name": "stdin",
     "output_type": "stream",
     "text": [
      "Enter a Radius of a Circle : 4.9\n"
     ]
    },
    {
     "name": "stdout",
     "output_type": "stream",
     "text": [
      "Area of Circle : 75.42963961269095\n"
     ]
    }
   ],
   "source": [
    "from math import pi\n",
    "radius=float(input('Enter a Radius of a Circle :'))\n",
    "area=pi*(radius**2)\n",
    "print('Area of Circle :',area)"
   ]
  },
  {
   "cell_type": "markdown",
   "id": "d3d15ac5-1861-4a6a-8ea4-1d9fcb29e459",
   "metadata": {},
   "source": [
    "### 2. Write a Python program that accepts the user's first and last name and prints them in reverse order with a space between them."
   ]
  },
  {
   "cell_type": "code",
   "execution_count": 3,
   "id": "1bf249d3-3181-4d56-97bb-3fd4ba835561",
   "metadata": {},
   "outputs": [
    {
     "name": "stdin",
     "output_type": "stream",
     "text": [
      "Enter a First Name : Rashi\n",
      "Enter a last Name: Bisen\n"
     ]
    },
    {
     "name": "stdout",
     "output_type": "stream",
     "text": [
      "Bisen Rashi\n"
     ]
    }
   ],
   "source": [
    "fname=input('Enter a First Name :')\n",
    "lname=input('Enter a last Name:')\n",
    "full_name=lname+' '+fname\n",
    "print(full_name)"
   ]
  },
  {
   "cell_type": "code",
   "execution_count": null,
   "id": "e79ea74d-1cb8-4552-ac96-7a0b8a5d708d",
   "metadata": {},
   "outputs": [],
   "source": []
  }
 ],
 "metadata": {
  "kernelspec": {
   "display_name": "Python 3 (ipykernel)",
   "language": "python",
   "name": "python3"
  },
  "language_info": {
   "codemirror_mode": {
    "name": "ipython",
    "version": 3
   },
   "file_extension": ".py",
   "mimetype": "text/x-python",
   "name": "python",
   "nbconvert_exporter": "python",
   "pygments_lexer": "ipython3",
   "version": "3.12.4"
  }
 },
 "nbformat": 4,
 "nbformat_minor": 5
}
