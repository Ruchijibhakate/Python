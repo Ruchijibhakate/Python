{
 "cells": [
  {
   "cell_type": "markdown",
   "id": "56ce32e6-f0c5-4cd1-a14e-e42498dfd119",
   "metadata": {},
   "source": [
    "### 1. Write a Pandas program to create and display one dimensional array like object containing an array of data using pandas module"
   ]
  },
  {
   "cell_type": "code",
   "execution_count": 2,
   "id": "a011186b-7e50-4977-8d27-af80b33a0c59",
   "metadata": {},
   "outputs": [
    {
     "name": "stdout",
     "output_type": "stream",
     "text": [
      "0    1\n",
      "1    2\n",
      "2    3\n",
      "3    4\n",
      "4    5\n",
      "dtype: int64\n"
     ]
    }
   ],
   "source": [
    "import pandas as pd\n",
    "ds=pd.Series([1,2,3,4,5])\n",
    "print(ds)"
   ]
  },
  {
   "cell_type": "markdown",
   "id": "b545e89e-3b3b-4212-9447-a411774b01ee",
   "metadata": {},
   "source": [
    "### 2. Write a pandas program to convert the Panda module series to python list and its type"
   ]
  },
  {
   "cell_type": "code",
   "execution_count": 10,
   "id": "16f3a185-bb21-4438-bc6a-b321e16348f8",
   "metadata": {},
   "outputs": [
    {
     "name": "stdout",
     "output_type": "stream",
     "text": [
      "Panada Series and its type\n",
      "0     2\n",
      "1     4\n",
      "2     6\n",
      "3     8\n",
      "4    10\n",
      "dtype: int64\n",
      "<class 'pandas.core.series.Series'>\n",
      "Convert the Pandas Series to Python list\n",
      "[2, 4, 6, 8, 10]\n",
      "<class 'list'>\n"
     ]
    }
   ],
   "source": [
    "import pandas as pd\n",
    "ds=pd.Series([2,4,6,8,10])\n",
    "print(\"Panada Series and its type\")\n",
    "print(ds)\n",
    "print(type(ds))\n",
    "print('Convert the Pandas Series to Python list')\n",
    "print(ds.tolist())\n",
    "print(type(ds.tolist()))"
   ]
  },
  {
   "cell_type": "markdown",
   "id": "53b88fdb-57b8-4bdf-becc-c49353873353",
   "metadata": {},
   "source": [
    "### 3. Write a pandas program to add, substract, multiply and divide the two pandas series"
   ]
  },
  {
   "cell_type": "code",
   "execution_count": 3,
   "id": "8e0e37fa-d9ac-489e-b754-af57757c6e71",
   "metadata": {},
   "outputs": [
    {
     "name": "stdout",
     "output_type": "stream",
     "text": [
      "Add of two series:\n",
      "0     3\n",
      "1     7\n",
      "2    11\n",
      "3    15\n",
      "4    19\n",
      "dtype: int64\n",
      "Substraction of two series:\n",
      "0    1\n",
      "1    1\n",
      "2    1\n",
      "3    1\n",
      "4    1\n",
      "dtype: int64\n",
      "Multiplication of two series:\n",
      "0     2\n",
      "1    12\n",
      "2    30\n",
      "3    56\n",
      "4    90\n",
      "dtype: int64\n",
      "Divide s1 by s2:\n",
      "0    2.000000\n",
      "1    1.333333\n",
      "2    1.200000\n",
      "3    1.142857\n",
      "4    1.111111\n",
      "dtype: float64\n"
     ]
    }
   ],
   "source": [
    "import pandas as pd\n",
    "s1=pd.Series([2,4,6,8,10])\n",
    "s2=pd.Series([1,3,5,7,9])\n",
    "add=s1+s2\n",
    "print('Add of two series:')\n",
    "print(add)\n",
    "sub=s1-s2\n",
    "print('Substraction of two series:')\n",
    "print(sub)\n",
    "multi=s1*s2\n",
    "print('Multiplication of two series:')\n",
    "print(multi)\n",
    "div=s1/s2\n",
    "print('Divide s1 by s2:')\n",
    "print(div)"
   ]
  },
  {
   "cell_type": "markdown",
   "id": "1bbb2db1-f62c-433c-9508-85af7a3d5026",
   "metadata": {},
   "source": [
    "### 4. Write a Pandas program to compare two pandas series."
   ]
  },
  {
   "cell_type": "code",
   "execution_count": 8,
   "id": "4a44fe43-dfec-41e4-8030-b4f7f16883e0",
   "metadata": {},
   "outputs": [
    {
     "name": "stdout",
     "output_type": "stream",
     "text": [
      "Series1:\n",
      "0     2\n",
      "1     4\n",
      "2     6\n",
      "3     8\n",
      "4    10\n",
      "dtype: int64\n",
      "Series2:\n",
      "0    1\n",
      "1    3\n",
      "2    5\n",
      "3    7\n",
      "4    9\n",
      "dtype: int64\n",
      "Compare the elements of given series:\n",
      "Equals:\n",
      "0    False\n",
      "1    False\n",
      "2    False\n",
      "3    False\n",
      "4    False\n",
      "dtype: bool\n",
      "Greater than:\n",
      "0    True\n",
      "1    True\n",
      "2    True\n",
      "3    True\n",
      "4    True\n",
      "dtype: bool\n",
      "Less than:\n",
      "0    False\n",
      "1    False\n",
      "2    False\n",
      "3    False\n",
      "4    False\n",
      "dtype: bool\n"
     ]
    }
   ],
   "source": [
    "import pandas as pd\n",
    "s1=pd.Series([2,4,6,8,10])\n",
    "s2=pd.Series([1,3,5,7,9])\n",
    "print('Series1:')\n",
    "print(s1)\n",
    "print('Series2:')\n",
    "print(s2)\n",
    "print('Compare the elements of given series:')\n",
    "print('Equals:')\n",
    "print(s1 == s2)\n",
    "print('Greater than:')\n",
    "print(s1 > s2)\n",
    "print('Less than:')\n",
    "print(s1 < s2)"
   ]
  },
  {
   "cell_type": "markdown",
   "id": "65826396-c663-4cf3-a4ab-e70d90ec74ae",
   "metadata": {},
   "source": [
    "### 5. Write a Pandas Program to convert the dictionary into Pandas Series"
   ]
  },
  {
   "cell_type": "code",
   "execution_count": 17,
   "id": "661657c9-c1fd-4880-ae2b-983128ab5d55",
   "metadata": {},
   "outputs": [
    {
     "name": "stdout",
     "output_type": "stream",
     "text": [
      "Original Dictionary:\n",
      "{'a': 100, 'b': 200, 'c': 300, 'd': 400}\n",
      "Converted Series:\n",
      "a    100\n",
      "b    200\n",
      "c    300\n",
      "d    400\n",
      "dtype: int64\n"
     ]
    }
   ],
   "source": [
    "import pandas as pd\n",
    "d1={'a':100, 'b':200, 'c':300, 'd':400}\n",
    "print('Original Dictionary:')\n",
    "print(d1)\n",
    "new_series = pd.Series(d1)\n",
    "print('Converted Series:')\n",
    "print(new_series)"
   ]
  },
  {
   "cell_type": "code",
   "execution_count": null,
   "id": "a3ab4d44-4374-4721-a3f0-de8448335d85",
   "metadata": {},
   "outputs": [],
   "source": []
  }
 ],
 "metadata": {
  "kernelspec": {
   "display_name": "Python 3 (ipykernel)",
   "language": "python",
   "name": "python3"
  },
  "language_info": {
   "codemirror_mode": {
    "name": "ipython",
    "version": 3
   },
   "file_extension": ".py",
   "mimetype": "text/x-python",
   "name": "python",
   "nbconvert_exporter": "python",
   "pygments_lexer": "ipython3",
   "version": "3.12.4"
  }
 },
 "nbformat": 4,
 "nbformat_minor": 5
}
