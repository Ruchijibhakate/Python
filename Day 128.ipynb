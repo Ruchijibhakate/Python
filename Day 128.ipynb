{
 "cells": [
  {
   "cell_type": "markdown",
   "id": "57886a9c-40b7-4c32-969a-6ada5b054367",
   "metadata": {},
   "source": [
    "### 1. WAP to add 'ing' at the end of string (length should be at least 3). If given string already ends with 'ing' then add 'ly' instead."
   ]
  },
  {
   "cell_type": "code",
   "execution_count": 36,
   "id": "c268ac98-d729-42ef-91ad-f47ffc5c6f2c",
   "metadata": {},
   "outputs": [
    {
     "name": "stdin",
     "output_type": "stream",
     "text": [
      "Enter a String rise\n"
     ]
    },
    {
     "name": "stdout",
     "output_type": "stream",
     "text": [
      "riseing\n"
     ]
    }
   ],
   "source": [
    "s=input('Enter a String')\n",
    "if len(s)>3:\n",
    "    if s[-3:] == 'ing':\n",
    "        s=s[:len(s)-len(s[-3:])]+'ly'\n",
    "    else: \n",
    "        s=s[:]+'ing'\n",
    "    print(s)    \n",
    "else:\n",
    "    print(s)"
   ]
  },
  {
   "cell_type": "markdown",
   "id": "a652fee7-33e9-4a81-bc5c-4e36251d94a9",
   "metadata": {},
   "source": [
    "### 2. Find Longest word in a list"
   ]
  },
  {
   "cell_type": "code",
   "execution_count": 53,
   "id": "33f2c2ec-f9d7-4c74-aa45-8862d18e4542",
   "metadata": {},
   "outputs": [
    {
     "name": "stdout",
     "output_type": "stream",
     "text": [
      "beautiful\n",
      "9\n"
     ]
    }
   ],
   "source": [
    "list1=['poor','great','beautiful','straight']\n",
    "max_len=len(list1[0])\n",
    "for i in list1:\n",
    "    n=len(i)\n",
    "    if n>max_len:\n",
    "        max_len=n    \n",
    "print(max(list1,key=len))       \n",
    "print(max_len)"
   ]
  },
  {
   "cell_type": "code",
   "execution_count": null,
   "id": "8d82e465-51ec-4a59-a1e8-95301e748777",
   "metadata": {},
   "outputs": [],
   "source": []
  }
 ],
 "metadata": {
  "kernelspec": {
   "display_name": "Python 3 (ipykernel)",
   "language": "python",
   "name": "python3"
  },
  "language_info": {
   "codemirror_mode": {
    "name": "ipython",
    "version": 3
   },
   "file_extension": ".py",
   "mimetype": "text/x-python",
   "name": "python",
   "nbconvert_exporter": "python",
   "pygments_lexer": "ipython3",
   "version": "3.12.4"
  }
 },
 "nbformat": 4,
 "nbformat_minor": 5
}
