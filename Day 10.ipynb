{
 "cells": [
  {
   "cell_type": "markdown",
   "id": "daeb44fe-4f2e-483b-a8ad-9a0b5f091b83",
   "metadata": {},
   "source": [
    "### 1. Find the sum of series  (1/1!)+(2/2!)+(3/3!)+ -----"
   ]
  },
  {
   "cell_type": "code",
   "execution_count": 13,
   "id": "34752170-e4f1-406e-857f-768e6427eb84",
   "metadata": {},
   "outputs": [
    {
     "name": "stdin",
     "output_type": "stream",
     "text": [
      "Enter a number 6\n"
     ]
    },
    {
     "name": "stdout",
     "output_type": "stream",
     "text": [
      "2.7166666666666663\n"
     ]
    }
   ],
   "source": [
    "n=int(input('Enter a number'))\n",
    "fact=1\n",
    "sum=0\n",
    "for i in range(1,n+1):\n",
    "    fact=fact*i\n",
    "    sum=sum+(i/fact)  \n",
    "print(sum)        "
   ]
  },
  {
   "cell_type": "markdown",
   "id": "eba67048-ace3-4cde-b7c8-98c67f9d675d",
   "metadata": {},
   "source": [
    "### 2. Find the sum of (1/1!)+(3/3!)+(5/5!)+ ----"
   ]
  },
  {
   "cell_type": "code",
   "execution_count": 21,
   "id": "5b955734-8584-4ed5-9286-c7b5cbe7e26f",
   "metadata": {},
   "outputs": [
    {
     "name": "stdin",
     "output_type": "stream",
     "text": [
      "Enter a number :  5\n"
     ]
    },
    {
     "name": "stdout",
     "output_type": "stream",
     "text": [
      "1.5416666666666667\n"
     ]
    }
   ],
   "source": [
    "n=int(input(\"Enter a number : \"))\n",
    "fact=1\n",
    "result=0\n",
    "for i in range(1,n+1):\n",
    "    fact=fact*i\n",
    "    if(i%2!=0):\n",
    "        result=result+(i/fact)\n",
    "print(result)        "
   ]
  },
  {
   "cell_type": "markdown",
   "id": "1c1f0102-a478-4b9e-8be1-10c2f32f2160",
   "metadata": {},
   "source": [
    "### 3. Find the sum of (0)+(2/2!)+(4/4!)+(6/6!) ----"
   ]
  },
  {
   "cell_type": "code",
   "execution_count": 30,
   "id": "7d05d76f-1224-4844-aa86-f83ffdd67c04",
   "metadata": {},
   "outputs": [
    {
     "name": "stdin",
     "output_type": "stream",
     "text": [
      "Enter a number : 7\n"
     ]
    },
    {
     "name": "stdout",
     "output_type": "stream",
     "text": [
      "1.175\n"
     ]
    }
   ],
   "source": [
    "n=int(input(\"Enter a number :\"))\n",
    "fact=1\n",
    "result=0\n",
    "for i in range(1,n+1):\n",
    "    fact=fact*i\n",
    "    if(i%2==0):\n",
    "        result=result+(i/fact)\n",
    "print(result)        "
   ]
  },
  {
   "cell_type": "markdown",
   "id": "9ff1a543-0979-4c9c-beeb-2eebcb1a27fb",
   "metadata": {},
   "source": [
    "### 4. WAP to check whether given string is palindrome or not"
   ]
  },
  {
   "cell_type": "code",
   "execution_count": 48,
   "id": "03bda091-9481-4e2e-a473-6e40e1778ee2",
   "metadata": {},
   "outputs": [
    {
     "name": "stdin",
     "output_type": "stream",
     "text": [
      "Enter any word : maam\n"
     ]
    },
    {
     "name": "stdout",
     "output_type": "stream",
     "text": [
      "maam\n",
      "Palindrome\n"
     ]
    }
   ],
   "source": [
    "string=input(\"Enter any word :\")\n",
    "rev=\"\"\n",
    "for i in string:\n",
    "    rev=i+rev\n",
    "print(rev)\n",
    "if(string==rev):\n",
    "    print(\"Palindrome\")\n",
    "else:\n",
    "    print(\"Not Palindrome\")"
   ]
  },
  {
   "cell_type": "markdown",
   "id": "a34fd47c-2dfe-4fc9-8703-6624fb9a34f1",
   "metadata": {},
   "source": [
    "### 5. WAP that accepts a word from user and reverses it"
   ]
  },
  {
   "cell_type": "code",
   "execution_count": 51,
   "id": "bba85de4-be3d-4b63-b3e5-e7a20ff920f0",
   "metadata": {},
   "outputs": [
    {
     "name": "stdin",
     "output_type": "stream",
     "text": [
      "Enter a word : rainy\n"
     ]
    },
    {
     "name": "stdout",
     "output_type": "stream",
     "text": [
      "yniar\n"
     ]
    }
   ],
   "source": [
    "string=input(\"Enter a word :\")\n",
    "rev=\"\"\n",
    "for i in string:\n",
    "    rev=i+rev\n",
    "print(rev)    "
   ]
  },
  {
   "cell_type": "markdown",
   "id": "d643adc4-5c19-4c17-94fb-bb18c364be06",
   "metadata": {},
   "source": [
    "### 6. WAP to check if a given number is Armstrong or not"
   ]
  },
  {
   "cell_type": "code",
   "execution_count": 1,
   "id": "39825959-ba4c-468a-8817-ff6b4b6d657b",
   "metadata": {},
   "outputs": [
    {
     "name": "stdin",
     "output_type": "stream",
     "text": [
      "Enter a number 153\n"
     ]
    },
    {
     "name": "stdout",
     "output_type": "stream",
     "text": [
      "153\n",
      "armstrong number\n"
     ]
    }
   ],
   "source": [
    "num=int(input(\"Enter a number\"))\n",
    "temp=str(num)\n",
    "sum=0\n",
    "for i in temp:\n",
    "  sum=sum+int(i)**3\n",
    "print(sum)    \n",
    "if sum==num:\n",
    "  print(\"armstrong number\")\n",
    "else:\n",
    "  print(\"not armstrong number\")\n"
   ]
  },
  {
   "cell_type": "markdown",
   "id": "b817be6a-a101-4e78-8439-d28b0abbbaa5",
   "metadata": {},
   "source": [
    "### 7. Count the number of even and odd numbers from the series of number"
   ]
  },
  {
   "cell_type": "code",
   "execution_count": 80,
   "id": "88753035-de2a-4a21-961c-6c6a191de871",
   "metadata": {},
   "outputs": [
    {
     "name": "stdout",
     "output_type": "stream",
     "text": [
      "Even numbers are  3\n",
      "Odd numbers are  6\n"
     ]
    }
   ],
   "source": [
    "list=[1,3,2,6,10,11,25,17,19]\n",
    "ev=0\n",
    "od=0\n",
    "for i in list:\n",
    "    if i%2==0:\n",
    "        ev=ev+1\n",
    "    else:\n",
    "        od=od+1\n",
    "print(\"Even numbers are \",ev) \n",
    "print(\"Odd numbers are \",od) \n",
    "        "
   ]
  },
  {
   "cell_type": "markdown",
   "id": "d28a1586-a84b-4a80-9834-3e472d66ea81",
   "metadata": {},
   "source": [
    "### 8. WAP to display all the numbers within the range except prime number"
   ]
  },
  {
   "cell_type": "code",
   "execution_count": 98,
   "id": "69961271-ad95-4d07-bbb6-738540a4ef17",
   "metadata": {},
   "outputs": [
    {
     "name": "stdout",
     "output_type": "stream",
     "text": [
      "1\n",
      "2\n",
      "3\n",
      "5\n",
      "7\n",
      "11\n",
      "13\n",
      "17\n",
      "19\n",
      "23\n",
      "29\n",
      "31\n",
      "37\n",
      "41\n",
      "43\n",
      "47\n"
     ]
    }
   ],
   "source": [
    "\n",
    "for num in range(1,50):\n",
    "    for i in range(2,num):\n",
    "        if num%i==0:\n",
    "            break\n",
    "    else:\n",
    "        print(num)\n",
    "        "
   ]
  },
  {
   "cell_type": "markdown",
   "id": "aa5a54f8-8dbb-4423-80e8-07389376b302",
   "metadata": {},
   "source": [
    "### 9. WAP to get a fabonacci series between 0 to 50"
   ]
  },
  {
   "cell_type": "code",
   "execution_count": 13,
   "id": "15fdfd44-b31a-452f-88ec-abf7fc244b99",
   "metadata": {},
   "outputs": [
    {
     "name": "stdout",
     "output_type": "stream",
     "text": [
      "0\n",
      "1\n",
      "1\n",
      "2\n",
      "3\n",
      "5\n",
      "8\n",
      "13\n",
      "21\n",
      "34\n"
     ]
    }
   ],
   "source": [
    "num=50\n",
    "n1=0\n",
    "n2=1\n",
    "print(n1)\n",
    "print(n2)\n",
    "for i in range(0,num):\n",
    "   if(i<=num):\n",
    "       n3=n1+n2\n",
    "       if n3==55:\n",
    "           break\n",
    "       print(n3)\n",
    "       n1,n2=n2,n3\n",
    "     "
   ]
  },
  {
   "cell_type": "markdown",
   "id": "78eab235-e594-4745-bbc5-ebf48e462486",
   "metadata": {},
   "source": [
    "### 10.WAP to find the factorial of given number"
   ]
  },
  {
   "cell_type": "code",
   "execution_count": 19,
   "id": "d028f9e1-b143-4731-9176-3b27f92ea363",
   "metadata": {},
   "outputs": [
    {
     "name": "stdin",
     "output_type": "stream",
     "text": [
      "Enter a number : 4\n"
     ]
    },
    {
     "name": "stdout",
     "output_type": "stream",
     "text": [
      "24\n"
     ]
    }
   ],
   "source": [
    "num=int(input(\"Enter a number :\"))\n",
    "fact=1\n",
    "res=0\n",
    "for i in range(1,num+1):\n",
    "    fact=fact*i\n",
    "print(fact)    "
   ]
  },
  {
   "cell_type": "code",
   "execution_count": null,
   "id": "74fa8778-a8f0-4c4f-ba17-734bbcbf8d28",
   "metadata": {},
   "outputs": [],
   "source": []
  }
 ],
 "metadata": {
  "kernelspec": {
   "display_name": "Python 3 (ipykernel)",
   "language": "python",
   "name": "python3"
  },
  "language_info": {
   "codemirror_mode": {
    "name": "ipython",
    "version": 3
   },
   "file_extension": ".py",
   "mimetype": "text/x-python",
   "name": "python",
   "nbconvert_exporter": "python",
   "pygments_lexer": "ipython3",
   "version": "3.12.4"
  }
 },
 "nbformat": 4,
 "nbformat_minor": 5
}
