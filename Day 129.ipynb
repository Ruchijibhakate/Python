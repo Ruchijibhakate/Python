{
 "cells": [
  {
   "cell_type": "markdown",
   "id": "06b52a46-7838-4263-a520-ea71a4246347",
   "metadata": {},
   "source": [
    "### 1. Write a program to remove the nth index character from a nonempty string"
   ]
  },
  {
   "cell_type": "code",
   "execution_count": 2,
   "id": "c55a1b88-6893-45fd-8e00-cf7c20842a6b",
   "metadata": {},
   "outputs": [
    {
     "data": {
      "text/plain": [
       "'poporn'"
      ]
     },
     "execution_count": 2,
     "metadata": {},
     "output_type": "execute_result"
    }
   ],
   "source": [
    "def remove(str,n):\n",
    "    first_part=str[:n]\n",
    "    second_part=str[n+1:]\n",
    "    new_str=first_part + second_part\n",
    "    return new_str\n",
    "    \n",
    "remove('popcorn',3)"
   ]
  },
  {
   "cell_type": "markdown",
   "id": "0e3f1afe-2bad-46a1-863d-dc6cffa020e8",
   "metadata": {},
   "source": [
    "### 2. Write a Python program to change a given string to a newly string where the first and last chars have been exchanged."
   ]
  },
  {
   "cell_type": "code",
   "execution_count": 13,
   "id": "5283db86-c629-4c73-8a9e-f936f5054020",
   "metadata": {},
   "outputs": [
    {
     "name": "stdout",
     "output_type": "stream",
     "text": [
      "nopcorp\n"
     ]
    }
   ],
   "source": [
    "s='popcorn'\n",
    "new_str = s[-1:] + s[1:-1] + s[:1]\n",
    "print(new_str)"
   ]
  },
  {
   "cell_type": "code",
   "execution_count": 15,
   "id": "c88a013a-3aa9-406c-b944-bf0724d02d4c",
   "metadata": {},
   "outputs": [
    {
     "data": {
      "text/plain": [
       "'n'"
      ]
     },
     "execution_count": 15,
     "metadata": {},
     "output_type": "execute_result"
    }
   ],
   "source": [
    "s[-1:]"
   ]
  },
  {
   "cell_type": "code",
   "execution_count": null,
   "id": "1baf8023-b9d8-443c-85e2-b8eaaf59a774",
   "metadata": {},
   "outputs": [],
   "source": []
  }
 ],
 "metadata": {
  "kernelspec": {
   "display_name": "Python 3 (ipykernel)",
   "language": "python",
   "name": "python3"
  },
  "language_info": {
   "codemirror_mode": {
    "name": "ipython",
    "version": 3
   },
   "file_extension": ".py",
   "mimetype": "text/x-python",
   "name": "python",
   "nbconvert_exporter": "python",
   "pygments_lexer": "ipython3",
   "version": "3.12.4"
  }
 },
 "nbformat": 4,
 "nbformat_minor": 5
}
