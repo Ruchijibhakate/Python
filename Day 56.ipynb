{
 "cells": [
  {
   "cell_type": "markdown",
   "id": "0142a9c8-ca95-4cd2-8140-f3982041d1e6",
   "metadata": {},
   "source": [
    "### 1. Accept 3 angles of triangle and check the triangle is right angle triangle or not"
   ]
  },
  {
   "cell_type": "code",
   "execution_count": 10,
   "id": "ac5a0b3b-3733-46ff-9585-79e1bcc6cd0e",
   "metadata": {},
   "outputs": [
    {
     "name": "stdin",
     "output_type": "stream",
     "text": [
      "Enter 1st angle of triangle: 90\n",
      "Enter 2nd angle of triangle: 45\n",
      "Enter 3rd angle of triangle: 45\n"
     ]
    },
    {
     "name": "stdout",
     "output_type": "stream",
     "text": [
      "Given Triangle is right angle triangle\n"
     ]
    }
   ],
   "source": [
    "angle1=int(input('Enter 1st angle of triangle:'))\n",
    "angle2=int(input('Enter 2nd angle of triangle:'))\n",
    "angle3=int(input('Enter 3rd angle of triangle:'))\n",
    "\n",
    "if angle1==90 or angle2==90 or angle3==90:\n",
    "    print('Given Triangle is right angle triangle')\n",
    "else:\n",
    "    print('Given Triangle is not right angle triangle')\n"
   ]
  },
  {
   "cell_type": "markdown",
   "id": "6767fd1f-269f-485d-9dc8-7ac378a06450",
   "metadata": {},
   "source": [
    "### 2. Accept 3 numbers from user and print maximum number if all are different."
   ]
  },
  {
   "cell_type": "code",
   "execution_count": 6,
   "id": "62f08184-79b8-43b7-80fa-ab5748037881",
   "metadata": {},
   "outputs": [
    {
     "name": "stdin",
     "output_type": "stream",
     "text": [
      "Enter a 1st number: 50\n",
      "Enter a 2nd number: 100\n",
      "Enter a 3rd number: 20\n"
     ]
    },
    {
     "name": "stdout",
     "output_type": "stream",
     "text": [
      "Maximum number is 100\n"
     ]
    }
   ],
   "source": [
    "num1=int(input('Enter a 1st number:'))\n",
    "num2=int(input('Enter a 2nd number:'))\n",
    "num3=int(input('Enter a 3rd number:'))\n",
    "\n",
    "if num1!=num2!=num3:\n",
    "    if num1>num2 and num1>num3:\n",
    "        print('Maximum number is',num1)\n",
    "    elif num2>num1 and num2>num3:\n",
    "        print('Maximum number is',num2)   \n",
    "    else:\n",
    "        print('Maximum number is',num3) \n",
    "else:\n",
    "    print('All numbers are same')"
   ]
  },
  {
   "cell_type": "markdown",
   "id": "f67302cd-a990-4e4f-85d8-6414836a68d2",
   "metadata": {},
   "source": [
    "### 3. Accept 2 numbers and operators from user and program the given operation accordingly."
   ]
  },
  {
   "cell_type": "code",
   "execution_count": 23,
   "id": "7502f19c-0cde-4633-be2d-9c58ab859333",
   "metadata": {},
   "outputs": [
    {
     "name": "stdin",
     "output_type": "stream",
     "text": [
      "Enter 1st number: 45\n",
      "Enetr 2nd number: 10\n",
      "Enter an Operator (+, -, *, /): *\n"
     ]
    },
    {
     "name": "stdout",
     "output_type": "stream",
     "text": [
      "The result is  450.0\n"
     ]
    }
   ],
   "source": [
    "def calculator(num1,num2,operator):\n",
    "    if operator=='+':\n",
    "        return num1+num2\n",
    "    elif operator=='-':\n",
    "        return num1-num2  \n",
    "    elif operator=='*':\n",
    "        return num1*num2\n",
    "    elif operator=='/':\n",
    "        if num2!=0:\n",
    "            return num1/num2  \n",
    "        else:\n",
    "            return \"Error! Division by Zero\"\n",
    "    else:\n",
    "        return 'Invalid Operator!'\n",
    "\n",
    "num1=float(input('Enter 1st number:'))\n",
    "num2=float(input('Enetr 2nd number:'))\n",
    "operator=input('Enter an Operator (+, -, *, /):')\n",
    "\n",
    "result=calculator(num1,num2,operator)\n",
    "print('The result is ',result)"
   ]
  },
  {
   "cell_type": "markdown",
   "id": "a62b544c-6478-40c0-b09b-294fe489b985",
   "metadata": {},
   "source": [
    "### 4. Count Vowels in string."
   ]
  },
  {
   "cell_type": "code",
   "execution_count": 39,
   "id": "b2430062-7d3a-4b12-98d9-123281cb53c3",
   "metadata": {},
   "outputs": [
    {
     "name": "stdout",
     "output_type": "stream",
     "text": [
      "3\n"
     ]
    }
   ],
   "source": [
    "str='Hello World'\n",
    "count=0\n",
    "for i in str:\n",
    "    if i=='a' or i=='e' or i=='i' or i=='o' or i=='u':\n",
    "        count=count+1\n",
    "\n",
    "print(count)"
   ]
  },
  {
   "cell_type": "markdown",
   "id": "3cee4d96-6b02-4fed-92e9-7a6c6ba4486f",
   "metadata": {},
   "source": [
    "### 5. Fabonacci Series."
   ]
  },
  {
   "cell_type": "code",
   "execution_count": 49,
   "id": "f2c14ee7-a0e9-44db-8f4c-6a1b4da4418b",
   "metadata": {},
   "outputs": [
    {
     "name": "stdout",
     "output_type": "stream",
     "text": [
      "0\n",
      "1\n",
      "1\n",
      "2\n",
      "3\n",
      "5\n",
      "8\n",
      "13\n",
      "21\n",
      "34\n",
      "55\n",
      "89\n"
     ]
    }
   ],
   "source": [
    "n1=0\n",
    "n2=1\n",
    "print(n1)\n",
    "print(n2)\n",
    "i=1\n",
    "while (i<=10):\n",
    "    n3=n1+n2\n",
    "    n1,n2=n2,n3\n",
    "    print(n3)   \n",
    "    i=i+1"
   ]
  },
  {
   "cell_type": "code",
   "execution_count": null,
   "id": "6f4ac7aa-14f6-467a-9644-cbf868fc435d",
   "metadata": {},
   "outputs": [],
   "source": []
  }
 ],
 "metadata": {
  "kernelspec": {
   "display_name": "Python 3 (ipykernel)",
   "language": "python",
   "name": "python3"
  },
  "language_info": {
   "codemirror_mode": {
    "name": "ipython",
    "version": 3
   },
   "file_extension": ".py",
   "mimetype": "text/x-python",
   "name": "python",
   "nbconvert_exporter": "python",
   "pygments_lexer": "ipython3",
   "version": "3.12.4"
  }
 },
 "nbformat": 4,
 "nbformat_minor": 5
}
