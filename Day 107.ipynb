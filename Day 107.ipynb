{
 "cells": [
  {
   "cell_type": "markdown",
   "id": "7d836368-80b6-4c93-af6c-d0c05918ed85",
   "metadata": {},
   "source": [
    "### 1. Write a character pattern."
   ]
  },
  {
   "cell_type": "code",
   "execution_count": 16,
   "id": "9481d404-1570-4b8b-a4cb-9efc79923c6c",
   "metadata": {},
   "outputs": [
    {
     "name": "stdout",
     "output_type": "stream",
     "text": [
      "          A \n",
      "        B B B \n",
      "      C C C C C \n",
      "    D D D D D D D \n",
      "  E E E E E E E E E \n",
      "    G G G G G G G \n",
      "      H H H H H \n",
      "        I I I \n",
      "          J \n"
     ]
    }
   ],
   "source": [
    "n=5\n",
    "p=65\n",
    "for i in range(1,n+1):\n",
    "    for j in range(i,n+1):\n",
    "        print(' ',end=' ')\n",
    "    for j in range(1,i+1):\n",
    "        print(chr(p),end=' ')\n",
    "    for j in range(2,i+1):\n",
    "        print(chr(p),end=' ')\n",
    "    p=p+1\n",
    "    print()\n",
    "\n",
    "p=71\n",
    "for i in range(2,n+1):\n",
    "    for j in range(1,i+1):\n",
    "        print(' ',end=' ')\n",
    "    for j in range(i,n+1):\n",
    "        print(chr(p),end=' ')\n",
    "    for j in range(i,n):\n",
    "        print(chr(p),end=' ')\n",
    "    p=p+1\n",
    "    print()    "
   ]
  },
  {
   "cell_type": "markdown",
   "id": "4514fd8b-0a40-4c7f-9192-bc25f3c744ad",
   "metadata": {},
   "source": [
    "### 2. Write Character of pattern"
   ]
  },
  {
   "cell_type": "code",
   "execution_count": 23,
   "id": "d93d39e4-2450-4a45-85e2-fe0ea68609ef",
   "metadata": {},
   "outputs": [
    {
     "name": "stdout",
     "output_type": "stream",
     "text": [
      "          a \n",
      "        b b b \n",
      "      c c c c c \n",
      "    d d d d d d d \n",
      "  e e e e e e e e e \n"
     ]
    }
   ],
   "source": [
    "n=5\n",
    "p=97\n",
    "for i in range(1,n+1):\n",
    "    for j in range(i,n+1):\n",
    "        print(' ',end=' ')\n",
    "    for j in range(1,i+1):\n",
    "        print(chr(p),end=' ')\n",
    "    for j in range(2,i+1):\n",
    "        print(chr(p),end=' ')\n",
    "    p=p+1 \n",
    "    print()"
   ]
  },
  {
   "cell_type": "code",
   "execution_count": null,
   "id": "01ed94d3-b533-4f45-9144-7aa1fc391e00",
   "metadata": {},
   "outputs": [],
   "source": []
  }
 ],
 "metadata": {
  "kernelspec": {
   "display_name": "Python 3 (ipykernel)",
   "language": "python",
   "name": "python3"
  },
  "language_info": {
   "codemirror_mode": {
    "name": "ipython",
    "version": 3
   },
   "file_extension": ".py",
   "mimetype": "text/x-python",
   "name": "python",
   "nbconvert_exporter": "python",
   "pygments_lexer": "ipython3",
   "version": "3.12.4"
  }
 },
 "nbformat": 4,
 "nbformat_minor": 5
}
