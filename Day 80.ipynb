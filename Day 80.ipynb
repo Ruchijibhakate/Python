{
 "cells": [
  {
   "cell_type": "markdown",
   "id": "a7fae600-df8e-49f4-a660-a1322c24ef44",
   "metadata": {},
   "source": [
    "### 1. WAP that print each item and corrosponding type from given list."
   ]
  },
  {
   "cell_type": "code",
   "execution_count": 6,
   "id": "87067cac-47e7-4601-9b1b-1bb7472fb937",
   "metadata": {},
   "outputs": [
    {
     "name": "stdout",
     "output_type": "stream",
     "text": [
      "1452 : <class 'int'>\n",
      "11.32 : <class 'float'>\n",
      "(1+2j) : <class 'complex'>\n",
      "True : <class 'bool'>\n",
      "resources : <class 'str'>\n",
      "(0, -1) : <class 'tuple'>\n",
      "[5, 12] : <class 'list'>\n",
      "{'Class': 'V', 'Section': 'A'} : <class 'dict'>\n"
     ]
    }
   ],
   "source": [
    "list1=[1452,11.32,1+2j,True, 'resources',(0,-1),[5,12], {'Class':'V','Section':'A'}]\n",
    "for i in list1:\n",
    "    print(i,':',type(i))"
   ]
  },
  {
   "cell_type": "markdown",
   "id": "0996e4aa-2272-45a6-a537-a70c748fa557",
   "metadata": {},
   "source": [
    "### 2. Write a python program that prints all the items from from 0 to 6 except 3 and 6"
   ]
  },
  {
   "cell_type": "code",
   "execution_count": 5,
   "id": "495af87a-d013-493e-9659-ea83c5a2b2bf",
   "metadata": {},
   "outputs": [
    {
     "name": "stdout",
     "output_type": "stream",
     "text": [
      "0\n",
      "1\n",
      "2\n",
      "4\n",
      "5\n",
      "\n"
     ]
    }
   ],
   "source": [
    "for i in range(7):\n",
    "    if i==3 or i==6:\n",
    "        continue\n",
    "    print(i)  \n",
    "print()"
   ]
  },
  {
   "cell_type": "markdown",
   "id": "5f89f87a-c665-4f3c-9e35-2cd65fbf7152",
   "metadata": {},
   "source": [
    "### 3. WAP to get Fabonacci Series."
   ]
  },
  {
   "cell_type": "code",
   "execution_count": 12,
   "id": "e8a76518-72d4-49ad-a709-ff66e4beb087",
   "metadata": {},
   "outputs": [
    {
     "name": "stdout",
     "output_type": "stream",
     "text": [
      "0\n",
      "1\n",
      "1\n",
      "2\n",
      "3\n",
      "5\n",
      "8\n",
      "13\n",
      "21\n",
      "34\n"
     ]
    }
   ],
   "source": [
    "n1=0\n",
    "n2=1\n",
    "print(n1)\n",
    "print(n2)\n",
    "for i in range(10):\n",
    "    n3=n1+n2\n",
    "    if n3>=50:\n",
    "        break\n",
    "    print(n3)\n",
    "    n1,n2=n2,n3\n",
    "      \n",
    "    "
   ]
  },
  {
   "cell_type": "markdown",
   "id": "3908dd73-dd94-4787-9e4a-b108ddf91c01",
   "metadata": {},
   "source": [
    "### 4.WAP that iterates the integers from 1 to 50. For the multiples of 3 print 'Fizz' instead of number and multiple of 5 print 'Buzz'. For the number that are multiple of 3 and 5 print 'FizzBuzz'"
   ]
  },
  {
   "cell_type": "code",
   "execution_count": 18,
   "id": "4dc94f38-5c3d-42cf-9f63-3b2baecb4648",
   "metadata": {},
   "outputs": [
    {
     "name": "stdout",
     "output_type": "stream",
     "text": [
      "1\n",
      "2\n",
      "Fizz\n",
      "4\n",
      "Buzz\n",
      "Fizz\n",
      "7\n",
      "8\n",
      "Fizz\n",
      "Buzz\n",
      "11\n",
      "Fizz\n",
      "13\n",
      "14\n",
      "FizzBuzz\n",
      "16\n",
      "17\n",
      "Fizz\n",
      "19\n",
      "Buzz\n",
      "Fizz\n",
      "22\n",
      "23\n",
      "Fizz\n",
      "Buzz\n",
      "26\n",
      "Fizz\n",
      "28\n",
      "29\n",
      "FizzBuzz\n",
      "31\n",
      "32\n",
      "Fizz\n",
      "34\n",
      "Buzz\n",
      "Fizz\n",
      "37\n",
      "38\n",
      "Fizz\n",
      "Buzz\n",
      "41\n",
      "Fizz\n",
      "43\n",
      "44\n",
      "FizzBuzz\n",
      "46\n",
      "47\n",
      "Fizz\n",
      "49\n",
      "Buzz\n"
     ]
    }
   ],
   "source": [
    "for i in range(1,51):\n",
    "    if i%3==0 and i%5==0:\n",
    "        print('FizzBuzz')\n",
    "    elif i%5==0:\n",
    "        print('Buzz')\n",
    "    elif i%3==0:\n",
    "        print('Fizz')\n",
    "    else:\n",
    "        print(i)"
   ]
  },
  {
   "cell_type": "markdown",
   "id": "d748e07f-b632-4898-8751-d153cb56a329",
   "metadata": {},
   "source": [
    "### 5. WAP that takes two digits m (row) and n (column) as input and generates a two dimensinal array. The element value in the ith row and jth column of array should be i*j."
   ]
  },
  {
   "cell_type": "code",
   "execution_count": 30,
   "id": "c4fdba6e-1174-4ddd-a6be-646e96799833",
   "metadata": {},
   "outputs": [
    {
     "name": "stdin",
     "output_type": "stream",
     "text": [
      "Enter a number of rows: 3\n",
      "Enter a number of columns: 4\n"
     ]
    },
    {
     "name": "stdout",
     "output_type": "stream",
     "text": [
      "[[0, 0, 0, 0], [0, 1, 2, 3], [0, 2, 4, 6]]\n"
     ]
    }
   ],
   "source": [
    "row_num=int(input('Enter a number of rows:'))\n",
    "col_num=int(input('Enter a number of columns:'))\n",
    "# Create multi_list as a 2D list with the correct dimensions\n",
    "multi_list = [[0 for col in range(col_num)] for row in range(row_num)] \n",
    "\n",
    "for row in range(row_num):\n",
    "    for col in range(col_num):\n",
    "        # Access the element using row and col as indices\n",
    "        multi_list[row][col] = row*col \n",
    "\n",
    "print(multi_list)"
   ]
  },
  {
   "cell_type": "code",
   "execution_count": null,
   "id": "a8ddc789-c7e2-4768-b130-c75330ca7787",
   "metadata": {},
   "outputs": [],
   "source": []
  }
 ],
 "metadata": {
  "kernelspec": {
   "display_name": "Python 3 (ipykernel)",
   "language": "python",
   "name": "python3"
  },
  "language_info": {
   "codemirror_mode": {
    "name": "ipython",
    "version": 3
   },
   "file_extension": ".py",
   "mimetype": "text/x-python",
   "name": "python",
   "nbconvert_exporter": "python",
   "pygments_lexer": "ipython3",
   "version": "3.12.4"
  }
 },
 "nbformat": 4,
 "nbformat_minor": 5
}
