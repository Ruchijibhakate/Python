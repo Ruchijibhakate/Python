{
 "cells": [
  {
   "cell_type": "markdown",
   "id": "9943f71f-d68a-4450-9b85-266fff04e4ab",
   "metadata": {},
   "source": [
    "### Reverse User Define Number"
   ]
  },
  {
   "cell_type": "code",
   "execution_count": 6,
   "id": "3f857cf7-eb86-49fd-940c-54ab56f12228",
   "metadata": {},
   "outputs": [
    {
     "name": "stdin",
     "output_type": "stream",
     "text": [
      "Enter a Number : 789\n"
     ]
    },
    {
     "name": "stdout",
     "output_type": "stream",
     "text": [
      "987\n"
     ]
    }
   ],
   "source": [
    "num=int(input('Enter a Number :'))\n",
    "res=0\n",
    "while num>0:\n",
    "    rem=num%10\n",
    "    res=res*10+rem\n",
    "    num=num//10\n",
    "\n",
    "print(res)"
   ]
  },
  {
   "cell_type": "code",
   "execution_count": null,
   "id": "0cd58ece-6945-4ccb-aa60-4aed0e92f936",
   "metadata": {},
   "outputs": [],
   "source": []
  }
 ],
 "metadata": {
  "kernelspec": {
   "display_name": "Python 3 (ipykernel)",
   "language": "python",
   "name": "python3"
  },
  "language_info": {
   "codemirror_mode": {
    "name": "ipython",
    "version": 3
   },
   "file_extension": ".py",
   "mimetype": "text/x-python",
   "name": "python",
   "nbconvert_exporter": "python",
   "pygments_lexer": "ipython3",
   "version": "3.12.4"
  }
 },
 "nbformat": 4,
 "nbformat_minor": 5
}
