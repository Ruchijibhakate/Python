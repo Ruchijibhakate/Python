{
 "cells": [
  {
   "cell_type": "markdown",
   "id": "125619f3-4b18-4737-8960-72eea3c1d230",
   "metadata": {},
   "source": [
    "### 1. Print following pattern"
   ]
  },
  {
   "cell_type": "code",
   "execution_count": 4,
   "id": "14761e14-1416-43a0-843e-423f14913d5e",
   "metadata": {},
   "outputs": [
    {
     "name": "stdout",
     "output_type": "stream",
     "text": [
      "& \n",
      "# # \n",
      "& & & \n",
      "# # # # \n",
      "& & & & & \n"
     ]
    }
   ],
   "source": [
    "n=5\n",
    "for i in range(1,n+1):\n",
    "    for j in range(1,i+1):\n",
    "        if i%2==0:\n",
    "            print('#',end=' ')\n",
    "        else:\n",
    "            print('&',end=' ')\n",
    "    print()        "
   ]
  },
  {
   "cell_type": "markdown",
   "id": "7e7894ac-ed99-417e-8c6c-b08f4f3de2b3",
   "metadata": {},
   "source": [
    "### 2. Print following pattern\n"
   ]
  },
  {
   "cell_type": "code",
   "execution_count": 7,
   "id": "317bdd23-6989-4823-999a-357c4a919a43",
   "metadata": {},
   "outputs": [
    {
     "name": "stdout",
     "output_type": "stream",
     "text": [
      "& \n",
      "& # \n",
      "& # & \n",
      "& # & # \n",
      "& # & # & \n"
     ]
    }
   ],
   "source": [
    "n=5\n",
    "for i in range(1,n+1):\n",
    "    for j in range(1,i+1):\n",
    "        if j%2==0:\n",
    "            print('#',end=' ')\n",
    "        else:\n",
    "            print('&',end=' ')\n",
    "    print()        "
   ]
  },
  {
   "cell_type": "code",
   "execution_count": null,
   "id": "9cb5ff81-0318-4081-89eb-a0d368d17d4f",
   "metadata": {},
   "outputs": [],
   "source": []
  }
 ],
 "metadata": {
  "kernelspec": {
   "display_name": "Python 3 (ipykernel)",
   "language": "python",
   "name": "python3"
  },
  "language_info": {
   "codemirror_mode": {
    "name": "ipython",
    "version": 3
   },
   "file_extension": ".py",
   "mimetype": "text/x-python",
   "name": "python",
   "nbconvert_exporter": "python",
   "pygments_lexer": "ipython3",
   "version": "3.12.4"
  }
 },
 "nbformat": 4,
 "nbformat_minor": 5
}
