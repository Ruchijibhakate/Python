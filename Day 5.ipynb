{
 "cells": [
  {
   "cell_type": "markdown",
   "id": "b82da8e4-4cbf-4bd6-8347-3c4b05b8fb73",
   "metadata": {},
   "source": [
    "### 1.WAP to check whether an year is leap year or not"
   ]
  },
  {
   "cell_type": "code",
   "execution_count": 11,
   "id": "0606df2f-eaa5-4c2d-b8c7-755416d61fe3",
   "metadata": {},
   "outputs": [
    {
     "name": "stdin",
     "output_type": "stream",
     "text": [
      "Enter a year 2370\n"
     ]
    },
    {
     "name": "stdout",
     "output_type": "stream",
     "text": [
      "2370 is not a leap year\n"
     ]
    }
   ],
   "source": [
    "year=int(input(\"Enter a year\"))\n",
    "if(year%100==0 and year%400==0):\n",
    "    print(year,\"is a leap year\")\n",
    "elif(year%4==0 and year%100!=0):\n",
    "    print(year,\"is a leap year\")\n",
    "else:\n",
    "    print(year,\"is not a leap year\")"
   ]
  },
  {
   "cell_type": "markdown",
   "id": "5bd2569c-0bc8-4407-8a44-cdf1462c641e",
   "metadata": {},
   "source": [
    "### 2.WAP to accept a number from 1 to 12 and display name of month like 1 for January and number of days 31 and so on"
   ]
  },
  {
   "cell_type": "code",
   "execution_count": 15,
   "id": "a598a348-3caf-470f-9db1-648ec9e7dec3",
   "metadata": {},
   "outputs": [
    {
     "name": "stdin",
     "output_type": "stream",
     "text": [
      "Enter a number of month 11\n"
     ]
    },
    {
     "name": "stdout",
     "output_type": "stream",
     "text": [
      "Nov\n",
      "Number of Days 30\n"
     ]
    }
   ],
   "source": [
    "month=int(input(\"Enter a number of month\"))\n",
    "if(month==1):\n",
    "    print(\"January\")\n",
    "    print(\"Number of Days 31\")\n",
    "elif(month==2):\n",
    "    print(\"Feb\")\n",
    "    print(\"Number of Days 28\")\n",
    "elif(month==3):\n",
    "    print(\"Mar\")\n",
    "    print(\"Number of Days 31\")\n",
    "elif(month==4):\n",
    "    print(\"April\")\n",
    "    print(\"Number of Days 30\")\n",
    "elif(month==5):\n",
    "    print(\"May\")\n",
    "    print(\"Number of Days 31\")\n",
    "elif(month==6):\n",
    "    print(\"June\")\n",
    "    print(\"Number of Days 30\")\n",
    "elif(month==7):\n",
    "    print(\"July\")\n",
    "    print(\"Number of Days 31\")\n",
    "elif(month==8):\n",
    "    print(\"Aug\")\n",
    "    print(\"Number of Days 31\")\n",
    "elif(month==9):\n",
    "    print(\"Sep\")\n",
    "    print(\"Number of Days 30\")\n",
    "elif(month==10):\n",
    "    print(\"Oct\")\n",
    "    print(\"Number of Days 31\")\n",
    "elif(month==11):\n",
    "    print(\"Nov\")\n",
    "    print(\"Number of Days 30\") \n",
    "elif(month==12):\n",
    "    print(\"Dec\")\n",
    "    print(\"Number of Days 31\")\n",
    "else:\n",
    "    print(\"Enter a number between 1 t0 12\")"
   ]
  },
  {
   "cell_type": "markdown",
   "id": "e9fd39cd-65e3-4c4f-b0b5-979fb0e39af7",
   "metadata": {},
   "source": [
    "### 3.WAP to accept any city from the user and display munument of that city"
   ]
  },
  {
   "cell_type": "code",
   "execution_count": 17,
   "id": "62506fbd-1976-427d-83e1-a07457c46754",
   "metadata": {},
   "outputs": [
    {
     "name": "stdin",
     "output_type": "stream",
     "text": [
      "Enter a name of city Jaipur\n"
     ]
    },
    {
     "name": "stdout",
     "output_type": "stream",
     "text": [
      "Monument of that city is JAL MAHAL\n"
     ]
    }
   ],
   "source": [
    "city=input(\"Enter a name of city\")\n",
    "if(city==\"Delhi\"):\n",
    "    print(\"Monument of that city is RED FORT\")\n",
    "elif(city==\"Agra\"):\n",
    "    print(\"Monument of that city is TAJ MAHAL\")\n",
    "elif(city==\"Jaipur\"):\n",
    "    print(\"Monument of that city is JAL MAHAL\")\n",
    "else:\n",
    "    print(\"Enter a correct name of city\")\n",
    "    "
   ]
  },
  {
   "cell_type": "markdown",
   "id": "551b5762-08ff-41d6-a7cf-a33e1e5c8995",
   "metadata": {},
   "source": [
    "### 4.WAP to whether a number entered is three digit or not"
   ]
  },
  {
   "cell_type": "code",
   "execution_count": 9,
   "id": "cf716a03-d13e-4a94-8189-c5e6d58015f7",
   "metadata": {},
   "outputs": [
    {
     "name": "stdin",
     "output_type": "stream",
     "text": [
      "Enter a number 523\n"
     ]
    },
    {
     "name": "stdout",
     "output_type": "stream",
     "text": [
      "Entered number is three digit number\n"
     ]
    }
   ],
   "source": [
    "num=input(\"Enter a number\")\n",
    "length=len(num)\n",
    "if (length==3):\n",
    "    print(\"Entered number is three digit number\")\n",
    "else:\n",
    "    print(\"Entered number is not three digit number\")"
   ]
  },
  {
   "cell_type": "markdown",
   "id": "fa2e6897-4951-4532-8ca5-a405073d18c7",
   "metadata": {},
   "source": [
    "### 5.WAP to check whether person is senior citizen or not"
   ]
  },
  {
   "cell_type": "code",
   "execution_count": 13,
   "id": "5fa1722a-185e-4eb8-a676-8bd0e01134fb",
   "metadata": {},
   "outputs": [
    {
     "name": "stdin",
     "output_type": "stream",
     "text": [
      "Enter the age of person 67\n"
     ]
    },
    {
     "name": "stdout",
     "output_type": "stream",
     "text": [
      "Person is senior citizen\n"
     ]
    }
   ],
   "source": [
    "age=int(input(\"Enter the age of person\"))\n",
    "if(age>60):\n",
    "    print(\"Person is senior citizen\")\n",
    "else:\n",
    "    print(\"Person is not senior citizen\")\n"
   ]
  },
  {
   "cell_type": "markdown",
   "id": "3cc76ab3-9501-4ed6-b5fd-62270800a52f",
   "metadata": {},
   "source": [
    "### 6.WAP to check whther a number is divisible by 2 and 3 both "
   ]
  },
  {
   "cell_type": "code",
   "execution_count": 21,
   "id": "820bec82-9210-4117-b6b6-0ef855d23f6c",
   "metadata": {},
   "outputs": [
    {
     "name": "stdin",
     "output_type": "stream",
     "text": [
      "Enter a number 56\n"
     ]
    },
    {
     "name": "stdout",
     "output_type": "stream",
     "text": [
      "Number is not divisible by either 2 or 3\n"
     ]
    }
   ],
   "source": [
    "num=int(input(\"Enter a number\"))\n",
    "if(num%2==0 and num%3==0):\n",
    "    print(\"Number is divisible by 2 and 3 both\")\n",
    "else:\n",
    "    print(\"Number is not divisible by either 2 or 3\")"
   ]
  },
  {
   "cell_type": "markdown",
   "id": "c7dc808b-e5f2-47da-a4f5-a74190ee8fb8",
   "metadata": {},
   "source": [
    "### 7.WAP tofind largest number out of three numbers"
   ]
  },
  {
   "cell_type": "code",
   "execution_count": 27,
   "id": "fa2c72bf-8f10-48ee-ab35-7dec30bff1ae",
   "metadata": {},
   "outputs": [
    {
     "name": "stdin",
     "output_type": "stream",
     "text": [
      "Enter 1st number 839\n",
      "Enter 2nd number 24316\n",
      "Enter 3rd number 238\n"
     ]
    },
    {
     "name": "stdout",
     "output_type": "stream",
     "text": [
      "24316 is the greatest number\n"
     ]
    }
   ],
   "source": [
    "a=int(input(\"Enter 1st number\"))\n",
    "b=int(input(\"Enter 2nd number\"))\n",
    "c=int(input(\"Enter 3rd number\"))\n",
    "\n",
    "if(a>b and a>c):\n",
    "    print(a,\"is the greatest number\")\n",
    "elif(b>c):\n",
    "    print(b,\"is the greatest number\")\n",
    "else:\n",
    "    print(c,\"is the greatest number\")        \n",
    "            "
   ]
  },
  {
   "cell_type": "markdown",
   "id": "2ebe1345-f015-4627-bb03-84020b18e378",
   "metadata": {},
   "source": [
    "### 8.Accept the temperature in degree celsius of water and check whether it is boiling or not "
   ]
  },
  {
   "cell_type": "code",
   "execution_count": 33,
   "id": "2948a0f4-3247-44ec-bb92-e1b019d38dbe",
   "metadata": {},
   "outputs": [
    {
     "name": "stdin",
     "output_type": "stream",
     "text": [
      "Enter boiling point of water in degree celcius 130\n"
     ]
    },
    {
     "name": "stdout",
     "output_type": "stream",
     "text": [
      "Water is boiling\n"
     ]
    }
   ],
   "source": [
    "temp=int(input(\"Enter boiling point of water in degree celcius\"))\n",
    "if(temp>=100):\n",
    "    print(\"Water is boiling\")\n",
    "else:\n",
    "    print(\"Water is not boiling\")"
   ]
  },
  {
   "cell_type": "markdown",
   "id": "e4354901-4304-477b-937b-3b0c6ca34b79",
   "metadata": {},
   "source": [
    "### 9.WAP to check whether a character is vowel or not"
   ]
  },
  {
   "cell_type": "code",
   "execution_count": 9,
   "id": "5026d782-ef88-4163-8414-c75410c83d6b",
   "metadata": {},
   "outputs": [
    {
     "name": "stdin",
     "output_type": "stream",
     "text": [
      "Enter a character t\n"
     ]
    },
    {
     "name": "stdout",
     "output_type": "stream",
     "text": [
      "t is not a VOWEL\n"
     ]
    }
   ],
   "source": [
    "ch=input(\"Enter a character\")\n",
    "vow=\"AEIOUaeiou\"\n",
    "if ch in vow:\n",
    "    print(ch,\"is a VOWEL\")\n",
    "else:\n",
    "    print(ch,\"is not a VOWEL\")"
   ]
  },
  {
   "cell_type": "markdown",
   "id": "2b56c4de-7990-4d3d-8759-a502149e6c93",
   "metadata": {},
   "source": [
    "### 10.WAP to check whether a number is positive or negative"
   ]
  },
  {
   "cell_type": "code",
   "execution_count": 11,
   "id": "7da49a56-7f81-46b9-a03b-0f3ebc70ccfe",
   "metadata": {},
   "outputs": [
    {
     "name": "stdin",
     "output_type": "stream",
     "text": [
      "Enter a number -129\n"
     ]
    },
    {
     "name": "stdout",
     "output_type": "stream",
     "text": [
      "Number is negative\n"
     ]
    }
   ],
   "source": [
    "num=int(input(\"Enter a number\"))\n",
    "if(num>0):\n",
    "    print(\"Number is positive\")\n",
    "else:\n",
    "    print(\"Number is negative\")"
   ]
  },
  {
   "cell_type": "code",
   "execution_count": null,
   "id": "a8ee5b39-fe13-4a01-b0d9-b171f6f3e68b",
   "metadata": {},
   "outputs": [],
   "source": []
  }
 ],
 "metadata": {
  "kernelspec": {
   "display_name": "Python 3 (ipykernel)",
   "language": "python",
   "name": "python3"
  },
  "language_info": {
   "codemirror_mode": {
    "name": "ipython",
    "version": 3
   },
   "file_extension": ".py",
   "mimetype": "text/x-python",
   "name": "python",
   "nbconvert_exporter": "python",
   "pygments_lexer": "ipython3",
   "version": "3.12.4"
  }
 },
 "nbformat": 4,
 "nbformat_minor": 5
}
