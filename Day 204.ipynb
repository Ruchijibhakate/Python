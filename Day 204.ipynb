{
 "cells": [
  {
   "cell_type": "markdown",
   "id": "44a66af8-9927-4777-a9b4-3c1823a33a95",
   "metadata": {},
   "source": [
    "### Count the number of occurrences of a specific value in a list."
   ]
  },
  {
   "cell_type": "code",
   "execution_count": 4,
   "id": "cc7121aa-a823-4d9c-916d-de2b268d42a3",
   "metadata": {},
   "outputs": [
    {
     "name": "stdout",
     "output_type": "stream",
     "text": [
      "2\n"
     ]
    }
   ],
   "source": [
    "list=[5,18,3,1,3,5,48,21,3,1]\n",
    "print(list.count(5))"
   ]
  },
  {
   "cell_type": "markdown",
   "id": "499c4f37-b70b-4cbe-8573-3e7e0249073e",
   "metadata": {},
   "source": [
    "### Replace all values in a list with the mean of the list."
   ]
  },
  {
   "cell_type": "code",
   "execution_count": 19,
   "id": "783fdc41-00f8-4e93-868d-fdd87a1c685e",
   "metadata": {},
   "outputs": [
    {
     "name": "stdout",
     "output_type": "stream",
     "text": [
      "[10.8, 10.8, 10.8, 10.8, 10.8, 10.8, 10.8, 10.8, 10.8, 10.8]\n"
     ]
    }
   ],
   "source": [
    "import numpy as np\n",
    "list=[5,18,3,1,3,5,48,21,3,1]\n",
    "mean=np.mean([x for x in list])\n",
    "new_list=[mean if x else 0 for x in list]\n",
    "print(new_list)"
   ]
  },
  {
   "cell_type": "code",
   "execution_count": null,
   "id": "ba6473b3-c80f-4105-b77b-1ba64ea7f631",
   "metadata": {},
   "outputs": [],
   "source": []
  }
 ],
 "metadata": {
  "kernelspec": {
   "display_name": "Python 3 (ipykernel)",
   "language": "python",
   "name": "python3"
  },
  "language_info": {
   "codemirror_mode": {
    "name": "ipython",
    "version": 3
   },
   "file_extension": ".py",
   "mimetype": "text/x-python",
   "name": "python",
   "nbconvert_exporter": "python",
   "pygments_lexer": "ipython3",
   "version": "3.12.4"
  }
 },
 "nbformat": 4,
 "nbformat_minor": 5
}
