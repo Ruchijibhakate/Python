{
 "cells": [
  {
   "cell_type": "markdown",
   "id": "530716c6-7b98-4517-bcf6-17cad60ccbf9",
   "metadata": {},
   "source": [
    "### 1. Create a list by picking an odd-index items from the first list and even index items from the second"
   ]
  },
  {
   "cell_type": "code",
   "execution_count": 3,
   "id": "a42330c5-83eb-4541-bf93-79681a17d24d",
   "metadata": {},
   "outputs": [
    {
     "name": "stdout",
     "output_type": "stream",
     "text": [
      "[6, 12, 18]\n",
      "[4, 12, 20, 28]\n",
      "[6, 12, 18, 4, 12, 20, 28]\n"
     ]
    }
   ],
   "source": [
    "l1=[3,6,9,12,15,18,21]\n",
    "l2=[4,8,12,16,20,24,28]\n",
    "\n",
    "l11=l1[1:7:2]         # odd index items from the 1st list\n",
    "print(l11) \n",
    "l22=l2[0:7:2]         # even index items from the 2nd list\n",
    "print(l22)\n",
    "\n",
    "list=l11+l22          # final list\n",
    "print(list)"
   ]
  },
  {
   "cell_type": "markdown",
   "id": "767ec9dc-954d-4920-9fe7-c43fc3555a3d",
   "metadata": {},
   "source": [
    "### 2. WAP to remove the item present at the index 4 and add it to 2nd position and at the end of the list"
   ]
  },
  {
   "cell_type": "code",
   "execution_count": 19,
   "id": "449928af-5b81-4754-8468-d8cd08c6dd79",
   "metadata": {},
   "outputs": [
    {
     "name": "stdout",
     "output_type": "stream",
     "text": [
      "[54, 44, 27, 79, 41]\n",
      "[54, 44, 91, 27, 79, 41]\n",
      "[54, 44, 91, 27, 79, 41, 91]\n"
     ]
    }
   ],
   "source": [
    "list=[54, 44, 27, 79, 91, 41]\n",
    "\n",
    "list.pop(4)                # remove the item present at index 4\n",
    "print(list)\n",
    "list.insert(2,91)          # add the this item to 2nd position  \n",
    "print(list)\n",
    "list.append(91)           # and also added at the end of the list\n",
    "print(list)"
   ]
  },
  {
   "cell_type": "markdown",
   "id": "cae179b7-e858-4bd8-958d-569c188dcc67",
   "metadata": {},
   "source": [
    "### 3. WAP to print sum of elements in list"
   ]
  },
  {
   "cell_type": "code",
   "execution_count": 7,
   "id": "a07a3713-61d7-4661-a45d-df3882a09a2f",
   "metadata": {},
   "outputs": [
    {
     "name": "stdout",
     "output_type": "stream",
     "text": [
      "10\n"
     ]
    }
   ],
   "source": [
    "list=[1,2,3,4]\n",
    "sum=0\n",
    "for i in list:\n",
    "    sum=sum+i\n",
    "print(sum)    "
   ]
  },
  {
   "cell_type": "markdown",
   "id": "dbec65a3-27c8-4c49-ab14-007c392e1902",
   "metadata": {},
   "source": [
    "### 4. WAP to find largest and smallest elements of the list , elements in the list provided by user "
   ]
  },
  {
   "cell_type": "code",
   "execution_count": 9,
   "id": "52f58834-4eeb-4699-aea4-52fd1cf06ed0",
   "metadata": {},
   "outputs": [
    {
     "name": "stdin",
     "output_type": "stream",
     "text": [
      "how many elements you want add in list 10\n",
      "Enter a number : 3\n",
      "Enter a number : 6\n",
      "Enter a number : 2\n",
      "Enter a number : 19\n",
      "Enter a number : 56\n",
      "Enter a number : 39\n",
      "Enter a number : -2\n",
      "Enter a number : 54\n",
      "Enter a number : -6\n",
      "Enter a number : 0\n"
     ]
    },
    {
     "name": "stdout",
     "output_type": "stream",
     "text": [
      "[3, 6, 2, 19, 56, 39, -2, 54, -6, 0]\n",
      "56\n",
      "-6\n"
     ]
    }
   ],
   "source": [
    "list=[]\n",
    "num=int(input(\"how many elements you want add in list\"))\n",
    "for i in range(num):\n",
    "    a=int(input(\"Enter a number :\"))\n",
    "    list.append(a)\n",
    "print(list) \n",
    "print(max(list))\n",
    "print(min(list))"
   ]
  },
  {
   "cell_type": "markdown",
   "id": "81e9cf48-c404-4aec-8040-9a78cfc20614",
   "metadata": {},
   "source": [
    "### 5. WAP to split the list in half and store the elements in two different lists"
   ]
  },
  {
   "cell_type": "code",
   "execution_count": 38,
   "id": "326f3757-aa9f-44c4-b098-861091cf174e",
   "metadata": {},
   "outputs": [
    {
     "name": "stdout",
     "output_type": "stream",
     "text": [
      "first half of the list : [12, 4, 8]\n",
      "Second half of the list is : [2, 5, 0]\n"
     ]
    }
   ],
   "source": [
    "list=[12,4,8,2,5,0]\n",
    "list1=[]\n",
    "list2=[]\n",
    "\n",
    "l1=list[0:3]     # first half of the list\n",
    "l2=list[3:6]     # second half of the list\n",
    "list1.extend(l1)\n",
    "print(\"first half of the list :\",list1)\n",
    "list2.extend(l2)\n",
    "print(\"Second half of the list is :\",list2)"
   ]
  },
  {
   "cell_type": "markdown",
   "id": "82d8d4e7-4c26-41fd-8e4d-0524ac5fba2d",
   "metadata": {},
   "source": [
    "### 6. WAP to remove the multiple empty string from the list of the string"
   ]
  },
  {
   "cell_type": "code",
   "execution_count": 48,
   "id": "3e432042-a1d5-419b-aaeb-2e52f9364e3a",
   "metadata": {},
   "outputs": [
    {
     "name": "stdout",
     "output_type": "stream",
     "text": [
      "['hi', 'hello', 'bye']\n"
     ]
    }
   ],
   "source": [
    "list=['hi','','hello','','bye']\n",
    "while('' in list):\n",
    "      list.remove('')\n",
    "print(list)"
   ]
  },
  {
   "cell_type": "markdown",
   "id": "2740a2b4-2307-4a40-b7c7-41f3c807b27a",
   "metadata": {},
   "source": [
    "### 7. WAP to interchange the first and last element in list"
   ]
  },
  {
   "cell_type": "code",
   "execution_count": 51,
   "id": "bb33af4c-735c-4941-b3c6-ccc3f775c1b3",
   "metadata": {},
   "outputs": [
    {
     "name": "stdout",
     "output_type": "stream",
     "text": [
      "[8, 2, 3, 4, 5, 6, 1]\n"
     ]
    }
   ],
   "source": [
    "list=[1,2,3,4,5,6,8]\n",
    "list[0],list[-1]=list[-1],list[0]\n",
    "print(list)"
   ]
  },
  {
   "cell_type": "markdown",
   "id": "8a469dad-9e9f-4cc3-ad3e-93900cc0e766",
   "metadata": {},
   "source": [
    "### 8. WAP to print pattern of alphabets"
   ]
  },
  {
   "cell_type": "code",
   "execution_count": 70,
   "id": "81bde9e1-3e47-40be-b75b-9a45b98a0b1f",
   "metadata": {},
   "outputs": [
    {
     "name": "stdin",
     "output_type": "stream",
     "text": [
      "Enter a number : 5\n"
     ]
    },
    {
     "name": "stdout",
     "output_type": "stream",
     "text": [
      "A \n",
      "A A \n",
      "A A A \n",
      "A A A A \n",
      "A A A A A \n"
     ]
    }
   ],
   "source": [
    "n=int(input(\"Enter a number :\"))\n",
    "k=ord(\"A\")\n",
    "for i in range(1,n+1):\n",
    "    for j in range(1,i+1):\n",
    "        print(chr(k),end=\" \")\n",
    "    print()    "
   ]
  },
  {
   "cell_type": "markdown",
   "id": "fae9fcb9-c19d-48a7-9d10-777ef42ec5f3",
   "metadata": {},
   "source": [
    "### 9. WAP to print alphabet pattern"
   ]
  },
  {
   "cell_type": "code",
   "execution_count": 77,
   "id": "91832b86-baed-4d12-8697-57328724edb5",
   "metadata": {},
   "outputs": [
    {
     "name": "stdin",
     "output_type": "stream",
     "text": [
      "Enter a number : 5\n"
     ]
    },
    {
     "name": "stdout",
     "output_type": "stream",
     "text": [
      "A \n",
      "B C \n",
      "D E F \n",
      "G H I J \n",
      "K L M N O \n"
     ]
    }
   ],
   "source": [
    "n=int(input(\"Enter a number :\"))\n",
    "k=ord(\"A\")\n",
    "for i in range(1,n+1):\n",
    "    for j in range(1,i+1):\n",
    "        print(chr(k),end=' ')\n",
    "        k=k+1\n",
    "    print()    "
   ]
  },
  {
   "cell_type": "markdown",
   "id": "15e1b027-5838-43a6-bba8-6dd5970bc715",
   "metadata": {},
   "source": [
    "### 10. WAP to print alphabet pattern"
   ]
  },
  {
   "cell_type": "code",
   "execution_count": 5,
   "id": "7ce8a31a-5814-4819-8e78-2d1123f3c30e",
   "metadata": {},
   "outputs": [
    {
     "name": "stdin",
     "output_type": "stream",
     "text": [
      "Enter a number : 5\n"
     ]
    },
    {
     "name": "stdout",
     "output_type": "stream",
     "text": [
      "A \n",
      "B C \n",
      "C D E \n",
      "D E F G \n",
      "E F G H I \n"
     ]
    }
   ],
   "source": [
    "n=int(input(\"Enter a number :\"))\n",
    "\n",
    "for i in range(n):\n",
    "    k=ord(\"A\")+i\n",
    "    for j in range(i+1):\n",
    "        print(chr(k),end=\" \")\n",
    "        k=k+1\n",
    "    print()    "
   ]
  },
  {
   "cell_type": "code",
   "execution_count": null,
   "id": "b6779dac-6812-4be0-a344-9e7412c170d8",
   "metadata": {},
   "outputs": [],
   "source": []
  }
 ],
 "metadata": {
  "kernelspec": {
   "display_name": "Python 3 (ipykernel)",
   "language": "python",
   "name": "python3"
  },
  "language_info": {
   "codemirror_mode": {
    "name": "ipython",
    "version": 3
   },
   "file_extension": ".py",
   "mimetype": "text/x-python",
   "name": "python",
   "nbconvert_exporter": "python",
   "pygments_lexer": "ipython3",
   "version": "3.12.4"
  }
 },
 "nbformat": 4,
 "nbformat_minor": 5
}
