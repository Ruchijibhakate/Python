{
 "cells": [
  {
   "cell_type": "markdown",
   "id": "c8b2d422-7646-4d41-b164-9338624b1758",
   "metadata": {},
   "source": [
    "### Write a Python program to test whether a passed letter is a vowel or not."
   ]
  },
  {
   "cell_type": "code",
   "execution_count": 2,
   "id": "a0a8e027-6ccf-4756-964d-c4fcfac0ead3",
   "metadata": {},
   "outputs": [
    {
     "name": "stdout",
     "output_type": "stream",
     "text": [
      "False\n",
      "True\n"
     ]
    }
   ],
   "source": [
    "def is_vowel(char):\n",
    "    vowels='aeiou'\n",
    "    return char in vowels\n",
    "\n",
    "print(is_vowel('p'))\n",
    "print(is_vowel('i'))"
   ]
  },
  {
   "cell_type": "code",
   "execution_count": null,
   "id": "a6534716-70ea-44aa-a357-e8b868e377f1",
   "metadata": {},
   "outputs": [],
   "source": []
  }
 ],
 "metadata": {
  "kernelspec": {
   "display_name": "Python 3 (ipykernel)",
   "language": "python",
   "name": "python3"
  },
  "language_info": {
   "codemirror_mode": {
    "name": "ipython",
    "version": 3
   },
   "file_extension": ".py",
   "mimetype": "text/x-python",
   "name": "python",
   "nbconvert_exporter": "python",
   "pygments_lexer": "ipython3",
   "version": "3.12.4"
  }
 },
 "nbformat": 4,
 "nbformat_minor": 5
}
