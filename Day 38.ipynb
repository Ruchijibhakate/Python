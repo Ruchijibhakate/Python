{
 "cells": [
  {
   "cell_type": "markdown",
   "id": "f873cc9b-74da-4cfc-b328-f6888ee72880",
   "metadata": {},
   "source": [
    "### 1. Calculate the income tax for the given income by adhering to rules below"
   ]
  },
  {
   "cell_type": "code",
   "execution_count": 4,
   "id": "2614c94b-101c-48fd-a0ba-f347ab384d1e",
   "metadata": {},
   "outputs": [
    {
     "name": "stdout",
     "output_type": "stream",
     "text": [
      "Given income 45000\n",
      "Total tax to pay is 5000.0\n"
     ]
    }
   ],
   "source": [
    "income=45000\n",
    "tax_payable=0\n",
    "print(\"Given income\",income)\n",
    "\n",
    "if income<=10000:\n",
    "    tax_payable=0            # no tax on first 10000\n",
    "elif income<=20000:\n",
    "    x=income-10000\n",
    "    tax_payable=x*(10/100)   # 10% tax on next 10000\n",
    "else:\n",
    "    tax_payable=(income-20000)*(20/100)    # remaining 20% tax\n",
    "\n",
    "print(\"Total tax to pay is\",tax_payable)"
   ]
  },
  {
   "cell_type": "markdown",
   "id": "6a9734d4-f61d-4d42-9f2b-45901f521866",
   "metadata": {},
   "source": [
    "# 2. WAP to to check whether given strings are palindrome or not"
   ]
  },
  {
   "cell_type": "code",
   "execution_count": 2,
   "id": "dc385f6b-d3e1-4be2-84e9-bf9dcef121a2",
   "metadata": {},
   "outputs": [
    {
     "name": "stdout",
     "output_type": "stream",
     "text": [
      "Original strings:\n",
      "['Palindrome', 'madamimadam', '', 'foo', 'eyes']\n",
      "[False, True, True, False, False]\n"
     ]
    }
   ],
   "source": [
    "def test(str):\n",
    "    return [s==s[::-1] for s in str]\n",
    "\n",
    "str=['Palindrome','madamimadam','','foo','eyes']\n",
    "print(\"Original strings:\")\n",
    "print(str)\n",
    "print(test(str))"
   ]
  },
  {
   "cell_type": "markdown",
   "id": "e69a6bbc-172d-4e1b-8a6c-bc57488e0b01",
   "metadata": {},
   "source": [
    "### 3.. WAP to find the indexes of numbers in given list below a given threshold"
   ]
  },
  {
   "cell_type": "code",
   "execution_count": 5,
   "id": "a8a25fcf-907b-4b8a-bb9d-534bfd5e996a",
   "metadata": {},
   "outputs": [
    {
     "name": "stdout",
     "output_type": "stream",
     "text": [
      "Original list [0, 12, 45, 3, 4589, 322, 105, 29, 15, 39, 55]\n",
      "[0, 1, 2, 3, 7, 8, 9, 10]\n"
     ]
    }
   ],
   "source": [
    "def test(num,thresh):\n",
    "    return [i for i,n in enumerate(num) if n<thresh]\n",
    "        \n",
    "num=[0,12,45,3,4589,322,105,29,15,39,55]\n",
    "thresh=100\n",
    "print('Original list',num)\n",
    "print(test(num,100))"
   ]
  },
  {
   "cell_type": "markdown",
   "id": "56776a33-a053-4b7d-a581-8bed07e818f5",
   "metadata": {},
   "source": [
    "### 4. WAP to split a string of words seperated by commas and spaces into two lists, words and seperator\n"
   ]
  },
  {
   "cell_type": "code",
   "execution_count": 7,
   "id": "73d4e393-9dee-497a-9517-81966e126db3",
   "metadata": {},
   "outputs": [
    {
     "name": "stdout",
     "output_type": "stream",
     "text": [
      "[['W3resource', 'Python', 'Exercises.'], [' ', ', ']]\n"
     ]
    }
   ],
   "source": [
    "def test(string):\n",
    "    import re\n",
    "    merged=re.split(r\"([ ,]+)\",string)\n",
    "    return [merged[::2], merged[1::2]]\n",
    "\n",
    "s='W3resource Python, Exercises.'\n",
    "print(test(s))"
   ]
  },
  {
   "cell_type": "markdown",
   "id": "73441fcf-63fe-4f7a-ad42-26e293a4dcd8",
   "metadata": {},
   "source": [
    "### 5. WAP to check whether an integer greater that 4^4 which is 4 mod 34"
   ]
  },
  {
   "cell_type": "code",
   "execution_count": 12,
   "id": "d1cc3a0b-ee02-4c1d-ada9-96398ed9643d",
   "metadata": {},
   "outputs": [
    {
     "data": {
      "text/plain": [
       "True"
      ]
     },
     "execution_count": 12,
     "metadata": {},
     "output_type": "execute_result"
    }
   ],
   "source": [
    "def test(n):\n",
    "    return n>4**4 and n%34==4\n",
    "\n",
    "test(922)"
   ]
  },
  {
   "cell_type": "code",
   "execution_count": 14,
   "id": "54e3e562-e4b6-485d-bd38-7ba532cee5b3",
   "metadata": {},
   "outputs": [
    {
     "data": {
      "text/plain": [
       "False"
      ]
     },
     "execution_count": 14,
     "metadata": {},
     "output_type": "execute_result"
    }
   ],
   "source": [
    "test(914)"
   ]
  },
  {
   "cell_type": "code",
   "execution_count": null,
   "id": "1721292f-6e33-43be-8ac0-77bb554895d7",
   "metadata": {},
   "outputs": [],
   "source": []
  }
 ],
 "metadata": {
  "kernelspec": {
   "display_name": "Python 3 (ipykernel)",
   "language": "python",
   "name": "python3"
  },
  "language_info": {
   "codemirror_mode": {
    "name": "ipython",
    "version": 3
   },
   "file_extension": ".py",
   "mimetype": "text/x-python",
   "name": "python",
   "nbconvert_exporter": "python",
   "pygments_lexer": "ipython3",
   "version": "3.12.4"
  }
 },
 "nbformat": 4,
 "nbformat_minor": 5
}
