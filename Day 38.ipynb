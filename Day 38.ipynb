{
 "cells": [
  {
   "cell_type": "markdown",
   "id": "f873cc9b-74da-4cfc-b328-f6888ee72880",
   "metadata": {},
   "source": [
    "### 1. Calculate the income tax for the given income by adhering to rules below"
   ]
  },
  {
   "cell_type": "code",
   "execution_count": 4,
   "id": "2614c94b-101c-48fd-a0ba-f347ab384d1e",
   "metadata": {},
   "outputs": [
    {
     "name": "stdout",
     "output_type": "stream",
     "text": [
      "Given income 45000\n",
      "Total tax to pay is 5000.0\n"
     ]
    }
   ],
   "source": [
    "income=45000\n",
    "tax_payable=0\n",
    "print(\"Given income\",income)\n",
    "\n",
    "if income<=10000:\n",
    "    tax_payable=0            # no tax on first 10000\n",
    "elif income<=20000:\n",
    "    x=income-10000\n",
    "    tax_payable=x*(10/100)   # 10% tax on next 10000\n",
    "else:\n",
    "    tax_payable=(income-20000)*(20/100)    # remaining 20% tax\n",
    "\n",
    "print(\"Total tax to pay is\",tax_payable)"
   ]
  },
  {
   "cell_type": "code",
   "execution_count": null,
   "id": "96150cbe-e817-4278-b85f-73fd52a9d123",
   "metadata": {},
   "outputs": [],
   "source": []
  }
 ],
 "metadata": {
  "kernelspec": {
   "display_name": "Python 3 (ipykernel)",
   "language": "python",
   "name": "python3"
  },
  "language_info": {
   "codemirror_mode": {
    "name": "ipython",
    "version": 3
   },
   "file_extension": ".py",
   "mimetype": "text/x-python",
   "name": "python",
   "nbconvert_exporter": "python",
   "pygments_lexer": "ipython3",
   "version": "3.12.4"
  }
 },
 "nbformat": 4,
 "nbformat_minor": 5
}
