{
 "cells": [
  {
   "cell_type": "markdown",
   "id": "dde7953d-1714-4fdd-86b9-ff8c1bf28dd0",
   "metadata": {},
   "source": [
    "### 1. Create the 5*5 list of lists with row values ranging from 0 to 4."
   ]
  },
  {
   "cell_type": "code",
   "execution_count": 8,
   "id": "7baccfb5-f2b0-4e3a-b1a5-669b405f17ff",
   "metadata": {},
   "outputs": [
    {
     "name": "stdout",
     "output_type": "stream",
     "text": [
      "[[0, 1, 2, 3, 4], [0, 1, 2, 3, 4], [0, 1, 2, 3, 4], [0, 1, 2, 3, 4], [0, 1, 2, 3, 4]]\n"
     ]
    }
   ],
   "source": [
    "matrix = [[i for i in range(5)] for i in range(5)]\n",
    "print(matrix)"
   ]
  },
  {
   "cell_type": "markdown",
   "id": "6cdaa13a-e221-4cb5-91e5-a886cb8c9f96",
   "metadata": {},
   "source": [
    "### 2. Find the index of maximum value in list."
   ]
  },
  {
   "cell_type": "code",
   "execution_count": 13,
   "id": "462a1af8-6329-4b62-8299-c35e457d0bea",
   "metadata": {},
   "outputs": [
    {
     "name": "stdout",
     "output_type": "stream",
     "text": [
      "6\n"
     ]
    }
   ],
   "source": [
    "list1=[4,0,28,4,-1,6,30]\n",
    "max_index=list1.index(max(list1))\n",
    "print(max_index)"
   ]
  },
  {
   "cell_type": "markdown",
   "id": "cc89122f-c6c6-4a46-b2cc-f9ba48e11360",
   "metadata": {},
   "source": [
    "### 3. Calculate dot product of two lists."
   ]
  },
  {
   "cell_type": "code",
   "execution_count": 16,
   "id": "ef183fb1-f47e-4c9e-bac8-428787fe95f9",
   "metadata": {},
   "outputs": [
    {
     "name": "stdout",
     "output_type": "stream",
     "text": [
      "32\n"
     ]
    }
   ],
   "source": [
    "list1=[1,2,3]\n",
    "list2=[4,5,6]\n",
    "dot_product=sum(x*y for x,y in zip(list1,list2))\n",
    "print(dot_product)"
   ]
  },
  {
   "cell_type": "markdown",
   "id": "90a5f330-0878-4ec1-8536-aa86587c6302",
   "metadata": {},
   "source": [
    "### 4. Count the number of elements in list within a specific range."
   ]
  },
  {
   "cell_type": "code",
   "execution_count": 19,
   "id": "87a60b2c-7eba-4603-96f3-9ac0a0ff772a",
   "metadata": {},
   "outputs": [
    {
     "name": "stdout",
     "output_type": "stream",
     "text": [
      "3\n"
     ]
    }
   ],
   "source": [
    "list1=[2,9,1,0,4,8,3,12]\n",
    "count_within_range=sum(5 <= x <= 12 for x in list1)\n",
    "print(count_within_range)"
   ]
  },
  {
   "cell_type": "markdown",
   "id": "b96da4e4-3dfe-44f0-9af9-cf8e0201ec77",
   "metadata": {},
   "source": [
    "### 5. Find the mean of each row in a 2D list."
   ]
  },
  {
   "cell_type": "code",
   "execution_count": 24,
   "id": "d73f2180-a3be-4f98-be7c-5fa6c5395b7c",
   "metadata": {},
   "outputs": [
    {
     "name": "stdout",
     "output_type": "stream",
     "text": [
      "[0.4424685297567152, 0.24837838574830184, 0.5423535757853332]\n"
     ]
    }
   ],
   "source": [
    "import random\n",
    "matrix=[[random.random() for _ in range(4)] for _ in range(3)]\n",
    "row_means=[sum(row) / len(row) for row in matrix]\n",
    "print(row_means)"
   ]
  },
  {
   "cell_type": "code",
   "execution_count": null,
   "id": "b1d01631-6483-46cb-8e24-62a93b965423",
   "metadata": {},
   "outputs": [],
   "source": []
  }
 ],
 "metadata": {
  "kernelspec": {
   "display_name": "Python 3 (ipykernel)",
   "language": "python",
   "name": "python3"
  },
  "language_info": {
   "codemirror_mode": {
    "name": "ipython",
    "version": 3
   },
   "file_extension": ".py",
   "mimetype": "text/x-python",
   "name": "python",
   "nbconvert_exporter": "python",
   "pygments_lexer": "ipython3",
   "version": "3.12.4"
  }
 },
 "nbformat": 4,
 "nbformat_minor": 5
}
