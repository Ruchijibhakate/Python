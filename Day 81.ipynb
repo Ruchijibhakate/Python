{
 "cells": [
  {
   "cell_type": "markdown",
   "id": "093244fd-675f-4619-b33f-52b80f871cd0",
   "metadata": {},
   "source": [
    "### 1. WAP that accepts a string and calculate the numbers of digits and letters."
   ]
  },
  {
   "cell_type": "code",
   "execution_count": 6,
   "id": "7e94820a-3f44-42b6-afb6-8588b1ec372e",
   "metadata": {},
   "outputs": [
    {
     "name": "stdin",
     "output_type": "stream",
     "text": [
      "Input a String : we 3 are going in 2 min\n"
     ]
    },
    {
     "name": "stdout",
     "output_type": "stream",
     "text": [
      "Letters : 15\n",
      "Digits : 2\n"
     ]
    }
   ],
   "source": [
    "s=input('Input a String :')\n",
    "d=l=0\n",
    "for i in s:\n",
    "    if i.isdigit():\n",
    "        d=d+1\n",
    "    elif i.isalpha():\n",
    "        l=l+1\n",
    "    else:\n",
    "        pass\n",
    "print('Letters :',l)\n",
    "print('Digits :',d)"
   ]
  },
  {
   "cell_type": "markdown",
   "id": "4e48be21-5dd0-49e4-af95-4aa4cade4ebc",
   "metadata": {},
   "source": [
    "### 2.Write a Python program to check the validity of passwords input by users .\n",
    "### Validation :\n",
    "- At least 1 letter between [a-z] and 1 letter between [A-Z].\n",
    "- At least 1 number between [0-9].\n",
    "- At least 1 character from [$#@].\n",
    "- Minimum length 6 characters.\n",
    "- Maximum length 16 characters."
   ]
  },
  {
   "cell_type": "code",
   "execution_count": 11,
   "id": "154bc54e-cd89-4b91-974c-4999d2d4ed97",
   "metadata": {},
   "outputs": [
    {
     "name": "stderr",
     "output_type": "stream",
     "text": [
      "<>:15: SyntaxWarning: invalid escape sequence '\\s'\n",
      "<>:15: SyntaxWarning: invalid escape sequence '\\s'\n",
      "C:\\Users\\Admin\\AppData\\Local\\Temp\\ipykernel_13260\\1069909466.py:15: SyntaxWarning: invalid escape sequence '\\s'\n",
      "  elif not re.search('\\s',p):\n"
     ]
    },
    {
     "name": "stdin",
     "output_type": "stream",
     "text": [
      "Enter Your Password : Ruchi@123\n"
     ]
    },
    {
     "name": "stdout",
     "output_type": "stream",
     "text": [
      "Not Valid Password\n"
     ]
    }
   ],
   "source": [
    "import re\n",
    "p=input('Enter Your Password :')\n",
    "x=True\n",
    "while x:\n",
    "    if (len(p) < 6 or len(p) > 12) :\n",
    "        break\n",
    "    elif not re.search('[a-z]',p):\n",
    "        break\n",
    "    elif not re.search('[0-9]',p):\n",
    "        break\n",
    "    elif not re.search('[A-Z]',p):  \n",
    "        break\n",
    "    elif not re.search('[$##@]',p):  \n",
    "        break    \n",
    "    elif not re.search('\\s',p):  \n",
    "        break\n",
    "    else :\n",
    "        print('Valid Password')\n",
    "        x=False\n",
    "        break\n",
    "if x:\n",
    "    print('Not Valid Password')"
   ]
  },
  {
   "cell_type": "markdown",
   "id": "f74fd1e6-cc80-4d8c-a71f-70a93388c6ac",
   "metadata": {},
   "source": [
    "### 3. Write a Python program to find numbers between 100 and 400 (both included) where each digit of a number is an even number. The numbers obtained should be printed in a comma-separated sequence"
   ]
  },
  {
   "cell_type": "code",
   "execution_count": 18,
   "id": "942fd5e4-15e6-4afb-8817-4f4b9a43ccec",
   "metadata": {},
   "outputs": [
    {
     "ename": "TypeError",
     "evalue": "'int' object is not subscriptable",
     "output_type": "error",
     "traceback": [
      "\u001b[1;31m---------------------------------------------------------------------------\u001b[0m",
      "\u001b[1;31mTypeError\u001b[0m                                 Traceback (most recent call last)",
      "Cell \u001b[1;32mIn[18], line 4\u001b[0m\n\u001b[0;32m      2\u001b[0m \u001b[38;5;28;01mfor\u001b[39;00m i \u001b[38;5;129;01min\u001b[39;00m \u001b[38;5;28mrange\u001b[39m(\u001b[38;5;241m100\u001b[39m,\u001b[38;5;241m401\u001b[39m):\n\u001b[0;32m      3\u001b[0m     s\u001b[38;5;241m=\u001b[39mi\n\u001b[1;32m----> 4\u001b[0m     \u001b[38;5;28;01mif\u001b[39;00m (\u001b[38;5;28mint\u001b[39m(s[\u001b[38;5;241m0\u001b[39m] \u001b[38;5;241m%\u001b[39m\u001b[38;5;241m2\u001b[39m\u001b[38;5;241m==\u001b[39m\u001b[38;5;241m0\u001b[39m)) \u001b[38;5;129;01mand\u001b[39;00m (\u001b[38;5;28mint\u001b[39m(s[\u001b[38;5;241m1\u001b[39m] \u001b[38;5;241m%\u001b[39m\u001b[38;5;241m2\u001b[39m\u001b[38;5;241m==\u001b[39m\u001b[38;5;241m0\u001b[39m)) \u001b[38;5;129;01mand\u001b[39;00m (\u001b[38;5;28mint\u001b[39m(s[\u001b[38;5;241m2\u001b[39m]) \u001b[38;5;241m%\u001b[39m \u001b[38;5;241m2\u001b[39m \u001b[38;5;241m==\u001b[39m \u001b[38;5;241m0\u001b[39m):\n\u001b[0;32m      5\u001b[0m         item\u001b[38;5;241m.\u001b[39mappend(s)\n\u001b[0;32m      7\u001b[0m \u001b[38;5;28mprint\u001b[39m(\u001b[38;5;124m'\u001b[39m\u001b[38;5;124m,\u001b[39m\u001b[38;5;124m'\u001b[39m\u001b[38;5;241m.\u001b[39mjoin(items))\n",
      "\u001b[1;31mTypeError\u001b[0m: 'int' object is not subscriptable"
     ]
    }
   ],
   "source": [
    "items=[]\n",
    "for i in range(100,401):\n",
    "    s=str(i)\n",
    "    if (int(s[0] %2==0)) and (int(s[1] %2==0)) and (int(s[2]) % 2 == 0):\n",
    "        item.append(s)\n",
    "\n",
    "print(','.join(items))"
   ]
  },
  {
   "cell_type": "code",
   "execution_count": null,
   "id": "0e4c6560-49f1-4395-8ef4-311aeb3f9a56",
   "metadata": {},
   "outputs": [],
   "source": []
  }
 ],
 "metadata": {
  "kernelspec": {
   "display_name": "Python 3 (ipykernel)",
   "language": "python",
   "name": "python3"
  },
  "language_info": {
   "codemirror_mode": {
    "name": "ipython",
    "version": 3
   },
   "file_extension": ".py",
   "mimetype": "text/x-python",
   "name": "python",
   "nbconvert_exporter": "python",
   "pygments_lexer": "ipython3",
   "version": "3.12.4"
  }
 },
 "nbformat": 4,
 "nbformat_minor": 5
}
