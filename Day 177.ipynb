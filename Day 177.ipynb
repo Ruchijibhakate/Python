{
 "cells": [
  {
   "cell_type": "markdown",
   "id": "00386f1b-eb81-49f4-b116-4285e16e2cbd",
   "metadata": {},
   "source": [
    "### Write a Python program that checks whether a specified value is contained within a group of values."
   ]
  },
  {
   "cell_type": "code",
   "execution_count": 2,
   "id": "9ecfba69-245d-40d7-924e-4f9331a8801e",
   "metadata": {},
   "outputs": [
    {
     "name": "stdout",
     "output_type": "stream",
     "text": [
      "False\n",
      "True\n"
     ]
    }
   ],
   "source": [
    "list1=[2,4,7,2,0,49,8,-2,9]\n",
    "print(3 in list1)\n",
    "print(-2 in list1)"
   ]
  },
  {
   "cell_type": "code",
   "execution_count": null,
   "id": "6518acd6-3fa0-4ac6-930e-b1aec1dce3bb",
   "metadata": {},
   "outputs": [],
   "source": []
  }
 ],
 "metadata": {
  "kernelspec": {
   "display_name": "Python 3 (ipykernel)",
   "language": "python",
   "name": "python3"
  },
  "language_info": {
   "codemirror_mode": {
    "name": "ipython",
    "version": 3
   },
   "file_extension": ".py",
   "mimetype": "text/x-python",
   "name": "python",
   "nbconvert_exporter": "python",
   "pygments_lexer": "ipython3",
   "version": "3.12.4"
  }
 },
 "nbformat": 4,
 "nbformat_minor": 5
}
