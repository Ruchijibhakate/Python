{
 "cells": [
  {
   "cell_type": "markdown",
   "id": "919c381b-91ed-47a1-a40c-4e52e5f4e780",
   "metadata": {},
   "source": [
    "### Concatenate two lists."
   ]
  },
  {
   "cell_type": "code",
   "execution_count": 2,
   "id": "6083b110-9d3d-4df7-b775-b1a5a6d7a1a5",
   "metadata": {},
   "outputs": [
    {
     "name": "stdout",
     "output_type": "stream",
     "text": [
      "[1, 2, 3, 4, 5, 6]\n"
     ]
    }
   ],
   "source": [
    "list1=[1,2,3]\n",
    "list2=[4,5,6]\n",
    "concatenated_list=list1 + list2\n",
    "print(concatenated_list)"
   ]
  },
  {
   "cell_type": "markdown",
   "id": "50a1d801-2044-4764-9da0-8e2f34f8a532",
   "metadata": {},
   "source": [
    "### Create a 2D list with random values and sort each row."
   ]
  },
  {
   "cell_type": "code",
   "execution_count": 5,
   "id": "f11a41cb-03d9-433e-9928-2b5f865b3fb7",
   "metadata": {},
   "outputs": [
    {
     "name": "stdout",
     "output_type": "stream",
     "text": [
      "[[0.41534878622524485, 0.7747577058957048, 0.8278392110981183, 0.8798050682386058], [0.18895680041964125, 0.33402537615874694, 0.5247998548618507, 0.8166900812057295], [0.4036530099429533, 0.4081237179752656, 0.5811626016222966, 0.7069512759760265]]\n"
     ]
    }
   ],
   "source": [
    "import random\n",
    "matrix = [[random.random() for _ in range(4)] for _ in range(3)]\n",
    "sorted_matrix = [sorted(row) for row in matrix]\n",
    "print(sorted_matrix)"
   ]
  },
  {
   "cell_type": "code",
   "execution_count": null,
   "id": "88f85cc5-f1d3-4761-864e-b3e3ec4fd3cd",
   "metadata": {},
   "outputs": [],
   "source": []
  }
 ],
 "metadata": {
  "kernelspec": {
   "display_name": "Python 3 (ipykernel)",
   "language": "python",
   "name": "python3"
  },
  "language_info": {
   "codemirror_mode": {
    "name": "ipython",
    "version": 3
   },
   "file_extension": ".py",
   "mimetype": "text/x-python",
   "name": "python",
   "nbconvert_exporter": "python",
   "pygments_lexer": "ipython3",
   "version": "3.12.4"
  }
 },
 "nbformat": 4,
 "nbformat_minor": 5
}
