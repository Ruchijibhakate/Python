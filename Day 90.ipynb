{
 "cells": [
  {
   "cell_type": "markdown",
   "id": "360497f1-c49f-4dc2-976a-b67cb6fad8e8",
   "metadata": {},
   "source": [
    "### 1.Write a function calculation() such that it can accept two variables and calculate the addition and subtraction of it. And also it must return both addition and subtraction in a single return call"
   ]
  },
  {
   "cell_type": "code",
   "execution_count": 12,
   "id": "9ed68cde-90e9-45c7-955c-baac1f6c4de0",
   "metadata": {},
   "outputs": [
    {
     "data": {
      "text/plain": [
       "(5, -1)"
      ]
     },
     "execution_count": 12,
     "metadata": {},
     "output_type": "execute_result"
    }
   ],
   "source": [
    "def calculation(num1,num2):\n",
    "    add=num1+num2\n",
    "    sub=num1-num2\n",
    "    return add , sub\n",
    "\n",
    "calculation(2,3)"
   ]
  },
  {
   "cell_type": "markdown",
   "id": "51daa033-ca15-4c58-a3d3-ca3b290d5cc4",
   "metadata": {},
   "source": [
    "### 2.Generate a Python list of all the even numbers between 4 to 30"
   ]
  },
  {
   "cell_type": "code",
   "execution_count": 15,
   "id": "2188343a-6cf1-42e7-bd01-8fc3c82f6267",
   "metadata": {},
   "outputs": [
    {
     "name": "stdout",
     "output_type": "stream",
     "text": [
      "[4, 6, 8, 10, 12, 14, 16, 18, 20, 22, 24, 26, 28, 30]\n"
     ]
    }
   ],
   "source": [
    "Even_list=[]\n",
    "for i in range(4,31):\n",
    "    if i%2==0:\n",
    "        Even_list.append(i)\n",
    "print(Even_list)        "
   ]
  },
  {
   "cell_type": "code",
   "execution_count": null,
   "id": "bdc46157-7afd-407f-93d7-256c093386e6",
   "metadata": {},
   "outputs": [],
   "source": []
  }
 ],
 "metadata": {
  "kernelspec": {
   "display_name": "Python 3 (ipykernel)",
   "language": "python",
   "name": "python3"
  },
  "language_info": {
   "codemirror_mode": {
    "name": "ipython",
    "version": 3
   },
   "file_extension": ".py",
   "mimetype": "text/x-python",
   "name": "python",
   "nbconvert_exporter": "python",
   "pygments_lexer": "ipython3",
   "version": "3.12.4"
  }
 },
 "nbformat": 4,
 "nbformat_minor": 5
}
