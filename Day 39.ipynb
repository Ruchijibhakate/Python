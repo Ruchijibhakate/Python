{
 "cells": [
  {
   "cell_type": "markdown",
   "id": "e8593e64-3b32-4c69-b5c4-cc56490435fa",
   "metadata": {},
   "source": [
    "### 1. WAP to find list of ntegers with exactly two occurences of 19 and at least 3 occurences of 5. Return True otherwise False."
   ]
  },
  {
   "cell_type": "code",
   "execution_count": 14,
   "id": "c8a1f6bb-e4e5-4113-a379-adc7c9e9855d",
   "metadata": {},
   "outputs": [
    {
     "data": {
      "text/plain": [
       "True"
      ]
     },
     "execution_count": 14,
     "metadata": {},
     "output_type": "execute_result"
    }
   ],
   "source": [
    "def check_occurences(list):\n",
    "    return list.count(19)==2 and list.count(5)>=3\n",
    "\n",
    "check_occurences([16,3,19,4,5,5,20,29,19,5])"
   ]
  },
  {
   "cell_type": "markdown",
   "id": "2708cc6a-db10-41ea-9016-84dbf20bd081",
   "metadata": {},
   "source": [
    "### 2. WAP that accepts a list of integers and calculates the length and the fifth element occurs thrice in list"
   ]
  },
  {
   "cell_type": "code",
   "execution_count": 17,
   "id": "2378622a-e95c-4518-8726-922cb44f94ad",
   "metadata": {},
   "outputs": [
    {
     "name": "stdout",
     "output_type": "stream",
     "text": [
      "Length of list is 7\n",
      "fifth element : 23\n"
     ]
    },
    {
     "data": {
      "text/plain": [
       "True"
      ]
     },
     "execution_count": 17,
     "metadata": {},
     "output_type": "execute_result"
    }
   ],
   "source": [
    "def check_integer_length(list):\n",
    "    print('Length of list is',len(list))\n",
    "    print(\"fifth element :\",list[4])\n",
    "    return list.count(list[4])==3\n",
    "\n",
    "check_integer_length([23,17,30,27,23,45,23])"
   ]
  },
  {
   "cell_type": "markdown",
   "id": "0146945c-10a0-43e7-859a-72ea079445e8",
   "metadata": {},
   "source": [
    "### 3. We are making n stone piles. The first pile has n stones. If n is even then all the piles have an even numbers of stone. If n is odd then all the piles have an odd numbers of stone. Each pile must more stones than the previous pile but as few as possible. WAP to find the number of stones in esch pile"
   ]
  },
  {
   "cell_type": "code",
   "execution_count": 63,
   "id": "4eb2dce1-3031-477b-8f5a-4cb972c2f3b0",
   "metadata": {},
   "outputs": [
    {
     "name": "stdout",
     "output_type": "stream",
     "text": [
      "Number of piles 3\n",
      "Number of stones in each pile:\n",
      "[3, 5, 7]\n",
      "Number of piles 10\n",
      "Number of stones in each pile:\n",
      "[10, 12, 14, 16, 18, 20, 22, 24, 26, 28]\n"
     ]
    }
   ],
   "source": [
    "def test(n):\n",
    "    return [n+2*i for i in range(n)]\n",
    "\n",
    "n=3\n",
    "print('Number of piles',n)\n",
    "print('Number of stones in each pile:')\n",
    "print(test(n))\n",
    "\n",
    "n=10\n",
    "print('Number of piles',n)\n",
    "print('Number of stones in each pile:')\n",
    "print(test(n))"
   ]
  },
  {
   "cell_type": "markdown",
   "id": "7b1ba097-1ddf-40a2-8bc6-a94fefbb0874",
   "metadata": {},
   "source": [
    "### 4. WAP to check the nth-1 string is proper substring of nth string in given list of strings"
   ]
  },
  {
   "cell_type": "code",
   "execution_count": 70,
   "id": "28cb8642-454c-4b18-a50e-0f62ba3c6d8f",
   "metadata": {},
   "outputs": [
    {
     "data": {
      "text/plain": [
       "True"
      ]
     },
     "execution_count": 70,
     "metadata": {},
     "output_type": "execute_result"
    }
   ],
   "source": [
    "def test(str):\n",
    "    return str[len(str)-2] in str[len(str)-1] and str[len(str)-2]!=str[len(str)-1]\n",
    "\n",
    "str1=['a','abb','sfs','de','sfde']\n",
    "test(str1)"
   ]
  },
  {
   "cell_type": "code",
   "execution_count": 82,
   "id": "283c955a-abd3-4554-8968-e57d5b596410",
   "metadata": {},
   "outputs": [
    {
     "data": {
      "text/plain": [
       "False"
      ]
     },
     "execution_count": 82,
     "metadata": {},
     "output_type": "execute_result"
    }
   ],
   "source": [
    "str2=['cv','duty','beauty']\n",
    "test(str2)"
   ]
  },
  {
   "cell_type": "markdown",
   "id": "c777a295-f19b-4bb9-8636-4c89fb208654",
   "metadata": {},
   "source": [
    "### 5. find the list of 100 integers between 0 and 999 which all differ by 10 from one another"
   ]
  },
  {
   "cell_type": "code",
   "execution_count": 7,
   "id": "8945ef96-a882-4a66-8132-cd00fa01da8b",
   "metadata": {},
   "outputs": [],
   "source": [
    "def test(li):\n",
    "    return all(i in range(1000) and abs(i-j>=10) for i in li for j in li if i!=j) and len(set(li))==100"
   ]
  },
  {
   "cell_type": "code",
   "execution_count": 5,
   "id": "4fe3f040-bf1c-43e0-89d6-09d050d1b05b",
   "metadata": {},
   "outputs": [
    {
     "name": "stdout",
     "output_type": "stream",
     "text": [
      "Original List :\n",
      "[0, 10, 20, 30, 40, 50, 60, 70, 80, 90, 100, 110, 120, 130, 140, 150, 160, 170, 180, 190, 200, 210, 220, 230, 240, 250, 260, 270, 280, 290, 300, 310, 320, 330, 340, 350, 360, 370, 380, 390, 400, 410, 420, 430, 440, 450, 460, 470, 480, 490, 500, 510, 520, 530, 540, 550, 560, 570, 580, 590, 600, 610, 620, 630, 640, 650, 660, 670, 680, 690, 700, 710, 720, 730, 740, 750, 760, 770, 780, 790, 800, 810, 820, 830, 840, 850, 860, 870, 880, 890, 900, 910, 920, 930, 940, 950, 960, 970, 980, 990]\n",
      "Check whether the said list contains list of 100 integers between 0 and 999 which all differ by 10 from one another:\n",
      "False\n"
     ]
    }
   ],
   "source": [
    "nums=list(range(0,1000,10))\n",
    "print(\"Original List :\")\n",
    "print(nums)\n",
    "\n",
    "print('Check whether the said list contains list of 100 integers between 0 and 999 which all differ by 10 from one another:')\n",
    "print(test(nums))"
   ]
  },
  {
   "cell_type": "markdown",
   "id": "1f8fd027-82ff-4655-aebe-00b64c0d68a1",
   "metadata": {},
   "source": [
    "### 6. WAP to check a given list of integers where the sum of first i integers is i"
   ]
  },
  {
   "cell_type": "code",
   "execution_count": 22,
   "id": "8275789b-5068-4e2a-9900-676c6918e150",
   "metadata": {},
   "outputs": [
    {
     "name": "stdout",
     "output_type": "stream",
     "text": [
      "Original list :\n",
      "[0, 1, 2, 3, 4, 5]\n",
      "Check the said list, where sum of first i integers is i = 1\n",
      "False\n"
     ]
    }
   ],
   "source": [
    "def test(li,i):\n",
    "    return sum(li[:i])==i\n",
    "\n",
    "nums=[0,1,2,3,4,5]\n",
    "i=1\n",
    "print('Original list :')\n",
    "print(nums)\n",
    "print('Check the said list, where sum of first i integers is i =',i)\n",
    "print(test(nums,1))"
   ]
  },
  {
   "cell_type": "code",
   "execution_count": 18,
   "id": "f235ab92-381f-4bbb-a172-eecfcb4f8a28",
   "metadata": {},
   "outputs": [
    {
     "name": "stdout",
     "output_type": "stream",
     "text": [
      "Original list :\n",
      "[0, 1, 2, 3, 4, 5]\n",
      "Check the said list, where sum of first i integers is i = 3\n",
      "True\n"
     ]
    }
   ],
   "source": [
    "nums=[0,1,2,3,4,5]\n",
    "i=3\n",
    "print('Original list :')\n",
    "print(nums)\n",
    "print('Check the said list, where sum of first i integers is i =',i)\n",
    "print(test(nums,3))"
   ]
  },
  {
   "cell_type": "code",
   "execution_count": null,
   "id": "ab1379c4-e744-4f20-b318-f73bd39fb724",
   "metadata": {},
   "outputs": [],
   "source": []
  }
 ],
 "metadata": {
  "kernelspec": {
   "display_name": "Python 3 (ipykernel)",
   "language": "python",
   "name": "python3"
  },
  "language_info": {
   "codemirror_mode": {
    "name": "ipython",
    "version": 3
   },
   "file_extension": ".py",
   "mimetype": "text/x-python",
   "name": "python",
   "nbconvert_exporter": "python",
   "pygments_lexer": "ipython3",
   "version": "3.12.4"
  }
 },
 "nbformat": 4,
 "nbformat_minor": 5
}
