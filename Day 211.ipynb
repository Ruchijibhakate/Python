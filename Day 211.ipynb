{
 "cells": [
  {
   "cell_type": "markdown",
   "id": "3d8700d4-a376-4467-9a21-19690b6d6a39",
   "metadata": {},
   "source": [
    "### Convert radians to degrees for each element in a list."
   ]
  },
  {
   "cell_type": "code",
   "execution_count": 2,
   "id": "578de834-43d5-41cc-9aa2-94ae19b11657",
   "metadata": {},
   "outputs": [
    {
     "name": "stdout",
     "output_type": "stream",
     "text": [
      "[90.0, 180.0, 270.0]\n"
     ]
    }
   ],
   "source": [
    "import math\n",
    "lst = [math.pi / 2, math.pi, 3 * math.pi / 2]\n",
    "degrees_lst = [math.degrees(x) for x in lst]\n",
    "print(degrees_lst)"
   ]
  },
  {
   "cell_type": "code",
   "execution_count": null,
   "id": "7cfc94cf-9401-4a7c-a0d6-06e6fd361c7f",
   "metadata": {},
   "outputs": [],
   "source": []
  }
 ],
 "metadata": {
  "kernelspec": {
   "display_name": "Python 3 (ipykernel)",
   "language": "python",
   "name": "python3"
  },
  "language_info": {
   "codemirror_mode": {
    "name": "ipython",
    "version": 3
   },
   "file_extension": ".py",
   "mimetype": "text/x-python",
   "name": "python",
   "nbconvert_exporter": "python",
   "pygments_lexer": "ipython3",
   "version": "3.12.4"
  }
 },
 "nbformat": 4,
 "nbformat_minor": 5
}
