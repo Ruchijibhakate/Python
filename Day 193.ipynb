{
 "cells": [
  {
   "cell_type": "markdown",
   "id": "99f5fd93-4062-4f66-b50e-0def769fcaa1",
   "metadata": {},
   "source": [
    "### Write a Python program to find the maximum of three numbers"
   ]
  },
  {
   "cell_type": "code",
   "execution_count": null,
   "id": "2113a823-6f24-4cd1-8bc6-59c6ca18846d",
   "metadata": {},
   "outputs": [],
   "source": [
    "a=int(input('Enter a First Number :'))\n",
    "b=int(input('Enter a Second Number :'))\n",
    "c=int(input('Enter a third Numbetr :'))\n",
    "\n",
    "if a>b and a>c:\n",
    "    print(a,'is Maximum')\n",
    "\n",
    "elif b>a and b>c:\n",
    "    print(b,'is Maximum')\n",
    "\n",
    "else:\n",
    "    print(c,'is Maximum')"
   ]
  }
 ],
 "metadata": {
  "kernelspec": {
   "display_name": "Python 3 (ipykernel)",
   "language": "python",
   "name": "python3"
  },
  "language_info": {
   "codemirror_mode": {
    "name": "ipython",
    "version": 3
   },
   "file_extension": ".py",
   "mimetype": "text/x-python",
   "name": "python",
   "nbconvert_exporter": "python",
   "pygments_lexer": "ipython3",
   "version": "3.12.4"
  }
 },
 "nbformat": 4,
 "nbformat_minor": 5
}
