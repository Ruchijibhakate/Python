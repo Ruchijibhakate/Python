{
 "cells": [
  {
   "cell_type": "markdown",
   "id": "dd3d2288-d19d-414e-a271-d36a94ebfb6d",
   "metadata": {},
   "source": [
    "### 1. WAP to display numbers from list using for loop."
   ]
  },
  {
   "cell_type": "code",
   "execution_count": 2,
   "id": "1f39c6be-f80a-4dfa-a8f7-1938a3add26d",
   "metadata": {},
   "outputs": [
    {
     "name": "stdout",
     "output_type": "stream",
     "text": [
      "1\n",
      "2\n",
      "3\n",
      "4\n",
      "5\n",
      "6\n",
      "7\n",
      "8\n"
     ]
    }
   ],
   "source": [
    "list=[1,2,3,4,5,6,7,8]\n",
    "for i in list:\n",
    "    print(i)"
   ]
  },
  {
   "cell_type": "markdown",
   "id": "828a96d0-b580-4a38-b851-f50531c6eff9",
   "metadata": {},
   "source": [
    "### 2. WAP to count total numbers of digitis in number:"
   ]
  },
  {
   "cell_type": "code",
   "execution_count": 7,
   "id": "84a13f2f-63cd-45de-a51d-88c23f4f7709",
   "metadata": {},
   "outputs": [
    {
     "name": "stdin",
     "output_type": "stream",
     "text": [
      "Enter a number: 43512716548\n"
     ]
    },
    {
     "name": "stdout",
     "output_type": "stream",
     "text": [
      "Total numbers of digits in number : 11\n"
     ]
    }
   ],
   "source": [
    "num=input('Enter a number:')\n",
    "count=0\n",
    "for i in num:\n",
    "    count=count+1\n",
    "print('Total numbers of digits in number :',count)    "
   ]
  },
  {
   "cell_type": "markdown",
   "id": "452a3e82-fe10-4c99-81b9-e4ca29e25201",
   "metadata": {},
   "source": [
    "### 3. WAP to check if given string is palindrome or not."
   ]
  },
  {
   "cell_type": "code",
   "execution_count": 15,
   "id": "2c7ceba2-bd65-4b77-8669-db66efefa256",
   "metadata": {},
   "outputs": [
    {
     "name": "stdin",
     "output_type": "stream",
     "text": [
      "Enter a String: oracle\n"
     ]
    },
    {
     "name": "stdout",
     "output_type": "stream",
     "text": [
      "String  is not Palindrome\n"
     ]
    }
   ],
   "source": [
    "str=input('Enter a String:')\n",
    "rev_str=str[::-1]\n",
    "if str==rev_str:\n",
    "    print('String  is Palindrome')\n",
    "else:\n",
    "    print('String  is not Palindrome')"
   ]
  },
  {
   "cell_type": "markdown",
   "id": "5bbb597e-eea5-47f3-be35-7d912a08cfc0",
   "metadata": {},
   "source": [
    "### 4. WAP that accept word from user and reverses it."
   ]
  },
  {
   "cell_type": "code",
   "execution_count": 19,
   "id": "bb852377-0c75-4f1f-921c-0edeaec846a1",
   "metadata": {},
   "outputs": [
    {
     "name": "stdin",
     "output_type": "stream",
     "text": [
      "Enter a String : capital\n"
     ]
    },
    {
     "name": "stdout",
     "output_type": "stream",
     "text": [
      "Reverse String : latipac\n"
     ]
    }
   ],
   "source": [
    "str=input('Enter a String :')\n",
    "reverse=str[::-1]\n",
    "print('Reverse String :',reverse)"
   ]
  },
  {
   "cell_type": "markdown",
   "id": "74a44b56-fa0f-431d-ae23-9615e9cfc70e",
   "metadata": {},
   "source": [
    "### 5. WAP to check if given number is Armstrong or not"
   ]
  },
  {
   "cell_type": "code",
   "execution_count": 36,
   "id": "e0c4f222-7253-41a1-a532-866c8a9494de",
   "metadata": {},
   "outputs": [
    {
     "name": "stdin",
     "output_type": "stream",
     "text": [
      "Enter a number : 153\n"
     ]
    },
    {
     "name": "stdout",
     "output_type": "stream",
     "text": [
      "153\n",
      "Number is Armstrong Number\n"
     ]
    }
   ],
   "source": [
    "num=int(input('Enter a number :'))\n",
    "temp=num\n",
    "res=0\n",
    "while(temp>0):\n",
    "    rem=temp%10\n",
    "    res=res+rem**3\n",
    "    temp=temp//10\n",
    "print(res)\n",
    "\n",
    "if res==num:\n",
    "    print('Number is Armstrong Number')\n",
    "else:\n",
    "    print('Number is not Armstrong Number')"
   ]
  },
  {
   "cell_type": "code",
   "execution_count": null,
   "id": "317b80f1-1ab6-4cb0-ba98-e3c208e54127",
   "metadata": {},
   "outputs": [],
   "source": []
  }
 ],
 "metadata": {
  "kernelspec": {
   "display_name": "Python 3 (ipykernel)",
   "language": "python",
   "name": "python3"
  },
  "language_info": {
   "codemirror_mode": {
    "name": "ipython",
    "version": 3
   },
   "file_extension": ".py",
   "mimetype": "text/x-python",
   "name": "python",
   "nbconvert_exporter": "python",
   "pygments_lexer": "ipython3",
   "version": "3.12.4"
  }
 },
 "nbformat": 4,
 "nbformat_minor": 5
}
