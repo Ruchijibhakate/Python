{
 "cells": [
  {
   "cell_type": "markdown",
   "id": "9c7669a6-5692-4631-a62c-6d2ab47e68a0",
   "metadata": {},
   "source": [
    "### 1. Print following pattern."
   ]
  },
  {
   "cell_type": "code",
   "execution_count": 8,
   "id": "2349adfd-5ad8-42bd-9186-4bcdebee0f94",
   "metadata": {},
   "outputs": [
    {
     "name": "stdout",
     "output_type": "stream",
     "text": [
      "5 4 3 2 1 \n",
      "4 3 2 1 \n",
      "3 2 1 \n",
      "2 1 \n",
      "1 \n"
     ]
    }
   ],
   "source": [
    "n=5\n",
    "for i in range(n,0,-1):\n",
    "    for j in range(i,0,-1):\n",
    "        print(j,end=' ')\n",
    "    print()    "
   ]
  },
  {
   "cell_type": "markdown",
   "id": "5eb4b19e-62bc-4623-8421-2368223dc15b",
   "metadata": {},
   "source": [
    "### 2. Print list in reverse using for loop"
   ]
  },
  {
   "cell_type": "code",
   "execution_count": 23,
   "id": "33a1c245-bc22-4522-a690-1c2e2e429e5e",
   "metadata": {},
   "outputs": [
    {
     "name": "stdout",
     "output_type": "stream",
     "text": [
      "[6, 5, 4, 3, 2, 1]\n"
     ]
    }
   ],
   "source": [
    "list1=[1,2,3,4,5,6]\n",
    "rev_list=reversed(list1)\n",
    "new_list=[]\n",
    "for i in rev_list:\n",
    "    new_list.append(i)\n",
    "print(new_list)    "
   ]
  },
  {
   "cell_type": "code",
   "execution_count": null,
   "id": "7e05d379-9b36-45a2-9b78-a96ec1db7793",
   "metadata": {},
   "outputs": [],
   "source": []
  }
 ],
 "metadata": {
  "kernelspec": {
   "display_name": "Python 3 (ipykernel)",
   "language": "python",
   "name": "python3"
  },
  "language_info": {
   "codemirror_mode": {
    "name": "ipython",
    "version": 3
   },
   "file_extension": ".py",
   "mimetype": "text/x-python",
   "name": "python",
   "nbconvert_exporter": "python",
   "pygments_lexer": "ipython3",
   "version": "3.12.4"
  }
 },
 "nbformat": 4,
 "nbformat_minor": 5
}
