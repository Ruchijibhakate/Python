{
 "cells": [
  {
   "cell_type": "markdown",
   "id": "eee66b47-7cad-41d2-a81b-ad7715d6ff1f",
   "metadata": {},
   "source": [
    "### 1. Check whether list contains sublist"
   ]
  },
  {
   "cell_type": "code",
   "execution_count": 2,
   "id": "efd2fc7a-427d-4351-bd5f-995e266671a3",
   "metadata": {},
   "outputs": [
    {
     "name": "stdout",
     "output_type": "stream",
     "text": [
      "True\n",
      "False\n"
     ]
    }
   ],
   "source": [
    "def is_Sublist(l,s):\n",
    "    sub_set= False\n",
    "    if s==[]:\n",
    "        sub_set=True\n",
    "    elif s==l:\n",
    "        sub_set=True\n",
    "    elif len(s)>len(l):\n",
    "        sub_set=False\n",
    "    else:\n",
    "        for i in range(len(l)):\n",
    "            if l[i]==s[0]:\n",
    "                n=1\n",
    "                while(n<len(s)) and (l[i+n])==s[n]:\n",
    "                    n=n+1\n",
    "                if n==len(s):\n",
    "                    sub_set=True\n",
    "    return sub_set\n",
    "\n",
    "a=[2,4,3,5,7]\n",
    "b=[4,3]\n",
    "c=[3,7]\n",
    "\n",
    "print(is_Sublist(a,b))\n",
    "print(is_Sublist(a,c))"
   ]
  },
  {
   "cell_type": "markdown",
   "id": "89644418-6c56-4a15-9197-de1ab0d0bc62",
   "metadata": {},
   "source": [
    "### 2. Create list by concatinating given list with range from 1 to n"
   ]
  },
  {
   "cell_type": "code",
   "execution_count": 2,
   "id": "cc901699-1c25-4b96-aede-38586f791c98",
   "metadata": {},
   "outputs": [
    {
     "name": "stdout",
     "output_type": "stream",
     "text": [
      "['p1', 'q1', 'p2', 'q2', 'p3', 'q3', 'p4', 'q4']\n"
     ]
    }
   ],
   "source": [
    "list=['p','q']\n",
    "n=4\n",
    "new_list=['{}{}'.format(x,y) for y in range(1,n+1) for x in list]\n",
    "print(new_list)"
   ]
  },
  {
   "cell_type": "code",
   "execution_count": 15,
   "id": "c981f6b9-82e3-4516-9e81-47a4e013e4db",
   "metadata": {},
   "outputs": [
    {
     "name": "stdout",
     "output_type": "stream",
     "text": [
      "['p1']\n",
      "['p2']\n",
      "['p3']\n",
      "['p4']\n",
      "['q1']\n",
      "['q2']\n",
      "['q3']\n",
      "['q4']\n"
     ]
    }
   ],
   "source": [
    "list=['p','q']\n",
    "n=4\n",
    "for x in list:\n",
    "    for y in range(1,n+1):\n",
    "        new_list=['{}{}'.format(x,y)]\n",
    "        print(new_list)        "
   ]
  },
  {
   "cell_type": "markdown",
   "id": "2c7aa016-98a3-4046-bed8-1a0f11bbf1e3",
   "metadata": {},
   "source": [
    "### 3. WAP to get variable with identification number or string"
   ]
  },
  {
   "cell_type": "code",
   "execution_count": 30,
   "id": "2abc56bc-d4ad-4ca8-9f1d-c0c0d57cd673",
   "metadata": {},
   "outputs": [
    {
     "name": "stdout",
     "output_type": "stream",
     "text": [
      "1b4ee2b7470\n",
      "1b4eae42330\n"
     ]
    }
   ],
   "source": [
    "x=1000\n",
    "print(format(id(x),'x'))\n",
    "\n",
    "s='Memories'\n",
    "print(format(id(s),'x'))"
   ]
  },
  {
   "cell_type": "markdown",
   "id": "e970fae1-3221-444e-a2c3-af9d9e352f2d",
   "metadata": {},
   "source": [
    "### 4. Find common items in two lists"
   ]
  },
  {
   "cell_type": "code",
   "execution_count": 37,
   "id": "a68db10c-f2a6-4b6f-885e-c4d3db15e64b",
   "metadata": {},
   "outputs": [
    {
     "name": "stdout",
     "output_type": "stream",
     "text": [
      "Common items in two lists : [20, 70, 10, 40]\n"
     ]
    }
   ],
   "source": [
    "list1=[20,60,70,10,100,40,80]\n",
    "list2=[30,90,40,10,45,70,20]\n",
    "common_list=[]\n",
    "for i in list1:\n",
    "    for j in list2:\n",
    "        if i==j:\n",
    "            common_list.append(i)\n",
    "print('Common items in two lists :',common_list)            "
   ]
  },
  {
   "cell_type": "markdown",
   "id": "947929ca-0589-425d-a802-9d25494d3946",
   "metadata": {},
   "source": [
    "### 5. Convert a list of multiple integers into single integer"
   ]
  },
  {
   "cell_type": "code",
   "execution_count": 1,
   "id": "2146bc76-4f91-46cc-9376-ce5edd1f2c3c",
   "metadata": {},
   "outputs": [
    {
     "name": "stdout",
     "output_type": "stream",
     "text": [
      "Original list : [11, 33, 20]\n",
      "Single Integer : 113320\n"
     ]
    }
   ],
   "source": [
    "list=[11,33,20]\n",
    "print('Original list :',list)\n",
    "x=int(''.join(map(str,list)))\n",
    "print('Single Integer :',x)"
   ]
  },
  {
   "cell_type": "code",
   "execution_count": null,
   "id": "a86300ec-9189-454c-bea2-786605a99b3d",
   "metadata": {},
   "outputs": [],
   "source": []
  }
 ],
 "metadata": {
  "kernelspec": {
   "display_name": "Python 3 (ipykernel)",
   "language": "python",
   "name": "python3"
  },
  "language_info": {
   "codemirror_mode": {
    "name": "ipython",
    "version": 3
   },
   "file_extension": ".py",
   "mimetype": "text/x-python",
   "name": "python",
   "nbconvert_exporter": "python",
   "pygments_lexer": "ipython3",
   "version": "3.12.4"
  }
 },
 "nbformat": 4,
 "nbformat_minor": 5
}
