{
 "cells": [
  {
   "cell_type": "markdown",
   "id": "a419cb88-2eca-475d-9daf-18b7f2d83b87",
   "metadata": {},
   "source": [
    "### 1. WAP to accept 3 angles of triangle and check given triangle is valid or not (sum of all angles in triangle is 180 deg)"
   ]
  },
  {
   "cell_type": "code",
   "execution_count": 8,
   "id": "36158941-f1db-4c5d-9ed8-7e9c6749b3cb",
   "metadata": {},
   "outputs": [
    {
     "name": "stdin",
     "output_type": "stream",
     "text": [
      "Enter 1st angle of triangle: 60\n",
      "Enter 2nd angle of triangle: 40\n",
      "Enter 3rd angle of triangle: 100\n"
     ]
    },
    {
     "name": "stdout",
     "output_type": "stream",
     "text": [
      "Sum of all angles of triangle is  200\n",
      "Triangle is not Valid\n"
     ]
    }
   ],
   "source": [
    "angle1=int(input('Enter 1st angle of triangle:'))\n",
    "angle2=int(input('Enter 2nd angle of triangle:'))\n",
    "angle3=int(input('Enter 3rd angle of triangle:'))\n",
    "\n",
    "sum = angle1 + angle2 + angle3\n",
    "print('Sum of all angles of triangle is ',sum)\n",
    "if sum==180:\n",
    "    print('Triangle is Valid')\n",
    "else:\n",
    "    print('Triangle is not Valid')"
   ]
  },
  {
   "cell_type": "markdown",
   "id": "4ef3370b-32ef-4096-a90f-ecadf373446b",
   "metadata": {},
   "source": [
    "### 2. Accept the number from user and check the number is even or odd"
   ]
  },
  {
   "cell_type": "code",
   "execution_count": 11,
   "id": "ab7dd358-a801-4ec3-95c3-e93d34bd0222",
   "metadata": {},
   "outputs": [
    {
     "name": "stdin",
     "output_type": "stream",
     "text": [
      "Enter a number: 67\n"
     ]
    },
    {
     "name": "stdout",
     "output_type": "stream",
     "text": [
      "Number is Odd\n"
     ]
    }
   ],
   "source": [
    "num=int(input('Enter a number:'))\n",
    "if num%2==0:\n",
    "    print('Number is Even')\n",
    "else:\n",
    "    print('Number is Odd')"
   ]
  },
  {
   "cell_type": "markdown",
   "id": "3ffdeb3a-efaa-4b22-b83d-70e14f903fe8",
   "metadata": {},
   "source": [
    "### 3. Accept marks of 5 subjects from user (out of 50). Calculate percentage and check student gets pass in exam or fail. (passing criteria 60%)"
   ]
  },
  {
   "cell_type": "code",
   "execution_count": 18,
   "id": "09961dca-1a23-4a22-b725-27fe139ab441",
   "metadata": {},
   "outputs": [
    {
     "name": "stdin",
     "output_type": "stream",
     "text": [
      "Enter Marks obtained in English: 45\n",
      "Enter Marks obtained in Maths: 38\n",
      "Enter Marks obtained in Science: 43\n",
      "Enter Marks obtained in History: 39\n",
      "Enter Marks obtained in IT: 40\n"
     ]
    },
    {
     "name": "stdout",
     "output_type": "stream",
     "text": [
      "Percentage Obtained by Student: 82.0 %\n",
      "Student is Passed\n"
     ]
    }
   ],
   "source": [
    "English=float(input('Enter Marks obtained in English:'))\n",
    "Maths=float(input('Enter Marks obtained in Maths:'))\n",
    "Science=float(input('Enter Marks obtained in Science:'))\n",
    "History=float(input('Enter Marks obtained in History:'))\n",
    "IT=float(input('Enter Marks obtained in IT:'))\n",
    "\n",
    "sum=English + Maths + Science + History + IT\n",
    "per=(sum*100)/250\n",
    "print('Percentage Obtained by Student:',per,'%')\n",
    "\n",
    "if per>60:\n",
    "    print('Student is Passed')\n",
    "else:\n",
    "    print('Student is Failed')"
   ]
  },
  {
   "cell_type": "markdown",
   "id": "8815cc55-36a7-4174-94ca-39eb3046165a",
   "metadata": {},
   "source": [
    "### 4. Accept the string from the user and check if string is palindrome or not"
   ]
  },
  {
   "cell_type": "code",
   "execution_count": 27,
   "id": "befffebc-1906-4084-9695-cab9c202cdf1",
   "metadata": {},
   "outputs": [
    {
     "name": "stdin",
     "output_type": "stream",
     "text": [
      "Enter a String : racecar\n"
     ]
    },
    {
     "name": "stdout",
     "output_type": "stream",
     "text": [
      "String is Palindrome\n"
     ]
    }
   ],
   "source": [
    "str=input('Enter a String :')\n",
    "rev_str=str[::-1]\n",
    "if str==rev_str:\n",
    "    print('String is Palindrome')\n",
    "else:\n",
    "    print('String is not Palindrome')"
   ]
  },
  {
   "cell_type": "markdown",
   "id": "fafe44b1-ba6e-4e03-9a4f-e46ff153412d",
   "metadata": {},
   "source": [
    "### 5. Accept the 3 sides of triangle and check the triangle is equilateral, Isosceles or scalene triangle"
   ]
  },
  {
   "cell_type": "code",
   "execution_count": 30,
   "id": "0aa8a6a4-28f7-43d5-90dc-526a351d8134",
   "metadata": {},
   "outputs": [
    {
     "name": "stdin",
     "output_type": "stream",
     "text": [
      "Enter 1st side of triangle: 12\n",
      "Enter 2nd side of triangle: 6\n",
      "Enter 3rd side of triangle: 12\n"
     ]
    },
    {
     "name": "stdout",
     "output_type": "stream",
     "text": [
      "Given Triangle is Isosceles\n"
     ]
    }
   ],
   "source": [
    "side1=int(input('Enter 1st side of triangle:'))\n",
    "side2=int(input('Enter 2nd side of triangle:'))\n",
    "side3=int(input('Enter 3rd side of triangle:'))\n",
    "\n",
    "if side1==side2 and side2==side3 and side1==side3:\n",
    "    print('Given Triangle is Equilateral')\n",
    "elif side1==side2 or side2==side3 or side1==side3:\n",
    "    print('Given Triangle is Isosceles')\n",
    "else:\n",
    "    print('Given Triangle is Scalene')"
   ]
  },
  {
   "cell_type": "code",
   "execution_count": null,
   "id": "6963be10-c428-4769-b1cc-4c739eabb64a",
   "metadata": {},
   "outputs": [],
   "source": []
  }
 ],
 "metadata": {
  "kernelspec": {
   "display_name": "Python 3 (ipykernel)",
   "language": "python",
   "name": "python3"
  },
  "language_info": {
   "codemirror_mode": {
    "name": "ipython",
    "version": 3
   },
   "file_extension": ".py",
   "mimetype": "text/x-python",
   "name": "python",
   "nbconvert_exporter": "python",
   "pygments_lexer": "ipython3",
   "version": "3.12.4"
  }
 },
 "nbformat": 4,
 "nbformat_minor": 5
}
