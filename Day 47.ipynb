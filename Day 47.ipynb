{
 "cells": [
  {
   "cell_type": "markdown",
   "id": "b5bc5080-358d-4d5a-a3c9-3b4cf770e620",
   "metadata": {},
   "source": [
    "### 1. WAP to make a simple calculator"
   ]
  },
  {
   "cell_type": "code",
   "execution_count": 3,
   "id": "a7fefaaf-f515-42f2-8688-02480434f4df",
   "metadata": {},
   "outputs": [
    {
     "name": "stdout",
     "output_type": "stream",
     "text": [
      "Select Operation.\n",
      "1.Add\n",
      "2.Substract\n",
      "3.Multiply\n",
      "4.Divide\n"
     ]
    },
    {
     "name": "stdin",
     "output_type": "stream",
     "text": [
      "Enter choice(1/2/3/4): 3\n",
      "Enter first number: 345\n",
      "Enter second number: 29\n"
     ]
    },
    {
     "name": "stdout",
     "output_type": "stream",
     "text": [
      "345.0 * 29.0 = 10005.0\n"
     ]
    },
    {
     "name": "stdin",
     "output_type": "stream",
     "text": [
      "Lets do next calculation ? (yes / no): yes\n",
      "Enter choice(1/2/3/4): 1\n",
      "Enter first number: 27482\n",
      "Enter second number: 0314\n"
     ]
    },
    {
     "name": "stdout",
     "output_type": "stream",
     "text": [
      "27482.0 + 314.0 = 27796.0\n"
     ]
    },
    {
     "name": "stdin",
     "output_type": "stream",
     "text": [
      "Lets do next calculation ? (yes / no): no\n"
     ]
    }
   ],
   "source": [
    "def add(x,y):\n",
    "    return x+y\n",
    "\n",
    "def substract(x,y):\n",
    "    return x-y\n",
    "\n",
    "def multiply(x,y):\n",
    "    return x*y\n",
    "\n",
    "def divide(x,y):\n",
    "    return x/y\n",
    "\n",
    "print('Select Operation.')\n",
    "print('1.Add')\n",
    "print('2.Substract')\n",
    "print('3.Multiply')\n",
    "print('4.Divide')\n",
    "\n",
    "while True:\n",
    "    choice=input('Enter choice(1/2/3/4):')\n",
    "    if choice in ('1','2','3','4'):\n",
    "        try:\n",
    "            num1=float(input('Enter first number:'))\n",
    "            num2=float(input('Enter second number:'))\n",
    "        except ValueError:\n",
    "            print('Invalid input. Please enter a number.')\n",
    "            continue\n",
    "\n",
    "        if choice == '1':\n",
    "            print(num1,'+',num2, '=', add(num1,num2))\n",
    "        elif choice == '2':\n",
    "            print(num1,'-',num2, '=', substract(num1,num2))\n",
    "        elif choice == '3':\n",
    "            print(num1,'*',num2, '=', multiply(num1,num2))\n",
    "        elif choice == '4':\n",
    "            print(num1,'/',num2, '=', divide(num1,num2)) \n",
    "\n",
    "        next_calculation=input('Lets do next calculation ? (yes / no):')\n",
    "        if next_calculation=='no':\n",
    "            break\n",
    "    else:\n",
    "        print('Invalid Input')"
   ]
  },
  {
   "cell_type": "markdown",
   "id": "24232ff6-a878-49fa-a0de-447fa3c367db",
   "metadata": {},
   "source": [
    "### 2. WAP to find the factors of number"
   ]
  },
  {
   "cell_type": "code",
   "execution_count": 6,
   "id": "469af99c-5af7-49ea-8530-4289cad6568a",
   "metadata": {},
   "outputs": [
    {
     "name": "stdout",
     "output_type": "stream",
     "text": [
      "Factors of 26 are :\n",
      "1\n",
      "2\n",
      "13\n",
      "26\n"
     ]
    }
   ],
   "source": [
    "def print_factors(x):\n",
    "    print('Factors of',x,'are :')\n",
    "    for i in range(1,x+1):\n",
    "        if x%i ==0:\n",
    "            print(i)\n",
    "\n",
    "print_factors(26)"
   ]
  },
  {
   "cell_type": "markdown",
   "id": "b3e8e045-fb21-4884-9773-714ee8b07368",
   "metadata": {},
   "source": [
    "### 3. WAP to find ASCII value of charachter"
   ]
  },
  {
   "cell_type": "code",
   "execution_count": 23,
   "id": "2249b0b0-fa2a-4b6b-9647-4dbf8ec7e36e",
   "metadata": {},
   "outputs": [
    {
     "name": "stdout",
     "output_type": "stream",
     "text": [
      "ASCII value of A is 65\n",
      "ASCII value of a is 97\n",
      "ASCII value of J is 74\n",
      "ASCII value of j is 106\n"
     ]
    }
   ],
   "source": [
    "def ASCII_value(char):\n",
    "    print('ASCII value of' , char , 'is',ord(char))\n",
    "\n",
    "ASCII_value('A')\n",
    "ASCII_value('a')\n",
    "ASCII_value('J')\n",
    "ASCII_value('j')"
   ]
  },
  {
   "cell_type": "markdown",
   "id": "944914b2-9482-4a0a-9946-4358023ad877",
   "metadata": {},
   "source": [
    "### 4. WAP to find HCF "
   ]
  },
  {
   "cell_type": "code",
   "execution_count": 28,
   "id": "403c1598-5846-4461-bd71-e391ee7b85c8",
   "metadata": {},
   "outputs": [
    {
     "name": "stdout",
     "output_type": "stream",
     "text": [
      "The HCF is 6\n"
     ]
    }
   ],
   "source": [
    "def compute_HCF(x,y):\n",
    "    if x>y:\n",
    "        smaller=y\n",
    "    else:\n",
    "        smaller=x\n",
    "    for i in range(1,smaller+1):\n",
    "        if (x%i==0) and (y%i==0):\n",
    "            hcf=i\n",
    "    return hcf\n",
    "\n",
    "num1=54\n",
    "num2=24\n",
    "\n",
    "print('The HCF is', compute_HCF(num1,num2))"
   ]
  },
  {
   "cell_type": "markdown",
   "id": "23f57183-7b33-4088-a7bd-f402216edd72",
   "metadata": {},
   "source": [
    "### 5. WAP to find LCM"
   ]
  },
  {
   "cell_type": "code",
   "execution_count": 31,
   "id": "0a1bb278-77bb-45c6-a150-26ea295d45e2",
   "metadata": {},
   "outputs": [
    {
     "name": "stdout",
     "output_type": "stream",
     "text": [
      "The LCM is 84\n"
     ]
    }
   ],
   "source": [
    "def compute_LCM(x,y):\n",
    "    if x>y:\n",
    "        greater=x\n",
    "    else:\n",
    "        greater=y\n",
    "\n",
    "    while(True):\n",
    "        if (greater%x==0) and (greater%y==0):\n",
    "            lcm=greater\n",
    "            break\n",
    "        greater += 1  \n",
    "    return lcm\n",
    "\n",
    "num1=12\n",
    "num2=14\n",
    "\n",
    "print('The LCM is', compute_LCM(num1,num2))"
   ]
  },
  {
   "cell_type": "code",
   "execution_count": null,
   "id": "cff8e0aa-706f-4fa5-a56a-aff205e791be",
   "metadata": {},
   "outputs": [],
   "source": []
  }
 ],
 "metadata": {
  "kernelspec": {
   "display_name": "Python 3 (ipykernel)",
   "language": "python",
   "name": "python3"
  },
  "language_info": {
   "codemirror_mode": {
    "name": "ipython",
    "version": 3
   },
   "file_extension": ".py",
   "mimetype": "text/x-python",
   "name": "python",
   "nbconvert_exporter": "python",
   "pygments_lexer": "ipython3",
   "version": "3.12.4"
  }
 },
 "nbformat": 4,
 "nbformat_minor": 5
}
